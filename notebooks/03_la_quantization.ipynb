{
 "cells": [
  {
   "cell_type": "code",
   "execution_count": null,
   "metadata": {},
   "outputs": [],
   "source": [
    "from transformers import AutoTokenizer, AutoModelForCausalLM, BitsAndBytesConfig, pipeline\n",
    "import torch\n",
    "\n",
    "from datetime import datetime\n",
    "import json\n",
    "\n",
    "from os import listdir, getenv\n",
    "\n",
    "from sentence_transformers import SentenceTransformer"
   ]
  },
  {
   "cell_type": "code",
   "execution_count": null,
   "metadata": {},
   "outputs": [],
   "source": [
    "hf_token = getenv(\"HF_TOKEN\")"
   ]
  },
  {
   "cell_type": "code",
   "execution_count": null,
   "metadata": {},
   "outputs": [],
   "source": [
    "model_id = \"microsoft/Phi-3-mini-4k-instruct\"\n",
    "\n",
    "# Quantization configuration\n",
    "bnb_config = BitsAndBytesConfig(\n",
    "    load_in_4bit=True,\n",
    "    bnb_4bit_use_double_quant=True,\n",
    "    bnb_4bit_quant_type=\"nf4\",\n",
    "    bnb_4bit_compute_dtype=torch.bfloat16\n",
    ")\n",
    "\n",
    "# Load the model with quantization\n",
    "model = AutoModelForCausalLM.from_pretrained(\n",
    "    model_id,\n",
    "    quantization_config=bnb_config,\n",
    "    device_map=\"auto\",\n",
    "    trust_remote_code=True,\n",
    ")\n",
    "\n",
    "# Load the tokenizer\n",
    "tokenizer = AutoTokenizer.from_pretrained(model_id, trust_remote_code=True)"
   ]
  },
  {
   "cell_type": "code",
   "execution_count": null,
   "metadata": {},
   "outputs": [],
   "source": []
  },
  {
   "cell_type": "code",
   "execution_count": null,
   "metadata": {},
   "outputs": [],
   "source": [
    "messages = [ \n",
    "    {\"role\": \"system\", \"content\": \"You are a helpful AI assistant.\"}, \n",
    "    {\"role\": \"user\", \"content\": \"Can you provide ways to eat combinations of bananas and dragonfruits?\"}, \n",
    "    {\"role\": \"assistant\", \"content\": \"Sure! Here are some ways to eat bananas and dragonfruits together: 1. Banana and dragonfruit smoothie: Blend bananas and dragonfruits together with some milk and honey. 2. Banana and dragonfruit salad: Mix sliced bananas and dragonfruits together with some lemon juice and honey.\"}, \n",
    "    {\"role\": \"user\", \"content\": \"What about solving an 2x + 3 = 7 equation?\"}, \n",
    "] \n",
    "\n",
    "pipe = pipeline( \n",
    "    \"text-generation\", \n",
    "    model=model, \n",
    "    tokenizer=tokenizer, \n",
    ") \n",
    "\n",
    "generation_args = { \n",
    "    \"max_new_tokens\": 500, \n",
    "    \"return_full_text\": False, \n",
    "    \"temperature\": 0.0, \n",
    "    \"do_sample\": False, \n",
    "} \n",
    "\n",
    "output = pipe(messages, **generation_args) \n",
    "print(output[0]['generated_text']) "
   ]
  },
  {
   "cell_type": "code",
   "execution_count": null,
   "metadata": {},
   "outputs": [],
   "source": []
  },
  {
   "cell_type": "code",
   "execution_count": null,
   "metadata": {},
   "outputs": [],
   "source": []
  },
  {
   "cell_type": "code",
   "execution_count": null,
   "metadata": {},
   "outputs": [],
   "source": [
    "model_name = \"microsoft/Phi-3-mini-4k-instruct\"\n",
    "# model_name = \"meta-llama/Meta-Llama-3-8B-Instruct\"\n",
    "# model_name = \"gpt2-large\"\n",
    "\n",
    "model = HookedTransformer.from_pretrained(model_name=model_name, device=device)"
   ]
  },
  {
   "cell_type": "code",
   "execution_count": null,
   "metadata": {},
   "outputs": [],
   "source": [
    "prompt = \"\"\"\n",
    "Write a short blog post about a recipe and the inspiration behind it.\n",
    " Do not include a title.\n",
    " Only reveal the dish after the story.\n",
    " Start with a one, two or three paragraph story and then move to the recipe.\n",
    " To re-iterate, do not include a title.\n",
    "\"\"\".replace(\n",
    "    \"\\n\", \"\"\n",
    ")\n",
    "\n",
    "start = \"\"\"\n",
    "The recipe I’m sharing today is an amalgamation of my grandmother's traditional Italian pasta dish and my\n",
    " recent trip to Italy. \n",
    "<br><br>\n",
    "My grandmother, Nonna Maria, always made the most delicious pasta. We would gather around the table,\n",
    " eagerly awaiting the rich aroma that filled our kitchen every time she prepared her signature dish.\n",
    " The scent would always linger in the air, as if it was a promise of the warmth and love that accompanied\n",
    " each bite. \n",
    "<br><br>\n",
    "When I travelled to Italy, I was determined to recreate the dish to the best of my abilities. I spent hours\n",
    " exploring the bustling markets, indulging in the local cuisine, and soaking up the vibrant culture.\n",
    " Every meal was an experience, and I was eager to incorporate the flavors and techniques I learned into\n",
    " my recipe.\n",
    "<br><br>\n",
    "After returning home, I sat down to deconstruct the dish and rebuild it in my kitchen. I started with\n",
    " the pasta, carefully selecting the perfect type of wheat and rolling it out to the perfect thickness.\n",
    " The sauce was a blend of traditional Italian ingredients, infused with my unique twist. The result was\n",
    " a dish that not only brought back cherished memories but also embodied the spirit of my journey through\n",
    " Italy.\n",
    "<br><br>\n",
    "\"\"\".replace(\"\\n\",\"\").replace(\"<br>\", \"\\n\")\n",
    "\n",
    "print(prompt)\n",
    "print('='*10)\n",
    "print(start)"
   ]
  },
  {
   "cell_type": "code",
   "execution_count": null,
   "metadata": {},
   "outputs": [],
   "source": [
    "temperature = 0.7\n",
    "\n",
    "for _ in range(5):\n",
    "    output = model.generate(\n",
    "        input=prompt + \"\\n\\n\" + start,\n",
    "        max_new_tokens=150,\n",
    "        temperature=temperature,\n",
    "        prepend_bos=False,\n",
    "    )\n",
    "\n",
    "    # export output to json file, also tracking choices made\n",
    "    current_time = datetime.now().strftime(\"%Y-%m-%d_%H-%M-%S\")\n",
    "\n",
    "    path_to_export = f\"../results/{current_time}.json\"\n",
    "\n",
    "    # Create a dictionary with the data to be written to the JSON file\n",
    "    data = {\n",
    "        \"model\": model_name,\n",
    "        \"temperature\": temperature,\n",
    "        \"prompt\": prompt,\n",
    "        \"start\": start,\n",
    "        \"output\": output,\n",
    "    }\n",
    "\n",
    "    # Open the file in write mode and write the data as JSON\n",
    "    with open(path_to_export, \"w\") as file:\n",
    "        json.dump(data, file, indent=4)"
   ]
  },
  {
   "cell_type": "code",
   "execution_count": null,
   "metadata": {},
   "outputs": [],
   "source": [
    "print(output)"
   ]
  },
  {
   "cell_type": "code",
   "execution_count": null,
   "metadata": {},
   "outputs": [],
   "source": []
  },
  {
   "cell_type": "markdown",
   "metadata": {},
   "source": [
    "## Load results from JSON files"
   ]
  },
  {
   "cell_type": "code",
   "execution_count": null,
   "metadata": {},
   "outputs": [],
   "source": [
    "# load results from json files\n",
    "files = listdir(\"../results\")\n",
    "files = [file for file in files if file.startswith(\"2024-07-10\")]\n",
    "\n",
    "for file in files:\n",
    "    print(file)"
   ]
  },
  {
   "cell_type": "code",
   "execution_count": null,
   "metadata": {},
   "outputs": [],
   "source": [
    "results = []\n",
    "\n",
    "for file in files:\n",
    "    with open(f\"../results/{file}\", \"r\") as f:\n",
    "        results.append(json.load(f))\n",
    "\n",
    "results[0]"
   ]
  },
  {
   "cell_type": "code",
   "execution_count": null,
   "metadata": {},
   "outputs": [],
   "source": [
    "outputs = [r[\"output\"][len(r[\"prompt\"])+len(r[\"start\"])+2:] for r in results]\n",
    "outputs[0]"
   ]
  },
  {
   "cell_type": "code",
   "execution_count": null,
   "metadata": {},
   "outputs": [],
   "source": [
    "model = SentenceTransformer(\"all-MiniLM-L6-v2\")\n",
    "\n",
    "# Calculate embeddings by calling model.encode()\n",
    "embeddings = model.encode(outputs)\n",
    "print(embeddings.shape)\n",
    "\n",
    "# Calculate the embedding similarities\n",
    "similarities = model.similarity(embeddings, embeddings)\n",
    "print(similarities)"
   ]
  },
  {
   "cell_type": "code",
   "execution_count": null,
   "metadata": {},
   "outputs": [],
   "source": []
  }
 ],
 "metadata": {
  "kernelspec": {
   "display_name": ".venv",
   "language": "python",
   "name": "python3"
  },
  "language_info": {
   "codemirror_mode": {
    "name": "ipython",
    "version": 3
   },
   "file_extension": ".py",
   "mimetype": "text/x-python",
   "name": "python",
   "nbconvert_exporter": "python",
   "pygments_lexer": "ipython3",
   "version": "3.10.14"
  }
 },
 "nbformat": 4,
 "nbformat_minor": 2
}
