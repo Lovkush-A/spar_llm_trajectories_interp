{
 "cells": [
  {
   "cell_type": "code",
   "execution_count": 2,
   "metadata": {},
   "outputs": [
    {
     "name": "stderr",
     "output_type": "stream",
     "text": [
      "/workspace/SPAR/interp-la/.venv/lib/python3.10/site-packages/sentence_transformers/cross_encoder/CrossEncoder.py:11: TqdmWarning: IProgress not found. Please update jupyter and ipywidgets. See https://ipywidgets.readthedocs.io/en/stable/user_install.html\n",
      "  from tqdm.autonotebook import tqdm, trange\n"
     ]
    }
   ],
   "source": [
    "from datetime import datetime\n",
    "import json\n",
    "from os import listdir\n",
    "from os.path import exists\n",
    "\n",
    "import numpy as np\n",
    "import pandas as pd\n",
    "from sentence_transformers import SentenceTransformer\n",
    "from sklearn.decomposition import PCA\n",
    "import torch\n",
    "from transformers import (\n",
    "    AutoTokenizer,\n",
    "    AutoModelForCausalLM,\n",
    "    BitsAndBytesConfig,\n",
    "    pipeline,\n",
    ")"
   ]
  },
  {
   "cell_type": "markdown",
   "metadata": {},
   "source": [
    "## Utils"
   ]
  },
  {
   "cell_type": "code",
   "execution_count": 3,
   "metadata": {},
   "outputs": [],
   "source": [
    "def create_jsonl_file(data: list[dict], file: str) -> None:\n",
    "    with open(file, \"w\") as f:\n",
    "        for item in data:\n",
    "            json_line = json.dumps(item)\n",
    "            f.write(json_line + \"\\n\")\n",
    "\n",
    "\n",
    "def load_jsonl_file(file: str) -> list[dict]:\n",
    "    data = []\n",
    "    with open(file, \"r\") as f:\n",
    "        for line in f:\n",
    "            data.append(json.loads(line.strip()))\n",
    "    return data"
   ]
  },
  {
   "cell_type": "markdown",
   "metadata": {},
   "source": [
    "## Load model"
   ]
  },
  {
   "cell_type": "code",
   "execution_count": 4,
   "metadata": {},
   "outputs": [],
   "source": [
    "model_id = \"microsoft/Phi-3-mini-4k-instruct\"\n",
    "\n",
    "# Quantization configuration\n",
    "bnb_config = BitsAndBytesConfig(\n",
    "    load_in_4bit=True,\n",
    "    bnb_4bit_use_double_quant=True,\n",
    "    bnb_4bit_quant_type=\"nf4\",\n",
    "    bnb_4bit_compute_dtype=torch.bfloat16,\n",
    ")"
   ]
  },
  {
   "cell_type": "code",
   "execution_count": 5,
   "metadata": {},
   "outputs": [
    {
     "name": "stderr",
     "output_type": "stream",
     "text": [
      "`flash-attention` package not found, consider installing for better performance: No module named 'flash_attn'.\n",
      "Current `flash-attention` does not support `window_size`. Either upgrade or use `attn_implementation='eager'`.\n",
      "Loading checkpoint shards: 100%|██████████| 2/2 [00:06<00:00,  3.41s/it]\n",
      "Special tokens have been added in the vocabulary, make sure the associated word embeddings are fine-tuned or trained.\n"
     ]
    },
    {
     "data": {
      "text/plain": [
       "device(type='cuda', index=0)"
      ]
     },
     "execution_count": 5,
     "metadata": {},
     "output_type": "execute_result"
    }
   ],
   "source": [
    "# Load the model with quantization\n",
    "model = AutoModelForCausalLM.from_pretrained(\n",
    "    model_id,\n",
    "    quantization_config=bnb_config,\n",
    "    device_map=\"auto\",\n",
    "    trust_remote_code=True,\n",
    ")\n",
    "\n",
    "# Load the tokenizer\n",
    "tokenizer = AutoTokenizer.from_pretrained(model_id, trust_remote_code=True)\n",
    "\n",
    "# check device\n",
    "model.device"
   ]
  },
  {
   "cell_type": "markdown",
   "metadata": {},
   "source": [
    "## Create text to continued by model"
   ]
  },
  {
   "cell_type": "code",
   "execution_count": 6,
   "metadata": {},
   "outputs": [
    {
     "name": "stdout",
     "output_type": "stream",
     "text": [
      "\n",
      "<|system|>\n",
      "You are a helpful assistant.<|end|>\n",
      "<|user|>\n",
      "Write a short blog post about a recipe and the inspiration behind it. Do not include a title. Only reveal the dish after the story. Start with short story and then move to the recipe. To re-iterate, do not include a title.<|end|>\n",
      "<|assistant|>\n",
      "\" Once upon a time, in a quaint little village nestled between rolling hills and verdant fields, there lived an elderly woman named Agnes. Agnes was known for her warm smile and her legendary Sunday dinners that brought the entire neighborhood together. Her recipes were family heirlooms, passed down through generations, with each family adding their own touch to the final dish.\n",
      "\n",
      "One crisp autumn evening, Agnes was reminiscing about her childhood, and how her grandmother used to gather everyone around the dinner table, sharing stories and laughter. These were the moments that shaped her, the memories that she passed on to her own children and grandchildren.\n",
      "\n",
      "Inspired by her grandmother's legacy, Agnes decided to create a new dish that would encapsulate the essence of those cherished gatherings. She wanted something that was comforting and nourishing, a dish that could be prepared with love and shared with others. After days of experimentation, she finally created a recipe that she believed truly captured the spirit of her family's Sunday dinners.\n",
      "\n",
      "**Agnes's\n",
      "\n"
     ]
    }
   ],
   "source": [
    "phi3_template = \"\"\"\n",
    "<|system|>\n",
    "You are a helpful assistant.<|end|>\n",
    "<|user|>\n",
    "{prompt}<|end|>\n",
    "<|assistant|>\n",
    "{start}\n",
    "\"\"\"\n",
    "\n",
    "prompt = \"\"\"\n",
    "Write a short blog post about a recipe and the inspiration behind it.\n",
    " Do not include a title.\n",
    " Only reveal the dish after the story.\n",
    " Start with short story and then move to the recipe.\n",
    " To re-iterate, do not include a title.\n",
    "\"\"\".replace(\n",
    "    \"\\n\", \"\"\n",
    ")\n",
    "\n",
    "start = \"\"\"\n",
    "\" Once upon a time, in a quaint little village nestled between rolling hills and verdant fields,\n",
    " there lived an elderly woman named Agnes. Agnes was known for her warm smile and her legendary\n",
    " Sunday dinners that brought the entire neighborhood together. Her recipes were family heirlooms,\n",
    " passed down through generations, with each family adding their own touch to the final dish.\n",
    "<br><br>\n",
    "One crisp autumn evening, Agnes was reminiscing about her childhood, and how her grandmother used\n",
    " to gather everyone around the dinner table, sharing stories and laughter. These were the moments\n",
    " that shaped her, the memories that she passed on to her own children and grandchildren.\n",
    "<br><br>\n",
    "Inspired by her grandmother's legacy, Agnes decided to create a new dish that would encapsulate\n",
    " the essence of those cherished gatherings. She wanted something that was comforting and nourishing,\n",
    " a dish that could be prepared with love and shared with others. After days of experimentation, she\n",
    " finally created a recipe that she believed truly captured the spirit of her family's Sunday dinners.\n",
    "<br><br>\n",
    "**Agnes's\n",
    "\"\"\".replace(\n",
    "    \"\\n\", \"\"\n",
    ").replace(\n",
    "    \"<br>\", \"\\n\"\n",
    ")\n",
    "\n",
    "# start = \"\"\n",
    "\n",
    "text = phi3_template.format(\n",
    "    prompt=prompt,\n",
    "    start=start,\n",
    ")\n",
    "\n",
    "print(text)"
   ]
  },
  {
   "cell_type": "markdown",
   "metadata": {},
   "source": [
    "## Test by generating once"
   ]
  },
  {
   "cell_type": "code",
   "execution_count": null,
   "metadata": {},
   "outputs": [],
   "source": [
    "generator = pipeline(task=\"text-generation\", model=model, tokenizer=tokenizer)\n",
    "\n",
    "temperature = 0.2\n",
    "\n",
    "generation_args = {\n",
    "    \"max_new_tokens\": 200,\n",
    "    \"return_full_text\": False,\n",
    "    \"temperature\": temperature,\n",
    "    \"do_sample\": True,\n",
    "}\n",
    "\n",
    "output = generator(text, **generation_args)"
   ]
  },
  {
   "cell_type": "code",
   "execution_count": null,
   "metadata": {},
   "outputs": [],
   "source": [
    "print(output[0][\"generated_text\"])"
   ]
  },
  {
   "cell_type": "markdown",
   "metadata": {},
   "source": [
    "## Generate many samples and save in jsonl"
   ]
  },
  {
   "cell_type": "code",
   "execution_count": 8,
   "metadata": {},
   "outputs": [],
   "source": [
    "max_new_tokens = 200\n",
    "generator = pipeline(task=\"text-generation\", model=model, tokenizer=tokenizer)\n",
    "current_time = datetime.now().strftime(\"%Y-%m-%d_%H-%M-%S\")\n",
    "# filename = f\"../results/{current_time}_agnes_story.jsonl\"\n",
    "filename = f\"../results/2024-07-13_18-04-11_agnes_story.jsonl\"\n",
    "\n",
    "# create filename if not exists\n",
    "if not exists(filename):\n",
    "    with open(filename, \"w\") as f:\n",
    "        pass\n",
    "\n",
    "for temperature in [2.0]:\n",
    "    if temperature == 0:\n",
    "        generation_args = {\n",
    "            \"max_new_tokens\": max_new_tokens,\n",
    "            \"return_full_text\": False,\n",
    "            \"do_sample\": False,\n",
    "        }\n",
    "        n_generations = 1\n",
    "    else:\n",
    "        generation_args = {\n",
    "            \"max_new_tokens\": max_new_tokens,\n",
    "            \"return_full_text\": False,\n",
    "            \"temperature\": temperature,\n",
    "            \"do_sample\": True,\n",
    "        }\n",
    "        n_generations = 20\n",
    "    for _ in range(n_generations):\n",
    "        output = generator(text, **generation_args)\n",
    "\n",
    "        data = {\n",
    "            \"model\": model_id,\n",
    "            \"temperature\": temperature,\n",
    "            \"max_new_tokens\": max_new_tokens,\n",
    "            \"prompt\": prompt,\n",
    "            \"start\": start,\n",
    "            \"output\": output[0][\"generated_text\"],\n",
    "        }\n",
    "\n",
    "        with open(filename, \"a\") as file:\n",
    "            file.write(json.dumps(data) + \"\\n\")"
   ]
  },
  {
   "cell_type": "markdown",
   "metadata": {},
   "source": [
    "## Load and analyze results from jsonl files\n",
    "\n",
    "### Load results"
   ]
  },
  {
   "cell_type": "code",
   "execution_count": 9,
   "metadata": {},
   "outputs": [
    {
     "name": "stdout",
     "output_type": "stream",
     "text": [
      "2024-07-13_18-04-11_agnes_story.jsonl\n",
      "2024-07-13_08-31_story_creation.jsonl\n"
     ]
    }
   ],
   "source": [
    "# load results from json files\n",
    "files = listdir(\"../results\")\n",
    "\n",
    "for file in files:\n",
    "    print(file)"
   ]
  },
  {
   "cell_type": "code",
   "execution_count": 10,
   "metadata": {},
   "outputs": [
    {
     "data": {
      "text/html": [
       "<div>\n",
       "<style scoped>\n",
       "    .dataframe tbody tr th:only-of-type {\n",
       "        vertical-align: middle;\n",
       "    }\n",
       "\n",
       "    .dataframe tbody tr th {\n",
       "        vertical-align: top;\n",
       "    }\n",
       "\n",
       "    .dataframe thead th {\n",
       "        text-align: right;\n",
       "    }\n",
       "</style>\n",
       "<table border=\"1\" class=\"dataframe\">\n",
       "  <thead>\n",
       "    <tr style=\"text-align: right;\">\n",
       "      <th></th>\n",
       "      <th>model</th>\n",
       "      <th>temperature</th>\n",
       "      <th>max_new_tokens</th>\n",
       "      <th>prompt</th>\n",
       "      <th>start</th>\n",
       "      <th>output</th>\n",
       "    </tr>\n",
       "  </thead>\n",
       "  <tbody>\n",
       "    <tr>\n",
       "      <th>0</th>\n",
       "      <td>microsoft/Phi-3-mini-4k-instruct</td>\n",
       "      <td>0.8</td>\n",
       "      <td>200</td>\n",
       "      <td>Write a short blog post about a recipe and the...</td>\n",
       "      <td>\" Once upon a time, in a quaint little village...</td>\n",
       "      <td>\\nHeritage Roast Chicken with Root Vegetables*...</td>\n",
       "    </tr>\n",
       "    <tr>\n",
       "      <th>1</th>\n",
       "      <td>microsoft/Phi-3-mini-4k-instruct</td>\n",
       "      <td>0.4</td>\n",
       "      <td>200</td>\n",
       "      <td>Write a short blog post about a recipe and the...</td>\n",
       "      <td>\" Once upon a time, in a quaint little village...</td>\n",
       "      <td>\\nComforting Chicken and Vegetable Stew**\\n\\nI...</td>\n",
       "    </tr>\n",
       "    <tr>\n",
       "      <th>2</th>\n",
       "      <td>microsoft/Phi-3-mini-4k-instruct</td>\n",
       "      <td>0.2</td>\n",
       "      <td>200</td>\n",
       "      <td>Write a short blog post about a recipe and the...</td>\n",
       "      <td>\" Once upon a time, in a quaint little village...</td>\n",
       "      <td>\\nAgnes's Sunday Dinner Delight**\\n\\nIngredien...</td>\n",
       "    </tr>\n",
       "    <tr>\n",
       "      <th>3</th>\n",
       "      <td>microsoft/Phi-3-mini-4k-instruct</td>\n",
       "      <td>1.0</td>\n",
       "      <td>200</td>\n",
       "      <td>Write a short blog post about a recipe and the...</td>\n",
       "      <td>\" Once upon a time, in a quaint little village...</td>\n",
       "      <td>Golden Mashed Sweet Potatoes**</td>\n",
       "    </tr>\n",
       "    <tr>\n",
       "      <th>4</th>\n",
       "      <td>microsoft/Phi-3-mini-4k-instruct</td>\n",
       "      <td>0.2</td>\n",
       "      <td>200</td>\n",
       "      <td>Write a short blog post about a recipe and the...</td>\n",
       "      <td>\" Once upon a time, in a quaint little village...</td>\n",
       "      <td>\\nAgnes's Sunday Dinner: Roasted Chicken with ...</td>\n",
       "    </tr>\n",
       "  </tbody>\n",
       "</table>\n",
       "</div>"
      ],
      "text/plain": [
       "                              model  temperature  max_new_tokens  \\\n",
       "0  microsoft/Phi-3-mini-4k-instruct          0.8             200   \n",
       "1  microsoft/Phi-3-mini-4k-instruct          0.4             200   \n",
       "2  microsoft/Phi-3-mini-4k-instruct          0.2             200   \n",
       "3  microsoft/Phi-3-mini-4k-instruct          1.0             200   \n",
       "4  microsoft/Phi-3-mini-4k-instruct          0.2             200   \n",
       "\n",
       "                                              prompt  \\\n",
       "0  Write a short blog post about a recipe and the...   \n",
       "1  Write a short blog post about a recipe and the...   \n",
       "2  Write a short blog post about a recipe and the...   \n",
       "3  Write a short blog post about a recipe and the...   \n",
       "4  Write a short blog post about a recipe and the...   \n",
       "\n",
       "                                               start  \\\n",
       "0  \" Once upon a time, in a quaint little village...   \n",
       "1  \" Once upon a time, in a quaint little village...   \n",
       "2  \" Once upon a time, in a quaint little village...   \n",
       "3  \" Once upon a time, in a quaint little village...   \n",
       "4  \" Once upon a time, in a quaint little village...   \n",
       "\n",
       "                                              output  \n",
       "0  \\nHeritage Roast Chicken with Root Vegetables*...  \n",
       "1  \\nComforting Chicken and Vegetable Stew**\\n\\nI...  \n",
       "2  \\nAgnes's Sunday Dinner Delight**\\n\\nIngredien...  \n",
       "3                     Golden Mashed Sweet Potatoes**  \n",
       "4  \\nAgnes's Sunday Dinner: Roasted Chicken with ...  "
      ]
     },
     "execution_count": 10,
     "metadata": {},
     "output_type": "execute_result"
    }
   ],
   "source": [
    "filepath = \"../results/2024-07-13_18-04-11_agnes_story.jsonl\"\n",
    "results_df = pd.read_json(filepath, lines=True)\n",
    "results_df.head()"
   ]
  },
  {
   "cell_type": "markdown",
   "metadata": {},
   "source": [
    "### Apply sentence embedding"
   ]
  },
  {
   "cell_type": "code",
   "execution_count": 11,
   "metadata": {},
   "outputs": [
    {
     "name": "stdout",
     "output_type": "stream",
     "text": [
      "(236, 384)\n"
     ]
    }
   ],
   "source": [
    "model = SentenceTransformer(\"all-MiniLM-L6-v2\")\n",
    "embeddings = model.encode(results_df[\"output\"].to_list())\n",
    "print(embeddings.shape)"
   ]
  },
  {
   "cell_type": "code",
   "execution_count": 12,
   "metadata": {},
   "outputs": [
    {
     "data": {
      "text/html": [
       "<div>\n",
       "<style scoped>\n",
       "    .dataframe tbody tr th:only-of-type {\n",
       "        vertical-align: middle;\n",
       "    }\n",
       "\n",
       "    .dataframe tbody tr th {\n",
       "        vertical-align: top;\n",
       "    }\n",
       "\n",
       "    .dataframe thead th {\n",
       "        text-align: right;\n",
       "    }\n",
       "</style>\n",
       "<table border=\"1\" class=\"dataframe\">\n",
       "  <thead>\n",
       "    <tr style=\"text-align: right;\">\n",
       "      <th></th>\n",
       "      <th>model</th>\n",
       "      <th>temperature</th>\n",
       "      <th>max_new_tokens</th>\n",
       "      <th>prompt</th>\n",
       "      <th>start</th>\n",
       "      <th>output</th>\n",
       "      <th>embeddings</th>\n",
       "    </tr>\n",
       "  </thead>\n",
       "  <tbody>\n",
       "    <tr>\n",
       "      <th>0</th>\n",
       "      <td>microsoft/Phi-3-mini-4k-instruct</td>\n",
       "      <td>0.8</td>\n",
       "      <td>200</td>\n",
       "      <td>Write a short blog post about a recipe and the...</td>\n",
       "      <td>\" Once upon a time, in a quaint little village...</td>\n",
       "      <td>\\nHeritage Roast Chicken with Root Vegetables*...</td>\n",
       "      <td>[-0.0034415950067341328, -0.023009391501545906...</td>\n",
       "    </tr>\n",
       "    <tr>\n",
       "      <th>1</th>\n",
       "      <td>microsoft/Phi-3-mini-4k-instruct</td>\n",
       "      <td>0.4</td>\n",
       "      <td>200</td>\n",
       "      <td>Write a short blog post about a recipe and the...</td>\n",
       "      <td>\" Once upon a time, in a quaint little village...</td>\n",
       "      <td>\\nComforting Chicken and Vegetable Stew**\\n\\nI...</td>\n",
       "      <td>[-0.026234900578856468, -0.006930043920874596,...</td>\n",
       "    </tr>\n",
       "    <tr>\n",
       "      <th>2</th>\n",
       "      <td>microsoft/Phi-3-mini-4k-instruct</td>\n",
       "      <td>0.2</td>\n",
       "      <td>200</td>\n",
       "      <td>Write a short blog post about a recipe and the...</td>\n",
       "      <td>\" Once upon a time, in a quaint little village...</td>\n",
       "      <td>\\nAgnes's Sunday Dinner Delight**\\n\\nIngredien...</td>\n",
       "      <td>[0.0003854652459267527, 0.025976361706852913, ...</td>\n",
       "    </tr>\n",
       "    <tr>\n",
       "      <th>3</th>\n",
       "      <td>microsoft/Phi-3-mini-4k-instruct</td>\n",
       "      <td>1.0</td>\n",
       "      <td>200</td>\n",
       "      <td>Write a short blog post about a recipe and the...</td>\n",
       "      <td>\" Once upon a time, in a quaint little village...</td>\n",
       "      <td>Golden Mashed Sweet Potatoes**</td>\n",
       "      <td>[0.017272798344492912, -0.016275012865662575, ...</td>\n",
       "    </tr>\n",
       "    <tr>\n",
       "      <th>4</th>\n",
       "      <td>microsoft/Phi-3-mini-4k-instruct</td>\n",
       "      <td>0.2</td>\n",
       "      <td>200</td>\n",
       "      <td>Write a short blog post about a recipe and the...</td>\n",
       "      <td>\" Once upon a time, in a quaint little village...</td>\n",
       "      <td>\\nAgnes's Sunday Dinner: Roasted Chicken with ...</td>\n",
       "      <td>[-0.018565285950899124, 0.038250308483839035, ...</td>\n",
       "    </tr>\n",
       "  </tbody>\n",
       "</table>\n",
       "</div>"
      ],
      "text/plain": [
       "                              model  temperature  max_new_tokens  \\\n",
       "0  microsoft/Phi-3-mini-4k-instruct          0.8             200   \n",
       "1  microsoft/Phi-3-mini-4k-instruct          0.4             200   \n",
       "2  microsoft/Phi-3-mini-4k-instruct          0.2             200   \n",
       "3  microsoft/Phi-3-mini-4k-instruct          1.0             200   \n",
       "4  microsoft/Phi-3-mini-4k-instruct          0.2             200   \n",
       "\n",
       "                                              prompt  \\\n",
       "0  Write a short blog post about a recipe and the...   \n",
       "1  Write a short blog post about a recipe and the...   \n",
       "2  Write a short blog post about a recipe and the...   \n",
       "3  Write a short blog post about a recipe and the...   \n",
       "4  Write a short blog post about a recipe and the...   \n",
       "\n",
       "                                               start  \\\n",
       "0  \" Once upon a time, in a quaint little village...   \n",
       "1  \" Once upon a time, in a quaint little village...   \n",
       "2  \" Once upon a time, in a quaint little village...   \n",
       "3  \" Once upon a time, in a quaint little village...   \n",
       "4  \" Once upon a time, in a quaint little village...   \n",
       "\n",
       "                                              output  \\\n",
       "0  \\nHeritage Roast Chicken with Root Vegetables*...   \n",
       "1  \\nComforting Chicken and Vegetable Stew**\\n\\nI...   \n",
       "2  \\nAgnes's Sunday Dinner Delight**\\n\\nIngredien...   \n",
       "3                     Golden Mashed Sweet Potatoes**   \n",
       "4  \\nAgnes's Sunday Dinner: Roasted Chicken with ...   \n",
       "\n",
       "                                          embeddings  \n",
       "0  [-0.0034415950067341328, -0.023009391501545906...  \n",
       "1  [-0.026234900578856468, -0.006930043920874596,...  \n",
       "2  [0.0003854652459267527, 0.025976361706852913, ...  \n",
       "3  [0.017272798344492912, -0.016275012865662575, ...  \n",
       "4  [-0.018565285950899124, 0.038250308483839035, ...  "
      ]
     },
     "execution_count": 12,
     "metadata": {},
     "output_type": "execute_result"
    }
   ],
   "source": [
    "results_df[\"embeddings\"] = embeddings.tolist()\n",
    "results_df.head()"
   ]
  },
  {
   "cell_type": "markdown",
   "metadata": {},
   "source": [
    "### Carry out dimension reduction and visualize"
   ]
  },
  {
   "cell_type": "code",
   "execution_count": 18,
   "metadata": {},
   "outputs": [
    {
     "name": "stdout",
     "output_type": "stream",
     "text": [
      "(236, 2)\n"
     ]
    },
    {
     "data": {
      "application/vnd.plotly.v1+json": {
       "config": {
        "plotlyServerURL": "https://plot.ly"
       },
       "data": [
        {
         "customdata": [
          [
           0.8,
           "\nHeritage Roast Chicken with Root Vegetables**\n\n*I"
          ],
          [
           0.4,
           "\nComforting Chicken and Vegetable Stew**\n\nIngredie"
          ],
          [
           0.2,
           "\nAgnes's Sunday Dinner Delight**\n\nIngredients:\n\n- "
          ],
          [
           1,
           "Golden Mashed Sweet Potatoes**"
          ],
          [
           0.2,
           "\nAgnes's Sunday Dinner: Roasted Chicken with Herb-"
          ],
          [
           0.2,
           "\n**Agnes's Sunday Dinner Delight**\n\nIngredients:\n\n"
          ],
          [
           1,
           "Creamy Chicken and Wild Rice Soup**\n\n_Ingredients:"
          ],
          [
           0.8,
           "\nSunday Dinner Recipe**\n\nIngredients:\n- 1 pound of"
          ],
          [
           1,
           "\nCherished Sunday Roast**"
          ],
          [
           1,
           "Legacy Roast Chicken**\n\nIngredients:\n- 1 whole chi"
          ],
          [
           0.4,
           "\n**Agnes's Roasted Chicken with Herb-Infused Gravy"
          ],
          [
           0.8,
           "\n**Creative Sunday Dinner:**\n\n*Ingredients:*\n- 2 c"
          ],
          [
           0.6000000000000001,
           "\nAgnes's Sunday Roast:**\n\n1. Begin by selecting th"
          ],
          [
           0.8,
           "\nComforting Butternut Squash Risotto**\n\n*Ingredien"
          ],
          [
           0.2,
           "\n**Agnes's Hearty Vegetable Stew**\n\nIngredients:\n\n"
          ],
          [
           0.2,
           "\nComforting Chicken and Vegetable Stew**\n\nIngredie"
          ],
          [
           0.2,
           "\n**Agnes's Hearty Vegetable Stew**\n\n*Ingredients:*"
          ],
          [
           0.8,
           "\nClassic Beef Stew with Root Vegetables**\n\nIngredi"
          ],
          [
           0.2,
           "\n**Agnes's Hearty Chicken and Vegetable Stew**\n\nIn"
          ],
          [
           0.2,
           "\n**Agnes's Hearty Vegetable Stew**\n\nIngredients:\n\n"
          ],
          [
           1,
           "\n**Sunday Potluck Stew - A Hearty Delicacy**\n\n**In"
          ],
          [
           1,
           "Her Hearty Vegetable Stew**\""
          ],
          [
           0.6000000000000001,
           "\n\n**Chicken and Vegetable Pot Pie**\n\n\nIngredients:"
          ],
          [
           0.4,
           "\nComforting Chicken and Dumpl0n**\n\nIngredients:\n- "
          ],
          [
           0.2,
           "\nComforting Chicken and Dumpl0n**\n\nIngredients:\n\n-"
          ],
          [
           0.2,
           "\n**Agnes's Sunday Dinner Delight**\n\n*Ingredients:*"
          ],
          [
           0.6000000000000001,
           "\nCreamy Butternut Squash Risotto**\n\nIngredients:\n\n"
          ],
          [
           1,
           "\nComforting Beef Stew**\n\nIngredients:\n\n\n- 2 pounds"
          ],
          [
           0.2,
           "\nComforting Chicken and Vegetable Stew**\n\nIngredie"
          ],
          [
           0.4,
           "\n**Ingredients:**\n\n- 1 lb. ground beef\n- 1 medium "
          ],
          [
           0.6000000000000001,
           "\nAgnes's Roasted Chicken with Herbed Potatoes**\n\n*"
          ],
          [
           0.8,
           "\nComforting Chicken Noodle Soup**\n\n*Ingredients:*\n"
          ],
          [
           0.2,
           "\n**Agnes's Sunday Roast**\n\nIngredients:\n\n- 1 whole"
          ],
          [
           1,
           "Sunday Dinner Pasta Primavera**\n\nIngredients:\n\n- 8"
          ],
          [
           0.8,
           "Classic Butternut Squash and Chicken Soup**\n\nIngre"
          ],
          [
           0.6000000000000001,
           "\n**Roast Chicken with Herbed Butter and Roasted Ve"
          ],
          [
           0.2,
           "\nComforting Chicken and Dumpl0n**\n\nIngredients:\n\n-"
          ],
          [
           0.8,
           "\nHer Garden-Fresh Vegetable Stew**"
          ],
          [
           0.4,
           "\nHerb-Roasted Chicken with Roasted Root Vegetables"
          ],
          [
           0.8,
           "Classic Beef Stew**\n\n*Ingredients:*\n\n- 2 pounds be"
          ],
          [
           0.4,
           "\n**Agnes's Hearty Roasted Vegetable Stew**\n\n*Ingre"
          ],
          [
           0.6000000000000001,
           "\nComforting Chicken and Wild Rice Soup**\n\nIngredie"
          ],
          [
           0.4,
           "\nComforting Chicken and Vegetable Stew**\n\nIngredie"
          ],
          [
           1,
           "\nSunlit Roasted Chicken with Autumn Harvest Vegeta"
          ],
          [
           0.4,
           "\nHere's the recipe for Agnes's comforting and nour"
          ],
          [
           1,
           "\nOnce upon a time, in a charming little village, e"
          ],
          [
           0.6000000000000001,
           "\nClassic Sunday Roast:**\n\nIngredients:\n\n- 4-6 bone"
          ],
          [
           0.4,
           "\nAgnes's Sunday Dinner\n\nIngredients:\n\n- 2 cups of "
          ],
          [
           0.8,
           "\n**"
          ],
          [
           0.8,
           " \n"
          ],
          [
           0.6000000000000001,
           "\n**"
          ],
          [
           1,
           "\nHonouring of her Grandmother's Legacy: A Traditio"
          ],
          [
           0.2,
           "\nComforting Chicken and Vegetable Stew**\n\nIngredie"
          ],
          [
           0.2,
           "\n**Agnes's Hearty Vegetable Stew**\n\nIngredients:\n\n"
          ],
          [
           1,
           "** Comforting Potato and Leek Soup**\n\nIngredients:"
          ],
          [
           1,
           "\nAgnes's Creation: Pumpkin Risotto**\n\nIngredients:"
          ],
          [
           0.6000000000000001,
           "\nSunday Dinner Roast**\n\nIngredients:\n- 1 (4-5 poun"
          ],
          [
           0.4,
           "\n**Agnes's Roasted Chicken with Herbed Potatoes an"
          ],
          [
           0.6000000000000001,
           "\nSunday Roast**\n\nIngredients:\n\n- 1 whole chicken, "
          ],
          [
           0.8,
           "Creamy Mushroom Risotto**\n\n_Ingredients:_\n\n1. 2 ta"
          ],
          [
           0.2,
           "\n**Agnes's Hearty Vegetable Stew**\n\nIngredients:\n\n"
          ],
          [
           0.6000000000000001,
           "\n** **Family-Style Roasted Chicken with Root Veget"
          ],
          [
           0.4,
           "\nClassic Roast Chicken with a Honey-Lemon Glaze**\n"
          ],
          [
           0.4,
           "\n**Chicken and Vegetable Stew**\n\nIngredients:\n\n- 4"
          ],
          [
           0.6000000000000001,
           "\nLegacy Roast Chicken**\n\nIngredients:\n\n- 1 whole c"
          ],
          [
           0.2,
           "\nComforting Chicken and Vegetable Stew**\n\n*Ingredi"
          ],
          [
           0.4,
           "\nComforting Chicken and Vegetable Soup**\n\nIngredie"
          ],
          [
           1,
           "\n**Classic Shepherd's Pie**\n\nIngredients:\n\n- 2 lbs"
          ],
          [
           0.4,
           "\n\"Agnes's Hearty Vegetable Stew\"\n\nIngredients:\n\n1."
          ],
          [
           1,
           "\nClassic Shepherd's Pie Inspired by Grandma's Sund"
          ],
          [
           1,
           "\n** Roasted Butternut Squash Ravioli With Sage Bro"
          ],
          [
           0.6000000000000001,
           "\nHeritage Chicken and Mushroom Soup**\n\nIngredients"
          ],
          [
           0.6000000000000001,
           "\nAgnes's Sunday Supper - A Culinary Tribute to Fam"
          ],
          [
           0.2,
           "\nHeritage Chicken Pot Pie**\n\nIngredients:\n\n- 2 cup"
          ],
          [
           0.4,
           "\n**Agnes's Chicken and Dumpl0n\n\nIngredients:\n\n- 4 "
          ],
          [
           0.8,
           "\nAgnes's Sunday Dinner: Homestyle Roasted Chicken*"
          ],
          [
           0.4,
           "\nComforting Chicken and Dumpl0n Casserole**\n\nIngre"
          ],
          [
           0.4,
           "\nComforting Chicken and Vegetable Stew**\n\nIngredie"
          ],
          [
           0.4,
           "\n**Delightful Roasted Chicken with Herb-Infused Gr"
          ],
          [
           0.8,
           "\nAgnes's Herb-Roasted Chicken with Roasted Vegetab"
          ],
          [
           0.6000000000000001,
           "\n**Chicken and Mushroom Ragù with Homemade Pappard"
          ],
          [
           0.8,
           "\nAs the leaves turned gold and orange, Agnes' kitc"
          ],
          [
           0.2,
           "\nComforting Chicken and Vegetable Stew**\n\n*Ingredi"
          ],
          [
           0.2,
           "\n**Agnes's Sunday Dinner Delight**\n\nIngredients:\n\n"
          ],
          [
           1,
           "\nTo start, you'll need the following ingredients:\n"
          ],
          [
           1,
           "\nNow comes the recipe she loves to share with her "
          ],
          [
           0.4,
           "\n**Agnes's Sunday Dinner Delight**\n\nIngredients:\n\n"
          ],
          [
           0.6000000000000001,
           "\n**Agnes's Hearty Vegetable Stew**\n\n*Ingredients:*"
          ],
          [
           0.8,
           "\nOne-Pot Chicken and Wild Rice Soup**\n\nIngredients"
          ],
          [
           0.6000000000000001,
           "Sunday Dinner Delight**\n\nIngredients:\n\n- 1 large o"
          ],
          [
           0.6000000000000001,
           "\nIngredients:\n\n- 1 pound of ground beef\n- 1 large "
          ],
          [
           0.6000000000000001,
           "Comforting Chicken and Dumpl0n Bake**\n\n*Ingredient"
          ],
          [
           1,
           "\nSunny-Side-Up Eggs with Chorizo and Spinach**\n\nIn"
          ],
          [
           0.4,
           "\nHerb-Roasted Chicken with Roasted Root Vegetables"
          ],
          [
           0,
           "\n**Agnes's Hearty Vegetable Stew**\n\nIngredients:\n\n"
          ],
          [
           0,
           "\n**Agnes's Hearty Vegetable Stew**\n\nIngredients:\n\n"
          ],
          [
           0.1,
           "\n**Agnes's Comforting Chicken and Dumpl0n**\n\nIngre"
          ],
          [
           0.1,
           "\n**Agnes's Hearty Vegetable Stew**\n\nIngredients:\n\n"
          ],
          [
           0.1,
           "\n**Agnes's Hearty Vegetable Stew**\n\nIngredients:\n\n"
          ],
          [
           0.1,
           "\n**Agnes's Sunday Dinner Delight**\n\nIngredients:\n\n"
          ],
          [
           0.1,
           "\nComforting Chicken and Vegetable Stew**\n\nIngredie"
          ],
          [
           0.1,
           "\n**Agnes's Hearty Vegetable Stew**\n\nIngredients:\n\n"
          ],
          [
           0.1,
           "\n**Agnes's Hearty Vegetable Stew**\n\nIngredients:\n\n"
          ],
          [
           0.1,
           "\n**Agnes's Hearty Vegetable Stew**\n\nIngredients:\n\n"
          ],
          [
           0.1,
           "\nComforting Chicken and Dumpl0n**\n\nIngredients:\n\n-"
          ],
          [
           0.1,
           "\nComforting Chicken and Vegetable Stew**\n\nIngredie"
          ],
          [
           0.1,
           "\n**Agnes's Sunday Roast**\n\nIngredients:\n\n- 1 whole"
          ],
          [
           0.1,
           "\n**Agnes's Roasted Chicken with Herb-Infused Gravy"
          ],
          [
           0.1,
           "\n**Agnes's Hearty Vegetable Stew**\n\nIngredients:\n\n"
          ],
          [
           0.1,
           "\n**Agnes's Hearty Vegetable Stew**\n\nIngredients:\n\n"
          ],
          [
           0.1,
           "\n**Agnes's Roasted Chicken with Herb-Infused Gravy"
          ],
          [
           0.1,
           "\n**Agnes's Roasted Chicken with Herb-Infused Gravy"
          ],
          [
           0.1,
           "\n**Agnes's Sunday Dinner Delight**\n\nIngredients:\n\n"
          ],
          [
           0.1,
           "\nComforting Chicken and Vegetable Stew**\n\nIngredie"
          ],
          [
           0.1,
           "\nComforting Chicken and Vegetable Stew**\n\nIngredie"
          ],
          [
           0.1,
           "\n**Agnes's Roasted Chicken with Herb-Infused Gravy"
          ],
          [
           0.30000000000000004,
           "\n**Pumpkin and Sage Risotto**\n\nIngredients:\n\n- 1 c"
          ],
          [
           0.30000000000000004,
           "\n**Agnes's Hearty Vegetable Stew**\n\nIngredients:\n\n"
          ],
          [
           0.30000000000000004,
           "\nComforting Chicken and Vegetable Stew**\n\nIngredie"
          ],
          [
           0.30000000000000004,
           "\nAgnes's Sunday Dinner Delight**\n\nIngredients:\n\n- "
          ],
          [
           0.30000000000000004,
           "\nAgnes's Roasted Chicken with Herb-Infused Gravy**"
          ],
          [
           0.30000000000000004,
           "\nComforting Chicken and Dumpl0n Casserole**\n\nIngre"
          ],
          [
           0.30000000000000004,
           "\nAgnes's Sunday Dinner\n\nIngredients:\n\n- 1 large on"
          ],
          [
           0.30000000000000004,
           "\nHerb-Roasted Chicken with Rosemary Potatoes and a"
          ],
          [
           0.30000000000000004,
           "\n**Agnes's Sunday Dinner Delight**\n\n*Ingredients:*"
          ],
          [
           0.30000000000000004,
           "\nComforting Roasted Chicken with Root Vegetables**"
          ],
          [
           0.30000000000000004,
           "\n**Agnes's Roasted Chicken with Herb-Infused Gravy"
          ],
          [
           0.30000000000000004,
           "\n**Agnes's Sunday Roast**\n\nIngredients:\n\n- 1 whole"
          ],
          [
           0.30000000000000004,
           "\nHeritage Chicken Pot Pie**\n\nIngredients:\n\n- 2 cup"
          ],
          [
           0.30000000000000004,
           "\n**Chicken and Vegetable Stew**\n\n*Ingredients:*\n\n-"
          ],
          [
           0.30000000000000004,
           "\nComforting Chicken and Dumpl0n**\n\nIngredients:\n\n-"
          ],
          [
           0.30000000000000004,
           "\n**Agnes's Sunday Dinner Delight**\n\nIngredients:\n\n"
          ],
          [
           0.30000000000000004,
           "\nAgnes's Sunday Dinner Delight**\n\nIngredients:\n\n- "
          ],
          [
           0.30000000000000004,
           "\nAgnes's Sunday Dinner\n\nIngredients:\n\n- 1 lb. grou"
          ],
          [
           0.30000000000000004,
           "\nComforting Chicken and Vegetable Stew**\n\nIngredie"
          ],
          [
           0.30000000000000004,
           "\nComforting Chicken and Dumpl0n**\n\nIngredients:\n\n-"
          ],
          [
           0.5,
           "\n**Classic Chicken Noodle Soup**\n\n*Ingredients:*\n\n"
          ],
          [
           0.5,
           "Classic Roast Chicken with Roasted Vegetables**\n\nI"
          ],
          [
           0.5,
           "\n**Comforting Autumn Stew**\n\n**Ingredients:**\n\n- 1"
          ],
          [
           0.5,
           "\nSunday Dinner Chicken Pot Pie**\n\nIngredients:\n\n- "
          ],
          [
           0.5,
           "\n**Agnes's Roasted Chicken with Root Vegetables**\n"
          ],
          [
           0.5,
           "\nGolden Harvest Cassero0100l**\n\nIngredients:\n\n- 1 "
          ],
          [
           0.5,
           "\nAgnes's Comforting Chicken and Dumpl0000000000000"
          ],
          [
           0.5,
           "\nRoasted Butternut Squash and Apple Soup**\n\nIngred"
          ],
          [
           0.5,
           "\n**"
          ],
          [
           0.5,
           "\n**Comforting Slow-Cooked Beef Stew**\n\n*Ingredient"
          ],
          [
           0.5,
           "\nComforting Chicken and Dumpl0ns**\n\nIngredients:\n\n"
          ],
          [
           0.5,
           "\n**Agnes's Roasted Chicken with Herb-Infused Potat"
          ],
          [
           0.5,
           "\nSunday Roast with a Dill-Lemon Sauce**\n\n*Ingredie"
          ],
          [
           0.5,
           "\nComforting Autumn Cassero0197:**\n\n*Ingredients:*\n"
          ],
          [
           0.5,
           "\n**Agnes's Classic Roast Chicken**\n\nIngredients:\n\n"
          ],
          [
           0.5,
           "\nSunday Roast**\n\nIngredients:\n\n- 1 whole chicken, "
          ],
          [
           0.5,
           "\n**"
          ],
          [
           0.5,
           "\nComforting Chicken Pot Pie**\n\nIngredients:\n- 2 ta"
          ],
          [
           0.5,
           "\n**Ingredients:**\n\n- 4 large chicken breasts, bone"
          ],
          [
           0.5,
           "\n**Agnes's Autumn Chicken Stew**\n\n*Ingredients*:\n\n"
          ],
          [
           0.7000000000000001,
           "\nHere's the recipe:\n\n**Agnes's Sunday Dinner Roast"
          ],
          [
           0.7000000000000001,
           "\n"
          ],
          [
           0.7000000000000001,
           "\nOnce upon a time, in a quaint little village nest"
          ],
          [
           0.7000000000000001,
           "\nHerb-Roasted Chicken with Garlic Mashed Potatoes*"
          ],
          [
           0.7000000000000001,
           "\nComforting Chicken Noodle Soup**\n\nIngredients:\n- "
          ],
          [
           0.7000000000000001,
           "\nNow, here's the recipe:\n\n**Agnes's Sunday Dinner "
          ],
          [
           0.7000000000000001,
           "\nCreamy Mushroom Risotto**\n\nIngredients:\n- 1 cup A"
          ],
          [
           0.7000000000000001,
           "\nIngredients:\n- 4 large chicken breasts\n- 2 tables"
          ],
          [
           0.7000000000000001,
           "\nAgnes's Sunday Dinner: Roasted Chicken with Rosem"
          ],
          [
           0.7000000000000001,
           "\nAgnes's Roasted Vegetable Risotto**\n\nIngredients:"
          ],
          [
           0.7000000000000001,
           "\nOnce the chicken was marinated and the vegetables"
          ],
          [
           0.7000000000000001,
           "\n*Herb-Roasted Chicken Thighs with Root Vegetables"
          ],
          [
           0.7000000000000001,
           "\n**Chicken and Vegetable Stew with Root Vegetables"
          ],
          [
           0.7000000000000001,
           "\nHer Roasted Vegetable Medley with Chickpea Quinoa"
          ],
          [
           0.7000000000000001,
           "\n**Sunday Roast Recipe**\n\n*Ingredients:*\n\n- 4 lbs "
          ],
          [
           0.7000000000000001,
           "\nRoasted Chicken with Herb Butter and Garlic Mashe"
          ],
          [
           0.7000000000000001,
           "\nNow, let's get into the recipe. This dish, which "
          ],
          [
           0.7000000000000001,
           "\n**Chicken Pot Pie with a Creamy Mushroom Gravy**\n"
          ],
          [
           0.7000000000000001,
           "\n**\"Creamy Butternut Squash Risotto\"**\n\n**Ingredie"
          ],
          [
           0.7000000000000001,
           "\nOnce upon a time, in a quaint little village nest"
          ],
          [
           0.9,
           "\n** Inspired Slow-Cooked Chicken Stew**\n\n\n**Ingred"
          ],
          [
           0.9,
           "\nHer Garden Harvest Lasagna**\n\n*Ingredients:*\n\n1. "
          ],
          [
           0.9,
           "\n**Gathered Autumn Squash Risotto:**\n\n**Ingredient"
          ],
          [
           0.9,
           "\nComforting Vegetable Stew**"
          ],
          [
           0.9,
           "\n- 2 tablespoons olive oil\n- 1 large onion, diced\n"
          ],
          [
           0.9,
           "\n\nSunday Stew: A Recipe Carved with Love and Memor"
          ],
          [
           0.9,
           "\nComforting Corn and Bean Soup**\n\nIngredients:\n\n- "
          ],
          [
           0.9,
           "Comforting and Nourishing Roasted Vegetable Medley"
          ],
          [
           0.9,
           "\nHer hearty Vegetable Stew**\n\n_Ingredients:_\n\n- 2 "
          ],
          [
           0.9,
           "Creamy Butternut Squash and Sweet Potato Goulash**"
          ],
          [
           0.9,
           "\nSunday Dinner Stew**\n\nIngredients:\n- 1 lb. of cub"
          ],
          [
           0.9,
           "\nGolden Quiche Lorraine**\n\nIngredients:\n- 9-inch p"
          ],
          [
           0.9,
           "\nThe Pumpkin and Apple Soup**\n\n*Ingredients:*\n- 2 "
          ],
          [
           0.9,
           "\nAgnes's Sunday Dinner Delight - A Recipe:\n\nIngred"
          ],
          [
           0.9,
           "\nComforting Chili Con Carne**\n\n**Ingredients:**\n\n1"
          ],
          [
           0.9,
           "\nComforting Beef Stew**\n\nIngredients:\n- 2 pounds o"
          ],
          [
           0.9,
           "\nNow, without further ado, let's head to the kitch"
          ],
          [
           0.9,
           "Sunday Family Stew**\n\n*Ingredients:*\n\n- 1 lb. chic"
          ],
          [
           0.9,
           "\n**Ingredients:\n1) 4 large chicken breasts\n2) 1/2 "
          ],
          [
           0.9,
           "\nRoast Chicken with Root Vegetables**\n\nIngredients"
          ],
          [
           1.5,
           "Lasagna Primavera:**\n\n *Ingredients:*\n32-ounce can"
          ],
          [
           1.5,
           "Caramelized Butternut Squash Risotto**\n\n*Preparati"
          ],
          [
           1.5,
           "\nGathering of Roots** is a comforting, easy-to-pre"
          ],
          [
           1.5,
           "Classic Stuffed Bell Peppers with a Rich Tomato Ra"
          ],
          [
           1.5,
           "Golden Harvest Chicken Soup** is served with fresh"
          ],
          [
           1.5,
           "Ham and Cabbage Stew** was born at her old farm wi"
          ],
          [
           1.5,
           "\nAgnes's Herb Roasted Chicken's recipe inspired by"
          ],
          [
           1.5,
           "Classic Oven-Roasted Salmon with Garlic and Lemon "
          ],
          [
           1.5,
           "Hodgepodge** (feel free to replace by the name if "
          ],
          [
           1.5,
           "\nHarvest Time Roast.**"
          ],
          [
           1.5,
           "Golden Delicacy of Minced Chicken Stuffed Pumpkins"
          ],
          [
           1.5,
           "\n Comforting Pumpkin Soup**  \n\n(Creamy Roasted Pum"
          ],
          [
           1.5,
           "Chicken and Dumpl0n Pie Recipe**"
          ],
          [
           1.5,
           "Classic Beef Stew - a Wholesome Tribute of Love by"
          ],
          [
           1.5,
           "Comforting & Sharing Weeknight Spag"
          ],
          [
           1.5,
           "Grandmother's Pot-Lec\nServed as a hearty main dish"
          ],
          [
           1.5,
           "\nRoasted Lemon Basil Potatoes**\n\nIngredients:\n\n*  "
          ],
          [
           1.5,
           "\nEternal Sunday Roast**\n*Inspired Heirloom Tomato-"
          ],
          [
           1.5,
           "\n**Roasted Vegetable Risotto with Parmesan Crisps\n"
          ],
          [
           1.5,
           "Comforting Chicken and Dumpl0ws**"
          ],
          [
           2,
           ""
          ],
          [
           2,
           "Beans & Bacon Soup Classic**"
          ],
          [
           2,
           "Her grandson's name: Daniel's Sage Pecan Mushroom "
          ],
          [
           2,
           "**Classic Beef Stew**"
          ],
          [
           2,
           "Boneless Turkey Breast Marinated with Won Ton Brot"
          ],
          [
           2,
           "- 4 lbs pork tenderloin\n\nThe ingredients may vary "
          ],
          [
           2,
           "Classic Stewed Leeks"
          ],
          [
           2,
           "Nested Roasted Mushrooms and Potato Stack, garnish"
          ],
          [
           2,
           "Enhanced Vegetable-Health Blend Quattro Pilaf -\nDi"
          ],
          [
           2,
           "Dill Sous Veit: Grand Mother’s Feast (with a delig"
          ],
          [
           2,
           "Memories\nIn the Hospable Manner: Her Family Herb B"
          ],
          [
           2,
           "Comin' Thru Corn Cobbage Pie**"
          ],
          [
           2,
           "Beetroot And Ricotta Ore delights is here:** (Beet"
          ],
          [
           2,
           "Classic Sunday Cassero0lon Fare**\n\nHere's How to C"
          ],
          [
           2,
           "Honey Garlic Glazed Chicken**   \n\n*The Story Recip"
          ],
          [
           2,
           "Escarole Casserole with Chorizo, Sunflower, and Al"
          ],
          [
           2,
           "Bubbled Herbed Squash Wellington With a Homemade S"
          ],
          [
           2,
           "Veciksülek Sarmadacip**"
          ],
          [
           2,
           "Nostalgia Stew on Crisp Autumn Evenings "
          ],
          [
           2,
           "Excuse the Delicacy**"
          ]
         ],
         "hovertemplate": "Temperature: %{customdata[0]}<br>Output: %{customdata[1]}",
         "legendgroup": "",
         "marker": {
          "color": [
           0.8,
           0.4,
           0.2,
           1,
           0.2,
           0.2,
           1,
           0.8,
           1,
           1,
           0.4,
           0.8,
           0.6000000000000001,
           0.8,
           0.2,
           0.2,
           0.2,
           0.8,
           0.2,
           0.2,
           1,
           1,
           0.6000000000000001,
           0.4,
           0.2,
           0.2,
           0.6000000000000001,
           1,
           0.2,
           0.4,
           0.6000000000000001,
           0.8,
           0.2,
           1,
           0.8,
           0.6000000000000001,
           0.2,
           0.8,
           0.4,
           0.8,
           0.4,
           0.6000000000000001,
           0.4,
           1,
           0.4,
           1,
           0.6000000000000001,
           0.4,
           0.8,
           0.8,
           0.6000000000000001,
           1,
           0.2,
           0.2,
           1,
           1,
           0.6000000000000001,
           0.4,
           0.6000000000000001,
           0.8,
           0.2,
           0.6000000000000001,
           0.4,
           0.4,
           0.6000000000000001,
           0.2,
           0.4,
           1,
           0.4,
           1,
           1,
           0.6000000000000001,
           0.6000000000000001,
           0.2,
           0.4,
           0.8,
           0.4,
           0.4,
           0.4,
           0.8,
           0.6000000000000001,
           0.8,
           0.2,
           0.2,
           1,
           1,
           0.4,
           0.6000000000000001,
           0.8,
           0.6000000000000001,
           0.6000000000000001,
           0.6000000000000001,
           1,
           0.4,
           0,
           0,
           0.1,
           0.1,
           0.1,
           0.1,
           0.1,
           0.1,
           0.1,
           0.1,
           0.1,
           0.1,
           0.1,
           0.1,
           0.1,
           0.1,
           0.1,
           0.1,
           0.1,
           0.1,
           0.1,
           0.1,
           0.30000000000000004,
           0.30000000000000004,
           0.30000000000000004,
           0.30000000000000004,
           0.30000000000000004,
           0.30000000000000004,
           0.30000000000000004,
           0.30000000000000004,
           0.30000000000000004,
           0.30000000000000004,
           0.30000000000000004,
           0.30000000000000004,
           0.30000000000000004,
           0.30000000000000004,
           0.30000000000000004,
           0.30000000000000004,
           0.30000000000000004,
           0.30000000000000004,
           0.30000000000000004,
           0.30000000000000004,
           0.5,
           0.5,
           0.5,
           0.5,
           0.5,
           0.5,
           0.5,
           0.5,
           0.5,
           0.5,
           0.5,
           0.5,
           0.5,
           0.5,
           0.5,
           0.5,
           0.5,
           0.5,
           0.5,
           0.5,
           0.7000000000000001,
           0.7000000000000001,
           0.7000000000000001,
           0.7000000000000001,
           0.7000000000000001,
           0.7000000000000001,
           0.7000000000000001,
           0.7000000000000001,
           0.7000000000000001,
           0.7000000000000001,
           0.7000000000000001,
           0.7000000000000001,
           0.7000000000000001,
           0.7000000000000001,
           0.7000000000000001,
           0.7000000000000001,
           0.7000000000000001,
           0.7000000000000001,
           0.7000000000000001,
           0.7000000000000001,
           0.9,
           0.9,
           0.9,
           0.9,
           0.9,
           0.9,
           0.9,
           0.9,
           0.9,
           0.9,
           0.9,
           0.9,
           0.9,
           0.9,
           0.9,
           0.9,
           0.9,
           0.9,
           0.9,
           0.9,
           1.5,
           1.5,
           1.5,
           1.5,
           1.5,
           1.5,
           1.5,
           1.5,
           1.5,
           1.5,
           1.5,
           1.5,
           1.5,
           1.5,
           1.5,
           1.5,
           1.5,
           1.5,
           1.5,
           1.5,
           2,
           2,
           2,
           2,
           2,
           2,
           2,
           2,
           2,
           2,
           2,
           2,
           2,
           2,
           2,
           2,
           2,
           2,
           2,
           2
          ],
          "coloraxis": "coloraxis",
          "symbol": "circle"
         },
         "mode": "markers",
         "name": "",
         "orientation": "v",
         "showlegend": false,
         "type": "scatter",
         "x": [
          -0.3729330599308014,
          0.07681246101856232,
          0.17558997869491577,
          -0.15664081275463104,
          0.258236289024353,
          0.15120723843574524,
          -0.10644052922725677,
          -0.11605319380760193,
          -0.3790361285209656,
          -0.3967551290988922,
          -0.01733984239399433,
          0.1329628974199295,
          -0.0685153603553772,
          -0.008345603942871094,
          0.47745397686958313,
          0.08479858189821243,
          0.4609580338001251,
          0.013614137656986713,
          0.305217444896698,
          0.4681732654571533,
          0.11334949731826782,
          0.17506976425647736,
          -0.030108192935585976,
          -0.12928815186023712,
          -0.21026626229286194,
          0.07491910457611084,
          0.002533819992095232,
          0.1019161120057106,
          0.08359363675117493,
          0.06477994471788406,
          -0.028767738491296768,
          -0.06661725789308548,
          -0.015454038046300411,
          0.010620281100273132,
          -0.08890649676322937,
          -0.3318563997745514,
          -0.2662135064601898,
          0.15297257900238037,
          -0.17366039752960205,
          0.07313963770866394,
          0.3735699951648712,
          -0.04176005721092224,
          0.06878131628036499,
          -0.37520942091941833,
          0.15220120549201965,
          0.17930103838443756,
          -0.1674375832080841,
          0.3850630223751068,
          -0.5182036757469177,
          -0.4796764552593231,
          -0.5182036757469177,
          -0.053498681634664536,
          0.07736751437187195,
          0.4602969288825989,
          0.04483027383685112,
          0.3119295835494995,
          -0.35524582862854004,
          -0.005708214361220598,
          -0.36045336723327637,
          0.01813848875463009,
          0.45039787888526917,
          -0.3762744069099426,
          -0.44353824853897095,
          -0.1151617169380188,
          -0.39495956897735596,
          -0.007628752384334803,
          -0.052851855754852295,
          -0.13908548653125763,
          0.45194897055625916,
          -0.10574774444103241,
          -0.18046845495700836,
          -0.1689354032278061,
          0.3155672550201416,
          -0.03741747885942459,
          0.1034449115395546,
          0.008397825993597507,
          -0.11941082030534744,
          0.10324163734912872,
          -0.2737940549850464,
          0.05023178458213806,
          0.018985766917467117,
          0.3498081564903259,
          0.06880518794059753,
          0.3170146942138672,
          -0.10728243738412857,
          0.13186129927635193,
          0.20339572429656982,
          0.4615936875343323,
          -0.03219492360949516,
          0.12954726815223694,
          -0.0423065684735775,
          -0.28105273842811584,
          -0.17170721292495728,
          -0.29499855637550354,
          0.4744607210159302,
          0.4744607210159302,
          0.030487168580293655,
          0.44790908694267273,
          0.44421708583831787,
          0.2721950113773346,
          0.08710086345672607,
          0.4643922448158264,
          0.4568846821784973,
          0.46956169605255127,
          -0.14685553312301636,
          0.09451305121183395,
          0.02458314225077629,
          -0.08385226130485535,
          0.4374788999557495,
          0.4704795181751251,
          -0.13731302320957184,
          0.039188411086797714,
          0.289288192987442,
          0.09716035425662994,
          0.0643063485622406,
          -0.03541083633899689,
          -0.030955476686358452,
          0.437929630279541,
          0.024084998294711113,
          0.2569943368434906,
          0.009841776452958584,
          -0.12602432072162628,
          0.37899354100227356,
          -0.13832727074623108,
          0.36011746525764465,
          -0.36645829677581787,
          0.017314931377768517,
          0.036953091621398926,
          -0.11524505913257599,
          0.0670696347951889,
          -0.12145645171403885,
          0.22728729248046875,
          0.11732466518878937,
          0.3470560908317566,
          0.07833924889564514,
          -0.20398171246051788,
          -0.0942460149526596,
          -0.4121541976928711,
          0.19535689055919647,
          -0.07417428493499756,
          -0.13074761629104614,
          -0.045160070061683655,
          0.08270987868309021,
          -0.12091763317584991,
          -0.5182036757469177,
          0.07279491424560547,
          -0.25434955954551697,
          -0.033286526799201965,
          -0.3072720766067505,
          -0.04723935201764107,
          -0.1263212114572525,
          -0.34792691469192505,
          -0.5182036757469177,
          -0.16828009486198425,
          0.03052602894604206,
          0.13451826572418213,
          0.06618533283472061,
          -0.4796764552593231,
          0.17340026795864105,
          -0.18601104617118835,
          -0.07422380149364471,
          0.2321242392063141,
          0.049208864569664,
          -0.21599255502223969,
          -0.0804743766784668,
          0.2567080855369568,
          0.0073584867641329765,
          -0.145826518535614,
          0.005948226898908615,
          -0.019366441294550896,
          -0.2776213586330414,
          -0.2594870328903198,
          0.06737308204174042,
          -0.10028479993343353,
          0.027619246393442154,
          0.17340025305747986,
          -0.1251690685749054,
          0.06588669866323471,
          0.11284886300563812,
          0.12886029481887817,
          0.04006406292319298,
          0.09643349051475525,
          0.13008920848369598,
          0.015602308325469494,
          0.30677998065948486,
          0.050453461706638336,
          0.11855509877204895,
          -0.20539900660514832,
          0.03287731483578682,
          0.3033296465873718,
          -0.04581742361187935,
          0.05790853127837181,
          0.29791685938835144,
          0.13647320866584778,
          -0.3370668590068817,
          -0.4017501473426819,
          -0.010396422818303108,
          -0.02467624843120575,
          0.14812572300434113,
          -0.03315088152885437,
          -0.19753846526145935,
          0.10553101450204849,
          0.04509351775050163,
          -0.14468340575695038,
          -0.0470903143286705,
          -0.3901508152484894,
          -0.20754066109657288,
          0.08719006180763245,
          -0.2900969386100769,
          0.016756530851125717,
          -0.18347251415252686,
          0.1512237787246704,
          -0.06805670261383057,
          -0.17733654379844666,
          -0.08257317543029785,
          -0.34705668687820435,
          -0.4796764552593231,
          -0.03808525949716568,
          -0.048915281891822815,
          -0.07564741373062134,
          -0.1809229850769043,
          -0.13347257673740387,
          0.016270387917757034,
          0.04099889472126961,
          0.2197093963623047,
          0.017746299505233765,
          0.314674437046051,
          -0.19861702620983124,
          -0.1283262073993683,
          0.01466851681470871,
          0.1426575779914856,
          -0.0763058140873909,
          0.029557103291153908,
          -0.3732738494873047,
          0.01935170590877533,
          -0.25147750973701477
         ],
         "xaxis": "x",
         "y": [
          0.2379658967256546,
          0.2547580301761627,
          0.12471913546323776,
          -0.46627071499824524,
          0.08976346999406815,
          0.17370803654193878,
          0.18846549093723297,
          0.15056908130645752,
          -0.42268460988998413,
          0.3416407108306885,
          0.32130885124206543,
          -0.04743422195315361,
          -0.10263980180025101,
          -0.2296900749206543,
          -0.03234510123729706,
          0.24351270496845245,
          -0.058212172240018845,
          -0.06843867897987366,
          0.1931958943605423,
          0.008336935192346573,
          0.1085478812456131,
          -0.3525382876396179,
          0.11936000734567642,
          0.18582864105701447,
          0.26303398609161377,
          0.2230616956949234,
          -0.2969517409801483,
          -0.04104935750365257,
          0.25281450152397156,
          -0.04963720962405205,
          0.2809503972530365,
          0.17807844281196594,
          0.17125986516475677,
          -0.1588377207517624,
          0.06482069194316864,
          0.3524841070175171,
          0.2849069833755493,
          -0.3866105079650879,
          0.325649231672287,
          -0.029949545860290527,
          -0.03633907809853554,
          0.16995453834533691,
          0.2663278877735138,
          0.3028010427951813,
          0.12618492543697357,
          -0.465345561504364,
          -0.05727110430598259,
          -0.1098024845123291,
          -0.7136606574058533,
          -0.7233007550239563,
          -0.7136606574058533,
          0.032813847064971924,
          0.26503419876098633,
          -0.03655373677611351,
          -0.06795357912778854,
          -0.20208248496055603,
          0.2618611454963684,
          0.31819477677345276,
          0.23973408341407776,
          -0.19852140545845032,
          -0.010945274494588375,
          0.3962770998477936,
          0.3213491439819336,
          0.29356804490089417,
          0.32975465059280396,
          0.29976022243499756,
          0.22812342643737793,
          -0.1551549732685089,
          -0.010704181157052517,
          -0.2162981629371643,
          -0.26269569993019104,
          0.18121886253356934,
          -0.027635328471660614,
          0.07073952257633209,
          0.202487513422966,
          0.2576756775379181,
          0.1755678951740265,
          0.2605292499065399,
          0.3497273623943329,
          0.2751927077770233,
          0.03683085739612579,
          -0.19907042384147644,
          0.26507508754730225,
          -0.10389122366905212,
          0.12658022344112396,
          -0.14387275278568268,
          -0.168557807803154,
          -0.020437821745872498,
          0.20518992841243744,
          -0.05701008439064026,
          0.005760753992944956,
          0.23506630957126617,
          -0.15449512004852295,
          0.3948823809623718,
          -0.031916797161102295,
          -0.031916797161102295,
          0.24037860333919525,
          -0.04889293387532234,
          0.000978347030468285,
          0.03311461582779884,
          0.2525630593299866,
          -0.02292337827384472,
          -0.05166574940085411,
          -0.02765817940235138,
          0.18867343664169312,
          0.2411925196647644,
          0.1693672388792038,
          0.3561360538005829,
          0.018604910001158714,
          -0.03220977261662483,
          0.34892207384109497,
          0.2870795726776123,
          0.051358599215745926,
          0.2631227672100067,
          0.2539730966091156,
          0.3361406922340393,
          -0.14190542697906494,
          -0.02577529475092888,
          0.30911147594451904,
          0.1099197268486023,
          0.2708068788051605,
          0.12518532574176788,
          -0.07835220545530319,
          0.3182849884033203,
          -0.07545135170221329,
          0.32461825013160706,
          0.32284581661224365,
          0.1773182451725006,
          0.07378418743610382,
          0.26665690541267395,
          0.22103355824947357,
          -0.049125753343105316,
          0.1828630119562149,
          -0.07141400873661041,
          0.2702653408050537,
          0.2644238770008087,
          0.24813009798526764,
          0.31192928552627563,
          0.04121517390012741,
          0.1208449974656105,
          0.349159300327301,
          -0.09843763709068298,
          -0.10724993795156479,
          -0.2197878062725067,
          -0.7136606574058533,
          -0.018231183290481567,
          0.2630431056022644,
          0.2974149286746979,
          0.2065187394618988,
          0.11772692948579788,
          0.3171696364879608,
          0.26158392429351807,
          -0.7136606574058533,
          0.1313425451517105,
          0.04856391251087189,
          0.2437639683485031,
          0.005771753378212452,
          -0.7233006954193115,
          -0.4314922094345093,
          0.27690598368644714,
          0.20821216702461243,
          0.02191886305809021,
          -0.1903315931558609,
          0.24591064453125,
          0.29667362570762634,
          -0.09899876266717911,
          0.012123597785830498,
          0.2873874604701996,
          0.2474662959575653,
          0.0769517794251442,
          -0.020931797102093697,
          0.3608737587928772,
          -0.2306193858385086,
          0.1043149083852768,
          -0.31085002422332764,
          -0.43149223923683167,
          0.3136757016181946,
          -0.07037394493818283,
          -0.20568110048770905,
          -0.30264970660209656,
          0.0183233805000782,
          -0.09929585456848145,
          -0.056720390915870667,
          -0.02336856909096241,
          -0.01615363359451294,
          -0.2000635266304016,
          -0.06491581350564957,
          -0.13955338299274445,
          -0.09002852439880371,
          0.014935893006622791,
          -0.11623413860797882,
          -0.05150802433490753,
          -0.1766672134399414,
          0.06566550582647324,
          0.31135302782058716,
          0.3090232014656067,
          -0.11677494645118713,
          -0.33846449851989746,
          -0.14348217844963074,
          -0.13801603019237518,
          -0.19654658436775208,
          -0.30835482478141785,
          0.08062053471803665,
          -0.09591236710548401,
          -0.09069617837667465,
          -0.48034411668777466,
          0.06854145973920822,
          -0.17134034633636475,
          -0.15116357803344727,
          -0.19806623458862305,
          -0.3644229471683502,
          -0.2262776792049408,
          0.06689359992742538,
          -0.3369641602039337,
          -0.047613803297281265,
          -0.13090121746063232,
          -0.7233007550239563,
          -0.3647480607032776,
          -0.4017634689807892,
          -0.42951130867004395,
          -0.1031486988067627,
          -0.17772936820983887,
          -0.30946385860443115,
          -0.33259353041648865,
          -0.08870591223239899,
          -0.3374086618423462,
          -0.30700719356536865,
          -0.5063437819480896,
          -0.40667906403541565,
          -0.17603571712970734,
          -0.17769397795200348,
          -0.21929892897605896,
          -0.45755186676979065,
          -0.4962807297706604,
          -0.3859691917896271,
          -0.5170863270759583
         ],
         "yaxis": "y"
        }
       ],
       "layout": {
        "coloraxis": {
         "colorbar": {
          "title": {
           "text": "temperature"
          }
         },
         "colorscale": [
          [
           0,
           "#0d0887"
          ],
          [
           0.1111111111111111,
           "#46039f"
          ],
          [
           0.2222222222222222,
           "#7201a8"
          ],
          [
           0.3333333333333333,
           "#9c179e"
          ],
          [
           0.4444444444444444,
           "#bd3786"
          ],
          [
           0.5555555555555556,
           "#d8576b"
          ],
          [
           0.6666666666666666,
           "#ed7953"
          ],
          [
           0.7777777777777778,
           "#fb9f3a"
          ],
          [
           0.8888888888888888,
           "#fdca26"
          ],
          [
           1,
           "#f0f921"
          ]
         ]
        },
        "legend": {
         "tracegroupgap": 0
        },
        "template": {
         "data": {
          "bar": [
           {
            "error_x": {
             "color": "#2a3f5f"
            },
            "error_y": {
             "color": "#2a3f5f"
            },
            "marker": {
             "line": {
              "color": "#E5ECF6",
              "width": 0.5
             },
             "pattern": {
              "fillmode": "overlay",
              "size": 10,
              "solidity": 0.2
             }
            },
            "type": "bar"
           }
          ],
          "barpolar": [
           {
            "marker": {
             "line": {
              "color": "#E5ECF6",
              "width": 0.5
             },
             "pattern": {
              "fillmode": "overlay",
              "size": 10,
              "solidity": 0.2
             }
            },
            "type": "barpolar"
           }
          ],
          "carpet": [
           {
            "aaxis": {
             "endlinecolor": "#2a3f5f",
             "gridcolor": "white",
             "linecolor": "white",
             "minorgridcolor": "white",
             "startlinecolor": "#2a3f5f"
            },
            "baxis": {
             "endlinecolor": "#2a3f5f",
             "gridcolor": "white",
             "linecolor": "white",
             "minorgridcolor": "white",
             "startlinecolor": "#2a3f5f"
            },
            "type": "carpet"
           }
          ],
          "choropleth": [
           {
            "colorbar": {
             "outlinewidth": 0,
             "ticks": ""
            },
            "type": "choropleth"
           }
          ],
          "contour": [
           {
            "colorbar": {
             "outlinewidth": 0,
             "ticks": ""
            },
            "colorscale": [
             [
              0,
              "#0d0887"
             ],
             [
              0.1111111111111111,
              "#46039f"
             ],
             [
              0.2222222222222222,
              "#7201a8"
             ],
             [
              0.3333333333333333,
              "#9c179e"
             ],
             [
              0.4444444444444444,
              "#bd3786"
             ],
             [
              0.5555555555555556,
              "#d8576b"
             ],
             [
              0.6666666666666666,
              "#ed7953"
             ],
             [
              0.7777777777777778,
              "#fb9f3a"
             ],
             [
              0.8888888888888888,
              "#fdca26"
             ],
             [
              1,
              "#f0f921"
             ]
            ],
            "type": "contour"
           }
          ],
          "contourcarpet": [
           {
            "colorbar": {
             "outlinewidth": 0,
             "ticks": ""
            },
            "type": "contourcarpet"
           }
          ],
          "heatmap": [
           {
            "colorbar": {
             "outlinewidth": 0,
             "ticks": ""
            },
            "colorscale": [
             [
              0,
              "#0d0887"
             ],
             [
              0.1111111111111111,
              "#46039f"
             ],
             [
              0.2222222222222222,
              "#7201a8"
             ],
             [
              0.3333333333333333,
              "#9c179e"
             ],
             [
              0.4444444444444444,
              "#bd3786"
             ],
             [
              0.5555555555555556,
              "#d8576b"
             ],
             [
              0.6666666666666666,
              "#ed7953"
             ],
             [
              0.7777777777777778,
              "#fb9f3a"
             ],
             [
              0.8888888888888888,
              "#fdca26"
             ],
             [
              1,
              "#f0f921"
             ]
            ],
            "type": "heatmap"
           }
          ],
          "heatmapgl": [
           {
            "colorbar": {
             "outlinewidth": 0,
             "ticks": ""
            },
            "colorscale": [
             [
              0,
              "#0d0887"
             ],
             [
              0.1111111111111111,
              "#46039f"
             ],
             [
              0.2222222222222222,
              "#7201a8"
             ],
             [
              0.3333333333333333,
              "#9c179e"
             ],
             [
              0.4444444444444444,
              "#bd3786"
             ],
             [
              0.5555555555555556,
              "#d8576b"
             ],
             [
              0.6666666666666666,
              "#ed7953"
             ],
             [
              0.7777777777777778,
              "#fb9f3a"
             ],
             [
              0.8888888888888888,
              "#fdca26"
             ],
             [
              1,
              "#f0f921"
             ]
            ],
            "type": "heatmapgl"
           }
          ],
          "histogram": [
           {
            "marker": {
             "pattern": {
              "fillmode": "overlay",
              "size": 10,
              "solidity": 0.2
             }
            },
            "type": "histogram"
           }
          ],
          "histogram2d": [
           {
            "colorbar": {
             "outlinewidth": 0,
             "ticks": ""
            },
            "colorscale": [
             [
              0,
              "#0d0887"
             ],
             [
              0.1111111111111111,
              "#46039f"
             ],
             [
              0.2222222222222222,
              "#7201a8"
             ],
             [
              0.3333333333333333,
              "#9c179e"
             ],
             [
              0.4444444444444444,
              "#bd3786"
             ],
             [
              0.5555555555555556,
              "#d8576b"
             ],
             [
              0.6666666666666666,
              "#ed7953"
             ],
             [
              0.7777777777777778,
              "#fb9f3a"
             ],
             [
              0.8888888888888888,
              "#fdca26"
             ],
             [
              1,
              "#f0f921"
             ]
            ],
            "type": "histogram2d"
           }
          ],
          "histogram2dcontour": [
           {
            "colorbar": {
             "outlinewidth": 0,
             "ticks": ""
            },
            "colorscale": [
             [
              0,
              "#0d0887"
             ],
             [
              0.1111111111111111,
              "#46039f"
             ],
             [
              0.2222222222222222,
              "#7201a8"
             ],
             [
              0.3333333333333333,
              "#9c179e"
             ],
             [
              0.4444444444444444,
              "#bd3786"
             ],
             [
              0.5555555555555556,
              "#d8576b"
             ],
             [
              0.6666666666666666,
              "#ed7953"
             ],
             [
              0.7777777777777778,
              "#fb9f3a"
             ],
             [
              0.8888888888888888,
              "#fdca26"
             ],
             [
              1,
              "#f0f921"
             ]
            ],
            "type": "histogram2dcontour"
           }
          ],
          "mesh3d": [
           {
            "colorbar": {
             "outlinewidth": 0,
             "ticks": ""
            },
            "type": "mesh3d"
           }
          ],
          "parcoords": [
           {
            "line": {
             "colorbar": {
              "outlinewidth": 0,
              "ticks": ""
             }
            },
            "type": "parcoords"
           }
          ],
          "pie": [
           {
            "automargin": true,
            "type": "pie"
           }
          ],
          "scatter": [
           {
            "fillpattern": {
             "fillmode": "overlay",
             "size": 10,
             "solidity": 0.2
            },
            "type": "scatter"
           }
          ],
          "scatter3d": [
           {
            "line": {
             "colorbar": {
              "outlinewidth": 0,
              "ticks": ""
             }
            },
            "marker": {
             "colorbar": {
              "outlinewidth": 0,
              "ticks": ""
             }
            },
            "type": "scatter3d"
           }
          ],
          "scattercarpet": [
           {
            "marker": {
             "colorbar": {
              "outlinewidth": 0,
              "ticks": ""
             }
            },
            "type": "scattercarpet"
           }
          ],
          "scattergeo": [
           {
            "marker": {
             "colorbar": {
              "outlinewidth": 0,
              "ticks": ""
             }
            },
            "type": "scattergeo"
           }
          ],
          "scattergl": [
           {
            "marker": {
             "colorbar": {
              "outlinewidth": 0,
              "ticks": ""
             }
            },
            "type": "scattergl"
           }
          ],
          "scattermapbox": [
           {
            "marker": {
             "colorbar": {
              "outlinewidth": 0,
              "ticks": ""
             }
            },
            "type": "scattermapbox"
           }
          ],
          "scatterpolar": [
           {
            "marker": {
             "colorbar": {
              "outlinewidth": 0,
              "ticks": ""
             }
            },
            "type": "scatterpolar"
           }
          ],
          "scatterpolargl": [
           {
            "marker": {
             "colorbar": {
              "outlinewidth": 0,
              "ticks": ""
             }
            },
            "type": "scatterpolargl"
           }
          ],
          "scatterternary": [
           {
            "marker": {
             "colorbar": {
              "outlinewidth": 0,
              "ticks": ""
             }
            },
            "type": "scatterternary"
           }
          ],
          "surface": [
           {
            "colorbar": {
             "outlinewidth": 0,
             "ticks": ""
            },
            "colorscale": [
             [
              0,
              "#0d0887"
             ],
             [
              0.1111111111111111,
              "#46039f"
             ],
             [
              0.2222222222222222,
              "#7201a8"
             ],
             [
              0.3333333333333333,
              "#9c179e"
             ],
             [
              0.4444444444444444,
              "#bd3786"
             ],
             [
              0.5555555555555556,
              "#d8576b"
             ],
             [
              0.6666666666666666,
              "#ed7953"
             ],
             [
              0.7777777777777778,
              "#fb9f3a"
             ],
             [
              0.8888888888888888,
              "#fdca26"
             ],
             [
              1,
              "#f0f921"
             ]
            ],
            "type": "surface"
           }
          ],
          "table": [
           {
            "cells": {
             "fill": {
              "color": "#EBF0F8"
             },
             "line": {
              "color": "white"
             }
            },
            "header": {
             "fill": {
              "color": "#C8D4E3"
             },
             "line": {
              "color": "white"
             }
            },
            "type": "table"
           }
          ]
         },
         "layout": {
          "annotationdefaults": {
           "arrowcolor": "#2a3f5f",
           "arrowhead": 0,
           "arrowwidth": 1
          },
          "autotypenumbers": "strict",
          "coloraxis": {
           "colorbar": {
            "outlinewidth": 0,
            "ticks": ""
           }
          },
          "colorscale": {
           "diverging": [
            [
             0,
             "#8e0152"
            ],
            [
             0.1,
             "#c51b7d"
            ],
            [
             0.2,
             "#de77ae"
            ],
            [
             0.3,
             "#f1b6da"
            ],
            [
             0.4,
             "#fde0ef"
            ],
            [
             0.5,
             "#f7f7f7"
            ],
            [
             0.6,
             "#e6f5d0"
            ],
            [
             0.7,
             "#b8e186"
            ],
            [
             0.8,
             "#7fbc41"
            ],
            [
             0.9,
             "#4d9221"
            ],
            [
             1,
             "#276419"
            ]
           ],
           "sequential": [
            [
             0,
             "#0d0887"
            ],
            [
             0.1111111111111111,
             "#46039f"
            ],
            [
             0.2222222222222222,
             "#7201a8"
            ],
            [
             0.3333333333333333,
             "#9c179e"
            ],
            [
             0.4444444444444444,
             "#bd3786"
            ],
            [
             0.5555555555555556,
             "#d8576b"
            ],
            [
             0.6666666666666666,
             "#ed7953"
            ],
            [
             0.7777777777777778,
             "#fb9f3a"
            ],
            [
             0.8888888888888888,
             "#fdca26"
            ],
            [
             1,
             "#f0f921"
            ]
           ],
           "sequentialminus": [
            [
             0,
             "#0d0887"
            ],
            [
             0.1111111111111111,
             "#46039f"
            ],
            [
             0.2222222222222222,
             "#7201a8"
            ],
            [
             0.3333333333333333,
             "#9c179e"
            ],
            [
             0.4444444444444444,
             "#bd3786"
            ],
            [
             0.5555555555555556,
             "#d8576b"
            ],
            [
             0.6666666666666666,
             "#ed7953"
            ],
            [
             0.7777777777777778,
             "#fb9f3a"
            ],
            [
             0.8888888888888888,
             "#fdca26"
            ],
            [
             1,
             "#f0f921"
            ]
           ]
          },
          "colorway": [
           "#636efa",
           "#EF553B",
           "#00cc96",
           "#ab63fa",
           "#FFA15A",
           "#19d3f3",
           "#FF6692",
           "#B6E880",
           "#FF97FF",
           "#FECB52"
          ],
          "font": {
           "color": "#2a3f5f"
          },
          "geo": {
           "bgcolor": "white",
           "lakecolor": "white",
           "landcolor": "#E5ECF6",
           "showlakes": true,
           "showland": true,
           "subunitcolor": "white"
          },
          "hoverlabel": {
           "align": "left"
          },
          "hovermode": "closest",
          "mapbox": {
           "style": "light"
          },
          "paper_bgcolor": "white",
          "plot_bgcolor": "#E5ECF6",
          "polar": {
           "angularaxis": {
            "gridcolor": "white",
            "linecolor": "white",
            "ticks": ""
           },
           "bgcolor": "#E5ECF6",
           "radialaxis": {
            "gridcolor": "white",
            "linecolor": "white",
            "ticks": ""
           }
          },
          "scene": {
           "xaxis": {
            "backgroundcolor": "#E5ECF6",
            "gridcolor": "white",
            "gridwidth": 2,
            "linecolor": "white",
            "showbackground": true,
            "ticks": "",
            "zerolinecolor": "white"
           },
           "yaxis": {
            "backgroundcolor": "#E5ECF6",
            "gridcolor": "white",
            "gridwidth": 2,
            "linecolor": "white",
            "showbackground": true,
            "ticks": "",
            "zerolinecolor": "white"
           },
           "zaxis": {
            "backgroundcolor": "#E5ECF6",
            "gridcolor": "white",
            "gridwidth": 2,
            "linecolor": "white",
            "showbackground": true,
            "ticks": "",
            "zerolinecolor": "white"
           }
          },
          "shapedefaults": {
           "line": {
            "color": "#2a3f5f"
           }
          },
          "ternary": {
           "aaxis": {
            "gridcolor": "white",
            "linecolor": "white",
            "ticks": ""
           },
           "baxis": {
            "gridcolor": "white",
            "linecolor": "white",
            "ticks": ""
           },
           "bgcolor": "#E5ECF6",
           "caxis": {
            "gridcolor": "white",
            "linecolor": "white",
            "ticks": ""
           }
          },
          "title": {
           "x": 0.05
          },
          "xaxis": {
           "automargin": true,
           "gridcolor": "white",
           "linecolor": "white",
           "ticks": "",
           "title": {
            "standoff": 15
           },
           "zerolinecolor": "white",
           "zerolinewidth": 2
          },
          "yaxis": {
           "automargin": true,
           "gridcolor": "white",
           "linecolor": "white",
           "ticks": "",
           "title": {
            "standoff": 15
           },
           "zerolinecolor": "white",
           "zerolinewidth": 2
          }
         }
        },
        "title": {
         "text": "Dim reduction of Agnes Story Embeddings"
        },
        "xaxis": {
         "anchor": "y",
         "domain": [
          0,
          1
         ],
         "title": {
          "text": "dim1"
         }
        },
        "yaxis": {
         "anchor": "x",
         "domain": [
          0,
          1
         ],
         "title": {
          "text": "dim2"
         }
        }
       }
      },
      "text/html": [
       "<div>                            <div id=\"9f199a35-52cb-40b3-ba41-d5ad3cf9419f\" class=\"plotly-graph-div\" style=\"height:525px; width:100%;\"></div>            <script type=\"text/javascript\">                require([\"plotly\"], function(Plotly) {                    window.PLOTLYENV=window.PLOTLYENV || {};                                    if (document.getElementById(\"9f199a35-52cb-40b3-ba41-d5ad3cf9419f\")) {                    Plotly.newPlot(                        \"9f199a35-52cb-40b3-ba41-d5ad3cf9419f\",                        [{\"customdata\":[[0.8,\"\\nHeritage Roast Chicken with Root Vegetables**\\n\\n*I\"],[0.4,\"\\nComforting Chicken and Vegetable Stew**\\n\\nIngredie\"],[0.2,\"\\nAgnes's Sunday Dinner Delight**\\n\\nIngredients:\\n\\n- \"],[1.0,\"Golden Mashed Sweet Potatoes**\"],[0.2,\"\\nAgnes's Sunday Dinner: Roasted Chicken with Herb-\"],[0.2,\"\\n**Agnes's Sunday Dinner Delight**\\n\\nIngredients:\\n\\n\"],[1.0,\"Creamy Chicken and Wild Rice Soup**\\n\\n_Ingredients:\"],[0.8,\"\\nSunday Dinner Recipe**\\n\\nIngredients:\\n- 1 pound of\"],[1.0,\"\\nCherished Sunday Roast**\"],[1.0,\"Legacy Roast Chicken**\\n\\nIngredients:\\n- 1 whole chi\"],[0.4,\"\\n**Agnes's Roasted Chicken with Herb-Infused Gravy\"],[0.8,\"\\n**Creative Sunday Dinner:**\\n\\n*Ingredients:*\\n- 2 c\"],[0.6000000000000001,\"\\nAgnes's Sunday Roast:**\\n\\n1. Begin by selecting th\"],[0.8,\"\\nComforting Butternut Squash Risotto**\\n\\n*Ingredien\"],[0.2,\"\\n**Agnes's Hearty Vegetable Stew**\\n\\nIngredients:\\n\\n\"],[0.2,\"\\nComforting Chicken and Vegetable Stew**\\n\\nIngredie\"],[0.2,\"\\n**Agnes's Hearty Vegetable Stew**\\n\\n*Ingredients:*\"],[0.8,\"\\nClassic Beef Stew with Root Vegetables**\\n\\nIngredi\"],[0.2,\"\\n**Agnes's Hearty Chicken and Vegetable Stew**\\n\\nIn\"],[0.2,\"\\n**Agnes's Hearty Vegetable Stew**\\n\\nIngredients:\\n\\n\"],[1.0,\"\\n**Sunday Potluck Stew - A Hearty Delicacy**\\n\\n**In\"],[1.0,\"Her Hearty Vegetable Stew**\\\"\"],[0.6000000000000001,\"\\n\\n**Chicken and Vegetable Pot Pie**\\n\\n\\nIngredients:\"],[0.4,\"\\nComforting Chicken and Dumpl0n**\\n\\nIngredients:\\n- \"],[0.2,\"\\nComforting Chicken and Dumpl0n**\\n\\nIngredients:\\n\\n-\"],[0.2,\"\\n**Agnes's Sunday Dinner Delight**\\n\\n*Ingredients:*\"],[0.6000000000000001,\"\\nCreamy Butternut Squash Risotto**\\n\\nIngredients:\\n\\n\"],[1.0,\"\\nComforting Beef Stew**\\n\\nIngredients:\\n\\n\\n- 2 pounds\"],[0.2,\"\\nComforting Chicken and Vegetable Stew**\\n\\nIngredie\"],[0.4,\"\\n**Ingredients:**\\n\\n- 1 lb. ground beef\\n- 1 medium \"],[0.6000000000000001,\"\\nAgnes's Roasted Chicken with Herbed Potatoes**\\n\\n*\"],[0.8,\"\\nComforting Chicken Noodle Soup**\\n\\n*Ingredients:*\\n\"],[0.2,\"\\n**Agnes's Sunday Roast**\\n\\nIngredients:\\n\\n- 1 whole\"],[1.0,\"Sunday Dinner Pasta Primavera**\\n\\nIngredients:\\n\\n- 8\"],[0.8,\"Classic Butternut Squash and Chicken Soup**\\n\\nIngre\"],[0.6000000000000001,\"\\n**Roast Chicken with Herbed Butter and Roasted Ve\"],[0.2,\"\\nComforting Chicken and Dumpl0n**\\n\\nIngredients:\\n\\n-\"],[0.8,\"\\nHer Garden-Fresh Vegetable Stew**\"],[0.4,\"\\nHerb-Roasted Chicken with Roasted Root Vegetables\"],[0.8,\"Classic Beef Stew**\\n\\n*Ingredients:*\\n\\n- 2 pounds be\"],[0.4,\"\\n**Agnes's Hearty Roasted Vegetable Stew**\\n\\n*Ingre\"],[0.6000000000000001,\"\\nComforting Chicken and Wild Rice Soup**\\n\\nIngredie\"],[0.4,\"\\nComforting Chicken and Vegetable Stew**\\n\\nIngredie\"],[1.0,\"\\nSunlit Roasted Chicken with Autumn Harvest Vegeta\"],[0.4,\"\\nHere's the recipe for Agnes's comforting and nour\"],[1.0,\"\\nOnce upon a time, in a charming little village, e\"],[0.6000000000000001,\"\\nClassic Sunday Roast:**\\n\\nIngredients:\\n\\n- 4-6 bone\"],[0.4,\"\\nAgnes's Sunday Dinner\\n\\nIngredients:\\n\\n- 2 cups of \"],[0.8,\"\\n**\"],[0.8,\" \\n\"],[0.6000000000000001,\"\\n**\"],[1.0,\"\\nHonouring of her Grandmother's Legacy: A Traditio\"],[0.2,\"\\nComforting Chicken and Vegetable Stew**\\n\\nIngredie\"],[0.2,\"\\n**Agnes's Hearty Vegetable Stew**\\n\\nIngredients:\\n\\n\"],[1.0,\"** Comforting Potato and Leek Soup**\\n\\nIngredients:\"],[1.0,\"\\nAgnes's Creation: Pumpkin Risotto**\\n\\nIngredients:\"],[0.6000000000000001,\"\\nSunday Dinner Roast**\\n\\nIngredients:\\n- 1 (4-5 poun\"],[0.4,\"\\n**Agnes's Roasted Chicken with Herbed Potatoes an\"],[0.6000000000000001,\"\\nSunday Roast**\\n\\nIngredients:\\n\\n- 1 whole chicken, \"],[0.8,\"Creamy Mushroom Risotto**\\n\\n_Ingredients:_\\n\\n1. 2 ta\"],[0.2,\"\\n**Agnes's Hearty Vegetable Stew**\\n\\nIngredients:\\n\\n\"],[0.6000000000000001,\"\\n** **Family-Style Roasted Chicken with Root Veget\"],[0.4,\"\\nClassic Roast Chicken with a Honey-Lemon Glaze**\\n\"],[0.4,\"\\n**Chicken and Vegetable Stew**\\n\\nIngredients:\\n\\n- 4\"],[0.6000000000000001,\"\\nLegacy Roast Chicken**\\n\\nIngredients:\\n\\n- 1 whole c\"],[0.2,\"\\nComforting Chicken and Vegetable Stew**\\n\\n*Ingredi\"],[0.4,\"\\nComforting Chicken and Vegetable Soup**\\n\\nIngredie\"],[1.0,\"\\n**Classic Shepherd's Pie**\\n\\nIngredients:\\n\\n- 2 lbs\"],[0.4,\"\\n\\\"Agnes's Hearty Vegetable Stew\\\"\\n\\nIngredients:\\n\\n1.\"],[1.0,\"\\nClassic Shepherd's Pie Inspired by Grandma's Sund\"],[1.0,\"\\n** Roasted Butternut Squash Ravioli With Sage Bro\"],[0.6000000000000001,\"\\nHeritage Chicken and Mushroom Soup**\\n\\nIngredients\"],[0.6000000000000001,\"\\nAgnes's Sunday Supper - A Culinary Tribute to Fam\"],[0.2,\"\\nHeritage Chicken Pot Pie**\\n\\nIngredients:\\n\\n- 2 cup\"],[0.4,\"\\n**Agnes's Chicken and Dumpl0n\\n\\nIngredients:\\n\\n- 4 \"],[0.8,\"\\nAgnes's Sunday Dinner: Homestyle Roasted Chicken*\"],[0.4,\"\\nComforting Chicken and Dumpl0n Casserole**\\n\\nIngre\"],[0.4,\"\\nComforting Chicken and Vegetable Stew**\\n\\nIngredie\"],[0.4,\"\\n**Delightful Roasted Chicken with Herb-Infused Gr\"],[0.8,\"\\nAgnes's Herb-Roasted Chicken with Roasted Vegetab\"],[0.6000000000000001,\"\\n**Chicken and Mushroom Rag\\u00f9 with Homemade Pappard\"],[0.8,\"\\nAs the leaves turned gold and orange, Agnes' kitc\"],[0.2,\"\\nComforting Chicken and Vegetable Stew**\\n\\n*Ingredi\"],[0.2,\"\\n**Agnes's Sunday Dinner Delight**\\n\\nIngredients:\\n\\n\"],[1.0,\"\\nTo start, you'll need the following ingredients:\\n\"],[1.0,\"\\nNow comes the recipe she loves to share with her \"],[0.4,\"\\n**Agnes's Sunday Dinner Delight**\\n\\nIngredients:\\n\\n\"],[0.6000000000000001,\"\\n**Agnes's Hearty Vegetable Stew**\\n\\n*Ingredients:*\"],[0.8,\"\\nOne-Pot Chicken and Wild Rice Soup**\\n\\nIngredients\"],[0.6000000000000001,\"Sunday Dinner Delight**\\n\\nIngredients:\\n\\n- 1 large o\"],[0.6000000000000001,\"\\nIngredients:\\n\\n- 1 pound of ground beef\\n- 1 large \"],[0.6000000000000001,\"Comforting Chicken and Dumpl0n Bake**\\n\\n*Ingredient\"],[1.0,\"\\nSunny-Side-Up Eggs with Chorizo and Spinach**\\n\\nIn\"],[0.4,\"\\nHerb-Roasted Chicken with Roasted Root Vegetables\"],[0.0,\"\\n**Agnes's Hearty Vegetable Stew**\\n\\nIngredients:\\n\\n\"],[0.0,\"\\n**Agnes's Hearty Vegetable Stew**\\n\\nIngredients:\\n\\n\"],[0.1,\"\\n**Agnes's Comforting Chicken and Dumpl0n**\\n\\nIngre\"],[0.1,\"\\n**Agnes's Hearty Vegetable Stew**\\n\\nIngredients:\\n\\n\"],[0.1,\"\\n**Agnes's Hearty Vegetable Stew**\\n\\nIngredients:\\n\\n\"],[0.1,\"\\n**Agnes's Sunday Dinner Delight**\\n\\nIngredients:\\n\\n\"],[0.1,\"\\nComforting Chicken and Vegetable Stew**\\n\\nIngredie\"],[0.1,\"\\n**Agnes's Hearty Vegetable Stew**\\n\\nIngredients:\\n\\n\"],[0.1,\"\\n**Agnes's Hearty Vegetable Stew**\\n\\nIngredients:\\n\\n\"],[0.1,\"\\n**Agnes's Hearty Vegetable Stew**\\n\\nIngredients:\\n\\n\"],[0.1,\"\\nComforting Chicken and Dumpl0n**\\n\\nIngredients:\\n\\n-\"],[0.1,\"\\nComforting Chicken and Vegetable Stew**\\n\\nIngredie\"],[0.1,\"\\n**Agnes's Sunday Roast**\\n\\nIngredients:\\n\\n- 1 whole\"],[0.1,\"\\n**Agnes's Roasted Chicken with Herb-Infused Gravy\"],[0.1,\"\\n**Agnes's Hearty Vegetable Stew**\\n\\nIngredients:\\n\\n\"],[0.1,\"\\n**Agnes's Hearty Vegetable Stew**\\n\\nIngredients:\\n\\n\"],[0.1,\"\\n**Agnes's Roasted Chicken with Herb-Infused Gravy\"],[0.1,\"\\n**Agnes's Roasted Chicken with Herb-Infused Gravy\"],[0.1,\"\\n**Agnes's Sunday Dinner Delight**\\n\\nIngredients:\\n\\n\"],[0.1,\"\\nComforting Chicken and Vegetable Stew**\\n\\nIngredie\"],[0.1,\"\\nComforting Chicken and Vegetable Stew**\\n\\nIngredie\"],[0.1,\"\\n**Agnes's Roasted Chicken with Herb-Infused Gravy\"],[0.30000000000000004,\"\\n**Pumpkin and Sage Risotto**\\n\\nIngredients:\\n\\n- 1 c\"],[0.30000000000000004,\"\\n**Agnes's Hearty Vegetable Stew**\\n\\nIngredients:\\n\\n\"],[0.30000000000000004,\"\\nComforting Chicken and Vegetable Stew**\\n\\nIngredie\"],[0.30000000000000004,\"\\nAgnes's Sunday Dinner Delight**\\n\\nIngredients:\\n\\n- \"],[0.30000000000000004,\"\\nAgnes's Roasted Chicken with Herb-Infused Gravy**\"],[0.30000000000000004,\"\\nComforting Chicken and Dumpl0n Casserole**\\n\\nIngre\"],[0.30000000000000004,\"\\nAgnes's Sunday Dinner\\n\\nIngredients:\\n\\n- 1 large on\"],[0.30000000000000004,\"\\nHerb-Roasted Chicken with Rosemary Potatoes and a\"],[0.30000000000000004,\"\\n**Agnes's Sunday Dinner Delight**\\n\\n*Ingredients:*\"],[0.30000000000000004,\"\\nComforting Roasted Chicken with Root Vegetables**\"],[0.30000000000000004,\"\\n**Agnes's Roasted Chicken with Herb-Infused Gravy\"],[0.30000000000000004,\"\\n**Agnes's Sunday Roast**\\n\\nIngredients:\\n\\n- 1 whole\"],[0.30000000000000004,\"\\nHeritage Chicken Pot Pie**\\n\\nIngredients:\\n\\n- 2 cup\"],[0.30000000000000004,\"\\n**Chicken and Vegetable Stew**\\n\\n*Ingredients:*\\n\\n-\"],[0.30000000000000004,\"\\nComforting Chicken and Dumpl0n**\\n\\nIngredients:\\n\\n-\"],[0.30000000000000004,\"\\n**Agnes's Sunday Dinner Delight**\\n\\nIngredients:\\n\\n\"],[0.30000000000000004,\"\\nAgnes's Sunday Dinner Delight**\\n\\nIngredients:\\n\\n- \"],[0.30000000000000004,\"\\nAgnes's Sunday Dinner\\n\\nIngredients:\\n\\n- 1 lb. grou\"],[0.30000000000000004,\"\\nComforting Chicken and Vegetable Stew**\\n\\nIngredie\"],[0.30000000000000004,\"\\nComforting Chicken and Dumpl0n**\\n\\nIngredients:\\n\\n-\"],[0.5,\"\\n**Classic Chicken Noodle Soup**\\n\\n*Ingredients:*\\n\\n\"],[0.5,\"Classic Roast Chicken with Roasted Vegetables**\\n\\nI\"],[0.5,\"\\n**Comforting Autumn Stew**\\n\\n**Ingredients:**\\n\\n- 1\"],[0.5,\"\\nSunday Dinner Chicken Pot Pie**\\n\\nIngredients:\\n\\n- \"],[0.5,\"\\n**Agnes's Roasted Chicken with Root Vegetables**\\n\"],[0.5,\"\\nGolden Harvest Cassero0100l**\\n\\nIngredients:\\n\\n- 1 \"],[0.5,\"\\nAgnes's Comforting Chicken and Dumpl0000000000000\"],[0.5,\"\\nRoasted Butternut Squash and Apple Soup**\\n\\nIngred\"],[0.5,\"\\n**\"],[0.5,\"\\n**Comforting Slow-Cooked Beef Stew**\\n\\n*Ingredient\"],[0.5,\"\\nComforting Chicken and Dumpl0ns**\\n\\nIngredients:\\n\\n\"],[0.5,\"\\n**Agnes's Roasted Chicken with Herb-Infused Potat\"],[0.5,\"\\nSunday Roast with a Dill-Lemon Sauce**\\n\\n*Ingredie\"],[0.5,\"\\nComforting Autumn Cassero0197:**\\n\\n*Ingredients:*\\n\"],[0.5,\"\\n**Agnes's Classic Roast Chicken**\\n\\nIngredients:\\n\\n\"],[0.5,\"\\nSunday Roast**\\n\\nIngredients:\\n\\n- 1 whole chicken, \"],[0.5,\"\\n**\"],[0.5,\"\\nComforting Chicken Pot Pie**\\n\\nIngredients:\\n- 2 ta\"],[0.5,\"\\n**Ingredients:**\\n\\n- 4 large chicken breasts, bone\"],[0.5,\"\\n**Agnes's Autumn Chicken Stew**\\n\\n*Ingredients*:\\n\\n\"],[0.7000000000000001,\"\\nHere's the recipe:\\n\\n**Agnes's Sunday Dinner Roast\"],[0.7000000000000001,\"\\n\"],[0.7000000000000001,\"\\nOnce upon a time, in a quaint little village nest\"],[0.7000000000000001,\"\\nHerb-Roasted Chicken with Garlic Mashed Potatoes*\"],[0.7000000000000001,\"\\nComforting Chicken Noodle Soup**\\n\\nIngredients:\\n- \"],[0.7000000000000001,\"\\nNow, here's the recipe:\\n\\n**Agnes's Sunday Dinner \"],[0.7000000000000001,\"\\nCreamy Mushroom Risotto**\\n\\nIngredients:\\n- 1 cup A\"],[0.7000000000000001,\"\\nIngredients:\\n- 4 large chicken breasts\\n- 2 tables\"],[0.7000000000000001,\"\\nAgnes's Sunday Dinner: Roasted Chicken with Rosem\"],[0.7000000000000001,\"\\nAgnes's Roasted Vegetable Risotto**\\n\\nIngredients:\"],[0.7000000000000001,\"\\nOnce the chicken was marinated and the vegetables\"],[0.7000000000000001,\"\\n*Herb-Roasted Chicken Thighs with Root Vegetables\"],[0.7000000000000001,\"\\n**Chicken and Vegetable Stew with Root Vegetables\"],[0.7000000000000001,\"\\nHer Roasted Vegetable Medley with Chickpea Quinoa\"],[0.7000000000000001,\"\\n**Sunday Roast Recipe**\\n\\n*Ingredients:*\\n\\n- 4 lbs \"],[0.7000000000000001,\"\\nRoasted Chicken with Herb Butter and Garlic Mashe\"],[0.7000000000000001,\"\\nNow, let's get into the recipe. This dish, which \"],[0.7000000000000001,\"\\n**Chicken Pot Pie with a Creamy Mushroom Gravy**\\n\"],[0.7000000000000001,\"\\n**\\\"Creamy Butternut Squash Risotto\\\"**\\n\\n**Ingredie\"],[0.7000000000000001,\"\\nOnce upon a time, in a quaint little village nest\"],[0.9,\"\\n** Inspired Slow-Cooked Chicken Stew**\\n\\n\\n**Ingred\"],[0.9,\"\\nHer Garden Harvest Lasagna**\\n\\n*Ingredients:*\\n\\n1. \"],[0.9,\"\\n**Gathered Autumn Squash Risotto:**\\n\\n**Ingredient\"],[0.9,\"\\nComforting Vegetable Stew**\"],[0.9,\"\\n- 2 tablespoons olive oil\\n- 1 large onion, diced\\n\"],[0.9,\"\\n\\nSunday Stew: A Recipe Carved with Love and Memor\"],[0.9,\"\\nComforting Corn and Bean Soup**\\n\\nIngredients:\\n\\n- \"],[0.9,\"Comforting and Nourishing Roasted Vegetable Medley\"],[0.9,\"\\nHer hearty Vegetable Stew**\\n\\n_Ingredients:_\\n\\n- 2 \"],[0.9,\"Creamy Butternut Squash and Sweet Potato Goulash**\"],[0.9,\"\\nSunday Dinner Stew**\\n\\nIngredients:\\n- 1 lb. of cub\"],[0.9,\"\\nGolden Quiche Lorraine**\\n\\nIngredients:\\n- 9-inch p\"],[0.9,\"\\nThe Pumpkin and Apple Soup**\\n\\n*Ingredients:*\\n- 2 \"],[0.9,\"\\nAgnes's Sunday Dinner Delight - A Recipe:\\n\\nIngred\"],[0.9,\"\\nComforting Chili Con Carne**\\n\\n**Ingredients:**\\n\\n1\"],[0.9,\"\\nComforting Beef Stew**\\n\\nIngredients:\\n- 2 pounds o\"],[0.9,\"\\nNow, without further ado, let's head to the kitch\"],[0.9,\"Sunday Family Stew**\\n\\n*Ingredients:*\\n\\n- 1 lb. chic\"],[0.9,\"\\n**Ingredients:\\n1) 4 large chicken breasts\\n2) 1\\u002f2 \"],[0.9,\"\\nRoast Chicken with Root Vegetables**\\n\\nIngredients\"],[1.5,\"Lasagna Primavera:**\\n\\n *Ingredients:*\\n32-ounce can\"],[1.5,\"Caramelized Butternut Squash Risotto**\\n\\n*Preparati\"],[1.5,\"\\nGathering of Roots** is a comforting, easy-to-pre\"],[1.5,\"Classic Stuffed Bell Peppers with a Rich Tomato Ra\"],[1.5,\"Golden Harvest Chicken Soup** is served with fresh\"],[1.5,\"Ham and Cabbage Stew** was born at her old farm wi\"],[1.5,\"\\nAgnes's Herb Roasted Chicken's recipe inspired by\"],[1.5,\"Classic Oven-Roasted Salmon with Garlic and Lemon \"],[1.5,\"Hodgepodge** (feel free to replace by the name if \"],[1.5,\"\\nHarvest Time Roast.**\"],[1.5,\"Golden Delicacy of Minced Chicken Stuffed Pumpkins\"],[1.5,\"\\n Comforting Pumpkin Soup**  \\n\\n(Creamy Roasted Pum\"],[1.5,\"Chicken and Dumpl0n Pie Recipe**\"],[1.5,\"Classic Beef Stew - a Wholesome Tribute of Love by\"],[1.5,\"Comforting & Sharing Weeknight Spag\"],[1.5,\"Grandmother's Pot-Lec\\nServed as a hearty main dish\"],[1.5,\"\\nRoasted Lemon Basil Potatoes**\\n\\nIngredients:\\n\\n*  \"],[1.5,\"\\nEternal Sunday Roast**\\n*Inspired Heirloom Tomato-\"],[1.5,\"\\n**Roasted Vegetable Risotto with Parmesan Crisps\\n\"],[1.5,\"Comforting Chicken and Dumpl0ws**\"],[2.0,\"\"],[2.0,\"Beans & Bacon Soup Classic**\"],[2.0,\"Her grandson's name: Daniel's Sage Pecan Mushroom \"],[2.0,\"**Classic Beef Stew**\"],[2.0,\"Boneless Turkey Breast Marinated with Won Ton Brot\"],[2.0,\"- 4 lbs pork tenderloin\\n\\nThe ingredients may vary \"],[2.0,\"Classic Stewed Leeks\"],[2.0,\"Nested Roasted Mushrooms and Potato Stack, garnish\"],[2.0,\"Enhanced Vegetable-Health Blend Quattro Pilaf -\\nDi\"],[2.0,\"Dill Sous Veit: Grand Mother\\u2019s Feast (with a delig\"],[2.0,\"Memories\\nIn the Hospable Manner: Her Family Herb B\"],[2.0,\"Comin' Thru Corn Cobbage Pie**\"],[2.0,\"Beetroot And Ricotta Ore delights is here:** (Beet\"],[2.0,\"Classic Sunday Cassero0lon Fare**\\n\\nHere's How to C\"],[2.0,\"Honey Garlic Glazed Chicken**   \\n\\n*The Story Recip\"],[2.0,\"Escarole Casserole with Chorizo, Sunflower, and Al\"],[2.0,\"Bubbled Herbed Squash Wellington With a Homemade S\"],[2.0,\"Veciks\\u00fclek Sarmadacip**\"],[2.0,\"Nostalgia Stew on Crisp Autumn Evenings \"],[2.0,\"Excuse the Delicacy**\"]],\"hovertemplate\":\"Temperature: %{customdata[0]}\\u003cbr\\u003eOutput: %{customdata[1]}\",\"legendgroup\":\"\",\"marker\":{\"color\":[0.8,0.4,0.2,1.0,0.2,0.2,1.0,0.8,1.0,1.0,0.4,0.8,0.6000000000000001,0.8,0.2,0.2,0.2,0.8,0.2,0.2,1.0,1.0,0.6000000000000001,0.4,0.2,0.2,0.6000000000000001,1.0,0.2,0.4,0.6000000000000001,0.8,0.2,1.0,0.8,0.6000000000000001,0.2,0.8,0.4,0.8,0.4,0.6000000000000001,0.4,1.0,0.4,1.0,0.6000000000000001,0.4,0.8,0.8,0.6000000000000001,1.0,0.2,0.2,1.0,1.0,0.6000000000000001,0.4,0.6000000000000001,0.8,0.2,0.6000000000000001,0.4,0.4,0.6000000000000001,0.2,0.4,1.0,0.4,1.0,1.0,0.6000000000000001,0.6000000000000001,0.2,0.4,0.8,0.4,0.4,0.4,0.8,0.6000000000000001,0.8,0.2,0.2,1.0,1.0,0.4,0.6000000000000001,0.8,0.6000000000000001,0.6000000000000001,0.6000000000000001,1.0,0.4,0.0,0.0,0.1,0.1,0.1,0.1,0.1,0.1,0.1,0.1,0.1,0.1,0.1,0.1,0.1,0.1,0.1,0.1,0.1,0.1,0.1,0.1,0.30000000000000004,0.30000000000000004,0.30000000000000004,0.30000000000000004,0.30000000000000004,0.30000000000000004,0.30000000000000004,0.30000000000000004,0.30000000000000004,0.30000000000000004,0.30000000000000004,0.30000000000000004,0.30000000000000004,0.30000000000000004,0.30000000000000004,0.30000000000000004,0.30000000000000004,0.30000000000000004,0.30000000000000004,0.30000000000000004,0.5,0.5,0.5,0.5,0.5,0.5,0.5,0.5,0.5,0.5,0.5,0.5,0.5,0.5,0.5,0.5,0.5,0.5,0.5,0.5,0.7000000000000001,0.7000000000000001,0.7000000000000001,0.7000000000000001,0.7000000000000001,0.7000000000000001,0.7000000000000001,0.7000000000000001,0.7000000000000001,0.7000000000000001,0.7000000000000001,0.7000000000000001,0.7000000000000001,0.7000000000000001,0.7000000000000001,0.7000000000000001,0.7000000000000001,0.7000000000000001,0.7000000000000001,0.7000000000000001,0.9,0.9,0.9,0.9,0.9,0.9,0.9,0.9,0.9,0.9,0.9,0.9,0.9,0.9,0.9,0.9,0.9,0.9,0.9,0.9,1.5,1.5,1.5,1.5,1.5,1.5,1.5,1.5,1.5,1.5,1.5,1.5,1.5,1.5,1.5,1.5,1.5,1.5,1.5,1.5,2.0,2.0,2.0,2.0,2.0,2.0,2.0,2.0,2.0,2.0,2.0,2.0,2.0,2.0,2.0,2.0,2.0,2.0,2.0,2.0],\"coloraxis\":\"coloraxis\",\"symbol\":\"circle\"},\"mode\":\"markers\",\"name\":\"\",\"orientation\":\"v\",\"showlegend\":false,\"x\":[-0.3729330599308014,0.07681246101856232,0.17558997869491577,-0.15664081275463104,0.258236289024353,0.15120723843574524,-0.10644052922725677,-0.11605319380760193,-0.3790361285209656,-0.3967551290988922,-0.01733984239399433,0.1329628974199295,-0.0685153603553772,-0.008345603942871094,0.47745397686958313,0.08479858189821243,0.4609580338001251,0.013614137656986713,0.305217444896698,0.4681732654571533,0.11334949731826782,0.17506976425647736,-0.030108192935585976,-0.12928815186023712,-0.21026626229286194,0.07491910457611084,0.002533819992095232,0.1019161120057106,0.08359363675117493,0.06477994471788406,-0.028767738491296768,-0.06661725789308548,-0.015454038046300411,0.010620281100273132,-0.08890649676322937,-0.3318563997745514,-0.2662135064601898,0.15297257900238037,-0.17366039752960205,0.07313963770866394,0.3735699951648712,-0.04176005721092224,0.06878131628036499,-0.37520942091941833,0.15220120549201965,0.17930103838443756,-0.1674375832080841,0.3850630223751068,-0.5182036757469177,-0.4796764552593231,-0.5182036757469177,-0.053498681634664536,0.07736751437187195,0.4602969288825989,0.04483027383685112,0.3119295835494995,-0.35524582862854004,-0.005708214361220598,-0.36045336723327637,0.01813848875463009,0.45039787888526917,-0.3762744069099426,-0.44353824853897095,-0.1151617169380188,-0.39495956897735596,-0.007628752384334803,-0.052851855754852295,-0.13908548653125763,0.45194897055625916,-0.10574774444103241,-0.18046845495700836,-0.1689354032278061,0.3155672550201416,-0.03741747885942459,0.1034449115395546,0.008397825993597507,-0.11941082030534744,0.10324163734912872,-0.2737940549850464,0.05023178458213806,0.018985766917467117,0.3498081564903259,0.06880518794059753,0.3170146942138672,-0.10728243738412857,0.13186129927635193,0.20339572429656982,0.4615936875343323,-0.03219492360949516,0.12954726815223694,-0.0423065684735775,-0.28105273842811584,-0.17170721292495728,-0.29499855637550354,0.4744607210159302,0.4744607210159302,0.030487168580293655,0.44790908694267273,0.44421708583831787,0.2721950113773346,0.08710086345672607,0.4643922448158264,0.4568846821784973,0.46956169605255127,-0.14685553312301636,0.09451305121183395,0.02458314225077629,-0.08385226130485535,0.4374788999557495,0.4704795181751251,-0.13731302320957184,0.039188411086797714,0.289288192987442,0.09716035425662994,0.0643063485622406,-0.03541083633899689,-0.030955476686358452,0.437929630279541,0.024084998294711113,0.2569943368434906,0.009841776452958584,-0.12602432072162628,0.37899354100227356,-0.13832727074623108,0.36011746525764465,-0.36645829677581787,0.017314931377768517,0.036953091621398926,-0.11524505913257599,0.0670696347951889,-0.12145645171403885,0.22728729248046875,0.11732466518878937,0.3470560908317566,0.07833924889564514,-0.20398171246051788,-0.0942460149526596,-0.4121541976928711,0.19535689055919647,-0.07417428493499756,-0.13074761629104614,-0.045160070061683655,0.08270987868309021,-0.12091763317584991,-0.5182036757469177,0.07279491424560547,-0.25434955954551697,-0.033286526799201965,-0.3072720766067505,-0.04723935201764107,-0.1263212114572525,-0.34792691469192505,-0.5182036757469177,-0.16828009486198425,0.03052602894604206,0.13451826572418213,0.06618533283472061,-0.4796764552593231,0.17340026795864105,-0.18601104617118835,-0.07422380149364471,0.2321242392063141,0.049208864569664,-0.21599255502223969,-0.0804743766784668,0.2567080855369568,0.0073584867641329765,-0.145826518535614,0.005948226898908615,-0.019366441294550896,-0.2776213586330414,-0.2594870328903198,0.06737308204174042,-0.10028479993343353,0.027619246393442154,0.17340025305747986,-0.1251690685749054,0.06588669866323471,0.11284886300563812,0.12886029481887817,0.04006406292319298,0.09643349051475525,0.13008920848369598,0.015602308325469494,0.30677998065948486,0.050453461706638336,0.11855509877204895,-0.20539900660514832,0.03287731483578682,0.3033296465873718,-0.04581742361187935,0.05790853127837181,0.29791685938835144,0.13647320866584778,-0.3370668590068817,-0.4017501473426819,-0.010396422818303108,-0.02467624843120575,0.14812572300434113,-0.03315088152885437,-0.19753846526145935,0.10553101450204849,0.04509351775050163,-0.14468340575695038,-0.0470903143286705,-0.3901508152484894,-0.20754066109657288,0.08719006180763245,-0.2900969386100769,0.016756530851125717,-0.18347251415252686,0.1512237787246704,-0.06805670261383057,-0.17733654379844666,-0.08257317543029785,-0.34705668687820435,-0.4796764552593231,-0.03808525949716568,-0.048915281891822815,-0.07564741373062134,-0.1809229850769043,-0.13347257673740387,0.016270387917757034,0.04099889472126961,0.2197093963623047,0.017746299505233765,0.314674437046051,-0.19861702620983124,-0.1283262073993683,0.01466851681470871,0.1426575779914856,-0.0763058140873909,0.029557103291153908,-0.3732738494873047,0.01935170590877533,-0.25147750973701477],\"xaxis\":\"x\",\"y\":[0.2379658967256546,0.2547580301761627,0.12471913546323776,-0.46627071499824524,0.08976346999406815,0.17370803654193878,0.18846549093723297,0.15056908130645752,-0.42268460988998413,0.3416407108306885,0.32130885124206543,-0.04743422195315361,-0.10263980180025101,-0.2296900749206543,-0.03234510123729706,0.24351270496845245,-0.058212172240018845,-0.06843867897987366,0.1931958943605423,0.008336935192346573,0.1085478812456131,-0.3525382876396179,0.11936000734567642,0.18582864105701447,0.26303398609161377,0.2230616956949234,-0.2969517409801483,-0.04104935750365257,0.25281450152397156,-0.04963720962405205,0.2809503972530365,0.17807844281196594,0.17125986516475677,-0.1588377207517624,0.06482069194316864,0.3524841070175171,0.2849069833755493,-0.3866105079650879,0.325649231672287,-0.029949545860290527,-0.03633907809853554,0.16995453834533691,0.2663278877735138,0.3028010427951813,0.12618492543697357,-0.465345561504364,-0.05727110430598259,-0.1098024845123291,-0.7136606574058533,-0.7233007550239563,-0.7136606574058533,0.032813847064971924,0.26503419876098633,-0.03655373677611351,-0.06795357912778854,-0.20208248496055603,0.2618611454963684,0.31819477677345276,0.23973408341407776,-0.19852140545845032,-0.010945274494588375,0.3962770998477936,0.3213491439819336,0.29356804490089417,0.32975465059280396,0.29976022243499756,0.22812342643737793,-0.1551549732685089,-0.010704181157052517,-0.2162981629371643,-0.26269569993019104,0.18121886253356934,-0.027635328471660614,0.07073952257633209,0.202487513422966,0.2576756775379181,0.1755678951740265,0.2605292499065399,0.3497273623943329,0.2751927077770233,0.03683085739612579,-0.19907042384147644,0.26507508754730225,-0.10389122366905212,0.12658022344112396,-0.14387275278568268,-0.168557807803154,-0.020437821745872498,0.20518992841243744,-0.05701008439064026,0.005760753992944956,0.23506630957126617,-0.15449512004852295,0.3948823809623718,-0.031916797161102295,-0.031916797161102295,0.24037860333919525,-0.04889293387532234,0.000978347030468285,0.03311461582779884,0.2525630593299866,-0.02292337827384472,-0.05166574940085411,-0.02765817940235138,0.18867343664169312,0.2411925196647644,0.1693672388792038,0.3561360538005829,0.018604910001158714,-0.03220977261662483,0.34892207384109497,0.2870795726776123,0.051358599215745926,0.2631227672100067,0.2539730966091156,0.3361406922340393,-0.14190542697906494,-0.02577529475092888,0.30911147594451904,0.1099197268486023,0.2708068788051605,0.12518532574176788,-0.07835220545530319,0.3182849884033203,-0.07545135170221329,0.32461825013160706,0.32284581661224365,0.1773182451725006,0.07378418743610382,0.26665690541267395,0.22103355824947357,-0.049125753343105316,0.1828630119562149,-0.07141400873661041,0.2702653408050537,0.2644238770008087,0.24813009798526764,0.31192928552627563,0.04121517390012741,0.1208449974656105,0.349159300327301,-0.09843763709068298,-0.10724993795156479,-0.2197878062725067,-0.7136606574058533,-0.018231183290481567,0.2630431056022644,0.2974149286746979,0.2065187394618988,0.11772692948579788,0.3171696364879608,0.26158392429351807,-0.7136606574058533,0.1313425451517105,0.04856391251087189,0.2437639683485031,0.005771753378212452,-0.7233006954193115,-0.4314922094345093,0.27690598368644714,0.20821216702461243,0.02191886305809021,-0.1903315931558609,0.24591064453125,0.29667362570762634,-0.09899876266717911,0.012123597785830498,0.2873874604701996,0.2474662959575653,0.0769517794251442,-0.020931797102093697,0.3608737587928772,-0.2306193858385086,0.1043149083852768,-0.31085002422332764,-0.43149223923683167,0.3136757016181946,-0.07037394493818283,-0.20568110048770905,-0.30264970660209656,0.0183233805000782,-0.09929585456848145,-0.056720390915870667,-0.02336856909096241,-0.01615363359451294,-0.2000635266304016,-0.06491581350564957,-0.13955338299274445,-0.09002852439880371,0.014935893006622791,-0.11623413860797882,-0.05150802433490753,-0.1766672134399414,0.06566550582647324,0.31135302782058716,0.3090232014656067,-0.11677494645118713,-0.33846449851989746,-0.14348217844963074,-0.13801603019237518,-0.19654658436775208,-0.30835482478141785,0.08062053471803665,-0.09591236710548401,-0.09069617837667465,-0.48034411668777466,0.06854145973920822,-0.17134034633636475,-0.15116357803344727,-0.19806623458862305,-0.3644229471683502,-0.2262776792049408,0.06689359992742538,-0.3369641602039337,-0.047613803297281265,-0.13090121746063232,-0.7233007550239563,-0.3647480607032776,-0.4017634689807892,-0.42951130867004395,-0.1031486988067627,-0.17772936820983887,-0.30946385860443115,-0.33259353041648865,-0.08870591223239899,-0.3374086618423462,-0.30700719356536865,-0.5063437819480896,-0.40667906403541565,-0.17603571712970734,-0.17769397795200348,-0.21929892897605896,-0.45755186676979065,-0.4962807297706604,-0.3859691917896271,-0.5170863270759583],\"yaxis\":\"y\",\"type\":\"scatter\"}],                        {\"template\":{\"data\":{\"histogram2dcontour\":[{\"type\":\"histogram2dcontour\",\"colorbar\":{\"outlinewidth\":0,\"ticks\":\"\"},\"colorscale\":[[0.0,\"#0d0887\"],[0.1111111111111111,\"#46039f\"],[0.2222222222222222,\"#7201a8\"],[0.3333333333333333,\"#9c179e\"],[0.4444444444444444,\"#bd3786\"],[0.5555555555555556,\"#d8576b\"],[0.6666666666666666,\"#ed7953\"],[0.7777777777777778,\"#fb9f3a\"],[0.8888888888888888,\"#fdca26\"],[1.0,\"#f0f921\"]]}],\"choropleth\":[{\"type\":\"choropleth\",\"colorbar\":{\"outlinewidth\":0,\"ticks\":\"\"}}],\"histogram2d\":[{\"type\":\"histogram2d\",\"colorbar\":{\"outlinewidth\":0,\"ticks\":\"\"},\"colorscale\":[[0.0,\"#0d0887\"],[0.1111111111111111,\"#46039f\"],[0.2222222222222222,\"#7201a8\"],[0.3333333333333333,\"#9c179e\"],[0.4444444444444444,\"#bd3786\"],[0.5555555555555556,\"#d8576b\"],[0.6666666666666666,\"#ed7953\"],[0.7777777777777778,\"#fb9f3a\"],[0.8888888888888888,\"#fdca26\"],[1.0,\"#f0f921\"]]}],\"heatmap\":[{\"type\":\"heatmap\",\"colorbar\":{\"outlinewidth\":0,\"ticks\":\"\"},\"colorscale\":[[0.0,\"#0d0887\"],[0.1111111111111111,\"#46039f\"],[0.2222222222222222,\"#7201a8\"],[0.3333333333333333,\"#9c179e\"],[0.4444444444444444,\"#bd3786\"],[0.5555555555555556,\"#d8576b\"],[0.6666666666666666,\"#ed7953\"],[0.7777777777777778,\"#fb9f3a\"],[0.8888888888888888,\"#fdca26\"],[1.0,\"#f0f921\"]]}],\"heatmapgl\":[{\"type\":\"heatmapgl\",\"colorbar\":{\"outlinewidth\":0,\"ticks\":\"\"},\"colorscale\":[[0.0,\"#0d0887\"],[0.1111111111111111,\"#46039f\"],[0.2222222222222222,\"#7201a8\"],[0.3333333333333333,\"#9c179e\"],[0.4444444444444444,\"#bd3786\"],[0.5555555555555556,\"#d8576b\"],[0.6666666666666666,\"#ed7953\"],[0.7777777777777778,\"#fb9f3a\"],[0.8888888888888888,\"#fdca26\"],[1.0,\"#f0f921\"]]}],\"contourcarpet\":[{\"type\":\"contourcarpet\",\"colorbar\":{\"outlinewidth\":0,\"ticks\":\"\"}}],\"contour\":[{\"type\":\"contour\",\"colorbar\":{\"outlinewidth\":0,\"ticks\":\"\"},\"colorscale\":[[0.0,\"#0d0887\"],[0.1111111111111111,\"#46039f\"],[0.2222222222222222,\"#7201a8\"],[0.3333333333333333,\"#9c179e\"],[0.4444444444444444,\"#bd3786\"],[0.5555555555555556,\"#d8576b\"],[0.6666666666666666,\"#ed7953\"],[0.7777777777777778,\"#fb9f3a\"],[0.8888888888888888,\"#fdca26\"],[1.0,\"#f0f921\"]]}],\"surface\":[{\"type\":\"surface\",\"colorbar\":{\"outlinewidth\":0,\"ticks\":\"\"},\"colorscale\":[[0.0,\"#0d0887\"],[0.1111111111111111,\"#46039f\"],[0.2222222222222222,\"#7201a8\"],[0.3333333333333333,\"#9c179e\"],[0.4444444444444444,\"#bd3786\"],[0.5555555555555556,\"#d8576b\"],[0.6666666666666666,\"#ed7953\"],[0.7777777777777778,\"#fb9f3a\"],[0.8888888888888888,\"#fdca26\"],[1.0,\"#f0f921\"]]}],\"mesh3d\":[{\"type\":\"mesh3d\",\"colorbar\":{\"outlinewidth\":0,\"ticks\":\"\"}}],\"scatter\":[{\"fillpattern\":{\"fillmode\":\"overlay\",\"size\":10,\"solidity\":0.2},\"type\":\"scatter\"}],\"parcoords\":[{\"type\":\"parcoords\",\"line\":{\"colorbar\":{\"outlinewidth\":0,\"ticks\":\"\"}}}],\"scatterpolargl\":[{\"type\":\"scatterpolargl\",\"marker\":{\"colorbar\":{\"outlinewidth\":0,\"ticks\":\"\"}}}],\"bar\":[{\"error_x\":{\"color\":\"#2a3f5f\"},\"error_y\":{\"color\":\"#2a3f5f\"},\"marker\":{\"line\":{\"color\":\"#E5ECF6\",\"width\":0.5},\"pattern\":{\"fillmode\":\"overlay\",\"size\":10,\"solidity\":0.2}},\"type\":\"bar\"}],\"scattergeo\":[{\"type\":\"scattergeo\",\"marker\":{\"colorbar\":{\"outlinewidth\":0,\"ticks\":\"\"}}}],\"scatterpolar\":[{\"type\":\"scatterpolar\",\"marker\":{\"colorbar\":{\"outlinewidth\":0,\"ticks\":\"\"}}}],\"histogram\":[{\"marker\":{\"pattern\":{\"fillmode\":\"overlay\",\"size\":10,\"solidity\":0.2}},\"type\":\"histogram\"}],\"scattergl\":[{\"type\":\"scattergl\",\"marker\":{\"colorbar\":{\"outlinewidth\":0,\"ticks\":\"\"}}}],\"scatter3d\":[{\"type\":\"scatter3d\",\"line\":{\"colorbar\":{\"outlinewidth\":0,\"ticks\":\"\"}},\"marker\":{\"colorbar\":{\"outlinewidth\":0,\"ticks\":\"\"}}}],\"scattermapbox\":[{\"type\":\"scattermapbox\",\"marker\":{\"colorbar\":{\"outlinewidth\":0,\"ticks\":\"\"}}}],\"scatterternary\":[{\"type\":\"scatterternary\",\"marker\":{\"colorbar\":{\"outlinewidth\":0,\"ticks\":\"\"}}}],\"scattercarpet\":[{\"type\":\"scattercarpet\",\"marker\":{\"colorbar\":{\"outlinewidth\":0,\"ticks\":\"\"}}}],\"carpet\":[{\"aaxis\":{\"endlinecolor\":\"#2a3f5f\",\"gridcolor\":\"white\",\"linecolor\":\"white\",\"minorgridcolor\":\"white\",\"startlinecolor\":\"#2a3f5f\"},\"baxis\":{\"endlinecolor\":\"#2a3f5f\",\"gridcolor\":\"white\",\"linecolor\":\"white\",\"minorgridcolor\":\"white\",\"startlinecolor\":\"#2a3f5f\"},\"type\":\"carpet\"}],\"table\":[{\"cells\":{\"fill\":{\"color\":\"#EBF0F8\"},\"line\":{\"color\":\"white\"}},\"header\":{\"fill\":{\"color\":\"#C8D4E3\"},\"line\":{\"color\":\"white\"}},\"type\":\"table\"}],\"barpolar\":[{\"marker\":{\"line\":{\"color\":\"#E5ECF6\",\"width\":0.5},\"pattern\":{\"fillmode\":\"overlay\",\"size\":10,\"solidity\":0.2}},\"type\":\"barpolar\"}],\"pie\":[{\"automargin\":true,\"type\":\"pie\"}]},\"layout\":{\"autotypenumbers\":\"strict\",\"colorway\":[\"#636efa\",\"#EF553B\",\"#00cc96\",\"#ab63fa\",\"#FFA15A\",\"#19d3f3\",\"#FF6692\",\"#B6E880\",\"#FF97FF\",\"#FECB52\"],\"font\":{\"color\":\"#2a3f5f\"},\"hovermode\":\"closest\",\"hoverlabel\":{\"align\":\"left\"},\"paper_bgcolor\":\"white\",\"plot_bgcolor\":\"#E5ECF6\",\"polar\":{\"bgcolor\":\"#E5ECF6\",\"angularaxis\":{\"gridcolor\":\"white\",\"linecolor\":\"white\",\"ticks\":\"\"},\"radialaxis\":{\"gridcolor\":\"white\",\"linecolor\":\"white\",\"ticks\":\"\"}},\"ternary\":{\"bgcolor\":\"#E5ECF6\",\"aaxis\":{\"gridcolor\":\"white\",\"linecolor\":\"white\",\"ticks\":\"\"},\"baxis\":{\"gridcolor\":\"white\",\"linecolor\":\"white\",\"ticks\":\"\"},\"caxis\":{\"gridcolor\":\"white\",\"linecolor\":\"white\",\"ticks\":\"\"}},\"coloraxis\":{\"colorbar\":{\"outlinewidth\":0,\"ticks\":\"\"}},\"colorscale\":{\"sequential\":[[0.0,\"#0d0887\"],[0.1111111111111111,\"#46039f\"],[0.2222222222222222,\"#7201a8\"],[0.3333333333333333,\"#9c179e\"],[0.4444444444444444,\"#bd3786\"],[0.5555555555555556,\"#d8576b\"],[0.6666666666666666,\"#ed7953\"],[0.7777777777777778,\"#fb9f3a\"],[0.8888888888888888,\"#fdca26\"],[1.0,\"#f0f921\"]],\"sequentialminus\":[[0.0,\"#0d0887\"],[0.1111111111111111,\"#46039f\"],[0.2222222222222222,\"#7201a8\"],[0.3333333333333333,\"#9c179e\"],[0.4444444444444444,\"#bd3786\"],[0.5555555555555556,\"#d8576b\"],[0.6666666666666666,\"#ed7953\"],[0.7777777777777778,\"#fb9f3a\"],[0.8888888888888888,\"#fdca26\"],[1.0,\"#f0f921\"]],\"diverging\":[[0,\"#8e0152\"],[0.1,\"#c51b7d\"],[0.2,\"#de77ae\"],[0.3,\"#f1b6da\"],[0.4,\"#fde0ef\"],[0.5,\"#f7f7f7\"],[0.6,\"#e6f5d0\"],[0.7,\"#b8e186\"],[0.8,\"#7fbc41\"],[0.9,\"#4d9221\"],[1,\"#276419\"]]},\"xaxis\":{\"gridcolor\":\"white\",\"linecolor\":\"white\",\"ticks\":\"\",\"title\":{\"standoff\":15},\"zerolinecolor\":\"white\",\"automargin\":true,\"zerolinewidth\":2},\"yaxis\":{\"gridcolor\":\"white\",\"linecolor\":\"white\",\"ticks\":\"\",\"title\":{\"standoff\":15},\"zerolinecolor\":\"white\",\"automargin\":true,\"zerolinewidth\":2},\"scene\":{\"xaxis\":{\"backgroundcolor\":\"#E5ECF6\",\"gridcolor\":\"white\",\"linecolor\":\"white\",\"showbackground\":true,\"ticks\":\"\",\"zerolinecolor\":\"white\",\"gridwidth\":2},\"yaxis\":{\"backgroundcolor\":\"#E5ECF6\",\"gridcolor\":\"white\",\"linecolor\":\"white\",\"showbackground\":true,\"ticks\":\"\",\"zerolinecolor\":\"white\",\"gridwidth\":2},\"zaxis\":{\"backgroundcolor\":\"#E5ECF6\",\"gridcolor\":\"white\",\"linecolor\":\"white\",\"showbackground\":true,\"ticks\":\"\",\"zerolinecolor\":\"white\",\"gridwidth\":2}},\"shapedefaults\":{\"line\":{\"color\":\"#2a3f5f\"}},\"annotationdefaults\":{\"arrowcolor\":\"#2a3f5f\",\"arrowhead\":0,\"arrowwidth\":1},\"geo\":{\"bgcolor\":\"white\",\"landcolor\":\"#E5ECF6\",\"subunitcolor\":\"white\",\"showland\":true,\"showlakes\":true,\"lakecolor\":\"white\"},\"title\":{\"x\":0.05},\"mapbox\":{\"style\":\"light\"}}},\"xaxis\":{\"anchor\":\"y\",\"domain\":[0.0,1.0],\"title\":{\"text\":\"dim1\"}},\"yaxis\":{\"anchor\":\"x\",\"domain\":[0.0,1.0],\"title\":{\"text\":\"dim2\"}},\"coloraxis\":{\"colorbar\":{\"title\":{\"text\":\"temperature\"}},\"colorscale\":[[0.0,\"#0d0887\"],[0.1111111111111111,\"#46039f\"],[0.2222222222222222,\"#7201a8\"],[0.3333333333333333,\"#9c179e\"],[0.4444444444444444,\"#bd3786\"],[0.5555555555555556,\"#d8576b\"],[0.6666666666666666,\"#ed7953\"],[0.7777777777777778,\"#fb9f3a\"],[0.8888888888888888,\"#fdca26\"],[1.0,\"#f0f921\"]]},\"legend\":{\"tracegroupgap\":0},\"title\":{\"text\":\"Dim reduction of Agnes Story Embeddings\"}},                        {\"responsive\": true}                    ).then(function(){\n",
       "                            \n",
       "var gd = document.getElementById('9f199a35-52cb-40b3-ba41-d5ad3cf9419f');\n",
       "var x = new MutationObserver(function (mutations, observer) {{\n",
       "        var display = window.getComputedStyle(gd).display;\n",
       "        if (!display || display === 'none') {{\n",
       "            console.log([gd, 'removed!']);\n",
       "            Plotly.purge(gd);\n",
       "            observer.disconnect();\n",
       "        }}\n",
       "}});\n",
       "\n",
       "// Listen for the removal of the full notebook cells\n",
       "var notebookContainer = gd.closest('#notebook-container');\n",
       "if (notebookContainer) {{\n",
       "    x.observe(notebookContainer, {childList: true});\n",
       "}}\n",
       "\n",
       "// Listen for the clearing of the current output cell\n",
       "var outputEl = gd.closest('.output');\n",
       "if (outputEl) {{\n",
       "    x.observe(outputEl, {childList: true});\n",
       "}}\n",
       "\n",
       "                        })                };                });            </script>        </div>"
      ]
     },
     "metadata": {},
     "output_type": "display_data"
    }
   ],
   "source": [
    "# carry out pca on embeddings using sklearn\n",
    "reducer = PCA(n_components=2)\n",
    "embeddings_reduced = reducer.fit_transform(embeddings)\n",
    "print(embeddings_reduced.shape)\n",
    "\n",
    "# visualize the embeddings using plotly\n",
    "import plotly.express as px\n",
    "\n",
    "results_df[\"dim1\"] = embeddings_reduced[:, 1]\n",
    "results_df[\"dim2\"] = embeddings_reduced[:, 0]\n",
    "\n",
    "results_df[\"truncated_output\"] = results_df[\"output\"].str[:50]\n",
    "\n",
    "fig = px.scatter(\n",
    "    results_df,\n",
    "    x=\"dim1\",\n",
    "    y=\"dim2\",\n",
    "    hover_data=[\"temperature\", \"truncated_output\"],\n",
    "    title=\"Dim reduction of Agnes Story Embeddings\",\n",
    "    color=\"temperature\",\n",
    ")\n",
    "\n",
    "fig.update_traces(\n",
    "    hovertemplate=\"<br>\".join(\n",
    "        [\"Temperature: %{customdata[0]}\", \"Output: %{customdata[1]}\"]\n",
    "    )\n",
    ")\n",
    "\n",
    "fig.show()"
   ]
  },
  {
   "cell_type": "markdown",
   "metadata": {},
   "source": [
    "### Cosine similarity with temperature 0 output"
   ]
  },
  {
   "cell_type": "code",
   "execution_count": 22,
   "metadata": {},
   "outputs": [
    {
     "data": {
      "application/vnd.plotly.v1+json": {
       "config": {
        "plotlyServerURL": "https://plot.ly"
       },
       "data": [
        {
         "mode": "lines",
         "name": "0.1",
         "type": "scatter",
         "x": [
          0.5399786980498471,
          0.6168129694382358,
          0.6500610695127751,
          0.667975894876818,
          0.6734998934993408,
          0.6960819593270865,
          0.7238710605767181,
          0.7242817254255693,
          0.7412906061098788,
          0.7444818943020436,
          0.7531596109393739,
          0.7782928473924937,
          0.8036798987686571,
          0.9754303970162391,
          0.975972161379977,
          0.9760648527439856,
          0.9769226898310122,
          0.984911438802988,
          0.9962390757624611,
          0.9977754469321938
         ],
         "xaxis": "x",
         "y": [
          0.05,
          0.1,
          0.15,
          0.2,
          0.25,
          0.3,
          0.35,
          0.4,
          0.45,
          0.5,
          0.55,
          0.6,
          0.65,
          0.7,
          0.75,
          0.8,
          0.85,
          0.9,
          0.95,
          1
         ],
         "yaxis": "y"
        },
        {
         "mode": "lines",
         "name": "0.2",
         "type": "scatter",
         "x": [
          0.45349711086670025,
          0.5008408801510573,
          0.6003055917602786,
          0.6393120848775591,
          0.6418672534203438,
          0.6538634308846449,
          0.6707431163646083,
          0.6717895722053523,
          0.7286424159516494,
          0.7343623017353962,
          0.747913104103717,
          0.7507618783377459,
          0.7868249888544107,
          0.7900604734109298,
          0.9007330284699724,
          0.9639222474152316,
          0.9749133386791153,
          0.984557297219216,
          0.9874899304047726,
          0.9927229822683212
         ],
         "xaxis": "x",
         "y": [
          0.05,
          0.1,
          0.15,
          0.2,
          0.25,
          0.3,
          0.35,
          0.4,
          0.45,
          0.5,
          0.55,
          0.6,
          0.65,
          0.7,
          0.75,
          0.8,
          0.85,
          0.9,
          0.95,
          1
         ],
         "yaxis": "y"
        },
        {
         "mode": "lines",
         "name": "0.30000000000000004",
         "type": "scatter",
         "x": [
          0.46251932695584647,
          0.47624961683925776,
          0.5025719080705339,
          0.5366032660477963,
          0.5579075137871414,
          0.5637213597765125,
          0.5829240118841907,
          0.66711838128318,
          0.6738426055883036,
          0.6947612585260687,
          0.6965179312630162,
          0.7031831370871126,
          0.719423806469902,
          0.7488926678669093,
          0.7539208009995143,
          0.7676216092346311,
          0.7678626397673283,
          0.7694526493713222,
          0.8205772876722395,
          0.9686481297197373
         ],
         "xaxis": "x",
         "y": [
          0.05,
          0.1,
          0.15,
          0.2,
          0.25,
          0.3,
          0.35,
          0.4,
          0.45,
          0.5,
          0.55,
          0.6,
          0.65,
          0.7,
          0.75,
          0.8,
          0.85,
          0.9,
          0.95,
          1
         ],
         "yaxis": "y"
        },
        {
         "mode": "lines",
         "name": "0.4",
         "type": "scatter",
         "x": [
          0.3457707843583294,
          0.49431615417974656,
          0.5040965140167479,
          0.5585563303967945,
          0.5600925557883153,
          0.5982104899108759,
          0.6060034378191617,
          0.6065500222823269,
          0.6381132345930172,
          0.651935823181801,
          0.6674566809796683,
          0.6901080327776082,
          0.7180404730045634,
          0.7212721287814754,
          0.7257524019585249,
          0.7267885988818867,
          0.7544194618887171,
          0.7649409344920596,
          0.9377384768991941,
          0.9440124970561525
         ],
         "xaxis": "x",
         "y": [
          0.05,
          0.1,
          0.15,
          0.2,
          0.25,
          0.3,
          0.35,
          0.4,
          0.45,
          0.5,
          0.55,
          0.6,
          0.65,
          0.7,
          0.75,
          0.8,
          0.85,
          0.9,
          0.95,
          1
         ],
         "yaxis": "y"
        },
        {
         "mode": "lines",
         "name": "0.5",
         "type": "scatter",
         "x": [
          0.05774783373688343,
          0.05774783373688343,
          0.4350543739940004,
          0.4393927832631668,
          0.44790689296353164,
          0.45022212184673727,
          0.4667407697775253,
          0.48957038504274375,
          0.5361695127118189,
          0.5536659125766035,
          0.5604291729006289,
          0.5608927577958436,
          0.5610411042240461,
          0.6245036554460133,
          0.6266532928293447,
          0.627250922177641,
          0.6573554997031589,
          0.682013848102457,
          0.7576830871050485,
          0.7633471759210269
         ],
         "xaxis": "x",
         "y": [
          0.05,
          0.1,
          0.15,
          0.2,
          0.25,
          0.3,
          0.35,
          0.4,
          0.45,
          0.5,
          0.55,
          0.6,
          0.65,
          0.7,
          0.75,
          0.8,
          0.85,
          0.9,
          0.95,
          1
         ],
         "yaxis": "y"
        },
        {
         "mode": "lines",
         "name": "0.6000000000000001",
         "type": "scatter",
         "x": [
          0.05774783373688343,
          0.4050338709885416,
          0.406812458023302,
          0.4127158158614378,
          0.43809583725732093,
          0.4537910041219909,
          0.4553074518423326,
          0.45868031127680353,
          0.47727378852693214,
          0.5021586424578457,
          0.506659694962125,
          0.5756102184755776,
          0.5820756276514943,
          0.5829910806771372,
          0.6350888492918534,
          0.6542433072222581,
          0.6542872313139438,
          0.7403220801901285,
          0.9778929904758786
         ],
         "xaxis": "x",
         "y": [
          0.05263157894736842,
          0.10526315789473684,
          0.15789473684210525,
          0.21052631578947367,
          0.2631578947368421,
          0.3157894736842105,
          0.3684210526315789,
          0.42105263157894735,
          0.47368421052631576,
          0.5263157894736842,
          0.5789473684210527,
          0.631578947368421,
          0.6842105263157895,
          0.7368421052631579,
          0.7894736842105263,
          0.8421052631578947,
          0.8947368421052632,
          0.9473684210526315,
          1
         ],
         "yaxis": "y"
        },
        {
         "mode": "lines",
         "name": "0.7000000000000001",
         "type": "scatter",
         "x": [
          0.014872451443745499,
          0.3746280389286034,
          0.397044959026489,
          0.397044959026489,
          0.4851772919353715,
          0.48611645949363,
          0.4997844608668776,
          0.5101382137985052,
          0.5278837625177808,
          0.5353380760921966,
          0.5471645713249682,
          0.5510350796830834,
          0.5701773838742127,
          0.5810974566877973,
          0.5948587447559677,
          0.636660856579825,
          0.6645031040411075,
          0.6982804374574706,
          0.7272346694028935,
          0.7379969807702609
         ],
         "xaxis": "x",
         "y": [
          0.05,
          0.1,
          0.15,
          0.2,
          0.25,
          0.3,
          0.35,
          0.4,
          0.45,
          0.5,
          0.55,
          0.6,
          0.65,
          0.7,
          0.75,
          0.8,
          0.85,
          0.9,
          0.95,
          1
         ],
         "yaxis": "y"
        },
        {
         "mode": "lines",
         "name": "0.8",
         "type": "scatter",
         "x": [
          0.014872451443745499,
          0.05774783373688343,
          0.44203706649986224,
          0.4487634387683813,
          0.45052735342269684,
          0.5018180136813672,
          0.5572841630158889,
          0.5737793825901759,
          0.5927792581112876,
          0.6018835504183273,
          0.6399150946104997,
          0.6531098099234891,
          0.6593200972405938,
          0.6684031396894595,
          0.7298245016088079,
          0.7895579139079953
         ],
         "xaxis": "x",
         "y": [
          0.0625,
          0.125,
          0.1875,
          0.25,
          0.3125,
          0.375,
          0.4375,
          0.5,
          0.5625,
          0.625,
          0.6875,
          0.75,
          0.8125,
          0.875,
          0.9375,
          1
         ],
         "yaxis": "y"
        },
        {
         "mode": "lines",
         "name": "0.9",
         "type": "scatter",
         "x": [
          0.33810054368391457,
          0.38258633169981937,
          0.42741786835934553,
          0.47461077446735794,
          0.5388018445553349,
          0.5502684249757628,
          0.565866640808677,
          0.5785529388398538,
          0.5993393361012218,
          0.6214218851227283,
          0.621641869153414,
          0.6284638053055474,
          0.6388114790796977,
          0.6513110234877773,
          0.6609254224209421,
          0.6621846803681422,
          0.7166896594741194,
          0.7356264128180052,
          0.7543607601773117,
          0.8610558759423818
         ],
         "xaxis": "x",
         "y": [
          0.05,
          0.1,
          0.15,
          0.2,
          0.25,
          0.3,
          0.35,
          0.4,
          0.45,
          0.5,
          0.55,
          0.6,
          0.65,
          0.7,
          0.75,
          0.8,
          0.85,
          0.9,
          0.95,
          1
         ],
         "yaxis": "y"
        },
        {
         "mode": "lines",
         "name": "1.0",
         "type": "scatter",
         "x": [
          0.1911628653127165,
          0.3300319063296743,
          0.34893542511439474,
          0.35060178218680305,
          0.3782376015897594,
          0.4273005351929845,
          0.43567824530999777,
          0.4518221784811606,
          0.4580411131623626,
          0.462715855064234,
          0.5362245294360248,
          0.541277247829171,
          0.5895893565172904,
          0.6064989866722118,
          0.6373668915619144,
          0.6466842846984966,
          0.6622548928067596,
          0.699179052179284,
          0.7511098669338176
         ],
         "xaxis": "x",
         "y": [
          0.05263157894736842,
          0.10526315789473684,
          0.15789473684210525,
          0.21052631578947367,
          0.2631578947368421,
          0.3157894736842105,
          0.3684210526315789,
          0.42105263157894735,
          0.47368421052631576,
          0.5263157894736842,
          0.5789473684210527,
          0.631578947368421,
          0.6842105263157895,
          0.7368421052631579,
          0.7894736842105263,
          0.8421052631578947,
          0.8947368421052632,
          0.9473684210526315,
          1
         ],
         "yaxis": "y"
        },
        {
         "mode": "lines",
         "name": "1.5",
         "type": "scatter",
         "x": [
          0.1985454584191817,
          0.2191451785714671,
          0.2702318006906578,
          0.3419442184147898,
          0.3423528469517447,
          0.3886462001280186,
          0.42178380173364277,
          0.44554048827264214,
          0.46202805066167896,
          0.48772007181819244,
          0.5213559673166307,
          0.5281745862581954,
          0.5363050599839955,
          0.5449561156228436,
          0.5457402400478502,
          0.5696350599888871,
          0.5788548586283483,
          0.6111326208447322,
          0.6608059629746997,
          0.6618485531817118
         ],
         "xaxis": "x",
         "y": [
          0.05,
          0.1,
          0.15,
          0.2,
          0.25,
          0.3,
          0.35,
          0.4,
          0.45,
          0.5,
          0.55,
          0.6,
          0.65,
          0.7,
          0.75,
          0.8,
          0.85,
          0.9,
          0.95,
          1
         ],
         "yaxis": "y"
        },
        {
         "mode": "lines",
         "name": "2.0",
         "type": "scatter",
         "x": [
          0.014872451443745499,
          0.06352792745828992,
          0.1712433019572074,
          0.26361052339255225,
          0.27203429945419655,
          0.3086455279563298,
          0.3532185824509552,
          0.35759154548362104,
          0.4097549405579072,
          0.42397528245915006,
          0.4329236869290205,
          0.4454476485612072,
          0.4546919124859742,
          0.46943001443421695,
          0.4763110642225153,
          0.49288678884029546,
          0.5082729257628902,
          0.5600236167809736,
          0.675217590275097,
          0.7045085889268603
         ],
         "xaxis": "x",
         "y": [
          0.05,
          0.1,
          0.15,
          0.2,
          0.25,
          0.3,
          0.35,
          0.4,
          0.45,
          0.5,
          0.55,
          0.6,
          0.65,
          0.7,
          0.75,
          0.8,
          0.85,
          0.9,
          0.95,
          1
         ],
         "yaxis": "y"
        }
       ],
       "layout": {
        "legend": {
         "title": {
          "text": "Temperature"
         }
        },
        "template": {
         "data": {
          "bar": [
           {
            "error_x": {
             "color": "#2a3f5f"
            },
            "error_y": {
             "color": "#2a3f5f"
            },
            "marker": {
             "line": {
              "color": "#E5ECF6",
              "width": 0.5
             },
             "pattern": {
              "fillmode": "overlay",
              "size": 10,
              "solidity": 0.2
             }
            },
            "type": "bar"
           }
          ],
          "barpolar": [
           {
            "marker": {
             "line": {
              "color": "#E5ECF6",
              "width": 0.5
             },
             "pattern": {
              "fillmode": "overlay",
              "size": 10,
              "solidity": 0.2
             }
            },
            "type": "barpolar"
           }
          ],
          "carpet": [
           {
            "aaxis": {
             "endlinecolor": "#2a3f5f",
             "gridcolor": "white",
             "linecolor": "white",
             "minorgridcolor": "white",
             "startlinecolor": "#2a3f5f"
            },
            "baxis": {
             "endlinecolor": "#2a3f5f",
             "gridcolor": "white",
             "linecolor": "white",
             "minorgridcolor": "white",
             "startlinecolor": "#2a3f5f"
            },
            "type": "carpet"
           }
          ],
          "choropleth": [
           {
            "colorbar": {
             "outlinewidth": 0,
             "ticks": ""
            },
            "type": "choropleth"
           }
          ],
          "contour": [
           {
            "colorbar": {
             "outlinewidth": 0,
             "ticks": ""
            },
            "colorscale": [
             [
              0,
              "#0d0887"
             ],
             [
              0.1111111111111111,
              "#46039f"
             ],
             [
              0.2222222222222222,
              "#7201a8"
             ],
             [
              0.3333333333333333,
              "#9c179e"
             ],
             [
              0.4444444444444444,
              "#bd3786"
             ],
             [
              0.5555555555555556,
              "#d8576b"
             ],
             [
              0.6666666666666666,
              "#ed7953"
             ],
             [
              0.7777777777777778,
              "#fb9f3a"
             ],
             [
              0.8888888888888888,
              "#fdca26"
             ],
             [
              1,
              "#f0f921"
             ]
            ],
            "type": "contour"
           }
          ],
          "contourcarpet": [
           {
            "colorbar": {
             "outlinewidth": 0,
             "ticks": ""
            },
            "type": "contourcarpet"
           }
          ],
          "heatmap": [
           {
            "colorbar": {
             "outlinewidth": 0,
             "ticks": ""
            },
            "colorscale": [
             [
              0,
              "#0d0887"
             ],
             [
              0.1111111111111111,
              "#46039f"
             ],
             [
              0.2222222222222222,
              "#7201a8"
             ],
             [
              0.3333333333333333,
              "#9c179e"
             ],
             [
              0.4444444444444444,
              "#bd3786"
             ],
             [
              0.5555555555555556,
              "#d8576b"
             ],
             [
              0.6666666666666666,
              "#ed7953"
             ],
             [
              0.7777777777777778,
              "#fb9f3a"
             ],
             [
              0.8888888888888888,
              "#fdca26"
             ],
             [
              1,
              "#f0f921"
             ]
            ],
            "type": "heatmap"
           }
          ],
          "heatmapgl": [
           {
            "colorbar": {
             "outlinewidth": 0,
             "ticks": ""
            },
            "colorscale": [
             [
              0,
              "#0d0887"
             ],
             [
              0.1111111111111111,
              "#46039f"
             ],
             [
              0.2222222222222222,
              "#7201a8"
             ],
             [
              0.3333333333333333,
              "#9c179e"
             ],
             [
              0.4444444444444444,
              "#bd3786"
             ],
             [
              0.5555555555555556,
              "#d8576b"
             ],
             [
              0.6666666666666666,
              "#ed7953"
             ],
             [
              0.7777777777777778,
              "#fb9f3a"
             ],
             [
              0.8888888888888888,
              "#fdca26"
             ],
             [
              1,
              "#f0f921"
             ]
            ],
            "type": "heatmapgl"
           }
          ],
          "histogram": [
           {
            "marker": {
             "pattern": {
              "fillmode": "overlay",
              "size": 10,
              "solidity": 0.2
             }
            },
            "type": "histogram"
           }
          ],
          "histogram2d": [
           {
            "colorbar": {
             "outlinewidth": 0,
             "ticks": ""
            },
            "colorscale": [
             [
              0,
              "#0d0887"
             ],
             [
              0.1111111111111111,
              "#46039f"
             ],
             [
              0.2222222222222222,
              "#7201a8"
             ],
             [
              0.3333333333333333,
              "#9c179e"
             ],
             [
              0.4444444444444444,
              "#bd3786"
             ],
             [
              0.5555555555555556,
              "#d8576b"
             ],
             [
              0.6666666666666666,
              "#ed7953"
             ],
             [
              0.7777777777777778,
              "#fb9f3a"
             ],
             [
              0.8888888888888888,
              "#fdca26"
             ],
             [
              1,
              "#f0f921"
             ]
            ],
            "type": "histogram2d"
           }
          ],
          "histogram2dcontour": [
           {
            "colorbar": {
             "outlinewidth": 0,
             "ticks": ""
            },
            "colorscale": [
             [
              0,
              "#0d0887"
             ],
             [
              0.1111111111111111,
              "#46039f"
             ],
             [
              0.2222222222222222,
              "#7201a8"
             ],
             [
              0.3333333333333333,
              "#9c179e"
             ],
             [
              0.4444444444444444,
              "#bd3786"
             ],
             [
              0.5555555555555556,
              "#d8576b"
             ],
             [
              0.6666666666666666,
              "#ed7953"
             ],
             [
              0.7777777777777778,
              "#fb9f3a"
             ],
             [
              0.8888888888888888,
              "#fdca26"
             ],
             [
              1,
              "#f0f921"
             ]
            ],
            "type": "histogram2dcontour"
           }
          ],
          "mesh3d": [
           {
            "colorbar": {
             "outlinewidth": 0,
             "ticks": ""
            },
            "type": "mesh3d"
           }
          ],
          "parcoords": [
           {
            "line": {
             "colorbar": {
              "outlinewidth": 0,
              "ticks": ""
             }
            },
            "type": "parcoords"
           }
          ],
          "pie": [
           {
            "automargin": true,
            "type": "pie"
           }
          ],
          "scatter": [
           {
            "fillpattern": {
             "fillmode": "overlay",
             "size": 10,
             "solidity": 0.2
            },
            "type": "scatter"
           }
          ],
          "scatter3d": [
           {
            "line": {
             "colorbar": {
              "outlinewidth": 0,
              "ticks": ""
             }
            },
            "marker": {
             "colorbar": {
              "outlinewidth": 0,
              "ticks": ""
             }
            },
            "type": "scatter3d"
           }
          ],
          "scattercarpet": [
           {
            "marker": {
             "colorbar": {
              "outlinewidth": 0,
              "ticks": ""
             }
            },
            "type": "scattercarpet"
           }
          ],
          "scattergeo": [
           {
            "marker": {
             "colorbar": {
              "outlinewidth": 0,
              "ticks": ""
             }
            },
            "type": "scattergeo"
           }
          ],
          "scattergl": [
           {
            "marker": {
             "colorbar": {
              "outlinewidth": 0,
              "ticks": ""
             }
            },
            "type": "scattergl"
           }
          ],
          "scattermapbox": [
           {
            "marker": {
             "colorbar": {
              "outlinewidth": 0,
              "ticks": ""
             }
            },
            "type": "scattermapbox"
           }
          ],
          "scatterpolar": [
           {
            "marker": {
             "colorbar": {
              "outlinewidth": 0,
              "ticks": ""
             }
            },
            "type": "scatterpolar"
           }
          ],
          "scatterpolargl": [
           {
            "marker": {
             "colorbar": {
              "outlinewidth": 0,
              "ticks": ""
             }
            },
            "type": "scatterpolargl"
           }
          ],
          "scatterternary": [
           {
            "marker": {
             "colorbar": {
              "outlinewidth": 0,
              "ticks": ""
             }
            },
            "type": "scatterternary"
           }
          ],
          "surface": [
           {
            "colorbar": {
             "outlinewidth": 0,
             "ticks": ""
            },
            "colorscale": [
             [
              0,
              "#0d0887"
             ],
             [
              0.1111111111111111,
              "#46039f"
             ],
             [
              0.2222222222222222,
              "#7201a8"
             ],
             [
              0.3333333333333333,
              "#9c179e"
             ],
             [
              0.4444444444444444,
              "#bd3786"
             ],
             [
              0.5555555555555556,
              "#d8576b"
             ],
             [
              0.6666666666666666,
              "#ed7953"
             ],
             [
              0.7777777777777778,
              "#fb9f3a"
             ],
             [
              0.8888888888888888,
              "#fdca26"
             ],
             [
              1,
              "#f0f921"
             ]
            ],
            "type": "surface"
           }
          ],
          "table": [
           {
            "cells": {
             "fill": {
              "color": "#EBF0F8"
             },
             "line": {
              "color": "white"
             }
            },
            "header": {
             "fill": {
              "color": "#C8D4E3"
             },
             "line": {
              "color": "white"
             }
            },
            "type": "table"
           }
          ]
         },
         "layout": {
          "annotationdefaults": {
           "arrowcolor": "#2a3f5f",
           "arrowhead": 0,
           "arrowwidth": 1
          },
          "autotypenumbers": "strict",
          "coloraxis": {
           "colorbar": {
            "outlinewidth": 0,
            "ticks": ""
           }
          },
          "colorscale": {
           "diverging": [
            [
             0,
             "#8e0152"
            ],
            [
             0.1,
             "#c51b7d"
            ],
            [
             0.2,
             "#de77ae"
            ],
            [
             0.3,
             "#f1b6da"
            ],
            [
             0.4,
             "#fde0ef"
            ],
            [
             0.5,
             "#f7f7f7"
            ],
            [
             0.6,
             "#e6f5d0"
            ],
            [
             0.7,
             "#b8e186"
            ],
            [
             0.8,
             "#7fbc41"
            ],
            [
             0.9,
             "#4d9221"
            ],
            [
             1,
             "#276419"
            ]
           ],
           "sequential": [
            [
             0,
             "#0d0887"
            ],
            [
             0.1111111111111111,
             "#46039f"
            ],
            [
             0.2222222222222222,
             "#7201a8"
            ],
            [
             0.3333333333333333,
             "#9c179e"
            ],
            [
             0.4444444444444444,
             "#bd3786"
            ],
            [
             0.5555555555555556,
             "#d8576b"
            ],
            [
             0.6666666666666666,
             "#ed7953"
            ],
            [
             0.7777777777777778,
             "#fb9f3a"
            ],
            [
             0.8888888888888888,
             "#fdca26"
            ],
            [
             1,
             "#f0f921"
            ]
           ],
           "sequentialminus": [
            [
             0,
             "#0d0887"
            ],
            [
             0.1111111111111111,
             "#46039f"
            ],
            [
             0.2222222222222222,
             "#7201a8"
            ],
            [
             0.3333333333333333,
             "#9c179e"
            ],
            [
             0.4444444444444444,
             "#bd3786"
            ],
            [
             0.5555555555555556,
             "#d8576b"
            ],
            [
             0.6666666666666666,
             "#ed7953"
            ],
            [
             0.7777777777777778,
             "#fb9f3a"
            ],
            [
             0.8888888888888888,
             "#fdca26"
            ],
            [
             1,
             "#f0f921"
            ]
           ]
          },
          "colorway": [
           "#636efa",
           "#EF553B",
           "#00cc96",
           "#ab63fa",
           "#FFA15A",
           "#19d3f3",
           "#FF6692",
           "#B6E880",
           "#FF97FF",
           "#FECB52"
          ],
          "font": {
           "color": "#2a3f5f"
          },
          "geo": {
           "bgcolor": "white",
           "lakecolor": "white",
           "landcolor": "#E5ECF6",
           "showlakes": true,
           "showland": true,
           "subunitcolor": "white"
          },
          "hoverlabel": {
           "align": "left"
          },
          "hovermode": "closest",
          "mapbox": {
           "style": "light"
          },
          "paper_bgcolor": "white",
          "plot_bgcolor": "#E5ECF6",
          "polar": {
           "angularaxis": {
            "gridcolor": "white",
            "linecolor": "white",
            "ticks": ""
           },
           "bgcolor": "#E5ECF6",
           "radialaxis": {
            "gridcolor": "white",
            "linecolor": "white",
            "ticks": ""
           }
          },
          "scene": {
           "xaxis": {
            "backgroundcolor": "#E5ECF6",
            "gridcolor": "white",
            "gridwidth": 2,
            "linecolor": "white",
            "showbackground": true,
            "ticks": "",
            "zerolinecolor": "white"
           },
           "yaxis": {
            "backgroundcolor": "#E5ECF6",
            "gridcolor": "white",
            "gridwidth": 2,
            "linecolor": "white",
            "showbackground": true,
            "ticks": "",
            "zerolinecolor": "white"
           },
           "zaxis": {
            "backgroundcolor": "#E5ECF6",
            "gridcolor": "white",
            "gridwidth": 2,
            "linecolor": "white",
            "showbackground": true,
            "ticks": "",
            "zerolinecolor": "white"
           }
          },
          "shapedefaults": {
           "line": {
            "color": "#2a3f5f"
           }
          },
          "ternary": {
           "aaxis": {
            "gridcolor": "white",
            "linecolor": "white",
            "ticks": ""
           },
           "baxis": {
            "gridcolor": "white",
            "linecolor": "white",
            "ticks": ""
           },
           "bgcolor": "#E5ECF6",
           "caxis": {
            "gridcolor": "white",
            "linecolor": "white",
            "ticks": ""
           }
          },
          "title": {
           "x": 0.05
          },
          "xaxis": {
           "automargin": true,
           "gridcolor": "white",
           "linecolor": "white",
           "ticks": "",
           "title": {
            "standoff": 15
           },
           "zerolinecolor": "white",
           "zerolinewidth": 2
          },
          "yaxis": {
           "automargin": true,
           "gridcolor": "white",
           "linecolor": "white",
           "ticks": "",
           "title": {
            "standoff": 15
           },
           "zerolinecolor": "white",
           "zerolinewidth": 2
          }
         }
        },
        "title": {
         "text": "CDF of Cosine Similarity with 0 Temperature"
        },
        "xaxis": {
         "anchor": "y",
         "domain": [
          0,
          1
         ],
         "title": {
          "text": "Cosine Similarity"
         }
        },
        "yaxis": {
         "anchor": "x",
         "domain": [
          0,
          1
         ],
         "title": {
          "text": "Cumulative Probability"
         }
        }
       }
      },
      "text/html": [
       "<div>                            <div id=\"5811ff42-85d4-4bf4-b742-89c3271d9510\" class=\"plotly-graph-div\" style=\"height:525px; width:100%;\"></div>            <script type=\"text/javascript\">                require([\"plotly\"], function(Plotly) {                    window.PLOTLYENV=window.PLOTLYENV || {};                                    if (document.getElementById(\"5811ff42-85d4-4bf4-b742-89c3271d9510\")) {                    Plotly.newPlot(                        \"5811ff42-85d4-4bf4-b742-89c3271d9510\",                        [{\"mode\":\"lines\",\"name\":\"0.1\",\"x\":[0.5399786980498471,0.6168129694382358,0.6500610695127751,0.667975894876818,0.6734998934993408,0.6960819593270865,0.7238710605767181,0.7242817254255693,0.7412906061098788,0.7444818943020436,0.7531596109393739,0.7782928473924937,0.8036798987686571,0.9754303970162391,0.975972161379977,0.9760648527439856,0.9769226898310122,0.984911438802988,0.9962390757624611,0.9977754469321938],\"y\":[0.05,0.1,0.15,0.2,0.25,0.3,0.35,0.4,0.45,0.5,0.55,0.6,0.65,0.7,0.75,0.8,0.85,0.9,0.95,1.0],\"type\":\"scatter\",\"xaxis\":\"x\",\"yaxis\":\"y\"},{\"mode\":\"lines\",\"name\":\"0.2\",\"x\":[0.45349711086670025,0.5008408801510573,0.6003055917602786,0.6393120848775591,0.6418672534203438,0.6538634308846449,0.6707431163646083,0.6717895722053523,0.7286424159516494,0.7343623017353962,0.747913104103717,0.7507618783377459,0.7868249888544107,0.7900604734109298,0.9007330284699724,0.9639222474152316,0.9749133386791153,0.984557297219216,0.9874899304047726,0.9927229822683212],\"y\":[0.05,0.1,0.15,0.2,0.25,0.3,0.35,0.4,0.45,0.5,0.55,0.6,0.65,0.7,0.75,0.8,0.85,0.9,0.95,1.0],\"type\":\"scatter\",\"xaxis\":\"x\",\"yaxis\":\"y\"},{\"mode\":\"lines\",\"name\":\"0.30000000000000004\",\"x\":[0.46251932695584647,0.47624961683925776,0.5025719080705339,0.5366032660477963,0.5579075137871414,0.5637213597765125,0.5829240118841907,0.66711838128318,0.6738426055883036,0.6947612585260687,0.6965179312630162,0.7031831370871126,0.719423806469902,0.7488926678669093,0.7539208009995143,0.7676216092346311,0.7678626397673283,0.7694526493713222,0.8205772876722395,0.9686481297197373],\"y\":[0.05,0.1,0.15,0.2,0.25,0.3,0.35,0.4,0.45,0.5,0.55,0.6,0.65,0.7,0.75,0.8,0.85,0.9,0.95,1.0],\"type\":\"scatter\",\"xaxis\":\"x\",\"yaxis\":\"y\"},{\"mode\":\"lines\",\"name\":\"0.4\",\"x\":[0.3457707843583294,0.49431615417974656,0.5040965140167479,0.5585563303967945,0.5600925557883153,0.5982104899108759,0.6060034378191617,0.6065500222823269,0.6381132345930172,0.651935823181801,0.6674566809796683,0.6901080327776082,0.7180404730045634,0.7212721287814754,0.7257524019585249,0.7267885988818867,0.7544194618887171,0.7649409344920596,0.9377384768991941,0.9440124970561525],\"y\":[0.05,0.1,0.15,0.2,0.25,0.3,0.35,0.4,0.45,0.5,0.55,0.6,0.65,0.7,0.75,0.8,0.85,0.9,0.95,1.0],\"type\":\"scatter\",\"xaxis\":\"x\",\"yaxis\":\"y\"},{\"mode\":\"lines\",\"name\":\"0.5\",\"x\":[0.05774783373688343,0.05774783373688343,0.4350543739940004,0.4393927832631668,0.44790689296353164,0.45022212184673727,0.4667407697775253,0.48957038504274375,0.5361695127118189,0.5536659125766035,0.5604291729006289,0.5608927577958436,0.5610411042240461,0.6245036554460133,0.6266532928293447,0.627250922177641,0.6573554997031589,0.682013848102457,0.7576830871050485,0.7633471759210269],\"y\":[0.05,0.1,0.15,0.2,0.25,0.3,0.35,0.4,0.45,0.5,0.55,0.6,0.65,0.7,0.75,0.8,0.85,0.9,0.95,1.0],\"type\":\"scatter\",\"xaxis\":\"x\",\"yaxis\":\"y\"},{\"mode\":\"lines\",\"name\":\"0.6000000000000001\",\"x\":[0.05774783373688343,0.4050338709885416,0.406812458023302,0.4127158158614378,0.43809583725732093,0.4537910041219909,0.4553074518423326,0.45868031127680353,0.47727378852693214,0.5021586424578457,0.506659694962125,0.5756102184755776,0.5820756276514943,0.5829910806771372,0.6350888492918534,0.6542433072222581,0.6542872313139438,0.7403220801901285,0.9778929904758786],\"y\":[0.05263157894736842,0.10526315789473684,0.15789473684210525,0.21052631578947367,0.2631578947368421,0.3157894736842105,0.3684210526315789,0.42105263157894735,0.47368421052631576,0.5263157894736842,0.5789473684210527,0.631578947368421,0.6842105263157895,0.7368421052631579,0.7894736842105263,0.8421052631578947,0.8947368421052632,0.9473684210526315,1.0],\"type\":\"scatter\",\"xaxis\":\"x\",\"yaxis\":\"y\"},{\"mode\":\"lines\",\"name\":\"0.7000000000000001\",\"x\":[0.014872451443745499,0.3746280389286034,0.397044959026489,0.397044959026489,0.4851772919353715,0.48611645949363,0.4997844608668776,0.5101382137985052,0.5278837625177808,0.5353380760921966,0.5471645713249682,0.5510350796830834,0.5701773838742127,0.5810974566877973,0.5948587447559677,0.636660856579825,0.6645031040411075,0.6982804374574706,0.7272346694028935,0.7379969807702609],\"y\":[0.05,0.1,0.15,0.2,0.25,0.3,0.35,0.4,0.45,0.5,0.55,0.6,0.65,0.7,0.75,0.8,0.85,0.9,0.95,1.0],\"type\":\"scatter\",\"xaxis\":\"x\",\"yaxis\":\"y\"},{\"mode\":\"lines\",\"name\":\"0.8\",\"x\":[0.014872451443745499,0.05774783373688343,0.44203706649986224,0.4487634387683813,0.45052735342269684,0.5018180136813672,0.5572841630158889,0.5737793825901759,0.5927792581112876,0.6018835504183273,0.6399150946104997,0.6531098099234891,0.6593200972405938,0.6684031396894595,0.7298245016088079,0.7895579139079953],\"y\":[0.0625,0.125,0.1875,0.25,0.3125,0.375,0.4375,0.5,0.5625,0.625,0.6875,0.75,0.8125,0.875,0.9375,1.0],\"type\":\"scatter\",\"xaxis\":\"x\",\"yaxis\":\"y\"},{\"mode\":\"lines\",\"name\":\"0.9\",\"x\":[0.33810054368391457,0.38258633169981937,0.42741786835934553,0.47461077446735794,0.5388018445553349,0.5502684249757628,0.565866640808677,0.5785529388398538,0.5993393361012218,0.6214218851227283,0.621641869153414,0.6284638053055474,0.6388114790796977,0.6513110234877773,0.6609254224209421,0.6621846803681422,0.7166896594741194,0.7356264128180052,0.7543607601773117,0.8610558759423818],\"y\":[0.05,0.1,0.15,0.2,0.25,0.3,0.35,0.4,0.45,0.5,0.55,0.6,0.65,0.7,0.75,0.8,0.85,0.9,0.95,1.0],\"type\":\"scatter\",\"xaxis\":\"x\",\"yaxis\":\"y\"},{\"mode\":\"lines\",\"name\":\"1.0\",\"x\":[0.1911628653127165,0.3300319063296743,0.34893542511439474,0.35060178218680305,0.3782376015897594,0.4273005351929845,0.43567824530999777,0.4518221784811606,0.4580411131623626,0.462715855064234,0.5362245294360248,0.541277247829171,0.5895893565172904,0.6064989866722118,0.6373668915619144,0.6466842846984966,0.6622548928067596,0.699179052179284,0.7511098669338176],\"y\":[0.05263157894736842,0.10526315789473684,0.15789473684210525,0.21052631578947367,0.2631578947368421,0.3157894736842105,0.3684210526315789,0.42105263157894735,0.47368421052631576,0.5263157894736842,0.5789473684210527,0.631578947368421,0.6842105263157895,0.7368421052631579,0.7894736842105263,0.8421052631578947,0.8947368421052632,0.9473684210526315,1.0],\"type\":\"scatter\",\"xaxis\":\"x\",\"yaxis\":\"y\"},{\"mode\":\"lines\",\"name\":\"1.5\",\"x\":[0.1985454584191817,0.2191451785714671,0.2702318006906578,0.3419442184147898,0.3423528469517447,0.3886462001280186,0.42178380173364277,0.44554048827264214,0.46202805066167896,0.48772007181819244,0.5213559673166307,0.5281745862581954,0.5363050599839955,0.5449561156228436,0.5457402400478502,0.5696350599888871,0.5788548586283483,0.6111326208447322,0.6608059629746997,0.6618485531817118],\"y\":[0.05,0.1,0.15,0.2,0.25,0.3,0.35,0.4,0.45,0.5,0.55,0.6,0.65,0.7,0.75,0.8,0.85,0.9,0.95,1.0],\"type\":\"scatter\",\"xaxis\":\"x\",\"yaxis\":\"y\"},{\"mode\":\"lines\",\"name\":\"2.0\",\"x\":[0.014872451443745499,0.06352792745828992,0.1712433019572074,0.26361052339255225,0.27203429945419655,0.3086455279563298,0.3532185824509552,0.35759154548362104,0.4097549405579072,0.42397528245915006,0.4329236869290205,0.4454476485612072,0.4546919124859742,0.46943001443421695,0.4763110642225153,0.49288678884029546,0.5082729257628902,0.5600236167809736,0.675217590275097,0.7045085889268603],\"y\":[0.05,0.1,0.15,0.2,0.25,0.3,0.35,0.4,0.45,0.5,0.55,0.6,0.65,0.7,0.75,0.8,0.85,0.9,0.95,1.0],\"type\":\"scatter\",\"xaxis\":\"x\",\"yaxis\":\"y\"}],                        {\"template\":{\"data\":{\"histogram2dcontour\":[{\"type\":\"histogram2dcontour\",\"colorbar\":{\"outlinewidth\":0,\"ticks\":\"\"},\"colorscale\":[[0.0,\"#0d0887\"],[0.1111111111111111,\"#46039f\"],[0.2222222222222222,\"#7201a8\"],[0.3333333333333333,\"#9c179e\"],[0.4444444444444444,\"#bd3786\"],[0.5555555555555556,\"#d8576b\"],[0.6666666666666666,\"#ed7953\"],[0.7777777777777778,\"#fb9f3a\"],[0.8888888888888888,\"#fdca26\"],[1.0,\"#f0f921\"]]}],\"choropleth\":[{\"type\":\"choropleth\",\"colorbar\":{\"outlinewidth\":0,\"ticks\":\"\"}}],\"histogram2d\":[{\"type\":\"histogram2d\",\"colorbar\":{\"outlinewidth\":0,\"ticks\":\"\"},\"colorscale\":[[0.0,\"#0d0887\"],[0.1111111111111111,\"#46039f\"],[0.2222222222222222,\"#7201a8\"],[0.3333333333333333,\"#9c179e\"],[0.4444444444444444,\"#bd3786\"],[0.5555555555555556,\"#d8576b\"],[0.6666666666666666,\"#ed7953\"],[0.7777777777777778,\"#fb9f3a\"],[0.8888888888888888,\"#fdca26\"],[1.0,\"#f0f921\"]]}],\"heatmap\":[{\"type\":\"heatmap\",\"colorbar\":{\"outlinewidth\":0,\"ticks\":\"\"},\"colorscale\":[[0.0,\"#0d0887\"],[0.1111111111111111,\"#46039f\"],[0.2222222222222222,\"#7201a8\"],[0.3333333333333333,\"#9c179e\"],[0.4444444444444444,\"#bd3786\"],[0.5555555555555556,\"#d8576b\"],[0.6666666666666666,\"#ed7953\"],[0.7777777777777778,\"#fb9f3a\"],[0.8888888888888888,\"#fdca26\"],[1.0,\"#f0f921\"]]}],\"heatmapgl\":[{\"type\":\"heatmapgl\",\"colorbar\":{\"outlinewidth\":0,\"ticks\":\"\"},\"colorscale\":[[0.0,\"#0d0887\"],[0.1111111111111111,\"#46039f\"],[0.2222222222222222,\"#7201a8\"],[0.3333333333333333,\"#9c179e\"],[0.4444444444444444,\"#bd3786\"],[0.5555555555555556,\"#d8576b\"],[0.6666666666666666,\"#ed7953\"],[0.7777777777777778,\"#fb9f3a\"],[0.8888888888888888,\"#fdca26\"],[1.0,\"#f0f921\"]]}],\"contourcarpet\":[{\"type\":\"contourcarpet\",\"colorbar\":{\"outlinewidth\":0,\"ticks\":\"\"}}],\"contour\":[{\"type\":\"contour\",\"colorbar\":{\"outlinewidth\":0,\"ticks\":\"\"},\"colorscale\":[[0.0,\"#0d0887\"],[0.1111111111111111,\"#46039f\"],[0.2222222222222222,\"#7201a8\"],[0.3333333333333333,\"#9c179e\"],[0.4444444444444444,\"#bd3786\"],[0.5555555555555556,\"#d8576b\"],[0.6666666666666666,\"#ed7953\"],[0.7777777777777778,\"#fb9f3a\"],[0.8888888888888888,\"#fdca26\"],[1.0,\"#f0f921\"]]}],\"surface\":[{\"type\":\"surface\",\"colorbar\":{\"outlinewidth\":0,\"ticks\":\"\"},\"colorscale\":[[0.0,\"#0d0887\"],[0.1111111111111111,\"#46039f\"],[0.2222222222222222,\"#7201a8\"],[0.3333333333333333,\"#9c179e\"],[0.4444444444444444,\"#bd3786\"],[0.5555555555555556,\"#d8576b\"],[0.6666666666666666,\"#ed7953\"],[0.7777777777777778,\"#fb9f3a\"],[0.8888888888888888,\"#fdca26\"],[1.0,\"#f0f921\"]]}],\"mesh3d\":[{\"type\":\"mesh3d\",\"colorbar\":{\"outlinewidth\":0,\"ticks\":\"\"}}],\"scatter\":[{\"fillpattern\":{\"fillmode\":\"overlay\",\"size\":10,\"solidity\":0.2},\"type\":\"scatter\"}],\"parcoords\":[{\"type\":\"parcoords\",\"line\":{\"colorbar\":{\"outlinewidth\":0,\"ticks\":\"\"}}}],\"scatterpolargl\":[{\"type\":\"scatterpolargl\",\"marker\":{\"colorbar\":{\"outlinewidth\":0,\"ticks\":\"\"}}}],\"bar\":[{\"error_x\":{\"color\":\"#2a3f5f\"},\"error_y\":{\"color\":\"#2a3f5f\"},\"marker\":{\"line\":{\"color\":\"#E5ECF6\",\"width\":0.5},\"pattern\":{\"fillmode\":\"overlay\",\"size\":10,\"solidity\":0.2}},\"type\":\"bar\"}],\"scattergeo\":[{\"type\":\"scattergeo\",\"marker\":{\"colorbar\":{\"outlinewidth\":0,\"ticks\":\"\"}}}],\"scatterpolar\":[{\"type\":\"scatterpolar\",\"marker\":{\"colorbar\":{\"outlinewidth\":0,\"ticks\":\"\"}}}],\"histogram\":[{\"marker\":{\"pattern\":{\"fillmode\":\"overlay\",\"size\":10,\"solidity\":0.2}},\"type\":\"histogram\"}],\"scattergl\":[{\"type\":\"scattergl\",\"marker\":{\"colorbar\":{\"outlinewidth\":0,\"ticks\":\"\"}}}],\"scatter3d\":[{\"type\":\"scatter3d\",\"line\":{\"colorbar\":{\"outlinewidth\":0,\"ticks\":\"\"}},\"marker\":{\"colorbar\":{\"outlinewidth\":0,\"ticks\":\"\"}}}],\"scattermapbox\":[{\"type\":\"scattermapbox\",\"marker\":{\"colorbar\":{\"outlinewidth\":0,\"ticks\":\"\"}}}],\"scatterternary\":[{\"type\":\"scatterternary\",\"marker\":{\"colorbar\":{\"outlinewidth\":0,\"ticks\":\"\"}}}],\"scattercarpet\":[{\"type\":\"scattercarpet\",\"marker\":{\"colorbar\":{\"outlinewidth\":0,\"ticks\":\"\"}}}],\"carpet\":[{\"aaxis\":{\"endlinecolor\":\"#2a3f5f\",\"gridcolor\":\"white\",\"linecolor\":\"white\",\"minorgridcolor\":\"white\",\"startlinecolor\":\"#2a3f5f\"},\"baxis\":{\"endlinecolor\":\"#2a3f5f\",\"gridcolor\":\"white\",\"linecolor\":\"white\",\"minorgridcolor\":\"white\",\"startlinecolor\":\"#2a3f5f\"},\"type\":\"carpet\"}],\"table\":[{\"cells\":{\"fill\":{\"color\":\"#EBF0F8\"},\"line\":{\"color\":\"white\"}},\"header\":{\"fill\":{\"color\":\"#C8D4E3\"},\"line\":{\"color\":\"white\"}},\"type\":\"table\"}],\"barpolar\":[{\"marker\":{\"line\":{\"color\":\"#E5ECF6\",\"width\":0.5},\"pattern\":{\"fillmode\":\"overlay\",\"size\":10,\"solidity\":0.2}},\"type\":\"barpolar\"}],\"pie\":[{\"automargin\":true,\"type\":\"pie\"}]},\"layout\":{\"autotypenumbers\":\"strict\",\"colorway\":[\"#636efa\",\"#EF553B\",\"#00cc96\",\"#ab63fa\",\"#FFA15A\",\"#19d3f3\",\"#FF6692\",\"#B6E880\",\"#FF97FF\",\"#FECB52\"],\"font\":{\"color\":\"#2a3f5f\"},\"hovermode\":\"closest\",\"hoverlabel\":{\"align\":\"left\"},\"paper_bgcolor\":\"white\",\"plot_bgcolor\":\"#E5ECF6\",\"polar\":{\"bgcolor\":\"#E5ECF6\",\"angularaxis\":{\"gridcolor\":\"white\",\"linecolor\":\"white\",\"ticks\":\"\"},\"radialaxis\":{\"gridcolor\":\"white\",\"linecolor\":\"white\",\"ticks\":\"\"}},\"ternary\":{\"bgcolor\":\"#E5ECF6\",\"aaxis\":{\"gridcolor\":\"white\",\"linecolor\":\"white\",\"ticks\":\"\"},\"baxis\":{\"gridcolor\":\"white\",\"linecolor\":\"white\",\"ticks\":\"\"},\"caxis\":{\"gridcolor\":\"white\",\"linecolor\":\"white\",\"ticks\":\"\"}},\"coloraxis\":{\"colorbar\":{\"outlinewidth\":0,\"ticks\":\"\"}},\"colorscale\":{\"sequential\":[[0.0,\"#0d0887\"],[0.1111111111111111,\"#46039f\"],[0.2222222222222222,\"#7201a8\"],[0.3333333333333333,\"#9c179e\"],[0.4444444444444444,\"#bd3786\"],[0.5555555555555556,\"#d8576b\"],[0.6666666666666666,\"#ed7953\"],[0.7777777777777778,\"#fb9f3a\"],[0.8888888888888888,\"#fdca26\"],[1.0,\"#f0f921\"]],\"sequentialminus\":[[0.0,\"#0d0887\"],[0.1111111111111111,\"#46039f\"],[0.2222222222222222,\"#7201a8\"],[0.3333333333333333,\"#9c179e\"],[0.4444444444444444,\"#bd3786\"],[0.5555555555555556,\"#d8576b\"],[0.6666666666666666,\"#ed7953\"],[0.7777777777777778,\"#fb9f3a\"],[0.8888888888888888,\"#fdca26\"],[1.0,\"#f0f921\"]],\"diverging\":[[0,\"#8e0152\"],[0.1,\"#c51b7d\"],[0.2,\"#de77ae\"],[0.3,\"#f1b6da\"],[0.4,\"#fde0ef\"],[0.5,\"#f7f7f7\"],[0.6,\"#e6f5d0\"],[0.7,\"#b8e186\"],[0.8,\"#7fbc41\"],[0.9,\"#4d9221\"],[1,\"#276419\"]]},\"xaxis\":{\"gridcolor\":\"white\",\"linecolor\":\"white\",\"ticks\":\"\",\"title\":{\"standoff\":15},\"zerolinecolor\":\"white\",\"automargin\":true,\"zerolinewidth\":2},\"yaxis\":{\"gridcolor\":\"white\",\"linecolor\":\"white\",\"ticks\":\"\",\"title\":{\"standoff\":15},\"zerolinecolor\":\"white\",\"automargin\":true,\"zerolinewidth\":2},\"scene\":{\"xaxis\":{\"backgroundcolor\":\"#E5ECF6\",\"gridcolor\":\"white\",\"linecolor\":\"white\",\"showbackground\":true,\"ticks\":\"\",\"zerolinecolor\":\"white\",\"gridwidth\":2},\"yaxis\":{\"backgroundcolor\":\"#E5ECF6\",\"gridcolor\":\"white\",\"linecolor\":\"white\",\"showbackground\":true,\"ticks\":\"\",\"zerolinecolor\":\"white\",\"gridwidth\":2},\"zaxis\":{\"backgroundcolor\":\"#E5ECF6\",\"gridcolor\":\"white\",\"linecolor\":\"white\",\"showbackground\":true,\"ticks\":\"\",\"zerolinecolor\":\"white\",\"gridwidth\":2}},\"shapedefaults\":{\"line\":{\"color\":\"#2a3f5f\"}},\"annotationdefaults\":{\"arrowcolor\":\"#2a3f5f\",\"arrowhead\":0,\"arrowwidth\":1},\"geo\":{\"bgcolor\":\"white\",\"landcolor\":\"#E5ECF6\",\"subunitcolor\":\"white\",\"showland\":true,\"showlakes\":true,\"lakecolor\":\"white\"},\"title\":{\"x\":0.05},\"mapbox\":{\"style\":\"light\"}}},\"xaxis\":{\"anchor\":\"y\",\"domain\":[0.0,1.0],\"title\":{\"text\":\"Cosine Similarity\"}},\"yaxis\":{\"anchor\":\"x\",\"domain\":[0.0,1.0],\"title\":{\"text\":\"Cumulative Probability\"}},\"title\":{\"text\":\"CDF of Cosine Similarity with 0 Temperature\"},\"legend\":{\"title\":{\"text\":\"Temperature\"}}},                        {\"responsive\": true}                    ).then(function(){\n",
       "                            \n",
       "var gd = document.getElementById('5811ff42-85d4-4bf4-b742-89c3271d9510');\n",
       "var x = new MutationObserver(function (mutations, observer) {{\n",
       "        var display = window.getComputedStyle(gd).display;\n",
       "        if (!display || display === 'none') {{\n",
       "            console.log([gd, 'removed!']);\n",
       "            Plotly.purge(gd);\n",
       "            observer.disconnect();\n",
       "        }}\n",
       "}});\n",
       "\n",
       "// Listen for the removal of the full notebook cells\n",
       "var notebookContainer = gd.closest('#notebook-container');\n",
       "if (notebookContainer) {{\n",
       "    x.observe(notebookContainer, {childList: true});\n",
       "}}\n",
       "\n",
       "// Listen for the clearing of the current output cell\n",
       "var outputEl = gd.closest('.output');\n",
       "if (outputEl) {{\n",
       "    x.observe(outputEl, {childList: true});\n",
       "}}\n",
       "\n",
       "                        })                };                });            </script>        </div>"
      ]
     },
     "metadata": {},
     "output_type": "display_data"
    }
   ],
   "source": [
    "# compute the cosine similarity of embedding for zero temperature with others\n",
    "from sklearn.metrics.pairwise import cosine_similarity\n",
    "from plotly.subplots import make_subplots\n",
    "import plotly.graph_objects as go\n",
    "import numpy as np\n",
    "\n",
    "zero_embedding = results_df.loc[results_df[\"temperature\"] == 0, \"embeddings\"].values[0]\n",
    "zero_embedding = np.array(zero_embedding).reshape(1, -1)\n",
    "results_df[\"cosine_sim\"] = cosine_similarity(embeddings, zero_embedding)\n",
    "\n",
    "# Get unique temps\n",
    "# use [1:] to exclude 0 temperature\n",
    "temperatures = np.sort(results_df[\"temperature\"].unique())[1:]\n",
    "\n",
    "# Create subplot\n",
    "fig = make_subplots(rows=1, cols=1)\n",
    "\n",
    "# Add a CDF trace for each category\n",
    "for temp in temperatures:\n",
    "    # Filter data for the current category\n",
    "    subset = results_df.loc[results_df[\"temperature\"] == temp, \"cosine_sim\"]\n",
    "\n",
    "    # Sort the data and calculate CDF\n",
    "    sorted_data = np.sort(subset)\n",
    "    cdf = np.arange(1, len(sorted_data) + 1) / len(sorted_data)\n",
    "\n",
    "    # Add trace\n",
    "    fig.add_trace(\n",
    "        go.Scatter(x=sorted_data, y=cdf, mode=\"lines\", name=str(temp)), row=1, col=1\n",
    "    )\n",
    "\n",
    "# Update layout\n",
    "fig.update_layout(\n",
    "    title=\"CDF of Cosine Similarity with 0 Temperature\",\n",
    "    xaxis_title=\"Cosine Similarity\",\n",
    "    yaxis_title=\"Cumulative Probability\",\n",
    "    legend_title=\"Temperature\",\n",
    ")\n",
    "\n",
    "# Show the plot\n",
    "fig.show()"
   ]
  },
  {
   "cell_type": "markdown",
   "metadata": {},
   "source": [
    "### Rules based stats / evaluations"
   ]
  },
  {
   "cell_type": "code",
   "execution_count": 23,
   "metadata": {},
   "outputs": [
    {
     "data": {
      "text/html": [
       "<div>\n",
       "<style scoped>\n",
       "    .dataframe tbody tr th:only-of-type {\n",
       "        vertical-align: middle;\n",
       "    }\n",
       "\n",
       "    .dataframe tbody tr th {\n",
       "        vertical-align: top;\n",
       "    }\n",
       "\n",
       "    .dataframe thead th {\n",
       "        text-align: right;\n",
       "    }\n",
       "</style>\n",
       "<table border=\"1\" class=\"dataframe\">\n",
       "  <thead>\n",
       "    <tr style=\"text-align: right;\">\n",
       "      <th></th>\n",
       "      <th>contains_chicken</th>\n",
       "    </tr>\n",
       "    <tr>\n",
       "      <th>temperature</th>\n",
       "      <th></th>\n",
       "    </tr>\n",
       "  </thead>\n",
       "  <tbody>\n",
       "    <tr>\n",
       "      <th>0.0</th>\n",
       "      <td>0.000000</td>\n",
       "    </tr>\n",
       "    <tr>\n",
       "      <th>0.1</th>\n",
       "      <td>0.650000</td>\n",
       "    </tr>\n",
       "    <tr>\n",
       "      <th>0.2</th>\n",
       "      <td>0.700000</td>\n",
       "    </tr>\n",
       "    <tr>\n",
       "      <th>0.3</th>\n",
       "      <td>0.700000</td>\n",
       "    </tr>\n",
       "    <tr>\n",
       "      <th>0.4</th>\n",
       "      <td>0.800000</td>\n",
       "    </tr>\n",
       "    <tr>\n",
       "      <th>0.5</th>\n",
       "      <td>0.750000</td>\n",
       "    </tr>\n",
       "    <tr>\n",
       "      <th>0.6</th>\n",
       "      <td>0.631579</td>\n",
       "    </tr>\n",
       "    <tr>\n",
       "      <th>0.7</th>\n",
       "      <td>0.500000</td>\n",
       "    </tr>\n",
       "    <tr>\n",
       "      <th>0.8</th>\n",
       "      <td>0.562500</td>\n",
       "    </tr>\n",
       "    <tr>\n",
       "      <th>0.9</th>\n",
       "      <td>0.400000</td>\n",
       "    </tr>\n",
       "    <tr>\n",
       "      <th>1.0</th>\n",
       "      <td>0.315789</td>\n",
       "    </tr>\n",
       "    <tr>\n",
       "      <th>1.5</th>\n",
       "      <td>0.400000</td>\n",
       "    </tr>\n",
       "    <tr>\n",
       "      <th>2.0</th>\n",
       "      <td>0.050000</td>\n",
       "    </tr>\n",
       "  </tbody>\n",
       "</table>\n",
       "</div>"
      ],
      "text/plain": [
       "             contains_chicken\n",
       "temperature                  \n",
       "0.0                  0.000000\n",
       "0.1                  0.650000\n",
       "0.2                  0.700000\n",
       "0.3                  0.700000\n",
       "0.4                  0.800000\n",
       "0.5                  0.750000\n",
       "0.6                  0.631579\n",
       "0.7                  0.500000\n",
       "0.8                  0.562500\n",
       "0.9                  0.400000\n",
       "1.0                  0.315789\n",
       "1.5                  0.400000\n",
       "2.0                  0.050000"
      ]
     },
     "execution_count": 23,
     "metadata": {},
     "output_type": "execute_result"
    }
   ],
   "source": [
    "# create column checking if 'chicken' is in the output\n",
    "results_df[\"contains_chicken\"] = results_df[\"output\"].str.contains(\n",
    "    \"chicken\", case=False\n",
    ")\n",
    "\n",
    "results_df.groupby(\"temperature\").agg({\"contains_chicken\": \"mean\"})"
   ]
  }
 ],
 "metadata": {
  "kernelspec": {
   "display_name": ".venv",
   "language": "python",
   "name": "python3"
  },
  "language_info": {
   "codemirror_mode": {
    "name": "ipython",
    "version": 3
   },
   "file_extension": ".py",
   "mimetype": "text/x-python",
   "name": "python",
   "nbconvert_exporter": "python",
   "pygments_lexer": "ipython3",
   "version": "3.10.13"
  }
 },
 "nbformat": 4,
 "nbformat_minor": 2
}
