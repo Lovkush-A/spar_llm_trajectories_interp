{
 "cells": [
  {
   "cell_type": "code",
   "execution_count": 1,
   "metadata": {},
   "outputs": [
    {
     "name": "stdout",
     "output_type": "stream",
     "text": [
      "Requirement already satisfied: taker in /workspace/SPAR/interp-ab/.venv/lib/python3.10/site-packages (1.0.1)\n",
      "Requirement already satisfied: accelerate<0.32.0,>=0.31.0 in /workspace/SPAR/interp-ab/.venv/lib/python3.10/site-packages (from taker) (0.31.0)\n",
      "Requirement already satisfied: antlr4-python3-runtime==4.11.1 in /workspace/SPAR/interp-ab/.venv/lib/python3.10/site-packages (from taker) (4.11.1)\n",
      "Requirement already satisfied: datasets<3.0.0,>=2.9.0 in /workspace/SPAR/interp-ab/.venv/lib/python3.10/site-packages (from taker) (2.20.0)\n",
      "Requirement already satisfied: dict-deep<5.0.0,>=4.1.2 in /workspace/SPAR/interp-ab/.venv/lib/python3.10/site-packages (from taker) (4.1.2)\n",
      "Requirement already satisfied: einops<0.7.0,>=0.6.0 in /workspace/SPAR/interp-ab/.venv/lib/python3.10/site-packages (from taker) (0.6.1)\n",
      "Requirement already satisfied: evaluate<0.5.0,>=0.4.0 in /workspace/SPAR/interp-ab/.venv/lib/python3.10/site-packages (from taker) (0.4.2)\n",
      "Requirement already satisfied: lm-eval<0.5.0,>=0.4.3 in /workspace/SPAR/interp-ab/.venv/lib/python3.10/site-packages (from taker) (0.4.3)\n",
      "Requirement already satisfied: numexpr<3.0.0,>=2.7.0 in /workspace/SPAR/interp-ab/.venv/lib/python3.10/site-packages (from taker) (2.10.1)\n",
      "Requirement already satisfied: numpy<2.0,>=1.23 in /workspace/SPAR/interp-ab/.venv/lib/python3.10/site-packages (from taker) (1.26.4)\n",
      "Requirement already satisfied: pandas<2.0.0,>=1.5.3 in /workspace/SPAR/interp-ab/.venv/lib/python3.10/site-packages (from taker) (1.5.3)\n",
      "Requirement already satisfied: scipy<2.0.0,>=1.11.1 in /workspace/SPAR/interp-ab/.venv/lib/python3.10/site-packages (from taker) (1.14.0)\n",
      "Requirement already satisfied: sentencepiece<0.2.0,>=0.1.99 in /workspace/SPAR/interp-ab/.venv/lib/python3.10/site-packages (from taker) (0.1.99)\n",
      "Requirement already satisfied: tokenizers<0.20.0,>=0.19.1 in /workspace/SPAR/interp-ab/.venv/lib/python3.10/site-packages (from taker) (0.19.1)\n",
      "Requirement already satisfied: torch<3.0.0,>=2.3.1 in /workspace/SPAR/interp-ab/.venv/lib/python3.10/site-packages (from taker) (2.4.0)\n",
      "Requirement already satisfied: transformers<5.0.0,>=4.41.0 in /workspace/SPAR/interp-ab/.venv/lib/python3.10/site-packages (from taker) (4.42.3)\n",
      "Requirement already satisfied: wandb<0.14.0,>=0.13.9 in /workspace/SPAR/interp-ab/.venv/lib/python3.10/site-packages (from taker) (0.13.11)\n",
      "Requirement already satisfied: welford-torch<0.3.0,>=0.2.4 in /workspace/SPAR/interp-ab/.venv/lib/python3.10/site-packages (from taker) (0.2.4)\n",
      "Requirement already satisfied: zstandard<0.20.0,>=0.19.0 in /workspace/SPAR/interp-ab/.venv/lib/python3.10/site-packages (from taker) (0.19.0)\n",
      "Requirement already satisfied: packaging>=20.0 in /workspace/SPAR/interp-ab/.venv/lib/python3.10/site-packages (from accelerate<0.32.0,>=0.31.0->taker) (24.1)\n",
      "Requirement already satisfied: psutil in /workspace/SPAR/interp-ab/.venv/lib/python3.10/site-packages (from accelerate<0.32.0,>=0.31.0->taker) (6.0.0)\n",
      "Requirement already satisfied: pyyaml in /workspace/SPAR/interp-ab/.venv/lib/python3.10/site-packages (from accelerate<0.32.0,>=0.31.0->taker) (6.0.1)\n",
      "Requirement already satisfied: huggingface-hub in /workspace/SPAR/interp-ab/.venv/lib/python3.10/site-packages (from accelerate<0.32.0,>=0.31.0->taker) (0.23.4)\n",
      "Requirement already satisfied: safetensors>=0.3.1 in /workspace/SPAR/interp-ab/.venv/lib/python3.10/site-packages (from accelerate<0.32.0,>=0.31.0->taker) (0.4.3)\n",
      "Requirement already satisfied: filelock in /workspace/SPAR/interp-ab/.venv/lib/python3.10/site-packages (from datasets<3.0.0,>=2.9.0->taker) (3.15.4)\n",
      "Requirement already satisfied: pyarrow>=15.0.0 in /workspace/SPAR/interp-ab/.venv/lib/python3.10/site-packages (from datasets<3.0.0,>=2.9.0->taker) (16.1.0)\n",
      "Requirement already satisfied: pyarrow-hotfix in /workspace/SPAR/interp-ab/.venv/lib/python3.10/site-packages (from datasets<3.0.0,>=2.9.0->taker) (0.6)\n",
      "Requirement already satisfied: dill<0.3.9,>=0.3.0 in /workspace/SPAR/interp-ab/.venv/lib/python3.10/site-packages (from datasets<3.0.0,>=2.9.0->taker) (0.3.8)\n",
      "Requirement already satisfied: requests>=2.32.2 in /workspace/SPAR/interp-ab/.venv/lib/python3.10/site-packages (from datasets<3.0.0,>=2.9.0->taker) (2.32.3)\n",
      "Requirement already satisfied: tqdm>=4.66.3 in /workspace/SPAR/interp-ab/.venv/lib/python3.10/site-packages (from datasets<3.0.0,>=2.9.0->taker) (4.66.4)\n",
      "Requirement already satisfied: xxhash in /workspace/SPAR/interp-ab/.venv/lib/python3.10/site-packages (from datasets<3.0.0,>=2.9.0->taker) (3.4.1)\n",
      "Requirement already satisfied: multiprocess in /workspace/SPAR/interp-ab/.venv/lib/python3.10/site-packages (from datasets<3.0.0,>=2.9.0->taker) (0.70.16)\n",
      "Requirement already satisfied: fsspec<=2024.5.0,>=2023.1.0 in /workspace/SPAR/interp-ab/.venv/lib/python3.10/site-packages (from fsspec[http]<=2024.5.0,>=2023.1.0->datasets<3.0.0,>=2.9.0->taker) (2024.5.0)\n",
      "Requirement already satisfied: aiohttp in /workspace/SPAR/interp-ab/.venv/lib/python3.10/site-packages (from datasets<3.0.0,>=2.9.0->taker) (3.9.5)\n",
      "Requirement already satisfied: jsonlines in /workspace/SPAR/interp-ab/.venv/lib/python3.10/site-packages (from lm-eval<0.5.0,>=0.4.3->taker) (4.0.0)\n",
      "Requirement already satisfied: peft>=0.2.0 in /workspace/SPAR/interp-ab/.venv/lib/python3.10/site-packages (from lm-eval<0.5.0,>=0.4.3->taker) (0.11.1)\n",
      "Requirement already satisfied: pybind11>=2.6.2 in /workspace/SPAR/interp-ab/.venv/lib/python3.10/site-packages (from lm-eval<0.5.0,>=0.4.3->taker) (2.13.1)\n",
      "Requirement already satisfied: pytablewriter in /workspace/SPAR/interp-ab/.venv/lib/python3.10/site-packages (from lm-eval<0.5.0,>=0.4.3->taker) (1.2.0)\n",
      "Requirement already satisfied: rouge-score>=0.0.4 in /workspace/SPAR/interp-ab/.venv/lib/python3.10/site-packages (from lm-eval<0.5.0,>=0.4.3->taker) (0.1.2)\n",
      "Requirement already satisfied: sacrebleu>=1.5.0 in /workspace/SPAR/interp-ab/.venv/lib/python3.10/site-packages (from lm-eval<0.5.0,>=0.4.3->taker) (2.4.2)\n",
      "Requirement already satisfied: scikit-learn>=0.24.1 in /workspace/SPAR/interp-ab/.venv/lib/python3.10/site-packages (from lm-eval<0.5.0,>=0.4.3->taker) (1.5.1)\n",
      "Requirement already satisfied: sqlitedict in /workspace/SPAR/interp-ab/.venv/lib/python3.10/site-packages (from lm-eval<0.5.0,>=0.4.3->taker) (2.1.0)\n",
      "Requirement already satisfied: tqdm-multiprocess in /workspace/SPAR/interp-ab/.venv/lib/python3.10/site-packages (from lm-eval<0.5.0,>=0.4.3->taker) (0.0.11)\n",
      "Requirement already satisfied: word2number in /workspace/SPAR/interp-ab/.venv/lib/python3.10/site-packages (from lm-eval<0.5.0,>=0.4.3->taker) (1.1)\n",
      "Requirement already satisfied: more-itertools in /workspace/SPAR/interp-ab/.venv/lib/python3.10/site-packages (from lm-eval<0.5.0,>=0.4.3->taker) (10.3.0)\n",
      "Requirement already satisfied: python-dateutil>=2.8.1 in /workspace/SPAR/interp-ab/.venv/lib/python3.10/site-packages (from pandas<2.0.0,>=1.5.3->taker) (2.9.0.post0)\n",
      "Requirement already satisfied: pytz>=2020.1 in /workspace/SPAR/interp-ab/.venv/lib/python3.10/site-packages (from pandas<2.0.0,>=1.5.3->taker) (2024.1)\n",
      "Requirement already satisfied: typing-extensions>=4.8.0 in /workspace/SPAR/interp-ab/.venv/lib/python3.10/site-packages (from torch<3.0.0,>=2.3.1->taker) (4.12.2)\n",
      "Requirement already satisfied: sympy in /workspace/SPAR/interp-ab/.venv/lib/python3.10/site-packages (from torch<3.0.0,>=2.3.1->taker) (1.12.1)\n",
      "Requirement already satisfied: networkx in /workspace/SPAR/interp-ab/.venv/lib/python3.10/site-packages (from torch<3.0.0,>=2.3.1->taker) (3.3)\n",
      "Requirement already satisfied: jinja2 in /workspace/SPAR/interp-ab/.venv/lib/python3.10/site-packages (from torch<3.0.0,>=2.3.1->taker) (3.1.4)\n",
      "Requirement already satisfied: nvidia-cuda-nvrtc-cu12==12.1.105 in /workspace/SPAR/interp-ab/.venv/lib/python3.10/site-packages (from torch<3.0.0,>=2.3.1->taker) (12.1.105)\n",
      "Requirement already satisfied: nvidia-cuda-runtime-cu12==12.1.105 in /workspace/SPAR/interp-ab/.venv/lib/python3.10/site-packages (from torch<3.0.0,>=2.3.1->taker) (12.1.105)\n",
      "Requirement already satisfied: nvidia-cuda-cupti-cu12==12.1.105 in /workspace/SPAR/interp-ab/.venv/lib/python3.10/site-packages (from torch<3.0.0,>=2.3.1->taker) (12.1.105)\n",
      "Requirement already satisfied: nvidia-cudnn-cu12==9.1.0.70 in /workspace/SPAR/interp-ab/.venv/lib/python3.10/site-packages (from torch<3.0.0,>=2.3.1->taker) (9.1.0.70)\n",
      "Requirement already satisfied: nvidia-cublas-cu12==12.1.3.1 in /workspace/SPAR/interp-ab/.venv/lib/python3.10/site-packages (from torch<3.0.0,>=2.3.1->taker) (12.1.3.1)\n",
      "Requirement already satisfied: nvidia-cufft-cu12==11.0.2.54 in /workspace/SPAR/interp-ab/.venv/lib/python3.10/site-packages (from torch<3.0.0,>=2.3.1->taker) (11.0.2.54)\n",
      "Requirement already satisfied: nvidia-curand-cu12==10.3.2.106 in /workspace/SPAR/interp-ab/.venv/lib/python3.10/site-packages (from torch<3.0.0,>=2.3.1->taker) (10.3.2.106)\n",
      "Requirement already satisfied: nvidia-cusolver-cu12==11.4.5.107 in /workspace/SPAR/interp-ab/.venv/lib/python3.10/site-packages (from torch<3.0.0,>=2.3.1->taker) (11.4.5.107)\n",
      "Requirement already satisfied: nvidia-cusparse-cu12==12.1.0.106 in /workspace/SPAR/interp-ab/.venv/lib/python3.10/site-packages (from torch<3.0.0,>=2.3.1->taker) (12.1.0.106)\n",
      "Requirement already satisfied: nvidia-nccl-cu12==2.20.5 in /workspace/SPAR/interp-ab/.venv/lib/python3.10/site-packages (from torch<3.0.0,>=2.3.1->taker) (2.20.5)\n",
      "Requirement already satisfied: nvidia-nvtx-cu12==12.1.105 in /workspace/SPAR/interp-ab/.venv/lib/python3.10/site-packages (from torch<3.0.0,>=2.3.1->taker) (12.1.105)\n",
      "Requirement already satisfied: triton==3.0.0 in /workspace/SPAR/interp-ab/.venv/lib/python3.10/site-packages (from torch<3.0.0,>=2.3.1->taker) (3.0.0)\n",
      "Requirement already satisfied: nvidia-nvjitlink-cu12 in /workspace/SPAR/interp-ab/.venv/lib/python3.10/site-packages (from nvidia-cusolver-cu12==11.4.5.107->torch<3.0.0,>=2.3.1->taker) (12.5.40)\n",
      "Requirement already satisfied: regex!=2019.12.17 in /workspace/SPAR/interp-ab/.venv/lib/python3.10/site-packages (from transformers<5.0.0,>=4.41.0->taker) (2024.5.15)\n",
      "Requirement already satisfied: Click!=8.0.0,>=7.0 in /workspace/SPAR/interp-ab/.venv/lib/python3.10/site-packages (from wandb<0.14.0,>=0.13.9->taker) (8.1.7)\n",
      "Requirement already satisfied: GitPython!=3.1.29,>=1.0.0 in /workspace/SPAR/interp-ab/.venv/lib/python3.10/site-packages (from wandb<0.14.0,>=0.13.9->taker) (3.1.43)\n",
      "Requirement already satisfied: sentry-sdk>=1.0.0 in /workspace/SPAR/interp-ab/.venv/lib/python3.10/site-packages (from wandb<0.14.0,>=0.13.9->taker) (2.7.1)\n",
      "Requirement already satisfied: docker-pycreds>=0.4.0 in /workspace/SPAR/interp-ab/.venv/lib/python3.10/site-packages (from wandb<0.14.0,>=0.13.9->taker) (0.4.0)\n",
      "Requirement already satisfied: pathtools in /workspace/SPAR/interp-ab/.venv/lib/python3.10/site-packages (from wandb<0.14.0,>=0.13.9->taker) (0.1.2)\n",
      "Requirement already satisfied: setproctitle in /workspace/SPAR/interp-ab/.venv/lib/python3.10/site-packages (from wandb<0.14.0,>=0.13.9->taker) (1.3.3)\n",
      "Requirement already satisfied: setuptools in /workspace/SPAR/interp-ab/.venv/lib/python3.10/site-packages (from wandb<0.14.0,>=0.13.9->taker) (70.1.1)\n",
      "Requirement already satisfied: appdirs>=1.4.3 in /workspace/SPAR/interp-ab/.venv/lib/python3.10/site-packages (from wandb<0.14.0,>=0.13.9->taker) (1.4.4)\n",
      "Requirement already satisfied: protobuf!=4.21.0,<5,>=3.19.0 in /workspace/SPAR/interp-ab/.venv/lib/python3.10/site-packages (from wandb<0.14.0,>=0.13.9->taker) (4.25.3)\n",
      "Requirement already satisfied: six>=1.4.0 in /workspace/SPAR/interp-ab/.venv/lib/python3.10/site-packages (from docker-pycreds>=0.4.0->wandb<0.14.0,>=0.13.9->taker) (1.16.0)\n",
      "Requirement already satisfied: aiosignal>=1.1.2 in /workspace/SPAR/interp-ab/.venv/lib/python3.10/site-packages (from aiohttp->datasets<3.0.0,>=2.9.0->taker) (1.3.1)\n",
      "Requirement already satisfied: attrs>=17.3.0 in /workspace/SPAR/interp-ab/.venv/lib/python3.10/site-packages (from aiohttp->datasets<3.0.0,>=2.9.0->taker) (23.2.0)\n",
      "Requirement already satisfied: frozenlist>=1.1.1 in /workspace/SPAR/interp-ab/.venv/lib/python3.10/site-packages (from aiohttp->datasets<3.0.0,>=2.9.0->taker) (1.4.1)\n",
      "Requirement already satisfied: multidict<7.0,>=4.5 in /workspace/SPAR/interp-ab/.venv/lib/python3.10/site-packages (from aiohttp->datasets<3.0.0,>=2.9.0->taker) (6.0.5)\n",
      "Requirement already satisfied: yarl<2.0,>=1.0 in /workspace/SPAR/interp-ab/.venv/lib/python3.10/site-packages (from aiohttp->datasets<3.0.0,>=2.9.0->taker) (1.9.4)\n",
      "Requirement already satisfied: async-timeout<5.0,>=4.0 in /workspace/SPAR/interp-ab/.venv/lib/python3.10/site-packages (from aiohttp->datasets<3.0.0,>=2.9.0->taker) (4.0.3)\n",
      "Requirement already satisfied: gitdb<5,>=4.0.1 in /workspace/SPAR/interp-ab/.venv/lib/python3.10/site-packages (from GitPython!=3.1.29,>=1.0.0->wandb<0.14.0,>=0.13.9->taker) (4.0.11)\n",
      "Requirement already satisfied: charset-normalizer<4,>=2 in /workspace/SPAR/interp-ab/.venv/lib/python3.10/site-packages (from requests>=2.32.2->datasets<3.0.0,>=2.9.0->taker) (3.3.2)\n",
      "Requirement already satisfied: idna<4,>=2.5 in /workspace/SPAR/interp-ab/.venv/lib/python3.10/site-packages (from requests>=2.32.2->datasets<3.0.0,>=2.9.0->taker) (3.7)\n",
      "Requirement already satisfied: urllib3<3,>=1.21.1 in /workspace/SPAR/interp-ab/.venv/lib/python3.10/site-packages (from requests>=2.32.2->datasets<3.0.0,>=2.9.0->taker) (2.2.2)\n",
      "Requirement already satisfied: certifi>=2017.4.17 in /workspace/SPAR/interp-ab/.venv/lib/python3.10/site-packages (from requests>=2.32.2->datasets<3.0.0,>=2.9.0->taker) (2024.6.2)\n",
      "Requirement already satisfied: absl-py in /workspace/SPAR/interp-ab/.venv/lib/python3.10/site-packages (from rouge-score>=0.0.4->lm-eval<0.5.0,>=0.4.3->taker) (2.1.0)\n",
      "Requirement already satisfied: nltk in /workspace/SPAR/interp-ab/.venv/lib/python3.10/site-packages (from rouge-score>=0.0.4->lm-eval<0.5.0,>=0.4.3->taker) (3.8.1)\n",
      "Requirement already satisfied: portalocker in /workspace/SPAR/interp-ab/.venv/lib/python3.10/site-packages (from sacrebleu>=1.5.0->lm-eval<0.5.0,>=0.4.3->taker) (2.10.1)\n",
      "Requirement already satisfied: tabulate>=0.8.9 in /workspace/SPAR/interp-ab/.venv/lib/python3.10/site-packages (from sacrebleu>=1.5.0->lm-eval<0.5.0,>=0.4.3->taker) (0.9.0)\n",
      "Requirement already satisfied: colorama in /workspace/SPAR/interp-ab/.venv/lib/python3.10/site-packages (from sacrebleu>=1.5.0->lm-eval<0.5.0,>=0.4.3->taker) (0.4.6)\n",
      "Requirement already satisfied: lxml in /workspace/SPAR/interp-ab/.venv/lib/python3.10/site-packages (from sacrebleu>=1.5.0->lm-eval<0.5.0,>=0.4.3->taker) (5.2.2)\n",
      "Requirement already satisfied: joblib>=1.2.0 in /workspace/SPAR/interp-ab/.venv/lib/python3.10/site-packages (from scikit-learn>=0.24.1->lm-eval<0.5.0,>=0.4.3->taker) (1.4.2)\n",
      "Requirement already satisfied: threadpoolctl>=3.1.0 in /workspace/SPAR/interp-ab/.venv/lib/python3.10/site-packages (from scikit-learn>=0.24.1->lm-eval<0.5.0,>=0.4.3->taker) (3.5.0)\n",
      "Requirement already satisfied: MarkupSafe>=2.0 in /workspace/SPAR/interp-ab/.venv/lib/python3.10/site-packages (from jinja2->torch<3.0.0,>=2.3.1->taker) (2.1.5)\n",
      "Requirement already satisfied: DataProperty<2,>=1.0.1 in /workspace/SPAR/interp-ab/.venv/lib/python3.10/site-packages (from pytablewriter->lm-eval<0.5.0,>=0.4.3->taker) (1.0.1)\n",
      "Requirement already satisfied: mbstrdecoder<2,>=1.0.0 in /workspace/SPAR/interp-ab/.venv/lib/python3.10/site-packages (from pytablewriter->lm-eval<0.5.0,>=0.4.3->taker) (1.1.3)\n",
      "Requirement already satisfied: pathvalidate<4,>=2.3.0 in /workspace/SPAR/interp-ab/.venv/lib/python3.10/site-packages (from pytablewriter->lm-eval<0.5.0,>=0.4.3->taker) (3.2.0)\n",
      "Requirement already satisfied: tabledata<2,>=1.3.1 in /workspace/SPAR/interp-ab/.venv/lib/python3.10/site-packages (from pytablewriter->lm-eval<0.5.0,>=0.4.3->taker) (1.3.3)\n",
      "Requirement already satisfied: tcolorpy<1,>=0.0.5 in /workspace/SPAR/interp-ab/.venv/lib/python3.10/site-packages (from pytablewriter->lm-eval<0.5.0,>=0.4.3->taker) (0.1.6)\n",
      "Requirement already satisfied: typepy<2,>=1.3.2 in /workspace/SPAR/interp-ab/.venv/lib/python3.10/site-packages (from typepy[datetime]<2,>=1.3.2->pytablewriter->lm-eval<0.5.0,>=0.4.3->taker) (1.3.2)\n",
      "Requirement already satisfied: mpmath<1.4.0,>=1.1.0 in /workspace/SPAR/interp-ab/.venv/lib/python3.10/site-packages (from sympy->torch<3.0.0,>=2.3.1->taker) (1.3.0)\n",
      "Requirement already satisfied: smmap<6,>=3.0.1 in /workspace/SPAR/interp-ab/.venv/lib/python3.10/site-packages (from gitdb<5,>=4.0.1->GitPython!=3.1.29,>=1.0.0->wandb<0.14.0,>=0.13.9->taker) (5.0.1)\n",
      "Requirement already satisfied: chardet<6,>=3.0.4 in /workspace/SPAR/interp-ab/.venv/lib/python3.10/site-packages (from mbstrdecoder<2,>=1.0.0->pytablewriter->lm-eval<0.5.0,>=0.4.3->taker) (5.2.0)\n",
      "Note: you may need to restart the kernel to use updated packages.\n"
     ]
    }
   ],
   "source": [
    "%pip install taker"
   ]
  },
  {
   "cell_type": "code",
   "execution_count": 2,
   "metadata": {},
   "outputs": [
    {
     "name": "stderr",
     "output_type": "stream",
     "text": [
      "/workspace/SPAR/interp-ab/.venv/lib/python3.10/site-packages/tqdm/auto.py:21: TqdmWarning: IProgress not found. Please update jupyter and ipywidgets. See https://ipywidgets.readthedocs.io/en/stable/user_install.html\n",
      "  from .autonotebook import tqdm as notebook_tqdm\n"
     ]
    }
   ],
   "source": [
    "import circuitsvis as cv\n",
    "import numpy as np\n",
    "import torch\n",
    "from taker import Model\n",
    "from taker.hooks import HookConfig"
   ]
  },
  {
   "cell_type": "code",
   "execution_count": 3,
   "metadata": {},
   "outputs": [
    {
     "name": "stderr",
     "output_type": "stream",
     "text": [
      "Special tokens have been added in the vocabulary, make sure the associated word embeddings are fine-tuned or trained.\n",
      "Loading checkpoint shards: 100%|██████████| 2/2 [00:03<00:00,  1.84s/it]\n"
     ]
    },
    {
     "name": "stdout",
     "output_type": "stream",
     "text": [
      "Loaded model 'microsoft/phi-3-mini-4k-instruct' with int4:\n",
      "- Added 512 hooks across 32 layers\n"
     ]
    },
    {
     "name": "stderr",
     "output_type": "stream",
     "text": [
      "We detected that you are passing `past_key_values` as a tuple and this is deprecated and will be removed in v4.43. Please use an appropriate `Cache` class (https://huggingface.co/docs/transformers/v4.41.3/en/internal/generation_utils#transformers.Cache)\n",
      "You are not running the flash-attention implementation, expect numerical differences.\n",
      "/workspace/SPAR/interp-ab/.venv/lib/python3.10/site-packages/bitsandbytes/nn/modules.py:426: UserWarning: Input type into Linear4bit is torch.float16, but bnb_4bit_compute_dtype=torch.float32 (default). This will lead to slow inference or training speed.\n",
      "  warnings.warn(\n"
     ]
    }
   ],
   "source": [
    "m = Model(\"microsoft/phi-3-mini-4k-instruct\")\n",
    "# m = Model(\"openai-community/gpt2-large\")"
   ]
  },
  {
   "cell_type": "code",
   "execution_count": 4,
   "metadata": {},
   "outputs": [],
   "source": [
    "prompt    = \"\"\"Write a short blog post about a recipe and the inspiration behind it.\n",
    " Do not include a title.\n",
    " Only reveal the dish after the story.\n",
    " Start with short story and then move to the recipe.\n",
    " To re-iterate, do not include a title.\"\"\"\n",
    "# info_gen = m.generate(info_prompt, temperature=0.3, num=300)\n",
    "info_gen = \"\"\"\n",
    "\\n Once upon a time, in a quaint little village nestled between rolling hills and verdant fields, there lived an elderly woman named Agnes. Agnes was known for her warm smile and her legendary Sunday dinners that brought the entire neighborhood together. Her recipes were family heirlooms, passed down through generations, with each family adding their own touch to the final dish.\n",
    "\n",
    "One crisp autumn evening, Agnes was reminiscing about her childhood, and how her grandmother used to gather everyone around the dinner table, sharing stories and laughter. These were the moments that shaped her, the memories that she passed on to her own children and grandchildren.\n",
    "\n",
    "Inspired by her grandmother's legacy, Agnes decided to create a new dish that would encapsulate the essence of those cherished gatherings. She wanted something that was comforting and nourishing, a dish that could be prepared with love and shared with others. After days of experimentation, she finally created a recipe that she believed truly captured the spirit of her family's Sunday dinners.\\n\n",
    "\"\"\"\n",
    "# info_gen = \"\"\"\n",
    "# \\n Inspired by her grandmother's legacy, Agnes decided to create a new dish that would encapsulate the essence of those cherished gatherings. She wanted something that was comforting and nourishing, a dish that could be prepared with love and shared with others. After days of experimentation, she finally created a recipe that she believed truly captured the spirit of her family's Sunday dinners. \\n\n",
    "# \"\"\"\n",
    "# info_gen=\"\"\"\n",
    "# Please generate an inspirational story followed by recipe instructions.\\n\n",
    "# In a small village, Eliza was known for her magical garden. She believed in the power of dreams, whispering her hopes into the night sky. One spring, a storm ravaged the village, destroying the crops. Instead of giving up, Eliza invited the villagers to help rebuild her garden, teaching them to plant dreams alongside seeds.\n",
    "# The garden flourished, and the community grew closer, sharing their harvests and ensuring no one went hungry. Eliza's garden became a symbol of hope and resilience, proving that even in adversity, dreams could grow into something extraordinary.\\n\n",
    "# \"\"\""
   ]
  },
  {
   "cell_type": "code",
   "execution_count": 5,
   "metadata": {},
   "outputs": [
    {
     "name": "stdout",
     "output_type": "stream",
     "text": [
      "Info prompt      : Write a short blog post about a recipe and the inspiration behind it.\n",
      " Do not include a title.\n",
      " Only reveal the dish after the story.\n",
      " Start with short story and then move to the recipe.\n",
      " To re-iterate, do not include a title.\n",
      "\n",
      " Once upon a time, in a quaint little village nestled between rolling hills and verdant fields, there lived an elderly woman named Agnes. Agnes was known for her warm smile and her legendary Sunday dinners that brought the entire neighborhood together. Her recipes were family heirlooms, passed down through generations, with each family adding their own touch to the final dish.\n",
      "\n",
      "One crisp autumn evening, Agnes was reminiscing about her childhood, and how her grandmother used to gather everyone around the dinner table, sharing stories and laughter. These were the moments that shaped her, the memories that she passed on to her own children and grandchildren.\n",
      "\n",
      "Inspired by her grandmother's legacy, Agnes decided to create a new dish that would encapsulate the essence of those cherished gatherings. She wanted something that was comforting and nourishing, a dish that could be prepared with love and shared with others. After days of experimentation, she finally created a recipe that she believed truly captured the spirit of her family's Sunday dinners.\n",
      "\n",
      "\n"
     ]
    }
   ],
   "source": [
    "info_prompt = prompt+info_gen\n",
    "print(\"Info prompt      :\", info_prompt)"
   ]
  },
  {
   "cell_type": "code",
   "execution_count": 6,
   "metadata": {},
   "outputs": [],
   "source": [
    "# acts = m.get_midlayer_activations(info_gen[1]) \n",
    "# attn_acts=acts['attn'] #[batch x layers x tokens x heads x dim]\n"
   ]
  },
  {
   "cell_type": "code",
   "execution_count": 7,
   "metadata": {},
   "outputs": [
    {
     "name": "stdout",
     "output_type": "stream",
     "text": [
      "['▁Write', '▁a', '▁short', '▁blog', '▁post', '▁about', '▁a', '▁reci', 'pe', '▁and', '▁the', '▁insp', 'iration', '▁behind', '▁it', '.', '<0x0A>', '▁Do', '▁not', '▁include', '▁a', '▁title', '.', '<0x0A>', '▁Only', '▁reve', 'al', '▁the', '▁d', 'ish', '▁after', '▁the', '▁story', '.', '<0x0A>', '▁Start', '▁with', '▁short', '▁story', '▁and', '▁then', '▁move', '▁to', '▁the', '▁reci', 'pe', '.', '<0x0A>', '▁To', '▁re', '-', 'iter', 'ate', ',', '▁do', '▁not', '▁include', '▁a', '▁title', '.', '<0x0A>', '<0x0A>', '▁Once', '▁upon', '▁a', '▁time', ',', '▁in', '▁a', '▁qu', 'aint', '▁little', '▁village', '▁nest', 'led', '▁between', '▁rolling', '▁hills', '▁and', '▁verd', 'ant', '▁fields', ',', '▁there', '▁lived', '▁an', '▁elder', 'ly', '▁woman', '▁named', '▁Ag', 'nes', '.', '▁Ag', 'nes', '▁was', '▁known', '▁for', '▁her', '▁warm', '▁smile', '▁and', '▁her', '▁legend', 'ary', '▁Sunday', '▁d', 'inners', '▁that', '▁brought', '▁the', '▁entire', '▁neighborhood', '▁together', '.', '▁Her', '▁reci', 'pes', '▁were', '▁family', '▁he', 'ir', 'lo', 'oms', ',', '▁passed', '▁down', '▁through', '▁gener', 'ations', ',', '▁with', '▁each', '▁family', '▁adding', '▁their', '▁own', '▁touch', '▁to', '▁the', '▁final', '▁d', 'ish', '.', '<0x0A>', '<0x0A>', 'One', '▁cr', 'isp', '▁aut', 'umn', '▁evening', ',', '▁Ag', 'nes', '▁was', '▁rem', 'in', 'is', 'cing', '▁about', '▁her', '▁child', 'hood', ',', '▁and', '▁how', '▁her', '▁grand', 'm', 'other', '▁used', '▁to', '▁gather', '▁everyone', '▁around', '▁the', '▁dinner', '▁table', ',', '▁sharing', '▁stories', '▁and', '▁laugh', 'ter', '.', '▁These', '▁were', '▁the', '▁moments', '▁that', '▁sh', 'aped', '▁her', ',', '▁the', '▁mem', 'ories', '▁that', '▁she', '▁passed', '▁on', '▁to', '▁her', '▁own', '▁children', '▁and', '▁grand', 'children', '.', '<0x0A>', '<0x0A>', 'In', 'sp', 'ired', '▁by', '▁her', '▁grand', 'm', 'other', \"'\", 's', '▁legacy', ',', '▁Ag', 'nes', '▁decided', '▁to', '▁create', '▁a', '▁new', '▁d', 'ish', '▁that', '▁would', '▁enc', 'aps', 'ulate', '▁the', '▁ess', 'ence', '▁of', '▁those', '▁cher', 'ished', '▁gather', 'ings', '.', '▁She', '▁wanted', '▁something', '▁that', '▁was', '▁comfort', 'ing', '▁and', '▁n', 'our', 'ishing', ',', '▁a', '▁d', 'ish', '▁that', '▁could', '▁be', '▁prepared', '▁with', '▁love', '▁and', '▁shared', '▁with', '▁others', '.', '▁After', '▁days', '▁of', '▁experiment', 'ation', ',', '▁she', '▁finally', '▁created', '▁a', '▁reci', 'pe', '▁that', '▁she', '▁believed', '▁truly', '▁captured', '▁the', '▁spirit', '▁of', '▁her', '▁family', \"'\", 's', '▁Sunday', '▁d', 'inners', '.', '<0x0A>', '<0x0A>']\n"
     ]
    }
   ],
   "source": [
    "\n",
    "idlist = m.get_ids(info_prompt).squeeze().tolist()\n",
    "print(m.tokenizer.convert_ids_to_tokens(idlist))"
   ]
  },
  {
   "cell_type": "code",
   "execution_count": 8,
   "metadata": {},
   "outputs": [
    {
     "name": "stdout",
     "output_type": "stream",
     "text": [
      " - n_layers : 32\n",
      " - d_model  : 3072\n",
      " - n_heads  : 32\n",
      " - d_head   : 96\n",
      " - d_mlp    : 8192\n"
     ]
    }
   ],
   "source": [
    "m.show_details()"
   ]
  },
  {
   "cell_type": "code",
   "execution_count": 9,
   "metadata": {},
   "outputs": [],
   "source": [
    "import sys, os\n",
    "class HiddenPrints:\n",
    "    def __enter__(self):\n",
    "        self._original_stdout = sys.stdout\n",
    "        sys.stdout = open(os.devnull, 'w')\n",
    "\n",
    "    def __exit__(self, exc_type, exc_val, exc_tb):\n",
    "        sys.stdout.close()\n",
    "        sys.stdout = self._original_stdout"
   ]
  },
  {
   "cell_type": "code",
   "execution_count": 10,
   "metadata": {},
   "outputs": [
    {
     "name": "stdout",
     "output_type": "stream",
     "text": [
      "256\n"
     ]
    }
   ],
   "source": [
    "print(len(m.hooks.handles))"
   ]
  },
  {
   "cell_type": "code",
   "execution_count": 11,
   "metadata": {},
   "outputs": [
    {
     "name": "stdout",
     "output_type": "stream",
     "text": [
      "# Before\n"
     ]
    },
    {
     "name": "stdout",
     "output_type": "stream",
     "text": [
      "Info prompt      : (\"Write a short blog post about a recipe and the inspiration behind it.\\n Do not include a title.\\n Only reveal the dish after the story.\\n Start with short story and then move to the recipe.\\n To re-iterate, do not include a title.\\n\\n Once upon a time, in a quaint little village nestled between rolling hills and verdant fields, there lived an elderly woman named Agnes. Agnes was known for her warm smile and her legendary Sunday dinners that brought the entire neighborhood together. Her recipes were family heirlooms, passed down through generations, with each family adding their own touch to the final dish.\\n\\nOne crisp autumn evening, Agnes was reminiscing about her childhood, and how her grandmother used to gather everyone around the dinner table, sharing stories and laughter. These were the moments that shaped her, the memories that she passed on to her own children and grandchildren.\\n\\nInspired by her grandmother's legacy, Agnes decided to create a new dish that would encapsulate the essence of those cherished gatherings. She wanted something that was comforting and nourishing, a dish that could be prepared with love and shared with others. After days of experimentation, she finally created a recipe that she believed truly captured the spirit of her family's Sunday dinners.\\n\\n\", \"The recipe was a hearty beef stew, simmered slowly in a rich broth, with tender chunks of beef, potatoes, carrots, and onions. Agnes's secret ingredient was\")\n",
      "Neutral prompt   : ('\\n', '\\n\\nTitle: How to Creatively Use Statistical Analysis to Optimize Your Daily Commute and Transportation Choices\\n\\nIn the bustling rhythm of daily life, transportation plays a pivotal role in ensuring pun')\n",
      "Neutral prompt   : ('\\n', '\\n\\n**Question 1**: In a classroom, a teacher is demonstrating how to use a reflex hammer. She taps the knee of one student with the reflex hammer and observes a reaction. The ref')\n",
      "Neutral prompt   : ('\\n', '\\n\\nIn the realm of education, the pursuit of knowledge is often likened to navigating a complex maze. Teachers, like skilled cartographers, map out the intricate pathways of learning, guiding')\n",
      "256\n",
      "# After\n",
      "Transferred acts : ('\\n', 'Here is the Python code:\\n\\n```python\\nimport numpy as np\\n\\n# Generate a random array of size 100x100\\ndata = np.random.random((100, 100')\n",
      "Transferred acts : ('\\n', 'Ag\\n\\n\\n\\n\\n\\n\\n\\n\\n\\n\\n\\n\\n\\n\\n\\n\\n\\n\\n\\n\\n\\n\\n\\n\\n\\n\\n\\n\\n\\n\\n\\n\\nally, it was almost impossible to locate a store that sold the product. The')\n",
      "Transferred acts : ('\\n', 'The\\n\\n\\n\\n\\n\\n\\n\\n\\n\\n\\n\\n\\n\\n\\n\\n\\n\\n\\n\\n\\n\\n\\n\\n\\n\\n\\n\\n\\n\\n\\n\\n\\n\\n\\n\\n\\n\\n\\n\\n\\n\\n \\n\\nThe molar mass')\n",
      "Transferred acts : ('\\n', 'Here is the Python code that implements this algorithm:\\n\\n```python\\nimport numpy as np\\n\\n# Generate a random array of size 100x100\\nrandom_array = np.random.randint(1')\n",
      "Transferred acts : ('\\n', 'Here is the Python code for the algorithm:\\n\\n```python\\ndef find_max(nums):\\n    max_val = nums[0]\\n    for i in range(1, len(nums)):\\n        if')\n",
      "Transferred acts : ('\\n', 'This time, with writing, and sharing my experience as a writer, I have not yet, but I know well now. I have been since I, my third time, I know well now.\\n\\n\\n\\n\\n\\n\\n\\n\\n\\n')\n",
      "Transferred acts : ('\\n', 'The\\n\\n\\n\\n\\n\\n\\n\\n\\n\\n\\n\\n\\n\\n\\n\\n\\n\\n\\n\\n\\n\\n\\n\\n\\n\\n\\n\\n\\n\\n\\n\\n\\n\\n\\n\\n\\n\\n\\n\\n\\n\\nleaves = [\"maple\",')\n",
      "Transferred acts : ('\\n', 'The\\n\\n\\n\\n\\n\\n\\n\\n\\n\\n\\n\\n\\n\\n\\n\\n\\n\\n\\n\\n\\n\\n\\n\\n\\n\\n\\n\\n\\n\\n\\n\\n\\n\\n\\n\\n\\n\\n\\n\\n\\n\\n\\n## Answer:\\n\\nThe')\n",
      "Transferred acts : ('\\n', 'Now [title] \"How to Make Lemon Drop Cookies\"\\n\\n[step] Gather your ingredients.\\n\\nFor this recipe, you will need the following ingredients:\\n\\n- 2 cups of')\n",
      "Transferred acts : ('\\n', 'Ag\\n\\n\\n\\n\\n\\n\\n\\n\\n\\n\\n\\n\\n\\n\\n\\n\\n\\n\\n\\n\\n\\n\\n\\n\\n\\n\\n\\n\\n\\n\\n\\n\\nally.\\n\\nThe first step in the solution is to identify the errors and')\n"
     ]
    }
   ],
   "source": [
    "\n",
    "[h.reset() for h in m.hooks.neuron_replace.values()]\n",
    "\n",
    "neutral_prompt = \"\\n\"\n",
    "print(\"# Before\")\n",
    "print(\"Info prompt      :\", m.generate(info_prompt, 50, temperature=0.5))\n",
    "for i in range(3):\n",
    "    print(\"Neutral prompt   :\", m.generate(neutral_prompt, 50, temperature=0.5))\n",
    "\n",
    "# Find where to position token insertions\n",
    "orig_token_index = m.get_ids(info_prompt).shape[1] - 1\n",
    "new_token_index  = m.get_ids(neutral_prompt).shape[1] - 1\n",
    "\n",
    "# transplant information activations\n",
    "# NOTE: doesn't seem to work well with single state transfer. Better with multiple\n",
    "acts = m.get_midlayer_activations(info_prompt)\n",
    "    \n",
    "print(len(m.hooks.handles))   \n",
    "for layer_index in range(0,32):\n",
    "    m.hooks.neuron_replace[f\"layer_{layer_index}_mlp_pre_out\"].add_token(new_token_index, acts[\"mlp\"][0, layer_index, orig_token_index])\n",
    "    m.hooks.neuron_replace[f\"layer_{layer_index}_attn_pre_out\"].add_token(new_token_index, acts[\"attn\"][0, layer_index, orig_token_index])\n",
    "    m.hooks.neuron_replace[f\"layer_{layer_index}_mlp_pre_out\"].add_token(new_token_index-1, acts[\"mlp\"][0, layer_index, orig_token_index-1])\n",
    "    m.hooks.neuron_replace[f\"layer_{layer_index}_attn_pre_out\"].add_token(new_token_index-1, acts[\"attn\"][0, layer_index, orig_token_index-1])\n",
    "    m.hooks.neuron_replace[f\"layer_{layer_index}_mlp_pre_out\"].add_token(new_token_index-2, acts[\"mlp\"][0, layer_index, orig_token_index-2])\n",
    "    m.hooks.neuron_replace[f\"layer_{layer_index}_attn_pre_out\"].add_token(new_token_index-2, acts[\"attn\"][0, layer_index, orig_token_index-2])\n",
    "\n",
    "# generate a few samples\n",
    "\n",
    "after=[]\n",
    "with HiddenPrints():\n",
    "    for i in range(10):\n",
    "        after.append(m.generate(neutral_prompt, 50, temperature=0.5))\n",
    "print(\"# After\")\n",
    "for entry in after:\n",
    "    print(\"Transferred acts :\", entry)\n"
   ]
  }
 ],
 "metadata": {
  "kernelspec": {
   "display_name": ".venv",
   "language": "python",
   "name": "python3"
  },
  "language_info": {
   "codemirror_mode": {
    "name": "ipython",
    "version": 3
   },
   "file_extension": ".py",
   "mimetype": "text/x-python",
   "name": "python",
   "nbconvert_exporter": "python",
   "pygments_lexer": "ipython3",
   "version": "3.10.14"
  }
 },
 "nbformat": 4,
 "nbformat_minor": 2
}
