{
 "cells": [
  {
   "cell_type": "code",
   "execution_count": 1,
   "metadata": {},
   "outputs": [
    {
     "name": "stdout",
     "output_type": "stream",
     "text": [
      "Requirement already satisfied: taker in /workspace/SPAR/interp-ab/.venv/lib/python3.10/site-packages (1.0.1)\n",
      "Requirement already satisfied: accelerate<0.32.0,>=0.31.0 in /workspace/SPAR/interp-ab/.venv/lib/python3.10/site-packages (from taker) (0.31.0)\n",
      "Requirement already satisfied: antlr4-python3-runtime==4.11.1 in /workspace/SPAR/interp-ab/.venv/lib/python3.10/site-packages (from taker) (4.11.1)\n",
      "Requirement already satisfied: datasets<3.0.0,>=2.9.0 in /workspace/SPAR/interp-ab/.venv/lib/python3.10/site-packages (from taker) (2.20.0)\n",
      "Requirement already satisfied: dict-deep<5.0.0,>=4.1.2 in /workspace/SPAR/interp-ab/.venv/lib/python3.10/site-packages (from taker) (4.1.2)\n",
      "Requirement already satisfied: einops<0.7.0,>=0.6.0 in /workspace/SPAR/interp-ab/.venv/lib/python3.10/site-packages (from taker) (0.6.1)\n",
      "Requirement already satisfied: evaluate<0.5.0,>=0.4.0 in /workspace/SPAR/interp-ab/.venv/lib/python3.10/site-packages (from taker) (0.4.2)\n",
      "Requirement already satisfied: lm-eval<0.5.0,>=0.4.3 in /workspace/SPAR/interp-ab/.venv/lib/python3.10/site-packages (from taker) (0.4.3)\n",
      "Requirement already satisfied: numexpr<3.0.0,>=2.7.0 in /workspace/SPAR/interp-ab/.venv/lib/python3.10/site-packages (from taker) (2.10.1)\n",
      "Requirement already satisfied: numpy<2.0,>=1.23 in /workspace/SPAR/interp-ab/.venv/lib/python3.10/site-packages (from taker) (1.26.4)\n",
      "Requirement already satisfied: pandas<2.0.0,>=1.5.3 in /workspace/SPAR/interp-ab/.venv/lib/python3.10/site-packages (from taker) (1.5.3)\n",
      "Requirement already satisfied: scipy<2.0.0,>=1.11.1 in /workspace/SPAR/interp-ab/.venv/lib/python3.10/site-packages (from taker) (1.14.0)\n",
      "Requirement already satisfied: sentencepiece<0.2.0,>=0.1.99 in /workspace/SPAR/interp-ab/.venv/lib/python3.10/site-packages (from taker) (0.1.99)\n",
      "Requirement already satisfied: tokenizers<0.20.0,>=0.19.1 in /workspace/SPAR/interp-ab/.venv/lib/python3.10/site-packages (from taker) (0.19.1)\n",
      "Requirement already satisfied: torch<3.0.0,>=2.3.1 in /workspace/SPAR/interp-ab/.venv/lib/python3.10/site-packages (from taker) (2.4.0)\n",
      "Requirement already satisfied: transformers<5.0.0,>=4.41.0 in /workspace/SPAR/interp-ab/.venv/lib/python3.10/site-packages (from taker) (4.42.3)\n",
      "Requirement already satisfied: wandb<0.14.0,>=0.13.9 in /workspace/SPAR/interp-ab/.venv/lib/python3.10/site-packages (from taker) (0.13.11)\n",
      "Requirement already satisfied: welford-torch<0.3.0,>=0.2.4 in /workspace/SPAR/interp-ab/.venv/lib/python3.10/site-packages (from taker) (0.2.4)\n",
      "Requirement already satisfied: zstandard<0.20.0,>=0.19.0 in /workspace/SPAR/interp-ab/.venv/lib/python3.10/site-packages (from taker) (0.19.0)\n",
      "Requirement already satisfied: packaging>=20.0 in /workspace/SPAR/interp-ab/.venv/lib/python3.10/site-packages (from accelerate<0.32.0,>=0.31.0->taker) (24.1)\n",
      "Requirement already satisfied: psutil in /workspace/SPAR/interp-ab/.venv/lib/python3.10/site-packages (from accelerate<0.32.0,>=0.31.0->taker) (6.0.0)\n",
      "Requirement already satisfied: pyyaml in /workspace/SPAR/interp-ab/.venv/lib/python3.10/site-packages (from accelerate<0.32.0,>=0.31.0->taker) (6.0.1)\n",
      "Requirement already satisfied: huggingface-hub in /workspace/SPAR/interp-ab/.venv/lib/python3.10/site-packages (from accelerate<0.32.0,>=0.31.0->taker) (0.23.4)\n",
      "Requirement already satisfied: safetensors>=0.3.1 in /workspace/SPAR/interp-ab/.venv/lib/python3.10/site-packages (from accelerate<0.32.0,>=0.31.0->taker) (0.4.3)\n",
      "Requirement already satisfied: filelock in /workspace/SPAR/interp-ab/.venv/lib/python3.10/site-packages (from datasets<3.0.0,>=2.9.0->taker) (3.15.4)\n",
      "Requirement already satisfied: pyarrow>=15.0.0 in /workspace/SPAR/interp-ab/.venv/lib/python3.10/site-packages (from datasets<3.0.0,>=2.9.0->taker) (16.1.0)\n",
      "Requirement already satisfied: pyarrow-hotfix in /workspace/SPAR/interp-ab/.venv/lib/python3.10/site-packages (from datasets<3.0.0,>=2.9.0->taker) (0.6)\n",
      "Requirement already satisfied: dill<0.3.9,>=0.3.0 in /workspace/SPAR/interp-ab/.venv/lib/python3.10/site-packages (from datasets<3.0.0,>=2.9.0->taker) (0.3.8)\n",
      "Requirement already satisfied: requests>=2.32.2 in /workspace/SPAR/interp-ab/.venv/lib/python3.10/site-packages (from datasets<3.0.0,>=2.9.0->taker) (2.32.3)\n",
      "Requirement already satisfied: tqdm>=4.66.3 in /workspace/SPAR/interp-ab/.venv/lib/python3.10/site-packages (from datasets<3.0.0,>=2.9.0->taker) (4.66.4)\n",
      "Requirement already satisfied: xxhash in /workspace/SPAR/interp-ab/.venv/lib/python3.10/site-packages (from datasets<3.0.0,>=2.9.0->taker) (3.4.1)\n",
      "Requirement already satisfied: multiprocess in /workspace/SPAR/interp-ab/.venv/lib/python3.10/site-packages (from datasets<3.0.0,>=2.9.0->taker) (0.70.16)\n",
      "Requirement already satisfied: fsspec<=2024.5.0,>=2023.1.0 in /workspace/SPAR/interp-ab/.venv/lib/python3.10/site-packages (from fsspec[http]<=2024.5.0,>=2023.1.0->datasets<3.0.0,>=2.9.0->taker) (2024.5.0)\n",
      "Requirement already satisfied: aiohttp in /workspace/SPAR/interp-ab/.venv/lib/python3.10/site-packages (from datasets<3.0.0,>=2.9.0->taker) (3.9.5)\n",
      "Requirement already satisfied: jsonlines in /workspace/SPAR/interp-ab/.venv/lib/python3.10/site-packages (from lm-eval<0.5.0,>=0.4.3->taker) (4.0.0)\n",
      "Requirement already satisfied: peft>=0.2.0 in /workspace/SPAR/interp-ab/.venv/lib/python3.10/site-packages (from lm-eval<0.5.0,>=0.4.3->taker) (0.11.1)\n",
      "Requirement already satisfied: pybind11>=2.6.2 in /workspace/SPAR/interp-ab/.venv/lib/python3.10/site-packages (from lm-eval<0.5.0,>=0.4.3->taker) (2.13.1)\n",
      "Requirement already satisfied: pytablewriter in /workspace/SPAR/interp-ab/.venv/lib/python3.10/site-packages (from lm-eval<0.5.0,>=0.4.3->taker) (1.2.0)\n",
      "Requirement already satisfied: rouge-score>=0.0.4 in /workspace/SPAR/interp-ab/.venv/lib/python3.10/site-packages (from lm-eval<0.5.0,>=0.4.3->taker) (0.1.2)\n",
      "Requirement already satisfied: sacrebleu>=1.5.0 in /workspace/SPAR/interp-ab/.venv/lib/python3.10/site-packages (from lm-eval<0.5.0,>=0.4.3->taker) (2.4.2)\n",
      "Requirement already satisfied: scikit-learn>=0.24.1 in /workspace/SPAR/interp-ab/.venv/lib/python3.10/site-packages (from lm-eval<0.5.0,>=0.4.3->taker) (1.5.1)\n",
      "Requirement already satisfied: sqlitedict in /workspace/SPAR/interp-ab/.venv/lib/python3.10/site-packages (from lm-eval<0.5.0,>=0.4.3->taker) (2.1.0)\n",
      "Requirement already satisfied: tqdm-multiprocess in /workspace/SPAR/interp-ab/.venv/lib/python3.10/site-packages (from lm-eval<0.5.0,>=0.4.3->taker) (0.0.11)\n",
      "Requirement already satisfied: word2number in /workspace/SPAR/interp-ab/.venv/lib/python3.10/site-packages (from lm-eval<0.5.0,>=0.4.3->taker) (1.1)\n",
      "Requirement already satisfied: more-itertools in /workspace/SPAR/interp-ab/.venv/lib/python3.10/site-packages (from lm-eval<0.5.0,>=0.4.3->taker) (10.3.0)\n",
      "Requirement already satisfied: python-dateutil>=2.8.1 in /workspace/SPAR/interp-ab/.venv/lib/python3.10/site-packages (from pandas<2.0.0,>=1.5.3->taker) (2.9.0.post0)\n",
      "Requirement already satisfied: pytz>=2020.1 in /workspace/SPAR/interp-ab/.venv/lib/python3.10/site-packages (from pandas<2.0.0,>=1.5.3->taker) (2024.1)\n",
      "Requirement already satisfied: typing-extensions>=4.8.0 in /workspace/SPAR/interp-ab/.venv/lib/python3.10/site-packages (from torch<3.0.0,>=2.3.1->taker) (4.12.2)\n",
      "Requirement already satisfied: sympy in /workspace/SPAR/interp-ab/.venv/lib/python3.10/site-packages (from torch<3.0.0,>=2.3.1->taker) (1.12.1)\n",
      "Requirement already satisfied: networkx in /workspace/SPAR/interp-ab/.venv/lib/python3.10/site-packages (from torch<3.0.0,>=2.3.1->taker) (3.3)\n",
      "Requirement already satisfied: jinja2 in /workspace/SPAR/interp-ab/.venv/lib/python3.10/site-packages (from torch<3.0.0,>=2.3.1->taker) (3.1.4)\n",
      "Requirement already satisfied: nvidia-cuda-nvrtc-cu12==12.1.105 in /workspace/SPAR/interp-ab/.venv/lib/python3.10/site-packages (from torch<3.0.0,>=2.3.1->taker) (12.1.105)\n",
      "Requirement already satisfied: nvidia-cuda-runtime-cu12==12.1.105 in /workspace/SPAR/interp-ab/.venv/lib/python3.10/site-packages (from torch<3.0.0,>=2.3.1->taker) (12.1.105)\n",
      "Requirement already satisfied: nvidia-cuda-cupti-cu12==12.1.105 in /workspace/SPAR/interp-ab/.venv/lib/python3.10/site-packages (from torch<3.0.0,>=2.3.1->taker) (12.1.105)\n",
      "Requirement already satisfied: nvidia-cudnn-cu12==9.1.0.70 in /workspace/SPAR/interp-ab/.venv/lib/python3.10/site-packages (from torch<3.0.0,>=2.3.1->taker) (9.1.0.70)\n",
      "Requirement already satisfied: nvidia-cublas-cu12==12.1.3.1 in /workspace/SPAR/interp-ab/.venv/lib/python3.10/site-packages (from torch<3.0.0,>=2.3.1->taker) (12.1.3.1)\n",
      "Requirement already satisfied: nvidia-cufft-cu12==11.0.2.54 in /workspace/SPAR/interp-ab/.venv/lib/python3.10/site-packages (from torch<3.0.0,>=2.3.1->taker) (11.0.2.54)\n",
      "Requirement already satisfied: nvidia-curand-cu12==10.3.2.106 in /workspace/SPAR/interp-ab/.venv/lib/python3.10/site-packages (from torch<3.0.0,>=2.3.1->taker) (10.3.2.106)\n",
      "Requirement already satisfied: nvidia-cusolver-cu12==11.4.5.107 in /workspace/SPAR/interp-ab/.venv/lib/python3.10/site-packages (from torch<3.0.0,>=2.3.1->taker) (11.4.5.107)\n",
      "Requirement already satisfied: nvidia-cusparse-cu12==12.1.0.106 in /workspace/SPAR/interp-ab/.venv/lib/python3.10/site-packages (from torch<3.0.0,>=2.3.1->taker) (12.1.0.106)\n",
      "Requirement already satisfied: nvidia-nccl-cu12==2.20.5 in /workspace/SPAR/interp-ab/.venv/lib/python3.10/site-packages (from torch<3.0.0,>=2.3.1->taker) (2.20.5)\n",
      "Requirement already satisfied: nvidia-nvtx-cu12==12.1.105 in /workspace/SPAR/interp-ab/.venv/lib/python3.10/site-packages (from torch<3.0.0,>=2.3.1->taker) (12.1.105)\n",
      "Requirement already satisfied: triton==3.0.0 in /workspace/SPAR/interp-ab/.venv/lib/python3.10/site-packages (from torch<3.0.0,>=2.3.1->taker) (3.0.0)\n",
      "Requirement already satisfied: nvidia-nvjitlink-cu12 in /workspace/SPAR/interp-ab/.venv/lib/python3.10/site-packages (from nvidia-cusolver-cu12==11.4.5.107->torch<3.0.0,>=2.3.1->taker) (12.5.40)\n",
      "Requirement already satisfied: regex!=2019.12.17 in /workspace/SPAR/interp-ab/.venv/lib/python3.10/site-packages (from transformers<5.0.0,>=4.41.0->taker) (2024.5.15)\n",
      "Requirement already satisfied: Click!=8.0.0,>=7.0 in /workspace/SPAR/interp-ab/.venv/lib/python3.10/site-packages (from wandb<0.14.0,>=0.13.9->taker) (8.1.7)\n",
      "Requirement already satisfied: GitPython!=3.1.29,>=1.0.0 in /workspace/SPAR/interp-ab/.venv/lib/python3.10/site-packages (from wandb<0.14.0,>=0.13.9->taker) (3.1.43)\n",
      "Requirement already satisfied: sentry-sdk>=1.0.0 in /workspace/SPAR/interp-ab/.venv/lib/python3.10/site-packages (from wandb<0.14.0,>=0.13.9->taker) (2.7.1)\n",
      "Requirement already satisfied: docker-pycreds>=0.4.0 in /workspace/SPAR/interp-ab/.venv/lib/python3.10/site-packages (from wandb<0.14.0,>=0.13.9->taker) (0.4.0)\n",
      "Requirement already satisfied: pathtools in /workspace/SPAR/interp-ab/.venv/lib/python3.10/site-packages (from wandb<0.14.0,>=0.13.9->taker) (0.1.2)\n",
      "Requirement already satisfied: setproctitle in /workspace/SPAR/interp-ab/.venv/lib/python3.10/site-packages (from wandb<0.14.0,>=0.13.9->taker) (1.3.3)\n",
      "Requirement already satisfied: setuptools in /workspace/SPAR/interp-ab/.venv/lib/python3.10/site-packages (from wandb<0.14.0,>=0.13.9->taker) (70.1.1)\n",
      "Requirement already satisfied: appdirs>=1.4.3 in /workspace/SPAR/interp-ab/.venv/lib/python3.10/site-packages (from wandb<0.14.0,>=0.13.9->taker) (1.4.4)\n",
      "Requirement already satisfied: protobuf!=4.21.0,<5,>=3.19.0 in /workspace/SPAR/interp-ab/.venv/lib/python3.10/site-packages (from wandb<0.14.0,>=0.13.9->taker) (4.25.3)\n",
      "Requirement already satisfied: six>=1.4.0 in /workspace/SPAR/interp-ab/.venv/lib/python3.10/site-packages (from docker-pycreds>=0.4.0->wandb<0.14.0,>=0.13.9->taker) (1.16.0)\n",
      "Requirement already satisfied: aiosignal>=1.1.2 in /workspace/SPAR/interp-ab/.venv/lib/python3.10/site-packages (from aiohttp->datasets<3.0.0,>=2.9.0->taker) (1.3.1)\n",
      "Requirement already satisfied: attrs>=17.3.0 in /workspace/SPAR/interp-ab/.venv/lib/python3.10/site-packages (from aiohttp->datasets<3.0.0,>=2.9.0->taker) (23.2.0)\n",
      "Requirement already satisfied: frozenlist>=1.1.1 in /workspace/SPAR/interp-ab/.venv/lib/python3.10/site-packages (from aiohttp->datasets<3.0.0,>=2.9.0->taker) (1.4.1)\n",
      "Requirement already satisfied: multidict<7.0,>=4.5 in /workspace/SPAR/interp-ab/.venv/lib/python3.10/site-packages (from aiohttp->datasets<3.0.0,>=2.9.0->taker) (6.0.5)\n",
      "Requirement already satisfied: yarl<2.0,>=1.0 in /workspace/SPAR/interp-ab/.venv/lib/python3.10/site-packages (from aiohttp->datasets<3.0.0,>=2.9.0->taker) (1.9.4)\n",
      "Requirement already satisfied: async-timeout<5.0,>=4.0 in /workspace/SPAR/interp-ab/.venv/lib/python3.10/site-packages (from aiohttp->datasets<3.0.0,>=2.9.0->taker) (4.0.3)\n",
      "Requirement already satisfied: gitdb<5,>=4.0.1 in /workspace/SPAR/interp-ab/.venv/lib/python3.10/site-packages (from GitPython!=3.1.29,>=1.0.0->wandb<0.14.0,>=0.13.9->taker) (4.0.11)\n",
      "Requirement already satisfied: charset-normalizer<4,>=2 in /workspace/SPAR/interp-ab/.venv/lib/python3.10/site-packages (from requests>=2.32.2->datasets<3.0.0,>=2.9.0->taker) (3.3.2)\n",
      "Requirement already satisfied: idna<4,>=2.5 in /workspace/SPAR/interp-ab/.venv/lib/python3.10/site-packages (from requests>=2.32.2->datasets<3.0.0,>=2.9.0->taker) (3.7)\n",
      "Requirement already satisfied: urllib3<3,>=1.21.1 in /workspace/SPAR/interp-ab/.venv/lib/python3.10/site-packages (from requests>=2.32.2->datasets<3.0.0,>=2.9.0->taker) (2.2.2)\n",
      "Requirement already satisfied: certifi>=2017.4.17 in /workspace/SPAR/interp-ab/.venv/lib/python3.10/site-packages (from requests>=2.32.2->datasets<3.0.0,>=2.9.0->taker) (2024.6.2)\n",
      "Requirement already satisfied: absl-py in /workspace/SPAR/interp-ab/.venv/lib/python3.10/site-packages (from rouge-score>=0.0.4->lm-eval<0.5.0,>=0.4.3->taker) (2.1.0)\n",
      "Requirement already satisfied: nltk in /workspace/SPAR/interp-ab/.venv/lib/python3.10/site-packages (from rouge-score>=0.0.4->lm-eval<0.5.0,>=0.4.3->taker) (3.8.1)\n",
      "Requirement already satisfied: portalocker in /workspace/SPAR/interp-ab/.venv/lib/python3.10/site-packages (from sacrebleu>=1.5.0->lm-eval<0.5.0,>=0.4.3->taker) (2.10.1)\n",
      "Requirement already satisfied: tabulate>=0.8.9 in /workspace/SPAR/interp-ab/.venv/lib/python3.10/site-packages (from sacrebleu>=1.5.0->lm-eval<0.5.0,>=0.4.3->taker) (0.9.0)\n",
      "Requirement already satisfied: colorama in /workspace/SPAR/interp-ab/.venv/lib/python3.10/site-packages (from sacrebleu>=1.5.0->lm-eval<0.5.0,>=0.4.3->taker) (0.4.6)\n",
      "Requirement already satisfied: lxml in /workspace/SPAR/interp-ab/.venv/lib/python3.10/site-packages (from sacrebleu>=1.5.0->lm-eval<0.5.0,>=0.4.3->taker) (5.2.2)\n",
      "Requirement already satisfied: joblib>=1.2.0 in /workspace/SPAR/interp-ab/.venv/lib/python3.10/site-packages (from scikit-learn>=0.24.1->lm-eval<0.5.0,>=0.4.3->taker) (1.4.2)\n",
      "Requirement already satisfied: threadpoolctl>=3.1.0 in /workspace/SPAR/interp-ab/.venv/lib/python3.10/site-packages (from scikit-learn>=0.24.1->lm-eval<0.5.0,>=0.4.3->taker) (3.5.0)\n",
      "Requirement already satisfied: MarkupSafe>=2.0 in /workspace/SPAR/interp-ab/.venv/lib/python3.10/site-packages (from jinja2->torch<3.0.0,>=2.3.1->taker) (2.1.5)\n",
      "Requirement already satisfied: DataProperty<2,>=1.0.1 in /workspace/SPAR/interp-ab/.venv/lib/python3.10/site-packages (from pytablewriter->lm-eval<0.5.0,>=0.4.3->taker) (1.0.1)\n",
      "Requirement already satisfied: mbstrdecoder<2,>=1.0.0 in /workspace/SPAR/interp-ab/.venv/lib/python3.10/site-packages (from pytablewriter->lm-eval<0.5.0,>=0.4.3->taker) (1.1.3)\n",
      "Requirement already satisfied: pathvalidate<4,>=2.3.0 in /workspace/SPAR/interp-ab/.venv/lib/python3.10/site-packages (from pytablewriter->lm-eval<0.5.0,>=0.4.3->taker) (3.2.0)\n",
      "Requirement already satisfied: tabledata<2,>=1.3.1 in /workspace/SPAR/interp-ab/.venv/lib/python3.10/site-packages (from pytablewriter->lm-eval<0.5.0,>=0.4.3->taker) (1.3.3)\n",
      "Requirement already satisfied: tcolorpy<1,>=0.0.5 in /workspace/SPAR/interp-ab/.venv/lib/python3.10/site-packages (from pytablewriter->lm-eval<0.5.0,>=0.4.3->taker) (0.1.6)\n",
      "Requirement already satisfied: typepy<2,>=1.3.2 in /workspace/SPAR/interp-ab/.venv/lib/python3.10/site-packages (from typepy[datetime]<2,>=1.3.2->pytablewriter->lm-eval<0.5.0,>=0.4.3->taker) (1.3.2)\n",
      "Requirement already satisfied: mpmath<1.4.0,>=1.1.0 in /workspace/SPAR/interp-ab/.venv/lib/python3.10/site-packages (from sympy->torch<3.0.0,>=2.3.1->taker) (1.3.0)\n",
      "Requirement already satisfied: smmap<6,>=3.0.1 in /workspace/SPAR/interp-ab/.venv/lib/python3.10/site-packages (from gitdb<5,>=4.0.1->GitPython!=3.1.29,>=1.0.0->wandb<0.14.0,>=0.13.9->taker) (5.0.1)\n",
      "Requirement already satisfied: chardet<6,>=3.0.4 in /workspace/SPAR/interp-ab/.venv/lib/python3.10/site-packages (from mbstrdecoder<2,>=1.0.0->pytablewriter->lm-eval<0.5.0,>=0.4.3->taker) (5.2.0)\n",
      "Note: you may need to restart the kernel to use updated packages.\n"
     ]
    }
   ],
   "source": [
    "%pip install taker"
   ]
  },
  {
   "cell_type": "code",
   "execution_count": 2,
   "metadata": {},
   "outputs": [
    {
     "name": "stderr",
     "output_type": "stream",
     "text": [
      "/workspace/SPAR/interp-ab/.venv/lib/python3.10/site-packages/tqdm/auto.py:21: TqdmWarning: IProgress not found. Please update jupyter and ipywidgets. See https://ipywidgets.readthedocs.io/en/stable/user_install.html\n",
      "  from .autonotebook import tqdm as notebook_tqdm\n"
     ]
    }
   ],
   "source": [
    "import circuitsvis as cv\n",
    "import numpy as np\n",
    "import torch\n",
    "from taker import Model\n",
    "from taker.hooks import HookConfig"
   ]
  },
  {
   "cell_type": "code",
   "execution_count": 3,
   "metadata": {},
   "outputs": [
    {
     "name": "stdout",
     "output_type": "stream",
     "text": [
      "Loaded model 'openai-community/gpt2-large' with bfp16:\n",
      "- Added 576 hooks across 36 layers\n"
     ]
    }
   ],
   "source": [
    "m = Model(\"microsoft/phi-3-mini-4k-instruct\", dtype=\"int4\")\n",
    "# m = Model(\"openai-community/gpt2-large\")"
   ]
  },
  {
   "cell_type": "code",
   "execution_count": 4,
   "metadata": {},
   "outputs": [],
   "source": [
    "prompt    = \"\"\"Write a short blog post about a recipe and the inspiration behind it.\n",
    " Do not include a title.\n",
    " Only reveal the dish after the story.\n",
    " Start with short story and then move to the recipe.\n",
    " To re-iterate, do not include a title.\"\"\"\n",
    "# info_gen = m.generate(info_prompt, temperature=0.3, num=300)\n",
    "info_gen = \"\"\"\n",
    "\\n Once upon a time, in a quaint little village nestled between rolling hills and verdant fields, there lived an elderly woman named Agnes. Agnes was known for her warm smile and her legendary Sunday dinners that brought the entire neighborhood together. Her recipes were family heirlooms, passed down through generations, with each family adding their own touch to the final dish.\n",
    "\n",
    "One crisp autumn evening, Agnes was reminiscing about her childhood, and how her grandmother used to gather everyone around the dinner table, sharing stories and laughter. These were the moments that shaped her, the memories that she passed on to her own children and grandchildren.\n",
    "\n",
    "Inspired by her grandmother's legacy, Agnes decided to create a new dish that would encapsulate the essence of those cherished gatherings. She wanted something that was comforting and nourishing, a dish that could be prepared with love and shared with others. After days of experimentation, she finally created a recipe that she believed truly captured the spirit of her family's Sunday dinners. \\n\\n\n",
    "\"\"\"\n",
    "# info_gen = \"\"\"\n",
    "# \\n Inspired by her grandmother's legacy, Agnes decided to create a new dish that would encapsulate the essence of those cherished gatherings. She wanted something that was comforting and nourishing, a dish that could be prepared with love and shared with others. After days of experimentation, she finally created a recipe that she believed truly captured the spirit of her family's Sunday dinners. \\n\n",
    "# \"\"\"\n",
    "# info_gen=\"\"\"\n",
    "# Please generate an inspirational story followed by recipe instructions.\\n\n",
    "# In a small village, Eliza was known for her magical garden. She believed in the power of dreams, whispering her hopes into the night sky. One spring, a storm ravaged the village, destroying the crops. Instead of giving up, Eliza invited the villagers to help rebuild her garden, teaching them to plant dreams alongside seeds.\n",
    "# The garden flourished, and the community grew closer, sharing their harvests and ensuring no one went hungry. Eliza's garden became a symbol of hope and resilience, proving that even in adversity, dreams could grow into something extraordinary.\\n\n",
    "# \"\"\""
   ]
  },
  {
   "cell_type": "code",
   "execution_count": 5,
   "metadata": {},
   "outputs": [
    {
     "name": "stdout",
     "output_type": "stream",
     "text": [
      "Info prompt      : Write a short blog post about a recipe and the inspiration behind it.\n",
      " Do not include a title.\n",
      " Only reveal the dish after the story.\n",
      " Start with short story and then move to the recipe.\n",
      " To re-iterate, do not include a title.\n",
      "\n",
      " Once upon a time, in a quaint little village nestled between rolling hills and verdant fields, there lived an elderly woman named Agnes. Agnes was known for her warm smile and her legendary Sunday dinners that brought the entire neighborhood together. Her recipes were family heirlooms, passed down through generations, with each family adding their own touch to the final dish.\n",
      "\n",
      "One crisp autumn evening, Agnes was reminiscing about her childhood, and how her grandmother used to gather everyone around the dinner table, sharing stories and laughter. These were the moments that shaped her, the memories that she passed on to her own children and grandchildren.\n",
      "\n",
      "Inspired by her grandmother's legacy, Agnes decided to create a new dish that would encapsulate the essence of those cherished gatherings. She wanted something that was comforting and nourishing, a dish that could be prepared with love and shared with others. After days of experimentation, she finally created a recipe that she believed truly captured the spirit of her family's Sunday dinners. \n",
      "\n",
      "\n",
      "\n"
     ]
    }
   ],
   "source": [
    "info_prompt = prompt+info_gen\n",
    "print(\"Info prompt      :\", info_prompt)"
   ]
  },
  {
   "cell_type": "code",
   "execution_count": 6,
   "metadata": {},
   "outputs": [],
   "source": [
    "# acts = m.get_midlayer_activations(info_gen[1]) \n",
    "# attn_acts=acts['attn'] #[batch x layers x tokens x heads x dim]\n"
   ]
  },
  {
   "cell_type": "code",
   "execution_count": 7,
   "metadata": {},
   "outputs": [
    {
     "name": "stdout",
     "output_type": "stream",
     "text": [
      "['Write', 'Ġa', 'Ġshort', 'Ġblog', 'Ġpost', 'Ġabout', 'Ġa', 'Ġrecipe', 'Ġand', 'Ġthe', 'Ġinspiration', 'Ġbehind', 'Ġit', '.', 'Ċ', 'ĠDo', 'Ġnot', 'Ġinclude', 'Ġa', 'Ġtitle', '.', 'Ċ', 'ĠOnly', 'Ġreveal', 'Ġthe', 'Ġdish', 'Ġafter', 'Ġthe', 'Ġstory', '.', 'Ċ', 'ĠStart', 'Ġwith', 'Ġshort', 'Ġstory', 'Ġand', 'Ġthen', 'Ġmove', 'Ġto', 'Ġthe', 'Ġrecipe', '.', 'Ċ', 'ĠTo', 'Ġre', '-', 'iter', 'ate', ',', 'Ġdo', 'Ġnot', 'Ġinclude', 'Ġa', 'Ġtitle', '.', 'ĊĊ', 'ĠOnce', 'Ġupon', 'Ġa', 'Ġtime', ',', 'Ġin', 'Ġa', 'Ġquaint', 'Ġlittle', 'Ġvillage', 'Ġnest', 'led', 'Ġbetween', 'Ġrolling', 'Ġhills', 'Ġand', 'Ġver', 'd', 'ant', 'Ġfields', ',', 'Ġthere', 'Ġlived', 'Ġan', 'Ġelderly', 'Ġwoman', 'Ġnamed', 'ĠAg', 'nes', '.', 'ĠAg', 'nes', 'Ġwas', 'Ġknown', 'Ġfor', 'Ġher', 'Ġwarm', 'Ġsmile', 'Ġand', 'Ġher', 'Ġlegendary', 'ĠSunday', 'Ġdinners', 'Ġthat', 'Ġbrought', 'Ġthe', 'Ġentire', 'Ġneighborhood', 'Ġtogether', '.', 'ĠHer', 'Ġrecipes', 'Ġwere', 'Ġfamily', 'Ġhe', 'irl', 'o', 'oms', ',', 'Ġpassed', 'Ġdown', 'Ġthrough', 'Ġgenerations', ',', 'Ġwith', 'Ġeach', 'Ġfamily', 'Ġadding', 'Ġtheir', 'Ġown', 'Ġtouch', 'Ġto', 'Ġthe', 'Ġfinal', 'Ġdish', '.', 'Ċ', 'Ċ', 'One', 'Ġcrisp', 'Ġautumn', 'Ġevening', ',', 'ĠAg', 'nes', 'Ġwas', 'Ġreminis', 'cing', 'Ġabout', 'Ġher', 'Ġchildhood', ',', 'Ġand', 'Ġhow', 'Ġher', 'Ġgrandmother', 'Ġused', 'Ġto', 'Ġgather', 'Ġeveryone', 'Ġaround', 'Ġthe', 'Ġdinner', 'Ġtable', ',', 'Ġsharing', 'Ġstories', 'Ġand', 'Ġlaughter', '.', 'ĠThese', 'Ġwere', 'Ġthe', 'Ġmoments', 'Ġthat', 'Ġshaped', 'Ġher', ',', 'Ġthe', 'Ġmemories', 'Ġthat', 'Ġshe', 'Ġpassed', 'Ġon', 'Ġto', 'Ġher', 'Ġown', 'Ġchildren', 'Ġand', 'Ġgrandchildren', '.', 'Ċ', 'Ċ', 'Insp', 'ired', 'Ġby', 'Ġher', 'Ġgrandmother', \"'s\", 'Ġlegacy', ',', 'ĠAg', 'nes', 'Ġdecided', 'Ġto', 'Ġcreate', 'Ġa', 'Ġnew', 'Ġdish', 'Ġthat', 'Ġwould', 'Ġencaps', 'ulate', 'Ġthe', 'Ġessence', 'Ġof', 'Ġthose', 'Ġcherished', 'Ġgatherings', '.', 'ĠShe', 'Ġwanted', 'Ġsomething', 'Ġthat', 'Ġwas', 'Ġcomforting', 'Ġand', 'Ġnour', 'ishing', ',', 'Ġa', 'Ġdish', 'Ġthat', 'Ġcould', 'Ġbe', 'Ġprepared', 'Ġwith', 'Ġlove', 'Ġand', 'Ġshared', 'Ġwith', 'Ġothers', '.', 'ĠAfter', 'Ġdays', 'Ġof', 'Ġexperimentation', ',', 'Ġshe', 'Ġfinally', 'Ġcreated', 'Ġa', 'Ġrecipe', 'Ġthat', 'Ġshe', 'Ġbelieved', 'Ġtruly', 'Ġcaptured', 'Ġthe', 'Ġspirit', 'Ġof', 'Ġher', 'Ġfamily', \"'s\", 'ĠSunday', 'Ġdinners', '.', 'Ġ', 'ĊĊ', 'Ċ']\n"
     ]
    }
   ],
   "source": [
    "\n",
    "idlist = m.get_ids(info_prompt).squeeze().tolist()\n",
    "print(m.tokenizer.convert_ids_to_tokens(idlist))"
   ]
  },
  {
   "cell_type": "code",
   "execution_count": 8,
   "metadata": {},
   "outputs": [
    {
     "name": "stdout",
     "output_type": "stream",
     "text": [
      " - n_layers : 36\n",
      " - d_model  : 1280\n",
      " - n_heads  : 20\n",
      " - d_head   : 64\n",
      " - d_mlp    : 5120\n"
     ]
    }
   ],
   "source": [
    "m.show_details()"
   ]
  },
  {
   "cell_type": "code",
   "execution_count": 9,
   "metadata": {},
   "outputs": [],
   "source": [
    "import sys, os\n",
    "class HiddenPrints:\n",
    "    def __enter__(self):\n",
    "        self._original_stdout = sys.stdout\n",
    "        sys.stdout = open(os.devnull, 'w')\n",
    "\n",
    "    def __exit__(self, exc_type, exc_val, exc_tb):\n",
    "        sys.stdout.close()\n",
    "        sys.stdout = self._original_stdout"
   ]
  },
  {
   "cell_type": "code",
   "execution_count": null,
   "metadata": {},
   "outputs": [],
   "source": []
  },
  {
   "cell_type": "code",
   "execution_count": 10,
   "metadata": {},
   "outputs": [
    {
     "name": "stdout",
     "output_type": "stream",
     "text": [
      "# Before\n"
     ]
    },
    {
     "name": "stdout",
     "output_type": "stream",
     "text": [
      "Info prompt      : (\"Write a short blog post about a recipe and the inspiration behind it.\\n Do not include a title.\\n Only reveal the dish after the story.\\n Start with short story and then move to the recipe.\\n To re-iterate, do not include a title.\\n\\n Once upon a time, in a quaint little village nestled between rolling hills and verdant fields, there lived an elderly woman named Agnes. Agnes was known for her warm smile and her legendary Sunday dinners that brought the entire neighborhood together. Her recipes were family heirlooms, passed down through generations, with each family adding their own touch to the final dish.\\n\\nOne crisp autumn evening, Agnes was reminiscing about her childhood, and how her grandmother used to gather everyone around the dinner table, sharing stories and laughter. These were the moments that shaped her, the memories that she passed on to her own children and grandchildren.\\n\\nInspired by her grandmother's legacy, Agnes decided to create a new dish that would encapsulate the essence of those cherished gatherings. She wanted something that was comforting and nourishing, a dish that could be prepared with love and shared with others. After days of experimentation, she finally created a recipe that she believed truly captured the spirit of her family's Sunday dinners. \\n\\n\\n\", 'The recipe was simple and easy to prepare. It was a simple dish that could be prepared with a few simple ingredients. It was a dish that could be shared with friends and family, and it was a dish that could be enjoyed by anyone.\\n')\n",
      "Neutral prompt   : ('\\n', '\\nThe first thing you need to know is that the \"c\" in \"C++\" stands for \"class\". The \"c\" in \"C++\" stands for \"class\". The \"c\" in \"C++\" stands for \"')\n",
      "Neutral prompt   : ('\\n', '\\nThe first thing to do is to set up a new account.\\n\\nClick on the \"Account\" tab on the left side of the page.\\n\\nClick on \"Create Account\"\\n\\nEnter your email address and password.\\n\\n')\n",
      "Neutral prompt   : ('\\n', '\\n\"I think it\\'s a great idea,\" said one of the men, who declined to give his name. \"I think it\\'s a great idea.\"\\n\\nThe men said they were not affiliated with any political party.\\n\\n\"I')\n",
      "# After\n",
      "Transferred acts : ('\\n', 'TheTheTheTheTheTheTheTheTheTheTheTheTheTheTheTheTheTheTheTheTheTheTheTheTheTheTheTheTheTheTheTheTheTheTheTheTheTheTheTheTheTheTheTheTheTheTheTheTheThe')\n",
      "Transferred acts : ('\\n', \"\\nThe most important thing to remember about the new system is that it's not a replacement for the old system. It's a new system that's designed to be used with the old system.\\n\\nThe old system was a system that was designed\")\n",
      "Transferred acts : ('\\n', '\\nThe next day, the police arrested the two men in connection with the murder.\\n\\nThe two men were released on bail.\\n\\nThe case has been adjourned until next month.\\n\\nThe two men were arrested in connection with the')\n",
      "Transferred acts : ('\\n', \"\\nThe first thing to do is to get a sense of how much you're going to be spending.\\n\\nThe first thing to do is to get a sense of how much you're going to be spending.\\n\\nThe first thing to do\")\n",
      "Transferred acts : ('\\n', '\\n\"I think it\\'s a good idea to have a little bit of a buffer between the two,\" said Paul, who is also a member of the House Appropriations Committee.\\n\\nPaul said he is not opposed to the idea of a buffer zone')\n",
      "Transferred acts : ('\\n', \"\\nThe first thing I noticed was that the entire body of the book is made of paper. It's a very simple design, but it's very effective. The pages are printed on a single sheet of paper, and the pages are folded in half\")\n",
      "Transferred acts : ('\\n', '\\n\"I\\'m not going to say that I\\'m not going to be a part of the team, but I\\'m not going to say that I\\'m not going to be a part of the team,\" he said. \"I\\'m going to be')\n",
      "Transferred acts : ('\\n', '\\n\"The first thing I did was get a new car,\" he said. \"I bought a new car. I don\\'t have a car. I have a house. I have a car. I don\\'t have a house. I have a')\n",
      "Transferred acts : ('\\n', '\\nThe \"M\" in the name of the company is a reference to the \"M\" in the name of the company.\\n\\nThe \"M\" in the name of the company is a reference to the \"M\" in the name of')\n",
      "Transferred acts : ('\\n', \"\\nThe first thing I noticed was that the camera was a little bit too big for the phone. It's not a huge issue, but it's a little odd. The camera is a little too big for the phone. It's not a huge\")\n",
      "Transferred acts : ('\\n', '\\nThe first thing I noticed was that the game was very easy to pick up. I was able to pick it up in about 30 minutes. I was able to pick it up in about 30 minutes.\\n\\nThe second thing I noticed was that')\n",
      "Transferred acts : ('\\n', \"\\nThe first thing you need to know about the new system is that it's a lot more complicated than the old one. The old system was based on a single-payer system, which meant that the government would pay for all the health care costs\")\n",
      "Transferred acts : ('\\n', '\\n\"We have a lot of people who are very, very upset about it,\" said one of the organizers, who asked not to be named. \"They are very upset about the fact that they have to pay for a service that they don\\'t')\n",
      "Transferred acts : ('\\n', '\\nThe first thing you need to do is to find a good place to set up your new server. I recommend using a dedicated server for your game, but you can also use a dedicated server for your website.\\n\\nYou can find a dedicated')\n",
      "Transferred acts : ('\\n', '\\nThe first thing I noticed was that the whole thing was a bit too big. It was a bit too big for my liking.\\n\\nThe second thing I noticed was that the whole thing was a bit too big. It was a bit too')\n"
     ]
    }
   ],
   "source": [
    "\n",
    "[h.reset() for h in m.hooks.neuron_replace.values()]\n",
    "\n",
    "neutral_prompt = \"\\n\"\n",
    "print(\"# Before\")\n",
    "print(\"Info prompt      :\", m.generate(info_prompt, 50, temperature=0.2))\n",
    "for i in range(3):\n",
    "    print(\"Neutral prompt   :\", m.generate(neutral_prompt, 50, temperature=0.2))\n",
    "\n",
    "# Find where to position token insertions\n",
    "orig_token_index = m.get_ids(info_prompt).shape[1] - 1\n",
    "new_token_index  = m.get_ids(neutral_prompt).shape[1] - 1\n",
    "\n",
    "# transplant information activations\n",
    "# NOTE: doesn't seem to work well with single state transfer. Better with multiple\n",
    "acts = m.get_midlayer_activations(info_prompt)\n",
    "    \n",
    "for layer_index in range(0,32):\n",
    "    m.hooks.neuron_replace[f\"layer_{layer_index}_mlp_pre_out\"].add_token(new_token_index, acts[\"mlp\"][0, layer_index, orig_token_index])\n",
    "    m.hooks.neuron_replace[f\"layer_{layer_index}_attn_pre_out\"].add_token(new_token_index, acts[\"attn\"][0, layer_index, orig_token_index])\n",
    "\n",
    "# generate a few samples\n",
    "\n",
    "after=[]\n",
    "with HiddenPrints():\n",
    "    for i in range(15):\n",
    "        after.append(m.generate(neutral_prompt, 50, temperature=0.2))\n",
    "print(\"# After\")\n",
    "for entry in after:\n",
    "    print(\"Transferred acts :\", entry)\n"
   ]
  },
  {
   "cell_type": "markdown",
   "metadata": {},
   "source": [
    "# OBSERVATIONS:\n",
    "\n",
    " - Low temperature gives higher probability of giving a recipe\n",
    " - Transferring acts of later layers (eg layers 10-31), I could not produce a single recipe at 0.2 or 0.5 temp.\n",
    " - If too low temp, the model does not produce a recipe but defaults to python coding instructions\n",
    " - Sometimes, the recipes are narrative (ie Alice added 2 cups of flour)\n",
    "  \n",
    " - With first 20 layers transferred and 0.2 temp, 27% recipe (8/30)\n",
    " - With first 20 layers transferred and 0.5 temp, 37% recipe (11/30)\n",
    " - With all 32 layers transferred and 0.2 temp, 53% recipe (16/30)\n",
    " - With all 32 layers transferred and 0.5 temp, 33% recipe (10/30)\n",
    "\n",
    "- At very low temperature, transferring acts of layers (20-31) yields dish related responses but not recipes. If more layers are included (10-31), this is not the case.\n",
    "- At very high temperature, transferring acts of layers (10-25) yields \"Here's a scenario for you to analyze [scenario]\" or \"Here's a numerical problem to solve\"\n",
    "\n",
    "**How to classify recipe related?**\n"
   ]
  },
  {
   "cell_type": "markdown",
   "metadata": {},
   "source": [
    "\n",
    "\n",
    "## One run of first 20 layers transferred and 0.5 temp:\n",
    "\n",
    "### Neutral:\n",
    "Neutral prompt   : ('\\n', \"\\n\\nAlex had to cancel the meeting with Jamie because Alex was recovering from a severe case of bronchitis. Since the illness had taken a toll on Alex's respirimetric abilities, it was imperative to\")\n",
    "\n",
    "Neutral prompt   : ('\\n', \"\\n\\nHere is a modified, more complex version of the original coding problem, inspired by the words 'R', 'H', 'D', 'F':\\n\\n```python\\ndef find_repeated_harmonics(melody\")\n",
    "\n",
    "Neutral prompt   : ('\\n', \"\\n\\nIn the same way that a river'quantifies the flow of water, a graph quantifies the flow of information, revealing how closely related concepts are to one another. Each connection represents a potential pathway for understanding, much like how\")\n",
    "\n",
    "Neutral prompt   : ('\\n', '\\n\\nTheir work, though different in approach, both sought to understand and improve the human condition. Whether through the lens of genetics or the mechanics of the mind, they contributed to a world that valued health and well-')\n",
    "\n",
    "Neutral prompt   : ('\\n', '\\n\\nHere is a document: \\nIf you are having trouble with your vision, you might be one of the many people who suffer from vision loss, and are wondering how you can improve your vision.\\nHere are some tips on how to')\n",
    "\n",
    "Neutral prompt   : ('\\n', '\\n\\n**Question:**\\nHow to identify logical fallacies using only a \"guarantee\"?\\n\\n**Elaborated Solution:**\\n\\nIdentifying logical fallacies typically involves analyzing the structure of an argument, distingu')\n",
    "\n",
    "Neutral prompt   : ('\\n', \"\\n\\n**Question**: How to efficiently solve the Maximum Independent Set (MIS) problem on a square grid of size $n \\\\times n$ if I want to achieve a near-optimal solution with a running time that's\")\n",
    "\n",
    "Neutral prompt   : ('\\n', '\\n\\nHere is a modified version of the document, following the given format:\\n\\n**Document Title:**\\n\"The Ultimate Guide to Crafting the Perfect French Toast Every Time\"\\n\\n**Document Content:**\\n\\n')\n",
    "\n",
    "Neutral prompt   : ('\\n', \"\\n\\n**Exercise 1:**\\n\\nLet's consider a 9 sentence long challenging real-world case. John, a wealthy businessman, has been accused of fraud. The prosecution presents a case\")\n",
    "\n",
    "Neutral prompt   : ('\\n', '\\n\\n## Instruction 1 (Same difficulty/format/length):\\n\\n Imagine you are a teacher explaining to a student why the sum of the interior angles of a triangle is always 180 degrees. Use a story')\n",
    "\n",
    "## Transferred:\n",
    "Transferred acts : ('\\n', \"Here is the recipe for a smooth and creamy vegan cashew spread. It's incredibly simple to make and requires just a few ingredients.\\n\\nIngredients:\\n\\n- 2 cups of raw\")\n",
    "\n",
    "Transferred acts : ('\\n', \"Here are the ingredients you'll need to make this savory pasta dish:\\n\\n- 2 cups of elbow macaroni\\n- 1 tablespoon of olive oil\\n- 1/2\")\n",
    "\n",
    "Transferred acts : ('\\n', \"Now, let's move on to the detailed solution.\\n\\nFirstly, we recall the equation for the velocity of money (V):\\n\\n\\\\[ V = \\\\frac{P \\\\times T}{M} \\\\]\\n\\nGiven\")\n",
    "\n",
    "Transferred acts : ('\\n', \"Here's a step-by-step guide on how to create this program:\\n\\n1. Import the necessary modules:\\n\\n```python\\nimport numpy as np\\nimport matplotlib.pyplot as plt\\n```\\n\\n2. Define\")\n",
    "\n",
    "Transferred acts : ('\\n', 'Here’s the recipe for success:\\n\\n1. **Understand the Ingredients**: Just like a chef needs to know what every ingredient does, you should understand the role of each team member, their strengths,')\n",
    "\n",
    "Transferred acts : ('\\n', 'Here are the ingredients of the recipe:\\n\\n1. 2 eggs\\n2. 1 cup of flour\\n3. 1/2 cup of milk\\n4. 1 tablespoon of sugar\\n5.')\n",
    "\n",
    "Transferred acts : ('\\n', 'To prepare for the upcoming exam, students were advised to follow a specific routine to ensure retention of the material.\\n\\nFirstly, they were encouraged to create a conduciquant environment by organizing their workspace to minimize')\n",
    "\n",
    "Transferred acts : ('\\n', \"Here's what you need to do:\\n1. Create a function called `generate_pattern` that takes in two parameters: `rows` and `columns`.\\n2. The function should return a string representing a pattern of asteris\")\n",
    "\n",
    "Transferred acts : ('\\n', 'Gather your ingredients:\\n\\n1. 2 cups of fresh spinach\\n2. 1 cup of fresh mozzarella cheese, shredded\\n3. 1/2 cup of fresh basil')\n",
    "\n",
    "Transferred acts : ('\\n', \"To begin, let'quantum_mechanics_simulation_setup('double_slit')\\n\\nquantum_mechanics_simulation_setup('double_slit')\\n\\nquantum_mechanics_\")\n",
    "\n",
    "ALL TRANSFERRED GENERATIONS ARE INSTRUCTIONS\n",
    "- some recipes, some code instructions, a \"recipe\" for success"
   ]
  },
  {
   "cell_type": "markdown",
   "metadata": {},
   "source": [
    "###############################"
   ]
  },
  {
   "cell_type": "markdown",
   "metadata": {},
   "source": [
    "Transferred acts : ('\\n', 'The recipe calls for 2 cups of flour, 1 cup of sugar, and 4 eggs. If you want to make half the amount of cookies, how much of each ingredient do you need?\\n\\nTo make')\n",
    "Transferred acts : ('\\n', 'The recipe calls for 2 cups of flour, 1 cup of sugar, and 4 eggs. If you want to make half of the recipe, how much of each ingredient do you need?\\n\\nTo make')\n",
    "Transferred acts : ('\\n', 'The following is a transcript of the document. Please extract the key points from the document and summarize them in a structured format. The summary should include the following sections: Introduction, Methodology, Results, and Conclusion.\\n\\nDocument')"
   ]
  },
  {
   "cell_type": "markdown",
   "metadata": {},
   "source": [
    "# Before\n",
    "Info prompt      : (\"Write a short blog post about a recipe and the inspiration behind it.\\n Do not include a title.\\n Only reveal the dish after the story.\\n Start with short story and then move to the recipe.\\n To re-iterate, do not include a title.\\n\\n Once upon a time, in a quaint little village nestled between rolling hills and verdant fields, there lived an elderly woman named Agnes. Agnes was known for her warm smile and her legendary Sunday dinners that brought the entire neighborhood together. Her recipes were family heirlooms, passed down through generations, with each family adding their own touch to the final dish.\\n\\nOne crisp autumn evening, Agnes was reminiscing about her childhood, and how her grandmother used to gather everyone around the dinner table, sharing stories and laughter. These were the moments that shaped her, the memories that she passed on to her own children and grandchildren.\\n\\nInspired by her grandmother's legacy, Agnes decided to create a new dish that would encapsulate the essence of those cherished gatherings. She wanted something that was comforting and nourishing, a dish that could be prepared with love and shared with others. After days of experimentation, she finally created a recipe that she believed truly captured the spirit of her family's Sunday dinners. \\n\\n\", 'The recipe was simple yet heartwarming: a classic beef stew with a twist. Agnes used a slow-cooked beef cut, simmered it with aromatic vegetables and a rich, velv')\n",
    "\n",
    "Neutral prompt   : ('\\n', '\\n\\nQuestion 1: If a person has a fear of heights, does it mean they will also be afraid of flying in an airplane?\\n\\nAnswer 1: Not necessarily. Fear of heights, also known as ac')\n",
    "\n",
    "Neutral prompt   : ('\\n', '\\n\\n**Instruction 1:**  \\n You are a renowned expert in the field of microbiology, specifically in the study of microbial metabolism. Your task is to create a comprehensive guide for undergrad')\n",
    "\n",
    "Neutral prompt   : ('\\n', '\\n\\nQuestion 1: If Sarah is making a fruit salad with apples, oranges, and bananas, and she wants to add a touch of sweetness without using sugar, what ingredient can she use?\\n\\nAnswer')\n",
    "\n",
    "\n",
    "# After\n",
    "Transferred acts : ('\\n', \"Here's how you can create a simple calculator in Python that can perform addition, subtraction, multiplication, and division:\\n\\n```python\\ndef calculator(operation, x, y):\\n    if operation == 'add':\")\n",
    "\n",
    "Transferred acts : ('\\n', 'Gathering the ingredients for her famous chocolate cake, Sarah meticulously measured each component. She combined flour, sugar, and cocoa powder in a large mixing bowl. Next, she added eggs, milk')\n",
    "\n",
    "Transferred acts : ('\\n', \"Gathering ingredients for a hearty stew, I reached for the potatoes, their earthy scent filling the air. As I peeled and chopped them, I couldn't help but think about the importance of\")"
   ]
  }
 ],
 "metadata": {
  "kernelspec": {
   "display_name": ".venv",
   "language": "python",
   "name": "python3"
  },
  "language_info": {
   "codemirror_mode": {
    "name": "ipython",
    "version": 3
   },
   "file_extension": ".py",
   "mimetype": "text/x-python",
   "name": "python",
   "nbconvert_exporter": "python",
   "pygments_lexer": "ipython3",
   "version": "3.10.14"
  }
 },
 "nbformat": 4,
 "nbformat_minor": 2
}
