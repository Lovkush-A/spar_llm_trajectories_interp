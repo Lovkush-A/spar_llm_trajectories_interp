{
 "cells": [
  {
   "cell_type": "code",
   "execution_count": 3,
   "metadata": {},
   "outputs": [
    {
     "name": "stdout",
     "output_type": "stream",
     "text": [
      "Requirement already satisfied: taker in /workspace/SPAR/interp-ab/.venv/lib/python3.10/site-packages (1.0.1)\n",
      "Requirement already satisfied: accelerate<0.32.0,>=0.31.0 in /workspace/SPAR/interp-ab/.venv/lib/python3.10/site-packages (from taker) (0.31.0)\n",
      "Requirement already satisfied: antlr4-python3-runtime==4.11.1 in /workspace/SPAR/interp-ab/.venv/lib/python3.10/site-packages (from taker) (4.11.1)\n",
      "Requirement already satisfied: datasets<3.0.0,>=2.9.0 in /workspace/SPAR/interp-ab/.venv/lib/python3.10/site-packages (from taker) (2.20.0)\n",
      "Requirement already satisfied: dict-deep<5.0.0,>=4.1.2 in /workspace/SPAR/interp-ab/.venv/lib/python3.10/site-packages (from taker) (4.1.2)\n",
      "Requirement already satisfied: einops<0.7.0,>=0.6.0 in /workspace/SPAR/interp-ab/.venv/lib/python3.10/site-packages (from taker) (0.6.1)\n",
      "Requirement already satisfied: evaluate<0.5.0,>=0.4.0 in /workspace/SPAR/interp-ab/.venv/lib/python3.10/site-packages (from taker) (0.4.2)\n",
      "Requirement already satisfied: lm-eval<0.5.0,>=0.4.3 in /workspace/SPAR/interp-ab/.venv/lib/python3.10/site-packages (from taker) (0.4.3)\n",
      "Requirement already satisfied: numexpr<3.0.0,>=2.7.0 in /workspace/SPAR/interp-ab/.venv/lib/python3.10/site-packages (from taker) (2.10.1)\n",
      "Requirement already satisfied: numpy<2.0,>=1.23 in /workspace/SPAR/interp-ab/.venv/lib/python3.10/site-packages (from taker) (1.26.4)\n",
      "Requirement already satisfied: pandas<2.0.0,>=1.5.3 in /workspace/SPAR/interp-ab/.venv/lib/python3.10/site-packages (from taker) (1.5.3)\n",
      "Requirement already satisfied: scipy<2.0.0,>=1.11.1 in /workspace/SPAR/interp-ab/.venv/lib/python3.10/site-packages (from taker) (1.14.0)\n",
      "Requirement already satisfied: sentencepiece<0.2.0,>=0.1.99 in /workspace/SPAR/interp-ab/.venv/lib/python3.10/site-packages (from taker) (0.1.99)\n",
      "Requirement already satisfied: tokenizers<0.20.0,>=0.19.1 in /workspace/SPAR/interp-ab/.venv/lib/python3.10/site-packages (from taker) (0.19.1)\n",
      "Requirement already satisfied: torch<3.0.0,>=2.3.1 in /workspace/SPAR/interp-ab/.venv/lib/python3.10/site-packages (from taker) (2.4.0)\n",
      "Requirement already satisfied: transformers<5.0.0,>=4.41.0 in /workspace/SPAR/interp-ab/.venv/lib/python3.10/site-packages (from taker) (4.42.3)\n",
      "Requirement already satisfied: wandb<0.14.0,>=0.13.9 in /workspace/SPAR/interp-ab/.venv/lib/python3.10/site-packages (from taker) (0.13.11)\n",
      "Requirement already satisfied: welford-torch<0.3.0,>=0.2.4 in /workspace/SPAR/interp-ab/.venv/lib/python3.10/site-packages (from taker) (0.2.4)\n",
      "Requirement already satisfied: zstandard<0.20.0,>=0.19.0 in /workspace/SPAR/interp-ab/.venv/lib/python3.10/site-packages (from taker) (0.19.0)\n",
      "Requirement already satisfied: packaging>=20.0 in /workspace/SPAR/interp-ab/.venv/lib/python3.10/site-packages (from accelerate<0.32.0,>=0.31.0->taker) (24.1)\n",
      "Requirement already satisfied: psutil in /workspace/SPAR/interp-ab/.venv/lib/python3.10/site-packages (from accelerate<0.32.0,>=0.31.0->taker) (6.0.0)\n",
      "Requirement already satisfied: pyyaml in /workspace/SPAR/interp-ab/.venv/lib/python3.10/site-packages (from accelerate<0.32.0,>=0.31.0->taker) (6.0.1)\n",
      "Requirement already satisfied: huggingface-hub in /workspace/SPAR/interp-ab/.venv/lib/python3.10/site-packages (from accelerate<0.32.0,>=0.31.0->taker) (0.23.4)\n",
      "Requirement already satisfied: safetensors>=0.3.1 in /workspace/SPAR/interp-ab/.venv/lib/python3.10/site-packages (from accelerate<0.32.0,>=0.31.0->taker) (0.4.3)\n",
      "Requirement already satisfied: filelock in /workspace/SPAR/interp-ab/.venv/lib/python3.10/site-packages (from datasets<3.0.0,>=2.9.0->taker) (3.15.4)\n",
      "Requirement already satisfied: pyarrow>=15.0.0 in /workspace/SPAR/interp-ab/.venv/lib/python3.10/site-packages (from datasets<3.0.0,>=2.9.0->taker) (16.1.0)\n",
      "Requirement already satisfied: pyarrow-hotfix in /workspace/SPAR/interp-ab/.venv/lib/python3.10/site-packages (from datasets<3.0.0,>=2.9.0->taker) (0.6)\n",
      "Requirement already satisfied: dill<0.3.9,>=0.3.0 in /workspace/SPAR/interp-ab/.venv/lib/python3.10/site-packages (from datasets<3.0.0,>=2.9.0->taker) (0.3.8)\n",
      "Requirement already satisfied: requests>=2.32.2 in /workspace/SPAR/interp-ab/.venv/lib/python3.10/site-packages (from datasets<3.0.0,>=2.9.0->taker) (2.32.3)\n",
      "Requirement already satisfied: tqdm>=4.66.3 in /workspace/SPAR/interp-ab/.venv/lib/python3.10/site-packages (from datasets<3.0.0,>=2.9.0->taker) (4.66.4)\n",
      "Requirement already satisfied: xxhash in /workspace/SPAR/interp-ab/.venv/lib/python3.10/site-packages (from datasets<3.0.0,>=2.9.0->taker) (3.4.1)\n",
      "Requirement already satisfied: multiprocess in /workspace/SPAR/interp-ab/.venv/lib/python3.10/site-packages (from datasets<3.0.0,>=2.9.0->taker) (0.70.16)\n",
      "Requirement already satisfied: fsspec<=2024.5.0,>=2023.1.0 in /workspace/SPAR/interp-ab/.venv/lib/python3.10/site-packages (from fsspec[http]<=2024.5.0,>=2023.1.0->datasets<3.0.0,>=2.9.0->taker) (2024.5.0)\n",
      "Requirement already satisfied: aiohttp in /workspace/SPAR/interp-ab/.venv/lib/python3.10/site-packages (from datasets<3.0.0,>=2.9.0->taker) (3.9.5)\n",
      "Requirement already satisfied: jsonlines in /workspace/SPAR/interp-ab/.venv/lib/python3.10/site-packages (from lm-eval<0.5.0,>=0.4.3->taker) (4.0.0)\n",
      "Requirement already satisfied: peft>=0.2.0 in /workspace/SPAR/interp-ab/.venv/lib/python3.10/site-packages (from lm-eval<0.5.0,>=0.4.3->taker) (0.11.1)\n",
      "Requirement already satisfied: pybind11>=2.6.2 in /workspace/SPAR/interp-ab/.venv/lib/python3.10/site-packages (from lm-eval<0.5.0,>=0.4.3->taker) (2.13.1)\n",
      "Requirement already satisfied: pytablewriter in /workspace/SPAR/interp-ab/.venv/lib/python3.10/site-packages (from lm-eval<0.5.0,>=0.4.3->taker) (1.2.0)\n",
      "Requirement already satisfied: rouge-score>=0.0.4 in /workspace/SPAR/interp-ab/.venv/lib/python3.10/site-packages (from lm-eval<0.5.0,>=0.4.3->taker) (0.1.2)\n",
      "Requirement already satisfied: sacrebleu>=1.5.0 in /workspace/SPAR/interp-ab/.venv/lib/python3.10/site-packages (from lm-eval<0.5.0,>=0.4.3->taker) (2.4.2)\n",
      "Requirement already satisfied: scikit-learn>=0.24.1 in /workspace/SPAR/interp-ab/.venv/lib/python3.10/site-packages (from lm-eval<0.5.0,>=0.4.3->taker) (1.5.1)\n",
      "Requirement already satisfied: sqlitedict in /workspace/SPAR/interp-ab/.venv/lib/python3.10/site-packages (from lm-eval<0.5.0,>=0.4.3->taker) (2.1.0)\n",
      "Requirement already satisfied: tqdm-multiprocess in /workspace/SPAR/interp-ab/.venv/lib/python3.10/site-packages (from lm-eval<0.5.0,>=0.4.3->taker) (0.0.11)\n",
      "Requirement already satisfied: word2number in /workspace/SPAR/interp-ab/.venv/lib/python3.10/site-packages (from lm-eval<0.5.0,>=0.4.3->taker) (1.1)\n",
      "Requirement already satisfied: more-itertools in /workspace/SPAR/interp-ab/.venv/lib/python3.10/site-packages (from lm-eval<0.5.0,>=0.4.3->taker) (10.3.0)\n",
      "Requirement already satisfied: python-dateutil>=2.8.1 in /workspace/SPAR/interp-ab/.venv/lib/python3.10/site-packages (from pandas<2.0.0,>=1.5.3->taker) (2.9.0.post0)\n",
      "Requirement already satisfied: pytz>=2020.1 in /workspace/SPAR/interp-ab/.venv/lib/python3.10/site-packages (from pandas<2.0.0,>=1.5.3->taker) (2024.1)\n",
      "Requirement already satisfied: typing-extensions>=4.8.0 in /workspace/SPAR/interp-ab/.venv/lib/python3.10/site-packages (from torch<3.0.0,>=2.3.1->taker) (4.12.2)\n",
      "Requirement already satisfied: sympy in /workspace/SPAR/interp-ab/.venv/lib/python3.10/site-packages (from torch<3.0.0,>=2.3.1->taker) (1.12.1)\n",
      "Requirement already satisfied: networkx in /workspace/SPAR/interp-ab/.venv/lib/python3.10/site-packages (from torch<3.0.0,>=2.3.1->taker) (3.3)\n",
      "Requirement already satisfied: jinja2 in /workspace/SPAR/interp-ab/.venv/lib/python3.10/site-packages (from torch<3.0.0,>=2.3.1->taker) (3.1.4)\n",
      "Requirement already satisfied: nvidia-cuda-nvrtc-cu12==12.1.105 in /workspace/SPAR/interp-ab/.venv/lib/python3.10/site-packages (from torch<3.0.0,>=2.3.1->taker) (12.1.105)\n",
      "Requirement already satisfied: nvidia-cuda-runtime-cu12==12.1.105 in /workspace/SPAR/interp-ab/.venv/lib/python3.10/site-packages (from torch<3.0.0,>=2.3.1->taker) (12.1.105)\n",
      "Requirement already satisfied: nvidia-cuda-cupti-cu12==12.1.105 in /workspace/SPAR/interp-ab/.venv/lib/python3.10/site-packages (from torch<3.0.0,>=2.3.1->taker) (12.1.105)\n",
      "Requirement already satisfied: nvidia-cudnn-cu12==9.1.0.70 in /workspace/SPAR/interp-ab/.venv/lib/python3.10/site-packages (from torch<3.0.0,>=2.3.1->taker) (9.1.0.70)\n",
      "Requirement already satisfied: nvidia-cublas-cu12==12.1.3.1 in /workspace/SPAR/interp-ab/.venv/lib/python3.10/site-packages (from torch<3.0.0,>=2.3.1->taker) (12.1.3.1)\n",
      "Requirement already satisfied: nvidia-cufft-cu12==11.0.2.54 in /workspace/SPAR/interp-ab/.venv/lib/python3.10/site-packages (from torch<3.0.0,>=2.3.1->taker) (11.0.2.54)\n",
      "Requirement already satisfied: nvidia-curand-cu12==10.3.2.106 in /workspace/SPAR/interp-ab/.venv/lib/python3.10/site-packages (from torch<3.0.0,>=2.3.1->taker) (10.3.2.106)\n",
      "Requirement already satisfied: nvidia-cusolver-cu12==11.4.5.107 in /workspace/SPAR/interp-ab/.venv/lib/python3.10/site-packages (from torch<3.0.0,>=2.3.1->taker) (11.4.5.107)\n",
      "Requirement already satisfied: nvidia-cusparse-cu12==12.1.0.106 in /workspace/SPAR/interp-ab/.venv/lib/python3.10/site-packages (from torch<3.0.0,>=2.3.1->taker) (12.1.0.106)\n",
      "Requirement already satisfied: nvidia-nccl-cu12==2.20.5 in /workspace/SPAR/interp-ab/.venv/lib/python3.10/site-packages (from torch<3.0.0,>=2.3.1->taker) (2.20.5)\n",
      "Requirement already satisfied: nvidia-nvtx-cu12==12.1.105 in /workspace/SPAR/interp-ab/.venv/lib/python3.10/site-packages (from torch<3.0.0,>=2.3.1->taker) (12.1.105)\n",
      "Requirement already satisfied: triton==3.0.0 in /workspace/SPAR/interp-ab/.venv/lib/python3.10/site-packages (from torch<3.0.0,>=2.3.1->taker) (3.0.0)\n",
      "Requirement already satisfied: nvidia-nvjitlink-cu12 in /workspace/SPAR/interp-ab/.venv/lib/python3.10/site-packages (from nvidia-cusolver-cu12==11.4.5.107->torch<3.0.0,>=2.3.1->taker) (12.5.40)\n",
      "Requirement already satisfied: regex!=2019.12.17 in /workspace/SPAR/interp-ab/.venv/lib/python3.10/site-packages (from transformers<5.0.0,>=4.41.0->taker) (2024.5.15)\n",
      "Requirement already satisfied: Click!=8.0.0,>=7.0 in /workspace/SPAR/interp-ab/.venv/lib/python3.10/site-packages (from wandb<0.14.0,>=0.13.9->taker) (8.1.7)\n",
      "Requirement already satisfied: GitPython!=3.1.29,>=1.0.0 in /workspace/SPAR/interp-ab/.venv/lib/python3.10/site-packages (from wandb<0.14.0,>=0.13.9->taker) (3.1.43)\n",
      "Requirement already satisfied: sentry-sdk>=1.0.0 in /workspace/SPAR/interp-ab/.venv/lib/python3.10/site-packages (from wandb<0.14.0,>=0.13.9->taker) (2.7.1)\n",
      "Requirement already satisfied: docker-pycreds>=0.4.0 in /workspace/SPAR/interp-ab/.venv/lib/python3.10/site-packages (from wandb<0.14.0,>=0.13.9->taker) (0.4.0)\n",
      "Requirement already satisfied: pathtools in /workspace/SPAR/interp-ab/.venv/lib/python3.10/site-packages (from wandb<0.14.0,>=0.13.9->taker) (0.1.2)\n",
      "Requirement already satisfied: setproctitle in /workspace/SPAR/interp-ab/.venv/lib/python3.10/site-packages (from wandb<0.14.0,>=0.13.9->taker) (1.3.3)\n",
      "Requirement already satisfied: setuptools in /workspace/SPAR/interp-ab/.venv/lib/python3.10/site-packages (from wandb<0.14.0,>=0.13.9->taker) (70.1.1)\n",
      "Requirement already satisfied: appdirs>=1.4.3 in /workspace/SPAR/interp-ab/.venv/lib/python3.10/site-packages (from wandb<0.14.0,>=0.13.9->taker) (1.4.4)\n",
      "Requirement already satisfied: protobuf!=4.21.0,<5,>=3.19.0 in /workspace/SPAR/interp-ab/.venv/lib/python3.10/site-packages (from wandb<0.14.0,>=0.13.9->taker) (4.25.3)\n",
      "Requirement already satisfied: six>=1.4.0 in /workspace/SPAR/interp-ab/.venv/lib/python3.10/site-packages (from docker-pycreds>=0.4.0->wandb<0.14.0,>=0.13.9->taker) (1.16.0)\n",
      "Requirement already satisfied: aiosignal>=1.1.2 in /workspace/SPAR/interp-ab/.venv/lib/python3.10/site-packages (from aiohttp->datasets<3.0.0,>=2.9.0->taker) (1.3.1)\n",
      "Requirement already satisfied: attrs>=17.3.0 in /workspace/SPAR/interp-ab/.venv/lib/python3.10/site-packages (from aiohttp->datasets<3.0.0,>=2.9.0->taker) (23.2.0)\n",
      "Requirement already satisfied: frozenlist>=1.1.1 in /workspace/SPAR/interp-ab/.venv/lib/python3.10/site-packages (from aiohttp->datasets<3.0.0,>=2.9.0->taker) (1.4.1)\n",
      "Requirement already satisfied: multidict<7.0,>=4.5 in /workspace/SPAR/interp-ab/.venv/lib/python3.10/site-packages (from aiohttp->datasets<3.0.0,>=2.9.0->taker) (6.0.5)\n",
      "Requirement already satisfied: yarl<2.0,>=1.0 in /workspace/SPAR/interp-ab/.venv/lib/python3.10/site-packages (from aiohttp->datasets<3.0.0,>=2.9.0->taker) (1.9.4)\n",
      "Requirement already satisfied: async-timeout<5.0,>=4.0 in /workspace/SPAR/interp-ab/.venv/lib/python3.10/site-packages (from aiohttp->datasets<3.0.0,>=2.9.0->taker) (4.0.3)\n",
      "Requirement already satisfied: gitdb<5,>=4.0.1 in /workspace/SPAR/interp-ab/.venv/lib/python3.10/site-packages (from GitPython!=3.1.29,>=1.0.0->wandb<0.14.0,>=0.13.9->taker) (4.0.11)\n",
      "Requirement already satisfied: charset-normalizer<4,>=2 in /workspace/SPAR/interp-ab/.venv/lib/python3.10/site-packages (from requests>=2.32.2->datasets<3.0.0,>=2.9.0->taker) (3.3.2)\n",
      "Requirement already satisfied: idna<4,>=2.5 in /workspace/SPAR/interp-ab/.venv/lib/python3.10/site-packages (from requests>=2.32.2->datasets<3.0.0,>=2.9.0->taker) (3.7)\n",
      "Requirement already satisfied: urllib3<3,>=1.21.1 in /workspace/SPAR/interp-ab/.venv/lib/python3.10/site-packages (from requests>=2.32.2->datasets<3.0.0,>=2.9.0->taker) (2.2.2)\n",
      "Requirement already satisfied: certifi>=2017.4.17 in /workspace/SPAR/interp-ab/.venv/lib/python3.10/site-packages (from requests>=2.32.2->datasets<3.0.0,>=2.9.0->taker) (2024.6.2)\n",
      "Requirement already satisfied: absl-py in /workspace/SPAR/interp-ab/.venv/lib/python3.10/site-packages (from rouge-score>=0.0.4->lm-eval<0.5.0,>=0.4.3->taker) (2.1.0)\n",
      "Requirement already satisfied: nltk in /workspace/SPAR/interp-ab/.venv/lib/python3.10/site-packages (from rouge-score>=0.0.4->lm-eval<0.5.0,>=0.4.3->taker) (3.8.1)\n",
      "Requirement already satisfied: portalocker in /workspace/SPAR/interp-ab/.venv/lib/python3.10/site-packages (from sacrebleu>=1.5.0->lm-eval<0.5.0,>=0.4.3->taker) (2.10.1)\n",
      "Requirement already satisfied: tabulate>=0.8.9 in /workspace/SPAR/interp-ab/.venv/lib/python3.10/site-packages (from sacrebleu>=1.5.0->lm-eval<0.5.0,>=0.4.3->taker) (0.9.0)\n",
      "Requirement already satisfied: colorama in /workspace/SPAR/interp-ab/.venv/lib/python3.10/site-packages (from sacrebleu>=1.5.0->lm-eval<0.5.0,>=0.4.3->taker) (0.4.6)\n",
      "Requirement already satisfied: lxml in /workspace/SPAR/interp-ab/.venv/lib/python3.10/site-packages (from sacrebleu>=1.5.0->lm-eval<0.5.0,>=0.4.3->taker) (5.2.2)\n",
      "Requirement already satisfied: joblib>=1.2.0 in /workspace/SPAR/interp-ab/.venv/lib/python3.10/site-packages (from scikit-learn>=0.24.1->lm-eval<0.5.0,>=0.4.3->taker) (1.4.2)\n",
      "Requirement already satisfied: threadpoolctl>=3.1.0 in /workspace/SPAR/interp-ab/.venv/lib/python3.10/site-packages (from scikit-learn>=0.24.1->lm-eval<0.5.0,>=0.4.3->taker) (3.5.0)\n",
      "Requirement already satisfied: MarkupSafe>=2.0 in /workspace/SPAR/interp-ab/.venv/lib/python3.10/site-packages (from jinja2->torch<3.0.0,>=2.3.1->taker) (2.1.5)\n",
      "Requirement already satisfied: DataProperty<2,>=1.0.1 in /workspace/SPAR/interp-ab/.venv/lib/python3.10/site-packages (from pytablewriter->lm-eval<0.5.0,>=0.4.3->taker) (1.0.1)\n",
      "Requirement already satisfied: mbstrdecoder<2,>=1.0.0 in /workspace/SPAR/interp-ab/.venv/lib/python3.10/site-packages (from pytablewriter->lm-eval<0.5.0,>=0.4.3->taker) (1.1.3)\n",
      "Requirement already satisfied: pathvalidate<4,>=2.3.0 in /workspace/SPAR/interp-ab/.venv/lib/python3.10/site-packages (from pytablewriter->lm-eval<0.5.0,>=0.4.3->taker) (3.2.0)\n",
      "Requirement already satisfied: tabledata<2,>=1.3.1 in /workspace/SPAR/interp-ab/.venv/lib/python3.10/site-packages (from pytablewriter->lm-eval<0.5.0,>=0.4.3->taker) (1.3.3)\n",
      "Requirement already satisfied: tcolorpy<1,>=0.0.5 in /workspace/SPAR/interp-ab/.venv/lib/python3.10/site-packages (from pytablewriter->lm-eval<0.5.0,>=0.4.3->taker) (0.1.6)\n",
      "Requirement already satisfied: typepy<2,>=1.3.2 in /workspace/SPAR/interp-ab/.venv/lib/python3.10/site-packages (from typepy[datetime]<2,>=1.3.2->pytablewriter->lm-eval<0.5.0,>=0.4.3->taker) (1.3.2)\n",
      "Requirement already satisfied: mpmath<1.4.0,>=1.1.0 in /workspace/SPAR/interp-ab/.venv/lib/python3.10/site-packages (from sympy->torch<3.0.0,>=2.3.1->taker) (1.3.0)\n",
      "Requirement already satisfied: smmap<6,>=3.0.1 in /workspace/SPAR/interp-ab/.venv/lib/python3.10/site-packages (from gitdb<5,>=4.0.1->GitPython!=3.1.29,>=1.0.0->wandb<0.14.0,>=0.13.9->taker) (5.0.1)\n",
      "Requirement already satisfied: chardet<6,>=3.0.4 in /workspace/SPAR/interp-ab/.venv/lib/python3.10/site-packages (from mbstrdecoder<2,>=1.0.0->pytablewriter->lm-eval<0.5.0,>=0.4.3->taker) (5.2.0)\n",
      "Note: you may need to restart the kernel to use updated packages.\n"
     ]
    }
   ],
   "source": [
    "%pip install taker"
   ]
  },
  {
   "cell_type": "code",
   "execution_count": 4,
   "metadata": {},
   "outputs": [
    {
     "name": "stderr",
     "output_type": "stream",
     "text": [
      "/workspace/SPAR/interp-ab/.venv/lib/python3.10/site-packages/tqdm/auto.py:21: TqdmWarning: IProgress not found. Please update jupyter and ipywidgets. See https://ipywidgets.readthedocs.io/en/stable/user_install.html\n",
      "  from .autonotebook import tqdm as notebook_tqdm\n"
     ]
    }
   ],
   "source": [
    "import circuitsvis as cv\n",
    "import numpy as np\n",
    "import torch\n",
    "from taker import Model\n",
    "from taker.hooks import HookConfig\n",
    "from datetime import datetime\n",
    "import json\n",
    "from os import listdir\n",
    "from os.path import exists\n",
    "\n",
    "import numpy as np\n",
    "import pandas as pd\n",
    "from sentence_transformers import SentenceTransformer\n",
    "from sklearn.decomposition import PCA\n",
    "import torch"
   ]
  },
  {
   "cell_type": "code",
   "execution_count": 5,
   "metadata": {},
   "outputs": [
    {
     "name": "stdout",
     "output_type": "stream",
     "text": [
      "../results/2024-08-01_15-22-27_agnes_story.jsonl\n"
     ]
    }
   ],
   "source": [
    "current_time = datetime.now().strftime(\"%Y-%m-%d_%H-%M-%S\")\n",
    "filename = f\"../results/{current_time}_agnes_story.jsonl\"\n",
    "print(filename)"
   ]
  },
  {
   "cell_type": "code",
   "execution_count": 6,
   "metadata": {},
   "outputs": [
    {
     "name": "stderr",
     "output_type": "stream",
     "text": [
      "Special tokens have been added in the vocabulary, make sure the associated word embeddings are fine-tuned or trained.\n",
      "Loading checkpoint shards: 100%|██████████| 2/2 [00:03<00:00,  1.78s/it]\n"
     ]
    },
    {
     "name": "stdout",
     "output_type": "stream",
     "text": [
      "Loaded model 'microsoft/phi-3-mini-4k-instruct' with int4:\n",
      "- Added 512 hooks across 32 layers\n"
     ]
    },
    {
     "name": "stderr",
     "output_type": "stream",
     "text": [
      "We detected that you are passing `past_key_values` as a tuple and this is deprecated and will be removed in v4.43. Please use an appropriate `Cache` class (https://huggingface.co/docs/transformers/v4.41.3/en/internal/generation_utils#transformers.Cache)\n",
      "You are not running the flash-attention implementation, expect numerical differences.\n",
      "/workspace/SPAR/interp-ab/.venv/lib/python3.10/site-packages/bitsandbytes/nn/modules.py:426: UserWarning: Input type into Linear4bit is torch.float16, but bnb_4bit_compute_dtype=torch.float32 (default). This will lead to slow inference or training speed.\n",
      "  warnings.warn(\n"
     ]
    },
    {
     "name": "stdout",
     "output_type": "stream",
     "text": [
      " - n_layers : 32\n",
      " - d_model  : 3072\n",
      " - n_heads  : 32\n",
      " - d_head   : 96\n",
      " - d_mlp    : 8192\n"
     ]
    }
   ],
   "source": [
    "m = Model(\"microsoft/phi-3-mini-4k-instruct\", dtype=\"int4\")\n",
    "m.show_details()"
   ]
  },
  {
   "cell_type": "code",
   "execution_count": 7,
   "metadata": {},
   "outputs": [],
   "source": [
    "prompt    = \"\"\"Write a short blog post about a recipe and the inspiration behind it.\n",
    " Do not include a title.\n",
    " Only reveal the dish after the story.\n",
    " Start with short story and then move to the recipe.\n",
    " To re-iterate, do not include a title.\"\"\"\n",
    "# info_gen = m.generate(info_prompt, temperature=0.3, num=300)\n",
    "info_gen = \"\"\"\n",
    "\\n Once upon a time, in a quaint little village nestled between rolling hills and verdant fields, there lived an elderly woman named Agnes. Agnes was known for her warm smile and her legendary Sunday dinners that brought the entire neighborhood together. Her recipes were family heirlooms, passed down through generations, with each family adding their own touch to the final dish.\n",
    "\n",
    "One crisp autumn evening, Agnes was reminiscing about her childhood, and how her grandmother used to gather everyone around the dinner table, sharing stories and laughter. These were the moments that shaped her, the memories that she passed on to her own children and grandchildren.\n",
    "\n",
    "Inspired by her grandmother's legacy, Agnes decided to create a new dish that would encapsulate the essence of those cherished gatherings. She wanted something that was comforting and nourishing, a dish that could be prepared with love and shared with others. After days of experimentation, she finally created a recipe that she believed truly captured the spirit of her family's Sunday dinners.\\n\n",
    "\"\"\"\n",
    "info_prompt = prompt+info_gen"
   ]
  },
  {
   "cell_type": "code",
   "execution_count": 8,
   "metadata": {},
   "outputs": [],
   "source": [
    "import sys, os\n",
    "class HiddenPrints:\n",
    "    def __enter__(self):\n",
    "        self._original_stdout = sys.stdout\n",
    "        sys.stdout = open(os.devnull, 'w')\n",
    "\n",
    "    def __exit__(self, exc_type, exc_val, exc_tb):\n",
    "        sys.stdout.close()\n",
    "        sys.stdout = self._original_stdout"
   ]
  },
  {
   "cell_type": "code",
   "execution_count": 8,
   "metadata": {},
   "outputs": [],
   "source": [
    "# if not exists(filename):\n",
    "#     with open(filename, \"w\") as f:\n",
    "#         pass\n",
    "\n",
    "# neutral_prompt = \"\\n\"\n",
    "# max_new_tokens = 100\n",
    "# temperature = 0.2\n",
    "\n",
    "# with HiddenPrints():\n",
    "#     for i in range(20):\n",
    "#         output = m.generate(neutral_prompt, max_new_tokens, temperature=temperature)\n",
    "        \n",
    "#         data = {\n",
    "#             \"temperature\": temperature,\n",
    "#             \"max_new_tokens\": max_new_tokens,\n",
    "#             \"transplant_layers\": None,\n",
    "#             \"layers_type\": None,\n",
    "#             \"orig_prompt\": info_prompt,\n",
    "#             \"transplant_prompt\": neutral_prompt,\n",
    "#             \"output\": output[1],\n",
    "#         }\n",
    "\n",
    "#         with open(filename, \"a\") as file:\n",
    "#             file.write(json.dumps(data) + \"\\n\")\n",
    "            \n",
    "# acts = m.get_midlayer_activations(info_prompt)\n",
    "# orig_token_index = m.get_ids(info_prompt).shape[1] - 1\n",
    "# new_token_index  = m.get_ids(neutral_prompt).shape[1] - 1        \n",
    "\n",
    "\n",
    "# [h.reset() for h in m.hooks.neuron_replace.values()] #RESET HOOKS BEFORE TRANSPLANTING NEXT SET OF ACTIVATIONS\n",
    "# for layer_index in range(0,32):\n",
    "#     m.hooks.neuron_replace[f\"layer_{layer_index}_mlp_pre_out\"].add_token(new_token_index, acts[\"mlp\"][0, layer_index, orig_token_index])\n",
    "#     m.hooks.neuron_replace[f\"layer_{layer_index}_attn_pre_out\"].add_token(new_token_index, acts[\"attn\"][0, layer_index, orig_token_index])\n",
    "# with HiddenPrints():\n",
    "#     for i in range(20):\n",
    "#         output = m.generate(neutral_prompt, max_new_tokens, temperature=temperature)\n",
    "        \n",
    "#         data = {\n",
    "#             \"temperature\": temperature,\n",
    "#             \"max_new_tokens\": max_new_tokens,\n",
    "#             \"transplant_layers\": (0,32),\n",
    "#             \"layers_type\": \"all\",\n",
    "#             \"orig_prompt\": info_prompt,\n",
    "#             \"transplant_prompt\": neutral_prompt,\n",
    "#             \"output\": output[1],\n",
    "#         }\n",
    "\n",
    "#         with open(filename, \"a\") as file:\n",
    "#             file.write(json.dumps(data) + \"\\n\")\n",
    "                \n",
    "                \n",
    "# [h.reset() for h in m.hooks.neuron_replace.values()] #RESET HOOKS BEFORE TRANSPLANTING NEXT SET OF ACTIVATIONS\n",
    "# for layer_index in range(0,32):\n",
    "#     # m.hooks.neuron_replace[f\"layer_{layer_index}_mlp_pre_out\"].add_token(new_token_index, acts[\"mlp\"][0, layer_index, orig_token_index])\n",
    "#     m.hooks.neuron_replace[f\"layer_{layer_index}_attn_pre_out\"].add_token(new_token_index, acts[\"attn\"][0, layer_index, orig_token_index])\n",
    "# with HiddenPrints():\n",
    "#     for i in range(20):\n",
    "#         output = m.generate(neutral_prompt, max_new_tokens, temperature=temperature)\n",
    "        \n",
    "#         data = {\n",
    "#             \"temperature\": temperature,\n",
    "#             \"max_new_tokens\": max_new_tokens,\n",
    "#             \"transplant_layers\": (0,32),\n",
    "#             \"layers_type\": \"attn\",\n",
    "#             \"orig_prompt\": info_prompt,\n",
    "#             \"transplant_prompt\": neutral_prompt,\n",
    "#             \"output\": output[1],\n",
    "#         }\n",
    "\n",
    "#         with open(filename, \"a\") as file:\n",
    "#             file.write(json.dumps(data) + \"\\n\")\n",
    "                \n",
    "# [h.reset() for h in m.hooks.neuron_replace.values()] #RESET HOOKS BEFORE TRANSPLANTING NEXT SET OF ACTIVATIONS\n",
    "# for layer_index in range(0,32):\n",
    "#     m.hooks.neuron_replace[f\"layer_{layer_index}_mlp_pre_out\"].add_token(new_token_index, acts[\"mlp\"][0, layer_index, orig_token_index])\n",
    "#     # m.hooks.neuron_replace[f\"layer_{layer_index}_attn_pre_out\"].add_token(new_token_index, acts[\"attn\"][0, layer_index, orig_token_index])\n",
    "# with HiddenPrints():\n",
    "#     for i in range(20):\n",
    "#         output = m.generate(neutral_prompt, max_new_tokens, temperature=temperature)\n",
    "        \n",
    "#         data = {\n",
    "#             \"temperature\": temperature,\n",
    "#             \"max_new_tokens\": max_new_tokens,\n",
    "#             \"transplant_layers\": (0,32),\n",
    "#             \"layers_type\": \"mlp\",\n",
    "#             \"orig_prompt\": info_prompt,\n",
    "#             \"transplant_prompt\": neutral_prompt,\n",
    "#             \"output\": output[1],\n",
    "#         }\n",
    "\n",
    "#         with open(filename, \"a\") as file:\n",
    "#             file.write(json.dumps(data) + \"\\n\")"
   ]
  },
  {
   "cell_type": "code",
   "execution_count": 9,
   "metadata": {},
   "outputs": [
    {
     "data": {
      "text/html": [
       "<div>\n",
       "<style scoped>\n",
       "    .dataframe tbody tr th:only-of-type {\n",
       "        vertical-align: middle;\n",
       "    }\n",
       "\n",
       "    .dataframe tbody tr th {\n",
       "        vertical-align: top;\n",
       "    }\n",
       "\n",
       "    .dataframe thead th {\n",
       "        text-align: right;\n",
       "    }\n",
       "</style>\n",
       "<table border=\"1\" class=\"dataframe\">\n",
       "  <thead>\n",
       "    <tr style=\"text-align: right;\">\n",
       "      <th></th>\n",
       "      <th>temperature</th>\n",
       "      <th>max_new_tokens</th>\n",
       "      <th>transplant_layers</th>\n",
       "      <th>layers_type</th>\n",
       "      <th>orig_prompt</th>\n",
       "      <th>transplant_prompt</th>\n",
       "      <th>output</th>\n",
       "    </tr>\n",
       "  </thead>\n",
       "  <tbody>\n",
       "    <tr>\n",
       "      <th>0</th>\n",
       "      <td>0.2</td>\n",
       "      <td>100</td>\n",
       "      <td>None</td>\n",
       "      <td>None</td>\n",
       "      <td>Write a short blog post about a recipe and the...</td>\n",
       "      <td>\\n</td>\n",
       "      <td>\\n\\n**Instruction 1 (Same Diffemenct):**\\n\\n Y...</td>\n",
       "    </tr>\n",
       "    <tr>\n",
       "      <th>1</th>\n",
       "      <td>0.2</td>\n",
       "      <td>100</td>\n",
       "      <td>None</td>\n",
       "      <td>None</td>\n",
       "      <td>Write a short blog post about a recipe and the...</td>\n",
       "      <td>\\n</td>\n",
       "      <td>\\n\\n**Exercise 1:**\\n\\nLet's consider a 7-sent...</td>\n",
       "    </tr>\n",
       "    <tr>\n",
       "      <th>2</th>\n",
       "      <td>0.2</td>\n",
       "      <td>100</td>\n",
       "      <td>None</td>\n",
       "      <td>None</td>\n",
       "      <td>Write a short blog post about a recipe and the...</td>\n",
       "      <td>\\n</td>\n",
       "      <td>\\n\\nHere is a modified, more challenging versi...</td>\n",
       "    </tr>\n",
       "    <tr>\n",
       "      <th>3</th>\n",
       "      <td>0.2</td>\n",
       "      <td>100</td>\n",
       "      <td>None</td>\n",
       "      <td>None</td>\n",
       "      <td>Write a short blog post about a recipe and the...</td>\n",
       "      <td>\\n</td>\n",
       "      <td>\\n\\n**Question:**\\nHow to enhance memory reten...</td>\n",
       "    </tr>\n",
       "    <tr>\n",
       "      <th>4</th>\n",
       "      <td>0.2</td>\n",
       "      <td>100</td>\n",
       "      <td>None</td>\n",
       "      <td>None</td>\n",
       "      <td>Write a short blog post about a recipe and the...</td>\n",
       "      <td>\\n</td>\n",
       "      <td>\\n\\nExercise 1:\\nIn a small town, there is a t...</td>\n",
       "    </tr>\n",
       "  </tbody>\n",
       "</table>\n",
       "</div>"
      ],
      "text/plain": [
       "   temperature  max_new_tokens transplant_layers layers_type  \\\n",
       "0          0.2             100              None        None   \n",
       "1          0.2             100              None        None   \n",
       "2          0.2             100              None        None   \n",
       "3          0.2             100              None        None   \n",
       "4          0.2             100              None        None   \n",
       "\n",
       "                                         orig_prompt transplant_prompt  \\\n",
       "0  Write a short blog post about a recipe and the...                \\n   \n",
       "1  Write a short blog post about a recipe and the...                \\n   \n",
       "2  Write a short blog post about a recipe and the...                \\n   \n",
       "3  Write a short blog post about a recipe and the...                \\n   \n",
       "4  Write a short blog post about a recipe and the...                \\n   \n",
       "\n",
       "                                              output  \n",
       "0  \\n\\n**Instruction 1 (Same Diffemenct):**\\n\\n Y...  \n",
       "1  \\n\\n**Exercise 1:**\\n\\nLet's consider a 7-sent...  \n",
       "2  \\n\\nHere is a modified, more challenging versi...  \n",
       "3  \\n\\n**Question:**\\nHow to enhance memory reten...  \n",
       "4  \\n\\nExercise 1:\\nIn a small town, there is a t...  "
      ]
     },
     "execution_count": 9,
     "metadata": {},
     "output_type": "execute_result"
    }
   ],
   "source": [
    "filepath = \"../results/2024-08-01_14-43-20_agnes_story.jsonl\"\n",
    "results_df = pd.read_json(filepath, lines=True)\n",
    "results_df.head()"
   ]
  },
  {
   "cell_type": "code",
   "execution_count": 10,
   "metadata": {},
   "outputs": [
    {
     "name": "stdout",
     "output_type": "stream",
     "text": [
      "(80, 768)\n"
     ]
    },
    {
     "data": {
      "text/html": [
       "<div>\n",
       "<style scoped>\n",
       "    .dataframe tbody tr th:only-of-type {\n",
       "        vertical-align: middle;\n",
       "    }\n",
       "\n",
       "    .dataframe tbody tr th {\n",
       "        vertical-align: top;\n",
       "    }\n",
       "\n",
       "    .dataframe thead th {\n",
       "        text-align: right;\n",
       "    }\n",
       "</style>\n",
       "<table border=\"1\" class=\"dataframe\">\n",
       "  <thead>\n",
       "    <tr style=\"text-align: right;\">\n",
       "      <th></th>\n",
       "      <th>temperature</th>\n",
       "      <th>max_new_tokens</th>\n",
       "      <th>transplant_layers</th>\n",
       "      <th>layers_type</th>\n",
       "      <th>orig_prompt</th>\n",
       "      <th>transplant_prompt</th>\n",
       "      <th>output</th>\n",
       "      <th>embeddings</th>\n",
       "    </tr>\n",
       "  </thead>\n",
       "  <tbody>\n",
       "    <tr>\n",
       "      <th>0</th>\n",
       "      <td>0.2</td>\n",
       "      <td>100</td>\n",
       "      <td>None</td>\n",
       "      <td>None</td>\n",
       "      <td>Write a short blog post about a recipe and the...</td>\n",
       "      <td>\\n</td>\n",
       "      <td>\\n\\n**Instruction 1 (Same Diffemenct):**\\n\\n Y...</td>\n",
       "      <td>[0.037170153111219406, -0.012575767002999783, ...</td>\n",
       "    </tr>\n",
       "    <tr>\n",
       "      <th>1</th>\n",
       "      <td>0.2</td>\n",
       "      <td>100</td>\n",
       "      <td>None</td>\n",
       "      <td>None</td>\n",
       "      <td>Write a short blog post about a recipe and the...</td>\n",
       "      <td>\\n</td>\n",
       "      <td>\\n\\n**Exercise 1:**\\n\\nLet's consider a 7-sent...</td>\n",
       "      <td>[0.03880508616566658, 0.044158194214105606, -0...</td>\n",
       "    </tr>\n",
       "    <tr>\n",
       "      <th>2</th>\n",
       "      <td>0.2</td>\n",
       "      <td>100</td>\n",
       "      <td>None</td>\n",
       "      <td>None</td>\n",
       "      <td>Write a short blog post about a recipe and the...</td>\n",
       "      <td>\\n</td>\n",
       "      <td>\\n\\nHere is a modified, more challenging versi...</td>\n",
       "      <td>[-0.00243499968200922, 0.0798662006855011, 0.0...</td>\n",
       "    </tr>\n",
       "    <tr>\n",
       "      <th>3</th>\n",
       "      <td>0.2</td>\n",
       "      <td>100</td>\n",
       "      <td>None</td>\n",
       "      <td>None</td>\n",
       "      <td>Write a short blog post about a recipe and the...</td>\n",
       "      <td>\\n</td>\n",
       "      <td>\\n\\n**Question:**\\nHow to enhance memory reten...</td>\n",
       "      <td>[0.002692834008485079, 0.014343745075166225, -...</td>\n",
       "    </tr>\n",
       "    <tr>\n",
       "      <th>4</th>\n",
       "      <td>0.2</td>\n",
       "      <td>100</td>\n",
       "      <td>None</td>\n",
       "      <td>None</td>\n",
       "      <td>Write a short blog post about a recipe and the...</td>\n",
       "      <td>\\n</td>\n",
       "      <td>\\n\\nExercise 1:\\nIn a small town, there is a t...</td>\n",
       "      <td>[-0.00047723331954330206, 0.021705100312829018...</td>\n",
       "    </tr>\n",
       "  </tbody>\n",
       "</table>\n",
       "</div>"
      ],
      "text/plain": [
       "   temperature  max_new_tokens transplant_layers layers_type  \\\n",
       "0          0.2             100              None        None   \n",
       "1          0.2             100              None        None   \n",
       "2          0.2             100              None        None   \n",
       "3          0.2             100              None        None   \n",
       "4          0.2             100              None        None   \n",
       "\n",
       "                                         orig_prompt transplant_prompt  \\\n",
       "0  Write a short blog post about a recipe and the...                \\n   \n",
       "1  Write a short blog post about a recipe and the...                \\n   \n",
       "2  Write a short blog post about a recipe and the...                \\n   \n",
       "3  Write a short blog post about a recipe and the...                \\n   \n",
       "4  Write a short blog post about a recipe and the...                \\n   \n",
       "\n",
       "                                              output  \\\n",
       "0  \\n\\n**Instruction 1 (Same Diffemenct):**\\n\\n Y...   \n",
       "1  \\n\\n**Exercise 1:**\\n\\nLet's consider a 7-sent...   \n",
       "2  \\n\\nHere is a modified, more challenging versi...   \n",
       "3  \\n\\n**Question:**\\nHow to enhance memory reten...   \n",
       "4  \\n\\nExercise 1:\\nIn a small town, there is a t...   \n",
       "\n",
       "                                          embeddings  \n",
       "0  [0.037170153111219406, -0.012575767002999783, ...  \n",
       "1  [0.03880508616566658, 0.044158194214105606, -0...  \n",
       "2  [-0.00243499968200922, 0.0798662006855011, 0.0...  \n",
       "3  [0.002692834008485079, 0.014343745075166225, -...  \n",
       "4  [-0.00047723331954330206, 0.021705100312829018...  "
      ]
     },
     "execution_count": 10,
     "metadata": {},
     "output_type": "execute_result"
    }
   ],
   "source": [
    "# sentenceTransformer = SentenceTransformer(\"all-MiniLM-L6-v2\")\n",
    "sentenceTransformer = SentenceTransformer(\"all-mpnet-base-v2\")\n",
    "\n",
    "embeddings = sentenceTransformer.encode(results_df[\"output\"].to_list())\n",
    "print(embeddings.shape)\n",
    "results_df[\"embeddings\"] = embeddings.tolist()\n",
    "results_df.head()"
   ]
  },
  {
   "cell_type": "code",
   "execution_count": 13,
   "metadata": {},
   "outputs": [
    {
     "name": "stdout",
     "output_type": "stream",
     "text": [
      "(80, 2)\n"
     ]
    },
    {
     "data": {
      "application/vnd.plotly.v1+json": {
       "config": {
        "plotlyServerURL": "https://plot.ly"
       },
       "data": [
        {
         "customdata": [
          [
           "None"
          ],
          [
           "None"
          ],
          [
           "None"
          ],
          [
           "None"
          ],
          [
           "None"
          ],
          [
           "None"
          ],
          [
           "None"
          ],
          [
           "None"
          ],
          [
           "None"
          ],
          [
           "None"
          ],
          [
           "None"
          ],
          [
           "None"
          ],
          [
           "None"
          ],
          [
           "None"
          ],
          [
           "None"
          ],
          [
           "None"
          ],
          [
           "None"
          ],
          [
           "None"
          ],
          [
           "None"
          ],
          [
           "None"
          ]
         ],
         "hovertemplate": "Layers Type: %{customdata[0]}",
         "legendgroup": "None",
         "marker": {
          "color": "#636efa",
          "symbol": "circle"
         },
         "mode": "markers",
         "name": "None",
         "orientation": "v",
         "showlegend": true,
         "type": "scatter",
         "x": [
          0.2158357948064804,
          0.3322944641113281,
          0.1830282360315323,
          0.29183223843574524,
          0.207454115152359,
          0.35239341855049133,
          0.5122517943382263,
          0.33108824491500854,
          0.31732964515686035,
          0.17578338086605072,
          0.29001736640930176,
          0.39983585476875305,
          0.4863218665122986,
          0.37460067868232727,
          0.3856007158756256,
          0.19432762265205383,
          0.3307011127471924,
          0.38995078206062317,
          0.3341938257217407,
          0.3543669879436493
         ],
         "xaxis": "x",
         "y": [
          0.004064058419317007,
          -0.12250220030546188,
          -0.06902475655078888,
          0.08173176646232605,
          -0.0866449698805809,
          -0.13175742328166962,
          -0.08010324835777283,
          0.035054728388786316,
          -0.196289524435997,
          0.0003835525712929666,
          -0.05475939065217972,
          -0.07116702198982239,
          -0.04162593558430672,
          -0.15720592439174652,
          -0.1635325849056244,
          0.0030129393562674522,
          0.027969814836978912,
          -0.08098012208938599,
          0.0004406603693496436,
          -0.1729370355606079
         ],
         "yaxis": "y"
        },
        {
         "customdata": [
          [
           "all"
          ],
          [
           "all"
          ],
          [
           "all"
          ],
          [
           "all"
          ],
          [
           "all"
          ],
          [
           "all"
          ],
          [
           "all"
          ],
          [
           "all"
          ],
          [
           "all"
          ],
          [
           "all"
          ],
          [
           "all"
          ],
          [
           "all"
          ],
          [
           "all"
          ],
          [
           "all"
          ],
          [
           "all"
          ],
          [
           "all"
          ],
          [
           "all"
          ],
          [
           "all"
          ],
          [
           "all"
          ],
          [
           "all"
          ]
         ],
         "hovertemplate": "Layers Type: %{customdata[0]}",
         "legendgroup": "all",
         "marker": {
          "color": "#EF553B",
          "symbol": "circle"
         },
         "mode": "markers",
         "name": "all",
         "orientation": "v",
         "showlegend": true,
         "type": "scatter",
         "x": [
          0.2937343716621399,
          -0.5330798625946045,
          -0.4318426251411438,
          -0.26285532116889954,
          -0.46694961190223694,
          -0.4124423563480377,
          -0.3622196912765503,
          -0.21689674258232117,
          0.30863332748413086,
          -0.47111374139785767,
          -0.5917721390724182,
          -0.5334441065788269,
          -0.26955053210258484,
          -0.338628351688385,
          -0.4756375253200531,
          -0.5832713842391968,
          -0.5832713842391968,
          -0.498063862323761,
          -0.25700774788856506,
          -0.571119487285614
         ],
         "xaxis": "x",
         "y": [
          -0.0018790940521284938,
          -0.2726258933544159,
          0.4327046275138855,
          0.4267345070838928,
          0.4652208685874939,
          -0.32748082280158997,
          0.4874666929244995,
          0.5634246468544006,
          0.019535735249519348,
          0.477860689163208,
          -0.36001041531562805,
          -0.32919028401374817,
          0.43639808893203735,
          0.4787561893463135,
          0.5052284002304077,
          -0.37741371989250183,
          -0.37741366028785706,
          0.4699065089225769,
          0.46302902698516846,
          -0.39142847061157227
         ],
         "yaxis": "y"
        },
        {
         "customdata": [
          [
           "attn"
          ],
          [
           "attn"
          ],
          [
           "attn"
          ],
          [
           "attn"
          ],
          [
           "attn"
          ],
          [
           "attn"
          ],
          [
           "attn"
          ],
          [
           "attn"
          ],
          [
           "attn"
          ],
          [
           "attn"
          ],
          [
           "attn"
          ],
          [
           "attn"
          ],
          [
           "attn"
          ],
          [
           "attn"
          ],
          [
           "attn"
          ],
          [
           "attn"
          ],
          [
           "attn"
          ],
          [
           "attn"
          ],
          [
           "attn"
          ],
          [
           "attn"
          ]
         ],
         "hovertemplate": "Layers Type: %{customdata[0]}",
         "legendgroup": "attn",
         "marker": {
          "color": "#00cc96",
          "symbol": "circle"
         },
         "mode": "markers",
         "name": "attn",
         "orientation": "v",
         "showlegend": true,
         "type": "scatter",
         "x": [
          -0.5722528100013733,
          -0.5828060507774353,
          -0.32174381613731384,
          0.2613082528114319,
          -0.5832713842391968,
          0.25715693831443787,
          -0.42452380061149597,
          -0.5953027009963989,
          -0.4132614731788635,
          -0.4883478581905365,
          -0.5832715034484863,
          -0.5932157635688782,
          -0.6058680415153503,
          -0.5841312408447266,
          -0.5832713842391968,
          -0.45873039960861206,
          -0.5832713842391968,
          -0.41321390867233276,
          -0.21221700310707092,
          -0.2410310059785843
         ],
         "xaxis": "x",
         "y": [
          -0.40298333764076233,
          -0.37054163217544556,
          0.0751427710056305,
          -0.07869098335504532,
          -0.37741371989250183,
          0.04700572416186333,
          0.3387143611907959,
          -0.35067856311798096,
          0.4260936975479126,
          0.5150213241577148,
          -0.3774137496948242,
          -0.3569260239601135,
          -0.32498112320899963,
          -0.378281831741333,
          -0.37741371989250183,
          0.49959325790405273,
          -0.37741366028785706,
          -0.2067766785621643,
          0.35295554995536804,
          0.5233299136161804
         ],
         "yaxis": "y"
        },
        {
         "customdata": [
          [
           "mlp"
          ],
          [
           "mlp"
          ],
          [
           "mlp"
          ],
          [
           "mlp"
          ],
          [
           "mlp"
          ],
          [
           "mlp"
          ],
          [
           "mlp"
          ],
          [
           "mlp"
          ],
          [
           "mlp"
          ],
          [
           "mlp"
          ],
          [
           "mlp"
          ],
          [
           "mlp"
          ],
          [
           "mlp"
          ],
          [
           "mlp"
          ],
          [
           "mlp"
          ],
          [
           "mlp"
          ],
          [
           "mlp"
          ],
          [
           "mlp"
          ],
          [
           "mlp"
          ],
          [
           "mlp"
          ]
         ],
         "hovertemplate": "Layers Type: %{customdata[0]}",
         "legendgroup": "mlp",
         "marker": {
          "color": "#ab63fa",
          "symbol": "circle"
         },
         "mode": "markers",
         "name": "mlp",
         "orientation": "v",
         "showlegend": true,
         "type": "scatter",
         "x": [
          0.4637548625469208,
          0.4914873540401459,
          0.3002651631832123,
          0.21983960270881653,
          0.5316004753112793,
          0.5211498141288757,
          0.2558269202709198,
          0.5304857492446899,
          0.5053696036338806,
          0.43937501311302185,
          0.5314723253250122,
          0.5009954571723938,
          0.47608718276023865,
          0.5793138742446899,
          0.4843800961971283,
          0.4231454133987427,
          0.5856283903121948,
          0.5156112313270569,
          0.29546380043029785,
          0.4676058292388916
         ],
         "xaxis": "x",
         "y": [
          0.001069738995283842,
          -0.029466183856129646,
          -0.09128206223249435,
          0.08490153402090073,
          -0.007208161987364292,
          -0.09879830479621887,
          0.06268385797739029,
          -0.07032938301563263,
          0.028899310156702995,
          -0.04226100072264671,
          -0.02107422426342964,
          -0.06151409447193146,
          0.01500181294977665,
          0.011967526748776436,
          -0.011790089309215546,
          0.05823991447687149,
          -0.07174243032932281,
          -0.042142003774642944,
          -0.004437898751348257,
          -0.0220105592161417
         ],
         "yaxis": "y"
        }
       ],
       "layout": {
        "legend": {
         "title": {
          "text": "layers_type_string"
         },
         "tracegroupgap": 0
        },
        "template": {
         "data": {
          "bar": [
           {
            "error_x": {
             "color": "#2a3f5f"
            },
            "error_y": {
             "color": "#2a3f5f"
            },
            "marker": {
             "line": {
              "color": "#E5ECF6",
              "width": 0.5
             },
             "pattern": {
              "fillmode": "overlay",
              "size": 10,
              "solidity": 0.2
             }
            },
            "type": "bar"
           }
          ],
          "barpolar": [
           {
            "marker": {
             "line": {
              "color": "#E5ECF6",
              "width": 0.5
             },
             "pattern": {
              "fillmode": "overlay",
              "size": 10,
              "solidity": 0.2
             }
            },
            "type": "barpolar"
           }
          ],
          "carpet": [
           {
            "aaxis": {
             "endlinecolor": "#2a3f5f",
             "gridcolor": "white",
             "linecolor": "white",
             "minorgridcolor": "white",
             "startlinecolor": "#2a3f5f"
            },
            "baxis": {
             "endlinecolor": "#2a3f5f",
             "gridcolor": "white",
             "linecolor": "white",
             "minorgridcolor": "white",
             "startlinecolor": "#2a3f5f"
            },
            "type": "carpet"
           }
          ],
          "choropleth": [
           {
            "colorbar": {
             "outlinewidth": 0,
             "ticks": ""
            },
            "type": "choropleth"
           }
          ],
          "contour": [
           {
            "colorbar": {
             "outlinewidth": 0,
             "ticks": ""
            },
            "colorscale": [
             [
              0,
              "#0d0887"
             ],
             [
              0.1111111111111111,
              "#46039f"
             ],
             [
              0.2222222222222222,
              "#7201a8"
             ],
             [
              0.3333333333333333,
              "#9c179e"
             ],
             [
              0.4444444444444444,
              "#bd3786"
             ],
             [
              0.5555555555555556,
              "#d8576b"
             ],
             [
              0.6666666666666666,
              "#ed7953"
             ],
             [
              0.7777777777777778,
              "#fb9f3a"
             ],
             [
              0.8888888888888888,
              "#fdca26"
             ],
             [
              1,
              "#f0f921"
             ]
            ],
            "type": "contour"
           }
          ],
          "contourcarpet": [
           {
            "colorbar": {
             "outlinewidth": 0,
             "ticks": ""
            },
            "type": "contourcarpet"
           }
          ],
          "heatmap": [
           {
            "colorbar": {
             "outlinewidth": 0,
             "ticks": ""
            },
            "colorscale": [
             [
              0,
              "#0d0887"
             ],
             [
              0.1111111111111111,
              "#46039f"
             ],
             [
              0.2222222222222222,
              "#7201a8"
             ],
             [
              0.3333333333333333,
              "#9c179e"
             ],
             [
              0.4444444444444444,
              "#bd3786"
             ],
             [
              0.5555555555555556,
              "#d8576b"
             ],
             [
              0.6666666666666666,
              "#ed7953"
             ],
             [
              0.7777777777777778,
              "#fb9f3a"
             ],
             [
              0.8888888888888888,
              "#fdca26"
             ],
             [
              1,
              "#f0f921"
             ]
            ],
            "type": "heatmap"
           }
          ],
          "heatmapgl": [
           {
            "colorbar": {
             "outlinewidth": 0,
             "ticks": ""
            },
            "colorscale": [
             [
              0,
              "#0d0887"
             ],
             [
              0.1111111111111111,
              "#46039f"
             ],
             [
              0.2222222222222222,
              "#7201a8"
             ],
             [
              0.3333333333333333,
              "#9c179e"
             ],
             [
              0.4444444444444444,
              "#bd3786"
             ],
             [
              0.5555555555555556,
              "#d8576b"
             ],
             [
              0.6666666666666666,
              "#ed7953"
             ],
             [
              0.7777777777777778,
              "#fb9f3a"
             ],
             [
              0.8888888888888888,
              "#fdca26"
             ],
             [
              1,
              "#f0f921"
             ]
            ],
            "type": "heatmapgl"
           }
          ],
          "histogram": [
           {
            "marker": {
             "pattern": {
              "fillmode": "overlay",
              "size": 10,
              "solidity": 0.2
             }
            },
            "type": "histogram"
           }
          ],
          "histogram2d": [
           {
            "colorbar": {
             "outlinewidth": 0,
             "ticks": ""
            },
            "colorscale": [
             [
              0,
              "#0d0887"
             ],
             [
              0.1111111111111111,
              "#46039f"
             ],
             [
              0.2222222222222222,
              "#7201a8"
             ],
             [
              0.3333333333333333,
              "#9c179e"
             ],
             [
              0.4444444444444444,
              "#bd3786"
             ],
             [
              0.5555555555555556,
              "#d8576b"
             ],
             [
              0.6666666666666666,
              "#ed7953"
             ],
             [
              0.7777777777777778,
              "#fb9f3a"
             ],
             [
              0.8888888888888888,
              "#fdca26"
             ],
             [
              1,
              "#f0f921"
             ]
            ],
            "type": "histogram2d"
           }
          ],
          "histogram2dcontour": [
           {
            "colorbar": {
             "outlinewidth": 0,
             "ticks": ""
            },
            "colorscale": [
             [
              0,
              "#0d0887"
             ],
             [
              0.1111111111111111,
              "#46039f"
             ],
             [
              0.2222222222222222,
              "#7201a8"
             ],
             [
              0.3333333333333333,
              "#9c179e"
             ],
             [
              0.4444444444444444,
              "#bd3786"
             ],
             [
              0.5555555555555556,
              "#d8576b"
             ],
             [
              0.6666666666666666,
              "#ed7953"
             ],
             [
              0.7777777777777778,
              "#fb9f3a"
             ],
             [
              0.8888888888888888,
              "#fdca26"
             ],
             [
              1,
              "#f0f921"
             ]
            ],
            "type": "histogram2dcontour"
           }
          ],
          "mesh3d": [
           {
            "colorbar": {
             "outlinewidth": 0,
             "ticks": ""
            },
            "type": "mesh3d"
           }
          ],
          "parcoords": [
           {
            "line": {
             "colorbar": {
              "outlinewidth": 0,
              "ticks": ""
             }
            },
            "type": "parcoords"
           }
          ],
          "pie": [
           {
            "automargin": true,
            "type": "pie"
           }
          ],
          "scatter": [
           {
            "fillpattern": {
             "fillmode": "overlay",
             "size": 10,
             "solidity": 0.2
            },
            "type": "scatter"
           }
          ],
          "scatter3d": [
           {
            "line": {
             "colorbar": {
              "outlinewidth": 0,
              "ticks": ""
             }
            },
            "marker": {
             "colorbar": {
              "outlinewidth": 0,
              "ticks": ""
             }
            },
            "type": "scatter3d"
           }
          ],
          "scattercarpet": [
           {
            "marker": {
             "colorbar": {
              "outlinewidth": 0,
              "ticks": ""
             }
            },
            "type": "scattercarpet"
           }
          ],
          "scattergeo": [
           {
            "marker": {
             "colorbar": {
              "outlinewidth": 0,
              "ticks": ""
             }
            },
            "type": "scattergeo"
           }
          ],
          "scattergl": [
           {
            "marker": {
             "colorbar": {
              "outlinewidth": 0,
              "ticks": ""
             }
            },
            "type": "scattergl"
           }
          ],
          "scattermapbox": [
           {
            "marker": {
             "colorbar": {
              "outlinewidth": 0,
              "ticks": ""
             }
            },
            "type": "scattermapbox"
           }
          ],
          "scatterpolar": [
           {
            "marker": {
             "colorbar": {
              "outlinewidth": 0,
              "ticks": ""
             }
            },
            "type": "scatterpolar"
           }
          ],
          "scatterpolargl": [
           {
            "marker": {
             "colorbar": {
              "outlinewidth": 0,
              "ticks": ""
             }
            },
            "type": "scatterpolargl"
           }
          ],
          "scatterternary": [
           {
            "marker": {
             "colorbar": {
              "outlinewidth": 0,
              "ticks": ""
             }
            },
            "type": "scatterternary"
           }
          ],
          "surface": [
           {
            "colorbar": {
             "outlinewidth": 0,
             "ticks": ""
            },
            "colorscale": [
             [
              0,
              "#0d0887"
             ],
             [
              0.1111111111111111,
              "#46039f"
             ],
             [
              0.2222222222222222,
              "#7201a8"
             ],
             [
              0.3333333333333333,
              "#9c179e"
             ],
             [
              0.4444444444444444,
              "#bd3786"
             ],
             [
              0.5555555555555556,
              "#d8576b"
             ],
             [
              0.6666666666666666,
              "#ed7953"
             ],
             [
              0.7777777777777778,
              "#fb9f3a"
             ],
             [
              0.8888888888888888,
              "#fdca26"
             ],
             [
              1,
              "#f0f921"
             ]
            ],
            "type": "surface"
           }
          ],
          "table": [
           {
            "cells": {
             "fill": {
              "color": "#EBF0F8"
             },
             "line": {
              "color": "white"
             }
            },
            "header": {
             "fill": {
              "color": "#C8D4E3"
             },
             "line": {
              "color": "white"
             }
            },
            "type": "table"
           }
          ]
         },
         "layout": {
          "annotationdefaults": {
           "arrowcolor": "#2a3f5f",
           "arrowhead": 0,
           "arrowwidth": 1
          },
          "autotypenumbers": "strict",
          "coloraxis": {
           "colorbar": {
            "outlinewidth": 0,
            "ticks": ""
           }
          },
          "colorscale": {
           "diverging": [
            [
             0,
             "#8e0152"
            ],
            [
             0.1,
             "#c51b7d"
            ],
            [
             0.2,
             "#de77ae"
            ],
            [
             0.3,
             "#f1b6da"
            ],
            [
             0.4,
             "#fde0ef"
            ],
            [
             0.5,
             "#f7f7f7"
            ],
            [
             0.6,
             "#e6f5d0"
            ],
            [
             0.7,
             "#b8e186"
            ],
            [
             0.8,
             "#7fbc41"
            ],
            [
             0.9,
             "#4d9221"
            ],
            [
             1,
             "#276419"
            ]
           ],
           "sequential": [
            [
             0,
             "#0d0887"
            ],
            [
             0.1111111111111111,
             "#46039f"
            ],
            [
             0.2222222222222222,
             "#7201a8"
            ],
            [
             0.3333333333333333,
             "#9c179e"
            ],
            [
             0.4444444444444444,
             "#bd3786"
            ],
            [
             0.5555555555555556,
             "#d8576b"
            ],
            [
             0.6666666666666666,
             "#ed7953"
            ],
            [
             0.7777777777777778,
             "#fb9f3a"
            ],
            [
             0.8888888888888888,
             "#fdca26"
            ],
            [
             1,
             "#f0f921"
            ]
           ],
           "sequentialminus": [
            [
             0,
             "#0d0887"
            ],
            [
             0.1111111111111111,
             "#46039f"
            ],
            [
             0.2222222222222222,
             "#7201a8"
            ],
            [
             0.3333333333333333,
             "#9c179e"
            ],
            [
             0.4444444444444444,
             "#bd3786"
            ],
            [
             0.5555555555555556,
             "#d8576b"
            ],
            [
             0.6666666666666666,
             "#ed7953"
            ],
            [
             0.7777777777777778,
             "#fb9f3a"
            ],
            [
             0.8888888888888888,
             "#fdca26"
            ],
            [
             1,
             "#f0f921"
            ]
           ]
          },
          "colorway": [
           "#636efa",
           "#EF553B",
           "#00cc96",
           "#ab63fa",
           "#FFA15A",
           "#19d3f3",
           "#FF6692",
           "#B6E880",
           "#FF97FF",
           "#FECB52"
          ],
          "font": {
           "color": "#2a3f5f"
          },
          "geo": {
           "bgcolor": "white",
           "lakecolor": "white",
           "landcolor": "#E5ECF6",
           "showlakes": true,
           "showland": true,
           "subunitcolor": "white"
          },
          "hoverlabel": {
           "align": "left"
          },
          "hovermode": "closest",
          "mapbox": {
           "style": "light"
          },
          "paper_bgcolor": "white",
          "plot_bgcolor": "#E5ECF6",
          "polar": {
           "angularaxis": {
            "gridcolor": "white",
            "linecolor": "white",
            "ticks": ""
           },
           "bgcolor": "#E5ECF6",
           "radialaxis": {
            "gridcolor": "white",
            "linecolor": "white",
            "ticks": ""
           }
          },
          "scene": {
           "xaxis": {
            "backgroundcolor": "#E5ECF6",
            "gridcolor": "white",
            "gridwidth": 2,
            "linecolor": "white",
            "showbackground": true,
            "ticks": "",
            "zerolinecolor": "white"
           },
           "yaxis": {
            "backgroundcolor": "#E5ECF6",
            "gridcolor": "white",
            "gridwidth": 2,
            "linecolor": "white",
            "showbackground": true,
            "ticks": "",
            "zerolinecolor": "white"
           },
           "zaxis": {
            "backgroundcolor": "#E5ECF6",
            "gridcolor": "white",
            "gridwidth": 2,
            "linecolor": "white",
            "showbackground": true,
            "ticks": "",
            "zerolinecolor": "white"
           }
          },
          "shapedefaults": {
           "line": {
            "color": "#2a3f5f"
           }
          },
          "ternary": {
           "aaxis": {
            "gridcolor": "white",
            "linecolor": "white",
            "ticks": ""
           },
           "baxis": {
            "gridcolor": "white",
            "linecolor": "white",
            "ticks": ""
           },
           "bgcolor": "#E5ECF6",
           "caxis": {
            "gridcolor": "white",
            "linecolor": "white",
            "ticks": ""
           }
          },
          "title": {
           "x": 0.05
          },
          "xaxis": {
           "automargin": true,
           "gridcolor": "white",
           "linecolor": "white",
           "ticks": "",
           "title": {
            "standoff": 15
           },
           "zerolinecolor": "white",
           "zerolinewidth": 2
          },
          "yaxis": {
           "automargin": true,
           "gridcolor": "white",
           "linecolor": "white",
           "ticks": "",
           "title": {
            "standoff": 15
           },
           "zerolinecolor": "white",
           "zerolinewidth": 2
          }
         }
        },
        "title": {
         "text": "PCA of Agnes Story Embeddings by Layer Type"
        },
        "xaxis": {
         "anchor": "y",
         "domain": [
          0,
          1
         ],
         "title": {
          "text": "dim1"
         }
        },
        "yaxis": {
         "anchor": "x",
         "domain": [
          0,
          1
         ],
         "title": {
          "text": "dim2"
         }
        }
       }
      },
      "text/html": [
       "<div>                            <div id=\"ac987509-b08d-431d-bc8a-e9aa9b5393e1\" class=\"plotly-graph-div\" style=\"height:525px; width:100%;\"></div>            <script type=\"text/javascript\">                require([\"plotly\"], function(Plotly) {                    window.PLOTLYENV=window.PLOTLYENV || {};                                    if (document.getElementById(\"ac987509-b08d-431d-bc8a-e9aa9b5393e1\")) {                    Plotly.newPlot(                        \"ac987509-b08d-431d-bc8a-e9aa9b5393e1\",                        [{\"customdata\":[[\"None\"],[\"None\"],[\"None\"],[\"None\"],[\"None\"],[\"None\"],[\"None\"],[\"None\"],[\"None\"],[\"None\"],[\"None\"],[\"None\"],[\"None\"],[\"None\"],[\"None\"],[\"None\"],[\"None\"],[\"None\"],[\"None\"],[\"None\"]],\"hovertemplate\":\"Layers Type: %{customdata[0]}\",\"legendgroup\":\"None\",\"marker\":{\"color\":\"#636efa\",\"symbol\":\"circle\"},\"mode\":\"markers\",\"name\":\"None\",\"orientation\":\"v\",\"showlegend\":true,\"x\":[0.2158357948064804,0.3322944641113281,0.1830282360315323,0.29183223843574524,0.207454115152359,0.35239341855049133,0.5122517943382263,0.33108824491500854,0.31732964515686035,0.17578338086605072,0.29001736640930176,0.39983585476875305,0.4863218665122986,0.37460067868232727,0.3856007158756256,0.19432762265205383,0.3307011127471924,0.38995078206062317,0.3341938257217407,0.3543669879436493],\"xaxis\":\"x\",\"y\":[0.004064058419317007,-0.12250220030546188,-0.06902475655078888,0.08173176646232605,-0.0866449698805809,-0.13175742328166962,-0.08010324835777283,0.035054728388786316,-0.196289524435997,0.0003835525712929666,-0.05475939065217972,-0.07116702198982239,-0.04162593558430672,-0.15720592439174652,-0.1635325849056244,0.0030129393562674522,0.027969814836978912,-0.08098012208938599,0.0004406603693496436,-0.1729370355606079],\"yaxis\":\"y\",\"type\":\"scatter\"},{\"customdata\":[[\"all\"],[\"all\"],[\"all\"],[\"all\"],[\"all\"],[\"all\"],[\"all\"],[\"all\"],[\"all\"],[\"all\"],[\"all\"],[\"all\"],[\"all\"],[\"all\"],[\"all\"],[\"all\"],[\"all\"],[\"all\"],[\"all\"],[\"all\"]],\"hovertemplate\":\"Layers Type: %{customdata[0]}\",\"legendgroup\":\"all\",\"marker\":{\"color\":\"#EF553B\",\"symbol\":\"circle\"},\"mode\":\"markers\",\"name\":\"all\",\"orientation\":\"v\",\"showlegend\":true,\"x\":[0.2937343716621399,-0.5330798625946045,-0.4318426251411438,-0.26285532116889954,-0.46694961190223694,-0.4124423563480377,-0.3622196912765503,-0.21689674258232117,0.30863332748413086,-0.47111374139785767,-0.5917721390724182,-0.5334441065788269,-0.26955053210258484,-0.338628351688385,-0.4756375253200531,-0.5832713842391968,-0.5832713842391968,-0.498063862323761,-0.25700774788856506,-0.571119487285614],\"xaxis\":\"x\",\"y\":[-0.0018790940521284938,-0.2726258933544159,0.4327046275138855,0.4267345070838928,0.4652208685874939,-0.32748082280158997,0.4874666929244995,0.5634246468544006,0.019535735249519348,0.477860689163208,-0.36001041531562805,-0.32919028401374817,0.43639808893203735,0.4787561893463135,0.5052284002304077,-0.37741371989250183,-0.37741366028785706,0.4699065089225769,0.46302902698516846,-0.39142847061157227],\"yaxis\":\"y\",\"type\":\"scatter\"},{\"customdata\":[[\"attn\"],[\"attn\"],[\"attn\"],[\"attn\"],[\"attn\"],[\"attn\"],[\"attn\"],[\"attn\"],[\"attn\"],[\"attn\"],[\"attn\"],[\"attn\"],[\"attn\"],[\"attn\"],[\"attn\"],[\"attn\"],[\"attn\"],[\"attn\"],[\"attn\"],[\"attn\"]],\"hovertemplate\":\"Layers Type: %{customdata[0]}\",\"legendgroup\":\"attn\",\"marker\":{\"color\":\"#00cc96\",\"symbol\":\"circle\"},\"mode\":\"markers\",\"name\":\"attn\",\"orientation\":\"v\",\"showlegend\":true,\"x\":[-0.5722528100013733,-0.5828060507774353,-0.32174381613731384,0.2613082528114319,-0.5832713842391968,0.25715693831443787,-0.42452380061149597,-0.5953027009963989,-0.4132614731788635,-0.4883478581905365,-0.5832715034484863,-0.5932157635688782,-0.6058680415153503,-0.5841312408447266,-0.5832713842391968,-0.45873039960861206,-0.5832713842391968,-0.41321390867233276,-0.21221700310707092,-0.2410310059785843],\"xaxis\":\"x\",\"y\":[-0.40298333764076233,-0.37054163217544556,0.0751427710056305,-0.07869098335504532,-0.37741371989250183,0.04700572416186333,0.3387143611907959,-0.35067856311798096,0.4260936975479126,0.5150213241577148,-0.3774137496948242,-0.3569260239601135,-0.32498112320899963,-0.378281831741333,-0.37741371989250183,0.49959325790405273,-0.37741366028785706,-0.2067766785621643,0.35295554995536804,0.5233299136161804],\"yaxis\":\"y\",\"type\":\"scatter\"},{\"customdata\":[[\"mlp\"],[\"mlp\"],[\"mlp\"],[\"mlp\"],[\"mlp\"],[\"mlp\"],[\"mlp\"],[\"mlp\"],[\"mlp\"],[\"mlp\"],[\"mlp\"],[\"mlp\"],[\"mlp\"],[\"mlp\"],[\"mlp\"],[\"mlp\"],[\"mlp\"],[\"mlp\"],[\"mlp\"],[\"mlp\"]],\"hovertemplate\":\"Layers Type: %{customdata[0]}\",\"legendgroup\":\"mlp\",\"marker\":{\"color\":\"#ab63fa\",\"symbol\":\"circle\"},\"mode\":\"markers\",\"name\":\"mlp\",\"orientation\":\"v\",\"showlegend\":true,\"x\":[0.4637548625469208,0.4914873540401459,0.3002651631832123,0.21983960270881653,0.5316004753112793,0.5211498141288757,0.2558269202709198,0.5304857492446899,0.5053696036338806,0.43937501311302185,0.5314723253250122,0.5009954571723938,0.47608718276023865,0.5793138742446899,0.4843800961971283,0.4231454133987427,0.5856283903121948,0.5156112313270569,0.29546380043029785,0.4676058292388916],\"xaxis\":\"x\",\"y\":[0.001069738995283842,-0.029466183856129646,-0.09128206223249435,0.08490153402090073,-0.007208161987364292,-0.09879830479621887,0.06268385797739029,-0.07032938301563263,0.028899310156702995,-0.04226100072264671,-0.02107422426342964,-0.06151409447193146,0.01500181294977665,0.011967526748776436,-0.011790089309215546,0.05823991447687149,-0.07174243032932281,-0.042142003774642944,-0.004437898751348257,-0.0220105592161417],\"yaxis\":\"y\",\"type\":\"scatter\"}],                        {\"template\":{\"data\":{\"histogram2dcontour\":[{\"type\":\"histogram2dcontour\",\"colorbar\":{\"outlinewidth\":0,\"ticks\":\"\"},\"colorscale\":[[0.0,\"#0d0887\"],[0.1111111111111111,\"#46039f\"],[0.2222222222222222,\"#7201a8\"],[0.3333333333333333,\"#9c179e\"],[0.4444444444444444,\"#bd3786\"],[0.5555555555555556,\"#d8576b\"],[0.6666666666666666,\"#ed7953\"],[0.7777777777777778,\"#fb9f3a\"],[0.8888888888888888,\"#fdca26\"],[1.0,\"#f0f921\"]]}],\"choropleth\":[{\"type\":\"choropleth\",\"colorbar\":{\"outlinewidth\":0,\"ticks\":\"\"}}],\"histogram2d\":[{\"type\":\"histogram2d\",\"colorbar\":{\"outlinewidth\":0,\"ticks\":\"\"},\"colorscale\":[[0.0,\"#0d0887\"],[0.1111111111111111,\"#46039f\"],[0.2222222222222222,\"#7201a8\"],[0.3333333333333333,\"#9c179e\"],[0.4444444444444444,\"#bd3786\"],[0.5555555555555556,\"#d8576b\"],[0.6666666666666666,\"#ed7953\"],[0.7777777777777778,\"#fb9f3a\"],[0.8888888888888888,\"#fdca26\"],[1.0,\"#f0f921\"]]}],\"heatmap\":[{\"type\":\"heatmap\",\"colorbar\":{\"outlinewidth\":0,\"ticks\":\"\"},\"colorscale\":[[0.0,\"#0d0887\"],[0.1111111111111111,\"#46039f\"],[0.2222222222222222,\"#7201a8\"],[0.3333333333333333,\"#9c179e\"],[0.4444444444444444,\"#bd3786\"],[0.5555555555555556,\"#d8576b\"],[0.6666666666666666,\"#ed7953\"],[0.7777777777777778,\"#fb9f3a\"],[0.8888888888888888,\"#fdca26\"],[1.0,\"#f0f921\"]]}],\"heatmapgl\":[{\"type\":\"heatmapgl\",\"colorbar\":{\"outlinewidth\":0,\"ticks\":\"\"},\"colorscale\":[[0.0,\"#0d0887\"],[0.1111111111111111,\"#46039f\"],[0.2222222222222222,\"#7201a8\"],[0.3333333333333333,\"#9c179e\"],[0.4444444444444444,\"#bd3786\"],[0.5555555555555556,\"#d8576b\"],[0.6666666666666666,\"#ed7953\"],[0.7777777777777778,\"#fb9f3a\"],[0.8888888888888888,\"#fdca26\"],[1.0,\"#f0f921\"]]}],\"contourcarpet\":[{\"type\":\"contourcarpet\",\"colorbar\":{\"outlinewidth\":0,\"ticks\":\"\"}}],\"contour\":[{\"type\":\"contour\",\"colorbar\":{\"outlinewidth\":0,\"ticks\":\"\"},\"colorscale\":[[0.0,\"#0d0887\"],[0.1111111111111111,\"#46039f\"],[0.2222222222222222,\"#7201a8\"],[0.3333333333333333,\"#9c179e\"],[0.4444444444444444,\"#bd3786\"],[0.5555555555555556,\"#d8576b\"],[0.6666666666666666,\"#ed7953\"],[0.7777777777777778,\"#fb9f3a\"],[0.8888888888888888,\"#fdca26\"],[1.0,\"#f0f921\"]]}],\"surface\":[{\"type\":\"surface\",\"colorbar\":{\"outlinewidth\":0,\"ticks\":\"\"},\"colorscale\":[[0.0,\"#0d0887\"],[0.1111111111111111,\"#46039f\"],[0.2222222222222222,\"#7201a8\"],[0.3333333333333333,\"#9c179e\"],[0.4444444444444444,\"#bd3786\"],[0.5555555555555556,\"#d8576b\"],[0.6666666666666666,\"#ed7953\"],[0.7777777777777778,\"#fb9f3a\"],[0.8888888888888888,\"#fdca26\"],[1.0,\"#f0f921\"]]}],\"mesh3d\":[{\"type\":\"mesh3d\",\"colorbar\":{\"outlinewidth\":0,\"ticks\":\"\"}}],\"scatter\":[{\"fillpattern\":{\"fillmode\":\"overlay\",\"size\":10,\"solidity\":0.2},\"type\":\"scatter\"}],\"parcoords\":[{\"type\":\"parcoords\",\"line\":{\"colorbar\":{\"outlinewidth\":0,\"ticks\":\"\"}}}],\"scatterpolargl\":[{\"type\":\"scatterpolargl\",\"marker\":{\"colorbar\":{\"outlinewidth\":0,\"ticks\":\"\"}}}],\"bar\":[{\"error_x\":{\"color\":\"#2a3f5f\"},\"error_y\":{\"color\":\"#2a3f5f\"},\"marker\":{\"line\":{\"color\":\"#E5ECF6\",\"width\":0.5},\"pattern\":{\"fillmode\":\"overlay\",\"size\":10,\"solidity\":0.2}},\"type\":\"bar\"}],\"scattergeo\":[{\"type\":\"scattergeo\",\"marker\":{\"colorbar\":{\"outlinewidth\":0,\"ticks\":\"\"}}}],\"scatterpolar\":[{\"type\":\"scatterpolar\",\"marker\":{\"colorbar\":{\"outlinewidth\":0,\"ticks\":\"\"}}}],\"histogram\":[{\"marker\":{\"pattern\":{\"fillmode\":\"overlay\",\"size\":10,\"solidity\":0.2}},\"type\":\"histogram\"}],\"scattergl\":[{\"type\":\"scattergl\",\"marker\":{\"colorbar\":{\"outlinewidth\":0,\"ticks\":\"\"}}}],\"scatter3d\":[{\"type\":\"scatter3d\",\"line\":{\"colorbar\":{\"outlinewidth\":0,\"ticks\":\"\"}},\"marker\":{\"colorbar\":{\"outlinewidth\":0,\"ticks\":\"\"}}}],\"scattermapbox\":[{\"type\":\"scattermapbox\",\"marker\":{\"colorbar\":{\"outlinewidth\":0,\"ticks\":\"\"}}}],\"scatterternary\":[{\"type\":\"scatterternary\",\"marker\":{\"colorbar\":{\"outlinewidth\":0,\"ticks\":\"\"}}}],\"scattercarpet\":[{\"type\":\"scattercarpet\",\"marker\":{\"colorbar\":{\"outlinewidth\":0,\"ticks\":\"\"}}}],\"carpet\":[{\"aaxis\":{\"endlinecolor\":\"#2a3f5f\",\"gridcolor\":\"white\",\"linecolor\":\"white\",\"minorgridcolor\":\"white\",\"startlinecolor\":\"#2a3f5f\"},\"baxis\":{\"endlinecolor\":\"#2a3f5f\",\"gridcolor\":\"white\",\"linecolor\":\"white\",\"minorgridcolor\":\"white\",\"startlinecolor\":\"#2a3f5f\"},\"type\":\"carpet\"}],\"table\":[{\"cells\":{\"fill\":{\"color\":\"#EBF0F8\"},\"line\":{\"color\":\"white\"}},\"header\":{\"fill\":{\"color\":\"#C8D4E3\"},\"line\":{\"color\":\"white\"}},\"type\":\"table\"}],\"barpolar\":[{\"marker\":{\"line\":{\"color\":\"#E5ECF6\",\"width\":0.5},\"pattern\":{\"fillmode\":\"overlay\",\"size\":10,\"solidity\":0.2}},\"type\":\"barpolar\"}],\"pie\":[{\"automargin\":true,\"type\":\"pie\"}]},\"layout\":{\"autotypenumbers\":\"strict\",\"colorway\":[\"#636efa\",\"#EF553B\",\"#00cc96\",\"#ab63fa\",\"#FFA15A\",\"#19d3f3\",\"#FF6692\",\"#B6E880\",\"#FF97FF\",\"#FECB52\"],\"font\":{\"color\":\"#2a3f5f\"},\"hovermode\":\"closest\",\"hoverlabel\":{\"align\":\"left\"},\"paper_bgcolor\":\"white\",\"plot_bgcolor\":\"#E5ECF6\",\"polar\":{\"bgcolor\":\"#E5ECF6\",\"angularaxis\":{\"gridcolor\":\"white\",\"linecolor\":\"white\",\"ticks\":\"\"},\"radialaxis\":{\"gridcolor\":\"white\",\"linecolor\":\"white\",\"ticks\":\"\"}},\"ternary\":{\"bgcolor\":\"#E5ECF6\",\"aaxis\":{\"gridcolor\":\"white\",\"linecolor\":\"white\",\"ticks\":\"\"},\"baxis\":{\"gridcolor\":\"white\",\"linecolor\":\"white\",\"ticks\":\"\"},\"caxis\":{\"gridcolor\":\"white\",\"linecolor\":\"white\",\"ticks\":\"\"}},\"coloraxis\":{\"colorbar\":{\"outlinewidth\":0,\"ticks\":\"\"}},\"colorscale\":{\"sequential\":[[0.0,\"#0d0887\"],[0.1111111111111111,\"#46039f\"],[0.2222222222222222,\"#7201a8\"],[0.3333333333333333,\"#9c179e\"],[0.4444444444444444,\"#bd3786\"],[0.5555555555555556,\"#d8576b\"],[0.6666666666666666,\"#ed7953\"],[0.7777777777777778,\"#fb9f3a\"],[0.8888888888888888,\"#fdca26\"],[1.0,\"#f0f921\"]],\"sequentialminus\":[[0.0,\"#0d0887\"],[0.1111111111111111,\"#46039f\"],[0.2222222222222222,\"#7201a8\"],[0.3333333333333333,\"#9c179e\"],[0.4444444444444444,\"#bd3786\"],[0.5555555555555556,\"#d8576b\"],[0.6666666666666666,\"#ed7953\"],[0.7777777777777778,\"#fb9f3a\"],[0.8888888888888888,\"#fdca26\"],[1.0,\"#f0f921\"]],\"diverging\":[[0,\"#8e0152\"],[0.1,\"#c51b7d\"],[0.2,\"#de77ae\"],[0.3,\"#f1b6da\"],[0.4,\"#fde0ef\"],[0.5,\"#f7f7f7\"],[0.6,\"#e6f5d0\"],[0.7,\"#b8e186\"],[0.8,\"#7fbc41\"],[0.9,\"#4d9221\"],[1,\"#276419\"]]},\"xaxis\":{\"gridcolor\":\"white\",\"linecolor\":\"white\",\"ticks\":\"\",\"title\":{\"standoff\":15},\"zerolinecolor\":\"white\",\"automargin\":true,\"zerolinewidth\":2},\"yaxis\":{\"gridcolor\":\"white\",\"linecolor\":\"white\",\"ticks\":\"\",\"title\":{\"standoff\":15},\"zerolinecolor\":\"white\",\"automargin\":true,\"zerolinewidth\":2},\"scene\":{\"xaxis\":{\"backgroundcolor\":\"#E5ECF6\",\"gridcolor\":\"white\",\"linecolor\":\"white\",\"showbackground\":true,\"ticks\":\"\",\"zerolinecolor\":\"white\",\"gridwidth\":2},\"yaxis\":{\"backgroundcolor\":\"#E5ECF6\",\"gridcolor\":\"white\",\"linecolor\":\"white\",\"showbackground\":true,\"ticks\":\"\",\"zerolinecolor\":\"white\",\"gridwidth\":2},\"zaxis\":{\"backgroundcolor\":\"#E5ECF6\",\"gridcolor\":\"white\",\"linecolor\":\"white\",\"showbackground\":true,\"ticks\":\"\",\"zerolinecolor\":\"white\",\"gridwidth\":2}},\"shapedefaults\":{\"line\":{\"color\":\"#2a3f5f\"}},\"annotationdefaults\":{\"arrowcolor\":\"#2a3f5f\",\"arrowhead\":0,\"arrowwidth\":1},\"geo\":{\"bgcolor\":\"white\",\"landcolor\":\"#E5ECF6\",\"subunitcolor\":\"white\",\"showland\":true,\"showlakes\":true,\"lakecolor\":\"white\"},\"title\":{\"x\":0.05},\"mapbox\":{\"style\":\"light\"}}},\"xaxis\":{\"anchor\":\"y\",\"domain\":[0.0,1.0],\"title\":{\"text\":\"dim1\"}},\"yaxis\":{\"anchor\":\"x\",\"domain\":[0.0,1.0],\"title\":{\"text\":\"dim2\"}},\"legend\":{\"title\":{\"text\":\"layers_type_string\"},\"tracegroupgap\":0},\"title\":{\"text\":\"PCA of Agnes Story Embeddings by Layer Type\"}},                        {\"responsive\": true}                    ).then(function(){\n",
       "                            \n",
       "var gd = document.getElementById('ac987509-b08d-431d-bc8a-e9aa9b5393e1');\n",
       "var x = new MutationObserver(function (mutations, observer) {{\n",
       "        var display = window.getComputedStyle(gd).display;\n",
       "        if (!display || display === 'none') {{\n",
       "            console.log([gd, 'removed!']);\n",
       "            Plotly.purge(gd);\n",
       "            observer.disconnect();\n",
       "        }}\n",
       "}});\n",
       "\n",
       "// Listen for the removal of the full notebook cells\n",
       "var notebookContainer = gd.closest('#notebook-container');\n",
       "if (notebookContainer) {{\n",
       "    x.observe(notebookContainer, {childList: true});\n",
       "}}\n",
       "\n",
       "// Listen for the clearing of the current output cell\n",
       "var outputEl = gd.closest('.output');\n",
       "if (outputEl) {{\n",
       "    x.observe(outputEl, {childList: true});\n",
       "}}\n",
       "\n",
       "                        })                };                });            </script>        </div>"
      ]
     },
     "metadata": {},
     "output_type": "display_data"
    }
   ],
   "source": [
    "# carry out pca on embeddings using sklearn\n",
    "reducer = PCA(n_components=2)\n",
    "embeddings_reduced = reducer.fit_transform(embeddings)\n",
    "print(embeddings_reduced.shape)\n",
    "\n",
    "# visualize the embeddings using plotly\n",
    "import plotly.express as px\n",
    "\n",
    "results_df[\"dim1\"] = embeddings_reduced[:, 0]\n",
    "results_df[\"dim2\"] = embeddings_reduced[:, 1]\n",
    "# results_df[\"dim3\"] = embeddings_reduced[:, 2]\n",
    "\n",
    "results_df[\"truncated_output\"] = results_df[\"output\"].str.slice(0,100)\n",
    "\n",
    "def convert_value(value):\n",
    "    if value is None:\n",
    "        return \"None\"\n",
    "    else:\n",
    "        return value\n",
    "results_df['layers_type_string'] = results_df['layers_type'].apply(convert_value)\n",
    "\n",
    "fig = px.scatter(\n",
    "    results_df,\n",
    "    x=\"dim1\",\n",
    "    y=\"dim2\",\n",
    "    hover_data=[\"layers_type_string\"],\n",
    "    title=\"PCA of Agnes Story Embeddings by Layer Type\",\n",
    "    color=\"layers_type_string\",\n",
    "    # symbol_sequence = ['circle', 'square', 'diamond', 'cross', 'x', 'triangle-up', 'pentagon', 'hexagon', 'octagon', 'star'],\n",
    "\n",
    ")\n",
    "fig.update_traces(\n",
    "    hovertemplate=\"<br>\".join(\n",
    "        [\"Layers Type: %{customdata[0]}\"]\n",
    "    )\n",
    ")\n",
    "\n",
    "\n",
    "\n",
    "fig.show()"
   ]
  },
  {
   "cell_type": "code",
   "execution_count": 14,
   "metadata": {},
   "outputs": [
    {
     "name": "stdout",
     "output_type": "stream",
     "text": [
      "  layers_type_string       PC1       PC2\n",
      "0               None  0.322960 -0.063794\n",
      "1                all -0.362840  0.139441\n",
      "2               attn -0.416063 -0.060083\n",
      "3                mlp  0.455943 -0.015565\n"
     ]
    },
    {
     "data": {
      "application/vnd.plotly.v1+json": {
       "config": {
        "plotlyServerURL": "https://plot.ly"
       },
       "data": [
        {
         "hovertemplate": "layers_type_string=None<br>PC1=%{x}<br>PC2=%{y}<extra></extra>",
         "legendgroup": "None",
         "marker": {
          "color": "#636efa",
          "symbol": "circle"
         },
         "mode": "markers",
         "name": "None",
         "orientation": "v",
         "showlegend": true,
         "type": "scatter",
         "x": [
          0.32296040654182434
         ],
         "xaxis": "x",
         "y": [
          -0.06379362940788269
         ],
         "yaxis": "y"
        },
        {
         "hovertemplate": "layers_type_string=all<br>PC1=%{x}<br>PC2=%{y}<extra></extra>",
         "legendgroup": "all",
         "marker": {
          "color": "#EF553B",
          "symbol": "circle"
         },
         "mode": "markers",
         "name": "all",
         "orientation": "v",
         "showlegend": true,
         "type": "scatter",
         "x": [
          -0.362839937210083
         ],
         "xaxis": "x",
         "y": [
          0.13944117724895477
         ],
         "yaxis": "y"
        },
        {
         "hovertemplate": "layers_type_string=attn<br>PC1=%{x}<br>PC2=%{y}<extra></extra>",
         "legendgroup": "attn",
         "marker": {
          "color": "#00cc96",
          "symbol": "circle"
         },
         "mode": "markers",
         "name": "attn",
         "orientation": "v",
         "showlegend": true,
         "type": "scatter",
         "x": [
          -0.4160633087158203
         ],
         "xaxis": "x",
         "y": [
          -0.060082923620939255
         ],
         "yaxis": "y"
        },
        {
         "hovertemplate": "layers_type_string=mlp<br>PC1=%{x}<br>PC2=%{y}<extra></extra>",
         "legendgroup": "mlp",
         "marker": {
          "color": "#ab63fa",
          "symbol": "circle"
         },
         "mode": "markers",
         "name": "mlp",
         "orientation": "v",
         "showlegend": true,
         "type": "scatter",
         "x": [
          0.45594292879104614
         ],
         "xaxis": "x",
         "y": [
          -0.015564635396003723
         ],
         "yaxis": "y"
        }
       ],
       "layout": {
        "legend": {
         "title": {
          "text": "layers_type_string"
         },
         "tracegroupgap": 0
        },
        "template": {
         "data": {
          "bar": [
           {
            "error_x": {
             "color": "#2a3f5f"
            },
            "error_y": {
             "color": "#2a3f5f"
            },
            "marker": {
             "line": {
              "color": "#E5ECF6",
              "width": 0.5
             },
             "pattern": {
              "fillmode": "overlay",
              "size": 10,
              "solidity": 0.2
             }
            },
            "type": "bar"
           }
          ],
          "barpolar": [
           {
            "marker": {
             "line": {
              "color": "#E5ECF6",
              "width": 0.5
             },
             "pattern": {
              "fillmode": "overlay",
              "size": 10,
              "solidity": 0.2
             }
            },
            "type": "barpolar"
           }
          ],
          "carpet": [
           {
            "aaxis": {
             "endlinecolor": "#2a3f5f",
             "gridcolor": "white",
             "linecolor": "white",
             "minorgridcolor": "white",
             "startlinecolor": "#2a3f5f"
            },
            "baxis": {
             "endlinecolor": "#2a3f5f",
             "gridcolor": "white",
             "linecolor": "white",
             "minorgridcolor": "white",
             "startlinecolor": "#2a3f5f"
            },
            "type": "carpet"
           }
          ],
          "choropleth": [
           {
            "colorbar": {
             "outlinewidth": 0,
             "ticks": ""
            },
            "type": "choropleth"
           }
          ],
          "contour": [
           {
            "colorbar": {
             "outlinewidth": 0,
             "ticks": ""
            },
            "colorscale": [
             [
              0,
              "#0d0887"
             ],
             [
              0.1111111111111111,
              "#46039f"
             ],
             [
              0.2222222222222222,
              "#7201a8"
             ],
             [
              0.3333333333333333,
              "#9c179e"
             ],
             [
              0.4444444444444444,
              "#bd3786"
             ],
             [
              0.5555555555555556,
              "#d8576b"
             ],
             [
              0.6666666666666666,
              "#ed7953"
             ],
             [
              0.7777777777777778,
              "#fb9f3a"
             ],
             [
              0.8888888888888888,
              "#fdca26"
             ],
             [
              1,
              "#f0f921"
             ]
            ],
            "type": "contour"
           }
          ],
          "contourcarpet": [
           {
            "colorbar": {
             "outlinewidth": 0,
             "ticks": ""
            },
            "type": "contourcarpet"
           }
          ],
          "heatmap": [
           {
            "colorbar": {
             "outlinewidth": 0,
             "ticks": ""
            },
            "colorscale": [
             [
              0,
              "#0d0887"
             ],
             [
              0.1111111111111111,
              "#46039f"
             ],
             [
              0.2222222222222222,
              "#7201a8"
             ],
             [
              0.3333333333333333,
              "#9c179e"
             ],
             [
              0.4444444444444444,
              "#bd3786"
             ],
             [
              0.5555555555555556,
              "#d8576b"
             ],
             [
              0.6666666666666666,
              "#ed7953"
             ],
             [
              0.7777777777777778,
              "#fb9f3a"
             ],
             [
              0.8888888888888888,
              "#fdca26"
             ],
             [
              1,
              "#f0f921"
             ]
            ],
            "type": "heatmap"
           }
          ],
          "heatmapgl": [
           {
            "colorbar": {
             "outlinewidth": 0,
             "ticks": ""
            },
            "colorscale": [
             [
              0,
              "#0d0887"
             ],
             [
              0.1111111111111111,
              "#46039f"
             ],
             [
              0.2222222222222222,
              "#7201a8"
             ],
             [
              0.3333333333333333,
              "#9c179e"
             ],
             [
              0.4444444444444444,
              "#bd3786"
             ],
             [
              0.5555555555555556,
              "#d8576b"
             ],
             [
              0.6666666666666666,
              "#ed7953"
             ],
             [
              0.7777777777777778,
              "#fb9f3a"
             ],
             [
              0.8888888888888888,
              "#fdca26"
             ],
             [
              1,
              "#f0f921"
             ]
            ],
            "type": "heatmapgl"
           }
          ],
          "histogram": [
           {
            "marker": {
             "pattern": {
              "fillmode": "overlay",
              "size": 10,
              "solidity": 0.2
             }
            },
            "type": "histogram"
           }
          ],
          "histogram2d": [
           {
            "colorbar": {
             "outlinewidth": 0,
             "ticks": ""
            },
            "colorscale": [
             [
              0,
              "#0d0887"
             ],
             [
              0.1111111111111111,
              "#46039f"
             ],
             [
              0.2222222222222222,
              "#7201a8"
             ],
             [
              0.3333333333333333,
              "#9c179e"
             ],
             [
              0.4444444444444444,
              "#bd3786"
             ],
             [
              0.5555555555555556,
              "#d8576b"
             ],
             [
              0.6666666666666666,
              "#ed7953"
             ],
             [
              0.7777777777777778,
              "#fb9f3a"
             ],
             [
              0.8888888888888888,
              "#fdca26"
             ],
             [
              1,
              "#f0f921"
             ]
            ],
            "type": "histogram2d"
           }
          ],
          "histogram2dcontour": [
           {
            "colorbar": {
             "outlinewidth": 0,
             "ticks": ""
            },
            "colorscale": [
             [
              0,
              "#0d0887"
             ],
             [
              0.1111111111111111,
              "#46039f"
             ],
             [
              0.2222222222222222,
              "#7201a8"
             ],
             [
              0.3333333333333333,
              "#9c179e"
             ],
             [
              0.4444444444444444,
              "#bd3786"
             ],
             [
              0.5555555555555556,
              "#d8576b"
             ],
             [
              0.6666666666666666,
              "#ed7953"
             ],
             [
              0.7777777777777778,
              "#fb9f3a"
             ],
             [
              0.8888888888888888,
              "#fdca26"
             ],
             [
              1,
              "#f0f921"
             ]
            ],
            "type": "histogram2dcontour"
           }
          ],
          "mesh3d": [
           {
            "colorbar": {
             "outlinewidth": 0,
             "ticks": ""
            },
            "type": "mesh3d"
           }
          ],
          "parcoords": [
           {
            "line": {
             "colorbar": {
              "outlinewidth": 0,
              "ticks": ""
             }
            },
            "type": "parcoords"
           }
          ],
          "pie": [
           {
            "automargin": true,
            "type": "pie"
           }
          ],
          "scatter": [
           {
            "fillpattern": {
             "fillmode": "overlay",
             "size": 10,
             "solidity": 0.2
            },
            "type": "scatter"
           }
          ],
          "scatter3d": [
           {
            "line": {
             "colorbar": {
              "outlinewidth": 0,
              "ticks": ""
             }
            },
            "marker": {
             "colorbar": {
              "outlinewidth": 0,
              "ticks": ""
             }
            },
            "type": "scatter3d"
           }
          ],
          "scattercarpet": [
           {
            "marker": {
             "colorbar": {
              "outlinewidth": 0,
              "ticks": ""
             }
            },
            "type": "scattercarpet"
           }
          ],
          "scattergeo": [
           {
            "marker": {
             "colorbar": {
              "outlinewidth": 0,
              "ticks": ""
             }
            },
            "type": "scattergeo"
           }
          ],
          "scattergl": [
           {
            "marker": {
             "colorbar": {
              "outlinewidth": 0,
              "ticks": ""
             }
            },
            "type": "scattergl"
           }
          ],
          "scattermapbox": [
           {
            "marker": {
             "colorbar": {
              "outlinewidth": 0,
              "ticks": ""
             }
            },
            "type": "scattermapbox"
           }
          ],
          "scatterpolar": [
           {
            "marker": {
             "colorbar": {
              "outlinewidth": 0,
              "ticks": ""
             }
            },
            "type": "scatterpolar"
           }
          ],
          "scatterpolargl": [
           {
            "marker": {
             "colorbar": {
              "outlinewidth": 0,
              "ticks": ""
             }
            },
            "type": "scatterpolargl"
           }
          ],
          "scatterternary": [
           {
            "marker": {
             "colorbar": {
              "outlinewidth": 0,
              "ticks": ""
             }
            },
            "type": "scatterternary"
           }
          ],
          "surface": [
           {
            "colorbar": {
             "outlinewidth": 0,
             "ticks": ""
            },
            "colorscale": [
             [
              0,
              "#0d0887"
             ],
             [
              0.1111111111111111,
              "#46039f"
             ],
             [
              0.2222222222222222,
              "#7201a8"
             ],
             [
              0.3333333333333333,
              "#9c179e"
             ],
             [
              0.4444444444444444,
              "#bd3786"
             ],
             [
              0.5555555555555556,
              "#d8576b"
             ],
             [
              0.6666666666666666,
              "#ed7953"
             ],
             [
              0.7777777777777778,
              "#fb9f3a"
             ],
             [
              0.8888888888888888,
              "#fdca26"
             ],
             [
              1,
              "#f0f921"
             ]
            ],
            "type": "surface"
           }
          ],
          "table": [
           {
            "cells": {
             "fill": {
              "color": "#EBF0F8"
             },
             "line": {
              "color": "white"
             }
            },
            "header": {
             "fill": {
              "color": "#C8D4E3"
             },
             "line": {
              "color": "white"
             }
            },
            "type": "table"
           }
          ]
         },
         "layout": {
          "annotationdefaults": {
           "arrowcolor": "#2a3f5f",
           "arrowhead": 0,
           "arrowwidth": 1
          },
          "autotypenumbers": "strict",
          "coloraxis": {
           "colorbar": {
            "outlinewidth": 0,
            "ticks": ""
           }
          },
          "colorscale": {
           "diverging": [
            [
             0,
             "#8e0152"
            ],
            [
             0.1,
             "#c51b7d"
            ],
            [
             0.2,
             "#de77ae"
            ],
            [
             0.3,
             "#f1b6da"
            ],
            [
             0.4,
             "#fde0ef"
            ],
            [
             0.5,
             "#f7f7f7"
            ],
            [
             0.6,
             "#e6f5d0"
            ],
            [
             0.7,
             "#b8e186"
            ],
            [
             0.8,
             "#7fbc41"
            ],
            [
             0.9,
             "#4d9221"
            ],
            [
             1,
             "#276419"
            ]
           ],
           "sequential": [
            [
             0,
             "#0d0887"
            ],
            [
             0.1111111111111111,
             "#46039f"
            ],
            [
             0.2222222222222222,
             "#7201a8"
            ],
            [
             0.3333333333333333,
             "#9c179e"
            ],
            [
             0.4444444444444444,
             "#bd3786"
            ],
            [
             0.5555555555555556,
             "#d8576b"
            ],
            [
             0.6666666666666666,
             "#ed7953"
            ],
            [
             0.7777777777777778,
             "#fb9f3a"
            ],
            [
             0.8888888888888888,
             "#fdca26"
            ],
            [
             1,
             "#f0f921"
            ]
           ],
           "sequentialminus": [
            [
             0,
             "#0d0887"
            ],
            [
             0.1111111111111111,
             "#46039f"
            ],
            [
             0.2222222222222222,
             "#7201a8"
            ],
            [
             0.3333333333333333,
             "#9c179e"
            ],
            [
             0.4444444444444444,
             "#bd3786"
            ],
            [
             0.5555555555555556,
             "#d8576b"
            ],
            [
             0.6666666666666666,
             "#ed7953"
            ],
            [
             0.7777777777777778,
             "#fb9f3a"
            ],
            [
             0.8888888888888888,
             "#fdca26"
            ],
            [
             1,
             "#f0f921"
            ]
           ]
          },
          "colorway": [
           "#636efa",
           "#EF553B",
           "#00cc96",
           "#ab63fa",
           "#FFA15A",
           "#19d3f3",
           "#FF6692",
           "#B6E880",
           "#FF97FF",
           "#FECB52"
          ],
          "font": {
           "color": "#2a3f5f"
          },
          "geo": {
           "bgcolor": "white",
           "lakecolor": "white",
           "landcolor": "#E5ECF6",
           "showlakes": true,
           "showland": true,
           "subunitcolor": "white"
          },
          "hoverlabel": {
           "align": "left"
          },
          "hovermode": "closest",
          "mapbox": {
           "style": "light"
          },
          "paper_bgcolor": "white",
          "plot_bgcolor": "#E5ECF6",
          "polar": {
           "angularaxis": {
            "gridcolor": "white",
            "linecolor": "white",
            "ticks": ""
           },
           "bgcolor": "#E5ECF6",
           "radialaxis": {
            "gridcolor": "white",
            "linecolor": "white",
            "ticks": ""
           }
          },
          "scene": {
           "xaxis": {
            "backgroundcolor": "#E5ECF6",
            "gridcolor": "white",
            "gridwidth": 2,
            "linecolor": "white",
            "showbackground": true,
            "ticks": "",
            "zerolinecolor": "white"
           },
           "yaxis": {
            "backgroundcolor": "#E5ECF6",
            "gridcolor": "white",
            "gridwidth": 2,
            "linecolor": "white",
            "showbackground": true,
            "ticks": "",
            "zerolinecolor": "white"
           },
           "zaxis": {
            "backgroundcolor": "#E5ECF6",
            "gridcolor": "white",
            "gridwidth": 2,
            "linecolor": "white",
            "showbackground": true,
            "ticks": "",
            "zerolinecolor": "white"
           }
          },
          "shapedefaults": {
           "line": {
            "color": "#2a3f5f"
           }
          },
          "ternary": {
           "aaxis": {
            "gridcolor": "white",
            "linecolor": "white",
            "ticks": ""
           },
           "baxis": {
            "gridcolor": "white",
            "linecolor": "white",
            "ticks": ""
           },
           "bgcolor": "#E5ECF6",
           "caxis": {
            "gridcolor": "white",
            "linecolor": "white",
            "ticks": ""
           }
          },
          "title": {
           "x": 0.05
          },
          "xaxis": {
           "automargin": true,
           "gridcolor": "white",
           "linecolor": "white",
           "ticks": "",
           "title": {
            "standoff": 15
           },
           "zerolinecolor": "white",
           "zerolinewidth": 2
          },
          "yaxis": {
           "automargin": true,
           "gridcolor": "white",
           "linecolor": "white",
           "ticks": "",
           "title": {
            "standoff": 15
           },
           "zerolinecolor": "white",
           "zerolinewidth": 2
          }
         }
        },
        "title": {
         "text": "Means of PCA Groups"
        },
        "xaxis": {
         "anchor": "y",
         "domain": [
          0,
          1
         ],
         "title": {
          "text": "PC1"
         }
        },
        "yaxis": {
         "anchor": "x",
         "domain": [
          0,
          1
         ],
         "title": {
          "text": "PC2"
         }
        }
       }
      },
      "text/html": [
       "<div>                            <div id=\"81c66660-7b09-4998-bcac-ae73cfd59882\" class=\"plotly-graph-div\" style=\"height:525px; width:100%;\"></div>            <script type=\"text/javascript\">                require([\"plotly\"], function(Plotly) {                    window.PLOTLYENV=window.PLOTLYENV || {};                                    if (document.getElementById(\"81c66660-7b09-4998-bcac-ae73cfd59882\")) {                    Plotly.newPlot(                        \"81c66660-7b09-4998-bcac-ae73cfd59882\",                        [{\"hovertemplate\":\"layers_type_string=None\\u003cbr\\u003ePC1=%{x}\\u003cbr\\u003ePC2=%{y}\\u003cextra\\u003e\\u003c\\u002fextra\\u003e\",\"legendgroup\":\"None\",\"marker\":{\"color\":\"#636efa\",\"symbol\":\"circle\"},\"mode\":\"markers\",\"name\":\"None\",\"orientation\":\"v\",\"showlegend\":true,\"x\":[0.32296040654182434],\"xaxis\":\"x\",\"y\":[-0.06379362940788269],\"yaxis\":\"y\",\"type\":\"scatter\"},{\"hovertemplate\":\"layers_type_string=all\\u003cbr\\u003ePC1=%{x}\\u003cbr\\u003ePC2=%{y}\\u003cextra\\u003e\\u003c\\u002fextra\\u003e\",\"legendgroup\":\"all\",\"marker\":{\"color\":\"#EF553B\",\"symbol\":\"circle\"},\"mode\":\"markers\",\"name\":\"all\",\"orientation\":\"v\",\"showlegend\":true,\"x\":[-0.362839937210083],\"xaxis\":\"x\",\"y\":[0.13944117724895477],\"yaxis\":\"y\",\"type\":\"scatter\"},{\"hovertemplate\":\"layers_type_string=attn\\u003cbr\\u003ePC1=%{x}\\u003cbr\\u003ePC2=%{y}\\u003cextra\\u003e\\u003c\\u002fextra\\u003e\",\"legendgroup\":\"attn\",\"marker\":{\"color\":\"#00cc96\",\"symbol\":\"circle\"},\"mode\":\"markers\",\"name\":\"attn\",\"orientation\":\"v\",\"showlegend\":true,\"x\":[-0.4160633087158203],\"xaxis\":\"x\",\"y\":[-0.060082923620939255],\"yaxis\":\"y\",\"type\":\"scatter\"},{\"hovertemplate\":\"layers_type_string=mlp\\u003cbr\\u003ePC1=%{x}\\u003cbr\\u003ePC2=%{y}\\u003cextra\\u003e\\u003c\\u002fextra\\u003e\",\"legendgroup\":\"mlp\",\"marker\":{\"color\":\"#ab63fa\",\"symbol\":\"circle\"},\"mode\":\"markers\",\"name\":\"mlp\",\"orientation\":\"v\",\"showlegend\":true,\"x\":[0.45594292879104614],\"xaxis\":\"x\",\"y\":[-0.015564635396003723],\"yaxis\":\"y\",\"type\":\"scatter\"}],                        {\"template\":{\"data\":{\"histogram2dcontour\":[{\"type\":\"histogram2dcontour\",\"colorbar\":{\"outlinewidth\":0,\"ticks\":\"\"},\"colorscale\":[[0.0,\"#0d0887\"],[0.1111111111111111,\"#46039f\"],[0.2222222222222222,\"#7201a8\"],[0.3333333333333333,\"#9c179e\"],[0.4444444444444444,\"#bd3786\"],[0.5555555555555556,\"#d8576b\"],[0.6666666666666666,\"#ed7953\"],[0.7777777777777778,\"#fb9f3a\"],[0.8888888888888888,\"#fdca26\"],[1.0,\"#f0f921\"]]}],\"choropleth\":[{\"type\":\"choropleth\",\"colorbar\":{\"outlinewidth\":0,\"ticks\":\"\"}}],\"histogram2d\":[{\"type\":\"histogram2d\",\"colorbar\":{\"outlinewidth\":0,\"ticks\":\"\"},\"colorscale\":[[0.0,\"#0d0887\"],[0.1111111111111111,\"#46039f\"],[0.2222222222222222,\"#7201a8\"],[0.3333333333333333,\"#9c179e\"],[0.4444444444444444,\"#bd3786\"],[0.5555555555555556,\"#d8576b\"],[0.6666666666666666,\"#ed7953\"],[0.7777777777777778,\"#fb9f3a\"],[0.8888888888888888,\"#fdca26\"],[1.0,\"#f0f921\"]]}],\"heatmap\":[{\"type\":\"heatmap\",\"colorbar\":{\"outlinewidth\":0,\"ticks\":\"\"},\"colorscale\":[[0.0,\"#0d0887\"],[0.1111111111111111,\"#46039f\"],[0.2222222222222222,\"#7201a8\"],[0.3333333333333333,\"#9c179e\"],[0.4444444444444444,\"#bd3786\"],[0.5555555555555556,\"#d8576b\"],[0.6666666666666666,\"#ed7953\"],[0.7777777777777778,\"#fb9f3a\"],[0.8888888888888888,\"#fdca26\"],[1.0,\"#f0f921\"]]}],\"heatmapgl\":[{\"type\":\"heatmapgl\",\"colorbar\":{\"outlinewidth\":0,\"ticks\":\"\"},\"colorscale\":[[0.0,\"#0d0887\"],[0.1111111111111111,\"#46039f\"],[0.2222222222222222,\"#7201a8\"],[0.3333333333333333,\"#9c179e\"],[0.4444444444444444,\"#bd3786\"],[0.5555555555555556,\"#d8576b\"],[0.6666666666666666,\"#ed7953\"],[0.7777777777777778,\"#fb9f3a\"],[0.8888888888888888,\"#fdca26\"],[1.0,\"#f0f921\"]]}],\"contourcarpet\":[{\"type\":\"contourcarpet\",\"colorbar\":{\"outlinewidth\":0,\"ticks\":\"\"}}],\"contour\":[{\"type\":\"contour\",\"colorbar\":{\"outlinewidth\":0,\"ticks\":\"\"},\"colorscale\":[[0.0,\"#0d0887\"],[0.1111111111111111,\"#46039f\"],[0.2222222222222222,\"#7201a8\"],[0.3333333333333333,\"#9c179e\"],[0.4444444444444444,\"#bd3786\"],[0.5555555555555556,\"#d8576b\"],[0.6666666666666666,\"#ed7953\"],[0.7777777777777778,\"#fb9f3a\"],[0.8888888888888888,\"#fdca26\"],[1.0,\"#f0f921\"]]}],\"surface\":[{\"type\":\"surface\",\"colorbar\":{\"outlinewidth\":0,\"ticks\":\"\"},\"colorscale\":[[0.0,\"#0d0887\"],[0.1111111111111111,\"#46039f\"],[0.2222222222222222,\"#7201a8\"],[0.3333333333333333,\"#9c179e\"],[0.4444444444444444,\"#bd3786\"],[0.5555555555555556,\"#d8576b\"],[0.6666666666666666,\"#ed7953\"],[0.7777777777777778,\"#fb9f3a\"],[0.8888888888888888,\"#fdca26\"],[1.0,\"#f0f921\"]]}],\"mesh3d\":[{\"type\":\"mesh3d\",\"colorbar\":{\"outlinewidth\":0,\"ticks\":\"\"}}],\"scatter\":[{\"fillpattern\":{\"fillmode\":\"overlay\",\"size\":10,\"solidity\":0.2},\"type\":\"scatter\"}],\"parcoords\":[{\"type\":\"parcoords\",\"line\":{\"colorbar\":{\"outlinewidth\":0,\"ticks\":\"\"}}}],\"scatterpolargl\":[{\"type\":\"scatterpolargl\",\"marker\":{\"colorbar\":{\"outlinewidth\":0,\"ticks\":\"\"}}}],\"bar\":[{\"error_x\":{\"color\":\"#2a3f5f\"},\"error_y\":{\"color\":\"#2a3f5f\"},\"marker\":{\"line\":{\"color\":\"#E5ECF6\",\"width\":0.5},\"pattern\":{\"fillmode\":\"overlay\",\"size\":10,\"solidity\":0.2}},\"type\":\"bar\"}],\"scattergeo\":[{\"type\":\"scattergeo\",\"marker\":{\"colorbar\":{\"outlinewidth\":0,\"ticks\":\"\"}}}],\"scatterpolar\":[{\"type\":\"scatterpolar\",\"marker\":{\"colorbar\":{\"outlinewidth\":0,\"ticks\":\"\"}}}],\"histogram\":[{\"marker\":{\"pattern\":{\"fillmode\":\"overlay\",\"size\":10,\"solidity\":0.2}},\"type\":\"histogram\"}],\"scattergl\":[{\"type\":\"scattergl\",\"marker\":{\"colorbar\":{\"outlinewidth\":0,\"ticks\":\"\"}}}],\"scatter3d\":[{\"type\":\"scatter3d\",\"line\":{\"colorbar\":{\"outlinewidth\":0,\"ticks\":\"\"}},\"marker\":{\"colorbar\":{\"outlinewidth\":0,\"ticks\":\"\"}}}],\"scattermapbox\":[{\"type\":\"scattermapbox\",\"marker\":{\"colorbar\":{\"outlinewidth\":0,\"ticks\":\"\"}}}],\"scatterternary\":[{\"type\":\"scatterternary\",\"marker\":{\"colorbar\":{\"outlinewidth\":0,\"ticks\":\"\"}}}],\"scattercarpet\":[{\"type\":\"scattercarpet\",\"marker\":{\"colorbar\":{\"outlinewidth\":0,\"ticks\":\"\"}}}],\"carpet\":[{\"aaxis\":{\"endlinecolor\":\"#2a3f5f\",\"gridcolor\":\"white\",\"linecolor\":\"white\",\"minorgridcolor\":\"white\",\"startlinecolor\":\"#2a3f5f\"},\"baxis\":{\"endlinecolor\":\"#2a3f5f\",\"gridcolor\":\"white\",\"linecolor\":\"white\",\"minorgridcolor\":\"white\",\"startlinecolor\":\"#2a3f5f\"},\"type\":\"carpet\"}],\"table\":[{\"cells\":{\"fill\":{\"color\":\"#EBF0F8\"},\"line\":{\"color\":\"white\"}},\"header\":{\"fill\":{\"color\":\"#C8D4E3\"},\"line\":{\"color\":\"white\"}},\"type\":\"table\"}],\"barpolar\":[{\"marker\":{\"line\":{\"color\":\"#E5ECF6\",\"width\":0.5},\"pattern\":{\"fillmode\":\"overlay\",\"size\":10,\"solidity\":0.2}},\"type\":\"barpolar\"}],\"pie\":[{\"automargin\":true,\"type\":\"pie\"}]},\"layout\":{\"autotypenumbers\":\"strict\",\"colorway\":[\"#636efa\",\"#EF553B\",\"#00cc96\",\"#ab63fa\",\"#FFA15A\",\"#19d3f3\",\"#FF6692\",\"#B6E880\",\"#FF97FF\",\"#FECB52\"],\"font\":{\"color\":\"#2a3f5f\"},\"hovermode\":\"closest\",\"hoverlabel\":{\"align\":\"left\"},\"paper_bgcolor\":\"white\",\"plot_bgcolor\":\"#E5ECF6\",\"polar\":{\"bgcolor\":\"#E5ECF6\",\"angularaxis\":{\"gridcolor\":\"white\",\"linecolor\":\"white\",\"ticks\":\"\"},\"radialaxis\":{\"gridcolor\":\"white\",\"linecolor\":\"white\",\"ticks\":\"\"}},\"ternary\":{\"bgcolor\":\"#E5ECF6\",\"aaxis\":{\"gridcolor\":\"white\",\"linecolor\":\"white\",\"ticks\":\"\"},\"baxis\":{\"gridcolor\":\"white\",\"linecolor\":\"white\",\"ticks\":\"\"},\"caxis\":{\"gridcolor\":\"white\",\"linecolor\":\"white\",\"ticks\":\"\"}},\"coloraxis\":{\"colorbar\":{\"outlinewidth\":0,\"ticks\":\"\"}},\"colorscale\":{\"sequential\":[[0.0,\"#0d0887\"],[0.1111111111111111,\"#46039f\"],[0.2222222222222222,\"#7201a8\"],[0.3333333333333333,\"#9c179e\"],[0.4444444444444444,\"#bd3786\"],[0.5555555555555556,\"#d8576b\"],[0.6666666666666666,\"#ed7953\"],[0.7777777777777778,\"#fb9f3a\"],[0.8888888888888888,\"#fdca26\"],[1.0,\"#f0f921\"]],\"sequentialminus\":[[0.0,\"#0d0887\"],[0.1111111111111111,\"#46039f\"],[0.2222222222222222,\"#7201a8\"],[0.3333333333333333,\"#9c179e\"],[0.4444444444444444,\"#bd3786\"],[0.5555555555555556,\"#d8576b\"],[0.6666666666666666,\"#ed7953\"],[0.7777777777777778,\"#fb9f3a\"],[0.8888888888888888,\"#fdca26\"],[1.0,\"#f0f921\"]],\"diverging\":[[0,\"#8e0152\"],[0.1,\"#c51b7d\"],[0.2,\"#de77ae\"],[0.3,\"#f1b6da\"],[0.4,\"#fde0ef\"],[0.5,\"#f7f7f7\"],[0.6,\"#e6f5d0\"],[0.7,\"#b8e186\"],[0.8,\"#7fbc41\"],[0.9,\"#4d9221\"],[1,\"#276419\"]]},\"xaxis\":{\"gridcolor\":\"white\",\"linecolor\":\"white\",\"ticks\":\"\",\"title\":{\"standoff\":15},\"zerolinecolor\":\"white\",\"automargin\":true,\"zerolinewidth\":2},\"yaxis\":{\"gridcolor\":\"white\",\"linecolor\":\"white\",\"ticks\":\"\",\"title\":{\"standoff\":15},\"zerolinecolor\":\"white\",\"automargin\":true,\"zerolinewidth\":2},\"scene\":{\"xaxis\":{\"backgroundcolor\":\"#E5ECF6\",\"gridcolor\":\"white\",\"linecolor\":\"white\",\"showbackground\":true,\"ticks\":\"\",\"zerolinecolor\":\"white\",\"gridwidth\":2},\"yaxis\":{\"backgroundcolor\":\"#E5ECF6\",\"gridcolor\":\"white\",\"linecolor\":\"white\",\"showbackground\":true,\"ticks\":\"\",\"zerolinecolor\":\"white\",\"gridwidth\":2},\"zaxis\":{\"backgroundcolor\":\"#E5ECF6\",\"gridcolor\":\"white\",\"linecolor\":\"white\",\"showbackground\":true,\"ticks\":\"\",\"zerolinecolor\":\"white\",\"gridwidth\":2}},\"shapedefaults\":{\"line\":{\"color\":\"#2a3f5f\"}},\"annotationdefaults\":{\"arrowcolor\":\"#2a3f5f\",\"arrowhead\":0,\"arrowwidth\":1},\"geo\":{\"bgcolor\":\"white\",\"landcolor\":\"#E5ECF6\",\"subunitcolor\":\"white\",\"showland\":true,\"showlakes\":true,\"lakecolor\":\"white\"},\"title\":{\"x\":0.05},\"mapbox\":{\"style\":\"light\"}}},\"xaxis\":{\"anchor\":\"y\",\"domain\":[0.0,1.0],\"title\":{\"text\":\"PC1\"}},\"yaxis\":{\"anchor\":\"x\",\"domain\":[0.0,1.0],\"title\":{\"text\":\"PC2\"}},\"legend\":{\"title\":{\"text\":\"layers_type_string\"},\"tracegroupgap\":0},\"title\":{\"text\":\"Means of PCA Groups\"}},                        {\"responsive\": true}                    ).then(function(){\n",
       "                            \n",
       "var gd = document.getElementById('81c66660-7b09-4998-bcac-ae73cfd59882');\n",
       "var x = new MutationObserver(function (mutations, observer) {{\n",
       "        var display = window.getComputedStyle(gd).display;\n",
       "        if (!display || display === 'none') {{\n",
       "            console.log([gd, 'removed!']);\n",
       "            Plotly.purge(gd);\n",
       "            observer.disconnect();\n",
       "        }}\n",
       "}});\n",
       "\n",
       "// Listen for the removal of the full notebook cells\n",
       "var notebookContainer = gd.closest('#notebook-container');\n",
       "if (notebookContainer) {{\n",
       "    x.observe(notebookContainer, {childList: true});\n",
       "}}\n",
       "\n",
       "// Listen for the clearing of the current output cell\n",
       "var outputEl = gd.closest('.output');\n",
       "if (outputEl) {{\n",
       "    x.observe(outputEl, {childList: true});\n",
       "}}\n",
       "\n",
       "                        })                };                });            </script>        </div>"
      ]
     },
     "metadata": {},
     "output_type": "display_data"
    }
   ],
   "source": [
    "import plotly.graph_objects as go\n",
    "pca_df = pd.DataFrame(embeddings_reduced, columns=['PC1', 'PC2'])\n",
    "pca_df['layers_type_string'] = results_df['layers_type_string']\n",
    "\n",
    "mean_pca_df = pca_df.groupby('layers_type_string').mean().reset_index()\n",
    "print(mean_pca_df.head())\n",
    "\n",
    "# fig.add_trace(px.scatter(mean_pca_df, x='PC1', y='PC2', color='temperature', symbol='layers_string', \n",
    "#                          title='Means of PCA Groups').data[0]):\n",
    "mean_pca_df['type'] = 'Mean'\n",
    "pca_df['type'] = 'Original'\n",
    "combined_df = pd.concat([pca_df, mean_pca_df], ignore_index=True)\n",
    "# fig = px.scatter(combined_df, x='PC1', y='PC2', color='temperature', symbol='layers_string', title='PCA of Sentence Embeddings')\n",
    "\n",
    "# Plot mean points\n",
    "mean_fig = px.scatter(mean_pca_df, x='PC1', y='PC2', color='layers_type_string', title='Means of PCA Groups')\n",
    "    \n",
    "\n",
    "mean_fig.show()"
   ]
  },
  {
   "cell_type": "code",
   "execution_count": 14,
   "metadata": {},
   "outputs": [],
   "source": [
    "fig.data=[]\n",
    "mean_fig.data = []"
   ]
  },
  {
   "cell_type": "code",
   "execution_count": 19,
   "metadata": {},
   "outputs": [
    {
     "name": "stdout",
     "output_type": "stream",
     "text": [
      "(640, 3)\n"
     ]
    },
    {
     "data": {
      "application/vnd.plotly.v1+json": {
       "config": {
        "plotlyServerURL": "https://plot.ly"
       },
       "data": [
        {
         "customdata": [
          [
           0.2,
           "None",
           "The first step in solving this equation is to isolate the variable term on one side of the equation."
          ],
          [
           0.2,
           "None",
           "Their conversation flowed effortlessly, like a river winding its way through a picturesque landscape"
          ],
          [
           0.2,
           "None",
           "Theory of Mind Exercises with detailed answers:\n\n1. Exercise: What might be going through John's min"
          ],
          [
           0.2,
           "None",
           "The first step in solving this puzzle is to identify the pattern. We can see that the first column i"
          ],
          [
           0.2,
           "None",
           "The first step in solving this problem is to understand the concept of a \"perfect square.\" A perfect"
          ],
          [
           0.2,
           "None",
           "The first step in solving this problem is to understand the concept of combinations. Combinations ar"
          ],
          [
           0.2,
           "None",
           "The first step in solving this problem is to understand the concept of combinations. Combinations ar"
          ],
          [
           0.2,
           "None",
           "The first step in solving this problem is to understand the relationship between the number of penci"
          ],
          [
           0.2,
           "None",
           "The term \"Economic Recession\" refers to a significant decline in economic activity spread across the"
          ],
          [
           0.2,
           "None",
           "The first step in solving this problem is to understand the concept of a \"prime number.\" A prime num"
          ],
          [
           0.2,
           "None",
           "The process of creating a customized jewelry piece involves several steps, each requiring attention "
          ],
          [
           0.2,
           "None",
           "The first step in solving this problem is to understand the concept of a \"prime palindrome.\" A prime"
          ],
          [
           0.2,
           "None",
           "The first step in solving this problem is to understand the concept of permutations. A permutation i"
          ],
          [
           0.2,
           "None",
           "The first step in solving this problem is to understand the relationship between the number of chick"
          ],
          [
           0.2,
           "None",
           "The concept of \"fairness\" in this context is subjective and can vary greatly depending on one's pers"
          ],
          [
           0.2,
           "None",
           "Their conversation flowed effortlessly, like a gentle stream winding its way through a lush forest. "
          ],
          [
           0.2,
           "None",
           "The first step in solving this problem is to understand the concept of a \"perfect square.\" A perfect"
          ],
          [
           0.2,
           "None",
           "The first step in this process is to identify the root cause of the problem. This requires a thoroug"
          ],
          [
           0.2,
           "None",
           "The first step in solving this problem is to understand the concept of permutations. A permutation i"
          ],
          [
           0.2,
           "None",
           "The study, led by Professor Jane Smith at the University of Health Sciences, involved a diverse grou"
          ],
          [
           0.5,
           "None",
           "In the context of the given document, the term \"Medicare\" refers to a federal health insurance progr"
          ],
          [
           0.5,
           "None",
           "Theory of Mind Exercises:\n\n1. What if Dr. Smith had not been so kind to the student? How would the s"
          ],
          [
           0.5,
           "None",
           "The town'emen, a group of townsfolk, are organizing a charity carnival to raise funds for the local "
          ],
          [
           0.5,
           "None",
           "Their conversation meandered through the complexities of the human condition, touching upon the intr"
          ],
          [
           0.5,
           "None",
           "The process of creating a customized plan for a client involves several steps. Firstly, it is essent"
          ],
          [
           0.5,
           "None",
           "The first step in this process is to identify the parts of speech of the words in the sentence. In t"
          ],
          [
           0.5,
           "None",
           "In the first year, the tree grew 1 foot.\n\nIn the second year, it grew as much as the first two years"
          ],
          [
           0.5,
           "None",
           "As a result, the economy is characterized by a high degree of uncertainty and unpredictability, lead"
          ],
          [
           0.5,
           "None",
           "The study, published in the Journal of Agricultural Science, found that cows fed with a combination "
          ],
          [
           0.5,
           "None",
           "The process of creating a monster movie often involves a blend of practical effects, computer-genera"
          ],
          [
           0.5,
           "None",
           "The town'emen, who had gathered to discuss the matter, were divided. Some argued that the church sho"
          ],
          [
           0.5,
           "None",
           "In this case, the \"object\" is the legal concept of \"double jeopquant\" under international law. The \""
          ],
          [
           0.5,
           "None",
           "The conversation between Lily and her mother, Mrs. Thompson, revolved around the upcoming school pla"
          ],
          [
           0.5,
           "None",
           "The researchers found that the microbes in the gut of obese individuals had a significantly lower di"
          ],
          [
           0.5,
           "None",
           "The process of making a traditional sushi roll is intricate and requires precision. It starts with p"
          ],
          [
           0.5,
           "None",
           "The professor, intrigued by the student's analogy, delved deeper into the subject, explaining how "
          ],
          [
           0.5,
           "None",
           "Their conversation meandered through topics of renewable energy, the impact of human activities on t"
          ],
          [
           0.5,
           "None",
           "However, not all of the time spent on these activities is productive. There are distractions that ca"
          ],
          [
           0.5,
           "None",
           "The debate over the definition of a word often reflects larger cultural battles, as seen with \"liter"
          ],
          [
           0.5,
           "None",
           "The scientists' work was crucial because it could lead to more effective treatments for patients suf"
          ],
          [
           0.8,
           "None",
           "The first task for the council was to review the proposed development agreement, which included plan"
          ],
          [
           0.8,
           "None",
           "Theory of Mind Exercises:\n\n1. What if the parents had not sought help from an early interventionist?"
          ],
          [
           0.8,
           "None",
           "In the context of a school environment, the teacher' birds song can be seen as a form of encourageme"
          ],
          [
           0.8,
           "None",
           "But alas, we must also acknowledge the shadows cast by these towering giants. The environmental impa"
          ],
          [
           0.8,
           "None",
           "The two worked together, using the principles of mathematics and logic to navigate the treacherous c"
          ],
          [
           0.8,
           "None",
           "To solve this puzzle, we need to place the words 'bicycle,' 'tire,' 'dynamo,' 'brake,' and 'handleba"
          ],
          [
           0.8,
           "None",
           "The analysis shows that the company's fiscal performance between January and March was quite stron"
          ],
          [
           0.8,
           "None",
           "As the sun rose over the small town, two young girls, Lucy and Emily, were playing outside. Lucy lov"
          ],
          [
           0.8,
           "None",
           "A. Sophia\nB. James\n\nAnswer:A\n"
          ],
          [
           0.8,
           "None",
           "Idempotency for a given state machine is determined by analyzing its set of states and transitions. "
          ],
          [
           0.8,
           "None",
           "Character Development:\nFirst, let's start with Romeo and Juliet. Despite the lovers' teenage years"
          ],
          [
           0.8,
           "None",
           "\n\"Conceptual Frameworks in the Analysis of Social Media's Role in Modern Education on the Platform o"
          ],
          [
           0.8,
           "None",
           "I. Introduction\n\nThe objective of this research was threefold: (1) to comprehend the impact of the p"
          ],
          [
           0.8,
           "None",
           "For years, Sarah had worked as a teacher in a school located in a rural area. Despite the lack of re"
          ],
          [
           0.8,
           "None",
           "In this story, you are a world-class software engineer named Alex. You are working on a project with"
          ],
          [
           0.8,
           "None",
           "But wait, there's more! Let's take a look at the world of baking. Baking is a precise art that requi"
          ],
          [
           0.8,
           "None",
           "One of the most effective ways to help someone overcome addiction is to teach them coping mechanisms"
          ],
          [
           0.8,
           "None",
           "The journey commenced with a sip of the nectar, a golden elixir from the 'Honeyed Harmony', an offer"
          ],
          [
           0.8,
           "None",
           "In the years 2000-2005, people used to gather around to watch shows like \"Friends\" or \"Seinfeld.\" Th"
          ],
          [
           0.8,
           "None",
           "For example, you might create a new 'Fruit' object and call the 'describe' method on it with the fol"
          ],
          [
           1.1,
           "None",
           "These concepts might not have existed when I first learned about math, but they're essential in fiel"
          ],
          [
           1.1,
           "None",
           "\nTheresa has a collection of 120 rare pens that she values at different prices according to their ra"
          ],
          [
           1.1,
           "None",
           "Our mission was to investigate a series of unexplained sightings of mystical creatures that seem to "
          ],
          [
           1.1,
           "None",
           "Dr. Peterson had always admired the way Dr. Harper handled his colleagues. He was able to do so behi"
          ],
          [
           1.1,
           "None",
           "But how do we define and measure these states? How do we ensure the reliability and validity of our "
          ],
          [
           1.1,
           "None",
           "Emma carefully measures out the volume of liquid using the graduated cylinder. She then pours the li"
          ],
          [
           1.1,
           "None",
           "At first glance, you might think, \"How in the world does this tie into a recipe?\" Believe it or not,"
          ],
          [
           1.1,
           "None",
           "11:30 AM: Workout Session\n\n- Time Management: Begin your workout session by scheduling a set amount "
          ],
          [
           1.1,
           "None",
           "The term used to describe the ability to distinguish certain speech sounds across various languages "
          ],
          [
           1.1,
           "None",
           "But how did people figure out that adding sodium bicromide is like adding a dose of medicine that is"
          ],
          [
           1.1,
           "None",
           "Just one hunt down, and it looked as if her persistence had been rewarded - she had found what she'd"
          ],
          [
           1.1,
           "None",
           "You know there are a fixed number of candies hidden beneath all the plates. We are here to determine"
          ],
          [
           1.1,
           "None",
           "The term \"transgender\" refers to individuals whose gender identity, gender expression, or both diver"
          ],
          [
           1.1,
           "None",
           "The implications of this research extend far beyond the confines of chemistry labs and into the hear"
          ],
          [
           1.1,
           "None",
           "\"What challenges did you face?\" was met by an image of individuals planting trees, which was followe"
          ],
          [
           1.1,
           "None",
           "Participant Feedback Survey\n\n1. Overall Satisfaction\n   ☐ Very satisfied\n   ☐ Satisfied\n   ☐ Dissati"
          ],
          [
           1.1,
           "None",
           "One popular musical composition from this topic is \"The Dancing Plant,\" composed by Jane Harmon in 1"
          ],
          [
           1.1,
           "None",
           "As the plane took off, John felt a sense of familiarity mixed with concern. He knew that the lack of"
          ],
          [
           1.1,
           "None",
           "In this scenario, one individual from Nation B seeks damages under both their domestic law and poten"
          ],
          [
           1.1,
           "None",
           "In their quest for solutions to combat these disorders, researchers have explored a range of pharmac"
          ]
         ],
         "hovertemplate": "Temperature: %{customdata[0]}<br>Transplanted Layers: %{customdata[1]}<br>Output: %{customdata[2]}",
         "legendgroup": "None",
         "marker": {
          "color": [
           0.2,
           0.2,
           0.2,
           0.2,
           0.2,
           0.2,
           0.2,
           0.2,
           0.2,
           0.2,
           0.2,
           0.2,
           0.2,
           0.2,
           0.2,
           0.2,
           0.2,
           0.2,
           0.2,
           0.2,
           0.5,
           0.5,
           0.5,
           0.5,
           0.5,
           0.5,
           0.5,
           0.5,
           0.5,
           0.5,
           0.5,
           0.5,
           0.5,
           0.5,
           0.5,
           0.5,
           0.5,
           0.5,
           0.5,
           0.5,
           0.8,
           0.8,
           0.8,
           0.8,
           0.8,
           0.8,
           0.8,
           0.8,
           0.8,
           0.8,
           0.8,
           0.8,
           0.8,
           0.8,
           0.8,
           0.8,
           0.8,
           0.8,
           0.8,
           0.8,
           1.1,
           1.1,
           1.1,
           1.1,
           1.1,
           1.1,
           1.1,
           1.1,
           1.1,
           1.1,
           1.1,
           1.1,
           1.1,
           1.1,
           1.1,
           1.1,
           1.1,
           1.1,
           1.1,
           1.1
          ],
          "coloraxis": "coloraxis",
          "symbol": "circle"
         },
         "mode": "markers",
         "name": "None",
         "scene": "scene",
         "showlegend": true,
         "type": "scatter3d",
         "x": [
          -0.27540943026542664,
          0.49287164211273193,
          0.10258710384368896,
          -0.2639755308628082,
          -0.24698087573051453,
          -0.27825790643692017,
          -0.39157235622406006,
          -0.3123570680618286,
          -0.13495945930480957,
          -0.25367310643196106,
          -0.20377163589000702,
          -0.3201119005680084,
          -0.3135276436805725,
          -0.3088288903236389,
          -0.07627356797456741,
          0.5367675423622131,
          -0.24272651970386505,
          -0.1725565493106842,
          -0.30282941460609436,
          -0.060126833617687225,
          -0.08422113955020905,
          0.17280423641204834,
          -0.1537090390920639,
          0.3696576952934265,
          -0.09050571918487549,
          -0.04287640005350113,
          -0.19322791695594788,
          -0.0877496674656868,
          -0.18707384169101715,
          -0.33480116724967957,
          0.23157444596290588,
          -0.09958947449922562,
          0.2707290053367615,
          -0.11958100646734238,
          -0.38276541233062744,
          0.1413198709487915,
          0.333863765001297,
          0.01803743652999401,
          0.10700676590204239,
          0.13046537339687347,
          0.125791996717453,
          0.09418018162250519,
          0.08556286990642548,
          -0.08573850244283676,
          0.25294166803359985,
          -0.08990257233381271,
          -0.09211298823356628,
          0.37385785579681396,
          0.09251129627227783,
          -0.1491459310054779,
          0.10032003372907639,
          0.05420903488993645,
          -0.14269977807998657,
          0.31858038902282715,
          0.11917472630739212,
          -0.2840513586997986,
          -0.11669463664293289,
          0.19336621463298798,
          0.08738143742084503,
          -0.14766527712345123,
          -0.1888088583946228,
          -0.056122880429029465,
          0.09840411692857742,
          0.17397333681583405,
          -0.052192699164152145,
          -0.0875542163848877,
          -0.19060473144054413,
          -0.27146804332733154,
          -0.20900791883468628,
          -0.17336463928222656,
          0.23938588798046112,
          -0.2095603495836258,
          0.009474842809140682,
          -0.17996801435947418,
          0.2714930772781372,
          -0.08141852915287018,
          0.0065466780215501785,
          0.2268436700105667,
          -0.12791147828102112,
          -0.12009453773498535
         ],
         "y": [
          0.08502326160669327,
          -0.025065962225198746,
          0.062443461269140244,
          0.05161517858505249,
          0.07936687022447586,
          -0.038431644439697266,
          -0.015208310447633266,
          -0.019249947741627693,
          0.2272355556488037,
          0.035722699016332626,
          -0.06092562526464462,
          -0.0479278601706028,
          0.06671257317066193,
          -0.023192662745714188,
          0.18087568879127502,
          -0.11074662208557129,
          0.07931054383516312,
          0.27179795503616333,
          -0.015118646435439587,
          0.1354324370622635,
          0.19896014034748077,
          0.12547677755355835,
          -0.08426836133003235,
          0.12770219147205353,
          0.09147696942090988,
          -0.025906037539243698,
          -0.022851329296827316,
          0.23718708753585815,
          -0.01802731491625309,
          0.058260589838027954,
          -0.08475576341152191,
          0.1635926216840744,
          -0.006761752534657717,
          0.10969779640436172,
          -0.13250799477100372,
          0.051445361226797104,
          0.13610371947288513,
          0.28001710772514343,
          0.0885024294257164,
          0.09479668736457825,
          -0.0014088910538703203,
          0.1391986906528473,
          -0.02817494422197342,
          0.1395900398492813,
          -0.04104919731616974,
          -0.008985280990600586,
          0.15220287442207336,
          -0.300660103559494,
          -0.014870286919176579,
          0.22286447882652283,
          0.0205842237919569,
          0.1401134878396988,
          0.1011541336774826,
          -0.09651351720094681,
          -0.018585601821541786,
          -0.09217683225870132,
          0.13323812186717987,
          -0.346983402967453,
          0.03879863768815994,
          0.04371988773345947,
          0.11716479063034058,
          -0.06133296713232994,
          -0.10843434184789658,
          0.1981373429298401,
          0.232498899102211,
          0.003590584732592106,
          -0.41053125262260437,
          0.13415123522281647,
          0.19994664192199707,
          -0.09767292439937592,
          -0.0813022255897522,
          -0.25447168946266174,
          0.13904310762882233,
          0.06624160706996918,
          0.03843807801604271,
          0.179118812084198,
          -0.1913766860961914,
          -0.05033005401492119,
          0.2528434991836548,
          0.11962956935167313
         ],
         "z": [
          0.02129363641142845,
          0.14070844650268555,
          0.028084993362426758,
          -0.14801573753356934,
          -0.044932182878255844,
          -0.03671777620911598,
          -0.06497283279895782,
          -0.06765693426132202,
          -0.18575149774551392,
          -0.16966523230075836,
          -0.0965055525302887,
          -0.07954905182123184,
          -0.0567602775990963,
          0.04383431375026703,
          -0.1298782378435135,
          0.12377893179655075,
          -0.08061310648918152,
          -0.21571405231952667,
          -0.03977524861693382,
          -0.1340232491493225,
          -0.10399752110242844,
          0.02606619894504547,
          -0.08740256726741791,
          0.01714389957487583,
          -0.0872051790356636,
          0.003021582495421171,
          -0.09743175655603409,
          -0.1403121054172516,
          -0.018069401383399963,
          -0.060686998069286346,
          -0.07404188811779022,
          -0.0013063749065622687,
          0.14247360825538635,
          -0.0782347023487091,
          0.06263239681720734,
          0.011372649110853672,
          -0.008087039925158024,
          -0.07811488211154938,
          -0.03461764007806778,
          -0.17121320962905884,
          -0.15156494081020355,
          -0.00008612460806034505,
          -0.10831301659345627,
          -0.3198142945766449,
          -0.017179248854517937,
          -0.10168357938528061,
          -0.12783749401569366,
          0.05878958851099014,
          -0.03527630493044853,
          -0.0695599913597107,
          -0.03062436915934086,
          -0.13881348073482513,
          -0.2622641921043396,
          -0.019330371171236038,
          -0.06386234611272812,
          0.108467236161232,
          -0.18895219266414642,
          0.004607467912137508,
          0.09837577491998672,
          0.03170068562030792,
          -0.11832985281944275,
          0.05938756465911865,
          -0.17853586375713348,
          0.07281738519668579,
          -0.07051107287406921,
          -0.008501981385052204,
          0.22518953680992126,
          -0.08054110407829285,
          -0.006057768128812313,
          0.016902534291148186,
          0.013814660720527172,
          0.06440646946430206,
          -0.1334650218486786,
          -0.016796899959445,
          -0.12738685309886932,
          -0.045753706246614456,
          -0.15782734751701355,
          -0.013913013972342014,
          -0.08960708975791931,
          -0.11348047107458115
         ]
        },
        {
         "customdata": [
          [
           0.2,
           "0 - 31",
           "The recipe calls for 2 cups of flour, 1 cup of sugar, and 4 eggs. If you want to make half of the re"
          ],
          [
           0.2,
           "0 - 31",
           "The recipe calls for 2 cups of flour, 1 cup of sugar, and 4 eggs. If you want to make half of the re"
          ],
          [
           0.2,
           "0 - 31",
           "The recipe calls for 2 cups of flour, 1 cup of sugar, and 4 eggs. If you want to make half of the re"
          ],
          [
           0.2,
           "0 - 31",
           "The recipe for this delectable treat calls for a cup of all-purandas flour, a cup of sugar, and a cu"
          ],
          [
           0.2,
           "0 - 31",
           "The recipe calls for 2 cups of flour, 1 cup of sugar, and 4 eggs. If you want to make half of the re"
          ],
          [
           0.2,
           "0 - 31",
           "The recipe calls for 2 cups of flour, 1 cup of sugar, and 4 eggs. If you want to make half of the re"
          ],
          [
           0.2,
           "0 - 31",
           "The following is a transcript of the document. Please extract the key points from the document and s"
          ],
          [
           0.2,
           "0 - 31",
           "The recipe for this delightful dessert is as follows:\n\nIngredients:\n- 1 cup of flour\n- 1 cup of suga"
          ],
          [
           0.2,
           "0 - 31",
           "The recipe for this delightful cake calls for a generous amount of butter, which adds a rich, butter"
          ],
          [
           0.2,
           "0 - 31",
           "The recipe for this delightful dish is as follows:\n\nIngredients:\n- 1 cup of flour\n- 1/2 cup of sugar"
          ],
          [
           0.2,
           "0 - 31",
           "The following is a transcript of the document:\n\n---\n\n**Title:**\n\nThe Impact of Social Media on Moder"
          ],
          [
           0.2,
           "0 - 31",
           "The recipe calls for 2 cups of flour, 1 cup of sugar, and 4 eggs. If you want to make half of the re"
          ],
          [
           0.2,
           "0 - 31",
           "The recipe for this delightful dessert is simple yet precise. Begin by preheating your oven to 350 d"
          ],
          [
           0.2,
           "0 - 31",
           "The following is a transcript of the document.\n\n---\n\n**Title:** The Ultimate Guide to Choosing the R"
          ],
          [
           0.2,
           "0 - 31",
           "The ingredients for this dish are simple yet flavorful. You will need:\n\n- 2 cups of cooked chickpeas"
          ],
          [
           0.2,
           "0 - 31",
           "The recipe for this delicious dessert is simple. First, gather all the ingredients: 1 cup of flour, "
          ],
          [
           0.2,
           "0 - 31",
           "The recipe for this delightful dish is as follows:\n\nIngredients:\n- 2 cups of fresh spinach\n- 1 cup o"
          ],
          [
           0.2,
           "0 - 31",
           "The recipe for this delightful dish is as follows:\n\nIngredients:\n\n- 2 cups of fresh spinach, washed "
          ],
          [
           0.2,
           "0 - 31",
           "The recipe for this delightful dessert is simple yet yields a rich and indulgent treat. Here's how y"
          ],
          [
           0.2,
           "0 - 31",
           "The recipe for this delicious dish is as follows:\n\nIngredients:\n- 1 cup of flour\n- 2 eggs\n- 1 cup of"
          ],
          [
           0.5,
           "0 - 31",
           "Here are the main points from the article:\n\n1. The concept of \"digital detox\" has gained popularity,"
          ],
          [
           0.5,
           "0 - 31",
           "The first step in making a classic Caesar salad is to prepare the dressing. This involves whisking t"
          ],
          [
           0.5,
           "0 - 31",
           "This recipe yields 16 servings, so each serving will contain approximately 27 calories. The calories"
          ],
          [
           0.5,
           "0 - 31",
           "The first thing you need to do is to create a new React component, let's call it `UserProfile`. This"
          ],
          [
           0.5,
           "0 - 31",
           "To share this story, follow these steps:\n\n1. **Choose a Platform**:\n   Decide where you want to shar"
          ],
          [
           0.5,
           "0 - 31",
           "Agora, para converter 18 quilogramas em libras, você pode usar a conversão: 1 quilograma = 2,20462 l"
          ],
          [
           0.5,
           "0 - 31",
           "The ingredients for this recipe are quite simple:\n\n- 2 cups of flour\n- 1 cup of sugar\n- 1 cup of but"
          ],
          [
           0.5,
           "0 - 31",
           "The following is the complete code for the solution:\n\n```python\ndef count_unique_paths(grid_size):\n "
          ],
          [
           0.5,
           "0 - 31",
           "Agora, você está pronto para escrever seu própemeneto de tese. Vamos ver como você pode fazer isso.\n"
          ],
          [
           0.5,
           "0 - 31",
           "Now, let's take a look at some real-world examples of how algebraic equations can be used in daily l"
          ],
          [
           0.5,
           "0 - 31",
           "This year, they decided to change things up and decided to buy a mix of both apples and oranges. The"
          ],
          [
           0.5,
           "0 - 31",
           "The first step is to identify the factors that contribute to muscle soreness and fatigue. These fact"
          ],
          [
           0.5,
           "0 - 31",
           "The first step in the solution is to understand the physical concept of an object moving through a f"
          ],
          [
           0.5,
           "0 - 31",
           "The recipe for this delightful dessert is as follows:\n\nIngredients:\n\n- 1 cup of fresh strawberries\n-"
          ],
          [
           0.5,
           "0 - 31",
           "With a sense of anticipation, I gathered my ingredients: a generous piece of chicken breast, a handf"
          ],
          [
           0.5,
           "0 - 31",
           "This year, the gardener's expenses for growing vegetables, flowers, and shrubs have increased by 3"
          ],
          [
           0.5,
           "0 - 31",
           "Here's a breakdown of the process:\n\n1. **Growth of the Root Hair**: Root hairs are tiny, hair-like e"
          ],
          [
           0.5,
           "0 - 31",
           "The recipe called for a blend of exotic spices, each carefully measured and mixed together. The chef"
          ],
          [
           0.5,
           "0 - 31",
           "The ingredients for the traditional Irish Soda Bread recipe are:\n\n1. 500 grams of plain flour\n2. 100"
          ],
          [
           0.5,
           "0 - 31",
           "Here's the recipe for this delightful dessert:\n\n**Ingredients:**\n\n- 2 cups of fresh strawberries (fr"
          ],
          [
           0.8,
           "0 - 31",
           "The story began in the small town of Havenwood, where everyone knew everyone. Ben, a quiet teenager "
          ],
          [
           0.8,
           "0 - 31",
           "Ingredients:\n\n- 2 ripe avocados (approx. 400g)\n- Juice of 1 lime\n- 2 tablespoons of chopped fresh ci"
          ],
          [
           0.8,
           "0 - 31",
           "The ingredients to be used were:\n1. A generous pinch of finely ground black pepper, amounting to app"
          ],
          [
           0.8,
           "0 - 31",
           "She heated the solution to a boiling point of 100°C on the stove in her kitchen, using her trusty ol"
          ],
          [
           0.8,
           "0 - 31",
           "And here is how to use the function and output the result:\n\n```python\ntext = \"Python and Python prog"
          ],
          [
           0.8,
           "0 - 31",
           "She begins by spreading her workout mat across a wooden floor, taking a moment to appreciate the smo"
          ],
          [
           0.8,
           "0 - 31",
           "This weekend, you've planned a camping trip to Bond Park. As you start packing, your spouse reminds "
          ],
          [
           0.8,
           "0 - 31",
           "The process begins with ensuring that the area of the image where the text will be inserted is accur"
          ],
          [
           0.8,
           "0 - 31",
           "She started by organizing her homework papers based on their subjects. Math went into one drawer, Sc"
          ],
          [
           0.8,
           "0 - 31",
           "The warmth of the sun, the vibrant blue of the sky, and the gentle sway of the trees were the perfec"
          ],
          [
           0.8,
           "0 - 31",
           "Ingredients:\n- 1 cup of boiled potatoes\n- 1/4 cup of chopped onions\n- 1/8 cup of chopped celery\n- 1/"
          ],
          [
           0.8,
           "0 - 31",
           "Agora você está pronto para escrever esse script de teste unitário em Python. Veja aqui como faço:\n\n"
          ],
          [
           0.8,
           "0 - 31",
           "To prepare for her upcoming exam, Alice begins by reviewing her notes on linear equations. She knows"
          ],
          [
           0.8,
           "0 - 31",
           "**The Process: An Intimate Dance**\n\nImagine a world where two entities—the meticulous Human and the "
          ],
          [
           0.8,
           "0 - 31",
           "With a bit of creativity, here's a humorous twist on a classic poem, \"Stopping by Woods on a Snowy E"
          ],
          [
           0.8,
           "0 - 31",
           "The story began in the town of Grafton, where everyone knew each other and the community thrived on "
          ],
          [
           0.8,
           "0 - 31",
           "The moment when I decided to leave home didn't appear in a dream, but I woke up from a vivid dream w"
          ],
          [
           0.8,
           "0 - 31",
           "She began by gathering all the necessary ingredients for her cake. Alice carefully measured the flou"
          ],
          [
           0.8,
           "0 - 31",
           "When gathering ingredients for her famous cinnamon rolls, Maria decides to source everything locally"
          ],
          [
           0.8,
           "0 - 31",
           "Here's the step-by-step recipe for our delightful mashed potato dish:\n\n1. Ingredient Gathering:\nTo m"
          ],
          [
           1.1,
           "0 - 31",
           "Her hands moved deftly, separating each grain of sand as if they were individual notes in an intrica"
          ],
          [
           1.1,
           "0 - 31",
           "This tale begins in a dystopian city, with towering gray monoliths and suffocating pollution that ch"
          ],
          [
           1.1,
           "0 - 31",
           "Living at a campsite surrounded by the greenery and vibrant life, Sarah was constantly reminded of t"
          ],
          [
           1.1,
           "0 - 31",
           "Agora, suponha que a distânкла de um objeto seja mudada para uma coordenada cartesiana $(0, 0, 0)$. "
          ],
          [
           1.1,
           "0 - 31",
           "Ingredients:\n- 250g dried figs, halved\n- 1/2 cup sugar\n- 2 tablespoons honey\n- Juice and grated zest"
          ],
          [
           1.1,
           "0 - 31",
           "This recipe will make 4 servings of stuffed bell peppers, rich in protein and full of antioquantives"
          ],
          [
           1.1,
           "0 - 31",
           "It is widely believed that when King Midas requested for his wish to come true, it was his wife Gay-"
          ],
          [
           1.1,
           "0 - 31",
           "Here is your exercise, paying special attention to syntax, object-oriented principles, and memory ma"
          ],
          [
           1.1,
           "0 - 31",
           "First, line up the decimal points and add columns without considering the decimal point as the end r"
          ],
          [
           1.1,
           "0 - 31",
           "This recipe results in 12 light and fluffy cupcakes. After baking, frost them generously with vanill"
          ],
          [
           1.1,
           "0 - 31",
           "The following is the text of the document translated into French for the linguist to edit and ensure"
          ],
          [
           1.1,
           "0 - 31",
           "The recipe as follows: mix flour and sugar until granules form. Crack an egg in, carefully mix until"
          ],
          [
           1.1,
           "0 - 31",
           "Now, gather round the flickering campfire for this year's celebration. 'Tis time for our very own Th"
          ],
          [
           1.1,
           "0 - 31",
           "This day, she felt an unfamiliar sense of calmness enveloping her, even if it wasn't the usual eupho"
          ],
          [
           1.1,
           "0 - 31",
           "Now let me adjust that into a narrative structure suitable for our audience'quantum entanglement nar"
          ],
          [
           1.1,
           "0 - 31",
           "It all began one quiet afternoon, when Benny discovered an unusual, silver pendant on the ground whi"
          ],
          [
           1.1,
           "0 - 31",
           "The recipe calls for:\n- 4 cups of all-purasons\n- 2 cups of sugar\n- 3 cups of water\n- Menthol\n- Purif"
          ],
          [
           1.1,
           "0 - 31",
           "The essay is going to explore the concept of 'compulsion' as experienced or represented by character"
          ],
          [
           1.1,
           "0 - 31",
           "With determination in her heart, she turned on her workstation and began typing away furiously. The "
          ],
          [
           1.1,
           "0 - 31",
           "Again with your own life: If I give up yoga now but would like to try again in the future, I have a "
          ]
         ],
         "hovertemplate": "Temperature: %{customdata[0]}<br>Transplanted Layers: %{customdata[1]}<br>Output: %{customdata[2]}",
         "legendgroup": "0 - 31",
         "marker": {
          "color": [
           0.2,
           0.2,
           0.2,
           0.2,
           0.2,
           0.2,
           0.2,
           0.2,
           0.2,
           0.2,
           0.2,
           0.2,
           0.2,
           0.2,
           0.2,
           0.2,
           0.2,
           0.2,
           0.2,
           0.2,
           0.5,
           0.5,
           0.5,
           0.5,
           0.5,
           0.5,
           0.5,
           0.5,
           0.5,
           0.5,
           0.5,
           0.5,
           0.5,
           0.5,
           0.5,
           0.5,
           0.5,
           0.5,
           0.5,
           0.5,
           0.8,
           0.8,
           0.8,
           0.8,
           0.8,
           0.8,
           0.8,
           0.8,
           0.8,
           0.8,
           0.8,
           0.8,
           0.8,
           0.8,
           0.8,
           0.8,
           0.8,
           0.8,
           0.8,
           0.8,
           1.1,
           1.1,
           1.1,
           1.1,
           1.1,
           1.1,
           1.1,
           1.1,
           1.1,
           1.1,
           1.1,
           1.1,
           1.1,
           1.1,
           1.1,
           1.1,
           1.1,
           1.1,
           1.1,
           1.1
          ],
          "coloraxis": "coloraxis",
          "symbol": "circle-open"
         },
         "mode": "markers",
         "name": "0 - 31",
         "scene": "scene",
         "showlegend": true,
         "type": "scatter3d",
         "x": [
          -0.502604067325592,
          -0.5029545426368713,
          -0.5029545426368713,
          -0.3926680088043213,
          -0.5138400793075562,
          -0.5100416541099548,
          -0.08196471631526947,
          -0.3759494423866272,
          -0.3431953489780426,
          -0.40188413858413696,
          0.1020766869187355,
          -0.5082259774208069,
          -0.42547816038131714,
          -0.36625245213508606,
          -0.4270753860473633,
          -0.43457451462745667,
          -0.3254951238632202,
          -0.3690209686756134,
          -0.43630144000053406,
          -0.4575890302658081,
          0.10031548887491226,
          -0.3665585517883301,
          -0.4287314713001251,
          -0.1928478479385376,
          -0.017141068354249,
          -0.3220246434211731,
          -0.4711857736110687,
          -0.2623957693576813,
          -0.032125070691108704,
          -0.18568381667137146,
          -0.1740512102842331,
          -0.17401888966560364,
          -0.3273952305316925,
          -0.3988158106803894,
          -0.3167722821235657,
          -0.21486687660217285,
          -0.2338893711566925,
          -0.01592722162604332,
          -0.44583478569984436,
          -0.36562663316726685,
          0.2230054885149002,
          -0.3720809817314148,
          -0.30300047993659973,
          -0.05912785977125168,
          -0.17491655051708221,
          -0.004355790093541145,
          -0.06227942928671837,
          -0.22275462746620178,
          0.004083036910742521,
          0.17874498665332794,
          -0.43534621596336365,
          -0.28508925437927246,
          0.015060843899846077,
          0.20667101442813873,
          0.11320678889751434,
          0.2662687599658966,
          0.16555316746234894,
          -0.3233378827571869,
          -0.15084169805049896,
          -0.48672357201576233,
          0.12460731714963913,
          0.26279881596565247,
          0.278118759393692,
          -0.23974059522151947,
          -0.4574146568775177,
          -0.3712461292743683,
          0.05713692307472229,
          -0.16533774137496948,
          -0.3987037241458893,
          -0.37322017550468445,
          -0.15711408853530884,
          -0.3379793167114258,
          -0.14458036422729492,
          0.384332537651062,
          0.26582807302474976,
          0.22307182848453522,
          -0.4177599251270294,
          0.16430194675922394,
          0.09777330607175827,
          -0.15429939329624176
         ],
         "y": [
          -0.363330602645874,
          -0.3385169208049774,
          -0.3385169208049774,
          -0.43060538172721863,
          -0.37163448333740234,
          -0.34968432784080505,
          0.19387920200824738,
          -0.5234526991844177,
          -0.3991554379463196,
          -0.5064284205436707,
          0.1957281231880188,
          -0.35284122824668884,
          -0.3816605806350708,
          -0.10618164390325546,
          -0.3468611538410187,
          -0.5108739137649536,
          -0.38255569338798523,
          -0.443452388048172,
          -0.24323990941047668,
          -0.5144088268280029,
          0.1621866226196289,
          -0.16300810873508453,
          -0.24624314904212952,
          0.05459754914045334,
          -0.08314884454011917,
          0.07487919181585312,
          -0.4260960817337036,
          0.022736968472599983,
          0.2295590192079544,
          0.1152307465672493,
          -0.03357546404004097,
          0.23043864965438843,
          0.05250338092446327,
          -0.36824870109558105,
          -0.26460763812065125,
          0.06579948961734772,
          0.04100777208805084,
          -0.38947874307632446,
          -0.21495802700519562,
          -0.40778282284736633,
          -0.023977594450116158,
          -0.3207049071788788,
          -0.34977975487709045,
          -0.14460919797420502,
          0.16203777492046356,
          0.02593982219696045,
          0.004283409100025892,
          0.04486512765288353,
          -0.1351194828748703,
          -0.14234477281570435,
          -0.38851067423820496,
          0.18132075667381287,
          0.03222503513097763,
          -0.17304080724716187,
          -0.21939592063426971,
          -0.14112761616706848,
          -0.02597496472299099,
          -0.24846476316452026,
          -0.16568410396575928,
          -0.2356046885251999,
          -0.2917787730693817,
          -0.1236981749534607,
          -0.18470458686351776,
          0.11208818107843399,
          -0.34717613458633423,
          -0.14590278267860413,
          -0.15289929509162903,
          0.13278841972351074,
          -0.0325801819562912,
          -0.2164795994758606,
          -0.034389678388834,
          -0.3132891356945038,
          -0.22166649997234344,
          -0.1273709535598755,
          0.03313898295164108,
          -0.27437976002693176,
          -0.3539644479751587,
          -0.15797285735607147,
          0.0031116860918700695,
          0.030856255441904068
         ],
         "z": [
          0.2945905923843384,
          0.28970834612846375,
          0.28970834612846375,
          0.29238420724868774,
          0.3054411709308624,
          0.28896450996398926,
          -0.10839179903268814,
          0.3860216438770294,
          0.31903716921806335,
          0.3788807690143585,
          -0.010820726864039898,
          0.3027760684490204,
          0.27004316449165344,
          0.0844816192984581,
          0.29501208662986755,
          0.39528676867485046,
          0.2923872470855713,
          0.34789350628852844,
          0.24326758086681366,
          0.3840014934539795,
          -0.22772212326526642,
          0.10106921195983887,
          0.22983507812023163,
          -0.08218369632959366,
          -0.059281643480062485,
          -0.04040515050292015,
          0.38430795073509216,
          -0.17761725187301636,
          -0.1405911147594452,
          -0.08468248695135117,
          0.13297797739505768,
          -0.16837665438652039,
          -0.10785036534070969,
          0.27338409423828125,
          0.28617537021636963,
          -0.05227433517575264,
          -0.12763482332229614,
          0.14784692227840424,
          0.16435344517230988,
          0.32404306530952454,
          0.02817419543862343,
          0.21750886738300323,
          0.22263456881046295,
          0.04566418379545212,
          -0.07436958700418472,
          -0.045599352568387985,
          -0.13087652623653412,
          0.007683558855205774,
          -0.01622101478278637,
          -0.0035543867852538824,
          0.31200480461120605,
          -0.10199718922376633,
          0.05745670944452286,
          -0.21359355747699738,
          -0.045234180986881256,
          -0.10843244194984436,
          -0.017460789531469345,
          0.20861992239952087,
          0.11098699271678925,
          0.23016461730003357,
          -0.011308022774755955,
          -0.36626413464546204,
          -0.11997225135564804,
          -0.1431596577167511,
          0.3000391721725464,
          0.20537284016609192,
          -0.06508412957191467,
          -0.005154132843017578,
          -0.088643379509449,
          0.1616060435771942,
          -0.21837779879570007,
          0.33141231536865234,
          0.11020521074533463,
          -0.025305937975645065,
          0.08666907250881195,
          0.048739392310380936,
          0.15526671707630157,
          -0.11890177428722382,
          -0.02434488572180271,
          -0.2496049553155899
         ]
        },
        {
         "customdata": [
          [
           0.2,
           "0 - 10",
           "The story of the two friends, Alice and Bob, serves as a reminder that while technology and innovati"
          ],
          [
           0.2,
           "0 - 10",
           "The story of the ancient Egyptians and their belief in the afterlife is a fascinating one. They beli"
          ],
          [
           0.2,
           "0 - 10",
           "The story of the two friends, Alex and Jamie, unfolds in a small town where the community values bot"
          ],
          [
           0.2,
           "0 - 10",
           "As the story progresses, the reader discoquantly learns about the protagonist's past, which has led "
          ],
          [
           0.2,
           "0 - 10",
           "The story of the day'emen and the day'women, as told by the old storyteller, serves as a reminder of"
          ],
          [
           0.2,
           "0 - 10",
           "The story of the two friends, Alex and Jamie, unfolded in a world where the pursuit of knowledge was"
          ],
          [
           0.2,
           "0 - 10",
           "The story of the 2018 FIFA World Cup in Russia is a tale of triumph and tribulation. It began with a"
          ],
          [
           0.2,
           "0 - 10",
           "The story of the town'emen, the town's people, was one of resilience and unity. They had faced many "
          ],
          [
           0.2,
           "0 - 10",
           "The story of the two friends, Sarah and Emily, revolved around their shared passion for fitness and "
          ],
          [
           0.2,
           "0 - 10",
           "As the sun began to set, casting a warm golden glow over the park, the group of friends gathered the"
          ],
          [
           0.2,
           "0 - 10",
           "The story of the town'emen, the town's people, was one of resilience and determination. They had fac"
          ],
          [
           0.2,
           "0 - 10",
           "The story of the small town of Harmonyville is a testament to the power of unity and the importance "
          ],
          [
           0.2,
           "0 - 10",
           "The story of the two friends, Alice and Bob, unfolds in the context of a world where the pursuit of "
          ],
          [
           0.2,
           "0 - 10",
           "The story of the \"Eternal Flame\" was not just about a mythical flame that never went out. It was a t"
          ],
          [
           0.2,
           "0 - 10",
           "The story of the three friends, Alice, Bob, and Charlie, revolves around their shared passion for ma"
          ],
          [
           0.2,
           "0 - 10",
           "The story of the two brothers, Alex and Ben, perfectly illustrates the concept of opportunity cost. "
          ],
          [
           0.2,
           "0 - 10",
           "The story of the two friends, Alex and Jamie, unfolds as they navigate the complexities of life and "
          ],
          [
           0.2,
           "0 - 10",
           "The story of the town' electrons, protons, and neutrons, was not just a tale of particles and forces"
          ],
          [
           0.2,
           "0 - 10",
           "The story of the town'emen and the mysterious stranger began when the stranger arrived in town. He w"
          ],
          [
           0.2,
           "0 - 10",
           "The story of the two friends, Alice and Bob, is a testament to the power of shared interests and the"
          ],
          [
           0.5,
           "0 - 10",
           "As he sat in his office, surrounded by stacks of documents and the hum of the air conditioning, John"
          ],
          [
           0.5,
           "0 - 10",
           "It was a bustling day at the local market, with vendors shouting out their wares and the aroma of fr"
          ],
          [
           0.5,
           "0 - 10",
           "The researchers found that after 12 weeks of treatment, participants who took the omega-3 supplement"
          ],
          [
           0.5,
           "0 - 10",
           "The tale of the Crab Nebula and its intricate dance of cosmic forces serves as a poignant reminder o"
          ],
          [
           0.5,
           "0 - 10",
           "The story of Sarah'quant journey had spread far and wide, reaching even the most remote corners of t"
          ],
          [
           0.5,
           "0 - 10",
           "As the sun began to set, casting a warm golden glow over the park, Sarah and Emily sat on a bench, r"
          ],
          [
           0.5,
           "0 - 10",
           "The story of Sarah and John serves as a reminder that every action has consequences, and even small "
          ],
          [
           0.5,
           "0 - 10",
           "As the story progresses, it becomes evident that the seemingly mundane objects hold immense power. T"
          ],
          [
           0.5,
           "0 - 10",
           "As the day progressed, the warmth of the sun intensified, making the temperature soar. The heat seem"
          ],
          [
           0.5,
           "0 - 10",
           "It was a cold winter morning when Sarah, a single mother of two, walked into her local grocemen's st"
          ],
          [
           0.5,
           "0 - 10",
           "The story of the bacteria and the antibiotic is a tale of evolution and survival. As the bacteria po"
          ],
          [
           0.5,
           "0 - 10",
           "In the end, it was not just about the physical appearance of the house but also about the emotions a"
          ],
          [
           0.5,
           "0 - 10",
           "As the day wore on, the group's energy began to wane. The adults were getting restless, while the "
          ],
          [
           0.5,
           "0 - 10",
           "As the sun began to set, casting a warm glow over the meadow, Lily plucked the flowers with a gentle"
          ],
          [
           0.5,
           "0 - 10",
           "The story of \"The Curious Case of the Cookie Jar\" unfolds in a small but cozy kitchen, where an inno"
          ],
          [
           0.5,
           "0 - 10",
           "As the story unfolds, it becomes evident that the protagonist'emen, who we shall refer to as Alex, p"
          ],
          [
           0.5,
           "0 - 10",
           "The story of John'emen, a young man from a small village in the heart of Africa, is a testament to t"
          ],
          [
           0.5,
           "0 - 10",
           "The story of this remarkable woman and her journey towards recovery is a testament to the power of r"
          ],
          [
           0.5,
           "0 - 10",
           "However, there are exceptions to this rule. For example, if a company has an established policy of p"
          ],
          [
           0.5,
           "0 - 10",
           "As the story unfolds, the intertwining lives of four characters, including the protagonist, take cen"
          ],
          [
           0.8,
           "0 - 10",
           "The narrative of this discovery is not just about numbers but about the human spirit that drives us "
          ],
          [
           0.8,
           "0 - 10",
           "As it relates to the broader discussion of energy policy, the adoption of biofuels like those produc"
          ],
          [
           0.8,
           "0 - 10",
           "Suddenly, Alex paused. They peered into his own eyes, a mirror reflecting back at them. Alex saw som"
          ],
          [
           0.8,
           "0 - 10",
           "While some of them may have been genuine collectors, others simply wanted to impress their friends w"
          ],
          [
           0.8,
           "0 - 10",
           "As they sat down to discuss the matter, Alice recalled reading about the harmful effects of chemical"
          ],
          [
           0.8,
           "0 - 10",
           "As the sun set on another day, the team packed up their equipment, sharing stories and laughter. The"
          ],
          [
           0.8,
           "0 - 10",
           "The story of the \"Dear Governor\" letters unfolded like a riveting mystery, with pieces falling into "
          ],
          [
           0.8,
           "0 - 10",
           "However, despite all the benefits, there are also some negative side effects of taking vitamimetics."
          ],
          [
           0.8,
           "0 - 10",
           "As the day progressed, tensions began to rise. The community was divided between those who believed "
          ],
          [
           0.8,
           "0 - 10",
           "However, the question contains an error, as the correct solution for x is x = 15. This means that th"
          ],
          [
           0.8,
           "0 - 10",
           "As a result of this, we can see that the relationship between these two sentences is that of an enta"
          ],
          [
           0.8,
           "0 - 10",
           "As a result of the legal proceedings, the company released a statement acknowledging the accusations"
          ],
          [
           0.8,
           "0 - 10",
           "As they continued to play, they began to notice a pattern in the music they were creating. It was as"
          ],
          [
           0.8,
           "0 - 10",
           "The story of the day would be incomplete without mentioning the lioness's cubs. The animals were cur"
          ],
          [
           0.8,
           "0 - 10",
           "Even though it's a well-known fact among those involved in such projects, the details of these initi"
          ],
          [
           0.8,
           "0 - 10",
           "Not willing to give up yet, John decided to dig deeper into the company's history. He researched its"
          ],
          [
           0.8,
           "0 - 10",
           "Amid rumors of a new rivalry brewing between teammates, Serena found herself at the center of it all"
          ],
          [
           0.8,
           "0 - 10",
           "Despquant, nous devons trouver le PGCD de 14 et 42 pour simplifier la fraction. Le PGCD de 14 et 42 "
          ],
          [
           0.8,
           "0 - 10",
           "Despquant, nous pouvons déterminer le nombre de nombres premiers de Fermat avec un nombre x de chiff"
          ],
          [
           0.8,
           "0 - 10",
           "It wasn't until years later that I realized the impact of my actions. My refusal to comply had cause"
          ],
          [
           1.1,
           "0 - 10",
           "Just as his breakthrough seemed imminent, unexpected events occurred. The hospital network was hit w"
          ],
          [
           1.1,
           "0 - 10",
           "The textbook section you have appears to deal with a medical procedure involving blood pressure meas"
          ],
          [
           1.1,
           "0 - 10",
           "Just then, they noticed a group of ants marching single file along the counter. Max pointed at them "
          ],
          [
           1.1,
           "0 - 10",
           "The government had created an environment for local communities to flourish, encouraging the revital"
          ],
          [
           1.1,
           "0 - 10",
           "However, to solve this logical puzzle, we need a full set of 12 statements about the group members a"
          ],
          [
           1.1,
           "0 - 10",
           "Their story serves as a powerful reminder that it'emenzation of change comes when individuals challe"
          ],
          [
           1.1,
           "0 - 10",
           "The group of people who are gathered in the local park are partaking in a unique gathering, one not "
          ],
          [
           1.1,
           "0 - 10",
           "With every twist, you delve deeper into the heart of this world. But remember, time is a fickle frie"
          ],
          [
           1.1,
           "0 - 10",
           "It was clear that the mother was trying to teach her infant how to tie his shoes, but she was strugg"
          ],
          [
           1.1,
           "0 - 10",
           "The story climaxed back at their shared apartment in Philadelphia, when Drew found himself drawn tow"
          ],
          [
           1.1,
           "0 - 10",
           "Justin, a budding filmmaker, had a passion for creating short independent films. He was a bit on a t"
          ],
          [
           1.1,
           "0 - 10",
           "However, if we assume that by \"twice each value,\" it means doubling all the Y-values for plotting or"
          ],
          [
           1.1,
           "0 - 10",
           "Despotta che sia la sorgente di illuminazione naturale un fulmine o il sole che attraversa attravers"
          ],
          [
           1.1,
           "0 - 10",
           "As their relationship progresses, Emma confesses her love for Alex and offers to move in together. A"
          ],
          [
           1.1,
           "0 - 10",
           "Despemen tina sella kohtana mit mut unipala ja kuul, mis saadud ma valisid ja oma palm on. Parempi o"
          ],
          [
           1.1,
           "0 - 10",
           "As the story of \"The Tale of Two Wolves\" spread, it sparked curiosity and engagement among visitors "
          ],
          [
           1.1,
           "0 - 10",
           "Just as the sun reached its zenith, their meeting concluded, and the friends parted ways, knowing th"
          ],
          [
           1.1,
           "0 - 10",
           "Finally, with cautious anticipation, John unsealed the letter. His worst fears were confirmed as he "
          ],
          [
           1.1,
           "0 - 10",
           "Suddenly, out of the darkness, a hand jerked free and a figure was seen stepping forward into the ba"
          ],
          [
           1.1,
           "0 - 10",
           "Just as the jute sacks were placed in rows, we came across a peculiar set of footprints. They seemed"
          ]
         ],
         "hovertemplate": "Temperature: %{customdata[0]}<br>Transplanted Layers: %{customdata[1]}<br>Output: %{customdata[2]}",
         "legendgroup": "0 - 10",
         "marker": {
          "color": [
           0.2,
           0.2,
           0.2,
           0.2,
           0.2,
           0.2,
           0.2,
           0.2,
           0.2,
           0.2,
           0.2,
           0.2,
           0.2,
           0.2,
           0.2,
           0.2,
           0.2,
           0.2,
           0.2,
           0.2,
           0.5,
           0.5,
           0.5,
           0.5,
           0.5,
           0.5,
           0.5,
           0.5,
           0.5,
           0.5,
           0.5,
           0.5,
           0.5,
           0.5,
           0.5,
           0.5,
           0.5,
           0.5,
           0.5,
           0.5,
           0.8,
           0.8,
           0.8,
           0.8,
           0.8,
           0.8,
           0.8,
           0.8,
           0.8,
           0.8,
           0.8,
           0.8,
           0.8,
           0.8,
           0.8,
           0.8,
           0.8,
           0.8,
           0.8,
           0.8,
           1.1,
           1.1,
           1.1,
           1.1,
           1.1,
           1.1,
           1.1,
           1.1,
           1.1,
           1.1,
           1.1,
           1.1,
           1.1,
           1.1,
           1.1,
           1.1,
           1.1,
           1.1,
           1.1,
           1.1
          ],
          "coloraxis": "coloraxis",
          "symbol": "cross"
         },
         "mode": "markers",
         "name": "0 - 10",
         "scene": "scene",
         "showlegend": true,
         "type": "scatter3d",
         "x": [
          0.3002357482910156,
          0.02027677372097969,
          0.33967238664627075,
          0.30635926127433777,
          0.2721363604068756,
          0.3549553453922272,
          0.06455740332603455,
          0.3889401853084564,
          0.2970649302005768,
          0.3946293592453003,
          0.3009486198425293,
          0.2419584095478058,
          0.22883182764053345,
          0.17129848897457123,
          0.05406606197357178,
          0.09143204241991043,
          0.3791806697845459,
          0.2726903557777405,
          0.2050146609544754,
          0.24585743248462677,
          0.3577284812927246,
          0.2760140001773834,
          -0.11228839308023453,
          -0.012040017172694206,
          0.35376474261283875,
          0.4428076446056366,
          0.34363773465156555,
          0.18294017016887665,
          0.2857924997806549,
          0.20271870493888855,
          -0.09039135277271271,
          0.3440338969230652,
          0.29974034428596497,
          0.17085351049900055,
          0.09346424788236618,
          0.35567066073417664,
          0.22371983528137207,
          0.19043143093585968,
          -0.20002053678035736,
          0.41353940963745117,
          0.23801955580711365,
          -0.1896154284477234,
          0.28830254077911377,
          0.13352937996387482,
          0.1769867241382599,
          0.23219788074493408,
          0.2064361274242401,
          -0.21527086198329926,
          0.33931171894073486,
          -0.31547680497169495,
          -0.005981503985822201,
          0.07776762545108795,
          0.1548154503107071,
          0.17424488067626953,
          -0.05299017205834389,
          0.09214127063751221,
          0.286624550819397,
          -0.38524436950683594,
          -0.33987507224082947,
          0.16261789202690125,
          0.2718549370765686,
          -0.24190199375152588,
          0.1448361873626709,
          0.28908491134643555,
          -0.1071300134062767,
          0.2858567535877228,
          0.3069477379322052,
          0.1269281953573227,
          0.2312222123146057,
          0.3445761799812317,
          0.1356385499238968,
          -0.19215744733810425,
          -0.16694706678390503,
          0.3074750304222107,
          0.00044266507029533386,
          0.15344595909118652,
          0.3781967759132385,
          0.28508853912353516,
          0.24208830296993256,
          0.12478093802928925
         ],
         "y": [
          0.018277227878570557,
          -0.04818760231137276,
          -0.05051868408918381,
          -0.09665948152542114,
          -0.10855890065431595,
          0.0035665403120219707,
          0.000026457042622496374,
          -0.2641895115375519,
          -0.0746350884437561,
          -0.21975813806056976,
          -0.16066087782382965,
          -0.1622735857963562,
          -0.036550384014844894,
          -0.2797314524650574,
          -0.09906300157308578,
          0.07561589032411575,
          -0.07842681556940079,
          -0.10099904239177704,
          -0.23974056541919708,
          -0.0021965689957141876,
          0.05214782804250717,
          -0.15109792351722717,
          0.10115435719490051,
          -0.054434411227703094,
          -0.24323619902133942,
          -0.26206108927726746,
          -0.1065899133682251,
          -0.2507595121860504,
          -0.14032354950904846,
          -0.01455143466591835,
          0.09209135919809341,
          -0.15836656093597412,
          -0.09763069450855255,
          -0.35735437273979187,
          -0.3901689350605011,
          -0.0823514312505722,
          -0.1502450853586197,
          -0.13954204320907593,
          0.12834610044956207,
          -0.17399081587791443,
          0.005634235218167305,
          0.10987325012683868,
          -0.04730366915464401,
          -0.2097756266593933,
          -0.10485745966434479,
          0.02434425801038742,
          -0.06932447850704193,
          0.08619017153978348,
          -0.19494090974330902,
          0.04438403993844986,
          0.16981682181358337,
          0.17795483767986298,
          -0.015550055541098118,
          -0.30756285786628723,
          0.12373059242963791,
          0.0852690115571022,
          -0.12765762209892273,
          0.027471128851175308,
          -0.01654692366719246,
          -0.04327075555920601,
          0.030599670484662056,
          0.06742614507675171,
          -0.15537916123867035,
          -0.1396108865737915,
          0.04119456931948662,
          0.04803219065070152,
          -0.13340847194194794,
          0.04081098362803459,
          -0.10493095219135284,
          -0.30241549015045166,
          -0.13406769931316376,
          0.08502932637929916,
          0.10060219466686249,
          0.0076155951246619225,
          0.04890945926308632,
          -0.16115161776542664,
          -0.14709056913852692,
          -0.19845373928546906,
          -0.09275157004594803,
          -0.21264471113681793
         ],
         "z": [
          -0.04639744758605957,
          -0.1662553995847702,
          -0.09919428080320358,
          -0.06151806190609932,
          -0.09451089799404144,
          -0.10854505002498627,
          -0.1953626424074173,
          -0.15927250683307648,
          0.07214341312646866,
          -0.0016028807731345296,
          -0.22203990817070007,
          -0.16288338601589203,
          0.10919786244630814,
          -0.15805836021900177,
          0.16874569654464722,
          -0.040227260440588,
          0.11942911148071289,
          -0.0981251671910286,
          -0.0605228915810585,
          0.014701858162879944,
          0.04427136480808258,
          0.07676839083433151,
          -0.05738824978470802,
          -0.1299283355474472,
          -0.16682405769824982,
          0.05642082542181015,
          -0.17838767170906067,
          -0.1299271583557129,
          -0.09910024702548981,
          -0.005648081190884113,
          -0.1898263841867447,
          0.07604322582483292,
          0.03574924170970917,
          -0.03666321933269501,
          0.05574896186590195,
          -0.14667212963104248,
          -0.12264630198478699,
          -0.1227836012840271,
          -0.04999658465385437,
          -0.12501288950443268,
          -0.2412215918302536,
          -0.1901853084564209,
          -0.02679944969713688,
          -0.07603690028190613,
          0.12301293015480042,
          -0.23955358564853668,
          -0.0036464689765125513,
          -0.000019500352209433913,
          -0.10439935326576233,
          0.02565827965736389,
          0.2071051150560379,
          -0.1286182850599289,
          -0.11799219995737076,
          -0.05113256350159645,
          -0.2954072952270508,
          -0.08147460222244263,
          -0.09456102550029755,
          -0.04564489796757698,
          -0.04793918877840042,
          -0.13078856468200684,
          -0.10676176100969315,
          -0.1057320386171341,
          0.1213105246424675,
          -0.11738655716180801,
          0.045827899128198624,
          -0.23010748624801636,
          -0.10819825530052185,
          -0.11431103199720383,
          0.15651294589042664,
          0.013998934999108315,
          -0.04797740653157234,
          0.009730646386742592,
          -0.29943525791168213,
          0.11825393885374069,
          0.04793763533234596,
          -0.1212468221783638,
          0.04140995070338249,
          -0.11356339603662491,
          0.16441543400287628,
          -0.06659764796495438
         ]
        },
        {
         "customdata": [
          [
           0.2,
           "0 - 15",
           "One day, as I was walking through the bustling streets of the city, I stumbled upon a small, quaint "
          ],
          [
           0.2,
           "0 - 15",
           "In the heart of the bustling city, nestled between towering skyscandas, stood a quaint little bookst"
          ],
          [
           0.2,
           "0 - 15",
           "In the heart of the bustling city, a young woman named Emily found solace in her daily walks through"
          ],
          [
           0.2,
           "0 - 15",
           "In the heart of the city, where the skyline kissed the clouds, stood a magnificent skyscraper. Its g"
          ],
          [
           0.2,
           "0 - 15",
           "In the heart of the bustling city, where the relentless hum of daily life never ceased, there was a "
          ],
          [
           0.2,
           "0 - 15",
           "One day, a young girl named Lily came to visit the village. She was fascinated by the stories of the"
          ],
          [
           0.2,
           "0 - 15",
           "One day, a young couple came to visit the village. They were looking for a place to settle down and "
          ],
          [
           0.2,
           "0 - 15",
           "One day, a young girl named Lily came to visit the village. She was fascinated by the stories of the"
          ],
          [
           0.2,
           "0 - 15",
           "One day, as I was walking through the park, I noticed a group of people gathered around a street per"
          ],
          [
           0.2,
           "0 - 15",
           "One day, a young couple named Sarah and John came to visit the village. They were looking for a plac"
          ],
          [
           0.2,
           "0 - 15",
           "One day, a young girl named Lily came to visit the garden. She was fascinated by the vibrant colors "
          ],
          [
           0.2,
           "0 - 15",
           "One day, Sarah and Emily decided to take a break from their usual routine and go on a road trip. The"
          ],
          [
           0.2,
           "0 - 15",
           "One day, Sarah decided to take a break from her work and go for a walk in the park. As she strolled "
          ],
          [
           0.2,
           "0 - 15",
           "One day, while working on a particularly challenging project, Alex's computer suddenly shut down. Pa"
          ],
          [
           0.2,
           "0 - 15",
           "In the heart of the bustling city, where the relentless hum of urban life never ceased, there was a "
          ],
          [
           0.2,
           "0 - 15",
           "In the heart of the bustling city, where the cacophony of urban life never ceased, there was a small"
          ],
          [
           0.2,
           "0 - 15",
           "One day, while walking through the park, I noticed a group of people gathered around a small, abando"
          ],
          [
           0.2,
           "0 - 15",
           "One day, while working on a new project, I stumbled upon a mysterious old book hidden in the depths "
          ],
          [
           0.2,
           "0 - 15",
           "In the heart of the bustling city, nestled between towering skyscimeters, stood a quaint little bake"
          ],
          [
           0.2,
           "0 - 15",
           "One day, a young girl named Lily came to visit the garden. She was fascinated by the vibrant colors "
          ],
          [
           0.5,
           "0 - 15",
           "**Instruction 2 (More difficult with at least 3 more constraints):**\n\n Analyze the document provided"
          ],
          [
           0.5,
           "0 - 15",
           "One day, a young woman named Emily came to visit the cottage. She had heard about the witch's powers"
          ],
          [
           0.5,
           "0 - 15",
           "One day, Alice's boss asked her to cook for a special event that he was hosting. Alice was thrille"
          ],
          [
           0.5,
           "0 - 15",
           "In the heart of the bustling city stood the renowned Harmonia Concert Hall, a place where the magic "
          ],
          [
           0.5,
           "0 - 15",
           "One day, Sarah and Emily decided to meet up and catch up on each other'quantum entanglement'. As the"
          ],
          [
           0.5,
           "0 - 15",
           "Reflecting on her journey, Alice realized that her fear of going outside had held her back for far t"
          ],
          [
           0.5,
           "0 - 15",
           "Now, let's move on to some real-world examples of how this knowledge can be applied.\n\nReal-World Use"
          ],
          [
           0.5,
           "0 - 15",
           "**The Challenge:**\n\nGiven a string `s` containing only lowercase English letters and an integer `k`,"
          ],
          [
           0.5,
           "0 - 15",
           "**Instruction 2 (Much Harder):** \n\nWrite a comprehensive review on the synthesis, reactivity, and po"
          ],
          [
           0.5,
           "0 - 15",
           "As the sun began to set, casting a warm golden glow over the city, Alex stood on the balcony of his "
          ],
          [
           0.5,
           "0 - 15",
           "**Instruction 2 (Much Harder)**\n\nWrite me a comprehensive guide on how to create a complex, interact"
          ],
          [
           0.5,
           "0 - 15",
           "In the heart of a bustling metropolis, where the skyline was etched with the aspirations of humanity"
          ],
          [
           0.5,
           "0 - 15",
           "In the end, Sophie and Isabella'quantum leap in their understanding of each other's perspectives. Th"
          ],
          [
           0.5,
           "0 - 15",
           "In this tale, we follow the life of a young girl named Lily, who dreams of one day becoming a renown"
          ],
          [
           0.5,
           "0 - 15",
           "In the heart of the bustling city, nestled between towering skyscimeters, stood an old, yet charming"
          ],
          [
           0.5,
           "0 - 15",
           "Now, let's move on to a more complex scenario involving a group of people with varying degrees of he"
          ],
          [
           0.5,
           "0 - 15",
           "One day, Sarah and Michael decided to take a break from their usual routine and explore a nearby for"
          ],
          [
           0.5,
           "0 - 15",
           "In the midst of the bustling city, there lived a young woman named Emily. She had always been passio"
          ],
          [
           0.5,
           "0 - 15",
           "One day, John decided to take a break from his work and went for a walk in the park. As he strolled "
          ],
          [
           0.5,
           "0 - 15",
           "One day, a young woman named Emily came to visit. She was a regular customer at the café, always ord"
          ],
          [
           0.8,
           "0 - 15",
           "My mother is a devout Christian. She makes it her mission to share her faith with anyone she can. Sh"
          ],
          [
           0.8,
           "0 - 15",
           "As always, feel free to get in touch if you need any more assistance!"
          ],
          [
           0.8,
           "0 - 15",
           "Whether it is hurricanes, droughts, or heatwaves, climate change is the long-term cause of these ext"
          ],
          [
           0.8,
           "0 - 15",
           "In another part of our story, we have two friends named Sarah and Alex. They both love playing footb"
          ],
          [
           0.8,
           "0 - 15",
           "But as I delved deeper into my research, I began to realize the complexity of the issue. The impact "
          ],
          [
           0.8,
           "0 - 15",
           "In times of uncertainty, it is essential to take care of ourselves during this pandemic. Please shar"
          ],
          [
           0.8,
           "0 - 15",
           "I am glad to hear that you found the section on \"The Evolution of Crafting Tools\" helpful. Below, yo"
          ],
          [
           0.8,
           "0 - 15",
           "\"Nyctophilia,\" a term coined by French writer Pierre-Olivier Vasarely, describes an individual whose"
          ],
          [
           0.8,
           "0 - 15",
           "**Chinese Shadows in Hong Kong'imetria**  \nGina Chong, University of California, Los Angeles  \n**Loc"
          ],
          [
           0.8,
           "0 - 15",
           "One sunny afternoon, Alex and Ben, two best friends, found themselves at a crossroads in their lives"
          ],
          [
           0.8,
           "0 - 15",
           "\"Aloha, what can you tell me about the history of Hawaii?\"\n\nHistorian: \"Aloha! Hawaii's history is a"
          ],
          [
           0.8,
           "0 - 15",
           "As the sun dipped below the horizon, the three friends savored their successful endeavor, grateful f"
          ],
          [
           0.8,
           "0 - 15",
           "One day, a wealthy couple came to visit my bakery. They were new in town and wanted to experience so"
          ],
          [
           0.8,
           "0 - 15",
           "However, not everyone shared Alice'imetry's enthusiasm for math. She faced criticism from some peers"
          ],
          [
           0.8,
           "0 - 15",
           "In the context of the document, 'decent' work refers to employment that respects worker rights and d"
          ],
          [
           0.8,
           "0 - 15",
           "One day, a couple came to see the artist. They were deeply moved by her paintings and asked if they "
          ],
          [
           0.8,
           "0 - 15",
           "In the Philippines, the government has been working on the establishment of a 'National Biometric Pr"
          ],
          [
           0.8,
           "0 - 15",
           "I have just learned about a concept called \"economic geography and location theory\". Can you explain"
          ],
          [
           0.8,
           "0 - 15",
           "One day, my friend Bob was trying to explain to me how a compass works. He told me that it was a mag"
          ],
          [
           0.8,
           "0 - 15",
           "**Instruction:**\n\nCraft an intricate narrative inspired by the prompt below, adhering to the additio"
          ],
          [
           1.1,
           "0 - 15",
           "\"I am the guardian of green growth,\" I reply. \"I weave wisdom of ancient watercourses and the tales "
          ],
          [
           1.1,
           "0 - 15",
           "Happy Valentine's Day All\nI'm having more than my share of problems with a relative of someone's dau"
          ],
          [
           1.1,
           "0 - 15",
           "\"Excuse me,\" Sophia said, turning to the gentleman ahead. \"Looks like we're having a slight delay.\" "
          ],
          [
           1.1,
           "0 - 15",
           "In today's world, technology has become an essential part of our lives. We use it for almost everyth"
          ],
          [
           1.1,
           "0 - 15",
           "As Lily settled into her routine at the bustling metropolis, she soon found herself at a coffee shop"
          ],
          [
           1.1,
           "0 - 15",
           "Thr dessert, I was not at ease. The pudding for dessert was served chilled. It had a creamy texture,"
          ],
          [
           1.1,
           "0 - 15",
           "To prepare yourself for such challenges, it's advisable to undertake a reading of Tao Han (2008): “S"
          ],
          [
           1.1,
           "0 - 15",
           "One of the guests, a renowned psychologist specializing in memory research, overheard John and his f"
          ],
          [
           1.1,
           "0 - 15",
           "Review Questions\n\n1. In what year did U.en. Ltd make its foray into India as depicted in The Indian "
          ],
          [
           1.1,
           "0 - 15",
           "Inspired by her reading, Emily set out to prepare a delicious meal using locally sourced ingredients"
          ],
          [
           1.1,
           "0 - 15",
           "One sunny afternoon, Anna, Lily, and Emma gathered in Anna' hole on Birch Street, excited to start w"
          ],
          [
           1.1,
           "0 - 15",
           "As the story ends, let's dive into the logic behind its sentences. The story is about a girl and her"
          ],
          [
           1.1,
           "0 - 15",
           "My friends have always tried to make me feel that I cannot live the life I want to live. They often "
          ],
          [
           1.1,
           "0 - 15",
           "But wait! Our Alien is especially interested in things related to Mechanical Engineering. So, let me"
          ],
          [
           1.1,
           "0 - 15",
           "However, let us take a detour through an imaginative landscape. Within the bounds of mathematics, we"
          ],
          [
           1.1,
           "0 - 15",
           "Tales abide no tongue.\nIn the dark's silhouetted heart,\nWithin the quiet whisper, lies truth.\nThe mo"
          ],
          [
           1.1,
           "0 - 15",
           "Winter had arrived, covering the world with a blanket of snow and frost. The once vibrant neighborho"
          ],
          [
           1.1,
           "0 - 15",
           "For Alice'quantitative easing program would further weaken the currency by making it cheaper relativ"
          ],
          [
           1.1,
           "0 - 15",
           "First, let'enote down the number of books owned by each person:\n\n1. **Anthony**: 15 books\n2. **Jose*"
          ],
          [
           1.1,
           "0 - 15",
           "Craft a narrative poem that adheres to a strict ABAB rhyme scheme about a heroic event where a chara"
          ]
         ],
         "hovertemplate": "Temperature: %{customdata[0]}<br>Transplanted Layers: %{customdata[1]}<br>Output: %{customdata[2]}",
         "legendgroup": "0 - 15",
         "marker": {
          "color": [
           0.2,
           0.2,
           0.2,
           0.2,
           0.2,
           0.2,
           0.2,
           0.2,
           0.2,
           0.2,
           0.2,
           0.2,
           0.2,
           0.2,
           0.2,
           0.2,
           0.2,
           0.2,
           0.2,
           0.2,
           0.5,
           0.5,
           0.5,
           0.5,
           0.5,
           0.5,
           0.5,
           0.5,
           0.5,
           0.5,
           0.5,
           0.5,
           0.5,
           0.5,
           0.5,
           0.5,
           0.5,
           0.5,
           0.5,
           0.5,
           0.8,
           0.8,
           0.8,
           0.8,
           0.8,
           0.8,
           0.8,
           0.8,
           0.8,
           0.8,
           0.8,
           0.8,
           0.8,
           0.8,
           0.8,
           0.8,
           0.8,
           0.8,
           0.8,
           0.8,
           1.1,
           1.1,
           1.1,
           1.1,
           1.1,
           1.1,
           1.1,
           1.1,
           1.1,
           1.1,
           1.1,
           1.1,
           1.1,
           1.1,
           1.1,
           1.1,
           1.1,
           1.1,
           1.1,
           1.1
          ],
          "coloraxis": "coloraxis",
          "symbol": "diamond"
         },
         "mode": "markers",
         "name": "0 - 15",
         "scene": "scene",
         "showlegend": true,
         "type": "scatter3d",
         "x": [
          0.30031317472457886,
          0.366643488407135,
          0.38492849469184875,
          0.3428798019886017,
          0.3763464093208313,
          0.320895791053772,
          0.07188494503498077,
          0.22727103531360626,
          0.19383467733860016,
          0.3610565960407257,
          0.27839967608451843,
          0.4127262830734253,
          0.211295023560524,
          0.16979043185710907,
          0.30804207921028137,
          0.4043133854866028,
          0.22852911055088043,
          -0.03081032633781433,
          0.22554470598697662,
          0.2451208084821701,
          -0.10472019016742706,
          0.22415666282176971,
          -0.03356466814875603,
          0.1987162083387375,
          0.10249770432710648,
          0.3496229946613312,
          0.03483786806464195,
          -0.15261691808700562,
          -0.26569873094558716,
          0.41283679008483887,
          -0.04518049582839012,
          0.18365460634231567,
          0.3357952833175659,
          0.23376327753067017,
          0.347892165184021,
          -0.12665648758411407,
          0.24837221205234528,
          -0.07222943753004074,
          0.21756482124328613,
          0.32482513785362244,
          -0.08106106519699097,
          -0.11218523979187012,
          -0.06818023324012756,
          0.35102277994155884,
          0.1175580695271492,
          -0.000207124583539553,
          -0.20450818538665771,
          0.1261235773563385,
          0.10094510018825531,
          0.38033759593963623,
          -0.12208443135023117,
          0.36993637681007385,
          0.032360486686229706,
          0.14017243683338165,
          -0.07019469141960144,
          0.265462189912796,
          -0.1593393087387085,
          -0.13089728355407715,
          -0.03227138891816139,
          0.16439515352249146,
          0.20150206983089447,
          -0.10271304845809937,
          0.344716876745224,
          -0.10806851089000702,
          0.26443496346473694,
          -0.16025325655937195,
          -0.05929189175367355,
          0.2346101999282837,
          0.0015804615104570985,
          0.08376241475343704,
          0.21330003440380096,
          0.02773044817149639,
          0.0838211178779602,
          0.15169768035411835,
          -0.032523468136787415,
          0.2559771239757538,
          0.3254099190235138,
          -0.16735297441482544,
          -0.11374121159315109,
          0.09376104921102524
         ],
         "y": [
          -0.24839413166046143,
          -0.2130541056394577,
          -0.2819509208202362,
          -0.2565840482711792,
          -0.1685469150543213,
          -0.16729223728179932,
          -0.3475043773651123,
          -0.04086008295416832,
          -0.07248415797948837,
          -0.270180344581604,
          -0.3161831200122833,
          -0.2414199560880661,
          -0.21635346114635468,
          -0.029311299324035645,
          -0.2902591824531555,
          -0.25041088461875916,
          -0.11461187154054642,
          -0.06616520136594772,
          -0.32955124974250793,
          -0.3501647114753723,
          0.044119346886873245,
          -0.35119208693504333,
          -0.3107644319534302,
          -0.1703106313943863,
          0.049369651824235916,
          -0.1140112355351448,
          0.25149744749069214,
          -0.03920649364590645,
          0.03478649631142616,
          -0.20366230607032776,
          -0.09866727888584137,
          -0.06336265057325363,
          -0.006904075853526592,
          -0.20335295796394348,
          -0.2641848921775818,
          0.12621748447418213,
          -0.26434874534606934,
          -0.31399619579315186,
          -0.2311648577451706,
          -0.20537135004997253,
          0.10558851063251495,
          0.02666369266808033,
          0.22418878972530365,
          -0.050108496099710464,
          0.2392735630273819,
          0.07379166781902313,
          0.004473379347473383,
          -0.17275726795196533,
          -0.13463975489139557,
          -0.17974621057510376,
          -0.07037186622619629,
          -0.17505033314228058,
          -0.24967429041862488,
          0.05986974015831947,
          0.1565341353416443,
          -0.2173968106508255,
          0.23074625432491302,
          0.11860968917608261,
          0.07535112649202347,
          -0.251962810754776,
          0.01422551367431879,
          0.1005234643816948,
          -0.03336688131093979,
          0.14843423664569855,
          0.0997275561094284,
          -0.15567940473556519,
          0.06016084551811218,
          -0.14320901036262512,
          0.1526392102241516,
          -0.2695139944553375,
          -0.1933678686618805,
          -0.1967802345752716,
          0.0707334503531456,
          0.12409548461437225,
          0.09941519796848297,
          -0.25755560398101807,
          -0.07544774562120438,
          0.1759626269340515,
          -0.0859450250864029,
          -0.23636174201965332
         ],
         "z": [
          -0.05232519656419754,
          -0.18819788098335266,
          -0.14007806777954102,
          -0.16948425769805908,
          -0.20496515929698944,
          -0.07045556604862213,
          -0.02387762814760208,
          0.16512778401374817,
          -0.1675250083208084,
          0.006879118271172047,
          0.004766230005770922,
          0.1497785747051239,
          0.04657325521111488,
          -0.056454144418239594,
          -0.19053621590137482,
          -0.17463374137878418,
          -0.07947573810815811,
          -0.039679210633039474,
          0.11755938082933426,
          0.010655101388692856,
          -0.22970585525035858,
          0.01752113737165928,
          0.28619346022605896,
          -0.14798100292682648,
          0.07250186800956726,
          -0.11648288369178772,
          -0.18318819999694824,
          -0.09578226506710052,
          -0.007920676842331886,
          -0.09785087406635284,
          -0.0915660485625267,
          -0.13392452895641327,
          0.07334725558757782,
          -0.07508158683776855,
          -0.12137942016124725,
          -0.0681585818529129,
          -0.05443954840302467,
          0.19796857237815857,
          0.12830045819282532,
          0.09574684500694275,
          0.07227882742881775,
          -0.04769430682063103,
          -0.2888878583908081,
          0.19731618463993073,
          -0.2926620841026306,
          -0.17282015085220337,
          -0.16303999722003937,
          -0.08467531949281693,
          -0.08215046674013138,
          0.08774324506521225,
          -0.039744578301906586,
          -0.013231930322945118,
          0.3195180594921112,
          0.019638583064079285,
          -0.2008359134197235,
          0.05094146355986595,
          -0.19848941266536713,
          -0.19325079023838043,
          -0.08832157403230667,
          0.018443653360009193,
          -0.2613896131515503,
          0.08872678130865097,
          0.2514214813709259,
          -0.07156648486852646,
          0.0034216989297419786,
          0.21646404266357422,
          -0.3217177987098694,
          -0.07386495172977448,
          -0.13288408517837524,
          0.07063420861959457,
          -0.0070909177884459496,
          0.23899216949939728,
          -0.01666000485420227,
          -0.02019507624208927,
          0.002871846314519644,
          -0.13287092745304108,
          0.016596203669905663,
          -0.03117610514163971,
          0.011989286169409752,
          -0.16822873055934906
         ]
        },
        {
         "customdata": [
          [
           0.2,
           "20 - 31",
           "The following is a conversation between I and M:\n\nM: Good morning! I'm glad you could join me for th"
          ],
          [
           0.2,
           "20 - 31",
           "She decided to take a nap instead of going for a walk because she was feeling tired.\n"
          ],
          [
           0.2,
           "20 - 31",
           "**Question:**\nYou are given a document that discusses the impact of the COVID-1quantification on the"
          ],
          [
           0.2,
           "20 - 31",
           "The following is a conversation between I and M:\n\nM: Good morning, I'm M. How may I help you?\n\nI: Hi"
          ],
          [
           0.2,
           "20 - 31",
           "The following is a conversation between I and M:\n\nI: Excuse me, may I ask what you're reading?\n\nM: O"
          ],
          [
           0.2,
           "20 - 31",
           "The following is a conversation between I and M:\n\nM: Good morning! I'm glad you could join me for br"
          ],
          [
           0.2,
           "20 - 31",
           "The following is a conversation between I and M:\n\nM: Good morning! I'm glad you could join me for th"
          ],
          [
           0.2,
           "20 - 31",
           "The following is a conversation between I and M:\n\nM: Good morning, I'm M. How are you today? I: Good"
          ],
          [
           0.2,
           "20 - 31",
           "The following is a conversation between I and M:\n\nM: Good morning, I'm M. How are you today? I: Good"
          ],
          [
           0.2,
           "20 - 31",
           "The following is a conversation between I and M:\n\nM: Good morning! I'm glad you could join me for th"
          ],
          [
           0.2,
           "20 - 31",
           "Given the following data on the number of hours studied and the corresponding exam scores for a grou"
          ],
          [
           0.2,
           "20 - 31",
           "**Phase emency**\n\nThe phenomenon of interest in this study revolves around the impact of different t"
          ],
          [
           0.2,
           "20 - 31",
           "The following is a conversation between I and M:\n\nM: Good morning, I'm M. How are you today?\nI: I'm "
          ],
          [
           0.2,
           "20 - 31",
           "The following is a conversation between I and M:\n\nI: Exactly, it's about the potential for a more in"
          ],
          [
           0.2,
           "20 - 31",
           "**user:emen**\n\n**assistant:**It appears there may have been a misunderstanding or an error in the in"
          ],
          [
           0.2,
           "20 - 31",
           "She was a very generous person, always giving her time and money to help others.\n"
          ],
          [
           0.2,
           "20 - 31",
           "She decided to take the bus instead of walking because the _ was faster.\n\nA. bus\nB. walking\n\n## Solu"
          ],
          [
           0.2,
           "20 - 31",
           "She decided to take the bus instead of driving because the bus was cheaper.\n"
          ],
          [
           0.2,
           "20 - 31",
           "She decided to take the bus instead of driving her car because the bus was more environmentally frie"
          ],
          [
           0.2,
           "20 - 31",
           "The following is a conversation between I and M:\n\nM: Good morning, I'm M. How are you today? I: Good"
          ],
          [
           0.5,
           "20 - 31",
           "She decided to go to bed early, because she had to wake up early the next day. The blank should be f"
          ],
          [
           0.5,
           "20 - 31",
           "She preferred to read books on paper rather than on a Kindle, because the Kindle was less comfortabl"
          ],
          [
           0.5,
           "20 - 31",
           "Again, let's assume we have a dataset of 1000 observations, each with 30 variables. We have used a r"
          ],
          [
           0.5,
           "20 - 31",
           "**ER Doctor:** Good evening, I'm Dr. Ellis. What seems to be the trouble today?\n\n**Sarah:** (Visibly"
          ],
          [
           0.5,
           "20 - 31",
           "Now, let's consider a more complex scenario. Suppose that the same biologist has been studying the s"
          ],
          [
           0.5,
           "20 - 31",
           "Given the following data about a set of books, determine which book has the highest page count and t"
          ],
          [
           0.5,
           "20 - 31",
           "Again, this is a trick question. Since the bakery and the coffee shop are both closed on Mondays, th"
          ],
          [
           0.5,
           "20 - 31",
           "The story of the three friends, John, Mary, and Alex, revolves around their shared passion for gamin"
          ],
          [
           0.5,
           "20 - 31",
           "The following passage has a grammatimetrical error. Identify the error and explain why it is incorre"
          ],
          [
           0.5,
           "20 - 31",
           "Her parents were proud of her achievements. They had always encouraged her to pursue her dreams.\n"
          ],
          [
           0.5,
           "20 - 31",
           "She handed him the book she borrowed, and he graciously accepted it.\n"
          ],
          [
           0.5,
           "20 - 31",
           "**ER Doctor:** Good afternoon, I'm Dr. Thompson. I understand you're not feeling well. Can you tell "
          ],
          [
           0.5,
           "20 - 31",
           "Their marriage was not consummated until after her first husband's death, when she was 23. Their mar"
          ],
          [
           0.5,
           "20 - 31",
           "**input:emen**: I'm working on a FORTRAN module for handling multidimensional arrays, and I need it "
          ],
          [
           0.5,
           "20 - 31",
           "She was a talented musician, but she never pursued her passion for playing the piano. She chose to s"
          ],
          [
           0.5,
           "20 - 31",
           "Given the following simplified data on the nutritional content of three common food items, create a "
          ],
          [
           0.5,
           "20 - 31",
           "The following is a conversation between I and Mia.\n\nI: Hey Mia, I heard you're really good at cookin"
          ],
          [
           0.5,
           "20 - 31",
           "\n\nHere is a paragraph:\nThe process of writing a paper can be tedious and time-consuming, especially "
          ],
          [
           0.5,
           "20 - 31",
           "**Alice:emen, the author of this work.\n\n**Bob:** The author of this text is not explicitly named, bu"
          ],
          [
           0.5,
           "20 - 31",
           "The text discusses the process of preparing for a job interview, emphasizing the importance of thoro"
          ],
          [
           0.8,
           "20 - 31",
           "It was a hot day, but John had to finish his work and went outdoemenent.\n"
          ],
          [
           0.8,
           "20 - 31",
           "Again, without knowledge of the full content of the document, it's impossible to perform this task a"
          ],
          [
           0.8,
           "20 - 31",
           "Agora você precisa escrever uma função em Python chamada 'filtrar_com_primeiro_elemento', que recebe"
          ],
          [
           0.8,
           "20 - 31",
           "\n\n**Topic:** The intricate dance of life under the sea, the ebb and flow of food chains, and the rol"
          ],
          [
           0.8,
           "20 - 31",
           "To determine whether or not a person is considered a juvenile (under 18 years old) based on their da"
          ],
          [
           0.8,
           "20 - 31",
           "As the story progressed, Sarah'quantum_data was consistently used to resolve conflicts, providing _ "
          ],
          [
           0.8,
           "20 - 31",
           "Andrew' ka ler?\n\n\n## Reply ##\n\nIn the context of the provided conversation, the term 'it' most likel"
          ],
          [
           0.8,
           "20 - 31",
           "The phrase \"he's a fish out of water\" implies someone who feels out of place or uncomfortable in a c"
          ],
          [
           0.8,
           "20 - 31",
           "The narrator's description of their own state after the car accident is very brief in both lines."
          ],
          [
           0.8,
           "20 - 31",
           "It's important to note that the use of the words \"injection\" and \"solution\" in the context of the do"
          ],
          [
           0.8,
           "20 - 31",
           "The output of the following program is:\nWhich of the given options is correctly representing the pro"
          ],
          [
           0.8,
           "20 - 31",
           "She decided to take the bus to the airport instead of a taxi because the bus is cheaper.\n"
          ],
          [
           0.8,
           "20 - 31",
           "The storyteller's voice wove intricate tales across the vibrating strings of a harp, each pluck a "
          ],
          [
           0.8,
           "20 - 31",
           "Against the backdrop of escalating tensions, a group of activists have been detained at this controv"
          ],
          [
           0.8,
           "20 - 31",
           "Her parents encouraged her to pursue her degree instead of getting a job immediately. She decided to"
          ],
          [
           0.8,
           "20 - 31",
           "When you use the 'if not in' operator with a variable, you're checking to see if the variable does n"
          ],
          [
           0.8,
           "20 - 31",
           "## Question:\nIn the spirit of crafting an enthralling narrative, I have a unique challenge for you. "
          ],
          [
           0.8,
           "20 - 31",
           "I'm crafting a sophisticated system in C++ that emulates a network of devices, with focus on their p"
          ],
          [
           0.8,
           "20 - 31",
           "The teacher praised the story but not the painting, because the story had more creativity.\n"
          ],
          [
           0.8,
           "20 - 31",
           "\nThis chapter focuses on a unique Python class designed to manage multiple collections of integers i"
          ],
          [
           1.1,
           "20 - 31",
           "She decided to keep her money in a savings account so that it would earn interest instead of just si"
          ],
          [
           1.1,
           "20 - 31",
           "It doesnÃ¢â한Credentials are still required for non-Google applications.\nFor most users and organizat"
          ],
          [
           1.1,
           "20 - 31",
           "### problem:\nDevise a multi-step protocol using only biomimetic materials and principles from cellul"
          ],
          [
           1.1,
           "20 - 31",
           "I'm working on an animation for a storyline in Ruby, where I want to create a sequence with two char"
          ],
          [
           1.1,
           "20 - 31",
           "With deep concern for the plight of refugees worldwide, my goal is to shed light on displacement tha"
          ],
          [
           1.1,
           "20 - 31",
           "The output should be:\n```\n(1, ['car', 'bicycle'])\n(2, ['horse', 'motorcycle'])\n(3, ['scooter'])\n```\n"
          ],
          [
           1.1,
           "20 - 31",
           "This would be my first time feeling this kind of confusion so this might not be what exactly you are"
          ],
          [
           1.1,
           "20 - 31",
           "**query:emeness\n\n**response:**What is your understanding of the concept of \"experiential mindfulness"
          ],
          [
           1.1,
           "20 - 31",
           "As an experienced culinary historian, elaborate the impact of cooking methods and condiment evolutio"
          ],
          [
           1.1,
           "20 - 31",
           "**User: pentru planificarea uneori de spatiu atingitori** \n\nLost in the maze, I realized the complex"
          ],
          [
           1.1,
           "20 - 31",
           "She thought her performance on the stage was excellent, but after receiving a standing ovation and h"
          ],
          [
           1.1,
           "20 - 31",
           "It was an extremely hot summer, causing beings to go to the beach to find relief from the heat.\n"
          ],
          [
           1.1,
           "20 - 31",
           "Her friends' house feels cooler to her than hers.\n\n\n23. She is always the warmest and never needs to"
          ],
          [
           1.1,
           "20 - 31",
           "This methodology seeks to ensure a more structured approach. While a significant amount of time will"
          ],
          [
           1.1,
           "20 - 31",
           "The narrative unfolds within a dystopian future where human emotions are artificially regulated to m"
          ],
          [
           1.1,
           "20 - 31",
           "Growing up in a culturally multisectorial society has not equipped me to effectively adapt to life a"
          ],
          [
           1.1,
           "20 - 31",
           "With a background in software engineering with expertise in C# and Python, you've recently landed a "
          ],
          [
           1.1,
           "20 - 31",
           "Here'delta_{t}+\\delta} (-\\tau' < t-\\tau' < \\delta\\ ).$$\n\nI have done a Taylor series but I have a lo"
          ],
          [
           1.1,
           "20 - 31",
           "Following a meticulous reconstruction, reorganize the document provided, with a distinct emphasis on"
          ],
          [
           1.1,
           "20 - 31",
           "---\n\n**In ER Consultation Room, John sits uncomfortably on an examination table. An ER doctor enters"
          ]
         ],
         "hovertemplate": "Temperature: %{customdata[0]}<br>Transplanted Layers: %{customdata[1]}<br>Output: %{customdata[2]}",
         "legendgroup": "20 - 31",
         "marker": {
          "color": [
           0.2,
           0.2,
           0.2,
           0.2,
           0.2,
           0.2,
           0.2,
           0.2,
           0.2,
           0.2,
           0.2,
           0.2,
           0.2,
           0.2,
           0.2,
           0.2,
           0.2,
           0.2,
           0.2,
           0.2,
           0.5,
           0.5,
           0.5,
           0.5,
           0.5,
           0.5,
           0.5,
           0.5,
           0.5,
           0.5,
           0.5,
           0.5,
           0.5,
           0.5,
           0.5,
           0.5,
           0.5,
           0.5,
           0.5,
           0.5,
           0.8,
           0.8,
           0.8,
           0.8,
           0.8,
           0.8,
           0.8,
           0.8,
           0.8,
           0.8,
           0.8,
           0.8,
           0.8,
           0.8,
           0.8,
           0.8,
           0.8,
           0.8,
           0.8,
           0.8,
           1.1,
           1.1,
           1.1,
           1.1,
           1.1,
           1.1,
           1.1,
           1.1,
           1.1,
           1.1,
           1.1,
           1.1,
           1.1,
           1.1,
           1.1,
           1.1,
           1.1,
           1.1,
           1.1,
           1.1
          ],
          "coloraxis": "coloraxis",
          "symbol": "diamond-open"
         },
         "mode": "markers",
         "name": "20 - 31",
         "scene": "scene",
         "showlegend": true,
         "type": "scatter3d",
         "x": [
          0.3193233013153076,
          0.06787052750587463,
          -0.03545533865690231,
          0.1542167365550995,
          0.3842623233795166,
          0.07849791646003723,
          0.193785160779953,
          0.19843727350234985,
          0.17201609909534454,
          0.28801268339157104,
          -0.15916243195533752,
          0.029481498524546623,
          0.13743002712726593,
          0.2453162521123886,
          0.00198621884919703,
          0.10592015832662582,
          -0.026790950447320938,
          -0.06209142133593559,
          0.06435288488864899,
          0.20549653470516205,
          0.011630513705313206,
          0.02236117050051689,
          -0.22342659533023834,
          0.16417855024337769,
          0.04443597048521042,
          -0.08256606012582779,
          -0.2371273785829544,
          0.21869048476219177,
          -0.046997878700494766,
          0.17236210405826569,
          -0.009532657451927662,
          0.14997483789920807,
          -0.016695506870746613,
          -0.2991394102573395,
          0.19214700162410736,
          -0.2845251262187958,
          0.164328470826149,
          0.09372100234031677,
          0.10149113833904266,
          -0.01744162105023861,
          0.11820385605096817,
          -0.13158410787582397,
          -0.24288439750671387,
          0.07622198015451431,
          -0.2787396013736725,
          0.16868272423744202,
          0.11638438701629639,
          0.03287380561232567,
          0.20678704977035522,
          -0.1719209849834442,
          -0.13385972380638123,
          -0.13358603417873383,
          0.27263200283050537,
          0.0965486541390419,
          0.23999692499637604,
          -0.2548448443412781,
          0.1827099621295929,
          -0.05880332738161087,
          0.07079708576202393,
          -0.17310789227485657,
          0.051939740777015686,
          -0.2986093759536743,
          -0.17489364743232727,
          0.019067000597715378,
          0.07488030940294266,
          -0.23213447630405426,
          -0.11433592438697815,
          0.1275721937417984,
          -0.16011488437652588,
          0.23748387396335602,
          0.244435116648674,
          0.06823320686817169,
          0.22881527245044708,
          -0.06630052626132965,
          0.2515328824520111,
          0.09490858763456345,
          -0.13081762194633484,
          -0.18997342884540558,
          -0.19119451940059662,
          0.1497114896774292
         ],
         "y": [
          0.3929244875907898,
          -0.027197416871786118,
          0.20990125834941864,
          0.4562782347202301,
          0.20060543715953827,
          0.21531663835048676,
          0.4330378472805023,
          0.395871639251709,
          0.5069268345832825,
          0.3911435604095459,
          0.15231218934059143,
          0.022313416004180908,
          0.3928390443325043,
          0.2553282380104065,
          0.18215474486351013,
          -0.15886880457401276,
          0.14446066319942474,
          0.07506168633699417,
          0.10563535988330841,
          0.4467371702194214,
          -0.04396868869662285,
          -0.020849445834755898,
          0.15151555836200714,
          0.025655323639512062,
          0.29951849579811096,
          -0.011396501213312149,
          -0.043594714254140854,
          -0.13521452248096466,
          0.10804564505815506,
          -0.086882084608078,
          0.02009686827659607,
          -0.01975162699818611,
          -0.22410427033901215,
          0.0959169864654541,
          -0.16036424040794373,
          0.016618233174085617,
          0.17734698951244354,
          0.11839991062879562,
          0.00018331699538975954,
          0.25892889499664307,
          -0.042500436305999756,
          0.20568479597568512,
          0.1059868261218071,
          -0.05519931763410568,
          0.16263727843761444,
          0.05490463599562645,
          0.17732146382331848,
          0.03693040460348129,
          0.004934716038405895,
          0.14986532926559448,
          0.16854071617126465,
          0.11402586102485657,
          -0.22010281682014465,
          0.043948546051979065,
          -0.1296299695968628,
          0.1190323531627655,
          -0.19973744451999664,
          0.1663295030593872,
          -0.06273125857114792,
          0.12677966058254242,
          -0.09370093047618866,
          0.0543794147670269,
          0.08370304107666016,
          0.06380137801170349,
          0.005589879117906094,
          0.13311055302619934,
          0.17754203081130981,
          0.12798506021499634,
          -0.17462006211280823,
          -0.09297051280736923,
          0.01015120092779398,
          -0.10041427612304688,
          0.030787408351898193,
          0.2259657233953476,
          -0.17730210721492767,
          0.21384724974632263,
          0.12098228931427002,
          0.05907152220606804,
          -0.12870702147483826,
          -0.014846201054751873
         ],
         "z": [
          0.35836049914360046,
          0.09553937613964081,
          -0.22228208184242249,
          0.49685239791870117,
          0.4474366307258606,
          0.6115669012069702,
          0.22725823521614075,
          0.5455553531646729,
          0.5406089425086975,
          0.4253189265727997,
          -0.09361256659030914,
          -0.1145230233669281,
          0.3496157228946686,
          0.031078577041625977,
          0.0841309055685997,
          0.0013018283061683178,
          0.1897033303976059,
          0.06125985458493233,
          -0.049697600305080414,
          0.24763450026512146,
          0.09829016774892807,
          0.012799805961549282,
          -0.06947887688875198,
          0.23106563091278076,
          -0.08790048956871033,
          -0.043574005365371704,
          0.06481217592954636,
          0.12763161957263947,
          0.016359394416213036,
          0.014097985811531544,
          0.13217872381210327,
          0.1757669895887375,
          -0.033343806862831116,
          -0.04404526948928833,
          -0.0174698568880558,
          0.10103778541088104,
          0.6338559985160828,
          -0.003485690802335739,
          -0.09530850499868393,
          -0.06658439338207245,
          -0.0135220717638731,
          -0.13313928246498108,
          -0.13869357109069824,
          -0.16961368918418884,
          -0.10144498944282532,
          0.05880652740597725,
          0.1319916695356369,
          -0.05400647595524788,
          0.13628554344177246,
          -0.10598204284906387,
          0.021632103249430656,
          0.029171597212553024,
          0.0019799815490841866,
          -0.17333991825580597,
          -0.08472229540348053,
          0.02518581598997116,
          -0.06592153757810593,
          -0.09401107579469681,
          0.038676392287015915,
          -0.15115420520305634,
          0.024304140359163284,
          -0.07463628798723221,
          -0.14156432449817657,
          0.08476655185222626,
          -0.180537149310112,
          -0.12480225414037704,
          -0.04626527801156044,
          -0.13640256226062775,
          0.04821113124489784,
          -0.06724606454372406,
          0.15175235271453857,
          -0.1045774519443512,
          0.08787043392658234,
          -0.09254550188779831,
          -0.10237791389226913,
          -0.040747880935668945,
          -0.12287037074565887,
          -0.08460109680891037,
          -0.07281201332807541,
          0.11056654155254364
         ]
        },
        {
         "customdata": [
          [
           0.2,
           "15 - 31",
           "The following is a conversation between I and M:\n\nM: Good morning, I'm M. How are you today?\n\nI: I'm"
          ],
          [
           0.2,
           "15 - 31",
           "The following is a conversation between I and Mia.\nI: Could you please tell me about your experience"
          ],
          [
           0.2,
           "15 - 31",
           "The following is a conversation between I and M:\n\nM: Good morning! I'm glad you could join me for th"
          ],
          [
           0.2,
           "15 - 31",
           "The following is a conversation between I and M:\n\nI: Excuse me, may I ask what you're reading?\n\nM: O"
          ],
          [
           0.2,
           "15 - 31",
           "**query:emen**\n\n**response:**It seems like your message was cut off. Could you please provide the in"
          ],
          [
           0.2,
           "15 - 31",
           "The following is a conversation between I and Mia.\n\nI: Could you please help me understand the conce"
          ],
          [
           0.2,
           "15 - 31",
           "The following is a conversation between I and M:\n\nM: Good morning! I'm M, your friendly neighborhood"
          ],
          [
           0.2,
           "15 - 31",
           "The following is a conversation between I and M:\n\nM: Good morning! I'm excited to discuss the recent"
          ],
          [
           0.2,
           "15 - 31",
           "The following is a conversation between I and M:\n\nM: Good morning! I'm glad you could join me for th"
          ],
          [
           0.2,
           "15 - 31",
           "The following is a conversation between I and M:\n\nI: Excuse me, may I ask what you're reading?\n\nM: O"
          ],
          [
           0.2,
           "15 - 31",
           "The following is a conversation between I and M:\n\nM: Good morning, I'm M. May I speak to Alex?\nI: Th"
          ],
          [
           0.2,
           "15 - 31",
           "The following is a conversation between I and M:\n\nM: Good morning! I'm M, your friendly neighborhood"
          ],
          [
           0.2,
           "15 - 31",
           "The following is a conversation between I and M:\n\nI: Excuse me, may I ask what you're reading?\n\nM: O"
          ],
          [
           0.2,
           "15 - 31",
           "The following is a conversation between I and M:\n\nM: Good morning! I'm glad you could join me for th"
          ],
          [
           0.2,
           "15 - 31",
           "The following is a conversation between I and M:\n\nM: Good morning! I'm so glad to see you.\nI: Good m"
          ],
          [
           0.2,
           "15 - 31",
           "The following is a conversation between I and M:\n\nM: Good morning! I'm glad you could join me for th"
          ],
          [
           0.2,
           "15 - 31",
           "The following is a conversation between I and M:\n\nM: Good morning! I'm so glad you could join me for"
          ],
          [
           0.2,
           "15 - 31",
           "The following is a conversation between I and M:\n\nM: Good morning, I'm M. How may I help you?\nI: Hi,"
          ],
          [
           0.2,
           "15 - 31",
           "The following is a conversation between I and M:\n\nM: Good morning! I'm glad you could join me for th"
          ],
          [
           0.2,
           "15 - 31",
           "The following is a conversation between I and M:\n\nM: Good morning, I'm M. How are you today?\n\nI: I'm"
          ],
          [
           0.5,
           "15 - 31",
           "**Query: kishtaan mein kuchh khana bahut bahut bada hai**\n\n\n**Response:**\n\nIn Urdu, \"Kishtaan mein k"
          ],
          [
           0.5,
           "15 - 31",
           "Again, refer to the document for the detailed explanation.\n\n\n## Your task:In the document, identify "
          ],
          [
           0.5,
           "15 - 31",
           "Now, let's consider a more complex scenario. In the same town, a survey was conducted about the resi"
          ],
          [
           0.5,
           "15 - 31",
           "The following are three logical statements:\n\n1. If it is raining, then the ground is wet.\n2. If the "
          ],
          [
           0.5,
           "15 - 31",
           "The following is a conversation between I and M:\n\nM: Good morning, I'm M. What can I do for you toda"
          ],
          [
           0.5,
           "15 - 31",
           "As the sun dipped below the horizon, casting a golden hue over the tranquil lake, the once vibrant g"
          ],
          [
           0.5,
           "15 - 31",
           "Again, we'll use the formula for compound interest, but this time we'll solve for the present value "
          ],
          [
           0.5,
           "15 - 31",
           "**I'd like you to create a Lua script for a game that manages the appearance of a character named \"A"
          ],
          [
           0.5,
           "15 - 31",
           "The following is a conversation between I and M:\n\nI: Any more surprises for me?\n\nM: I think this yea"
          ],
          [
           0.5,
           "15 - 31",
           "Now, let's move on to the more complex challenge. For this task, I want you to analyze the provided "
          ],
          [
           0.5,
           "15 - 31",
           "She tried to make a cake, but it did not rise. The ingredients were not measured correctly.\n"
          ],
          [
           0.5,
           "15 - 31",
           "In a situation where you are a member of a community-based organization, you are tasked with develop"
          ],
          [
           0.5,
           "15 - 31",
           "The following is a conversation between I and M:\n\nM: Good morning, I'm M. How may I help you?\n\nI: Hi"
          ],
          [
           0.5,
           "15 - 31",
           "This time, you will be given a document describing a complex scientific concept. Your task is to dis"
          ],
          [
           0.5,
           "15 - 31",
           "Again, let's take a look at the question:\n\nA farmer owns a farm, and he also has some ducks and sh"
          ],
          [
           0.5,
           "15 - 31",
           "The following is a conversation between I and M:\n\nM: Good morning. I'm M, from the product team.\n\nI:"
          ],
          [
           0.5,
           "15 - 31",
           "**user:emen**\n\n**assistant:**It appears there may have been some confusion with the input provided. "
          ],
          [
           0.5,
           "15 - 31",
           "Herbal tea has always been a comforting remedy for Mabel, but she found it more effective than coffe"
          ],
          [
           0.5,
           "15 - 31",
           "Against the backdrop of the city'emen's struggle for freedom and equality, a young woman named Amina"
          ],
          [
           0.5,
           "15 - 31",
           "In a world where the most prized possession is a rare plant, you are a botanist who has just discove"
          ],
          [
           0.8,
           "15 - 31",
           "To solve this question, we need to determine the difference between the two given time expressions, "
          ],
          [
           0.8,
           "15 - 31",
           "She decided to go to the bank instead of the post office because she had a bill to deposit, and bank"
          ],
          [
           0.8,
           "15 - 31",
           "This year's budget, an increase of $33 million from $1.9 million over 2018, will focus on a host o"
          ],
          [
           0.8,
           "15 - 31",
           "In a family with five children, two of them are boys. If one parent has three boys, how is this poss"
          ],
          [
           0.8,
           "15 - 31",
           "The protagonist, Jane, is an aspiring linguist with an obsession for uncovering lost languages and s"
          ],
          [
           0.8,
           "15 - 31",
           "Here's an example scenario to illustrate this problem: Let's consider a class of 30 students. We wan"
          ],
          [
           0.8,
           "15 - 31",
           "The following code is designed to simulate the spread of a virus in a population based on different "
          ],
          [
           0.8,
           "15 - 31",
           "She had a difficult time understanding the math equation, so she asked her teacher for help.\n"
          ],
          [
           0.8,
           "15 - 31",
           "Now, we want to add this function to our global namespace. This allows the function to be used witho"
          ],
          [
           0.8,
           "15 - 31",
           "The following translation contains an error. That error will be one of the following types:\n\nNamed E"
          ],
          [
           0.8,
           "15 - 31",
           "Their relationship was tumultuous, full of emotional highs and lows. It was like a rollercoaster rid"
          ],
          [
           0.8,
           "15 - 31",
           "The code you requested has been provided below:\n\n```python\nimport re\n\ndef extract_numbers(text):\n   "
          ],
          [
           0.8,
           "15 - 31",
           "**Scenario Creation for Interview:**\n\n*Background and Patient History:*\n\nPatient Name: Sierra Little"
          ],
          [
           0.8,
           "15 - 31",
           "Now, write a multi-part question involving a complex problem. The first part should ask you to consi"
          ],
          [
           0.8,
           "15 - 31",
           "So, the correct option is (A) The pizza delivery was exceptionally late.\n\n"
          ],
          [
           0.8,
           "15 - 31",
           "Without the image or direct reference to a literary piece, it's challenging to provide an accurate a"
          ],
          [
           0.8,
           "15 - 31",
           "The story unfolds in a bleak industrial city where the soot from factories has turned the sky ashen "
          ],
          [
           0.8,
           "15 - 31",
           "She knew to call 911 once she saw the car that was out of control. The car was driving in a reckless"
          ],
          [
           0.8,
           "15 - 31",
           "In a bustling market town, a merchant was selling exquisite antique vases. Alex was fascinated by a "
          ],
          [
           0.8,
           "15 - 31",
           "**Input:ernees**\n\n**Output:**\n\nIn a dystopian world, the 'Glass Ceiling Effect,' 'Green Tax,' 'Oil D"
          ],
          [
           1.1,
           "15 - 31",
           "In the intricate web of human sexuality, the concept takes on myriad forms, with diverse expressions"
          ],
          [
           1.1,
           "15 - 31",
           "A few key components of our program aim to encourage critical reflection and self-awarenдя among stu"
          ],
          [
           1.1,
           "15 - 31",
           "Reviving Historical Traditions: Embracing Sustainable Practices\n\nIntroduction:\nIn our journey toward"
          ],
          [
           1.1,
           "15 - 31",
           "The first day of school is a chance to help your toddler learn about independence. By day one, encou"
          ],
          [
           1.1,
           "15 - 31",
           "It seems like you are looking for guidance on how to write a personal statement for a course like CS"
          ],
          [
           1.1,
           "15 - 31",
           "It took me quite a while (and a LOT of editing) to put together this list. Hopefully this informatio"
          ],
          [
           1.1,
           "15 - 31",
           "To recreate a section from a legislative document on regulatory fees related to securities arbitrati"
          ],
          [
           1.1,
           "15 - 31",
           "With renewed determination, Sarah embarked on crafting her own jewelketry, knowing that her creation"
          ],
          [
           1.1,
           "15 - 31",
           "This request seems to ask for a complex technical narrative involving astronomy and mathematic princ"
          ],
          [
           1.1,
           "15 - 31",
           "Here are the new constraints added:\n\n1. Before starting the guide, write a brief description (one se"
          ],
          [
           1.1,
           "15 - 31",
           "The final touch to perfecting any salad is the dressing. One that pairs exceptionally well with any "
          ],
          [
           1.1,
           "15 - 31",
           "Now, let’s consider a complex situation. A team of scientists from different fields - physics, psych"
          ],
          [
           1.1,
           "15 - 31",
           "** user ** Hi I think I need some help With my finances I want to be able to save and plan properly "
          ],
          [
           1.1,
           "15 - 31",
           "This method should work, but might be a bit verbose. It would involve sorting based off the number' "
          ],
          [
           1.1,
           "15 - 31",
           "The pizza margherita preparation began at the professional chef's kitchen by sourcing the finest ing"
          ],
          [
           1.1,
           "15 - 31",
           "**user:emen**\\nThe following iterative process should be used, adjusting the variable n as you go, b"
          ],
          [
           1.1,
           "15 - 31",
           "Nowadays almost every adult, no matter how financially well-placed will still save for the future, a"
          ],
          [
           1.1,
           "15 - 31",
           "Here is a short story: \"The Great Adventure\" by Jane Austen, published posthumously in 1864. The sto"
          ],
          [
           1.1,
           "15 - 31",
           "As an expert on ancient Greek histories focusing on Sestos's significant contributions, provide an i"
          ],
          [
           1.1,
           "15 - 31",
           "This comprehensive strategy considers legal parameters, stakeholder inclusion, and proactive engagem"
          ]
         ],
         "hovertemplate": "Temperature: %{customdata[0]}<br>Transplanted Layers: %{customdata[1]}<br>Output: %{customdata[2]}",
         "legendgroup": "15 - 31",
         "marker": {
          "color": [
           0.2,
           0.2,
           0.2,
           0.2,
           0.2,
           0.2,
           0.2,
           0.2,
           0.2,
           0.2,
           0.2,
           0.2,
           0.2,
           0.2,
           0.2,
           0.2,
           0.2,
           0.2,
           0.2,
           0.2,
           0.5,
           0.5,
           0.5,
           0.5,
           0.5,
           0.5,
           0.5,
           0.5,
           0.5,
           0.5,
           0.5,
           0.5,
           0.5,
           0.5,
           0.5,
           0.5,
           0.5,
           0.5,
           0.5,
           0.5,
           0.8,
           0.8,
           0.8,
           0.8,
           0.8,
           0.8,
           0.8,
           0.8,
           0.8,
           0.8,
           0.8,
           0.8,
           0.8,
           0.8,
           0.8,
           0.8,
           0.8,
           0.8,
           0.8,
           0.8,
           1.1,
           1.1,
           1.1,
           1.1,
           1.1,
           1.1,
           1.1,
           1.1,
           1.1,
           1.1,
           1.1,
           1.1,
           1.1,
           1.1,
           1.1,
           1.1,
           1.1,
           1.1,
           1.1,
           1.1
          ],
          "coloraxis": "coloraxis",
          "symbol": "square"
         },
         "mode": "markers",
         "name": "15 - 31",
         "scene": "scene",
         "showlegend": true,
         "type": "scatter3d",
         "x": [
          0.16676801443099976,
          0.2778089642524719,
          0.26735299825668335,
          0.3129081726074219,
          0.03009689599275589,
          0.043564509600400925,
          0.23749640583992004,
          0.2366952896118164,
          0.25837796926498413,
          0.3695647120475769,
          0.1278689056634903,
          0.19883419573307037,
          0.3707267940044403,
          0.2553727328777313,
          0.16306163370609283,
          0.24736131727695465,
          0.2592623233795166,
          0.07283729314804077,
          0.2626347839832306,
          0.12548263370990753,
          -0.0007855674484744668,
          -0.13185733556747437,
          -0.146933913230896,
          -0.11738560348749161,
          0.17236194014549255,
          0.36291956901550293,
          -0.299083948135376,
          -0.08364860713481903,
          0.1241760328412056,
          -0.10358566790819168,
          -0.21018263697624207,
          -0.13339976966381073,
          0.125930517911911,
          -0.04128966107964516,
          -0.16263850033283234,
          0.13386270403862,
          -0.09487028419971466,
          -0.09373271465301514,
          0.264072060585022,
          -0.151306614279747,
          -0.19937093555927277,
          -0.0006541737820953131,
          -0.21060068905353546,
          -0.14478379487991333,
          0.1645004004240036,
          -0.23523050546646118,
          -0.15711677074432373,
          -0.08348899334669113,
          -0.26249030232429504,
          -0.06628114730119705,
          -0.01431753858923912,
          -0.3003687262535095,
          -0.006982377264648676,
          -0.16382303833961487,
          -0.08668239414691925,
          -0.009609012864530087,
          0.17008380591869354,
          0.018631702288985252,
          0.01236034370958805,
          -0.13925088942050934,
          0.10520464181900024,
          0.11628428846597672,
          0.07061786949634552,
          -0.16650256514549255,
          -0.11862168461084366,
          -0.29563215374946594,
          -0.203822061419487,
          0.1312013417482376,
          -0.010420175269246101,
          -0.06751635670661926,
          -0.2702067196369171,
          0.035636674612760544,
          -0.18894705176353455,
          -0.31846222281455994,
          -0.2735033631324768,
          -0.3133232891559601,
          -0.0005527233006432652,
          0.09351834654808044,
          -0.02958558313548565,
          0.004134299699217081
         ],
         "y": [
          0.5170711278915405,
          0.2704726755619049,
          0.4527987837791443,
          0.22065190970897675,
          0.23520562052726746,
          0.16688735783100128,
          0.3562682867050171,
          0.41127097606658936,
          0.501876175403595,
          0.22505968809127808,
          0.3985408544540405,
          0.4907926917076111,
          0.2247505784034729,
          0.4490973651409149,
          0.2922455966472626,
          0.5157519578933716,
          0.23898841440677643,
          0.4878985583782196,
          0.5270815491676331,
          0.4490496516227722,
          -0.11294273287057877,
          0.12408792972564697,
          0.03134944662451744,
          0.19337663054466248,
          0.4431088864803314,
          -0.23533202707767487,
          0.07329700887203217,
          0.058261577039957047,
          0.39911070466041565,
          0.09716834127902985,
          -0.1971832662820816,
          0.06516614556312561,
          0.5031923651695251,
          0.15243320167064667,
          0.008347529917955399,
          0.461930513381958,
          0.2865886986255646,
          -0.18718813359737396,
          -0.11578889936208725,
          -0.07605978101491928,
          0.09300138801336288,
          -0.0008902566623874009,
          0.11472524702548981,
          0.054014675319194794,
          -0.20026974380016327,
          0.12954682111740112,
          0.1235581636428833,
          -0.011473077349364758,
          0.12218307703733444,
          0.14267976582050323,
          0.0006975350552238524,
          0.1543572098016739,
          0.11139582097530365,
          0.19820177555084229,
          0.07749911397695541,
          -0.0873878002166748,
          -0.13719668984413147,
          0.050349097698926926,
          -0.1298675388097763,
          0.1342802345752716,
          0.03988101705908775,
          0.1912248730659485,
          -0.054106514900922775,
          0.0278242826461792,
          0.18710646033287048,
          0.034099142998456955,
          0.15774516761302948,
          -0.1903189867734909,
          0.1170443594455719,
          -0.10339514166116714,
          -0.06332679837942123,
          0.2371840626001358,
          0.08885860443115234,
          0.17234806716442108,
          -0.251959890127182,
          0.11251486837863922,
          0.06745816767215729,
          -0.17215591669082642,
          0.041921790689229965,
          0.12848398089408875
         ],
         "z": [
          0.46653860807418823,
          0.34766700863838196,
          0.4302632808685303,
          0.529804527759552,
          0.13893641531467438,
          0.09470592439174652,
          0.4343322813510895,
          0.3235386312007904,
          0.36885762214660645,
          0.4605486989021301,
          0.5060244202613831,
          0.49313226342201233,
          0.46000605821609497,
          0.47611820697784424,
          0.6721355319023132,
          0.4444880187511444,
          0.4687139391899109,
          0.5098971724510193,
          0.39788445830345154,
          0.41557544469833374,
          0.12339460104703903,
          -0.19829575717449188,
          0.10227157175540924,
          0.026390064507722855,
          0.47066405415534973,
          -0.09920452535152435,
          -0.12417703866958618,
          -0.015680985525250435,
          0.38286373019218445,
          -0.1430690437555313,
          0.256541907787323,
          -0.26419001817703247,
          0.44723671674728394,
          -0.25593873858451843,
          0.07806267589330673,
          0.4198094606399536,
          -0.007779572159051895,
          0.0740819126367569,
          -0.20486681163311005,
          -0.13232353329658508,
          0.09912316501140594,
          0.02927466854453087,
          -0.1175016462802887,
          0.10514058917760849,
          -0.09892471879720688,
          -0.04834785684943199,
          -0.19195374846458435,
          0.12155438214540482,
          -0.06966566294431686,
          -0.000005495561708812602,
          -0.06596185266971588,
          -0.15442168712615967,
          -0.07563628256320953,
          0.001970943994820118,
          0.0987464040517807,
          -0.030131882056593895,
          -0.23774640262126923,
          0.018499072641134262,
          0.04403853788971901,
          -0.18745110929012299,
          -0.09725389629602432,
          -0.06835394352674484,
          -0.33842065930366516,
          -0.12376482784748077,
          -0.08545466512441635,
          -0.1728343814611435,
          -0.07681380957365036,
          -0.1121831089258194,
          -0.13775800168514252,
          -0.03227781504392624,
          0.046955130994319916,
          -0.00020162788860034198,
          -0.11487967520952225,
          -0.08063188195228577,
          0.12690050899982452,
          -0.1128145232796669,
          -0.12098120898008347,
          -0.04854129999876022,
          -0.24092385172843933,
          -0.3859388530254364
         ]
        },
        {
         "customdata": [
          [
           0.2,
           "25 - 31",
           "**Query:emen**\n\n**Response:**\n\nThe term \"menemen\" refers to a traditional Turkish breakfast dish tha"
          ],
          [
           0.2,
           "25 - 31",
           "The following is a conversation between I and M:\n\nM: Good morning, I'm M. May I speak to Alex?\n\nI: T"
          ],
          [
           0.2,
           "25 - 31",
           "The code is designed to process a dataset of images and their associated annotations for object dete"
          ],
          [
           0.2,
           "25 - 31",
           "**Question:**\n\nYou are a renowned historian specializing in the study of ancient civilizations. Your"
          ],
          [
           0.2,
           "25 - 31",
           "The document discusses the impact of the COVID-1quantification of the pandemic's impact on the globa"
          ],
          [
           0.2,
           "25 - 31",
           "The professor's lecture on quantum mechanics was difficult to follow because the concepts were com"
          ],
          [
           0.2,
           "25 - 31",
           "\n\nQuestion 1: If a person has a fear of heights and they are standing on a ladder, would they be abl"
          ],
          [
           0.2,
           "25 - 31",
           "\n\nQuestion 1: If a person is experienquant to their own happiness, does that mean they will always b"
          ],
          [
           0.2,
           "25 - 31",
           "The story of the three friends, Alex, Jamie, and Taylor, revolves around their shared love for music"
          ],
          [
           0.2,
           "25 - 31",
           "\n\n**Exercise 1:**\n\nLet's consider a 9 sentence long challenging real-world case. A renowned philosop"
          ],
          [
           0.2,
           "25 - 31",
           "The teacher asked the students to write an essay on the topic of \"The Importance of Reading\".\n\n# Ans"
          ],
          [
           0.2,
           "25 - 31",
           "The story of the three friends, Alice, Bob, and Charlie, revolves around their shared love for mathe"
          ],
          [
           0.2,
           "25 - 31",
           "Again, we will use the formula for compound interest.\n\nFor Account A:\n\nA = P (1 + r/n)^(nt)\n\nwhere:\n"
          ],
          [
           0.2,
           "25 - 31",
           "The code you provided is for a simple neural network implementation using NumPy. It takes input data"
          ],
          [
           0.2,
           "25 - 31",
           "The farmer had to choose between planting corn or wheat. He chose the former because it was more pro"
          ],
          [
           0.2,
           "25 - 31",
           "The narrative of the 2quantum project is a fascinating tale of innovation, collaboration, and the re"
          ],
          [
           0.2,
           "25 - 31",
           "The question is about the following passage:\n\n\"The term 'sustainable development' was first coined b"
          ],
          [
           0.2,
           "25 - 31",
           "The story of the three friends, Alex, Bailey, and Casey, revolves around their shared passion for as"
          ],
          [
           0.2,
           "25 - 31",
           "She decided to take the bus instead of walking because it was raining heavily.\n"
          ],
          [
           0.2,
           "25 - 31",
           "This task involves analyzing a document about the impact of the COVID-1quantification of the impact "
          ],
          [
           0.5,
           "25 - 31",
           "The story of the young girl who overcame her fear of the dark by finding a special friend in her stu"
          ],
          [
           0.5,
           "25 - 31",
           "**Question:**\nCreate a program that takes a list of strings and returns a new list with only the str"
          ],
          [
           0.5,
           "25 - 31",
           "The story of John, a dedicated environmental scientist, unfolds as he embarks on a quest to assess t"
          ],
          [
           0.5,
           "25 - 31",
           "Again, I will provide a basic example of a Python module that simulates a simple neural network for "
          ],
          [
           0.5,
           "25 - 31",
           "This will output: \"The sentiment of the text is neutral.\"\n\nThe output of this code will be the same "
          ],
          [
           0.5,
           "25 - 31",
           "This time, let's consider a more complex scenario. At the annual meeting of the prestigious law firm"
          ],
          [
           0.5,
           "25 - 31",
           "The two friends, Alex and Ben, were out for a walk in the park. Alex was feeling happy because he ha"
          ],
          [
           0.5,
           "25 - 31",
           "\n\n**Creative Writing Instruction:**\n\nAlright, here we go, let's get those creative juices flowing wi"
          ],
          [
           0.5,
           "25 - 31",
           "She decided to buy the dress instead of the shoes because it was on sale.\n"
          ],
          [
           0.5,
           "25 - 31",
           "Again, this is a simple conversion, so we can directly calculate it as follows:\n\n1 kilogram = 2.2046"
          ],
          [
           0.5,
           "25 - 31",
           "The question asks about the main topic of a document. The document, titled \"The Impact of Soil pH on"
          ],
          [
           0.5,
           "25 - 31",
           "\n\nExercemen\n\nt of a city's budget for public transportation is $12 million. If the city decides to a"
          ],
          [
           0.5,
           "25 - 31",
           "Given the following list of ingredients:\n\n- Eggs: 2 large\n- Milk: 1 cup\n- Flour: 1 cup\n- Sugar: 1/2 "
          ],
          [
           0.5,
           "25 - 31",
           "The given problem can be solved using the concept of probability. \n\nFirst, let's calculate the proba"
          ],
          [
           0.5,
           "25 - 31",
           "**Scenario Analysis:**\n\nYou are provided with a case study involving a 40-year-quantum physicist nam"
          ],
          [
           0.5,
           "25 - 31",
           "She was always on time for work, but he was often late. He had a habit of oversleeping.\n"
          ],
          [
           0.5,
           "25 - 31",
           "The farmer had to choose between traditional fertilizer and organic compost. He opted for the compos"
          ],
          [
           0.5,
           "25 - 31",
           "The function takes a string as input and returns a modified string with all vowels removed.\n\nInput:\n"
          ],
          [
           0.5,
           "25 - 31",
           "This problem requires a more advanced understanding of the kinematics equations and the concept of u"
          ],
          [
           0.5,
           "25 - 31",
           "The local community garden has been thriving under the care of a dedicated group of volunteers. Rece"
          ],
          [
           0.8,
           "25 - 31",
           "She started her business with 1000 units of stock. After a successful sale of products, there was on"
          ],
          [
           0.8,
           "25 - 31",
           "\n\nSophie' clothes were ragged while Lucas had pristine attire; Sophie's garments were threadbare. Lu"
          ],
          [
           0.8,
           "25 - 31",
           "\nInstruction:\n\n1. **Topic Conplanarity**: Write a section on the implementation and application of t"
          ],
          [
           0.8,
           "25 - 31",
           "Tutor: \nAlright, let'delta=\\frac{dy}{dx}=\\frac{2x}{x^2+1}\\cdot\\frac{d}{dx}(x^2+1) - (x^2+1)\\cdot\\fra"
          ],
          [
           0.8,
           "25 - 31",
           "Again, we will generate two separate parts for the document focusing on 'Strategic Planning' and 'Ta"
          ],
          [
           0.8,
           "25 - 31",
           "The professor discussed the themes in both Hemingway' clothes.\n\nA. He\nB. I\n\nAnswer:B\n\n\nQuestion 1:\n\n"
          ],
          [
           0.8,
           "25 - 31",
           "This function should take a string as input and return a list of all possible palindromes that can b"
          ],
          [
           0.8,
           "25 - 31",
           "It took me less than 30 minutes to go from having no idea what I wanted to eat for lunch, to having "
          ],
          [
           0.8,
           "25 - 31",
           "### Input:\nAs an exercise in creative writing, you are provided with a snippet of pseudo-code descri"
          ],
          [
           0.8,
           "25 - 31",
           "\nUser: Hey, I read something fascinating about insects producing bioluminescent light. Can you tell "
          ],
          [
           0.8,
           "25 - 31",
           "## Question\n\nWhen presented with the abstract piece, Carlos saw a potential for depth that Emma over"
          ],
          [
           0.8,
           "25 - 31",
           "The program provided a comprehensive guide on how to deal with anger. Follow the steps outlined in t"
          ],
          [
           0.8,
           "25 - 31",
           "This would mean for every pound of copper produced, four pounds of chemical reactants are required, "
          ],
          [
           0.8,
           "25 - 31",
           "Against: No, it's not permissible in Islam as it violates the principle of not being deceitful.\n\nPro"
          ],
          [
           0.8,
           "25 - 31",
           "The content of an academic paper was challenged by a recent review article. The reviewer’s main cont"
          ],
          [
           0.8,
           "25 - 31",
           "The correct answer is option (C). Here's why:\n\nFirst, let's calculate the total area of the rooms:\nL"
          ],
          [
           0.8,
           "25 - 31",
           "This paper will be submitted to a peer-reviewed journal. I will need to revise this draft version of"
          ],
          [
           0.8,
           "25 - 31",
           "## question:\nGiven the following input, output what you predict will happen next.\nThe detective find"
          ],
          [
           0.8,
           "25 - 31",
           "She decided to go for a walk, whereas he chose to stay in bed, so he felt guilty afterwards.\n"
          ],
          [
           0.8,
           "25 - 31",
           "Cleaning your dishwдя in a dishwasher:\n\nA. Open the dishwjaсh drawer and pull out the top rack. Remo"
          ],
          [
           1.1,
           "25 - 31",
           "## Question\n\nRachel, who often skipped lunch with colleagues during work-intensive phases, began to "
          ],
          [
           1.1,
           "25 - 31",
           "C: The author would recommend using an app. \nD: None of the above options are accurate.\n- The correc"
          ],
          [
           1.1,
           "25 - 31",
           "** Query: Script out an original screenplay for a short indie film. It should have three characters "
          ],
          [
           1.1,
           "25 - 31",
           "## Input:\nAnalyze the sentiment of a given restaurant review. The tone could either be positive, neu"
          ],
          [
           1.1,
           "25 - 31",
           "It took a lot of patience, but eventually, Sarah was able to help her younger sister Linda in baking"
          ],
          [
           1.1,
           "25 - 31",
           "This comprehensive report provides an in-depth analysis and recommendations for implementing 'Climat"
          ],
          [
           1.1,
           "25 - 31",
           "Give the result of '7 * (4 + '2 x 3^2' - 1)' following the order of operations. Order of operations,"
          ],
          [
           1.1,
           "25 - 31",
           "Tutor: Okay, I see that you've correctly identified the two key parts of the problem. We need to cal"
          ],
          [
           1.1,
           "25 - 31",
           "Agora você deve desenvolver um modelo de machine learning multi-variáble para detecção de humor em p"
          ],
          [
           1.1,
           "25 - 31",
           "Andy agreed to a lower interest rate from his bank because Andy wanted to keep his loan payments aff"
          ],
          [
           1.1,
           "25 - 31",
           "Lila has finished reading and has two novels left. The first has 90 pages, and the second is 50 page"
          ],
          [
           1.1,
           "25 - 31",
           "Agents are now equipped with a detailed guide to combat climate change by harnessing the potent and "
          ],
          [
           1.1,
           "25 - 31",
           "It took David less time finishing his project than it took his brother because _ managed their time "
          ],
          [
           1.1,
           "25 - 31",
           "As a seasoned developer familiar with C++, please optimize the following code to ensure its executio"
          ],
          [
           1.1,
           "25 - 31",
           "Mustafa, Ibrahim and Halit are compared with each other and described by an analogy using 'like'. If"
          ],
          [
           1.1,
           "25 - 31",
           "This is a funny twist on the common idiom \"break the ice,\" which originally means to overcome initia"
          ],
          [
           1.1,
           "25 - 31",
           "She tried to read a book on the topic, but the text was too technical and confusing.\n"
          ],
          [
           1.1,
           "25 - 31",
           "When I have my coffee in French, I call it a \"café\".\n\n- AI:When I have my coffee in French, I call i"
          ],
          [
           1.1,
           "25 - 31",
           "**Scenario Creation for Law Firm Partnership Formation**\n\nBackground: An accomplished law firm named"
          ],
          [
           1.1,
           "25 - 31",
           "As a senior financial advisor with extensive experience, draft a compelling memo of approximately 30"
          ]
         ],
         "hovertemplate": "Temperature: %{customdata[0]}<br>Transplanted Layers: %{customdata[1]}<br>Output: %{customdata[2]}",
         "legendgroup": "25 - 31",
         "marker": {
          "color": [
           0.2,
           0.2,
           0.2,
           0.2,
           0.2,
           0.2,
           0.2,
           0.2,
           0.2,
           0.2,
           0.2,
           0.2,
           0.2,
           0.2,
           0.2,
           0.2,
           0.2,
           0.2,
           0.2,
           0.2,
           0.5,
           0.5,
           0.5,
           0.5,
           0.5,
           0.5,
           0.5,
           0.5,
           0.5,
           0.5,
           0.5,
           0.5,
           0.5,
           0.5,
           0.5,
           0.5,
           0.5,
           0.5,
           0.5,
           0.5,
           0.8,
           0.8,
           0.8,
           0.8,
           0.8,
           0.8,
           0.8,
           0.8,
           0.8,
           0.8,
           0.8,
           0.8,
           0.8,
           0.8,
           0.8,
           0.8,
           0.8,
           0.8,
           0.8,
           0.8,
           1.1,
           1.1,
           1.1,
           1.1,
           1.1,
           1.1,
           1.1,
           1.1,
           1.1,
           1.1,
           1.1,
           1.1,
           1.1,
           1.1,
           1.1,
           1.1,
           1.1,
           1.1,
           1.1,
           1.1
          ],
          "coloraxis": "coloraxis",
          "symbol": "square-open"
         },
         "mode": "markers",
         "name": "25 - 31",
         "scene": "scene",
         "showlegend": true,
         "type": "scatter3d",
         "x": [
          -0.16362568736076355,
          0.14592768251895905,
          -0.12937195599079132,
          -0.06603409349918365,
          -0.08817169815301895,
          0.008391099981963634,
          -0.07897762209177017,
          -0.15652509033679962,
          0.24781237542629242,
          0.10472877323627472,
          0.06437353789806366,
          0.11997728049755096,
          -0.27229318022727966,
          -0.2546561062335968,
          0.003436347236856818,
          0.015522944740951061,
          0.06252516061067581,
          0.24058568477630615,
          -0.13749657571315765,
          -0.03326728194952011,
          0.3176889419555664,
          -0.18592120707035065,
          0.0848301500082016,
          -0.254251629114151,
          -0.1350255310535431,
          0.052213821560144424,
          0.3130757510662079,
          0.21742120385169983,
          -0.0020404215902090073,
          -0.3179640471935272,
          -0.08335940539836884,
          -0.3361625373363495,
          -0.3946743309497833,
          -0.3588430881500244,
          -0.003964180126786232,
          0.1350094974040985,
          0.06434157490730286,
          -0.22022131085395813,
          -0.21814583241939545,
          0.15826977789402008,
          -0.2320076823234558,
          0.12909625470638275,
          -0.19960810244083405,
          -0.13766713440418243,
          -0.10994630306959152,
          0.12612682580947876,
          -0.22270914912223816,
          -0.16571266949176788,
          0.19345098733901978,
          0.1250634789466858,
          0.18212509155273438,
          -0.1010964959859848,
          -0.3533475399017334,
          -0.0824301615357399,
          -0.06272026151418686,
          -0.21233028173446655,
          -0.07988283783197403,
          -0.01704818196594715,
          0.10412467271089554,
          -0.26058778166770935,
          0.1288875937461853,
          -0.012881012633442879,
          -0.044375479221343994,
          -0.0733322948217392,
          -0.092420294880867,
          -0.1332119256258011,
          -0.30523237586021423,
          -0.17338956892490387,
          -0.01872905157506466,
          -0.08797156065702438,
          -0.06113963946700096,
          0.025623971596360207,
          -0.008767878636717796,
          -0.19159580767154694,
          -0.11567682027816772,
          0.06309868395328522,
          0.09748461842536926,
          0.001165547757409513,
          -0.04814182221889496,
          -0.13945302367210388
         ],
         "y": [
          -0.1557411402463913,
          0.3545700013637543,
          0.04884409159421921,
          0.09715066105127335,
          0.2517412006855011,
          0.15299659967422485,
          0.05615029111504555,
          0.11934652924537659,
          -0.16081827878952026,
          0.0938524529337883,
          0.09668826311826706,
          0.02933276630938053,
          0.08351240307092667,
          0.10930544883012772,
          0.004290414974093437,
          0.03623400256037712,
          0.2636148929595947,
          -0.09627992659807205,
          0.0784088522195816,
          0.24592381715774536,
          -0.2873367369174957,
          0.0015986331272870302,
          0.05409742519259453,
          0.042132921516895294,
          0.17594560980796814,
          -0.02465420961380005,
          0.0057557388208806515,
          -0.053442392498254776,
          0.00041379223694093525,
          0.07018017023801804,
          0.1830831617116928,
          0.2157289683818817,
          -0.30750173330307007,
          0.07394401729106903,
          0.16964994370937347,
          -0.002293303143233061,
          -0.034278932958841324,
          0.034802086651325226,
          0.05962444096803665,
          -0.07707692682743073,
          -0.01520495768636465,
          -0.2383931428194046,
          0.13108137249946594,
          0.12676160037517548,
          0.15365254878997803,
          0.02131844125688076,
          -0.08487484604120255,
          -0.16156508028507233,
          -0.20789118111133575,
          0.1894097924232483,
          0.008801110088825226,
          0.04826734960079193,
          0.12348747998476028,
          0.1246887668967247,
          0.17876307666301727,
          0.008989682421088219,
          0.13113859295845032,
          0.015213281847536564,
          -0.013828950934112072,
          -0.0025452347472310066,
          0.08824274688959122,
          0.10783259570598602,
          -0.12684990465641022,
          0.12321795523166656,
          -0.18724708259105682,
          0.1421058475971222,
          0.17076687514781952,
          0.15694032609462738,
          0.013746481388807297,
          0.13068294525146484,
          -0.08481060713529587,
          0.10112175345420837,
          0.14152057468891144,
          0.15634644031524658,
          0.027908192947506905,
          0.09866094589233398,
          0.05982261896133423,
          0.16411437094211578,
          0.13951599597930908,
          0.21301423013210297
         ],
         "z": [
          0.1626165509223938,
          0.4712543189525604,
          -0.12851673364639282,
          -0.19383452832698822,
          -0.24148312211036682,
          0.027390865609049797,
          -0.11950525641441345,
          -0.05590835586190224,
          0.061157237738370895,
          0.034605152904987335,
          -0.14714983105659485,
          0.23587150871753693,
          -0.06740713119506836,
          -0.07402988523244858,
          0.05129307508468628,
          -0.03558368235826492,
          -0.2163681983947754,
          0.09978743642568588,
          -0.017539530992507935,
          -0.27663981914520264,
          -0.10320888459682465,
          -0.028915196657180786,
          -0.1675882786512375,
          -0.11991669237613678,
          0.02838410995900631,
          -0.040785711258649826,
          0.25026994943618774,
          0.03243604674935341,
          0.16583305597305298,
          -0.061375461518764496,
          -0.09177019447088242,
          -0.07193667441606522,
          0.31068676710128784,
          -0.03737543523311615,
          0.008546577766537666,
          0.1373264491558075,
          -0.028524603694677353,
          -0.07057331502437592,
          -0.09188519418239594,
          -0.18536396324634552,
          0.006325028836727142,
          0.1522020697593689,
          -0.14833375811576843,
          0.03488006815314293,
          -0.20223450660705566,
          -0.047852516174316406,
          -0.045997120440006256,
          0.2959563732147217,
          -0.09461073577404022,
          0.30735987424850464,
          0.05147835612297058,
          -0.17600858211517334,
          -0.06786157190799713,
          0.011106858029961586,
          -0.18987701833248138,
          -0.03947506099939346,
          -0.22445683181285858,
          0.028506256639957428,
          0.14422525465488434,
          -0.07128743827342987,
          0.14939725399017334,
          0.007942773401737213,
          0.060720570385456085,
          0.09686388075351715,
          0.22271069884300232,
          -0.2619148790836334,
          -0.06844260543584824,
          -0.03005792200565338,
          0.08384733647108078,
          0.0996994748711586,
          0.0471830777823925,
          -0.24790756404399872,
          0.007892954163253307,
          -0.15392325818538666,
          0.1797557920217514,
          0.1420920044183731,
          0.04123477637767792,
          0.2052684873342514,
          -0.046237628906965256,
          -0.083628349006176
         ]
        },
        {
         "customdata": [
          [
           0.2,
           "0 - 5",
           "The first step in solving this problem is to understand the pattern of the sequence. The sequence st"
          ],
          [
           0.2,
           "0 - 5",
           "The first step in solving this problem is to understand the pattern of the sequence. We can see that"
          ],
          [
           0.2,
           "0 - 5",
           "The process of making a traditional Italian pasta dish involves several steps. First, the pasta is m"
          ],
          [
           0.2,
           "0 - 5",
           "The term \"cultural lag\" was first introduced by sociologist William F. Ogburn in his work on social "
          ],
          [
           0.2,
           "0 - 5",
           "Theory of Mind Exercises with Detailed Answers:\n\n1. Exercise: Imagine you are one of the characters "
          ],
          [
           0.2,
           "0 - 5",
           "Theory of Mind Exercises with Detailed Answers:\n\n1. Exercise: What might be the reason behind Alex's"
          ],
          [
           0.2,
           "0 - 5",
           "The first step in solving this problem is to understand the relationship between the number of chick"
          ],
          [
           0.2,
           "0 - 5",
           "The first step in solving this puzzle is to identify the pattern. We can see that each term in the s"
          ],
          [
           0.2,
           "0 - 5",
           "The first step in solving this problem is to understand the concept of combinations. Combinations ar"
          ],
          [
           0.2,
           "0 - 5",
           "The first step in solving this problem is to understand the concept of a \"prime triplet.\" A prime tr"
          ],
          [
           0.2,
           "0 - 5",
           "The first step in solving this problem is to understand the concept of a \"prime number.\" A prime num"
          ],
          [
           0.2,
           "0 - 5",
           "The first step in solving this problem is to understand the relationship between the number of apple"
          ],
          [
           0.2,
           "0 - 5",
           "Theory of Mind Exercises\n\n1. What if the protagonist did not have a strong sense of justice? How wou"
          ],
          [
           0.2,
           "0 - 5",
           "The conversation between the two friends, Sarah and Emily, revolved around their shared interest in "
          ],
          [
           0.2,
           "0 - 5",
           "The first step in solving this problem is to determine the total number of ways to distribute the ca"
          ],
          [
           0.2,
           "0 - 5",
           "The first step in solving this puzzle is to understand the relationship between the words. Here, we "
          ],
          [
           0.2,
           "0 - 5",
           "The first step in solving this problem is to understand the concept of a \"perfect square.\" A perfect"
          ],
          [
           0.2,
           "0 - 5",
           "The first step in solving this problem is to understand the relationship between the number of penci"
          ],
          [
           0.2,
           "0 - 5",
           "The process of creating a new piece of artwork is a complex and multifaceted endeavor. It involves a"
          ],
          [
           0.2,
           "0 - 5",
           "The process of creating a new piece of artwork begins with a blank canvas, much like a fresh page in"
          ],
          [
           0.5,
           "0 - 5",
           "Theory of Mind Exercises with Detailed Answers:\n\nExercise 1:\nIf Person A reacted in the opposite way"
          ],
          [
           0.5,
           "0 - 5",
           "For example, if we have the following data:\n\n| Year | Temperature (°C) |\n|------|------------------|"
          ],
          [
           0.5,
           "0 - 5",
           "As the sun began to set, casting a warm golden glow over the tranquil lake, Lily and Emily sat by th"
          ],
          [
           0.5,
           "0 - 5",
           "The company had a policy of paying employees a bonus for every hour of overtime they worked. The bon"
          ],
          [
           0.5,
           "0 - 5",
           "The process of creating a new album involves several key steps:\n\n\n1. **Conceptualization**: The arti"
          ],
          [
           0.5,
           "0 - 5",
           "The first thing you need to do is to create a new class for your custom view. This class will extend"
          ],
          [
           0.5,
           "0 - 5",
           "Sophia: I'm glad I could help. Remember, I'm here whenever you need assistance. Enjoy your reading, "
          ],
          [
           0.5,
           "0 - 5",
           "The story of the three friends, Alice, Bob, and Charlie, revolved around their shared passion for ma"
          ],
          [
           0.5,
           "0 - 5",
           "The concept of 'economic value creation' is central to the field of economics. It refers to the proc"
          ],
          [
           0.5,
           "0 - 5",
           "In the context of this document, the term \"Leadership\" is not referring to a position of authority o"
          ],
          [
           0.5,
           "0 - 5",
           "The scientist's work has implications for understanding memory and cognition.\n\n\n## Solution \n\nDr. "
          ],
          [
           0.5,
           "0 - 5",
           "As they sat in their favorite coffee shop, sipping on their hot beverquant, they discussed their lat"
          ],
          [
           0.5,
           "0 - 5",
           "For instance, consider the following code snippet:\n\n```python\nclass Person:\n    def __init__(self, n"
          ],
          [
           0.5,
           "0 - 5",
           "The first step in solving this puzzle is to create a grid with 5 rows and 5 columns. We can represen"
          ],
          [
           0.5,
           "0 - 5",
           "The debate began when a renowned philosopher proposed a theory that argued for a universal moral sta"
          ],
          [
           0.5,
           "0 - 5",
           "The first part of this analysis looked at the effect of temperature on the activity of the enzyme. T"
          ],
          [
           0.5,
           "0 - 5",
           "The study, published in the prestigious Journal of Virology, sheds light on the complex interactions"
          ],
          [
           0.5,
           "0 - 5",
           "Their journey was not without challenges. The town' electrons were not receptive to change, and the "
          ],
          [
           0.5,
           "0 - 5",
           "Theory of Mind Exercises\n\n1. How did the students feel when the teacher asked them to create a proje"
          ],
          [
           0.5,
           "0 - 5",
           "The first step in solving this puzzle is to identify the unique attributes of each element. Let's go"
          ],
          [
           0.8,
           "0 - 5",
           "Just like how a skilled conductor brings together various musicians to create a beautiful symphony, "
          ],
          [
           0.8,
           "0 - 5",
           "In the midst of this intellectual battle, I couldn't help but notice the parallel between our discus"
          ],
          [
           0.8,
           "0 - 5",
           "As the day wore on, Amara' kaempfer’s gaze lingered on the horizon, where the sea kissed the sky. Sh"
          ],
          [
           0.8,
           "0 - 5",
           "The government collects revenue through taxes, which are then allocated to various public services a"
          ],
          [
           0.8,
           "0 - 5",
           "When I look at this topic of Physics and its relationship with everyday life, I am reminded of somet"
          ],
          [
           0.8,
           "0 - 5",
           "The story of Bella and Max begins on a sunny Saturday afternoon. Bella had a plan to rearrange her p"
          ],
          [
           0.8,
           "0 - 5",
           "Firstly, we examine the role of technology in revolutionizing the production process of traditional "
          ],
          [
           0.8,
           "0 - 5",
           "One day, Sarah decided to bring her pet hermit crab to work with her. She carefully placed her crab "
          ],
          [
           0.8,
           "0 - 5",
           "As she made her way down the hallway to speak with the teacher, her thoughts were consumed with worr"
          ],
          [
           0.8,
           "0 - 5",
           "The story will be set in a bustling culinary school kitchen in Italy, known for its rich tradition o"
          ],
          [
           0.8,
           "0 - 5",
           "The process of recycling aluminum cans involves collecting used cans and transporting them to a sort"
          ],
          [
           0.8,
           "0 - 5",
           "\"But how did this event come to pass, and what might it mean for the future of our city?\" one reside"
          ],
          [
           0.8,
           "0 - 5",
           "As Alice'клазонды в зависимости от их ролей. Если одобреть подчиненные действия, то справедливо сказ"
          ],
          [
           0.8,
           "0 - 5",
           "\"As an aspiring ecologist and a lover of music, I've been thinking about how I can draw connections "
          ],
          [
           0.8,
           "0 - 5",
           "Desperne\n\n\nDesperate\n\n\nIn the depths of the suffocating jungle, the protagonist found himself entrap"
          ],
          [
           0.8,
           "0 - 5",
           "The study involved participants who were divided into two groups. One group was exposed to a neutral"
          ],
          [
           0.8,
           "0 - 5",
           "As they strolled through the town, Alex and Lily noticed a vibrant flower garden in the distance. Th"
          ],
          [
           0.8,
           "0 - 5",
           "The impact of such a significant change in social policy has been profound. By removing the legal ba"
          ],
          [
           0.8,
           "0 - 5",
           "The term \"junk\" can have different meanings based on the context. In this case, the passage suggests"
          ],
          [
           0.8,
           "0 - 5",
           "As she reached for a piece of fruit, her phone rang. It was her friend Maria, asking how she was doi"
          ],
          [
           1.1,
           "0 - 5",
           "Chapter 1: Introduction to Rounding Mixed Numbers\n\nRounding mixed numbers is essentially the process"
          ],
          [
           1.1,
           "0 - 5",
           "Maria was taken aback by his response. She felt tears welling up in her eyes as she struggled to kee"
          ],
          [
           1.1,
           "0 - 5",
           "In conclusion, the study of virology infection mechanisms provides crucial insights into viral trans"
          ],
          [
           1.1,
           "0 - 5",
           "Sam's mom decided to make a batch of sandwiches for a school event. She needs to prepare a certain n"
          ],
          [
           1.1,
           "0 - 5",
           "Scientist 1: We could use animal models for the initial experiments. We could manipulate the gut mic"
          ],
          [
           1.1,
           "0 - 5",
           "For a single nucleotide, since we have equal probabilities for choosing amongst the four options (A,"
          ],
          [
           1.1,
           "0 - 5",
           "The debate on ATVS pivots on their dual roles: enabler of essential services for the public and a so"
          ],
          [
           1.1,
           "0 - 5",
           "The concept behind a dipole involves two equal and opposite charges (positive and negative) located "
          ],
          [
           1.1,
           "0 - 5",
           "Firstly, you extract minerals by drilling into the ground and mining them. This can be a tiresome jo"
          ],
          [
           1.1,
           "0 - 5",
           "In an environment of low inflation, the actual inflation rate and the expected inflation rate conver"
          ],
          [
           1.1,
           "0 - 5",
           "After weeks of brainstorming and analyzing user needs, Sarah and her team unveiled a revolutionary a"
          ],
          [
           1.1,
           "0 - 5",
           "Todbeginning her task as head librarian at the Grand Archives Library, Arabella was acutely aware of"
          ],
          [
           1.1,
           "0 - 5",
           "The term \"revenue\" refers to the income generated from business activities, such as the sale of good"
          ],
          [
           1.1,
           "0 - 5",
           "Before delving into the impact of these policies on agricultural productivity, it is essential first"
          ],
          [
           1.1,
           "0 - 5",
           "Their stories might differ vastly in both content and style, from the giddy, exhilarated thrill of e"
          ],
          [
           1.1,
           "0 - 5",
           "At the start, Alex' nailed it. His idea, a digital platform that connects users to the entire intern"
          ],
          [
           1.1,
           "0 - 5",
           "\n**Exercuits Phi (3):** The next puzzle requires identifying the correct operation symbol (+/×/≠/≤/≠"
          ],
          [
           1.1,
           "0 - 5",
           "For those struggling with addiction, it can be incredibly difficult to recognize the impact of their"
          ],
          [
           1.1,
           "0 - 5",
           "In the grand assembly of the periodic table, we stand amidst the noble gases, known not by names but"
          ],
          [
           1.1,
           "0 - 5",
           "\"Our goal is not to demonize parents, nor do we want to label them as criminals or uncaring,\" wrote "
          ]
         ],
         "hovertemplate": "Temperature: %{customdata[0]}<br>Transplanted Layers: %{customdata[1]}<br>Output: %{customdata[2]}",
         "legendgroup": "0 - 5",
         "marker": {
          "color": [
           0.2,
           0.2,
           0.2,
           0.2,
           0.2,
           0.2,
           0.2,
           0.2,
           0.2,
           0.2,
           0.2,
           0.2,
           0.2,
           0.2,
           0.2,
           0.2,
           0.2,
           0.2,
           0.2,
           0.2,
           0.5,
           0.5,
           0.5,
           0.5,
           0.5,
           0.5,
           0.5,
           0.5,
           0.5,
           0.5,
           0.5,
           0.5,
           0.5,
           0.5,
           0.5,
           0.5,
           0.5,
           0.5,
           0.5,
           0.5,
           0.8,
           0.8,
           0.8,
           0.8,
           0.8,
           0.8,
           0.8,
           0.8,
           0.8,
           0.8,
           0.8,
           0.8,
           0.8,
           0.8,
           0.8,
           0.8,
           0.8,
           0.8,
           0.8,
           0.8,
           1.1,
           1.1,
           1.1,
           1.1,
           1.1,
           1.1,
           1.1,
           1.1,
           1.1,
           1.1,
           1.1,
           1.1,
           1.1,
           1.1,
           1.1,
           1.1,
           1.1,
           1.1,
           1.1,
           1.1
          ],
          "coloraxis": "coloraxis",
          "symbol": "x"
         },
         "mode": "markers",
         "name": "0 - 5",
         "scene": "scene",
         "showlegend": true,
         "type": "scatter3d",
         "x": [
          -0.2660863697528839,
          -0.31861555576324463,
          -0.38489386439323425,
          -0.007578373420983553,
          0.24709607660770416,
          0.1933819055557251,
          -0.33607718348503113,
          -0.2616207003593445,
          -0.3976297676563263,
          -0.3712499141693115,
          -0.339327871799469,
          -0.3430310785770416,
          0.18825986981391907,
          0.22540244460105896,
          -0.3253456652164459,
          -0.03071955218911171,
          -0.26504477858543396,
          -0.30738407373428345,
          0.03408391401171684,
          0.09107866883277893,
          0.13467825949192047,
          -0.2572626769542694,
          0.3877601623535156,
          -0.22001712024211884,
          -0.14496944844722748,
          -0.18018625676631927,
          0.19077077507972717,
          0.10315247625112534,
          -0.2209186851978302,
          0.04603412374854088,
          0.20156806707382202,
          0.05552230030298233,
          -0.12431852519512177,
          -0.2323923259973526,
          0.05255963280797005,
          -0.316571980714798,
          0.042330384254455566,
          0.25991570949554443,
          0.1362607181072235,
          -0.14953158795833588,
          -0.044696979224681854,
          0.10767140239477158,
          0.2551819086074829,
          -0.2596282660961151,
          -0.004898648243397474,
          0.21455545723438263,
          -0.06770876049995422,
          0.11001400649547577,
          0.32757440209388733,
          0.0063956063240766525,
          -0.2709207534790039,
          0.34956371784210205,
          0.02235424891114235,
          0.1636112928390503,
          0.1493639349937439,
          0.10051428526639938,
          0.15364250540733337,
          -0.15436671674251556,
          -0.10513312369585037,
          0.1790706366300583,
          -0.3473981022834778,
          0.27290961146354675,
          -0.09785258769989014,
          -0.36037737131118774,
          -0.12264437973499298,
          -0.22082296013832092,
          -0.003980592824518681,
          -0.2755105793476105,
          -0.15471476316452026,
          -0.12834970653057098,
          0.022396298125386238,
          0.09746844321489334,
          -0.2137763798236847,
          -0.12798699736595154,
          0.44522154331207275,
          0.18741123378276825,
          -0.2310686558485031,
          -0.027608469128608704,
          -0.07478337734937668,
          0.08503473550081253
         ],
         "y": [
          0.020735042169690132,
          0.0708405151963234,
          -0.15563608705997467,
          0.21333497762680054,
          0.01980724185705185,
          0.04241664707660675,
          -0.046929553151130676,
          -0.018054258078336716,
          -0.03809012845158577,
          0.016320019960403442,
          0.026059404015541077,
          -0.037917882204055786,
          0.0020088255405426025,
          -0.08512402325868607,
          -0.08400703966617584,
          0.06380542367696762,
          0.09385363012552261,
          -0.024606505408883095,
          -0.0861377865076065,
          -0.08030981570482254,
          0.23640020191669464,
          0.29235631227493286,
          -0.11790189146995544,
          0.1023760437965393,
          -0.033240385353565216,
          -0.006123154889792204,
          -0.05367279425263405,
          -0.025284044444561005,
          0.21369028091430664,
          0.12035304307937622,
          0.045903392136096954,
          -0.17552919685840607,
          0.20088684558868408,
          -0.039993464946746826,
          0.16874994337558746,
          0.023278018459677696,
          0.11131793260574341,
          -0.03716862201690674,
          0.11997181922197342,
          -0.06437196582555771,
          0.07763192057609558,
          0.025819949805736542,
          -0.19291813671588898,
          0.17650431394577026,
          0.05876807123422623,
          -0.10231272876262665,
          -0.06793101131916046,
          -0.03561920300126076,
          -0.18219517171382904,
          -0.23260533809661865,
          0.07073928415775299,
          -0.10386822372674942,
          -0.016837844625115395,
          -0.0660473108291626,
          -0.17226076126098633,
          0.10218323022127151,
          -0.1338832974433899,
          0.1944710612297058,
          -0.026035381481051445,
          0.05953208729624748,
          -0.010414372198283672,
          -0.17545029520988464,
          0.19244609773159027,
          -0.09779274463653564,
          0.08801965415477753,
          0.08244597166776657,
          0.19244050979614258,
          0.09996364265680313,
          0.18292492628097534,
          0.12549634277820587,
          -0.0737672746181488,
          -0.12870949506759644,
          0.192280113697052,
          0.16603805124759674,
          -0.2085842788219452,
          0.027209213003516197,
          -0.011818277649581432,
          0.11446109414100647,
          0.04717445373535156,
          0.0898112878203392
         ],
         "z": [
          -0.1609857678413391,
          -0.1410563737154007,
          0.19701798260211945,
          -0.1635139137506485,
          0.038113705813884735,
          -0.005515458527952433,
          0.025772137567400932,
          -0.09017261862754822,
          0.016398979350924492,
          -0.06868994235992432,
          -0.12465998530387878,
          0.006270639132708311,
          -0.10075458884239197,
          0.06849028170108795,
          0.08624865114688873,
          -0.06266263127326965,
          -0.024383295327425003,
          -0.037651143968105316,
          -0.16486190259456635,
          -0.088681660592556,
          -0.0573941133916378,
          -0.1926785409450531,
          -0.17348293960094452,
          0.014191792346537113,
          -0.11660673469305038,
          -0.08373752981424332,
          0.09667566418647766,
          0.12250292301177979,
          -0.14643417298793793,
          -0.2163422852754593,
          0.031220030039548874,
          0.007206846494227648,
          0.03157893568277359,
          -0.11400442570447922,
          -0.07074891775846481,
          -0.157400980591774,
          -0.09535638242959976,
          -0.20210333168506622,
          -0.10419148206710815,
          -0.17134758830070496,
          -0.13967958092689514,
          -0.04769503325223923,
          -0.08631233870983124,
          -0.1556757539510727,
          -0.08954180777072906,
          0.014961854554712772,
          -0.0979953184723854,
          0.09618477523326874,
          0.018030008301138878,
          0.08818063139915466,
          -0.12309861928224564,
          -0.11330758035182953,
          0.04022500291466713,
          -0.1497543454170227,
          -0.19397057592868805,
          -0.12275036424398422,
          -0.11431222409009933,
          -0.15873661637306213,
          -0.11843197047710419,
          0.2830398976802826,
          0.005811797454953194,
          0.11327569931745529,
          -0.17080247402191162,
          0.18796002864837646,
          -0.03436548635363579,
          0.004512443672865629,
          -0.2163323312997818,
          -0.0909864604473114,
          -0.12675701081752777,
          -0.11610805243253708,
          0.056586749851703644,
          -0.15028665959835052,
          -0.09283104538917542,
          -0.16370336711406708,
          -0.043729934841394424,
          -0.05238252505660057,
          -0.04004259780049324,
          -0.0655144527554512,
          -0.10672549158334732,
          -0.07507970929145813
         ]
        }
       ],
       "layout": {
        "coloraxis": {
         "colorbar": {
          "title": {
           "text": "temperature"
          },
          "x": 100,
          "xref": "container",
          "y": 1,
          "yanchor": "top"
         },
         "colorscale": [
          [
           0,
           "#0d0887"
          ],
          [
           0.1111111111111111,
           "#46039f"
          ],
          [
           0.2222222222222222,
           "#7201a8"
          ],
          [
           0.3333333333333333,
           "#9c179e"
          ],
          [
           0.4444444444444444,
           "#bd3786"
          ],
          [
           0.5555555555555556,
           "#d8576b"
          ],
          [
           0.6666666666666666,
           "#ed7953"
          ],
          [
           0.7777777777777778,
           "#fb9f3a"
          ],
          [
           0.8888888888888888,
           "#fdca26"
          ],
          [
           1,
           "#f0f921"
          ]
         ]
        },
        "legend": {
         "title": {
          "text": "layers_string"
         },
         "tracegroupgap": 0
        },
        "scene": {
         "domain": {
          "x": [
           0,
           1
          ],
          "y": [
           0,
           1
          ]
         },
         "xaxis": {
          "title": {
           "text": "dim1"
          }
         },
         "yaxis": {
          "title": {
           "text": "dim2"
          }
         },
         "zaxis": {
          "title": {
           "text": "dim3"
          }
         }
        },
        "template": {
         "data": {
          "bar": [
           {
            "error_x": {
             "color": "#2a3f5f"
            },
            "error_y": {
             "color": "#2a3f5f"
            },
            "marker": {
             "line": {
              "color": "#E5ECF6",
              "width": 0.5
             },
             "pattern": {
              "fillmode": "overlay",
              "size": 10,
              "solidity": 0.2
             }
            },
            "type": "bar"
           }
          ],
          "barpolar": [
           {
            "marker": {
             "line": {
              "color": "#E5ECF6",
              "width": 0.5
             },
             "pattern": {
              "fillmode": "overlay",
              "size": 10,
              "solidity": 0.2
             }
            },
            "type": "barpolar"
           }
          ],
          "carpet": [
           {
            "aaxis": {
             "endlinecolor": "#2a3f5f",
             "gridcolor": "white",
             "linecolor": "white",
             "minorgridcolor": "white",
             "startlinecolor": "#2a3f5f"
            },
            "baxis": {
             "endlinecolor": "#2a3f5f",
             "gridcolor": "white",
             "linecolor": "white",
             "minorgridcolor": "white",
             "startlinecolor": "#2a3f5f"
            },
            "type": "carpet"
           }
          ],
          "choropleth": [
           {
            "colorbar": {
             "outlinewidth": 0,
             "ticks": ""
            },
            "type": "choropleth"
           }
          ],
          "contour": [
           {
            "colorbar": {
             "outlinewidth": 0,
             "ticks": ""
            },
            "colorscale": [
             [
              0,
              "#0d0887"
             ],
             [
              0.1111111111111111,
              "#46039f"
             ],
             [
              0.2222222222222222,
              "#7201a8"
             ],
             [
              0.3333333333333333,
              "#9c179e"
             ],
             [
              0.4444444444444444,
              "#bd3786"
             ],
             [
              0.5555555555555556,
              "#d8576b"
             ],
             [
              0.6666666666666666,
              "#ed7953"
             ],
             [
              0.7777777777777778,
              "#fb9f3a"
             ],
             [
              0.8888888888888888,
              "#fdca26"
             ],
             [
              1,
              "#f0f921"
             ]
            ],
            "type": "contour"
           }
          ],
          "contourcarpet": [
           {
            "colorbar": {
             "outlinewidth": 0,
             "ticks": ""
            },
            "type": "contourcarpet"
           }
          ],
          "heatmap": [
           {
            "colorbar": {
             "outlinewidth": 0,
             "ticks": ""
            },
            "colorscale": [
             [
              0,
              "#0d0887"
             ],
             [
              0.1111111111111111,
              "#46039f"
             ],
             [
              0.2222222222222222,
              "#7201a8"
             ],
             [
              0.3333333333333333,
              "#9c179e"
             ],
             [
              0.4444444444444444,
              "#bd3786"
             ],
             [
              0.5555555555555556,
              "#d8576b"
             ],
             [
              0.6666666666666666,
              "#ed7953"
             ],
             [
              0.7777777777777778,
              "#fb9f3a"
             ],
             [
              0.8888888888888888,
              "#fdca26"
             ],
             [
              1,
              "#f0f921"
             ]
            ],
            "type": "heatmap"
           }
          ],
          "heatmapgl": [
           {
            "colorbar": {
             "outlinewidth": 0,
             "ticks": ""
            },
            "colorscale": [
             [
              0,
              "#0d0887"
             ],
             [
              0.1111111111111111,
              "#46039f"
             ],
             [
              0.2222222222222222,
              "#7201a8"
             ],
             [
              0.3333333333333333,
              "#9c179e"
             ],
             [
              0.4444444444444444,
              "#bd3786"
             ],
             [
              0.5555555555555556,
              "#d8576b"
             ],
             [
              0.6666666666666666,
              "#ed7953"
             ],
             [
              0.7777777777777778,
              "#fb9f3a"
             ],
             [
              0.8888888888888888,
              "#fdca26"
             ],
             [
              1,
              "#f0f921"
             ]
            ],
            "type": "heatmapgl"
           }
          ],
          "histogram": [
           {
            "marker": {
             "pattern": {
              "fillmode": "overlay",
              "size": 10,
              "solidity": 0.2
             }
            },
            "type": "histogram"
           }
          ],
          "histogram2d": [
           {
            "colorbar": {
             "outlinewidth": 0,
             "ticks": ""
            },
            "colorscale": [
             [
              0,
              "#0d0887"
             ],
             [
              0.1111111111111111,
              "#46039f"
             ],
             [
              0.2222222222222222,
              "#7201a8"
             ],
             [
              0.3333333333333333,
              "#9c179e"
             ],
             [
              0.4444444444444444,
              "#bd3786"
             ],
             [
              0.5555555555555556,
              "#d8576b"
             ],
             [
              0.6666666666666666,
              "#ed7953"
             ],
             [
              0.7777777777777778,
              "#fb9f3a"
             ],
             [
              0.8888888888888888,
              "#fdca26"
             ],
             [
              1,
              "#f0f921"
             ]
            ],
            "type": "histogram2d"
           }
          ],
          "histogram2dcontour": [
           {
            "colorbar": {
             "outlinewidth": 0,
             "ticks": ""
            },
            "colorscale": [
             [
              0,
              "#0d0887"
             ],
             [
              0.1111111111111111,
              "#46039f"
             ],
             [
              0.2222222222222222,
              "#7201a8"
             ],
             [
              0.3333333333333333,
              "#9c179e"
             ],
             [
              0.4444444444444444,
              "#bd3786"
             ],
             [
              0.5555555555555556,
              "#d8576b"
             ],
             [
              0.6666666666666666,
              "#ed7953"
             ],
             [
              0.7777777777777778,
              "#fb9f3a"
             ],
             [
              0.8888888888888888,
              "#fdca26"
             ],
             [
              1,
              "#f0f921"
             ]
            ],
            "type": "histogram2dcontour"
           }
          ],
          "mesh3d": [
           {
            "colorbar": {
             "outlinewidth": 0,
             "ticks": ""
            },
            "type": "mesh3d"
           }
          ],
          "parcoords": [
           {
            "line": {
             "colorbar": {
              "outlinewidth": 0,
              "ticks": ""
             }
            },
            "type": "parcoords"
           }
          ],
          "pie": [
           {
            "automargin": true,
            "type": "pie"
           }
          ],
          "scatter": [
           {
            "fillpattern": {
             "fillmode": "overlay",
             "size": 10,
             "solidity": 0.2
            },
            "type": "scatter"
           }
          ],
          "scatter3d": [
           {
            "line": {
             "colorbar": {
              "outlinewidth": 0,
              "ticks": ""
             }
            },
            "marker": {
             "colorbar": {
              "outlinewidth": 0,
              "ticks": ""
             }
            },
            "type": "scatter3d"
           }
          ],
          "scattercarpet": [
           {
            "marker": {
             "colorbar": {
              "outlinewidth": 0,
              "ticks": ""
             }
            },
            "type": "scattercarpet"
           }
          ],
          "scattergeo": [
           {
            "marker": {
             "colorbar": {
              "outlinewidth": 0,
              "ticks": ""
             }
            },
            "type": "scattergeo"
           }
          ],
          "scattergl": [
           {
            "marker": {
             "colorbar": {
              "outlinewidth": 0,
              "ticks": ""
             }
            },
            "type": "scattergl"
           }
          ],
          "scattermapbox": [
           {
            "marker": {
             "colorbar": {
              "outlinewidth": 0,
              "ticks": ""
             }
            },
            "type": "scattermapbox"
           }
          ],
          "scatterpolar": [
           {
            "marker": {
             "colorbar": {
              "outlinewidth": 0,
              "ticks": ""
             }
            },
            "type": "scatterpolar"
           }
          ],
          "scatterpolargl": [
           {
            "marker": {
             "colorbar": {
              "outlinewidth": 0,
              "ticks": ""
             }
            },
            "type": "scatterpolargl"
           }
          ],
          "scatterternary": [
           {
            "marker": {
             "colorbar": {
              "outlinewidth": 0,
              "ticks": ""
             }
            },
            "type": "scatterternary"
           }
          ],
          "surface": [
           {
            "colorbar": {
             "outlinewidth": 0,
             "ticks": ""
            },
            "colorscale": [
             [
              0,
              "#0d0887"
             ],
             [
              0.1111111111111111,
              "#46039f"
             ],
             [
              0.2222222222222222,
              "#7201a8"
             ],
             [
              0.3333333333333333,
              "#9c179e"
             ],
             [
              0.4444444444444444,
              "#bd3786"
             ],
             [
              0.5555555555555556,
              "#d8576b"
             ],
             [
              0.6666666666666666,
              "#ed7953"
             ],
             [
              0.7777777777777778,
              "#fb9f3a"
             ],
             [
              0.8888888888888888,
              "#fdca26"
             ],
             [
              1,
              "#f0f921"
             ]
            ],
            "type": "surface"
           }
          ],
          "table": [
           {
            "cells": {
             "fill": {
              "color": "#EBF0F8"
             },
             "line": {
              "color": "white"
             }
            },
            "header": {
             "fill": {
              "color": "#C8D4E3"
             },
             "line": {
              "color": "white"
             }
            },
            "type": "table"
           }
          ]
         },
         "layout": {
          "annotationdefaults": {
           "arrowcolor": "#2a3f5f",
           "arrowhead": 0,
           "arrowwidth": 1
          },
          "autotypenumbers": "strict",
          "coloraxis": {
           "colorbar": {
            "outlinewidth": 0,
            "ticks": ""
           }
          },
          "colorscale": {
           "diverging": [
            [
             0,
             "#8e0152"
            ],
            [
             0.1,
             "#c51b7d"
            ],
            [
             0.2,
             "#de77ae"
            ],
            [
             0.3,
             "#f1b6da"
            ],
            [
             0.4,
             "#fde0ef"
            ],
            [
             0.5,
             "#f7f7f7"
            ],
            [
             0.6,
             "#e6f5d0"
            ],
            [
             0.7,
             "#b8e186"
            ],
            [
             0.8,
             "#7fbc41"
            ],
            [
             0.9,
             "#4d9221"
            ],
            [
             1,
             "#276419"
            ]
           ],
           "sequential": [
            [
             0,
             "#0d0887"
            ],
            [
             0.1111111111111111,
             "#46039f"
            ],
            [
             0.2222222222222222,
             "#7201a8"
            ],
            [
             0.3333333333333333,
             "#9c179e"
            ],
            [
             0.4444444444444444,
             "#bd3786"
            ],
            [
             0.5555555555555556,
             "#d8576b"
            ],
            [
             0.6666666666666666,
             "#ed7953"
            ],
            [
             0.7777777777777778,
             "#fb9f3a"
            ],
            [
             0.8888888888888888,
             "#fdca26"
            ],
            [
             1,
             "#f0f921"
            ]
           ],
           "sequentialminus": [
            [
             0,
             "#0d0887"
            ],
            [
             0.1111111111111111,
             "#46039f"
            ],
            [
             0.2222222222222222,
             "#7201a8"
            ],
            [
             0.3333333333333333,
             "#9c179e"
            ],
            [
             0.4444444444444444,
             "#bd3786"
            ],
            [
             0.5555555555555556,
             "#d8576b"
            ],
            [
             0.6666666666666666,
             "#ed7953"
            ],
            [
             0.7777777777777778,
             "#fb9f3a"
            ],
            [
             0.8888888888888888,
             "#fdca26"
            ],
            [
             1,
             "#f0f921"
            ]
           ]
          },
          "colorway": [
           "#636efa",
           "#EF553B",
           "#00cc96",
           "#ab63fa",
           "#FFA15A",
           "#19d3f3",
           "#FF6692",
           "#B6E880",
           "#FF97FF",
           "#FECB52"
          ],
          "font": {
           "color": "#2a3f5f"
          },
          "geo": {
           "bgcolor": "white",
           "lakecolor": "white",
           "landcolor": "#E5ECF6",
           "showlakes": true,
           "showland": true,
           "subunitcolor": "white"
          },
          "hoverlabel": {
           "align": "left"
          },
          "hovermode": "closest",
          "mapbox": {
           "style": "light"
          },
          "paper_bgcolor": "white",
          "plot_bgcolor": "#E5ECF6",
          "polar": {
           "angularaxis": {
            "gridcolor": "white",
            "linecolor": "white",
            "ticks": ""
           },
           "bgcolor": "#E5ECF6",
           "radialaxis": {
            "gridcolor": "white",
            "linecolor": "white",
            "ticks": ""
           }
          },
          "scene": {
           "xaxis": {
            "backgroundcolor": "#E5ECF6",
            "gridcolor": "white",
            "gridwidth": 2,
            "linecolor": "white",
            "showbackground": true,
            "ticks": "",
            "zerolinecolor": "white"
           },
           "yaxis": {
            "backgroundcolor": "#E5ECF6",
            "gridcolor": "white",
            "gridwidth": 2,
            "linecolor": "white",
            "showbackground": true,
            "ticks": "",
            "zerolinecolor": "white"
           },
           "zaxis": {
            "backgroundcolor": "#E5ECF6",
            "gridcolor": "white",
            "gridwidth": 2,
            "linecolor": "white",
            "showbackground": true,
            "ticks": "",
            "zerolinecolor": "white"
           }
          },
          "shapedefaults": {
           "line": {
            "color": "#2a3f5f"
           }
          },
          "ternary": {
           "aaxis": {
            "gridcolor": "white",
            "linecolor": "white",
            "ticks": ""
           },
           "baxis": {
            "gridcolor": "white",
            "linecolor": "white",
            "ticks": ""
           },
           "bgcolor": "#E5ECF6",
           "caxis": {
            "gridcolor": "white",
            "linecolor": "white",
            "ticks": ""
           }
          },
          "title": {
           "x": 0.05
          },
          "xaxis": {
           "automargin": true,
           "gridcolor": "white",
           "linecolor": "white",
           "ticks": "",
           "title": {
            "standoff": 15
           },
           "zerolinecolor": "white",
           "zerolinewidth": 2
          },
          "yaxis": {
           "automargin": true,
           "gridcolor": "white",
           "linecolor": "white",
           "ticks": "",
           "title": {
            "standoff": 15
           },
           "zerolinecolor": "white",
           "zerolinewidth": 2
          }
         }
        },
        "title": {
         "text": "PCA of Agnes Story Embeddings"
        }
       }
      },
      "text/html": [
       "<div>                            <div id=\"e50e17aa-0575-4ea5-a10a-9253a2505085\" class=\"plotly-graph-div\" style=\"height:525px; width:100%;\"></div>            <script type=\"text/javascript\">                require([\"plotly\"], function(Plotly) {                    window.PLOTLYENV=window.PLOTLYENV || {};                                    if (document.getElementById(\"e50e17aa-0575-4ea5-a10a-9253a2505085\")) {                    Plotly.newPlot(                        \"e50e17aa-0575-4ea5-a10a-9253a2505085\",                        [{\"customdata\":[[0.2,\"None\",\"The first step in solving this equation is to isolate the variable term on one side of the equation.\"],[0.2,\"None\",\"Their conversation flowed effortlessly, like a river winding its way through a picturesque landscape\"],[0.2,\"None\",\"Theory of Mind Exercises with detailed answers:\\n\\n1. Exercise: What might be going through John's min\"],[0.2,\"None\",\"The first step in solving this puzzle is to identify the pattern. We can see that the first column i\"],[0.2,\"None\",\"The first step in solving this problem is to understand the concept of a \\\"perfect square.\\\" A perfect\"],[0.2,\"None\",\"The first step in solving this problem is to understand the concept of combinations. Combinations ar\"],[0.2,\"None\",\"The first step in solving this problem is to understand the concept of combinations. Combinations ar\"],[0.2,\"None\",\"The first step in solving this problem is to understand the relationship between the number of penci\"],[0.2,\"None\",\"The term \\\"Economic Recession\\\" refers to a significant decline in economic activity spread across the\"],[0.2,\"None\",\"The first step in solving this problem is to understand the concept of a \\\"prime number.\\\" A prime num\"],[0.2,\"None\",\"The process of creating a customized jewelry piece involves several steps, each requiring attention \"],[0.2,\"None\",\"The first step in solving this problem is to understand the concept of a \\\"prime palindrome.\\\" A prime\"],[0.2,\"None\",\"The first step in solving this problem is to understand the concept of permutations. A permutation i\"],[0.2,\"None\",\"The first step in solving this problem is to understand the relationship between the number of chick\"],[0.2,\"None\",\"The concept of \\\"fairness\\\" in this context is subjective and can vary greatly depending on one's pers\"],[0.2,\"None\",\"Their conversation flowed effortlessly, like a gentle stream winding its way through a lush forest. \"],[0.2,\"None\",\"The first step in solving this problem is to understand the concept of a \\\"perfect square.\\\" A perfect\"],[0.2,\"None\",\"The first step in this process is to identify the root cause of the problem. This requires a thoroug\"],[0.2,\"None\",\"The first step in solving this problem is to understand the concept of permutations. A permutation i\"],[0.2,\"None\",\"The study, led by Professor Jane Smith at the University of Health Sciences, involved a diverse grou\"],[0.5,\"None\",\"In the context of the given document, the term \\\"Medicare\\\" refers to a federal health insurance progr\"],[0.5,\"None\",\"Theory of Mind Exercises:\\n\\n1. What if Dr. Smith had not been so kind to the student? How would the s\"],[0.5,\"None\",\"The town'emen, a group of townsfolk, are organizing a charity carnival to raise funds for the local \"],[0.5,\"None\",\"Their conversation meandered through the complexities of the human condition, touching upon the intr\"],[0.5,\"None\",\"The process of creating a customized plan for a client involves several steps. Firstly, it is essent\"],[0.5,\"None\",\"The first step in this process is to identify the parts of speech of the words in the sentence. In t\"],[0.5,\"None\",\"In the first year, the tree grew 1 foot.\\n\\nIn the second year, it grew as much as the first two years\"],[0.5,\"None\",\"As a result, the economy is characterized by a high degree of uncertainty and unpredictability, lead\"],[0.5,\"None\",\"The study, published in the Journal of Agricultural Science, found that cows fed with a combination \"],[0.5,\"None\",\"The process of creating a monster movie often involves a blend of practical effects, computer-genera\"],[0.5,\"None\",\"The town'emen, who had gathered to discuss the matter, were divided. Some argued that the church sho\"],[0.5,\"None\",\"In this case, the \\\"object\\\" is the legal concept of \\\"double jeopquant\\\" under international law. The \\\"\"],[0.5,\"None\",\"The conversation between Lily and her mother, Mrs. Thompson, revolved around the upcoming school pla\"],[0.5,\"None\",\"The researchers found that the microbes in the gut of obese individuals had a significantly lower di\"],[0.5,\"None\",\"The process of making a traditional sushi roll is intricate and requires precision. It starts with p\"],[0.5,\"None\",\"The professor, intrigued by the student'\\u0080\\u0099s analogy, delved deeper into the subject, explaining how \"],[0.5,\"None\",\"Their conversation meandered through topics of renewable energy, the impact of human activities on t\"],[0.5,\"None\",\"However, not all of the time spent on these activities is productive. There are distractions that ca\"],[0.5,\"None\",\"The debate over the definition of a word often reflects larger cultural battles, as seen with \\\"liter\"],[0.5,\"None\",\"The scientists' work was crucial because it could lead to more effective treatments for patients suf\"],[0.8,\"None\",\"The first task for the council was to review the proposed development agreement, which included plan\"],[0.8,\"None\",\"Theory of Mind Exercises:\\n\\n1. What if the parents had not sought help from an early interventionist?\"],[0.8,\"None\",\"In the context of a school environment, the teacher' birds song can be seen as a form of encourageme\"],[0.8,\"None\",\"But alas, we must also acknowledge the shadows cast by these towering giants. The environmental impa\"],[0.8,\"None\",\"The two worked together, using the principles of mathematics and logic to navigate the treacherous c\"],[0.8,\"None\",\"To solve this puzzle, we need to place the words 'bicycle,' 'tire,' 'dynamo,' 'brake,' and 'handleba\"],[0.8,\"None\",\"The analysis shows that the company'\\u0080\\u0099s fiscal performance between January and March was quite stron\"],[0.8,\"None\",\"As the sun rose over the small town, two young girls, Lucy and Emily, were playing outside. Lucy lov\"],[0.8,\"None\",\"A. Sophia\\nB. James\\n\\nAnswer:A\\n\"],[0.8,\"None\",\"Idempotency for a given state machine is determined by analyzing its set of states and transitions. \"],[0.8,\"None\",\"Character Development:\\nFirst, let'\\u0080\\u0099s start with Romeo and Juliet. Despite the lovers' teenage years\"],[0.8,\"None\",\"\\n\\\"Conceptual Frameworks in the Analysis of Social Media's Role in Modern Education on the Platform o\"],[0.8,\"None\",\"I. Introduction\\n\\nThe objective of this research was threefold: (1) to comprehend the impact of the p\"],[0.8,\"None\",\"For years, Sarah had worked as a teacher in a school located in a rural area. Despite the lack of re\"],[0.8,\"None\",\"In this story, you are a world-class software engineer named Alex. You are working on a project with\"],[0.8,\"None\",\"But wait, there's more! Let's take a look at the world of baking. Baking is a precise art that requi\"],[0.8,\"None\",\"One of the most effective ways to help someone overcome addiction is to teach them coping mechanisms\"],[0.8,\"None\",\"The journey commenced with a sip of the nectar, a golden elixir from the 'Honeyed Harmony', an offer\"],[0.8,\"None\",\"In the years 2000-2005, people used to gather around to watch shows like \\\"Friends\\\" or \\\"Seinfeld.\\\" Th\"],[0.8,\"None\",\"For example, you might create a new 'Fruit' object and call the 'describe' method on it with the fol\"],[1.1,\"None\",\"These concepts might not have existed when I first learned about math, but they're essential in fiel\"],[1.1,\"None\",\"\\nTheresa has a collection of 120 rare pens that she values at different prices according to their ra\"],[1.1,\"None\",\"Our mission was to investigate a series of unexplained sightings of mystical creatures that seem to \"],[1.1,\"None\",\"Dr. Peterson had always admired the way Dr. Harper handled his colleagues. He was able to do so behi\"],[1.1,\"None\",\"But how do we define and measure these states? How do we ensure the reliability and validity of our \"],[1.1,\"None\",\"Emma carefully measures out the volume of liquid using the graduated cylinder. She then pours the li\"],[1.1,\"None\",\"At first glance, you might think, \\\"How in the world does this tie into a recipe?\\\" Believe it or not,\"],[1.1,\"None\",\"11:30 AM: Workout Session\\n\\n- Time Management: Begin your workout session by scheduling a set amount \"],[1.1,\"None\",\"The term used to describe the ability to distinguish certain speech sounds across various languages \"],[1.1,\"None\",\"But how did people figure out that adding sodium bicromide is like adding a dose of medicine that is\"],[1.1,\"None\",\"Just one hunt down, and it looked as if her persistence had been rewarded - she had found what she'd\"],[1.1,\"None\",\"You know there are a fixed number of candies hidden beneath all the plates. We are here to determine\"],[1.1,\"None\",\"The term \\\"transgender\\\" refers to individuals whose gender identity, gender expression, or both diver\"],[1.1,\"None\",\"The implications of this research extend far beyond the confines of chemistry labs and into the hear\"],[1.1,\"None\",\"\\\"What challenges did you face?\\\" was met by an image of individuals planting trees, which was followe\"],[1.1,\"None\",\"Participant Feedback Survey\\n\\n1. Overall Satisfaction\\n   \\u2610 Very satisfied\\n   \\u2610 Satisfied\\n   \\u2610 Dissati\"],[1.1,\"None\",\"One popular musical composition from this topic is \\\"The Dancing Plant,\\\" composed by Jane Harmon in 1\"],[1.1,\"None\",\"As the plane took off, John felt a sense of familiarity mixed with concern. He knew that the lack of\"],[1.1,\"None\",\"In this scenario, one individual from Nation B seeks damages under both their domestic law and poten\"],[1.1,\"None\",\"In their quest for solutions to combat these disorders, researchers have explored a range of pharmac\"]],\"hovertemplate\":\"Temperature: %{customdata[0]}\\u003cbr\\u003eTransplanted Layers: %{customdata[1]}\\u003cbr\\u003eOutput: %{customdata[2]}\",\"legendgroup\":\"None\",\"marker\":{\"color\":[0.2,0.2,0.2,0.2,0.2,0.2,0.2,0.2,0.2,0.2,0.2,0.2,0.2,0.2,0.2,0.2,0.2,0.2,0.2,0.2,0.5,0.5,0.5,0.5,0.5,0.5,0.5,0.5,0.5,0.5,0.5,0.5,0.5,0.5,0.5,0.5,0.5,0.5,0.5,0.5,0.8,0.8,0.8,0.8,0.8,0.8,0.8,0.8,0.8,0.8,0.8,0.8,0.8,0.8,0.8,0.8,0.8,0.8,0.8,0.8,1.1,1.1,1.1,1.1,1.1,1.1,1.1,1.1,1.1,1.1,1.1,1.1,1.1,1.1,1.1,1.1,1.1,1.1,1.1,1.1],\"coloraxis\":\"coloraxis\",\"symbol\":\"circle\"},\"mode\":\"markers\",\"name\":\"None\",\"scene\":\"scene\",\"showlegend\":true,\"x\":[-0.27540943026542664,0.49287164211273193,0.10258710384368896,-0.2639755308628082,-0.24698087573051453,-0.27825790643692017,-0.39157235622406006,-0.3123570680618286,-0.13495945930480957,-0.25367310643196106,-0.20377163589000702,-0.3201119005680084,-0.3135276436805725,-0.3088288903236389,-0.07627356797456741,0.5367675423622131,-0.24272651970386505,-0.1725565493106842,-0.30282941460609436,-0.060126833617687225,-0.08422113955020905,0.17280423641204834,-0.1537090390920639,0.3696576952934265,-0.09050571918487549,-0.04287640005350113,-0.19322791695594788,-0.0877496674656868,-0.18707384169101715,-0.33480116724967957,0.23157444596290588,-0.09958947449922562,0.2707290053367615,-0.11958100646734238,-0.38276541233062744,0.1413198709487915,0.333863765001297,0.01803743652999401,0.10700676590204239,0.13046537339687347,0.125791996717453,0.09418018162250519,0.08556286990642548,-0.08573850244283676,0.25294166803359985,-0.08990257233381271,-0.09211298823356628,0.37385785579681396,0.09251129627227783,-0.1491459310054779,0.10032003372907639,0.05420903488993645,-0.14269977807998657,0.31858038902282715,0.11917472630739212,-0.2840513586997986,-0.11669463664293289,0.19336621463298798,0.08738143742084503,-0.14766527712345123,-0.1888088583946228,-0.056122880429029465,0.09840411692857742,0.17397333681583405,-0.052192699164152145,-0.0875542163848877,-0.19060473144054413,-0.27146804332733154,-0.20900791883468628,-0.17336463928222656,0.23938588798046112,-0.2095603495836258,0.009474842809140682,-0.17996801435947418,0.2714930772781372,-0.08141852915287018,0.0065466780215501785,0.2268436700105667,-0.12791147828102112,-0.12009453773498535],\"y\":[0.08502326160669327,-0.025065962225198746,0.062443461269140244,0.05161517858505249,0.07936687022447586,-0.038431644439697266,-0.015208310447633266,-0.019249947741627693,0.2272355556488037,0.035722699016332626,-0.06092562526464462,-0.0479278601706028,0.06671257317066193,-0.023192662745714188,0.18087568879127502,-0.11074662208557129,0.07931054383516312,0.27179795503616333,-0.015118646435439587,0.1354324370622635,0.19896014034748077,0.12547677755355835,-0.08426836133003235,0.12770219147205353,0.09147696942090988,-0.025906037539243698,-0.022851329296827316,0.23718708753585815,-0.01802731491625309,0.058260589838027954,-0.08475576341152191,0.1635926216840744,-0.006761752534657717,0.10969779640436172,-0.13250799477100372,0.051445361226797104,0.13610371947288513,0.28001710772514343,0.0885024294257164,0.09479668736457825,-0.0014088910538703203,0.1391986906528473,-0.02817494422197342,0.1395900398492813,-0.04104919731616974,-0.008985280990600586,0.15220287442207336,-0.300660103559494,-0.014870286919176579,0.22286447882652283,0.0205842237919569,0.1401134878396988,0.1011541336774826,-0.09651351720094681,-0.018585601821541786,-0.09217683225870132,0.13323812186717987,-0.346983402967453,0.03879863768815994,0.04371988773345947,0.11716479063034058,-0.06133296713232994,-0.10843434184789658,0.1981373429298401,0.232498899102211,0.003590584732592106,-0.41053125262260437,0.13415123522281647,0.19994664192199707,-0.09767292439937592,-0.0813022255897522,-0.25447168946266174,0.13904310762882233,0.06624160706996918,0.03843807801604271,0.179118812084198,-0.1913766860961914,-0.05033005401492119,0.2528434991836548,0.11962956935167313],\"z\":[0.02129363641142845,0.14070844650268555,0.028084993362426758,-0.14801573753356934,-0.044932182878255844,-0.03671777620911598,-0.06497283279895782,-0.06765693426132202,-0.18575149774551392,-0.16966523230075836,-0.0965055525302887,-0.07954905182123184,-0.0567602775990963,0.04383431375026703,-0.1298782378435135,0.12377893179655075,-0.08061310648918152,-0.21571405231952667,-0.03977524861693382,-0.1340232491493225,-0.10399752110242844,0.02606619894504547,-0.08740256726741791,0.01714389957487583,-0.0872051790356636,0.003021582495421171,-0.09743175655603409,-0.1403121054172516,-0.018069401383399963,-0.060686998069286346,-0.07404188811779022,-0.0013063749065622687,0.14247360825538635,-0.0782347023487091,0.06263239681720734,0.011372649110853672,-0.008087039925158024,-0.07811488211154938,-0.03461764007806778,-0.17121320962905884,-0.15156494081020355,-8.612460806034505e-05,-0.10831301659345627,-0.3198142945766449,-0.017179248854517937,-0.10168357938528061,-0.12783749401569366,0.05878958851099014,-0.03527630493044853,-0.0695599913597107,-0.03062436915934086,-0.13881348073482513,-0.2622641921043396,-0.019330371171236038,-0.06386234611272812,0.108467236161232,-0.18895219266414642,0.004607467912137508,0.09837577491998672,0.03170068562030792,-0.11832985281944275,0.05938756465911865,-0.17853586375713348,0.07281738519668579,-0.07051107287406921,-0.008501981385052204,0.22518953680992126,-0.08054110407829285,-0.006057768128812313,0.016902534291148186,0.013814660720527172,0.06440646946430206,-0.1334650218486786,-0.016796899959445,-0.12738685309886932,-0.045753706246614456,-0.15782734751701355,-0.013913013972342014,-0.08960708975791931,-0.11348047107458115],\"type\":\"scatter3d\"},{\"customdata\":[[0.2,\"0 - 31\",\"The recipe calls for 2 cups of flour, 1 cup of sugar, and 4 eggs. If you want to make half of the re\"],[0.2,\"0 - 31\",\"The recipe calls for 2 cups of flour, 1 cup of sugar, and 4 eggs. If you want to make half of the re\"],[0.2,\"0 - 31\",\"The recipe calls for 2 cups of flour, 1 cup of sugar, and 4 eggs. If you want to make half of the re\"],[0.2,\"0 - 31\",\"The recipe for this delectable treat calls for a cup of all-purandas flour, a cup of sugar, and a cu\"],[0.2,\"0 - 31\",\"The recipe calls for 2 cups of flour, 1 cup of sugar, and 4 eggs. If you want to make half of the re\"],[0.2,\"0 - 31\",\"The recipe calls for 2 cups of flour, 1 cup of sugar, and 4 eggs. If you want to make half of the re\"],[0.2,\"0 - 31\",\"The following is a transcript of the document. Please extract the key points from the document and s\"],[0.2,\"0 - 31\",\"The recipe for this delightful dessert is as follows:\\n\\nIngredients:\\n- 1 cup of flour\\n- 1 cup of suga\"],[0.2,\"0 - 31\",\"The recipe for this delightful cake calls for a generous amount of butter, which adds a rich, butter\"],[0.2,\"0 - 31\",\"The recipe for this delightful dish is as follows:\\n\\nIngredients:\\n- 1 cup of flour\\n- 1\\u002f2 cup of sugar\"],[0.2,\"0 - 31\",\"The following is a transcript of the document:\\n\\n---\\n\\n**Title:**\\n\\nThe Impact of Social Media on Moder\"],[0.2,\"0 - 31\",\"The recipe calls for 2 cups of flour, 1 cup of sugar, and 4 eggs. If you want to make half of the re\"],[0.2,\"0 - 31\",\"The recipe for this delightful dessert is simple yet precise. Begin by preheating your oven to 350 d\"],[0.2,\"0 - 31\",\"The following is a transcript of the document.\\n\\n---\\n\\n**Title:** The Ultimate Guide to Choosing the R\"],[0.2,\"0 - 31\",\"The ingredients for this dish are simple yet flavorful. You will need:\\n\\n- 2 cups of cooked chickpeas\"],[0.2,\"0 - 31\",\"The recipe for this delicious dessert is simple. First, gather all the ingredients: 1 cup of flour, \"],[0.2,\"0 - 31\",\"The recipe for this delightful dish is as follows:\\n\\nIngredients:\\n- 2 cups of fresh spinach\\n- 1 cup o\"],[0.2,\"0 - 31\",\"The recipe for this delightful dish is as follows:\\n\\nIngredients:\\n\\n- 2 cups of fresh spinach, washed \"],[0.2,\"0 - 31\",\"The recipe for this delightful dessert is simple yet yields a rich and indulgent treat. Here's how y\"],[0.2,\"0 - 31\",\"The recipe for this delicious dish is as follows:\\n\\nIngredients:\\n- 1 cup of flour\\n- 2 eggs\\n- 1 cup of\"],[0.5,\"0 - 31\",\"Here are the main points from the article:\\n\\n1. The concept of \\\"digital detox\\\" has gained popularity,\"],[0.5,\"0 - 31\",\"The first step in making a classic Caesar salad is to prepare the dressing. This involves whisking t\"],[0.5,\"0 - 31\",\"This recipe yields 16 servings, so each serving will contain approximately 27 calories. The calories\"],[0.5,\"0 - 31\",\"The first thing you need to do is to create a new React component, let's call it `UserProfile`. This\"],[0.5,\"0 - 31\",\"To share this story, follow these steps:\\n\\n1. **Choose a Platform**:\\n   Decide where you want to shar\"],[0.5,\"0 - 31\",\"Agora, para converter 18 quilogramas em libras, voc\\u00ea pode usar a convers\\u00e3o: 1 quilograma = 2,20462 l\"],[0.5,\"0 - 31\",\"The ingredients for this recipe are quite simple:\\n\\n- 2 cups of flour\\n- 1 cup of sugar\\n- 1 cup of but\"],[0.5,\"0 - 31\",\"The following is the complete code for the solution:\\n\\n```python\\ndef count_unique_paths(grid_size):\\n \"],[0.5,\"0 - 31\",\"Agora, voc\\u00ea est\\u00e1 pronto para escrever seu pr\\u00f3pemeneto de tese. Vamos ver como voc\\u00ea pode fazer isso.\\n\"],[0.5,\"0 - 31\",\"Now, let's take a look at some real-world examples of how algebraic equations can be used in daily l\"],[0.5,\"0 - 31\",\"This year, they decided to change things up and decided to buy a mix of both apples and oranges. The\"],[0.5,\"0 - 31\",\"The first step is to identify the factors that contribute to muscle soreness and fatigue. These fact\"],[0.5,\"0 - 31\",\"The first step in the solution is to understand the physical concept of an object moving through a f\"],[0.5,\"0 - 31\",\"The recipe for this delightful dessert is as follows:\\n\\nIngredients:\\n\\n- 1 cup of fresh strawberries\\n-\"],[0.5,\"0 - 31\",\"With a sense of anticipation, I gathered my ingredients: a generous piece of chicken breast, a handf\"],[0.5,\"0 - 31\",\"This year, the gardener'\\u0080\\u0099s expenses for growing vegetables, flowers, and shrubs have increased by 3\"],[0.5,\"0 - 31\",\"Here's a breakdown of the process:\\n\\n1. **Growth of the Root Hair**: Root hairs are tiny, hair-like e\"],[0.5,\"0 - 31\",\"The recipe called for a blend of exotic spices, each carefully measured and mixed together. The chef\"],[0.5,\"0 - 31\",\"The ingredients for the traditional Irish Soda Bread recipe are:\\n\\n1. 500 grams of plain flour\\n2. 100\"],[0.5,\"0 - 31\",\"Here's the recipe for this delightful dessert:\\n\\n**Ingredients:**\\n\\n- 2 cups of fresh strawberries (fr\"],[0.8,\"0 - 31\",\"The story began in the small town of Havenwood, where everyone knew everyone. Ben, a quiet teenager \"],[0.8,\"0 - 31\",\"Ingredients:\\n\\n- 2 ripe avocados (approx. 400g)\\n- Juice of 1 lime\\n- 2 tablespoons of chopped fresh ci\"],[0.8,\"0 - 31\",\"The ingredients to be used were:\\n1. A generous pinch of finely ground black pepper, amounting to app\"],[0.8,\"0 - 31\",\"She heated the solution to a boiling point of 100\\u00b0C on the stove in her kitchen, using her trusty ol\"],[0.8,\"0 - 31\",\"And here is how to use the function and output the result:\\n\\n```python\\ntext = \\\"Python and Python prog\"],[0.8,\"0 - 31\",\"She begins by spreading her workout mat across a wooden floor, taking a moment to appreciate the smo\"],[0.8,\"0 - 31\",\"This weekend, you've planned a camping trip to Bond Park. As you start packing, your spouse reminds \"],[0.8,\"0 - 31\",\"The process begins with ensuring that the area of the image where the text will be inserted is accur\"],[0.8,\"0 - 31\",\"She started by organizing her homework papers based on their subjects. Math went into one drawer, Sc\"],[0.8,\"0 - 31\",\"The warmth of the sun, the vibrant blue of the sky, and the gentle sway of the trees were the perfec\"],[0.8,\"0 - 31\",\"Ingredients:\\n- 1 cup of boiled potatoes\\n- 1\\u002f4 cup of chopped onions\\n- 1\\u002f8 cup of chopped celery\\n- 1\\u002f\"],[0.8,\"0 - 31\",\"Agora voc\\u00ea est\\u00e1 pronto para escrever esse script de teste unit\\u00e1rio em Python. Veja aqui como fa\\u00e7o:\\n\\n\"],[0.8,\"0 - 31\",\"To prepare for her upcoming exam, Alice begins by reviewing her notes on linear equations. She knows\"],[0.8,\"0 - 31\",\"**The Process: An Intimate Dance**\\n\\nImagine a world where two entities\\u2014the meticulous Human and the \"],[0.8,\"0 - 31\",\"With a bit of creativity, here's a humorous twist on a classic poem, \\\"Stopping by Woods on a Snowy E\"],[0.8,\"0 - 31\",\"The story began in the town of Grafton, where everyone knew each other and the community thrived on \"],[0.8,\"0 - 31\",\"The moment when I decided to leave home didn't appear in a dream, but I woke up from a vivid dream w\"],[0.8,\"0 - 31\",\"She began by gathering all the necessary ingredients for her cake. Alice carefully measured the flou\"],[0.8,\"0 - 31\",\"When gathering ingredients for her famous cinnamon rolls, Maria decides to source everything locally\"],[0.8,\"0 - 31\",\"Here's the step-by-step recipe for our delightful mashed potato dish:\\n\\n1. Ingredient Gathering:\\nTo m\"],[1.1,\"0 - 31\",\"Her hands moved deftly, separating each grain of sand as if they were individual notes in an intrica\"],[1.1,\"0 - 31\",\"This tale begins in a dystopian city, with towering gray monoliths and suffocating pollution that ch\"],[1.1,\"0 - 31\",\"Living at a campsite surrounded by the greenery and vibrant life, Sarah was constantly reminded of t\"],[1.1,\"0 - 31\",\"Agora, suponha que a dist\\u00e2n\\u043a\\u043b\\u0430 de um objeto seja mudada para uma coordenada cartesiana $(0, 0, 0)$. \"],[1.1,\"0 - 31\",\"Ingredients:\\n- 250g dried figs, halved\\n- 1\\u002f2 cup sugar\\n- 2 tablespoons honey\\n- Juice and grated zest\"],[1.1,\"0 - 31\",\"This recipe will make 4 servings of stuffed bell peppers, rich in protein and full of antioquantives\"],[1.1,\"0 - 31\",\"It is widely believed that when King Midas requested for his wish to come true, it was his wife Gay-\"],[1.1,\"0 - 31\",\"Here is your exercise, paying special attention to syntax, object-oriented principles, and memory ma\"],[1.1,\"0 - 31\",\"First, line up the decimal points and add columns without considering the decimal point as the end r\"],[1.1,\"0 - 31\",\"This recipe results in 12 light and fluffy cupcakes. After baking, frost them generously with vanill\"],[1.1,\"0 - 31\",\"The following is the text of the document translated into French for the linguist to edit and ensure\"],[1.1,\"0 - 31\",\"The recipe as follows: mix flour and sugar until granules form. Crack an egg in, carefully mix until\"],[1.1,\"0 - 31\",\"Now, gather round the flickering campfire for this year's celebration. 'Tis time for our very own Th\"],[1.1,\"0 - 31\",\"This day, she felt an unfamiliar sense of calmness enveloping her, even if it wasn't the usual eupho\"],[1.1,\"0 - 31\",\"Now let me adjust that into a narrative structure suitable for our audience'quantum entanglement nar\"],[1.1,\"0 - 31\",\"It all began one quiet afternoon, when Benny discovered an unusual, silver pendant on the ground whi\"],[1.1,\"0 - 31\",\"The recipe calls for:\\n- 4 cups of all-purasons\\n- 2 cups of sugar\\n- 3 cups of water\\n- Menthol\\n- Purif\"],[1.1,\"0 - 31\",\"The essay is going to explore the concept of 'compulsion' as experienced or represented by character\"],[1.1,\"0 - 31\",\"With determination in her heart, she turned on her workstation and began typing away furiously. The \"],[1.1,\"0 - 31\",\"Again with your own life: If I give up yoga now but would like to try again in the future, I have a \"]],\"hovertemplate\":\"Temperature: %{customdata[0]}\\u003cbr\\u003eTransplanted Layers: %{customdata[1]}\\u003cbr\\u003eOutput: %{customdata[2]}\",\"legendgroup\":\"0 - 31\",\"marker\":{\"color\":[0.2,0.2,0.2,0.2,0.2,0.2,0.2,0.2,0.2,0.2,0.2,0.2,0.2,0.2,0.2,0.2,0.2,0.2,0.2,0.2,0.5,0.5,0.5,0.5,0.5,0.5,0.5,0.5,0.5,0.5,0.5,0.5,0.5,0.5,0.5,0.5,0.5,0.5,0.5,0.5,0.8,0.8,0.8,0.8,0.8,0.8,0.8,0.8,0.8,0.8,0.8,0.8,0.8,0.8,0.8,0.8,0.8,0.8,0.8,0.8,1.1,1.1,1.1,1.1,1.1,1.1,1.1,1.1,1.1,1.1,1.1,1.1,1.1,1.1,1.1,1.1,1.1,1.1,1.1,1.1],\"coloraxis\":\"coloraxis\",\"symbol\":\"circle-open\"},\"mode\":\"markers\",\"name\":\"0 - 31\",\"scene\":\"scene\",\"showlegend\":true,\"x\":[-0.502604067325592,-0.5029545426368713,-0.5029545426368713,-0.3926680088043213,-0.5138400793075562,-0.5100416541099548,-0.08196471631526947,-0.3759494423866272,-0.3431953489780426,-0.40188413858413696,0.1020766869187355,-0.5082259774208069,-0.42547816038131714,-0.36625245213508606,-0.4270753860473633,-0.43457451462745667,-0.3254951238632202,-0.3690209686756134,-0.43630144000053406,-0.4575890302658081,0.10031548887491226,-0.3665585517883301,-0.4287314713001251,-0.1928478479385376,-0.017141068354249,-0.3220246434211731,-0.4711857736110687,-0.2623957693576813,-0.032125070691108704,-0.18568381667137146,-0.1740512102842331,-0.17401888966560364,-0.3273952305316925,-0.3988158106803894,-0.3167722821235657,-0.21486687660217285,-0.2338893711566925,-0.01592722162604332,-0.44583478569984436,-0.36562663316726685,0.2230054885149002,-0.3720809817314148,-0.30300047993659973,-0.05912785977125168,-0.17491655051708221,-0.004355790093541145,-0.06227942928671837,-0.22275462746620178,0.004083036910742521,0.17874498665332794,-0.43534621596336365,-0.28508925437927246,0.015060843899846077,0.20667101442813873,0.11320678889751434,0.2662687599658966,0.16555316746234894,-0.3233378827571869,-0.15084169805049896,-0.48672357201576233,0.12460731714963913,0.26279881596565247,0.278118759393692,-0.23974059522151947,-0.4574146568775177,-0.3712461292743683,0.05713692307472229,-0.16533774137496948,-0.3987037241458893,-0.37322017550468445,-0.15711408853530884,-0.3379793167114258,-0.14458036422729492,0.384332537651062,0.26582807302474976,0.22307182848453522,-0.4177599251270294,0.16430194675922394,0.09777330607175827,-0.15429939329624176],\"y\":[-0.363330602645874,-0.3385169208049774,-0.3385169208049774,-0.43060538172721863,-0.37163448333740234,-0.34968432784080505,0.19387920200824738,-0.5234526991844177,-0.3991554379463196,-0.5064284205436707,0.1957281231880188,-0.35284122824668884,-0.3816605806350708,-0.10618164390325546,-0.3468611538410187,-0.5108739137649536,-0.38255569338798523,-0.443452388048172,-0.24323990941047668,-0.5144088268280029,0.1621866226196289,-0.16300810873508453,-0.24624314904212952,0.05459754914045334,-0.08314884454011917,0.07487919181585312,-0.4260960817337036,0.022736968472599983,0.2295590192079544,0.1152307465672493,-0.03357546404004097,0.23043864965438843,0.05250338092446327,-0.36824870109558105,-0.26460763812065125,0.06579948961734772,0.04100777208805084,-0.38947874307632446,-0.21495802700519562,-0.40778282284736633,-0.023977594450116158,-0.3207049071788788,-0.34977975487709045,-0.14460919797420502,0.16203777492046356,0.02593982219696045,0.004283409100025892,0.04486512765288353,-0.1351194828748703,-0.14234477281570435,-0.38851067423820496,0.18132075667381287,0.03222503513097763,-0.17304080724716187,-0.21939592063426971,-0.14112761616706848,-0.02597496472299099,-0.24846476316452026,-0.16568410396575928,-0.2356046885251999,-0.2917787730693817,-0.1236981749534607,-0.18470458686351776,0.11208818107843399,-0.34717613458633423,-0.14590278267860413,-0.15289929509162903,0.13278841972351074,-0.0325801819562912,-0.2164795994758606,-0.034389678388834,-0.3132891356945038,-0.22166649997234344,-0.1273709535598755,0.03313898295164108,-0.27437976002693176,-0.3539644479751587,-0.15797285735607147,0.0031116860918700695,0.030856255441904068],\"z\":[0.2945905923843384,0.28970834612846375,0.28970834612846375,0.29238420724868774,0.3054411709308624,0.28896450996398926,-0.10839179903268814,0.3860216438770294,0.31903716921806335,0.3788807690143585,-0.010820726864039898,0.3027760684490204,0.27004316449165344,0.0844816192984581,0.29501208662986755,0.39528676867485046,0.2923872470855713,0.34789350628852844,0.24326758086681366,0.3840014934539795,-0.22772212326526642,0.10106921195983887,0.22983507812023163,-0.08218369632959366,-0.059281643480062485,-0.04040515050292015,0.38430795073509216,-0.17761725187301636,-0.1405911147594452,-0.08468248695135117,0.13297797739505768,-0.16837665438652039,-0.10785036534070969,0.27338409423828125,0.28617537021636963,-0.05227433517575264,-0.12763482332229614,0.14784692227840424,0.16435344517230988,0.32404306530952454,0.02817419543862343,0.21750886738300323,0.22263456881046295,0.04566418379545212,-0.07436958700418472,-0.045599352568387985,-0.13087652623653412,0.007683558855205774,-0.01622101478278637,-0.0035543867852538824,0.31200480461120605,-0.10199718922376633,0.05745670944452286,-0.21359355747699738,-0.045234180986881256,-0.10843244194984436,-0.017460789531469345,0.20861992239952087,0.11098699271678925,0.23016461730003357,-0.011308022774755955,-0.36626413464546204,-0.11997225135564804,-0.1431596577167511,0.3000391721725464,0.20537284016609192,-0.06508412957191467,-0.005154132843017578,-0.088643379509449,0.1616060435771942,-0.21837779879570007,0.33141231536865234,0.11020521074533463,-0.025305937975645065,0.08666907250881195,0.048739392310380936,0.15526671707630157,-0.11890177428722382,-0.02434488572180271,-0.2496049553155899],\"type\":\"scatter3d\"},{\"customdata\":[[0.2,\"0 - 10\",\"The story of the two friends, Alice and Bob, serves as a reminder that while technology and innovati\"],[0.2,\"0 - 10\",\"The story of the ancient Egyptians and their belief in the afterlife is a fascinating one. They beli\"],[0.2,\"0 - 10\",\"The story of the two friends, Alex and Jamie, unfolds in a small town where the community values bot\"],[0.2,\"0 - 10\",\"As the story progresses, the reader discoquantly learns about the protagonist's past, which has led \"],[0.2,\"0 - 10\",\"The story of the day'emen and the day'women, as told by the old storyteller, serves as a reminder of\"],[0.2,\"0 - 10\",\"The story of the two friends, Alex and Jamie, unfolded in a world where the pursuit of knowledge was\"],[0.2,\"0 - 10\",\"The story of the 2018 FIFA World Cup in Russia is a tale of triumph and tribulation. It began with a\"],[0.2,\"0 - 10\",\"The story of the town'emen, the town's people, was one of resilience and unity. They had faced many \"],[0.2,\"0 - 10\",\"The story of the two friends, Sarah and Emily, revolved around their shared passion for fitness and \"],[0.2,\"0 - 10\",\"As the sun began to set, casting a warm golden glow over the park, the group of friends gathered the\"],[0.2,\"0 - 10\",\"The story of the town'emen, the town's people, was one of resilience and determination. They had fac\"],[0.2,\"0 - 10\",\"The story of the small town of Harmonyville is a testament to the power of unity and the importance \"],[0.2,\"0 - 10\",\"The story of the two friends, Alice and Bob, unfolds in the context of a world where the pursuit of \"],[0.2,\"0 - 10\",\"The story of the \\\"Eternal Flame\\\" was not just about a mythical flame that never went out. It was a t\"],[0.2,\"0 - 10\",\"The story of the three friends, Alice, Bob, and Charlie, revolves around their shared passion for ma\"],[0.2,\"0 - 10\",\"The story of the two brothers, Alex and Ben, perfectly illustrates the concept of opportunity cost. \"],[0.2,\"0 - 10\",\"The story of the two friends, Alex and Jamie, unfolds as they navigate the complexities of life and \"],[0.2,\"0 - 10\",\"The story of the town' electrons, protons, and neutrons, was not just a tale of particles and forces\"],[0.2,\"0 - 10\",\"The story of the town'emen and the mysterious stranger began when the stranger arrived in town. He w\"],[0.2,\"0 - 10\",\"The story of the two friends, Alice and Bob, is a testament to the power of shared interests and the\"],[0.5,\"0 - 10\",\"As he sat in his office, surrounded by stacks of documents and the hum of the air conditioning, John\"],[0.5,\"0 - 10\",\"It was a bustling day at the local market, with vendors shouting out their wares and the aroma of fr\"],[0.5,\"0 - 10\",\"The researchers found that after 12 weeks of treatment, participants who took the omega-3 supplement\"],[0.5,\"0 - 10\",\"The tale of the Crab Nebula and its intricate dance of cosmic forces serves as a poignant reminder o\"],[0.5,\"0 - 10\",\"The story of Sarah'quant journey had spread far and wide, reaching even the most remote corners of t\"],[0.5,\"0 - 10\",\"As the sun began to set, casting a warm golden glow over the park, Sarah and Emily sat on a bench, r\"],[0.5,\"0 - 10\",\"The story of Sarah and John serves as a reminder that every action has consequences, and even small \"],[0.5,\"0 - 10\",\"As the story progresses, it becomes evident that the seemingly mundane objects hold immense power. T\"],[0.5,\"0 - 10\",\"As the day progressed, the warmth of the sun intensified, making the temperature soar. The heat seem\"],[0.5,\"0 - 10\",\"It was a cold winter morning when Sarah, a single mother of two, walked into her local grocemen's st\"],[0.5,\"0 - 10\",\"The story of the bacteria and the antibiotic is a tale of evolution and survival. As the bacteria po\"],[0.5,\"0 - 10\",\"In the end, it was not just about the physical appearance of the house but also about the emotions a\"],[0.5,\"0 - 10\",\"As the day wore on, the group'\\u0080\\u0099s energy began to wane. The adults were getting restless, while the \"],[0.5,\"0 - 10\",\"As the sun began to set, casting a warm glow over the meadow, Lily plucked the flowers with a gentle\"],[0.5,\"0 - 10\",\"The story of \\\"The Curious Case of the Cookie Jar\\\" unfolds in a small but cozy kitchen, where an inno\"],[0.5,\"0 - 10\",\"As the story unfolds, it becomes evident that the protagonist'emen, who we shall refer to as Alex, p\"],[0.5,\"0 - 10\",\"The story of John'emen, a young man from a small village in the heart of Africa, is a testament to t\"],[0.5,\"0 - 10\",\"The story of this remarkable woman and her journey towards recovery is a testament to the power of r\"],[0.5,\"0 - 10\",\"However, there are exceptions to this rule. For example, if a company has an established policy of p\"],[0.5,\"0 - 10\",\"As the story unfolds, the intertwining lives of four characters, including the protagonist, take cen\"],[0.8,\"0 - 10\",\"The narrative of this discovery is not just about numbers but about the human spirit that drives us \"],[0.8,\"0 - 10\",\"As it relates to the broader discussion of energy policy, the adoption of biofuels like those produc\"],[0.8,\"0 - 10\",\"Suddenly, Alex paused. They peered into his own eyes, a mirror reflecting back at them. Alex saw som\"],[0.8,\"0 - 10\",\"While some of them may have been genuine collectors, others simply wanted to impress their friends w\"],[0.8,\"0 - 10\",\"As they sat down to discuss the matter, Alice recalled reading about the harmful effects of chemical\"],[0.8,\"0 - 10\",\"As the sun set on another day, the team packed up their equipment, sharing stories and laughter. The\"],[0.8,\"0 - 10\",\"The story of the \\\"Dear Governor\\\" letters unfolded like a riveting mystery, with pieces falling into \"],[0.8,\"0 - 10\",\"However, despite all the benefits, there are also some negative side effects of taking vitamimetics.\"],[0.8,\"0 - 10\",\"As the day progressed, tensions began to rise. The community was divided between those who believed \"],[0.8,\"0 - 10\",\"However, the question contains an error, as the correct solution for x is x = 15. This means that th\"],[0.8,\"0 - 10\",\"As a result of this, we can see that the relationship between these two sentences is that of an enta\"],[0.8,\"0 - 10\",\"As a result of the legal proceedings, the company released a statement acknowledging the accusations\"],[0.8,\"0 - 10\",\"As they continued to play, they began to notice a pattern in the music they were creating. It was as\"],[0.8,\"0 - 10\",\"The story of the day would be incomplete without mentioning the lioness's cubs. The animals were cur\"],[0.8,\"0 - 10\",\"Even though it's a well-known fact among those involved in such projects, the details of these initi\"],[0.8,\"0 - 10\",\"Not willing to give up yet, John decided to dig deeper into the company's history. He researched its\"],[0.8,\"0 - 10\",\"Amid rumors of a new rivalry brewing between teammates, Serena found herself at the center of it all\"],[0.8,\"0 - 10\",\"Despquant, nous devons trouver le PGCD de 14 et 42 pour simplifier la fraction. Le PGCD de 14 et 42 \"],[0.8,\"0 - 10\",\"Despquant, nous pouvons d\\u00e9terminer le nombre de nombres premiers de Fermat avec un nombre x de chiff\"],[0.8,\"0 - 10\",\"It wasn't until years later that I realized the impact of my actions. My refusal to comply had cause\"],[1.1,\"0 - 10\",\"Just as his breakthrough seemed imminent, unexpected events occurred. The hospital network was hit w\"],[1.1,\"0 - 10\",\"The textbook section you have appears to deal with a medical procedure involving blood pressure meas\"],[1.1,\"0 - 10\",\"Just then, they noticed a group of ants marching single file along the counter. Max pointed at them \"],[1.1,\"0 - 10\",\"The government had created an environment for local communities to flourish, encouraging the revital\"],[1.1,\"0 - 10\",\"However, to solve this logical puzzle, we need a full set of 12 statements about the group members a\"],[1.1,\"0 - 10\",\"Their story serves as a powerful reminder that it'emenzation of change comes when individuals challe\"],[1.1,\"0 - 10\",\"The group of people who are gathered in the local park are partaking in a unique gathering, one not \"],[1.1,\"0 - 10\",\"With every twist, you delve deeper into the heart of this world. But remember, time is a fickle frie\"],[1.1,\"0 - 10\",\"It was clear that the mother was trying to teach her infant how to tie his shoes, but she was strugg\"],[1.1,\"0 - 10\",\"The story climaxed back at their shared apartment in Philadelphia, when Drew found himself drawn tow\"],[1.1,\"0 - 10\",\"Justin, a budding filmmaker, had a passion for creating short independent films. He was a bit on a t\"],[1.1,\"0 - 10\",\"However, if we assume that by \\\"twice each value,\\\" it means doubling all the Y-values for plotting or\"],[1.1,\"0 - 10\",\"Despotta che sia la sorgente di illuminazione naturale un fulmine o il sole che attraversa attravers\"],[1.1,\"0 - 10\",\"As their relationship progresses, Emma confesses her love for Alex and offers to move in together. A\"],[1.1,\"0 - 10\",\"Despemen tina sella kohtana mit mut unipala ja kuul, mis saadud ma valisid ja oma palm on. Parempi o\"],[1.1,\"0 - 10\",\"As the story of \\\"The Tale of Two Wolves\\\" spread, it sparked curiosity and engagement among visitors \"],[1.1,\"0 - 10\",\"Just as the sun reached its zenith, their meeting concluded, and the friends parted ways, knowing th\"],[1.1,\"0 - 10\",\"Finally, with cautious anticipation, John unsealed the letter. His worst fears were confirmed as he \"],[1.1,\"0 - 10\",\"Suddenly, out of the darkness, a hand jerked free and a figure was seen stepping forward into the ba\"],[1.1,\"0 - 10\",\"Just as the jute sacks were placed in rows, we came across a peculiar set of footprints. They seemed\"]],\"hovertemplate\":\"Temperature: %{customdata[0]}\\u003cbr\\u003eTransplanted Layers: %{customdata[1]}\\u003cbr\\u003eOutput: %{customdata[2]}\",\"legendgroup\":\"0 - 10\",\"marker\":{\"color\":[0.2,0.2,0.2,0.2,0.2,0.2,0.2,0.2,0.2,0.2,0.2,0.2,0.2,0.2,0.2,0.2,0.2,0.2,0.2,0.2,0.5,0.5,0.5,0.5,0.5,0.5,0.5,0.5,0.5,0.5,0.5,0.5,0.5,0.5,0.5,0.5,0.5,0.5,0.5,0.5,0.8,0.8,0.8,0.8,0.8,0.8,0.8,0.8,0.8,0.8,0.8,0.8,0.8,0.8,0.8,0.8,0.8,0.8,0.8,0.8,1.1,1.1,1.1,1.1,1.1,1.1,1.1,1.1,1.1,1.1,1.1,1.1,1.1,1.1,1.1,1.1,1.1,1.1,1.1,1.1],\"coloraxis\":\"coloraxis\",\"symbol\":\"cross\"},\"mode\":\"markers\",\"name\":\"0 - 10\",\"scene\":\"scene\",\"showlegend\":true,\"x\":[0.3002357482910156,0.02027677372097969,0.33967238664627075,0.30635926127433777,0.2721363604068756,0.3549553453922272,0.06455740332603455,0.3889401853084564,0.2970649302005768,0.3946293592453003,0.3009486198425293,0.2419584095478058,0.22883182764053345,0.17129848897457123,0.05406606197357178,0.09143204241991043,0.3791806697845459,0.2726903557777405,0.2050146609544754,0.24585743248462677,0.3577284812927246,0.2760140001773834,-0.11228839308023453,-0.012040017172694206,0.35376474261283875,0.4428076446056366,0.34363773465156555,0.18294017016887665,0.2857924997806549,0.20271870493888855,-0.09039135277271271,0.3440338969230652,0.29974034428596497,0.17085351049900055,0.09346424788236618,0.35567066073417664,0.22371983528137207,0.19043143093585968,-0.20002053678035736,0.41353940963745117,0.23801955580711365,-0.1896154284477234,0.28830254077911377,0.13352937996387482,0.1769867241382599,0.23219788074493408,0.2064361274242401,-0.21527086198329926,0.33931171894073486,-0.31547680497169495,-0.005981503985822201,0.07776762545108795,0.1548154503107071,0.17424488067626953,-0.05299017205834389,0.09214127063751221,0.286624550819397,-0.38524436950683594,-0.33987507224082947,0.16261789202690125,0.2718549370765686,-0.24190199375152588,0.1448361873626709,0.28908491134643555,-0.1071300134062767,0.2858567535877228,0.3069477379322052,0.1269281953573227,0.2312222123146057,0.3445761799812317,0.1356385499238968,-0.19215744733810425,-0.16694706678390503,0.3074750304222107,0.00044266507029533386,0.15344595909118652,0.3781967759132385,0.28508853912353516,0.24208830296993256,0.12478093802928925],\"y\":[0.018277227878570557,-0.04818760231137276,-0.05051868408918381,-0.09665948152542114,-0.10855890065431595,0.0035665403120219707,2.6457042622496374e-05,-0.2641895115375519,-0.0746350884437561,-0.21975813806056976,-0.16066087782382965,-0.1622735857963562,-0.036550384014844894,-0.2797314524650574,-0.09906300157308578,0.07561589032411575,-0.07842681556940079,-0.10099904239177704,-0.23974056541919708,-0.0021965689957141876,0.05214782804250717,-0.15109792351722717,0.10115435719490051,-0.054434411227703094,-0.24323619902133942,-0.26206108927726746,-0.1065899133682251,-0.2507595121860504,-0.14032354950904846,-0.01455143466591835,0.09209135919809341,-0.15836656093597412,-0.09763069450855255,-0.35735437273979187,-0.3901689350605011,-0.0823514312505722,-0.1502450853586197,-0.13954204320907593,0.12834610044956207,-0.17399081587791443,0.005634235218167305,0.10987325012683868,-0.04730366915464401,-0.2097756266593933,-0.10485745966434479,0.02434425801038742,-0.06932447850704193,0.08619017153978348,-0.19494090974330902,0.04438403993844986,0.16981682181358337,0.17795483767986298,-0.015550055541098118,-0.30756285786628723,0.12373059242963791,0.0852690115571022,-0.12765762209892273,0.027471128851175308,-0.01654692366719246,-0.04327075555920601,0.030599670484662056,0.06742614507675171,-0.15537916123867035,-0.1396108865737915,0.04119456931948662,0.04803219065070152,-0.13340847194194794,0.04081098362803459,-0.10493095219135284,-0.30241549015045166,-0.13406769931316376,0.08502932637929916,0.10060219466686249,0.0076155951246619225,0.04890945926308632,-0.16115161776542664,-0.14709056913852692,-0.19845373928546906,-0.09275157004594803,-0.21264471113681793],\"z\":[-0.04639744758605957,-0.1662553995847702,-0.09919428080320358,-0.06151806190609932,-0.09451089799404144,-0.10854505002498627,-0.1953626424074173,-0.15927250683307648,0.07214341312646866,-0.0016028807731345296,-0.22203990817070007,-0.16288338601589203,0.10919786244630814,-0.15805836021900177,0.16874569654464722,-0.040227260440588,0.11942911148071289,-0.0981251671910286,-0.0605228915810585,0.014701858162879944,0.04427136480808258,0.07676839083433151,-0.05738824978470802,-0.1299283355474472,-0.16682405769824982,0.05642082542181015,-0.17838767170906067,-0.1299271583557129,-0.09910024702548981,-0.005648081190884113,-0.1898263841867447,0.07604322582483292,0.03574924170970917,-0.03666321933269501,0.05574896186590195,-0.14667212963104248,-0.12264630198478699,-0.1227836012840271,-0.04999658465385437,-0.12501288950443268,-0.2412215918302536,-0.1901853084564209,-0.02679944969713688,-0.07603690028190613,0.12301293015480042,-0.23955358564853668,-0.0036464689765125513,-1.9500352209433913e-05,-0.10439935326576233,0.02565827965736389,0.2071051150560379,-0.1286182850599289,-0.11799219995737076,-0.05113256350159645,-0.2954072952270508,-0.08147460222244263,-0.09456102550029755,-0.04564489796757698,-0.04793918877840042,-0.13078856468200684,-0.10676176100969315,-0.1057320386171341,0.1213105246424675,-0.11738655716180801,0.045827899128198624,-0.23010748624801636,-0.10819825530052185,-0.11431103199720383,0.15651294589042664,0.013998934999108315,-0.04797740653157234,0.009730646386742592,-0.29943525791168213,0.11825393885374069,0.04793763533234596,-0.1212468221783638,0.04140995070338249,-0.11356339603662491,0.16441543400287628,-0.06659764796495438],\"type\":\"scatter3d\"},{\"customdata\":[[0.2,\"0 - 15\",\"One day, as I was walking through the bustling streets of the city, I stumbled upon a small, quaint \"],[0.2,\"0 - 15\",\"In the heart of the bustling city, nestled between towering skyscandas, stood a quaint little bookst\"],[0.2,\"0 - 15\",\"In the heart of the bustling city, a young woman named Emily found solace in her daily walks through\"],[0.2,\"0 - 15\",\"In the heart of the city, where the skyline kissed the clouds, stood a magnificent skyscraper. Its g\"],[0.2,\"0 - 15\",\"In the heart of the bustling city, where the relentless hum of daily life never ceased, there was a \"],[0.2,\"0 - 15\",\"One day, a young girl named Lily came to visit the village. She was fascinated by the stories of the\"],[0.2,\"0 - 15\",\"One day, a young couple came to visit the village. They were looking for a place to settle down and \"],[0.2,\"0 - 15\",\"One day, a young girl named Lily came to visit the village. She was fascinated by the stories of the\"],[0.2,\"0 - 15\",\"One day, as I was walking through the park, I noticed a group of people gathered around a street per\"],[0.2,\"0 - 15\",\"One day, a young couple named Sarah and John came to visit the village. They were looking for a plac\"],[0.2,\"0 - 15\",\"One day, a young girl named Lily came to visit the garden. She was fascinated by the vibrant colors \"],[0.2,\"0 - 15\",\"One day, Sarah and Emily decided to take a break from their usual routine and go on a road trip. The\"],[0.2,\"0 - 15\",\"One day, Sarah decided to take a break from her work and go for a walk in the park. As she strolled \"],[0.2,\"0 - 15\",\"One day, while working on a particularly challenging project, Alex's computer suddenly shut down. Pa\"],[0.2,\"0 - 15\",\"In the heart of the bustling city, where the relentless hum of urban life never ceased, there was a \"],[0.2,\"0 - 15\",\"In the heart of the bustling city, where the cacophony of urban life never ceased, there was a small\"],[0.2,\"0 - 15\",\"One day, while walking through the park, I noticed a group of people gathered around a small, abando\"],[0.2,\"0 - 15\",\"One day, while working on a new project, I stumbled upon a mysterious old book hidden in the depths \"],[0.2,\"0 - 15\",\"In the heart of the bustling city, nestled between towering skyscimeters, stood a quaint little bake\"],[0.2,\"0 - 15\",\"One day, a young girl named Lily came to visit the garden. She was fascinated by the vibrant colors \"],[0.5,\"0 - 15\",\"**Instruction 2 (More difficult with at least 3 more constraints):**\\n\\n Analyze the document provided\"],[0.5,\"0 - 15\",\"One day, a young woman named Emily came to visit the cottage. She had heard about the witch's powers\"],[0.5,\"0 - 15\",\"One day, Alice'\\u0080\\u0099s boss asked her to cook for a special event that he was hosting. Alice was thrille\"],[0.5,\"0 - 15\",\"In the heart of the bustling city stood the renowned Harmonia Concert Hall, a place where the magic \"],[0.5,\"0 - 15\",\"One day, Sarah and Emily decided to meet up and catch up on each other'quantum entanglement'. As the\"],[0.5,\"0 - 15\",\"Reflecting on her journey, Alice realized that her fear of going outside had held her back for far t\"],[0.5,\"0 - 15\",\"Now, let's move on to some real-world examples of how this knowledge can be applied.\\n\\nReal-World Use\"],[0.5,\"0 - 15\",\"**The Challenge:**\\n\\nGiven a string `s` containing only lowercase English letters and an integer `k`,\"],[0.5,\"0 - 15\",\"**Instruction 2 (Much Harder):** \\n\\nWrite a comprehensive review on the synthesis, reactivity, and po\"],[0.5,\"0 - 15\",\"As the sun began to set, casting a warm golden glow over the city, Alex stood on the balcony of his \"],[0.5,\"0 - 15\",\"**Instruction 2 (Much Harder)**\\n\\nWrite me a comprehensive guide on how to create a complex, interact\"],[0.5,\"0 - 15\",\"In the heart of a bustling metropolis, where the skyline was etched with the aspirations of humanity\"],[0.5,\"0 - 15\",\"In the end, Sophie and Isabella'quantum leap in their understanding of each other's perspectives. Th\"],[0.5,\"0 - 15\",\"In this tale, we follow the life of a young girl named Lily, who dreams of one day becoming a renown\"],[0.5,\"0 - 15\",\"In the heart of the bustling city, nestled between towering skyscimeters, stood an old, yet charming\"],[0.5,\"0 - 15\",\"Now, let's move on to a more complex scenario involving a group of people with varying degrees of he\"],[0.5,\"0 - 15\",\"One day, Sarah and Michael decided to take a break from their usual routine and explore a nearby for\"],[0.5,\"0 - 15\",\"In the midst of the bustling city, there lived a young woman named Emily. She had always been passio\"],[0.5,\"0 - 15\",\"One day, John decided to take a break from his work and went for a walk in the park. As he strolled \"],[0.5,\"0 - 15\",\"One day, a young woman named Emily came to visit. She was a regular customer at the caf\\u00e9, always ord\"],[0.8,\"0 - 15\",\"My mother is a devout Christian. She makes it her mission to share her faith with anyone she can. Sh\"],[0.8,\"0 - 15\",\"As always, feel free to get in touch if you need any more assistance!\"],[0.8,\"0 - 15\",\"Whether it is hurricanes, droughts, or heatwaves, climate change is the long-term cause of these ext\"],[0.8,\"0 - 15\",\"In another part of our story, we have two friends named Sarah and Alex. They both love playing footb\"],[0.8,\"0 - 15\",\"But as I delved deeper into my research, I began to realize the complexity of the issue. The impact \"],[0.8,\"0 - 15\",\"In times of uncertainty, it is essential to take care of ourselves during this pandemic. Please shar\"],[0.8,\"0 - 15\",\"I am glad to hear that you found the section on \\\"The Evolution of Crafting Tools\\\" helpful. Below, yo\"],[0.8,\"0 - 15\",\"\\\"Nyctophilia,\\\" a term coined by French writer Pierre-Olivier Vasarely, describes an individual whose\"],[0.8,\"0 - 15\",\"**Chinese Shadows in Hong Kong'imetria**  \\nGina Chong, University of California, Los Angeles  \\n**Loc\"],[0.8,\"0 - 15\",\"One sunny afternoon, Alex and Ben, two best friends, found themselves at a crossroads in their lives\"],[0.8,\"0 - 15\",\"\\\"Aloha, what can you tell me about the history of Hawaii?\\\"\\n\\nHistorian: \\\"Aloha! Hawaii's history is a\"],[0.8,\"0 - 15\",\"As the sun dipped below the horizon, the three friends savored their successful endeavor, grateful f\"],[0.8,\"0 - 15\",\"One day, a wealthy couple came to visit my bakery. They were new in town and wanted to experience so\"],[0.8,\"0 - 15\",\"However, not everyone shared Alice'imetry's enthusiasm for math. She faced criticism from some peers\"],[0.8,\"0 - 15\",\"In the context of the document, 'decent' work refers to employment that respects worker rights and d\"],[0.8,\"0 - 15\",\"One day, a couple came to see the artist. They were deeply moved by her paintings and asked if they \"],[0.8,\"0 - 15\",\"In the Philippines, the government has been working on the establishment of a 'National Biometric Pr\"],[0.8,\"0 - 15\",\"I have just learned about a concept called \\\"economic geography and location theory\\\". Can you explain\"],[0.8,\"0 - 15\",\"One day, my friend Bob was trying to explain to me how a compass works. He told me that it was a mag\"],[0.8,\"0 - 15\",\"**Instruction:**\\n\\nCraft an intricate narrative inspired by the prompt below, adhering to the additio\"],[1.1,\"0 - 15\",\"\\\"I am the guardian of green growth,\\\" I reply. \\\"I weave wisdom of ancient watercourses and the tales \"],[1.1,\"0 - 15\",\"Happy Valentine's Day All\\nI'm having more than my share of problems with a relative of someone's dau\"],[1.1,\"0 - 15\",\"\\\"Excuse me,\\\" Sophia said, turning to the gentleman ahead. \\\"Looks like we're having a slight delay.\\\" \"],[1.1,\"0 - 15\",\"In today's world, technology has become an essential part of our lives. We use it for almost everyth\"],[1.1,\"0 - 15\",\"As Lily settled into her routine at the bustling metropolis, she soon found herself at a coffee shop\"],[1.1,\"0 - 15\",\"Thr dessert, I was not at ease. The pudding for dessert was served chilled. It had a creamy texture,\"],[1.1,\"0 - 15\",\"To prepare yourself for such challenges, it's advisable to undertake a reading of Tao Han (2008): \\u201cS\"],[1.1,\"0 - 15\",\"One of the guests, a renowned psychologist specializing in memory research, overheard John and his f\"],[1.1,\"0 - 15\",\"Review Questions\\n\\n1. In what year did U.en. Ltd make its foray into India as depicted in The Indian \"],[1.1,\"0 - 15\",\"Inspired by her reading, Emily set out to prepare a delicious meal using locally sourced ingredients\"],[1.1,\"0 - 15\",\"One sunny afternoon, Anna, Lily, and Emma gathered in Anna' hole on Birch Street, excited to start w\"],[1.1,\"0 - 15\",\"As the story ends, let's dive into the logic behind its sentences. The story is about a girl and her\"],[1.1,\"0 - 15\",\"My friends have always tried to make me feel that I cannot live the life I want to live. They often \"],[1.1,\"0 - 15\",\"But wait! Our Alien is especially interested in things related to Mechanical Engineering. So, let me\"],[1.1,\"0 - 15\",\"However, let us take a detour through an imaginative landscape. Within the bounds of mathematics, we\"],[1.1,\"0 - 15\",\"Tales abide no tongue.\\nIn the dark's silhouetted heart,\\nWithin the quiet whisper, lies truth.\\nThe mo\"],[1.1,\"0 - 15\",\"Winter had arrived, covering the world with a blanket of snow and frost. The once vibrant neighborho\"],[1.1,\"0 - 15\",\"For Alice'quantitative easing program would further weaken the currency by making it cheaper relativ\"],[1.1,\"0 - 15\",\"First, let'enote down the number of books owned by each person:\\n\\n1. **Anthony**: 15 books\\n2. **Jose*\"],[1.1,\"0 - 15\",\"Craft a narrative poem that adheres to a strict ABAB rhyme scheme about a heroic event where a chara\"]],\"hovertemplate\":\"Temperature: %{customdata[0]}\\u003cbr\\u003eTransplanted Layers: %{customdata[1]}\\u003cbr\\u003eOutput: %{customdata[2]}\",\"legendgroup\":\"0 - 15\",\"marker\":{\"color\":[0.2,0.2,0.2,0.2,0.2,0.2,0.2,0.2,0.2,0.2,0.2,0.2,0.2,0.2,0.2,0.2,0.2,0.2,0.2,0.2,0.5,0.5,0.5,0.5,0.5,0.5,0.5,0.5,0.5,0.5,0.5,0.5,0.5,0.5,0.5,0.5,0.5,0.5,0.5,0.5,0.8,0.8,0.8,0.8,0.8,0.8,0.8,0.8,0.8,0.8,0.8,0.8,0.8,0.8,0.8,0.8,0.8,0.8,0.8,0.8,1.1,1.1,1.1,1.1,1.1,1.1,1.1,1.1,1.1,1.1,1.1,1.1,1.1,1.1,1.1,1.1,1.1,1.1,1.1,1.1],\"coloraxis\":\"coloraxis\",\"symbol\":\"diamond\"},\"mode\":\"markers\",\"name\":\"0 - 15\",\"scene\":\"scene\",\"showlegend\":true,\"x\":[0.30031317472457886,0.366643488407135,0.38492849469184875,0.3428798019886017,0.3763464093208313,0.320895791053772,0.07188494503498077,0.22727103531360626,0.19383467733860016,0.3610565960407257,0.27839967608451843,0.4127262830734253,0.211295023560524,0.16979043185710907,0.30804207921028137,0.4043133854866028,0.22852911055088043,-0.03081032633781433,0.22554470598697662,0.2451208084821701,-0.10472019016742706,0.22415666282176971,-0.03356466814875603,0.1987162083387375,0.10249770432710648,0.3496229946613312,0.03483786806464195,-0.15261691808700562,-0.26569873094558716,0.41283679008483887,-0.04518049582839012,0.18365460634231567,0.3357952833175659,0.23376327753067017,0.347892165184021,-0.12665648758411407,0.24837221205234528,-0.07222943753004074,0.21756482124328613,0.32482513785362244,-0.08106106519699097,-0.11218523979187012,-0.06818023324012756,0.35102277994155884,0.1175580695271492,-0.000207124583539553,-0.20450818538665771,0.1261235773563385,0.10094510018825531,0.38033759593963623,-0.12208443135023117,0.36993637681007385,0.032360486686229706,0.14017243683338165,-0.07019469141960144,0.265462189912796,-0.1593393087387085,-0.13089728355407715,-0.03227138891816139,0.16439515352249146,0.20150206983089447,-0.10271304845809937,0.344716876745224,-0.10806851089000702,0.26443496346473694,-0.16025325655937195,-0.05929189175367355,0.2346101999282837,0.0015804615104570985,0.08376241475343704,0.21330003440380096,0.02773044817149639,0.0838211178779602,0.15169768035411835,-0.032523468136787415,0.2559771239757538,0.3254099190235138,-0.16735297441482544,-0.11374121159315109,0.09376104921102524],\"y\":[-0.24839413166046143,-0.2130541056394577,-0.2819509208202362,-0.2565840482711792,-0.1685469150543213,-0.16729223728179932,-0.3475043773651123,-0.04086008295416832,-0.07248415797948837,-0.270180344581604,-0.3161831200122833,-0.2414199560880661,-0.21635346114635468,-0.029311299324035645,-0.2902591824531555,-0.25041088461875916,-0.11461187154054642,-0.06616520136594772,-0.32955124974250793,-0.3501647114753723,0.044119346886873245,-0.35119208693504333,-0.3107644319534302,-0.1703106313943863,0.049369651824235916,-0.1140112355351448,0.25149744749069214,-0.03920649364590645,0.03478649631142616,-0.20366230607032776,-0.09866727888584137,-0.06336265057325363,-0.006904075853526592,-0.20335295796394348,-0.2641848921775818,0.12621748447418213,-0.26434874534606934,-0.31399619579315186,-0.2311648577451706,-0.20537135004997253,0.10558851063251495,0.02666369266808033,0.22418878972530365,-0.050108496099710464,0.2392735630273819,0.07379166781902313,0.004473379347473383,-0.17275726795196533,-0.13463975489139557,-0.17974621057510376,-0.07037186622619629,-0.17505033314228058,-0.24967429041862488,0.05986974015831947,0.1565341353416443,-0.2173968106508255,0.23074625432491302,0.11860968917608261,0.07535112649202347,-0.251962810754776,0.01422551367431879,0.1005234643816948,-0.03336688131093979,0.14843423664569855,0.0997275561094284,-0.15567940473556519,0.06016084551811218,-0.14320901036262512,0.1526392102241516,-0.2695139944553375,-0.1933678686618805,-0.1967802345752716,0.0707334503531456,0.12409548461437225,0.09941519796848297,-0.25755560398101807,-0.07544774562120438,0.1759626269340515,-0.0859450250864029,-0.23636174201965332],\"z\":[-0.05232519656419754,-0.18819788098335266,-0.14007806777954102,-0.16948425769805908,-0.20496515929698944,-0.07045556604862213,-0.02387762814760208,0.16512778401374817,-0.1675250083208084,0.006879118271172047,0.004766230005770922,0.1497785747051239,0.04657325521111488,-0.056454144418239594,-0.19053621590137482,-0.17463374137878418,-0.07947573810815811,-0.039679210633039474,0.11755938082933426,0.010655101388692856,-0.22970585525035858,0.01752113737165928,0.28619346022605896,-0.14798100292682648,0.07250186800956726,-0.11648288369178772,-0.18318819999694824,-0.09578226506710052,-0.007920676842331886,-0.09785087406635284,-0.0915660485625267,-0.13392452895641327,0.07334725558757782,-0.07508158683776855,-0.12137942016124725,-0.0681585818529129,-0.05443954840302467,0.19796857237815857,0.12830045819282532,0.09574684500694275,0.07227882742881775,-0.04769430682063103,-0.2888878583908081,0.19731618463993073,-0.2926620841026306,-0.17282015085220337,-0.16303999722003937,-0.08467531949281693,-0.08215046674013138,0.08774324506521225,-0.039744578301906586,-0.013231930322945118,0.3195180594921112,0.019638583064079285,-0.2008359134197235,0.05094146355986595,-0.19848941266536713,-0.19325079023838043,-0.08832157403230667,0.018443653360009193,-0.2613896131515503,0.08872678130865097,0.2514214813709259,-0.07156648486852646,0.0034216989297419786,0.21646404266357422,-0.3217177987098694,-0.07386495172977448,-0.13288408517837524,0.07063420861959457,-0.0070909177884459496,0.23899216949939728,-0.01666000485420227,-0.02019507624208927,0.002871846314519644,-0.13287092745304108,0.016596203669905663,-0.03117610514163971,0.011989286169409752,-0.16822873055934906],\"type\":\"scatter3d\"},{\"customdata\":[[0.2,\"20 - 31\",\"The following is a conversation between I and M:\\n\\nM: Good morning! I'm glad you could join me for th\"],[0.2,\"20 - 31\",\"She decided to take a nap instead of going for a walk because she was feeling tired.\\n\"],[0.2,\"20 - 31\",\"**Question:**\\nYou are given a document that discusses the impact of the COVID-1quantification on the\"],[0.2,\"20 - 31\",\"The following is a conversation between I and M:\\n\\nM: Good morning, I'm M. How may I help you?\\n\\nI: Hi\"],[0.2,\"20 - 31\",\"The following is a conversation between I and M:\\n\\nI: Excuse me, may I ask what you're reading?\\n\\nM: O\"],[0.2,\"20 - 31\",\"The following is a conversation between I and M:\\n\\nM: Good morning! I'm glad you could join me for br\"],[0.2,\"20 - 31\",\"The following is a conversation between I and M:\\n\\nM: Good morning! I'm glad you could join me for th\"],[0.2,\"20 - 31\",\"The following is a conversation between I and M:\\n\\nM: Good morning, I'm M. How are you today? I: Good\"],[0.2,\"20 - 31\",\"The following is a conversation between I and M:\\n\\nM: Good morning, I'm M. How are you today? I: Good\"],[0.2,\"20 - 31\",\"The following is a conversation between I and M:\\n\\nM: Good morning! I'm glad you could join me for th\"],[0.2,\"20 - 31\",\"Given the following data on the number of hours studied and the corresponding exam scores for a grou\"],[0.2,\"20 - 31\",\"**Phase emency**\\n\\nThe phenomenon of interest in this study revolves around the impact of different t\"],[0.2,\"20 - 31\",\"The following is a conversation between I and M:\\n\\nM: Good morning, I'm M. How are you today?\\nI: I'm \"],[0.2,\"20 - 31\",\"The following is a conversation between I and M:\\n\\nI: Exactly, it's about the potential for a more in\"],[0.2,\"20 - 31\",\"**user:emen**\\n\\n**assistant:**It appears there may have been a misunderstanding or an error in the in\"],[0.2,\"20 - 31\",\"She was a very generous person, always giving her time and money to help others.\\n\"],[0.2,\"20 - 31\",\"She decided to take the bus instead of walking because the _ was faster.\\n\\nA. bus\\nB. walking\\n\\n## Solu\"],[0.2,\"20 - 31\",\"She decided to take the bus instead of driving because the bus was cheaper.\\n\"],[0.2,\"20 - 31\",\"She decided to take the bus instead of driving her car because the bus was more environmentally frie\"],[0.2,\"20 - 31\",\"The following is a conversation between I and M:\\n\\nM: Good morning, I'm M. How are you today? I: Good\"],[0.5,\"20 - 31\",\"She decided to go to bed early, because she had to wake up early the next day. The blank should be f\"],[0.5,\"20 - 31\",\"She preferred to read books on paper rather than on a Kindle, because the Kindle was less comfortabl\"],[0.5,\"20 - 31\",\"Again, let's assume we have a dataset of 1000 observations, each with 30 variables. We have used a r\"],[0.5,\"20 - 31\",\"**ER Doctor:** Good evening, I'm Dr. Ellis. What seems to be the trouble today?\\n\\n**Sarah:** (Visibly\"],[0.5,\"20 - 31\",\"Now, let's consider a more complex scenario. Suppose that the same biologist has been studying the s\"],[0.5,\"20 - 31\",\"Given the following data about a set of books, determine which book has the highest page count and t\"],[0.5,\"20 - 31\",\"Again, this is a trick question. Since the bakery and the coffee shop are both closed on Mondays, th\"],[0.5,\"20 - 31\",\"The story of the three friends, John, Mary, and Alex, revolves around their shared passion for gamin\"],[0.5,\"20 - 31\",\"The following passage has a grammatimetrical error. Identify the error and explain why it is incorre\"],[0.5,\"20 - 31\",\"Her parents were proud of her achievements. They had always encouraged her to pursue her dreams.\\n\"],[0.5,\"20 - 31\",\"She handed him the book she borrowed, and he graciously accepted it.\\n\"],[0.5,\"20 - 31\",\"**ER Doctor:** Good afternoon, I'm Dr. Thompson. I understand you're not feeling well. Can you tell \"],[0.5,\"20 - 31\",\"Their marriage was not consummated until after her first husband's death, when she was 23. Their mar\"],[0.5,\"20 - 31\",\"**input:emen**: I'm working on a FORTRAN module for handling multidimensional arrays, and I need it \"],[0.5,\"20 - 31\",\"She was a talented musician, but she never pursued her passion for playing the piano. She chose to s\"],[0.5,\"20 - 31\",\"Given the following simplified data on the nutritional content of three common food items, create a \"],[0.5,\"20 - 31\",\"The following is a conversation between I and Mia.\\n\\nI: Hey Mia, I heard you're really good at cookin\"],[0.5,\"20 - 31\",\"\\n\\nHere is a paragraph:\\nThe process of writing a paper can be tedious and time-consuming, especially \"],[0.5,\"20 - 31\",\"**Alice:emen, the author of this work.\\n\\n**Bob:** The author of this text is not explicitly named, bu\"],[0.5,\"20 - 31\",\"The text discusses the process of preparing for a job interview, emphasizing the importance of thoro\"],[0.8,\"20 - 31\",\"It was a hot day, but John had to finish his work and went outdoemenent.\\n\"],[0.8,\"20 - 31\",\"Again, without knowledge of the full content of the document, it's impossible to perform this task a\"],[0.8,\"20 - 31\",\"Agora voc\\u00ea precisa escrever uma fun\\u00e7\\u00e3o em Python chamada 'filtrar_com_primeiro_elemento', que recebe\"],[0.8,\"20 - 31\",\"\\n\\n**Topic:** The intricate dance of life under the sea, the ebb and flow of food chains, and the rol\"],[0.8,\"20 - 31\",\"To determine whether or not a person is considered a juvenile (under 18 years old) based on their da\"],[0.8,\"20 - 31\",\"As the story progressed, Sarah'quantum_data was consistently used to resolve conflicts, providing _ \"],[0.8,\"20 - 31\",\"Andrew' ka ler?\\n\\n\\n## Reply ##\\n\\nIn the context of the provided conversation, the term 'it' most likel\"],[0.8,\"20 - 31\",\"The phrase \\\"he's a fish out of water\\\" implies someone who feels out of place or uncomfortable in a c\"],[0.8,\"20 - 31\",\"The narrator'\\u0080\\u0099s description of their own state after the car accident is very brief in both lines.\"],[0.8,\"20 - 31\",\"It's important to note that the use of the words \\\"injection\\\" and \\\"solution\\\" in the context of the do\"],[0.8,\"20 - 31\",\"The output of the following program is:\\nWhich of the given options is correctly representing the pro\"],[0.8,\"20 - 31\",\"She decided to take the bus to the airport instead of a taxi because the bus is cheaper.\\n\"],[0.8,\"20 - 31\",\"The storyteller'\\u0080\\u0099s voice wove intricate tales across the vibrating strings of a harp, each pluck a \"],[0.8,\"20 - 31\",\"Against the backdrop of escalating tensions, a group of activists have been detained at this controv\"],[0.8,\"20 - 31\",\"Her parents encouraged her to pursue her degree instead of getting a job immediately. She decided to\"],[0.8,\"20 - 31\",\"When you use the 'if not in' operator with a variable, you're checking to see if the variable does n\"],[0.8,\"20 - 31\",\"## Question:\\nIn the spirit of crafting an enthralling narrative, I have a unique challenge for you. \"],[0.8,\"20 - 31\",\"I'm crafting a sophisticated system in C++ that emulates a network of devices, with focus on their p\"],[0.8,\"20 - 31\",\"The teacher praised the story but not the painting, because the story had more creativity.\\n\"],[0.8,\"20 - 31\",\"\\nThis chapter focuses on a unique Python class designed to manage multiple collections of integers i\"],[1.1,\"20 - 31\",\"She decided to keep her money in a savings account so that it would earn interest instead of just si\"],[1.1,\"20 - 31\",\"It doesn\\u00c3\\u00a2\\u00e2\\ud55cCredentials are still required for non-Google applications.\\nFor most users and organizat\"],[1.1,\"20 - 31\",\"### problem:\\nDevise a multi-step protocol using only biomimetic materials and principles from cellul\"],[1.1,\"20 - 31\",\"I'm working on an animation for a storyline in Ruby, where I want to create a sequence with two char\"],[1.1,\"20 - 31\",\"With deep concern for the plight of refugees worldwide, my goal is to shed light on displacement tha\"],[1.1,\"20 - 31\",\"The output should be:\\n```\\n(1, ['car', 'bicycle'])\\n(2, ['horse', 'motorcycle'])\\n(3, ['scooter'])\\n```\\n\"],[1.1,\"20 - 31\",\"This would be my first time feeling this kind of confusion so this might not be what exactly you are\"],[1.1,\"20 - 31\",\"**query:emeness\\n\\n**response:**What is your understanding of the concept of \\\"experiential mindfulness\"],[1.1,\"20 - 31\",\"As an experienced culinary historian, elaborate the impact of cooking methods and condiment evolutio\"],[1.1,\"20 - 31\",\"**User: pentru planificarea uneori de spatiu atingitori** \\n\\nLost in the maze, I realized the complex\"],[1.1,\"20 - 31\",\"She thought her performance on the stage was excellent, but after receiving a standing ovation and h\"],[1.1,\"20 - 31\",\"It was an extremely hot summer, causing beings to go to the beach to find relief from the heat.\\n\"],[1.1,\"20 - 31\",\"Her friends' house feels cooler to her than hers.\\n\\n\\n23. She is always the warmest and never needs to\"],[1.1,\"20 - 31\",\"This methodology seeks to ensure a more structured approach. While a significant amount of time will\"],[1.1,\"20 - 31\",\"The narrative unfolds within a dystopian future where human emotions are artificially regulated to m\"],[1.1,\"20 - 31\",\"Growing up in a culturally multisectorial society has not equipped me to effectively adapt to life a\"],[1.1,\"20 - 31\",\"With a background in software engineering with expertise in C# and Python, you've recently landed a \"],[1.1,\"20 - 31\",\"Here'delta_{t}+\\\\delta} (-\\\\tau' \\u003c t-\\\\tau' \\u003c \\\\delta\\\\ ).$$\\n\\nI have done a Taylor series but I have a lo\"],[1.1,\"20 - 31\",\"Following a meticulous reconstruction, reorganize the document provided, with a distinct emphasis on\"],[1.1,\"20 - 31\",\"---\\n\\n**In ER Consultation Room, John sits uncomfortably on an examination table. An ER doctor enters\"]],\"hovertemplate\":\"Temperature: %{customdata[0]}\\u003cbr\\u003eTransplanted Layers: %{customdata[1]}\\u003cbr\\u003eOutput: %{customdata[2]}\",\"legendgroup\":\"20 - 31\",\"marker\":{\"color\":[0.2,0.2,0.2,0.2,0.2,0.2,0.2,0.2,0.2,0.2,0.2,0.2,0.2,0.2,0.2,0.2,0.2,0.2,0.2,0.2,0.5,0.5,0.5,0.5,0.5,0.5,0.5,0.5,0.5,0.5,0.5,0.5,0.5,0.5,0.5,0.5,0.5,0.5,0.5,0.5,0.8,0.8,0.8,0.8,0.8,0.8,0.8,0.8,0.8,0.8,0.8,0.8,0.8,0.8,0.8,0.8,0.8,0.8,0.8,0.8,1.1,1.1,1.1,1.1,1.1,1.1,1.1,1.1,1.1,1.1,1.1,1.1,1.1,1.1,1.1,1.1,1.1,1.1,1.1,1.1],\"coloraxis\":\"coloraxis\",\"symbol\":\"diamond-open\"},\"mode\":\"markers\",\"name\":\"20 - 31\",\"scene\":\"scene\",\"showlegend\":true,\"x\":[0.3193233013153076,0.06787052750587463,-0.03545533865690231,0.1542167365550995,0.3842623233795166,0.07849791646003723,0.193785160779953,0.19843727350234985,0.17201609909534454,0.28801268339157104,-0.15916243195533752,0.029481498524546623,0.13743002712726593,0.2453162521123886,0.00198621884919703,0.10592015832662582,-0.026790950447320938,-0.06209142133593559,0.06435288488864899,0.20549653470516205,0.011630513705313206,0.02236117050051689,-0.22342659533023834,0.16417855024337769,0.04443597048521042,-0.08256606012582779,-0.2371273785829544,0.21869048476219177,-0.046997878700494766,0.17236210405826569,-0.009532657451927662,0.14997483789920807,-0.016695506870746613,-0.2991394102573395,0.19214700162410736,-0.2845251262187958,0.164328470826149,0.09372100234031677,0.10149113833904266,-0.01744162105023861,0.11820385605096817,-0.13158410787582397,-0.24288439750671387,0.07622198015451431,-0.2787396013736725,0.16868272423744202,0.11638438701629639,0.03287380561232567,0.20678704977035522,-0.1719209849834442,-0.13385972380638123,-0.13358603417873383,0.27263200283050537,0.0965486541390419,0.23999692499637604,-0.2548448443412781,0.1827099621295929,-0.05880332738161087,0.07079708576202393,-0.17310789227485657,0.051939740777015686,-0.2986093759536743,-0.17489364743232727,0.019067000597715378,0.07488030940294266,-0.23213447630405426,-0.11433592438697815,0.1275721937417984,-0.16011488437652588,0.23748387396335602,0.244435116648674,0.06823320686817169,0.22881527245044708,-0.06630052626132965,0.2515328824520111,0.09490858763456345,-0.13081762194633484,-0.18997342884540558,-0.19119451940059662,0.1497114896774292],\"y\":[0.3929244875907898,-0.027197416871786118,0.20990125834941864,0.4562782347202301,0.20060543715953827,0.21531663835048676,0.4330378472805023,0.395871639251709,0.5069268345832825,0.3911435604095459,0.15231218934059143,0.022313416004180908,0.3928390443325043,0.2553282380104065,0.18215474486351013,-0.15886880457401276,0.14446066319942474,0.07506168633699417,0.10563535988330841,0.4467371702194214,-0.04396868869662285,-0.020849445834755898,0.15151555836200714,0.025655323639512062,0.29951849579811096,-0.011396501213312149,-0.043594714254140854,-0.13521452248096466,0.10804564505815506,-0.086882084608078,0.02009686827659607,-0.01975162699818611,-0.22410427033901215,0.0959169864654541,-0.16036424040794373,0.016618233174085617,0.17734698951244354,0.11839991062879562,0.00018331699538975954,0.25892889499664307,-0.042500436305999756,0.20568479597568512,0.1059868261218071,-0.05519931763410568,0.16263727843761444,0.05490463599562645,0.17732146382331848,0.03693040460348129,0.004934716038405895,0.14986532926559448,0.16854071617126465,0.11402586102485657,-0.22010281682014465,0.043948546051979065,-0.1296299695968628,0.1190323531627655,-0.19973744451999664,0.1663295030593872,-0.06273125857114792,0.12677966058254242,-0.09370093047618866,0.0543794147670269,0.08370304107666016,0.06380137801170349,0.005589879117906094,0.13311055302619934,0.17754203081130981,0.12798506021499634,-0.17462006211280823,-0.09297051280736923,0.01015120092779398,-0.10041427612304688,0.030787408351898193,0.2259657233953476,-0.17730210721492767,0.21384724974632263,0.12098228931427002,0.05907152220606804,-0.12870702147483826,-0.014846201054751873],\"z\":[0.35836049914360046,0.09553937613964081,-0.22228208184242249,0.49685239791870117,0.4474366307258606,0.6115669012069702,0.22725823521614075,0.5455553531646729,0.5406089425086975,0.4253189265727997,-0.09361256659030914,-0.1145230233669281,0.3496157228946686,0.031078577041625977,0.0841309055685997,0.0013018283061683178,0.1897033303976059,0.06125985458493233,-0.049697600305080414,0.24763450026512146,0.09829016774892807,0.012799805961549282,-0.06947887688875198,0.23106563091278076,-0.08790048956871033,-0.043574005365371704,0.06481217592954636,0.12763161957263947,0.016359394416213036,0.014097985811531544,0.13217872381210327,0.1757669895887375,-0.033343806862831116,-0.04404526948928833,-0.0174698568880558,0.10103778541088104,0.6338559985160828,-0.003485690802335739,-0.09530850499868393,-0.06658439338207245,-0.0135220717638731,-0.13313928246498108,-0.13869357109069824,-0.16961368918418884,-0.10144498944282532,0.05880652740597725,0.1319916695356369,-0.05400647595524788,0.13628554344177246,-0.10598204284906387,0.021632103249430656,0.029171597212553024,0.0019799815490841866,-0.17333991825580597,-0.08472229540348053,0.02518581598997116,-0.06592153757810593,-0.09401107579469681,0.038676392287015915,-0.15115420520305634,0.024304140359163284,-0.07463628798723221,-0.14156432449817657,0.08476655185222626,-0.180537149310112,-0.12480225414037704,-0.04626527801156044,-0.13640256226062775,0.04821113124489784,-0.06724606454372406,0.15175235271453857,-0.1045774519443512,0.08787043392658234,-0.09254550188779831,-0.10237791389226913,-0.040747880935668945,-0.12287037074565887,-0.08460109680891037,-0.07281201332807541,0.11056654155254364],\"type\":\"scatter3d\"},{\"customdata\":[[0.2,\"15 - 31\",\"The following is a conversation between I and M:\\n\\nM: Good morning, I'm M. How are you today?\\n\\nI: I'm\"],[0.2,\"15 - 31\",\"The following is a conversation between I and Mia.\\nI: Could you please tell me about your experience\"],[0.2,\"15 - 31\",\"The following is a conversation between I and M:\\n\\nM: Good morning! I'm glad you could join me for th\"],[0.2,\"15 - 31\",\"The following is a conversation between I and M:\\n\\nI: Excuse me, may I ask what you're reading?\\n\\nM: O\"],[0.2,\"15 - 31\",\"**query:emen**\\n\\n**response:**It seems like your message was cut off. Could you please provide the in\"],[0.2,\"15 - 31\",\"The following is a conversation between I and Mia.\\n\\nI: Could you please help me understand the conce\"],[0.2,\"15 - 31\",\"The following is a conversation between I and M:\\n\\nM: Good morning! I'm M, your friendly neighborhood\"],[0.2,\"15 - 31\",\"The following is a conversation between I and M:\\n\\nM: Good morning! I'm excited to discuss the recent\"],[0.2,\"15 - 31\",\"The following is a conversation between I and M:\\n\\nM: Good morning! I'm glad you could join me for th\"],[0.2,\"15 - 31\",\"The following is a conversation between I and M:\\n\\nI: Excuse me, may I ask what you're reading?\\n\\nM: O\"],[0.2,\"15 - 31\",\"The following is a conversation between I and M:\\n\\nM: Good morning, I'm M. May I speak to Alex?\\nI: Th\"],[0.2,\"15 - 31\",\"The following is a conversation between I and M:\\n\\nM: Good morning! I'm M, your friendly neighborhood\"],[0.2,\"15 - 31\",\"The following is a conversation between I and M:\\n\\nI: Excuse me, may I ask what you're reading?\\n\\nM: O\"],[0.2,\"15 - 31\",\"The following is a conversation between I and M:\\n\\nM: Good morning! I'm glad you could join me for th\"],[0.2,\"15 - 31\",\"The following is a conversation between I and M:\\n\\nM: Good morning! I'm so glad to see you.\\nI: Good m\"],[0.2,\"15 - 31\",\"The following is a conversation between I and M:\\n\\nM: Good morning! I'm glad you could join me for th\"],[0.2,\"15 - 31\",\"The following is a conversation between I and M:\\n\\nM: Good morning! I'm so glad you could join me for\"],[0.2,\"15 - 31\",\"The following is a conversation between I and M:\\n\\nM: Good morning, I'm M. How may I help you?\\nI: Hi,\"],[0.2,\"15 - 31\",\"The following is a conversation between I and M:\\n\\nM: Good morning! I'm glad you could join me for th\"],[0.2,\"15 - 31\",\"The following is a conversation between I and M:\\n\\nM: Good morning, I'm M. How are you today?\\n\\nI: I'm\"],[0.5,\"15 - 31\",\"**Query: kishtaan mein kuchh khana bahut bahut bada hai**\\n\\n\\n**Response:**\\n\\nIn Urdu, \\\"Kishtaan mein k\"],[0.5,\"15 - 31\",\"Again, refer to the document for the detailed explanation.\\n\\n\\n## Your task:In the document, identify \"],[0.5,\"15 - 31\",\"Now, let's consider a more complex scenario. In the same town, a survey was conducted about the resi\"],[0.5,\"15 - 31\",\"The following are three logical statements:\\n\\n1. If it is raining, then the ground is wet.\\n2. If the \"],[0.5,\"15 - 31\",\"The following is a conversation between I and M:\\n\\nM: Good morning, I'm M. What can I do for you toda\"],[0.5,\"15 - 31\",\"As the sun dipped below the horizon, casting a golden hue over the tranquil lake, the once vibrant g\"],[0.5,\"15 - 31\",\"Again, we'll use the formula for compound interest, but this time we'll solve for the present value \"],[0.5,\"15 - 31\",\"**I'd like you to create a Lua script for a game that manages the appearance of a character named \\\"A\"],[0.5,\"15 - 31\",\"The following is a conversation between I and M:\\n\\nI: Any more surprises for me?\\n\\nM: I think this yea\"],[0.5,\"15 - 31\",\"Now, let's move on to the more complex challenge. For this task, I want you to analyze the provided \"],[0.5,\"15 - 31\",\"She tried to make a cake, but it did not rise. The ingredients were not measured correctly.\\n\"],[0.5,\"15 - 31\",\"In a situation where you are a member of a community-based organization, you are tasked with develop\"],[0.5,\"15 - 31\",\"The following is a conversation between I and M:\\n\\nM: Good morning, I'm M. How may I help you?\\n\\nI: Hi\"],[0.5,\"15 - 31\",\"This time, you will be given a document describing a complex scientific concept. Your task is to dis\"],[0.5,\"15 - 31\",\"Again, let'\\u0080\\u0099s take a look at the question:\\n\\nA farmer owns a farm, and he also has some ducks and sh\"],[0.5,\"15 - 31\",\"The following is a conversation between I and M:\\n\\nM: Good morning. I'm M, from the product team.\\n\\nI:\"],[0.5,\"15 - 31\",\"**user:emen**\\n\\n**assistant:**It appears there may have been some confusion with the input provided. \"],[0.5,\"15 - 31\",\"Herbal tea has always been a comforting remedy for Mabel, but she found it more effective than coffe\"],[0.5,\"15 - 31\",\"Against the backdrop of the city'emen's struggle for freedom and equality, a young woman named Amina\"],[0.5,\"15 - 31\",\"In a world where the most prized possession is a rare plant, you are a botanist who has just discove\"],[0.8,\"15 - 31\",\"To solve this question, we need to determine the difference between the two given time expressions, \"],[0.8,\"15 - 31\",\"She decided to go to the bank instead of the post office because she had a bill to deposit, and bank\"],[0.8,\"15 - 31\",\"This year'\\u0080\\u0099s budget, an increase of $33 million from $1.9 million over 2018, will focus on a host o\"],[0.8,\"15 - 31\",\"In a family with five children, two of them are boys. If one parent has three boys, how is this poss\"],[0.8,\"15 - 31\",\"The protagonist, Jane, is an aspiring linguist with an obsession for uncovering lost languages and s\"],[0.8,\"15 - 31\",\"Here's an example scenario to illustrate this problem: Let's consider a class of 30 students. We wan\"],[0.8,\"15 - 31\",\"The following code is designed to simulate the spread of a virus in a population based on different \"],[0.8,\"15 - 31\",\"She had a difficult time understanding the math equation, so she asked her teacher for help.\\n\"],[0.8,\"15 - 31\",\"Now, we want to add this function to our global namespace. This allows the function to be used witho\"],[0.8,\"15 - 31\",\"The following translation contains an error. That error will be one of the following types:\\n\\nNamed E\"],[0.8,\"15 - 31\",\"Their relationship was tumultuous, full of emotional highs and lows. It was like a rollercoaster rid\"],[0.8,\"15 - 31\",\"The code you requested has been provided below:\\n\\n```python\\nimport re\\n\\ndef extract_numbers(text):\\n   \"],[0.8,\"15 - 31\",\"**Scenario Creation for Interview:**\\n\\n*Background and Patient History:*\\n\\nPatient Name: Sierra Little\"],[0.8,\"15 - 31\",\"Now, write a multi-part question involving a complex problem. The first part should ask you to consi\"],[0.8,\"15 - 31\",\"So, the correct option is (A) The pizza delivery was exceptionally late.\\n\\n\"],[0.8,\"15 - 31\",\"Without the image or direct reference to a literary piece, it's challenging to provide an accurate a\"],[0.8,\"15 - 31\",\"The story unfolds in a bleak industrial city where the soot from factories has turned the sky ashen \"],[0.8,\"15 - 31\",\"She knew to call 911 once she saw the car that was out of control. The car was driving in a reckless\"],[0.8,\"15 - 31\",\"In a bustling market town, a merchant was selling exquisite antique vases. Alex was fascinated by a \"],[0.8,\"15 - 31\",\"**Input:ernees**\\n\\n**Output:**\\n\\nIn a dystopian world, the 'Glass Ceiling Effect,' 'Green Tax,' 'Oil D\"],[1.1,\"15 - 31\",\"In the intricate web of human sexuality, the concept takes on myriad forms, with diverse expressions\"],[1.1,\"15 - 31\",\"A few key components of our program aim to encourage critical reflection and self-awaren\\u0434\\u044f among stu\"],[1.1,\"15 - 31\",\"Reviving Historical Traditions: Embracing Sustainable Practices\\n\\nIntroduction:\\nIn our journey toward\"],[1.1,\"15 - 31\",\"The first day of school is a chance to help your toddler learn about independence. By day one, encou\"],[1.1,\"15 - 31\",\"It seems like you are looking for guidance on how to write a personal statement for a course like CS\"],[1.1,\"15 - 31\",\"It took me quite a while (and a LOT of editing) to put together this list. Hopefully this informatio\"],[1.1,\"15 - 31\",\"To recreate a section from a legislative document on regulatory fees related to securities arbitrati\"],[1.1,\"15 - 31\",\"With renewed determination, Sarah embarked on crafting her own jewelketry, knowing that her creation\"],[1.1,\"15 - 31\",\"This request seems to ask for a complex technical narrative involving astronomy and mathematic princ\"],[1.1,\"15 - 31\",\"Here are the new constraints added:\\n\\n1. Before starting the guide, write a brief description (one se\"],[1.1,\"15 - 31\",\"The final touch to perfecting any salad is the dressing. One that pairs exceptionally well with any \"],[1.1,\"15 - 31\",\"Now, let\\u2019s consider a complex situation. A team of scientists from different fields - physics, psych\"],[1.1,\"15 - 31\",\"** user ** Hi I think I need some help With my finances I want to be able to save and plan properly \"],[1.1,\"15 - 31\",\"This method should work, but might be a bit verbose. It would involve sorting based off the number' \"],[1.1,\"15 - 31\",\"The pizza margherita preparation began at the professional chef's kitchen by sourcing the finest ing\"],[1.1,\"15 - 31\",\"**user:emen**\\\\nThe following iterative process should be used, adjusting the variable n as you go, b\"],[1.1,\"15 - 31\",\"Nowadays almost every adult, no matter how financially well-placed will still save for the future, a\"],[1.1,\"15 - 31\",\"Here is a short story: \\\"The Great Adventure\\\" by Jane Austen, published posthumously in 1864. The sto\"],[1.1,\"15 - 31\",\"As an expert on ancient Greek histories focusing on Sestos's significant contributions, provide an i\"],[1.1,\"15 - 31\",\"This comprehensive strategy considers legal parameters, stakeholder inclusion, and proactive engagem\"]],\"hovertemplate\":\"Temperature: %{customdata[0]}\\u003cbr\\u003eTransplanted Layers: %{customdata[1]}\\u003cbr\\u003eOutput: %{customdata[2]}\",\"legendgroup\":\"15 - 31\",\"marker\":{\"color\":[0.2,0.2,0.2,0.2,0.2,0.2,0.2,0.2,0.2,0.2,0.2,0.2,0.2,0.2,0.2,0.2,0.2,0.2,0.2,0.2,0.5,0.5,0.5,0.5,0.5,0.5,0.5,0.5,0.5,0.5,0.5,0.5,0.5,0.5,0.5,0.5,0.5,0.5,0.5,0.5,0.8,0.8,0.8,0.8,0.8,0.8,0.8,0.8,0.8,0.8,0.8,0.8,0.8,0.8,0.8,0.8,0.8,0.8,0.8,0.8,1.1,1.1,1.1,1.1,1.1,1.1,1.1,1.1,1.1,1.1,1.1,1.1,1.1,1.1,1.1,1.1,1.1,1.1,1.1,1.1],\"coloraxis\":\"coloraxis\",\"symbol\":\"square\"},\"mode\":\"markers\",\"name\":\"15 - 31\",\"scene\":\"scene\",\"showlegend\":true,\"x\":[0.16676801443099976,0.2778089642524719,0.26735299825668335,0.3129081726074219,0.03009689599275589,0.043564509600400925,0.23749640583992004,0.2366952896118164,0.25837796926498413,0.3695647120475769,0.1278689056634903,0.19883419573307037,0.3707267940044403,0.2553727328777313,0.16306163370609283,0.24736131727695465,0.2592623233795166,0.07283729314804077,0.2626347839832306,0.12548263370990753,-0.0007855674484744668,-0.13185733556747437,-0.146933913230896,-0.11738560348749161,0.17236194014549255,0.36291956901550293,-0.299083948135376,-0.08364860713481903,0.1241760328412056,-0.10358566790819168,-0.21018263697624207,-0.13339976966381073,0.125930517911911,-0.04128966107964516,-0.16263850033283234,0.13386270403862,-0.09487028419971466,-0.09373271465301514,0.264072060585022,-0.151306614279747,-0.19937093555927277,-0.0006541737820953131,-0.21060068905353546,-0.14478379487991333,0.1645004004240036,-0.23523050546646118,-0.15711677074432373,-0.08348899334669113,-0.26249030232429504,-0.06628114730119705,-0.01431753858923912,-0.3003687262535095,-0.006982377264648676,-0.16382303833961487,-0.08668239414691925,-0.009609012864530087,0.17008380591869354,0.018631702288985252,0.01236034370958805,-0.13925088942050934,0.10520464181900024,0.11628428846597672,0.07061786949634552,-0.16650256514549255,-0.11862168461084366,-0.29563215374946594,-0.203822061419487,0.1312013417482376,-0.010420175269246101,-0.06751635670661926,-0.2702067196369171,0.035636674612760544,-0.18894705176353455,-0.31846222281455994,-0.2735033631324768,-0.3133232891559601,-0.0005527233006432652,0.09351834654808044,-0.02958558313548565,0.004134299699217081],\"y\":[0.5170711278915405,0.2704726755619049,0.4527987837791443,0.22065190970897675,0.23520562052726746,0.16688735783100128,0.3562682867050171,0.41127097606658936,0.501876175403595,0.22505968809127808,0.3985408544540405,0.4907926917076111,0.2247505784034729,0.4490973651409149,0.2922455966472626,0.5157519578933716,0.23898841440677643,0.4878985583782196,0.5270815491676331,0.4490496516227722,-0.11294273287057877,0.12408792972564697,0.03134944662451744,0.19337663054466248,0.4431088864803314,-0.23533202707767487,0.07329700887203217,0.058261577039957047,0.39911070466041565,0.09716834127902985,-0.1971832662820816,0.06516614556312561,0.5031923651695251,0.15243320167064667,0.008347529917955399,0.461930513381958,0.2865886986255646,-0.18718813359737396,-0.11578889936208725,-0.07605978101491928,0.09300138801336288,-0.0008902566623874009,0.11472524702548981,0.054014675319194794,-0.20026974380016327,0.12954682111740112,0.1235581636428833,-0.011473077349364758,0.12218307703733444,0.14267976582050323,0.0006975350552238524,0.1543572098016739,0.11139582097530365,0.19820177555084229,0.07749911397695541,-0.0873878002166748,-0.13719668984413147,0.050349097698926926,-0.1298675388097763,0.1342802345752716,0.03988101705908775,0.1912248730659485,-0.054106514900922775,0.0278242826461792,0.18710646033287048,0.034099142998456955,0.15774516761302948,-0.1903189867734909,0.1170443594455719,-0.10339514166116714,-0.06332679837942123,0.2371840626001358,0.08885860443115234,0.17234806716442108,-0.251959890127182,0.11251486837863922,0.06745816767215729,-0.17215591669082642,0.041921790689229965,0.12848398089408875],\"z\":[0.46653860807418823,0.34766700863838196,0.4302632808685303,0.529804527759552,0.13893641531467438,0.09470592439174652,0.4343322813510895,0.3235386312007904,0.36885762214660645,0.4605486989021301,0.5060244202613831,0.49313226342201233,0.46000605821609497,0.47611820697784424,0.6721355319023132,0.4444880187511444,0.4687139391899109,0.5098971724510193,0.39788445830345154,0.41557544469833374,0.12339460104703903,-0.19829575717449188,0.10227157175540924,0.026390064507722855,0.47066405415534973,-0.09920452535152435,-0.12417703866958618,-0.015680985525250435,0.38286373019218445,-0.1430690437555313,0.256541907787323,-0.26419001817703247,0.44723671674728394,-0.25593873858451843,0.07806267589330673,0.4198094606399536,-0.007779572159051895,0.0740819126367569,-0.20486681163311005,-0.13232353329658508,0.09912316501140594,0.02927466854453087,-0.1175016462802887,0.10514058917760849,-0.09892471879720688,-0.04834785684943199,-0.19195374846458435,0.12155438214540482,-0.06966566294431686,-5.495561708812602e-06,-0.06596185266971588,-0.15442168712615967,-0.07563628256320953,0.001970943994820118,0.0987464040517807,-0.030131882056593895,-0.23774640262126923,0.018499072641134262,0.04403853788971901,-0.18745110929012299,-0.09725389629602432,-0.06835394352674484,-0.33842065930366516,-0.12376482784748077,-0.08545466512441635,-0.1728343814611435,-0.07681380957365036,-0.1121831089258194,-0.13775800168514252,-0.03227781504392624,0.046955130994319916,-0.00020162788860034198,-0.11487967520952225,-0.08063188195228577,0.12690050899982452,-0.1128145232796669,-0.12098120898008347,-0.04854129999876022,-0.24092385172843933,-0.3859388530254364],\"type\":\"scatter3d\"},{\"customdata\":[[0.2,\"25 - 31\",\"**Query:emen**\\n\\n**Response:**\\n\\nThe term \\\"menemen\\\" refers to a traditional Turkish breakfast dish tha\"],[0.2,\"25 - 31\",\"The following is a conversation between I and M:\\n\\nM: Good morning, I'm M. May I speak to Alex?\\n\\nI: T\"],[0.2,\"25 - 31\",\"The code is designed to process a dataset of images and their associated annotations for object dete\"],[0.2,\"25 - 31\",\"**Question:**\\n\\nYou are a renowned historian specializing in the study of ancient civilizations. Your\"],[0.2,\"25 - 31\",\"The document discusses the impact of the COVID-1quantification of the pandemic's impact on the globa\"],[0.2,\"25 - 31\",\"The professor'\\u0080\\u0099s lecture on quantum mechanics was difficult to follow because the concepts were com\"],[0.2,\"25 - 31\",\"\\n\\nQuestion 1: If a person has a fear of heights and they are standing on a ladder, would they be abl\"],[0.2,\"25 - 31\",\"\\n\\nQuestion 1: If a person is experienquant to their own happiness, does that mean they will always b\"],[0.2,\"25 - 31\",\"The story of the three friends, Alex, Jamie, and Taylor, revolves around their shared love for music\"],[0.2,\"25 - 31\",\"\\n\\n**Exercise 1:**\\n\\nLet's consider a 9 sentence long challenging real-world case. A renowned philosop\"],[0.2,\"25 - 31\",\"The teacher asked the students to write an essay on the topic of \\\"The Importance of Reading\\\".\\n\\n# Ans\"],[0.2,\"25 - 31\",\"The story of the three friends, Alice, Bob, and Charlie, revolves around their shared love for mathe\"],[0.2,\"25 - 31\",\"Again, we will use the formula for compound interest.\\n\\nFor Account A:\\n\\nA = P (1 + r\\u002fn)^(nt)\\n\\nwhere:\\n\"],[0.2,\"25 - 31\",\"The code you provided is for a simple neural network implementation using NumPy. It takes input data\"],[0.2,\"25 - 31\",\"The farmer had to choose between planting corn or wheat. He chose the former because it was more pro\"],[0.2,\"25 - 31\",\"The narrative of the 2quantum project is a fascinating tale of innovation, collaboration, and the re\"],[0.2,\"25 - 31\",\"The question is about the following passage:\\n\\n\\\"The term 'sustainable development' was first coined b\"],[0.2,\"25 - 31\",\"The story of the three friends, Alex, Bailey, and Casey, revolves around their shared passion for as\"],[0.2,\"25 - 31\",\"She decided to take the bus instead of walking because it was raining heavily.\\n\"],[0.2,\"25 - 31\",\"This task involves analyzing a document about the impact of the COVID-1quantification of the impact \"],[0.5,\"25 - 31\",\"The story of the young girl who overcame her fear of the dark by finding a special friend in her stu\"],[0.5,\"25 - 31\",\"**Question:**\\nCreate a program that takes a list of strings and returns a new list with only the str\"],[0.5,\"25 - 31\",\"The story of John, a dedicated environmental scientist, unfolds as he embarks on a quest to assess t\"],[0.5,\"25 - 31\",\"Again, I will provide a basic example of a Python module that simulates a simple neural network for \"],[0.5,\"25 - 31\",\"This will output: \\\"The sentiment of the text is neutral.\\\"\\n\\nThe output of this code will be the same \"],[0.5,\"25 - 31\",\"This time, let's consider a more complex scenario. At the annual meeting of the prestigious law firm\"],[0.5,\"25 - 31\",\"The two friends, Alex and Ben, were out for a walk in the park. Alex was feeling happy because he ha\"],[0.5,\"25 - 31\",\"\\n\\n**Creative Writing Instruction:**\\n\\nAlright, here we go, let's get those creative juices flowing wi\"],[0.5,\"25 - 31\",\"She decided to buy the dress instead of the shoes because it was on sale.\\n\"],[0.5,\"25 - 31\",\"Again, this is a simple conversion, so we can directly calculate it as follows:\\n\\n1 kilogram = 2.2046\"],[0.5,\"25 - 31\",\"The question asks about the main topic of a document. The document, titled \\\"The Impact of Soil pH on\"],[0.5,\"25 - 31\",\"\\n\\nExercemen\\n\\nt of a city's budget for public transportation is $12 million. If the city decides to a\"],[0.5,\"25 - 31\",\"Given the following list of ingredients:\\n\\n- Eggs: 2 large\\n- Milk: 1 cup\\n- Flour: 1 cup\\n- Sugar: 1\\u002f2 \"],[0.5,\"25 - 31\",\"The given problem can be solved using the concept of probability. \\n\\nFirst, let's calculate the proba\"],[0.5,\"25 - 31\",\"**Scenario Analysis:**\\n\\nYou are provided with a case study involving a 40-year-quantum physicist nam\"],[0.5,\"25 - 31\",\"She was always on time for work, but he was often late. He had a habit of oversleeping.\\n\"],[0.5,\"25 - 31\",\"The farmer had to choose between traditional fertilizer and organic compost. He opted for the compos\"],[0.5,\"25 - 31\",\"The function takes a string as input and returns a modified string with all vowels removed.\\n\\nInput:\\n\"],[0.5,\"25 - 31\",\"This problem requires a more advanced understanding of the kinematics equations and the concept of u\"],[0.5,\"25 - 31\",\"The local community garden has been thriving under the care of a dedicated group of volunteers. Rece\"],[0.8,\"25 - 31\",\"She started her business with 1000 units of stock. After a successful sale of products, there was on\"],[0.8,\"25 - 31\",\"\\n\\nSophie' clothes were ragged while Lucas had pristine attire; Sophie's garments were threadbare. Lu\"],[0.8,\"25 - 31\",\"\\nInstruction:\\n\\n1. **Topic Conplanarity**: Write a section on the implementation and application of t\"],[0.8,\"25 - 31\",\"Tutor: \\nAlright, let'delta=\\\\frac{dy}{dx}=\\\\frac{2x}{x^2+1}\\\\cdot\\\\frac{d}{dx}(x^2+1) - (x^2+1)\\\\cdot\\\\fra\"],[0.8,\"25 - 31\",\"Again, we will generate two separate parts for the document focusing on 'Strategic Planning' and 'Ta\"],[0.8,\"25 - 31\",\"The professor discussed the themes in both Hemingway' clothes.\\n\\nA. He\\nB. I\\n\\nAnswer:B\\n\\n\\nQuestion 1:\\n\\n\"],[0.8,\"25 - 31\",\"This function should take a string as input and return a list of all possible palindromes that can b\"],[0.8,\"25 - 31\",\"It took me less than 30 minutes to go from having no idea what I wanted to eat for lunch, to having \"],[0.8,\"25 - 31\",\"### Input:\\nAs an exercise in creative writing, you are provided with a snippet of pseudo-code descri\"],[0.8,\"25 - 31\",\"\\nUser: Hey, I read something fascinating about insects producing bioluminescent light. Can you tell \"],[0.8,\"25 - 31\",\"## Question\\n\\nWhen presented with the abstract piece, Carlos saw a potential for depth that Emma over\"],[0.8,\"25 - 31\",\"The program provided a comprehensive guide on how to deal with anger. Follow the steps outlined in t\"],[0.8,\"25 - 31\",\"This would mean for every pound of copper produced, four pounds of chemical reactants are required, \"],[0.8,\"25 - 31\",\"Against: No, it's not permissible in Islam as it violates the principle of not being deceitful.\\n\\nPro\"],[0.8,\"25 - 31\",\"The content of an academic paper was challenged by a recent review article. The reviewer\\u2019s main cont\"],[0.8,\"25 - 31\",\"The correct answer is option (C). Here's why:\\n\\nFirst, let's calculate the total area of the rooms:\\nL\"],[0.8,\"25 - 31\",\"This paper will be submitted to a peer-reviewed journal. I will need to revise this draft version of\"],[0.8,\"25 - 31\",\"## question:\\nGiven the following input, output what you predict will happen next.\\nThe detective find\"],[0.8,\"25 - 31\",\"She decided to go for a walk, whereas he chose to stay in bed, so he felt guilty afterwards.\\n\"],[0.8,\"25 - 31\",\"Cleaning your dishw\\u0434\\u044f in a dishwasher:\\n\\nA. Open the dishwja\\u0441h drawer and pull out the top rack. Remo\"],[1.1,\"25 - 31\",\"## Question\\n\\nRachel, who often skipped lunch with colleagues during work-intensive phases, began to \"],[1.1,\"25 - 31\",\"C: The author would recommend using an app. \\nD: None of the above options are accurate.\\n- The correc\"],[1.1,\"25 - 31\",\"** Query: Script out an original screenplay for a short indie film. It should have three characters \"],[1.1,\"25 - 31\",\"## Input:\\nAnalyze the sentiment of a given restaurant review. The tone could either be positive, neu\"],[1.1,\"25 - 31\",\"It took a lot of patience, but eventually, Sarah was able to help her younger sister Linda in baking\"],[1.1,\"25 - 31\",\"This comprehensive report provides an in-depth analysis and recommendations for implementing 'Climat\"],[1.1,\"25 - 31\",\"Give the result of '7 * (4 + '2 x 3^2' - 1)' following the order of operations. Order of operations,\"],[1.1,\"25 - 31\",\"Tutor: Okay, I see that you've correctly identified the two key parts of the problem. We need to cal\"],[1.1,\"25 - 31\",\"Agora voc\\u00ea deve desenvolver um modelo de machine learning multi-vari\\u00e1ble para detec\\u00e7\\u00e3o de humor em p\"],[1.1,\"25 - 31\",\"Andy agreed to a lower interest rate from his bank because Andy wanted to keep his loan payments aff\"],[1.1,\"25 - 31\",\"Lila has finished reading and has two novels left. The first has 90 pages, and the second is 50 page\"],[1.1,\"25 - 31\",\"Agents are now equipped with a detailed guide to combat climate change by harnessing the potent and \"],[1.1,\"25 - 31\",\"It took David less time finishing his project than it took his brother because _ managed their time \"],[1.1,\"25 - 31\",\"As a seasoned developer familiar with C++, please optimize the following code to ensure its executio\"],[1.1,\"25 - 31\",\"Mustafa, Ibrahim and Halit are compared with each other and described by an analogy using 'like'. If\"],[1.1,\"25 - 31\",\"This is a funny twist on the common idiom \\\"break the ice,\\\" which originally means to overcome initia\"],[1.1,\"25 - 31\",\"She tried to read a book on the topic, but the text was too technical and confusing.\\n\"],[1.1,\"25 - 31\",\"When I have my coffee in French, I call it a \\\"caf\\u00e9\\\".\\n\\n- AI:When I have my coffee in French, I call i\"],[1.1,\"25 - 31\",\"**Scenario Creation for Law Firm Partnership Formation**\\n\\nBackground: An accomplished law firm named\"],[1.1,\"25 - 31\",\"As a senior financial advisor with extensive experience, draft a compelling memo of approximately 30\"]],\"hovertemplate\":\"Temperature: %{customdata[0]}\\u003cbr\\u003eTransplanted Layers: %{customdata[1]}\\u003cbr\\u003eOutput: %{customdata[2]}\",\"legendgroup\":\"25 - 31\",\"marker\":{\"color\":[0.2,0.2,0.2,0.2,0.2,0.2,0.2,0.2,0.2,0.2,0.2,0.2,0.2,0.2,0.2,0.2,0.2,0.2,0.2,0.2,0.5,0.5,0.5,0.5,0.5,0.5,0.5,0.5,0.5,0.5,0.5,0.5,0.5,0.5,0.5,0.5,0.5,0.5,0.5,0.5,0.8,0.8,0.8,0.8,0.8,0.8,0.8,0.8,0.8,0.8,0.8,0.8,0.8,0.8,0.8,0.8,0.8,0.8,0.8,0.8,1.1,1.1,1.1,1.1,1.1,1.1,1.1,1.1,1.1,1.1,1.1,1.1,1.1,1.1,1.1,1.1,1.1,1.1,1.1,1.1],\"coloraxis\":\"coloraxis\",\"symbol\":\"square-open\"},\"mode\":\"markers\",\"name\":\"25 - 31\",\"scene\":\"scene\",\"showlegend\":true,\"x\":[-0.16362568736076355,0.14592768251895905,-0.12937195599079132,-0.06603409349918365,-0.08817169815301895,0.008391099981963634,-0.07897762209177017,-0.15652509033679962,0.24781237542629242,0.10472877323627472,0.06437353789806366,0.11997728049755096,-0.27229318022727966,-0.2546561062335968,0.003436347236856818,0.015522944740951061,0.06252516061067581,0.24058568477630615,-0.13749657571315765,-0.03326728194952011,0.3176889419555664,-0.18592120707035065,0.0848301500082016,-0.254251629114151,-0.1350255310535431,0.052213821560144424,0.3130757510662079,0.21742120385169983,-0.0020404215902090073,-0.3179640471935272,-0.08335940539836884,-0.3361625373363495,-0.3946743309497833,-0.3588430881500244,-0.003964180126786232,0.1350094974040985,0.06434157490730286,-0.22022131085395813,-0.21814583241939545,0.15826977789402008,-0.2320076823234558,0.12909625470638275,-0.19960810244083405,-0.13766713440418243,-0.10994630306959152,0.12612682580947876,-0.22270914912223816,-0.16571266949176788,0.19345098733901978,0.1250634789466858,0.18212509155273438,-0.1010964959859848,-0.3533475399017334,-0.0824301615357399,-0.06272026151418686,-0.21233028173446655,-0.07988283783197403,-0.01704818196594715,0.10412467271089554,-0.26058778166770935,0.1288875937461853,-0.012881012633442879,-0.044375479221343994,-0.0733322948217392,-0.092420294880867,-0.1332119256258011,-0.30523237586021423,-0.17338956892490387,-0.01872905157506466,-0.08797156065702438,-0.06113963946700096,0.025623971596360207,-0.008767878636717796,-0.19159580767154694,-0.11567682027816772,0.06309868395328522,0.09748461842536926,0.001165547757409513,-0.04814182221889496,-0.13945302367210388],\"y\":[-0.1557411402463913,0.3545700013637543,0.04884409159421921,0.09715066105127335,0.2517412006855011,0.15299659967422485,0.05615029111504555,0.11934652924537659,-0.16081827878952026,0.0938524529337883,0.09668826311826706,0.02933276630938053,0.08351240307092667,0.10930544883012772,0.004290414974093437,0.03623400256037712,0.2636148929595947,-0.09627992659807205,0.0784088522195816,0.24592381715774536,-0.2873367369174957,0.0015986331272870302,0.05409742519259453,0.042132921516895294,0.17594560980796814,-0.02465420961380005,0.0057557388208806515,-0.053442392498254776,0.00041379223694093525,0.07018017023801804,0.1830831617116928,0.2157289683818817,-0.30750173330307007,0.07394401729106903,0.16964994370937347,-0.002293303143233061,-0.034278932958841324,0.034802086651325226,0.05962444096803665,-0.07707692682743073,-0.01520495768636465,-0.2383931428194046,0.13108137249946594,0.12676160037517548,0.15365254878997803,0.02131844125688076,-0.08487484604120255,-0.16156508028507233,-0.20789118111133575,0.1894097924232483,0.008801110088825226,0.04826734960079193,0.12348747998476028,0.1246887668967247,0.17876307666301727,0.008989682421088219,0.13113859295845032,0.015213281847536564,-0.013828950934112072,-0.0025452347472310066,0.08824274688959122,0.10783259570598602,-0.12684990465641022,0.12321795523166656,-0.18724708259105682,0.1421058475971222,0.17076687514781952,0.15694032609462738,0.013746481388807297,0.13068294525146484,-0.08481060713529587,0.10112175345420837,0.14152057468891144,0.15634644031524658,0.027908192947506905,0.09866094589233398,0.05982261896133423,0.16411437094211578,0.13951599597930908,0.21301423013210297],\"z\":[0.1626165509223938,0.4712543189525604,-0.12851673364639282,-0.19383452832698822,-0.24148312211036682,0.027390865609049797,-0.11950525641441345,-0.05590835586190224,0.061157237738370895,0.034605152904987335,-0.14714983105659485,0.23587150871753693,-0.06740713119506836,-0.07402988523244858,0.05129307508468628,-0.03558368235826492,-0.2163681983947754,0.09978743642568588,-0.017539530992507935,-0.27663981914520264,-0.10320888459682465,-0.028915196657180786,-0.1675882786512375,-0.11991669237613678,0.02838410995900631,-0.040785711258649826,0.25026994943618774,0.03243604674935341,0.16583305597305298,-0.061375461518764496,-0.09177019447088242,-0.07193667441606522,0.31068676710128784,-0.03737543523311615,0.008546577766537666,0.1373264491558075,-0.028524603694677353,-0.07057331502437592,-0.09188519418239594,-0.18536396324634552,0.006325028836727142,0.1522020697593689,-0.14833375811576843,0.03488006815314293,-0.20223450660705566,-0.047852516174316406,-0.045997120440006256,0.2959563732147217,-0.09461073577404022,0.30735987424850464,0.05147835612297058,-0.17600858211517334,-0.06786157190799713,0.011106858029961586,-0.18987701833248138,-0.03947506099939346,-0.22445683181285858,0.028506256639957428,0.14422525465488434,-0.07128743827342987,0.14939725399017334,0.007942773401737213,0.060720570385456085,0.09686388075351715,0.22271069884300232,-0.2619148790836334,-0.06844260543584824,-0.03005792200565338,0.08384733647108078,0.0996994748711586,0.0471830777823925,-0.24790756404399872,0.007892954163253307,-0.15392325818538666,0.1797557920217514,0.1420920044183731,0.04123477637767792,0.2052684873342514,-0.046237628906965256,-0.083628349006176],\"type\":\"scatter3d\"},{\"customdata\":[[0.2,\"0 - 5\",\"The first step in solving this problem is to understand the pattern of the sequence. The sequence st\"],[0.2,\"0 - 5\",\"The first step in solving this problem is to understand the pattern of the sequence. We can see that\"],[0.2,\"0 - 5\",\"The process of making a traditional Italian pasta dish involves several steps. First, the pasta is m\"],[0.2,\"0 - 5\",\"The term \\\"cultural lag\\\" was first introduced by sociologist William F. Ogburn in his work on social \"],[0.2,\"0 - 5\",\"Theory of Mind Exercises with Detailed Answers:\\n\\n1. Exercise: Imagine you are one of the characters \"],[0.2,\"0 - 5\",\"Theory of Mind Exercises with Detailed Answers:\\n\\n1. Exercise: What might be the reason behind Alex's\"],[0.2,\"0 - 5\",\"The first step in solving this problem is to understand the relationship between the number of chick\"],[0.2,\"0 - 5\",\"The first step in solving this puzzle is to identify the pattern. We can see that each term in the s\"],[0.2,\"0 - 5\",\"The first step in solving this problem is to understand the concept of combinations. Combinations ar\"],[0.2,\"0 - 5\",\"The first step in solving this problem is to understand the concept of a \\\"prime triplet.\\\" A prime tr\"],[0.2,\"0 - 5\",\"The first step in solving this problem is to understand the concept of a \\\"prime number.\\\" A prime num\"],[0.2,\"0 - 5\",\"The first step in solving this problem is to understand the relationship between the number of apple\"],[0.2,\"0 - 5\",\"Theory of Mind Exercises\\n\\n1. What if the protagonist did not have a strong sense of justice? How wou\"],[0.2,\"0 - 5\",\"The conversation between the two friends, Sarah and Emily, revolved around their shared interest in \"],[0.2,\"0 - 5\",\"The first step in solving this problem is to determine the total number of ways to distribute the ca\"],[0.2,\"0 - 5\",\"The first step in solving this puzzle is to understand the relationship between the words. Here, we \"],[0.2,\"0 - 5\",\"The first step in solving this problem is to understand the concept of a \\\"perfect square.\\\" A perfect\"],[0.2,\"0 - 5\",\"The first step in solving this problem is to understand the relationship between the number of penci\"],[0.2,\"0 - 5\",\"The process of creating a new piece of artwork is a complex and multifaceted endeavor. It involves a\"],[0.2,\"0 - 5\",\"The process of creating a new piece of artwork begins with a blank canvas, much like a fresh page in\"],[0.5,\"0 - 5\",\"Theory of Mind Exercises with Detailed Answers:\\n\\nExercise 1:\\nIf Person A reacted in the opposite way\"],[0.5,\"0 - 5\",\"For example, if we have the following data:\\n\\n| Year | Temperature (\\u00b0C) |\\n|------|------------------|\"],[0.5,\"0 - 5\",\"As the sun began to set, casting a warm golden glow over the tranquil lake, Lily and Emily sat by th\"],[0.5,\"0 - 5\",\"The company had a policy of paying employees a bonus for every hour of overtime they worked. The bon\"],[0.5,\"0 - 5\",\"The process of creating a new album involves several key steps:\\n\\n\\n1. **Conceptualization**: The arti\"],[0.5,\"0 - 5\",\"The first thing you need to do is to create a new class for your custom view. This class will extend\"],[0.5,\"0 - 5\",\"Sophia: I'm glad I could help. Remember, I'm here whenever you need assistance. Enjoy your reading, \"],[0.5,\"0 - 5\",\"The story of the three friends, Alice, Bob, and Charlie, revolved around their shared passion for ma\"],[0.5,\"0 - 5\",\"The concept of 'economic value creation' is central to the field of economics. It refers to the proc\"],[0.5,\"0 - 5\",\"In the context of this document, the term \\\"Leadership\\\" is not referring to a position of authority o\"],[0.5,\"0 - 5\",\"The scientist'\\u0080\\u0099s work has implications for understanding memory and cognition.\\n\\n\\n## Solution \\n\\nDr. \"],[0.5,\"0 - 5\",\"As they sat in their favorite coffee shop, sipping on their hot beverquant, they discussed their lat\"],[0.5,\"0 - 5\",\"For instance, consider the following code snippet:\\n\\n```python\\nclass Person:\\n    def __init__(self, n\"],[0.5,\"0 - 5\",\"The first step in solving this puzzle is to create a grid with 5 rows and 5 columns. We can represen\"],[0.5,\"0 - 5\",\"The debate began when a renowned philosopher proposed a theory that argued for a universal moral sta\"],[0.5,\"0 - 5\",\"The first part of this analysis looked at the effect of temperature on the activity of the enzyme. T\"],[0.5,\"0 - 5\",\"The study, published in the prestigious Journal of Virology, sheds light on the complex interactions\"],[0.5,\"0 - 5\",\"Their journey was not without challenges. The town' electrons were not receptive to change, and the \"],[0.5,\"0 - 5\",\"Theory of Mind Exercises\\n\\n1. How did the students feel when the teacher asked them to create a proje\"],[0.5,\"0 - 5\",\"The first step in solving this puzzle is to identify the unique attributes of each element. Let's go\"],[0.8,\"0 - 5\",\"Just like how a skilled conductor brings together various musicians to create a beautiful symphony, \"],[0.8,\"0 - 5\",\"In the midst of this intellectual battle, I couldn't help but notice the parallel between our discus\"],[0.8,\"0 - 5\",\"As the day wore on, Amara' kaempfer\\u2019s gaze lingered on the horizon, where the sea kissed the sky. Sh\"],[0.8,\"0 - 5\",\"The government collects revenue through taxes, which are then allocated to various public services a\"],[0.8,\"0 - 5\",\"When I look at this topic of Physics and its relationship with everyday life, I am reminded of somet\"],[0.8,\"0 - 5\",\"The story of Bella and Max begins on a sunny Saturday afternoon. Bella had a plan to rearrange her p\"],[0.8,\"0 - 5\",\"Firstly, we examine the role of technology in revolutionizing the production process of traditional \"],[0.8,\"0 - 5\",\"One day, Sarah decided to bring her pet hermit crab to work with her. She carefully placed her crab \"],[0.8,\"0 - 5\",\"As she made her way down the hallway to speak with the teacher, her thoughts were consumed with worr\"],[0.8,\"0 - 5\",\"The story will be set in a bustling culinary school kitchen in Italy, known for its rich tradition o\"],[0.8,\"0 - 5\",\"The process of recycling aluminum cans involves collecting used cans and transporting them to a sort\"],[0.8,\"0 - 5\",\"\\\"But how did this event come to pass, and what might it mean for the future of our city?\\\" one reside\"],[0.8,\"0 - 5\",\"As Alice'\\u043a\\u043b\\u0430\\u0437\\u043e\\u043d\\u0434\\u044b \\u0432 \\u0437\\u0430\\u0432\\u0438\\u0441\\u0438\\u043c\\u043e\\u0441\\u0442\\u0438 \\u043e\\u0442 \\u0438\\u0445 \\u0440\\u043e\\u043b\\u0435\\u0439. \\u0415\\u0441\\u043b\\u0438 \\u043e\\u0434\\u043e\\u0431\\u0440\\u0435\\u0442\\u044c \\u043f\\u043e\\u0434\\u0447\\u0438\\u043d\\u0435\\u043d\\u043d\\u044b\\u0435 \\u0434\\u0435\\u0439\\u0441\\u0442\\u0432\\u0438\\u044f, \\u0442\\u043e \\u0441\\u043f\\u0440\\u0430\\u0432\\u0435\\u0434\\u043b\\u0438\\u0432\\u043e \\u0441\\u043a\\u0430\\u0437\"],[0.8,\"0 - 5\",\"\\\"As an aspiring ecologist and a lover of music, I've been thinking about how I can draw connections \"],[0.8,\"0 - 5\",\"Desperne\\n\\n\\nDesperate\\n\\n\\nIn the depths of the suffocating jungle, the protagonist found himself entrap\"],[0.8,\"0 - 5\",\"The study involved participants who were divided into two groups. One group was exposed to a neutral\"],[0.8,\"0 - 5\",\"As they strolled through the town, Alex and Lily noticed a vibrant flower garden in the distance. Th\"],[0.8,\"0 - 5\",\"The impact of such a significant change in social policy has been profound. By removing the legal ba\"],[0.8,\"0 - 5\",\"The term \\\"junk\\\" can have different meanings based on the context. In this case, the passage suggests\"],[0.8,\"0 - 5\",\"As she reached for a piece of fruit, her phone rang. It was her friend Maria, asking how she was doi\"],[1.1,\"0 - 5\",\"Chapter 1: Introduction to Rounding Mixed Numbers\\n\\nRounding mixed numbers is essentially the process\"],[1.1,\"0 - 5\",\"Maria was taken aback by his response. She felt tears welling up in her eyes as she struggled to kee\"],[1.1,\"0 - 5\",\"In conclusion, the study of virology infection mechanisms provides crucial insights into viral trans\"],[1.1,\"0 - 5\",\"Sam's mom decided to make a batch of sandwiches for a school event. She needs to prepare a certain n\"],[1.1,\"0 - 5\",\"Scientist 1: We could use animal models for the initial experiments. We could manipulate the gut mic\"],[1.1,\"0 - 5\",\"For a single nucleotide, since we have equal probabilities for choosing amongst the four options (A,\"],[1.1,\"0 - 5\",\"The debate on ATVS pivots on their dual roles: enabler of essential services for the public and a so\"],[1.1,\"0 - 5\",\"The concept behind a dipole involves two equal and opposite charges (positive and negative) located \"],[1.1,\"0 - 5\",\"Firstly, you extract minerals by drilling into the ground and mining them. This can be a tiresome jo\"],[1.1,\"0 - 5\",\"In an environment of low inflation, the actual inflation rate and the expected inflation rate conver\"],[1.1,\"0 - 5\",\"After weeks of brainstorming and analyzing user needs, Sarah and her team unveiled a revolutionary a\"],[1.1,\"0 - 5\",\"Todbeginning her task as head librarian at the Grand Archives Library, Arabella was acutely aware of\"],[1.1,\"0 - 5\",\"The term \\\"revenue\\\" refers to the income generated from business activities, such as the sale of good\"],[1.1,\"0 - 5\",\"Before delving into the impact of these policies on agricultural productivity, it is essential first\"],[1.1,\"0 - 5\",\"Their stories might differ vastly in both content and style, from the giddy, exhilarated thrill of e\"],[1.1,\"0 - 5\",\"At the start, Alex' nailed it. His idea, a digital platform that connects users to the entire intern\"],[1.1,\"0 - 5\",\"\\n**Exercuits Phi (3):** The next puzzle requires identifying the correct operation symbol (+\\u002f\\u00d7\\u002f\\u2260\\u002f\\u2264\\u002f\\u2260\"],[1.1,\"0 - 5\",\"For those struggling with addiction, it can be incredibly difficult to recognize the impact of their\"],[1.1,\"0 - 5\",\"In the grand assembly of the periodic table, we stand amidst the noble gases, known not by names but\"],[1.1,\"0 - 5\",\"\\\"Our goal is not to demonize parents, nor do we want to label them as criminals or uncaring,\\\" wrote \"]],\"hovertemplate\":\"Temperature: %{customdata[0]}\\u003cbr\\u003eTransplanted Layers: %{customdata[1]}\\u003cbr\\u003eOutput: %{customdata[2]}\",\"legendgroup\":\"0 - 5\",\"marker\":{\"color\":[0.2,0.2,0.2,0.2,0.2,0.2,0.2,0.2,0.2,0.2,0.2,0.2,0.2,0.2,0.2,0.2,0.2,0.2,0.2,0.2,0.5,0.5,0.5,0.5,0.5,0.5,0.5,0.5,0.5,0.5,0.5,0.5,0.5,0.5,0.5,0.5,0.5,0.5,0.5,0.5,0.8,0.8,0.8,0.8,0.8,0.8,0.8,0.8,0.8,0.8,0.8,0.8,0.8,0.8,0.8,0.8,0.8,0.8,0.8,0.8,1.1,1.1,1.1,1.1,1.1,1.1,1.1,1.1,1.1,1.1,1.1,1.1,1.1,1.1,1.1,1.1,1.1,1.1,1.1,1.1],\"coloraxis\":\"coloraxis\",\"symbol\":\"x\"},\"mode\":\"markers\",\"name\":\"0 - 5\",\"scene\":\"scene\",\"showlegend\":true,\"x\":[-0.2660863697528839,-0.31861555576324463,-0.38489386439323425,-0.007578373420983553,0.24709607660770416,0.1933819055557251,-0.33607718348503113,-0.2616207003593445,-0.3976297676563263,-0.3712499141693115,-0.339327871799469,-0.3430310785770416,0.18825986981391907,0.22540244460105896,-0.3253456652164459,-0.03071955218911171,-0.26504477858543396,-0.30738407373428345,0.03408391401171684,0.09107866883277893,0.13467825949192047,-0.2572626769542694,0.3877601623535156,-0.22001712024211884,-0.14496944844722748,-0.18018625676631927,0.19077077507972717,0.10315247625112534,-0.2209186851978302,0.04603412374854088,0.20156806707382202,0.05552230030298233,-0.12431852519512177,-0.2323923259973526,0.05255963280797005,-0.316571980714798,0.042330384254455566,0.25991570949554443,0.1362607181072235,-0.14953158795833588,-0.044696979224681854,0.10767140239477158,0.2551819086074829,-0.2596282660961151,-0.004898648243397474,0.21455545723438263,-0.06770876049995422,0.11001400649547577,0.32757440209388733,0.0063956063240766525,-0.2709207534790039,0.34956371784210205,0.02235424891114235,0.1636112928390503,0.1493639349937439,0.10051428526639938,0.15364250540733337,-0.15436671674251556,-0.10513312369585037,0.1790706366300583,-0.3473981022834778,0.27290961146354675,-0.09785258769989014,-0.36037737131118774,-0.12264437973499298,-0.22082296013832092,-0.003980592824518681,-0.2755105793476105,-0.15471476316452026,-0.12834970653057098,0.022396298125386238,0.09746844321489334,-0.2137763798236847,-0.12798699736595154,0.44522154331207275,0.18741123378276825,-0.2310686558485031,-0.027608469128608704,-0.07478337734937668,0.08503473550081253],\"y\":[0.020735042169690132,0.0708405151963234,-0.15563608705997467,0.21333497762680054,0.01980724185705185,0.04241664707660675,-0.046929553151130676,-0.018054258078336716,-0.03809012845158577,0.016320019960403442,0.026059404015541077,-0.037917882204055786,0.0020088255405426025,-0.08512402325868607,-0.08400703966617584,0.06380542367696762,0.09385363012552261,-0.024606505408883095,-0.0861377865076065,-0.08030981570482254,0.23640020191669464,0.29235631227493286,-0.11790189146995544,0.1023760437965393,-0.033240385353565216,-0.006123154889792204,-0.05367279425263405,-0.025284044444561005,0.21369028091430664,0.12035304307937622,0.045903392136096954,-0.17552919685840607,0.20088684558868408,-0.039993464946746826,0.16874994337558746,0.023278018459677696,0.11131793260574341,-0.03716862201690674,0.11997181922197342,-0.06437196582555771,0.07763192057609558,0.025819949805736542,-0.19291813671588898,0.17650431394577026,0.05876807123422623,-0.10231272876262665,-0.06793101131916046,-0.03561920300126076,-0.18219517171382904,-0.23260533809661865,0.07073928415775299,-0.10386822372674942,-0.016837844625115395,-0.0660473108291626,-0.17226076126098633,0.10218323022127151,-0.1338832974433899,0.1944710612297058,-0.026035381481051445,0.05953208729624748,-0.010414372198283672,-0.17545029520988464,0.19244609773159027,-0.09779274463653564,0.08801965415477753,0.08244597166776657,0.19244050979614258,0.09996364265680313,0.18292492628097534,0.12549634277820587,-0.0737672746181488,-0.12870949506759644,0.192280113697052,0.16603805124759674,-0.2085842788219452,0.027209213003516197,-0.011818277649581432,0.11446109414100647,0.04717445373535156,0.0898112878203392],\"z\":[-0.1609857678413391,-0.1410563737154007,0.19701798260211945,-0.1635139137506485,0.038113705813884735,-0.005515458527952433,0.025772137567400932,-0.09017261862754822,0.016398979350924492,-0.06868994235992432,-0.12465998530387878,0.006270639132708311,-0.10075458884239197,0.06849028170108795,0.08624865114688873,-0.06266263127326965,-0.024383295327425003,-0.037651143968105316,-0.16486190259456635,-0.088681660592556,-0.0573941133916378,-0.1926785409450531,-0.17348293960094452,0.014191792346537113,-0.11660673469305038,-0.08373752981424332,0.09667566418647766,0.12250292301177979,-0.14643417298793793,-0.2163422852754593,0.031220030039548874,0.007206846494227648,0.03157893568277359,-0.11400442570447922,-0.07074891775846481,-0.157400980591774,-0.09535638242959976,-0.20210333168506622,-0.10419148206710815,-0.17134758830070496,-0.13967958092689514,-0.04769503325223923,-0.08631233870983124,-0.1556757539510727,-0.08954180777072906,0.014961854554712772,-0.0979953184723854,0.09618477523326874,0.018030008301138878,0.08818063139915466,-0.12309861928224564,-0.11330758035182953,0.04022500291466713,-0.1497543454170227,-0.19397057592868805,-0.12275036424398422,-0.11431222409009933,-0.15873661637306213,-0.11843197047710419,0.2830398976802826,0.005811797454953194,0.11327569931745529,-0.17080247402191162,0.18796002864837646,-0.03436548635363579,0.004512443672865629,-0.2163323312997818,-0.0909864604473114,-0.12675701081752777,-0.11610805243253708,0.056586749851703644,-0.15028665959835052,-0.09283104538917542,-0.16370336711406708,-0.043729934841394424,-0.05238252505660057,-0.04004259780049324,-0.0655144527554512,-0.10672549158334732,-0.07507970929145813],\"type\":\"scatter3d\"}],                        {\"template\":{\"data\":{\"histogram2dcontour\":[{\"type\":\"histogram2dcontour\",\"colorbar\":{\"outlinewidth\":0,\"ticks\":\"\"},\"colorscale\":[[0.0,\"#0d0887\"],[0.1111111111111111,\"#46039f\"],[0.2222222222222222,\"#7201a8\"],[0.3333333333333333,\"#9c179e\"],[0.4444444444444444,\"#bd3786\"],[0.5555555555555556,\"#d8576b\"],[0.6666666666666666,\"#ed7953\"],[0.7777777777777778,\"#fb9f3a\"],[0.8888888888888888,\"#fdca26\"],[1.0,\"#f0f921\"]]}],\"choropleth\":[{\"type\":\"choropleth\",\"colorbar\":{\"outlinewidth\":0,\"ticks\":\"\"}}],\"histogram2d\":[{\"type\":\"histogram2d\",\"colorbar\":{\"outlinewidth\":0,\"ticks\":\"\"},\"colorscale\":[[0.0,\"#0d0887\"],[0.1111111111111111,\"#46039f\"],[0.2222222222222222,\"#7201a8\"],[0.3333333333333333,\"#9c179e\"],[0.4444444444444444,\"#bd3786\"],[0.5555555555555556,\"#d8576b\"],[0.6666666666666666,\"#ed7953\"],[0.7777777777777778,\"#fb9f3a\"],[0.8888888888888888,\"#fdca26\"],[1.0,\"#f0f921\"]]}],\"heatmap\":[{\"type\":\"heatmap\",\"colorbar\":{\"outlinewidth\":0,\"ticks\":\"\"},\"colorscale\":[[0.0,\"#0d0887\"],[0.1111111111111111,\"#46039f\"],[0.2222222222222222,\"#7201a8\"],[0.3333333333333333,\"#9c179e\"],[0.4444444444444444,\"#bd3786\"],[0.5555555555555556,\"#d8576b\"],[0.6666666666666666,\"#ed7953\"],[0.7777777777777778,\"#fb9f3a\"],[0.8888888888888888,\"#fdca26\"],[1.0,\"#f0f921\"]]}],\"heatmapgl\":[{\"type\":\"heatmapgl\",\"colorbar\":{\"outlinewidth\":0,\"ticks\":\"\"},\"colorscale\":[[0.0,\"#0d0887\"],[0.1111111111111111,\"#46039f\"],[0.2222222222222222,\"#7201a8\"],[0.3333333333333333,\"#9c179e\"],[0.4444444444444444,\"#bd3786\"],[0.5555555555555556,\"#d8576b\"],[0.6666666666666666,\"#ed7953\"],[0.7777777777777778,\"#fb9f3a\"],[0.8888888888888888,\"#fdca26\"],[1.0,\"#f0f921\"]]}],\"contourcarpet\":[{\"type\":\"contourcarpet\",\"colorbar\":{\"outlinewidth\":0,\"ticks\":\"\"}}],\"contour\":[{\"type\":\"contour\",\"colorbar\":{\"outlinewidth\":0,\"ticks\":\"\"},\"colorscale\":[[0.0,\"#0d0887\"],[0.1111111111111111,\"#46039f\"],[0.2222222222222222,\"#7201a8\"],[0.3333333333333333,\"#9c179e\"],[0.4444444444444444,\"#bd3786\"],[0.5555555555555556,\"#d8576b\"],[0.6666666666666666,\"#ed7953\"],[0.7777777777777778,\"#fb9f3a\"],[0.8888888888888888,\"#fdca26\"],[1.0,\"#f0f921\"]]}],\"surface\":[{\"type\":\"surface\",\"colorbar\":{\"outlinewidth\":0,\"ticks\":\"\"},\"colorscale\":[[0.0,\"#0d0887\"],[0.1111111111111111,\"#46039f\"],[0.2222222222222222,\"#7201a8\"],[0.3333333333333333,\"#9c179e\"],[0.4444444444444444,\"#bd3786\"],[0.5555555555555556,\"#d8576b\"],[0.6666666666666666,\"#ed7953\"],[0.7777777777777778,\"#fb9f3a\"],[0.8888888888888888,\"#fdca26\"],[1.0,\"#f0f921\"]]}],\"mesh3d\":[{\"type\":\"mesh3d\",\"colorbar\":{\"outlinewidth\":0,\"ticks\":\"\"}}],\"scatter\":[{\"fillpattern\":{\"fillmode\":\"overlay\",\"size\":10,\"solidity\":0.2},\"type\":\"scatter\"}],\"parcoords\":[{\"type\":\"parcoords\",\"line\":{\"colorbar\":{\"outlinewidth\":0,\"ticks\":\"\"}}}],\"scatterpolargl\":[{\"type\":\"scatterpolargl\",\"marker\":{\"colorbar\":{\"outlinewidth\":0,\"ticks\":\"\"}}}],\"bar\":[{\"error_x\":{\"color\":\"#2a3f5f\"},\"error_y\":{\"color\":\"#2a3f5f\"},\"marker\":{\"line\":{\"color\":\"#E5ECF6\",\"width\":0.5},\"pattern\":{\"fillmode\":\"overlay\",\"size\":10,\"solidity\":0.2}},\"type\":\"bar\"}],\"scattergeo\":[{\"type\":\"scattergeo\",\"marker\":{\"colorbar\":{\"outlinewidth\":0,\"ticks\":\"\"}}}],\"scatterpolar\":[{\"type\":\"scatterpolar\",\"marker\":{\"colorbar\":{\"outlinewidth\":0,\"ticks\":\"\"}}}],\"histogram\":[{\"marker\":{\"pattern\":{\"fillmode\":\"overlay\",\"size\":10,\"solidity\":0.2}},\"type\":\"histogram\"}],\"scattergl\":[{\"type\":\"scattergl\",\"marker\":{\"colorbar\":{\"outlinewidth\":0,\"ticks\":\"\"}}}],\"scatter3d\":[{\"type\":\"scatter3d\",\"line\":{\"colorbar\":{\"outlinewidth\":0,\"ticks\":\"\"}},\"marker\":{\"colorbar\":{\"outlinewidth\":0,\"ticks\":\"\"}}}],\"scattermapbox\":[{\"type\":\"scattermapbox\",\"marker\":{\"colorbar\":{\"outlinewidth\":0,\"ticks\":\"\"}}}],\"scatterternary\":[{\"type\":\"scatterternary\",\"marker\":{\"colorbar\":{\"outlinewidth\":0,\"ticks\":\"\"}}}],\"scattercarpet\":[{\"type\":\"scattercarpet\",\"marker\":{\"colorbar\":{\"outlinewidth\":0,\"ticks\":\"\"}}}],\"carpet\":[{\"aaxis\":{\"endlinecolor\":\"#2a3f5f\",\"gridcolor\":\"white\",\"linecolor\":\"white\",\"minorgridcolor\":\"white\",\"startlinecolor\":\"#2a3f5f\"},\"baxis\":{\"endlinecolor\":\"#2a3f5f\",\"gridcolor\":\"white\",\"linecolor\":\"white\",\"minorgridcolor\":\"white\",\"startlinecolor\":\"#2a3f5f\"},\"type\":\"carpet\"}],\"table\":[{\"cells\":{\"fill\":{\"color\":\"#EBF0F8\"},\"line\":{\"color\":\"white\"}},\"header\":{\"fill\":{\"color\":\"#C8D4E3\"},\"line\":{\"color\":\"white\"}},\"type\":\"table\"}],\"barpolar\":[{\"marker\":{\"line\":{\"color\":\"#E5ECF6\",\"width\":0.5},\"pattern\":{\"fillmode\":\"overlay\",\"size\":10,\"solidity\":0.2}},\"type\":\"barpolar\"}],\"pie\":[{\"automargin\":true,\"type\":\"pie\"}]},\"layout\":{\"autotypenumbers\":\"strict\",\"colorway\":[\"#636efa\",\"#EF553B\",\"#00cc96\",\"#ab63fa\",\"#FFA15A\",\"#19d3f3\",\"#FF6692\",\"#B6E880\",\"#FF97FF\",\"#FECB52\"],\"font\":{\"color\":\"#2a3f5f\"},\"hovermode\":\"closest\",\"hoverlabel\":{\"align\":\"left\"},\"paper_bgcolor\":\"white\",\"plot_bgcolor\":\"#E5ECF6\",\"polar\":{\"bgcolor\":\"#E5ECF6\",\"angularaxis\":{\"gridcolor\":\"white\",\"linecolor\":\"white\",\"ticks\":\"\"},\"radialaxis\":{\"gridcolor\":\"white\",\"linecolor\":\"white\",\"ticks\":\"\"}},\"ternary\":{\"bgcolor\":\"#E5ECF6\",\"aaxis\":{\"gridcolor\":\"white\",\"linecolor\":\"white\",\"ticks\":\"\"},\"baxis\":{\"gridcolor\":\"white\",\"linecolor\":\"white\",\"ticks\":\"\"},\"caxis\":{\"gridcolor\":\"white\",\"linecolor\":\"white\",\"ticks\":\"\"}},\"coloraxis\":{\"colorbar\":{\"outlinewidth\":0,\"ticks\":\"\"}},\"colorscale\":{\"sequential\":[[0.0,\"#0d0887\"],[0.1111111111111111,\"#46039f\"],[0.2222222222222222,\"#7201a8\"],[0.3333333333333333,\"#9c179e\"],[0.4444444444444444,\"#bd3786\"],[0.5555555555555556,\"#d8576b\"],[0.6666666666666666,\"#ed7953\"],[0.7777777777777778,\"#fb9f3a\"],[0.8888888888888888,\"#fdca26\"],[1.0,\"#f0f921\"]],\"sequentialminus\":[[0.0,\"#0d0887\"],[0.1111111111111111,\"#46039f\"],[0.2222222222222222,\"#7201a8\"],[0.3333333333333333,\"#9c179e\"],[0.4444444444444444,\"#bd3786\"],[0.5555555555555556,\"#d8576b\"],[0.6666666666666666,\"#ed7953\"],[0.7777777777777778,\"#fb9f3a\"],[0.8888888888888888,\"#fdca26\"],[1.0,\"#f0f921\"]],\"diverging\":[[0,\"#8e0152\"],[0.1,\"#c51b7d\"],[0.2,\"#de77ae\"],[0.3,\"#f1b6da\"],[0.4,\"#fde0ef\"],[0.5,\"#f7f7f7\"],[0.6,\"#e6f5d0\"],[0.7,\"#b8e186\"],[0.8,\"#7fbc41\"],[0.9,\"#4d9221\"],[1,\"#276419\"]]},\"xaxis\":{\"gridcolor\":\"white\",\"linecolor\":\"white\",\"ticks\":\"\",\"title\":{\"standoff\":15},\"zerolinecolor\":\"white\",\"automargin\":true,\"zerolinewidth\":2},\"yaxis\":{\"gridcolor\":\"white\",\"linecolor\":\"white\",\"ticks\":\"\",\"title\":{\"standoff\":15},\"zerolinecolor\":\"white\",\"automargin\":true,\"zerolinewidth\":2},\"scene\":{\"xaxis\":{\"backgroundcolor\":\"#E5ECF6\",\"gridcolor\":\"white\",\"linecolor\":\"white\",\"showbackground\":true,\"ticks\":\"\",\"zerolinecolor\":\"white\",\"gridwidth\":2},\"yaxis\":{\"backgroundcolor\":\"#E5ECF6\",\"gridcolor\":\"white\",\"linecolor\":\"white\",\"showbackground\":true,\"ticks\":\"\",\"zerolinecolor\":\"white\",\"gridwidth\":2},\"zaxis\":{\"backgroundcolor\":\"#E5ECF6\",\"gridcolor\":\"white\",\"linecolor\":\"white\",\"showbackground\":true,\"ticks\":\"\",\"zerolinecolor\":\"white\",\"gridwidth\":2}},\"shapedefaults\":{\"line\":{\"color\":\"#2a3f5f\"}},\"annotationdefaults\":{\"arrowcolor\":\"#2a3f5f\",\"arrowhead\":0,\"arrowwidth\":1},\"geo\":{\"bgcolor\":\"white\",\"landcolor\":\"#E5ECF6\",\"subunitcolor\":\"white\",\"showland\":true,\"showlakes\":true,\"lakecolor\":\"white\"},\"title\":{\"x\":0.05},\"mapbox\":{\"style\":\"light\"}}},\"scene\":{\"domain\":{\"x\":[0.0,1.0],\"y\":[0.0,1.0]},\"xaxis\":{\"title\":{\"text\":\"dim1\"}},\"yaxis\":{\"title\":{\"text\":\"dim2\"}},\"zaxis\":{\"title\":{\"text\":\"dim3\"}}},\"coloraxis\":{\"colorbar\":{\"title\":{\"text\":\"temperature\"},\"yanchor\":\"top\",\"y\":1,\"x\":100,\"xref\":\"container\"},\"colorscale\":[[0.0,\"#0d0887\"],[0.1111111111111111,\"#46039f\"],[0.2222222222222222,\"#7201a8\"],[0.3333333333333333,\"#9c179e\"],[0.4444444444444444,\"#bd3786\"],[0.5555555555555556,\"#d8576b\"],[0.6666666666666666,\"#ed7953\"],[0.7777777777777778,\"#fb9f3a\"],[0.8888888888888888,\"#fdca26\"],[1.0,\"#f0f921\"]]},\"legend\":{\"title\":{\"text\":\"layers_string\"},\"tracegroupgap\":0},\"title\":{\"text\":\"PCA of Agnes Story Embeddings\"}},                        {\"responsive\": true}                    ).then(function(){\n",
       "                            \n",
       "var gd = document.getElementById('e50e17aa-0575-4ea5-a10a-9253a2505085');\n",
       "var x = new MutationObserver(function (mutations, observer) {{\n",
       "        var display = window.getComputedStyle(gd).display;\n",
       "        if (!display || display === 'none') {{\n",
       "            console.log([gd, 'removed!']);\n",
       "            Plotly.purge(gd);\n",
       "            observer.disconnect();\n",
       "        }}\n",
       "}});\n",
       "\n",
       "// Listen for the removal of the full notebook cells\n",
       "var notebookContainer = gd.closest('#notebook-container');\n",
       "if (notebookContainer) {{\n",
       "    x.observe(notebookContainer, {childList: true});\n",
       "}}\n",
       "\n",
       "// Listen for the clearing of the current output cell\n",
       "var outputEl = gd.closest('.output');\n",
       "if (outputEl) {{\n",
       "    x.observe(outputEl, {childList: true});\n",
       "}}\n",
       "\n",
       "                        })                };                });            </script>        </div>"
      ]
     },
     "metadata": {},
     "output_type": "display_data"
    }
   ],
   "source": [
    "# carry out pca on embeddings using sklearn\n",
    "reducer = PCA(n_components=3)\n",
    "embeddings_reduced = reducer.fit_transform(embeddings)\n",
    "print(embeddings_reduced.shape)\n",
    "\n",
    "results_df[\"dim1\"] = embeddings_reduced[:, 0]\n",
    "results_df[\"dim2\"] = embeddings_reduced[:, 1]\n",
    "results_df[\"dim3\"] = embeddings_reduced[:, 2]\n",
    "\n",
    "results_df[\"truncated_output\"] = results_df[\"output\"].str.slice(0,100)\n",
    "def convert_value(value):\n",
    "    if value is None:\n",
    "        return \"None\"\n",
    "    else:\n",
    "        return f\"{value[0]} - {value[1]-1}\"\n",
    "results_df['layers_string'] = results_df['transplant_layers'].apply(convert_value)\n",
    "\n",
    "fig = px.scatter_3d(\n",
    "    results_df,\n",
    "    x=\"dim1\",\n",
    "    y=\"dim2\",\n",
    "    z=\"dim3\",\n",
    "    hover_data=[\"temperature\", \"layers_string\", \"truncated_output\"],\n",
    "    title=\"PCA of Agnes Story Embeddings\",\n",
    "    color=\"temperature\",\n",
    "    symbol=\"layers_string\",\n",
    "    symbol_sequence = ['circle', 'circle-open', 'cross', 'diamond',\n",
    "            'diamond-open', 'square', 'square-open', 'x'],\n",
    "\n",
    ")\n",
    "fig.update_layout(coloraxis_colorbar=dict(yanchor=\"top\", y=1, x=100, xref=\"container\"))\n",
    "\n",
    "fig.update_traces(\n",
    "    hovertemplate=\"<br>\".join(\n",
    "        [\"Temperature: %{customdata[0]}\", \"Transplanted Layers: %{customdata[1]}\", \"Output: %{customdata[2]}\"]\n",
    "    )\n",
    ")\n",
    "\n",
    "\n",
    "\n",
    "fig.show()"
   ]
  },
  {
   "cell_type": "code",
   "execution_count": 20,
   "metadata": {},
   "outputs": [
    {
     "name": "stdout",
     "output_type": "stream",
     "text": [
      "   temperature layers_string       PC1       PC2       PC3\n",
      "0          0.2        0 - 10  0.246505 -0.096233 -0.059515\n",
      "1          0.2        0 - 15  0.269950 -0.213564 -0.052817\n",
      "2          0.2        0 - 31 -0.388800 -0.325690  0.267034\n",
      "3          0.2         0 - 5 -0.148765 -0.004382 -0.039764\n",
      "4          0.2       15 - 31  0.214204  0.371588  0.421958\n"
     ]
    },
    {
     "data": {
      "application/vnd.plotly.v1+json": {
       "config": {
        "plotlyServerURL": "https://plot.ly"
       },
       "data": [
        {
         "hovertemplate": "layers_string=None<br>PC1=%{x}<br>PC2=%{y}<br>PC3=%{z}<br>temperature=%{marker.color}<extra></extra>",
         "legendgroup": "None",
         "marker": {
          "color": [
           0.2,
           0.5,
           0.8,
           1.1
          ],
          "coloraxis": "coloraxis",
          "symbol": "circle"
         },
         "mode": "markers",
         "name": "None",
         "scene": "scene",
         "showlegend": true,
         "type": "scatter3d",
         "x": [
          -0.15128561854362488,
          -0.000032107531296787784,
          0.03949332982301712,
          -0.0460977628827095
         ],
         "y": [
          0.0459834448993206,
          0.06940704584121704,
          0.00910282600671053,
          0.02126760222017765
         ],
         "z": [
          -0.059641532599925995,
          -0.03890054672956467,
          -0.0666610598564148,
          -0.03540949523448944
         ]
        },
        {
         "hovertemplate": "layers_string=0 - 31<br>PC1=%{x}<br>PC2=%{y}<br>PC3=%{z}<br>temperature=%{marker.color}<extra></extra>",
         "legendgroup": "0 - 31",
         "marker": {
          "color": [
           0.2,
           0.5,
           0.8,
           1.1
          ],
          "coloraxis": "coloraxis",
          "symbol": "circle-open"
         },
         "mode": "markers",
         "name": "0 - 31",
         "scene": "scene",
         "showlegend": true,
         "type": "scatter3d",
         "x": [
          -0.38879963755607605,
          -0.2422788441181183,
          -0.08536301553249359,
          -0.06797132641077042
         ],
         "y": [
          -0.3256896436214447,
          -0.07741041481494904,
          -0.11318336427211761,
          -0.13331346213817596
         ],
         "z": [
          0.2670336961746216,
          0.038768671452999115,
          0.03417797014117241,
          -0.0018405147129669785
         ]
        },
        {
         "hovertemplate": "layers_string=0 - 10<br>PC1=%{x}<br>PC2=%{y}<br>PC3=%{z}<br>temperature=%{marker.color}<extra></extra>",
         "legendgroup": "0 - 10",
         "marker": {
          "color": [
           0.2,
           0.5,
           0.8,
           1.1
          ],
          "coloraxis": "coloraxis",
          "symbol": "cross"
         },
         "mode": "markers",
         "name": "0 - 10",
         "scene": "scene",
         "showlegend": true,
         "type": "scatter3d",
         "x": [
          0.24650530517101288,
          0.20610585808753967,
          0.05292706936597824,
          0.14601637423038483
         ],
         "y": [
          -0.09623317420482635,
          -0.11994822323322296,
          -0.014106100425124168,
          -0.06558423489332199
         ],
         "z": [
          -0.059514909982681274,
          -0.06079014390707016,
          -0.0759822279214859,
          -0.03559599071741104
         ]
        },
        {
         "hovertemplate": "layers_string=0 - 15<br>PC1=%{x}<br>PC2=%{y}<br>PC3=%{z}<br>temperature=%{marker.color}<extra></extra>",
         "legendgroup": "0 - 15",
         "marker": {
          "color": [
           0.2,
           0.5,
           0.8,
           1.1
          ],
          "coloraxis": "coloraxis",
          "symbol": "diamond"
         },
         "mode": "markers",
         "name": "0 - 15",
         "scene": "scene",
         "showlegend": true,
         "type": "scatter3d",
         "x": [
          0.269950270652771,
          0.12069344520568848,
          0.05336924269795418,
          0.07691799849271774
         ],
         "y": [
          -0.21356411278247833,
          -0.11672548949718475,
          -0.009330864995718002,
          -0.030065495520830154
         ],
         "z": [
          -0.052817415446043015,
          -0.02759409323334694,
          -0.05499621480703354,
          -0.01682634837925434
         ]
        },
        {
         "hovertemplate": "layers_string=20 - 31<br>PC1=%{x}<br>PC2=%{y}<br>PC3=%{z}<br>temperature=%{marker.color}<extra></extra>",
         "legendgroup": "20 - 31",
         "marker": {
          "color": [
           0.2,
           0.5,
           0.8,
           1.1
          ],
          "coloraxis": "coloraxis",
          "symbol": "diamond-open"
         },
         "mode": "markers",
         "name": "20 - 31",
         "scene": "scene",
         "showlegend": true,
         "type": "scatter3d",
         "x": [
          0.11814527213573456,
          0.0058934506960213184,
          0.00012537538714241236,
          -0.0004897356266155839
         ],
         "y": [
          0.23963911831378937,
          0.026305004954338074,
          0.04635104164481163,
          0.026217782869935036
         ],
         "z": [
          0.21165533363819122,
          0.0573352687060833,
          -0.04209107905626297,
          -0.044225748628377914
         ]
        },
        {
         "hovertemplate": "layers_string=15 - 31<br>PC1=%{x}<br>PC2=%{y}<br>PC3=%{z}<br>temperature=%{marker.color}<extra></extra>",
         "legendgroup": "15 - 31",
         "marker": {
          "color": [
           0.2,
           0.5,
           0.8,
           1.1
          ],
          "coloraxis": "coloraxis",
          "symbol": "square"
         },
         "mode": "markers",
         "name": "15 - 31",
         "scene": "scene",
         "showlegend": true,
         "type": "scatter3d",
         "x": [
          0.2142038345336914,
          -0.029368901625275612,
          -0.08577375113964081,
          -0.08502492308616638
         ],
         "y": [
          0.37158799171447754,
          0.09864620864391327,
          0.04697024077177048,
          0.03842157870531082
         ],
         "z": [
          0.42195844650268555,
          0.04678953438997269,
          -0.037970028817653656,
          -0.10880862176418304
         ]
        },
        {
         "hovertemplate": "layers_string=25 - 31<br>PC1=%{x}<br>PC2=%{y}<br>PC3=%{z}<br>temperature=%{marker.color}<extra></extra>",
         "legendgroup": "25 - 31",
         "marker": {
          "color": [
           0.2,
           0.5,
           0.8,
           1.1
          ],
          "coloraxis": "coloraxis",
          "symbol": "square-open"
         },
         "mode": "markers",
         "name": "25 - 31",
         "scene": "scene",
         "showlegend": true,
         "type": "scatter3d",
         "x": [
          -0.018356921151280403,
          -0.05838613957166672,
          -0.06885536015033722,
          -0.05950291082262993
         ],
         "y": [
          0.08545617014169693,
          0.015018632635474205,
          0.02686348557472229,
          0.08183266222476959
         ],
         "z": [
          -0.021499495953321457,
          -0.008286832831799984,
          -0.013797750696539879,
          0.022624844685196877
         ]
        },
        {
         "hovertemplate": "layers_string=0 - 5<br>PC1=%{x}<br>PC2=%{y}<br>PC3=%{z}<br>temperature=%{marker.color}<extra></extra>",
         "legendgroup": "0 - 5",
         "marker": {
          "color": [
           0.2,
           0.5,
           0.8,
           1.1
          ],
          "coloraxis": "coloraxis",
          "symbol": "x"
         },
         "mode": "markers",
         "name": "0 - 5",
         "scene": "scene",
         "showlegend": true,
         "type": "scatter3d",
         "x": [
          -0.14876508712768555,
          -0.011780799366533756,
          0.061608005315065384,
          -0.06382165104150772
         ],
         "y": [
          -0.004381568171083927,
          0.0540999174118042,
          -0.02834322489798069,
          0.0447087287902832
         ],
         "z": [
          -0.03976384550333023,
          -0.07992266118526459,
          -0.058531999588012695,
          -0.05887504294514656
         ]
        }
       ],
       "layout": {
        "coloraxis": {
         "colorbar": {
          "title": {
           "text": "temperature"
          },
          "x": 100,
          "xref": "container",
          "y": 1,
          "yanchor": "top"
         },
         "colorscale": [
          [
           0,
           "#0d0887"
          ],
          [
           0.1111111111111111,
           "#46039f"
          ],
          [
           0.2222222222222222,
           "#7201a8"
          ],
          [
           0.3333333333333333,
           "#9c179e"
          ],
          [
           0.4444444444444444,
           "#bd3786"
          ],
          [
           0.5555555555555556,
           "#d8576b"
          ],
          [
           0.6666666666666666,
           "#ed7953"
          ],
          [
           0.7777777777777778,
           "#fb9f3a"
          ],
          [
           0.8888888888888888,
           "#fdca26"
          ],
          [
           1,
           "#f0f921"
          ]
         ]
        },
        "legend": {
         "title": {
          "text": "layers_string"
         },
         "tracegroupgap": 0
        },
        "scene": {
         "domain": {
          "x": [
           0,
           1
          ],
          "y": [
           0,
           1
          ]
         },
         "xaxis": {
          "title": {
           "text": "PC1"
          }
         },
         "yaxis": {
          "title": {
           "text": "PC2"
          }
         },
         "zaxis": {
          "title": {
           "text": "PC3"
          }
         }
        },
        "template": {
         "data": {
          "bar": [
           {
            "error_x": {
             "color": "#2a3f5f"
            },
            "error_y": {
             "color": "#2a3f5f"
            },
            "marker": {
             "line": {
              "color": "#E5ECF6",
              "width": 0.5
             },
             "pattern": {
              "fillmode": "overlay",
              "size": 10,
              "solidity": 0.2
             }
            },
            "type": "bar"
           }
          ],
          "barpolar": [
           {
            "marker": {
             "line": {
              "color": "#E5ECF6",
              "width": 0.5
             },
             "pattern": {
              "fillmode": "overlay",
              "size": 10,
              "solidity": 0.2
             }
            },
            "type": "barpolar"
           }
          ],
          "carpet": [
           {
            "aaxis": {
             "endlinecolor": "#2a3f5f",
             "gridcolor": "white",
             "linecolor": "white",
             "minorgridcolor": "white",
             "startlinecolor": "#2a3f5f"
            },
            "baxis": {
             "endlinecolor": "#2a3f5f",
             "gridcolor": "white",
             "linecolor": "white",
             "minorgridcolor": "white",
             "startlinecolor": "#2a3f5f"
            },
            "type": "carpet"
           }
          ],
          "choropleth": [
           {
            "colorbar": {
             "outlinewidth": 0,
             "ticks": ""
            },
            "type": "choropleth"
           }
          ],
          "contour": [
           {
            "colorbar": {
             "outlinewidth": 0,
             "ticks": ""
            },
            "colorscale": [
             [
              0,
              "#0d0887"
             ],
             [
              0.1111111111111111,
              "#46039f"
             ],
             [
              0.2222222222222222,
              "#7201a8"
             ],
             [
              0.3333333333333333,
              "#9c179e"
             ],
             [
              0.4444444444444444,
              "#bd3786"
             ],
             [
              0.5555555555555556,
              "#d8576b"
             ],
             [
              0.6666666666666666,
              "#ed7953"
             ],
             [
              0.7777777777777778,
              "#fb9f3a"
             ],
             [
              0.8888888888888888,
              "#fdca26"
             ],
             [
              1,
              "#f0f921"
             ]
            ],
            "type": "contour"
           }
          ],
          "contourcarpet": [
           {
            "colorbar": {
             "outlinewidth": 0,
             "ticks": ""
            },
            "type": "contourcarpet"
           }
          ],
          "heatmap": [
           {
            "colorbar": {
             "outlinewidth": 0,
             "ticks": ""
            },
            "colorscale": [
             [
              0,
              "#0d0887"
             ],
             [
              0.1111111111111111,
              "#46039f"
             ],
             [
              0.2222222222222222,
              "#7201a8"
             ],
             [
              0.3333333333333333,
              "#9c179e"
             ],
             [
              0.4444444444444444,
              "#bd3786"
             ],
             [
              0.5555555555555556,
              "#d8576b"
             ],
             [
              0.6666666666666666,
              "#ed7953"
             ],
             [
              0.7777777777777778,
              "#fb9f3a"
             ],
             [
              0.8888888888888888,
              "#fdca26"
             ],
             [
              1,
              "#f0f921"
             ]
            ],
            "type": "heatmap"
           }
          ],
          "heatmapgl": [
           {
            "colorbar": {
             "outlinewidth": 0,
             "ticks": ""
            },
            "colorscale": [
             [
              0,
              "#0d0887"
             ],
             [
              0.1111111111111111,
              "#46039f"
             ],
             [
              0.2222222222222222,
              "#7201a8"
             ],
             [
              0.3333333333333333,
              "#9c179e"
             ],
             [
              0.4444444444444444,
              "#bd3786"
             ],
             [
              0.5555555555555556,
              "#d8576b"
             ],
             [
              0.6666666666666666,
              "#ed7953"
             ],
             [
              0.7777777777777778,
              "#fb9f3a"
             ],
             [
              0.8888888888888888,
              "#fdca26"
             ],
             [
              1,
              "#f0f921"
             ]
            ],
            "type": "heatmapgl"
           }
          ],
          "histogram": [
           {
            "marker": {
             "pattern": {
              "fillmode": "overlay",
              "size": 10,
              "solidity": 0.2
             }
            },
            "type": "histogram"
           }
          ],
          "histogram2d": [
           {
            "colorbar": {
             "outlinewidth": 0,
             "ticks": ""
            },
            "colorscale": [
             [
              0,
              "#0d0887"
             ],
             [
              0.1111111111111111,
              "#46039f"
             ],
             [
              0.2222222222222222,
              "#7201a8"
             ],
             [
              0.3333333333333333,
              "#9c179e"
             ],
             [
              0.4444444444444444,
              "#bd3786"
             ],
             [
              0.5555555555555556,
              "#d8576b"
             ],
             [
              0.6666666666666666,
              "#ed7953"
             ],
             [
              0.7777777777777778,
              "#fb9f3a"
             ],
             [
              0.8888888888888888,
              "#fdca26"
             ],
             [
              1,
              "#f0f921"
             ]
            ],
            "type": "histogram2d"
           }
          ],
          "histogram2dcontour": [
           {
            "colorbar": {
             "outlinewidth": 0,
             "ticks": ""
            },
            "colorscale": [
             [
              0,
              "#0d0887"
             ],
             [
              0.1111111111111111,
              "#46039f"
             ],
             [
              0.2222222222222222,
              "#7201a8"
             ],
             [
              0.3333333333333333,
              "#9c179e"
             ],
             [
              0.4444444444444444,
              "#bd3786"
             ],
             [
              0.5555555555555556,
              "#d8576b"
             ],
             [
              0.6666666666666666,
              "#ed7953"
             ],
             [
              0.7777777777777778,
              "#fb9f3a"
             ],
             [
              0.8888888888888888,
              "#fdca26"
             ],
             [
              1,
              "#f0f921"
             ]
            ],
            "type": "histogram2dcontour"
           }
          ],
          "mesh3d": [
           {
            "colorbar": {
             "outlinewidth": 0,
             "ticks": ""
            },
            "type": "mesh3d"
           }
          ],
          "parcoords": [
           {
            "line": {
             "colorbar": {
              "outlinewidth": 0,
              "ticks": ""
             }
            },
            "type": "parcoords"
           }
          ],
          "pie": [
           {
            "automargin": true,
            "type": "pie"
           }
          ],
          "scatter": [
           {
            "fillpattern": {
             "fillmode": "overlay",
             "size": 10,
             "solidity": 0.2
            },
            "type": "scatter"
           }
          ],
          "scatter3d": [
           {
            "line": {
             "colorbar": {
              "outlinewidth": 0,
              "ticks": ""
             }
            },
            "marker": {
             "colorbar": {
              "outlinewidth": 0,
              "ticks": ""
             }
            },
            "type": "scatter3d"
           }
          ],
          "scattercarpet": [
           {
            "marker": {
             "colorbar": {
              "outlinewidth": 0,
              "ticks": ""
             }
            },
            "type": "scattercarpet"
           }
          ],
          "scattergeo": [
           {
            "marker": {
             "colorbar": {
              "outlinewidth": 0,
              "ticks": ""
             }
            },
            "type": "scattergeo"
           }
          ],
          "scattergl": [
           {
            "marker": {
             "colorbar": {
              "outlinewidth": 0,
              "ticks": ""
             }
            },
            "type": "scattergl"
           }
          ],
          "scattermapbox": [
           {
            "marker": {
             "colorbar": {
              "outlinewidth": 0,
              "ticks": ""
             }
            },
            "type": "scattermapbox"
           }
          ],
          "scatterpolar": [
           {
            "marker": {
             "colorbar": {
              "outlinewidth": 0,
              "ticks": ""
             }
            },
            "type": "scatterpolar"
           }
          ],
          "scatterpolargl": [
           {
            "marker": {
             "colorbar": {
              "outlinewidth": 0,
              "ticks": ""
             }
            },
            "type": "scatterpolargl"
           }
          ],
          "scatterternary": [
           {
            "marker": {
             "colorbar": {
              "outlinewidth": 0,
              "ticks": ""
             }
            },
            "type": "scatterternary"
           }
          ],
          "surface": [
           {
            "colorbar": {
             "outlinewidth": 0,
             "ticks": ""
            },
            "colorscale": [
             [
              0,
              "#0d0887"
             ],
             [
              0.1111111111111111,
              "#46039f"
             ],
             [
              0.2222222222222222,
              "#7201a8"
             ],
             [
              0.3333333333333333,
              "#9c179e"
             ],
             [
              0.4444444444444444,
              "#bd3786"
             ],
             [
              0.5555555555555556,
              "#d8576b"
             ],
             [
              0.6666666666666666,
              "#ed7953"
             ],
             [
              0.7777777777777778,
              "#fb9f3a"
             ],
             [
              0.8888888888888888,
              "#fdca26"
             ],
             [
              1,
              "#f0f921"
             ]
            ],
            "type": "surface"
           }
          ],
          "table": [
           {
            "cells": {
             "fill": {
              "color": "#EBF0F8"
             },
             "line": {
              "color": "white"
             }
            },
            "header": {
             "fill": {
              "color": "#C8D4E3"
             },
             "line": {
              "color": "white"
             }
            },
            "type": "table"
           }
          ]
         },
         "layout": {
          "annotationdefaults": {
           "arrowcolor": "#2a3f5f",
           "arrowhead": 0,
           "arrowwidth": 1
          },
          "autotypenumbers": "strict",
          "coloraxis": {
           "colorbar": {
            "outlinewidth": 0,
            "ticks": ""
           }
          },
          "colorscale": {
           "diverging": [
            [
             0,
             "#8e0152"
            ],
            [
             0.1,
             "#c51b7d"
            ],
            [
             0.2,
             "#de77ae"
            ],
            [
             0.3,
             "#f1b6da"
            ],
            [
             0.4,
             "#fde0ef"
            ],
            [
             0.5,
             "#f7f7f7"
            ],
            [
             0.6,
             "#e6f5d0"
            ],
            [
             0.7,
             "#b8e186"
            ],
            [
             0.8,
             "#7fbc41"
            ],
            [
             0.9,
             "#4d9221"
            ],
            [
             1,
             "#276419"
            ]
           ],
           "sequential": [
            [
             0,
             "#0d0887"
            ],
            [
             0.1111111111111111,
             "#46039f"
            ],
            [
             0.2222222222222222,
             "#7201a8"
            ],
            [
             0.3333333333333333,
             "#9c179e"
            ],
            [
             0.4444444444444444,
             "#bd3786"
            ],
            [
             0.5555555555555556,
             "#d8576b"
            ],
            [
             0.6666666666666666,
             "#ed7953"
            ],
            [
             0.7777777777777778,
             "#fb9f3a"
            ],
            [
             0.8888888888888888,
             "#fdca26"
            ],
            [
             1,
             "#f0f921"
            ]
           ],
           "sequentialminus": [
            [
             0,
             "#0d0887"
            ],
            [
             0.1111111111111111,
             "#46039f"
            ],
            [
             0.2222222222222222,
             "#7201a8"
            ],
            [
             0.3333333333333333,
             "#9c179e"
            ],
            [
             0.4444444444444444,
             "#bd3786"
            ],
            [
             0.5555555555555556,
             "#d8576b"
            ],
            [
             0.6666666666666666,
             "#ed7953"
            ],
            [
             0.7777777777777778,
             "#fb9f3a"
            ],
            [
             0.8888888888888888,
             "#fdca26"
            ],
            [
             1,
             "#f0f921"
            ]
           ]
          },
          "colorway": [
           "#636efa",
           "#EF553B",
           "#00cc96",
           "#ab63fa",
           "#FFA15A",
           "#19d3f3",
           "#FF6692",
           "#B6E880",
           "#FF97FF",
           "#FECB52"
          ],
          "font": {
           "color": "#2a3f5f"
          },
          "geo": {
           "bgcolor": "white",
           "lakecolor": "white",
           "landcolor": "#E5ECF6",
           "showlakes": true,
           "showland": true,
           "subunitcolor": "white"
          },
          "hoverlabel": {
           "align": "left"
          },
          "hovermode": "closest",
          "mapbox": {
           "style": "light"
          },
          "paper_bgcolor": "white",
          "plot_bgcolor": "#E5ECF6",
          "polar": {
           "angularaxis": {
            "gridcolor": "white",
            "linecolor": "white",
            "ticks": ""
           },
           "bgcolor": "#E5ECF6",
           "radialaxis": {
            "gridcolor": "white",
            "linecolor": "white",
            "ticks": ""
           }
          },
          "scene": {
           "xaxis": {
            "backgroundcolor": "#E5ECF6",
            "gridcolor": "white",
            "gridwidth": 2,
            "linecolor": "white",
            "showbackground": true,
            "ticks": "",
            "zerolinecolor": "white"
           },
           "yaxis": {
            "backgroundcolor": "#E5ECF6",
            "gridcolor": "white",
            "gridwidth": 2,
            "linecolor": "white",
            "showbackground": true,
            "ticks": "",
            "zerolinecolor": "white"
           },
           "zaxis": {
            "backgroundcolor": "#E5ECF6",
            "gridcolor": "white",
            "gridwidth": 2,
            "linecolor": "white",
            "showbackground": true,
            "ticks": "",
            "zerolinecolor": "white"
           }
          },
          "shapedefaults": {
           "line": {
            "color": "#2a3f5f"
           }
          },
          "ternary": {
           "aaxis": {
            "gridcolor": "white",
            "linecolor": "white",
            "ticks": ""
           },
           "baxis": {
            "gridcolor": "white",
            "linecolor": "white",
            "ticks": ""
           },
           "bgcolor": "#E5ECF6",
           "caxis": {
            "gridcolor": "white",
            "linecolor": "white",
            "ticks": ""
           }
          },
          "title": {
           "x": 0.05
          },
          "xaxis": {
           "automargin": true,
           "gridcolor": "white",
           "linecolor": "white",
           "ticks": "",
           "title": {
            "standoff": 15
           },
           "zerolinecolor": "white",
           "zerolinewidth": 2
          },
          "yaxis": {
           "automargin": true,
           "gridcolor": "white",
           "linecolor": "white",
           "ticks": "",
           "title": {
            "standoff": 15
           },
           "zerolinecolor": "white",
           "zerolinewidth": 2
          }
         }
        },
        "title": {
         "text": "Means of PCA Groups"
        }
       }
      },
      "text/html": [
       "<div>                            <div id=\"9a3f9167-49f5-45e1-a4c0-91543140f44c\" class=\"plotly-graph-div\" style=\"height:525px; width:100%;\"></div>            <script type=\"text/javascript\">                require([\"plotly\"], function(Plotly) {                    window.PLOTLYENV=window.PLOTLYENV || {};                                    if (document.getElementById(\"9a3f9167-49f5-45e1-a4c0-91543140f44c\")) {                    Plotly.newPlot(                        \"9a3f9167-49f5-45e1-a4c0-91543140f44c\",                        [{\"hovertemplate\":\"layers_string=None\\u003cbr\\u003ePC1=%{x}\\u003cbr\\u003ePC2=%{y}\\u003cbr\\u003ePC3=%{z}\\u003cbr\\u003etemperature=%{marker.color}\\u003cextra\\u003e\\u003c\\u002fextra\\u003e\",\"legendgroup\":\"None\",\"marker\":{\"color\":[0.2,0.5,0.8,1.1],\"coloraxis\":\"coloraxis\",\"symbol\":\"circle\"},\"mode\":\"markers\",\"name\":\"None\",\"scene\":\"scene\",\"showlegend\":true,\"x\":[-0.15128561854362488,-3.2107531296787784e-05,0.03949332982301712,-0.0460977628827095],\"y\":[0.0459834448993206,0.06940704584121704,0.00910282600671053,0.02126760222017765],\"z\":[-0.059641532599925995,-0.03890054672956467,-0.0666610598564148,-0.03540949523448944],\"type\":\"scatter3d\"},{\"hovertemplate\":\"layers_string=0 - 31\\u003cbr\\u003ePC1=%{x}\\u003cbr\\u003ePC2=%{y}\\u003cbr\\u003ePC3=%{z}\\u003cbr\\u003etemperature=%{marker.color}\\u003cextra\\u003e\\u003c\\u002fextra\\u003e\",\"legendgroup\":\"0 - 31\",\"marker\":{\"color\":[0.2,0.5,0.8,1.1],\"coloraxis\":\"coloraxis\",\"symbol\":\"circle-open\"},\"mode\":\"markers\",\"name\":\"0 - 31\",\"scene\":\"scene\",\"showlegend\":true,\"x\":[-0.38879963755607605,-0.2422788441181183,-0.08536301553249359,-0.06797132641077042],\"y\":[-0.3256896436214447,-0.07741041481494904,-0.11318336427211761,-0.13331346213817596],\"z\":[0.2670336961746216,0.038768671452999115,0.03417797014117241,-0.0018405147129669785],\"type\":\"scatter3d\"},{\"hovertemplate\":\"layers_string=0 - 10\\u003cbr\\u003ePC1=%{x}\\u003cbr\\u003ePC2=%{y}\\u003cbr\\u003ePC3=%{z}\\u003cbr\\u003etemperature=%{marker.color}\\u003cextra\\u003e\\u003c\\u002fextra\\u003e\",\"legendgroup\":\"0 - 10\",\"marker\":{\"color\":[0.2,0.5,0.8,1.1],\"coloraxis\":\"coloraxis\",\"symbol\":\"cross\"},\"mode\":\"markers\",\"name\":\"0 - 10\",\"scene\":\"scene\",\"showlegend\":true,\"x\":[0.24650530517101288,0.20610585808753967,0.05292706936597824,0.14601637423038483],\"y\":[-0.09623317420482635,-0.11994822323322296,-0.014106100425124168,-0.06558423489332199],\"z\":[-0.059514909982681274,-0.06079014390707016,-0.0759822279214859,-0.03559599071741104],\"type\":\"scatter3d\"},{\"hovertemplate\":\"layers_string=0 - 15\\u003cbr\\u003ePC1=%{x}\\u003cbr\\u003ePC2=%{y}\\u003cbr\\u003ePC3=%{z}\\u003cbr\\u003etemperature=%{marker.color}\\u003cextra\\u003e\\u003c\\u002fextra\\u003e\",\"legendgroup\":\"0 - 15\",\"marker\":{\"color\":[0.2,0.5,0.8,1.1],\"coloraxis\":\"coloraxis\",\"symbol\":\"diamond\"},\"mode\":\"markers\",\"name\":\"0 - 15\",\"scene\":\"scene\",\"showlegend\":true,\"x\":[0.269950270652771,0.12069344520568848,0.05336924269795418,0.07691799849271774],\"y\":[-0.21356411278247833,-0.11672548949718475,-0.009330864995718002,-0.030065495520830154],\"z\":[-0.052817415446043015,-0.02759409323334694,-0.05499621480703354,-0.01682634837925434],\"type\":\"scatter3d\"},{\"hovertemplate\":\"layers_string=20 - 31\\u003cbr\\u003ePC1=%{x}\\u003cbr\\u003ePC2=%{y}\\u003cbr\\u003ePC3=%{z}\\u003cbr\\u003etemperature=%{marker.color}\\u003cextra\\u003e\\u003c\\u002fextra\\u003e\",\"legendgroup\":\"20 - 31\",\"marker\":{\"color\":[0.2,0.5,0.8,1.1],\"coloraxis\":\"coloraxis\",\"symbol\":\"diamond-open\"},\"mode\":\"markers\",\"name\":\"20 - 31\",\"scene\":\"scene\",\"showlegend\":true,\"x\":[0.11814527213573456,0.0058934506960213184,0.00012537538714241236,-0.0004897356266155839],\"y\":[0.23963911831378937,0.026305004954338074,0.04635104164481163,0.026217782869935036],\"z\":[0.21165533363819122,0.0573352687060833,-0.04209107905626297,-0.044225748628377914],\"type\":\"scatter3d\"},{\"hovertemplate\":\"layers_string=15 - 31\\u003cbr\\u003ePC1=%{x}\\u003cbr\\u003ePC2=%{y}\\u003cbr\\u003ePC3=%{z}\\u003cbr\\u003etemperature=%{marker.color}\\u003cextra\\u003e\\u003c\\u002fextra\\u003e\",\"legendgroup\":\"15 - 31\",\"marker\":{\"color\":[0.2,0.5,0.8,1.1],\"coloraxis\":\"coloraxis\",\"symbol\":\"square\"},\"mode\":\"markers\",\"name\":\"15 - 31\",\"scene\":\"scene\",\"showlegend\":true,\"x\":[0.2142038345336914,-0.029368901625275612,-0.08577375113964081,-0.08502492308616638],\"y\":[0.37158799171447754,0.09864620864391327,0.04697024077177048,0.03842157870531082],\"z\":[0.42195844650268555,0.04678953438997269,-0.037970028817653656,-0.10880862176418304],\"type\":\"scatter3d\"},{\"hovertemplate\":\"layers_string=25 - 31\\u003cbr\\u003ePC1=%{x}\\u003cbr\\u003ePC2=%{y}\\u003cbr\\u003ePC3=%{z}\\u003cbr\\u003etemperature=%{marker.color}\\u003cextra\\u003e\\u003c\\u002fextra\\u003e\",\"legendgroup\":\"25 - 31\",\"marker\":{\"color\":[0.2,0.5,0.8,1.1],\"coloraxis\":\"coloraxis\",\"symbol\":\"square-open\"},\"mode\":\"markers\",\"name\":\"25 - 31\",\"scene\":\"scene\",\"showlegend\":true,\"x\":[-0.018356921151280403,-0.05838613957166672,-0.06885536015033722,-0.05950291082262993],\"y\":[0.08545617014169693,0.015018632635474205,0.02686348557472229,0.08183266222476959],\"z\":[-0.021499495953321457,-0.008286832831799984,-0.013797750696539879,0.022624844685196877],\"type\":\"scatter3d\"},{\"hovertemplate\":\"layers_string=0 - 5\\u003cbr\\u003ePC1=%{x}\\u003cbr\\u003ePC2=%{y}\\u003cbr\\u003ePC3=%{z}\\u003cbr\\u003etemperature=%{marker.color}\\u003cextra\\u003e\\u003c\\u002fextra\\u003e\",\"legendgroup\":\"0 - 5\",\"marker\":{\"color\":[0.2,0.5,0.8,1.1],\"coloraxis\":\"coloraxis\",\"symbol\":\"x\"},\"mode\":\"markers\",\"name\":\"0 - 5\",\"scene\":\"scene\",\"showlegend\":true,\"x\":[-0.14876508712768555,-0.011780799366533756,0.061608005315065384,-0.06382165104150772],\"y\":[-0.004381568171083927,0.0540999174118042,-0.02834322489798069,0.0447087287902832],\"z\":[-0.03976384550333023,-0.07992266118526459,-0.058531999588012695,-0.05887504294514656],\"type\":\"scatter3d\"}],                        {\"template\":{\"data\":{\"histogram2dcontour\":[{\"type\":\"histogram2dcontour\",\"colorbar\":{\"outlinewidth\":0,\"ticks\":\"\"},\"colorscale\":[[0.0,\"#0d0887\"],[0.1111111111111111,\"#46039f\"],[0.2222222222222222,\"#7201a8\"],[0.3333333333333333,\"#9c179e\"],[0.4444444444444444,\"#bd3786\"],[0.5555555555555556,\"#d8576b\"],[0.6666666666666666,\"#ed7953\"],[0.7777777777777778,\"#fb9f3a\"],[0.8888888888888888,\"#fdca26\"],[1.0,\"#f0f921\"]]}],\"choropleth\":[{\"type\":\"choropleth\",\"colorbar\":{\"outlinewidth\":0,\"ticks\":\"\"}}],\"histogram2d\":[{\"type\":\"histogram2d\",\"colorbar\":{\"outlinewidth\":0,\"ticks\":\"\"},\"colorscale\":[[0.0,\"#0d0887\"],[0.1111111111111111,\"#46039f\"],[0.2222222222222222,\"#7201a8\"],[0.3333333333333333,\"#9c179e\"],[0.4444444444444444,\"#bd3786\"],[0.5555555555555556,\"#d8576b\"],[0.6666666666666666,\"#ed7953\"],[0.7777777777777778,\"#fb9f3a\"],[0.8888888888888888,\"#fdca26\"],[1.0,\"#f0f921\"]]}],\"heatmap\":[{\"type\":\"heatmap\",\"colorbar\":{\"outlinewidth\":0,\"ticks\":\"\"},\"colorscale\":[[0.0,\"#0d0887\"],[0.1111111111111111,\"#46039f\"],[0.2222222222222222,\"#7201a8\"],[0.3333333333333333,\"#9c179e\"],[0.4444444444444444,\"#bd3786\"],[0.5555555555555556,\"#d8576b\"],[0.6666666666666666,\"#ed7953\"],[0.7777777777777778,\"#fb9f3a\"],[0.8888888888888888,\"#fdca26\"],[1.0,\"#f0f921\"]]}],\"heatmapgl\":[{\"type\":\"heatmapgl\",\"colorbar\":{\"outlinewidth\":0,\"ticks\":\"\"},\"colorscale\":[[0.0,\"#0d0887\"],[0.1111111111111111,\"#46039f\"],[0.2222222222222222,\"#7201a8\"],[0.3333333333333333,\"#9c179e\"],[0.4444444444444444,\"#bd3786\"],[0.5555555555555556,\"#d8576b\"],[0.6666666666666666,\"#ed7953\"],[0.7777777777777778,\"#fb9f3a\"],[0.8888888888888888,\"#fdca26\"],[1.0,\"#f0f921\"]]}],\"contourcarpet\":[{\"type\":\"contourcarpet\",\"colorbar\":{\"outlinewidth\":0,\"ticks\":\"\"}}],\"contour\":[{\"type\":\"contour\",\"colorbar\":{\"outlinewidth\":0,\"ticks\":\"\"},\"colorscale\":[[0.0,\"#0d0887\"],[0.1111111111111111,\"#46039f\"],[0.2222222222222222,\"#7201a8\"],[0.3333333333333333,\"#9c179e\"],[0.4444444444444444,\"#bd3786\"],[0.5555555555555556,\"#d8576b\"],[0.6666666666666666,\"#ed7953\"],[0.7777777777777778,\"#fb9f3a\"],[0.8888888888888888,\"#fdca26\"],[1.0,\"#f0f921\"]]}],\"surface\":[{\"type\":\"surface\",\"colorbar\":{\"outlinewidth\":0,\"ticks\":\"\"},\"colorscale\":[[0.0,\"#0d0887\"],[0.1111111111111111,\"#46039f\"],[0.2222222222222222,\"#7201a8\"],[0.3333333333333333,\"#9c179e\"],[0.4444444444444444,\"#bd3786\"],[0.5555555555555556,\"#d8576b\"],[0.6666666666666666,\"#ed7953\"],[0.7777777777777778,\"#fb9f3a\"],[0.8888888888888888,\"#fdca26\"],[1.0,\"#f0f921\"]]}],\"mesh3d\":[{\"type\":\"mesh3d\",\"colorbar\":{\"outlinewidth\":0,\"ticks\":\"\"}}],\"scatter\":[{\"fillpattern\":{\"fillmode\":\"overlay\",\"size\":10,\"solidity\":0.2},\"type\":\"scatter\"}],\"parcoords\":[{\"type\":\"parcoords\",\"line\":{\"colorbar\":{\"outlinewidth\":0,\"ticks\":\"\"}}}],\"scatterpolargl\":[{\"type\":\"scatterpolargl\",\"marker\":{\"colorbar\":{\"outlinewidth\":0,\"ticks\":\"\"}}}],\"bar\":[{\"error_x\":{\"color\":\"#2a3f5f\"},\"error_y\":{\"color\":\"#2a3f5f\"},\"marker\":{\"line\":{\"color\":\"#E5ECF6\",\"width\":0.5},\"pattern\":{\"fillmode\":\"overlay\",\"size\":10,\"solidity\":0.2}},\"type\":\"bar\"}],\"scattergeo\":[{\"type\":\"scattergeo\",\"marker\":{\"colorbar\":{\"outlinewidth\":0,\"ticks\":\"\"}}}],\"scatterpolar\":[{\"type\":\"scatterpolar\",\"marker\":{\"colorbar\":{\"outlinewidth\":0,\"ticks\":\"\"}}}],\"histogram\":[{\"marker\":{\"pattern\":{\"fillmode\":\"overlay\",\"size\":10,\"solidity\":0.2}},\"type\":\"histogram\"}],\"scattergl\":[{\"type\":\"scattergl\",\"marker\":{\"colorbar\":{\"outlinewidth\":0,\"ticks\":\"\"}}}],\"scatter3d\":[{\"type\":\"scatter3d\",\"line\":{\"colorbar\":{\"outlinewidth\":0,\"ticks\":\"\"}},\"marker\":{\"colorbar\":{\"outlinewidth\":0,\"ticks\":\"\"}}}],\"scattermapbox\":[{\"type\":\"scattermapbox\",\"marker\":{\"colorbar\":{\"outlinewidth\":0,\"ticks\":\"\"}}}],\"scatterternary\":[{\"type\":\"scatterternary\",\"marker\":{\"colorbar\":{\"outlinewidth\":0,\"ticks\":\"\"}}}],\"scattercarpet\":[{\"type\":\"scattercarpet\",\"marker\":{\"colorbar\":{\"outlinewidth\":0,\"ticks\":\"\"}}}],\"carpet\":[{\"aaxis\":{\"endlinecolor\":\"#2a3f5f\",\"gridcolor\":\"white\",\"linecolor\":\"white\",\"minorgridcolor\":\"white\",\"startlinecolor\":\"#2a3f5f\"},\"baxis\":{\"endlinecolor\":\"#2a3f5f\",\"gridcolor\":\"white\",\"linecolor\":\"white\",\"minorgridcolor\":\"white\",\"startlinecolor\":\"#2a3f5f\"},\"type\":\"carpet\"}],\"table\":[{\"cells\":{\"fill\":{\"color\":\"#EBF0F8\"},\"line\":{\"color\":\"white\"}},\"header\":{\"fill\":{\"color\":\"#C8D4E3\"},\"line\":{\"color\":\"white\"}},\"type\":\"table\"}],\"barpolar\":[{\"marker\":{\"line\":{\"color\":\"#E5ECF6\",\"width\":0.5},\"pattern\":{\"fillmode\":\"overlay\",\"size\":10,\"solidity\":0.2}},\"type\":\"barpolar\"}],\"pie\":[{\"automargin\":true,\"type\":\"pie\"}]},\"layout\":{\"autotypenumbers\":\"strict\",\"colorway\":[\"#636efa\",\"#EF553B\",\"#00cc96\",\"#ab63fa\",\"#FFA15A\",\"#19d3f3\",\"#FF6692\",\"#B6E880\",\"#FF97FF\",\"#FECB52\"],\"font\":{\"color\":\"#2a3f5f\"},\"hovermode\":\"closest\",\"hoverlabel\":{\"align\":\"left\"},\"paper_bgcolor\":\"white\",\"plot_bgcolor\":\"#E5ECF6\",\"polar\":{\"bgcolor\":\"#E5ECF6\",\"angularaxis\":{\"gridcolor\":\"white\",\"linecolor\":\"white\",\"ticks\":\"\"},\"radialaxis\":{\"gridcolor\":\"white\",\"linecolor\":\"white\",\"ticks\":\"\"}},\"ternary\":{\"bgcolor\":\"#E5ECF6\",\"aaxis\":{\"gridcolor\":\"white\",\"linecolor\":\"white\",\"ticks\":\"\"},\"baxis\":{\"gridcolor\":\"white\",\"linecolor\":\"white\",\"ticks\":\"\"},\"caxis\":{\"gridcolor\":\"white\",\"linecolor\":\"white\",\"ticks\":\"\"}},\"coloraxis\":{\"colorbar\":{\"outlinewidth\":0,\"ticks\":\"\"}},\"colorscale\":{\"sequential\":[[0.0,\"#0d0887\"],[0.1111111111111111,\"#46039f\"],[0.2222222222222222,\"#7201a8\"],[0.3333333333333333,\"#9c179e\"],[0.4444444444444444,\"#bd3786\"],[0.5555555555555556,\"#d8576b\"],[0.6666666666666666,\"#ed7953\"],[0.7777777777777778,\"#fb9f3a\"],[0.8888888888888888,\"#fdca26\"],[1.0,\"#f0f921\"]],\"sequentialminus\":[[0.0,\"#0d0887\"],[0.1111111111111111,\"#46039f\"],[0.2222222222222222,\"#7201a8\"],[0.3333333333333333,\"#9c179e\"],[0.4444444444444444,\"#bd3786\"],[0.5555555555555556,\"#d8576b\"],[0.6666666666666666,\"#ed7953\"],[0.7777777777777778,\"#fb9f3a\"],[0.8888888888888888,\"#fdca26\"],[1.0,\"#f0f921\"]],\"diverging\":[[0,\"#8e0152\"],[0.1,\"#c51b7d\"],[0.2,\"#de77ae\"],[0.3,\"#f1b6da\"],[0.4,\"#fde0ef\"],[0.5,\"#f7f7f7\"],[0.6,\"#e6f5d0\"],[0.7,\"#b8e186\"],[0.8,\"#7fbc41\"],[0.9,\"#4d9221\"],[1,\"#276419\"]]},\"xaxis\":{\"gridcolor\":\"white\",\"linecolor\":\"white\",\"ticks\":\"\",\"title\":{\"standoff\":15},\"zerolinecolor\":\"white\",\"automargin\":true,\"zerolinewidth\":2},\"yaxis\":{\"gridcolor\":\"white\",\"linecolor\":\"white\",\"ticks\":\"\",\"title\":{\"standoff\":15},\"zerolinecolor\":\"white\",\"automargin\":true,\"zerolinewidth\":2},\"scene\":{\"xaxis\":{\"backgroundcolor\":\"#E5ECF6\",\"gridcolor\":\"white\",\"linecolor\":\"white\",\"showbackground\":true,\"ticks\":\"\",\"zerolinecolor\":\"white\",\"gridwidth\":2},\"yaxis\":{\"backgroundcolor\":\"#E5ECF6\",\"gridcolor\":\"white\",\"linecolor\":\"white\",\"showbackground\":true,\"ticks\":\"\",\"zerolinecolor\":\"white\",\"gridwidth\":2},\"zaxis\":{\"backgroundcolor\":\"#E5ECF6\",\"gridcolor\":\"white\",\"linecolor\":\"white\",\"showbackground\":true,\"ticks\":\"\",\"zerolinecolor\":\"white\",\"gridwidth\":2}},\"shapedefaults\":{\"line\":{\"color\":\"#2a3f5f\"}},\"annotationdefaults\":{\"arrowcolor\":\"#2a3f5f\",\"arrowhead\":0,\"arrowwidth\":1},\"geo\":{\"bgcolor\":\"white\",\"landcolor\":\"#E5ECF6\",\"subunitcolor\":\"white\",\"showland\":true,\"showlakes\":true,\"lakecolor\":\"white\"},\"title\":{\"x\":0.05},\"mapbox\":{\"style\":\"light\"}}},\"scene\":{\"domain\":{\"x\":[0.0,1.0],\"y\":[0.0,1.0]},\"xaxis\":{\"title\":{\"text\":\"PC1\"}},\"yaxis\":{\"title\":{\"text\":\"PC2\"}},\"zaxis\":{\"title\":{\"text\":\"PC3\"}}},\"coloraxis\":{\"colorbar\":{\"title\":{\"text\":\"temperature\"},\"yanchor\":\"top\",\"y\":1,\"x\":100,\"xref\":\"container\"},\"colorscale\":[[0.0,\"#0d0887\"],[0.1111111111111111,\"#46039f\"],[0.2222222222222222,\"#7201a8\"],[0.3333333333333333,\"#9c179e\"],[0.4444444444444444,\"#bd3786\"],[0.5555555555555556,\"#d8576b\"],[0.6666666666666666,\"#ed7953\"],[0.7777777777777778,\"#fb9f3a\"],[0.8888888888888888,\"#fdca26\"],[1.0,\"#f0f921\"]]},\"legend\":{\"title\":{\"text\":\"layers_string\"},\"tracegroupgap\":0},\"title\":{\"text\":\"Means of PCA Groups\"}},                        {\"responsive\": true}                    ).then(function(){\n",
       "                            \n",
       "var gd = document.getElementById('9a3f9167-49f5-45e1-a4c0-91543140f44c');\n",
       "var x = new MutationObserver(function (mutations, observer) {{\n",
       "        var display = window.getComputedStyle(gd).display;\n",
       "        if (!display || display === 'none') {{\n",
       "            console.log([gd, 'removed!']);\n",
       "            Plotly.purge(gd);\n",
       "            observer.disconnect();\n",
       "        }}\n",
       "}});\n",
       "\n",
       "// Listen for the removal of the full notebook cells\n",
       "var notebookContainer = gd.closest('#notebook-container');\n",
       "if (notebookContainer) {{\n",
       "    x.observe(notebookContainer, {childList: true});\n",
       "}}\n",
       "\n",
       "// Listen for the clearing of the current output cell\n",
       "var outputEl = gd.closest('.output');\n",
       "if (outputEl) {{\n",
       "    x.observe(outputEl, {childList: true});\n",
       "}}\n",
       "\n",
       "                        })                };                });            </script>        </div>"
      ]
     },
     "metadata": {},
     "output_type": "display_data"
    }
   ],
   "source": [
    "import plotly.graph_objects as go\n",
    "pca_df = pd.DataFrame(embeddings_reduced, columns=['PC1', 'PC2','PC3'])\n",
    "pca_df['temperature'] = results_df['temperature']\n",
    "pca_df['layers_string'] = results_df['layers_string']\n",
    "\n",
    "mean_pca_df = pca_df.groupby(['temperature', 'layers_string']).mean().reset_index()\n",
    "print(mean_pca_df.head())\n",
    "\n",
    "# fig.add_trace(px.scatter(mean_pca_df, x='PC1', y='PC2', color='temperature', symbol='layers_string', \n",
    "#                          title='Means of PCA Groups').data[0]):\n",
    "mean_pca_df['type'] = 'Mean'\n",
    "pca_df['type'] = 'Original'\n",
    "combined_df = pd.concat([pca_df, mean_pca_df], ignore_index=True)\n",
    "# fig = px.scatter(combined_df, x='PC1', y='PC2', color='temperature', symbol='layers_string', title='PCA of Sentence Embeddings')\n",
    "\n",
    "# Plot mean points\n",
    "mean_fig = px.scatter_3d(mean_pca_df, x='PC1', y='PC2', z='PC3', color='temperature', symbol='layers_string', title='Means of PCA Groups', category_orders={\"layers_string\": [\"None\", \"0 - 31\", \"0 - 10\", \"0 - 15\", \"20 - 31\", \"15 - 31\", \"25 - 31\", \"0 - 5\"]}, symbol_sequence = ['circle', 'circle-open', 'cross', 'diamond',\n",
    "            'diamond-open', 'square', 'square-open', 'x'],)\n",
    "    \n",
    "mean_fig.update_layout(coloraxis_colorbar=dict(yanchor=\"top\", y=1, x=100, xref=\"container\"))\n",
    "\n",
    "\n",
    "mean_fig.show()\n"
   ]
  }
 ],
 "metadata": {
  "kernelspec": {
   "display_name": ".venv",
   "language": "python",
   "name": "python3"
  },
  "language_info": {
   "codemirror_mode": {
    "name": "ipython",
    "version": 3
   },
   "file_extension": ".py",
   "mimetype": "text/x-python",
   "name": "python",
   "nbconvert_exporter": "python",
   "pygments_lexer": "ipython3",
   "version": "3.10.14"
  }
 },
 "nbformat": 4,
 "nbformat_minor": 2
}
