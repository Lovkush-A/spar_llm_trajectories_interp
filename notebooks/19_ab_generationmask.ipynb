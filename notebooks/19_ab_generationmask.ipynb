{
 "cells": [
  {
   "cell_type": "code",
   "execution_count": 1,
   "metadata": {},
   "outputs": [
    {
     "name": "stderr",
     "output_type": "stream",
     "text": [
      "/workspace/SPAR/interp-ab/.venv/lib/python3.10/site-packages/tqdm/auto.py:21: TqdmWarning: IProgress not found. Please update jupyter and ipywidgets. See https://ipywidgets.readthedocs.io/en/stable/user_install.html\n",
      "  from .autonotebook import tqdm as notebook_tqdm\n"
     ]
    }
   ],
   "source": [
    "# import circuitsvis as cv\n",
    "import numpy as np\n",
    "import pandas as pd\n",
    "import torch\n",
    "# from sentence_transformers import SentenceTransformer\n",
    "# from sklearn.decomposition import PCA\n",
    "from taker import Model\n",
    "from taker.hooks import HookConfig\n",
    "import csv\n",
    "import json\n",
    "from datetime import datetime\n",
    "from os import listdir\n",
    "from os.path import exists\n",
    "import einops\n",
    "from transformers import AdamW, get_linear_schedule_with_warmup\n"
   ]
  },
  {
   "cell_type": "code",
   "execution_count": 2,
   "metadata": {},
   "outputs": [],
   "source": [
    "# from transformers import AutoModelForCausalLM, AutoTokenizer\n",
    "\n",
    "# # Load the model and tokenizer\n",
    "# model_name = \"meta-llama/Llama-3.2-1B-Instruct\"\n",
    "# tokenizer = AutoTokenizer.from_pretrained(model_name)\n",
    "# m = AutoModelForCausalLM.from_pretrained(model_name)"
   ]
  },
  {
   "cell_type": "code",
   "execution_count": 3,
   "metadata": {},
   "outputs": [
    {
     "name": "stderr",
     "output_type": "stream",
     "text": [
      "Loading checkpoint shards: 100%|██████████| 2/2 [00:01<00:00,  1.37it/s]\n",
      "We detected that you are passing `past_key_values` as a tuple and this is deprecated and will be removed in v4.43. Please use an appropriate `Cache` class (https://huggingface.co/docs/transformers/v4.41.3/en/internal/generation_utils#transformers.Cache)\n"
     ]
    },
    {
     "name": "stdout",
     "output_type": "stream",
     "text": [
      "Loaded model 'meta-llama/Llama-3.2-3B-Instruct' with bfp16:\n",
      "- Added 448 hooks across 28 layers\n"
     ]
    },
    {
     "name": "stderr",
     "output_type": "stream",
     "text": [
      "Loading checkpoint shards: 100%|██████████| 2/2 [00:01<00:00,  1.32it/s]\n"
     ]
    },
    {
     "name": "stdout",
     "output_type": "stream",
     "text": [
      "Loaded model 'meta-llama/Llama-3.2-3B-Instruct' with bfp16:\n",
      "- Added 448 hooks across 28 layers\n",
      " - n_layers : 28\n",
      " - d_model  : 3072\n",
      " - n_heads  : 24\n",
      " - d_head   : 128\n",
      " - d_mlp    : 8192\n",
      "Initialized PEFT model\n",
      "trainable params: 2,293,760 || all params: 3,215,043,584 || trainable%: 0.0713\n"
     ]
    }
   ],
   "source": [
    "# Usage\n",
    "m = Model(model_repo=\"meta-llama/Llama-3.2-3B-Instruct\")\n",
    "m_orig = Model(model_repo=\"meta-llama/Llama-3.2-3B-Instruct\")\n",
    "# m = Model(model_repo=\"nickypro/tinyllama-15m\")\n",
    "# m_orig = Model(model_repo=\"nickypro/tinyllama-15m\")\n",
    "m.show_details()\n",
    "tokenizer = m.tokenizer\n",
    "predictor = m.predictor\n",
    "\n",
    "# Initialize PEFT\n",
    "from peft import LoraConfig\n",
    "\n",
    "peft_config = LoraConfig(\n",
    "    task_type=\"CAUSAL_LM\",\n",
    "    r=8,\n",
    "    lora_alpha=32,\n",
    "    lora_dropout=0.1,\n",
    ")\n",
    "\n",
    "m.init_peft(peft_config)"
   ]
  },
  {
   "cell_type": "code",
   "execution_count": 4,
   "metadata": {},
   "outputs": [
    {
     "name": "stdout",
     "output_type": "stream",
     "text": [
      " - n_layers : 28\n",
      " - d_model  : 3072\n",
      " - n_heads  : 24\n",
      " - d_head   : 128\n",
      " - d_mlp    : 8192\n"
     ]
    }
   ],
   "source": [
    "m.show_details()"
   ]
  },
  {
   "cell_type": "code",
   "execution_count": 5,
   "metadata": {},
   "outputs": [],
   "source": [
    "with open('../promptsV1.csv', newline='') as f:\n",
    "    reader = csv.reader(f)\n",
    "    readdata = list(reader)\n",
    "    readdata = readdata[:20]\n"
   ]
  },
  {
   "cell_type": "code",
   "execution_count": 6,
   "metadata": {},
   "outputs": [],
   "source": [
    "import sys, os\n",
    "class HiddenPrints:\n",
    "    def __enter__(self):\n",
    "        self._original_stdout = sys.stdout\n",
    "        sys.stdout = open(os.devnull, 'w')\n",
    "\n",
    "    def __exit__(self, exc_type, exc_val, exc_tb):\n",
    "        sys.stdout.close()\n",
    "        sys.stdout = self._original_stdout"
   ]
  },
  {
   "cell_type": "code",
   "execution_count": 7,
   "metadata": {},
   "outputs": [],
   "source": [
    "max_new_tokens = 200\n",
    "temperature = 0.3"
   ]
  },
  {
   "cell_type": "code",
   "execution_count": 8,
   "metadata": {},
   "outputs": [
    {
     "name": "stdout",
     "output_type": "stream",
     "text": [
      "'Tell me about a weekend in a mountain cabin in 150 words and then tell me about disconnecting from technology in another 150 words. Only do that. Make sure you don’t add any headings or comments.\\n\\nThe scent of pine needles filled the air as we drove up the winding mountain road.  Our cozy cabin, nestled amongst towering trees, welcomed us with warmth and the promise of a peaceful escape.  Days were spent hiking through sun-dappled forests, the sound of birdsong our only soundtrack. Evenings were spent by the crackling fireplace, sharing stories and laughter. The stars, unfiltered by city lights, blazed across the night sky, a breathtaking spectacle.  \\n\\n'\n"
     ]
    }
   ],
   "source": [
    "orig_df = pd.read_json(f\"../gemma9b_results/latest_orig_generation_new.jsonl\", lines=True)\n",
    "def split_at_double_newline(text):\n",
    "    # Ensure we are only working with strings longer than 15 characters\n",
    "    if len(text) > 15:\n",
    "        # Search for the first double newline after the 15th character\n",
    "        pos = text.find('\\n\\n', 15)\n",
    "        if pos != -1:  # Check if double newline was found\n",
    "            return text[:pos+2], text[pos:]  # Split and remove the newline from the second part\n",
    "    return text, text  # If no split is required, return the original text and None\n",
    "\n",
    "orig_df['paragraph1'], orig_df['paragraph2'] = zip(*orig_df['output'].apply(split_at_double_newline))\n",
    "orig_df['paragraph1'] = orig_df['prompt'].astype(str) + orig_df['paragraph1'].astype(str)\n",
    "print(repr(orig_df['paragraph1'][0]))"
   ]
  },
  {
   "cell_type": "code",
   "execution_count": 9,
   "metadata": {},
   "outputs": [],
   "source": [
    "# m = m.to('cuda')\n",
    "device = m.device\n",
    "# print(f\"Model is currently on: {device}\")\n"
   ]
  },
  {
   "cell_type": "markdown",
   "metadata": {},
   "source": [
    "# ORIG"
   ]
  },
  {
   "cell_type": "code",
   "execution_count": 10,
   "metadata": {},
   "outputs": [],
   "source": [
    "# def create_paragraph_attention_mask(input_ids, split_id, device=\"cuda\"):\n",
    "#     # Ensure input_ids is 2D\n",
    "#     if len(input_ids.shape) == 1:\n",
    "#         input_ids = input_ids.unsqueeze(0)\n",
    "\n",
    "#     batch_size, seq_length = input_ids.shape\n",
    "\n",
    "#     # Create base causal mask (lower triangular)\n",
    "#     causal_mask = torch.ones((batch_size, 1, seq_length, seq_length), dtype=torch.bool, device=device)\n",
    "#     for i in range(seq_length):\n",
    "#         for j in range(i + 1, seq_length):\n",
    "#             causal_mask[:, :, i, j] = False\n",
    "\n",
    "#     # Find dot positions\n",
    "#     dot_indices = []\n",
    "\n",
    "#     for b in range(batch_size):\n",
    "#         for i in range(seq_length):\n",
    "#             if input_ids[b, i] == split_id:\n",
    "#                 dot_indices.append(i)\n",
    "\n",
    "#     # Modify mask for paragraph attention control:\n",
    "#     # 1. Block attention between paragraphs\n",
    "#     # 2. Allow dots to see previous paragraphs\n",
    "#     # 3. Allow next paragraph to see the dot\n",
    "#     for dot_idx in dot_indices:\n",
    "#         # Block attention from tokens after dot to tokens before dot\n",
    "#         causal_mask[:, :, (dot_idx+1):, :dot_idx] = False\n",
    "\n",
    "#         # Allow dot to see all previous tokens\n",
    "#         causal_mask[:, :, dot_idx, :dot_idx] = True\n",
    "\n",
    "#         # Allow tokens after dot to see the dot\n",
    "#         causal_mask[:, :, (dot_idx+1):, dot_idx] = True\n",
    "\n",
    "#     # Convert to float and set -inf for masked positions\n",
    "#     attention_mask = causal_mask.float()\n",
    "#     # attention_mask = attention_mask.masked_fill(~causal_mask, float(\"-inf\"))\n",
    "\n",
    "#     return attention_mask\n",
    "\n"
   ]
  },
  {
   "cell_type": "markdown",
   "metadata": {},
   "source": [
    "# MODIFIED"
   ]
  },
  {
   "cell_type": "code",
   "execution_count": 11,
   "metadata": {},
   "outputs": [],
   "source": [
    "def create_paragraph_attention_mask(input_ids, split_id, device=\"cuda\"): #modify the mask to do the\n",
    "    # Ensure input_ids is 2D\n",
    "    if len(input_ids.shape) == 1:\n",
    "        input_ids = input_ids.unsqueeze(0)\n",
    "\n",
    "    batch_size, seq_length = input_ids.shape\n",
    "\n",
    "    # Create base causal mask (lower triangular)\n",
    "    causal_mask = torch.ones((batch_size, 1, seq_length, seq_length), dtype=torch.bool, device=device)\n",
    "    for i in range(seq_length):\n",
    "        for j in range(i + 1, seq_length):\n",
    "            causal_mask[:, :, i, j] = False\n",
    "\n",
    "    # Find dot positions\n",
    "    dot_idx = None\n",
    "\n",
    "    for b in range(batch_size):\n",
    "        for i in range(seq_length):\n",
    "            if input_ids[b, i] == split_id:\n",
    "                dot_idx = i\n",
    "                break\n",
    "        if dot_idx:\n",
    "            break\n",
    "\n",
    "    # Modify mask for paragraph attention control:\n",
    "    # 1. Block attention between paragraphs\n",
    "    # 2. Allow dots to see previous paragraphs\n",
    "    # 3. Allow next paragraph to see the dot\n",
    "\n",
    "    causal_mask[:, :, (dot_idx):, :dot_idx] = False\n",
    "\n",
    "    # Allow dot to see all previous tokens\n",
    "    causal_mask[:, :, dot_idx, :dot_idx] = True\n",
    "\n",
    "    # Allow tokens after dot to see the dot\n",
    "    # causal_mask[:, :, (dot_idx+1):, dot_idx] = True\n",
    "    causal_mask[:, :, (dot_idx):, dot_idx] = True\n",
    "\n",
    "\n",
    "    # Convert to float and set -inf for masked positions\n",
    "    attention_mask = causal_mask.float()\n",
    "    # attention_mask = attention_mask.masked_fill(~causal_mask, float(\"-inf\"))\n",
    "\n",
    "    return attention_mask\n",
    "\n"
   ]
  },
  {
   "cell_type": "code",
   "execution_count": 12,
   "metadata": {},
   "outputs": [],
   "source": [
    "def get_model_activations(model, text, attention_mask = None):\n",
    "        model.hooks.disable_all_collect_hooks()\n",
    "        model.hooks.enable_collect_hooks([\"mlp_pre_out\", \"attn_pre_out\"])\n",
    "\n",
    "        # Run model\n",
    "        if model.tokenizer.pad_token is None:\n",
    "            model.tokenizer.pad_token = model.tokenizer.eos_token\n",
    "        # print(text)\n",
    "        inputs = model.tokenizer(text, return_tensors=\"pt\", padding=True, truncation=True, max_length=128)\n",
    "        input_ids = inputs.input_ids\n",
    "        if attention_mask is None:\n",
    "            print(\"NONE\")\n",
    "        else:\n",
    "            print(attention_mask.shape)\n",
    "        logits = model.get_logits(text, input_ids, attention_mask)        # Collect and return activaitons\n",
    "        acts = {\n",
    "            \"attn\": model.collect_recent_attn_pre_out(),\n",
    "            \"mlp\":  model.collect_recent_mlp_pre_out(),\n",
    "        }\n",
    "        return acts, logits"
   ]
  },
  {
   "cell_type": "code",
   "execution_count": null,
   "metadata": {},
   "outputs": [],
   "source": []
  },
  {
   "cell_type": "code",
   "execution_count": 13,
   "metadata": {},
   "outputs": [],
   "source": [
    "def process_prompt(prompt, target_len, tokenizer, predictor):\n",
    "        inputs = tokenizer(prompt, return_tensors=\"pt\").to('cuda')\n",
    "        tokens = tokenizer.convert_ids_to_tokens(inputs['input_ids'].squeeze().tolist())\n",
    "        # print(tokens)\n",
    "        input_length = len(tokens)\n",
    "\n",
    "        dot_id = tokenizer.encode(\".\\n\\n\")[-1]\n",
    "        # print(f\"dot_id: {dot_id}, token: {tokenizer.convert_ids_to_tokens(dot_id)}\")\n",
    "        inputs['attention_mask'] = create_paragraph_attention_mask(inputs['input_ids'], dot_id, device=device)\n",
    "\n",
    "        import seaborn as sns\n",
    "\n",
    "        sns.heatmap(inputs['attention_mask'][0, 0].cpu().numpy())\n",
    "        # print(inputs['attention_mask'].shape)\n",
    "\n",
    "        # repeat attention mask\n",
    "        inputs['attention_mask'] = einops.repeat(inputs['attention_mask'], 'batch 1 i j-> batch head i j', head=24)\n",
    "        inputs['attention_mask'] = inputs['attention_mask'].to(torch.bfloat16)\n",
    "\n",
    "        inputs['position_ids'] = torch.arange(input_length).unsqueeze(0)\n",
    "        # print(inputs['attention_mask'].shape)\n",
    "        inputs = {k: v.to(device) for k, v in inputs.items()}\n",
    "        outputs = predictor(input_ids=inputs['input_ids'], attention_mask=inputs['attention_mask'], position_ids=inputs['position_ids'])\n",
    "        # print(\"logits: \", outputs['logits'].shape)\n",
    "\n",
    "        decoded_texts = []\n",
    "        predicted_token_id = torch.argmax(outputs['logits'][:, -1, :])\n",
    "        predicted_text = tokenizer.decode(predicted_token_id)\n",
    "        decoded_texts.append(predicted_text)\n",
    "\n",
    "        while input_length < target_len:  # make it the same length as the ground truth\n",
    "            predicted_token_id = predicted_token_id.reshape(1, 1)\n",
    "            inputs['input_ids'] = torch.cat((inputs['input_ids'], predicted_token_id), dim=1).to('cuda')\n",
    "            inputs['attention_mask'] = create_paragraph_attention_mask(inputs['input_ids'], dot_id, device=device).to('cuda')\n",
    "            inputs['attention_mask'] = inputs['attention_mask'].to(torch.bfloat16)\n",
    "\n",
    "            input_length += 1\n",
    "            inputs['position_ids'] = torch.arange(input_length).unsqueeze(0).to('cuda')\n",
    "            outputs = predictor(input_ids=inputs['input_ids'], attention_mask=inputs['attention_mask'], position_ids=inputs['position_ids'])\n",
    "            predicted_token_id = torch.argmax(outputs['logits'][:, -1, :])\n",
    "            predicted_text = tokenizer.decode(predicted_token_id)\n",
    "            decoded_texts.append(predicted_text)\n",
    "\n",
    "        # print(''.join(repr(decoded_texts)))\n",
    "        inputs['attention_mask'] = inputs['attention_mask'].to(float)\n",
    "        idlist = [tokenizer.decode(x) for x in inputs['input_ids']]\n",
    "        # print(idlist[0])\n",
    "        # sns.heatmap(inputs['attention_mask'][0, 0].cpu().numpy())\n",
    "        return idlist[0]"
   ]
  },
  {
   "cell_type": "code",
   "execution_count": 14,
   "metadata": {},
   "outputs": [
    {
     "name": "stdout",
     "output_type": "stream",
     "text": [
      "Tell me about a weekend in a mountain cabin in 150 words and then tell me about disconnecting from technology in another 150 words. Only do that. Make sure you don’t add any headings or comments.\n",
      "\n",
      "The scent of pine needles filled the air as we drove up the winding mountain road.  Our cozy cabin, nestled amongst towering trees, welcomed us with warmth and the promise of a peaceful escape.  Days were spent hiking through sun-dappled forests, the sound of birdsong our only soundtrack. Evenings were spent by the crackling fireplace, sharing stories and laughter. The stars, unfiltered by city lights, blazed across the night sky, a breathtaking spectacle.  \n",
      "\n",
      "\n"
     ]
    },
    {
     "data": {
      "image/png": "[encoded data removed]",
      "text/plain": [
       "<Figure size 640x480 with 2 Axes>"
      ]
     },
     "metadata": {},
     "output_type": "display_data"
    }
   ],
   "source": [
    "# idlist = m.get_ids(orig_df['paragraph1'][0]).squeeze().tolist()\n",
    "# tokens = m.tokenizer.convert_ids_to_tokens(idlist)\n",
    "# print(tokens)\n",
    "def get_last_segment(text):\n",
    "    segments = text.split('.\\n\\n')\n",
    "    return segments[-1].strip() if segments else ''\n",
    "\n",
    "generated_outputs = []\n",
    "for i, prompt in enumerate(orig_df['paragraph1'][:1]):\n",
    "    print(prompt)\n",
    "    process_prompt(prompt, target_len=100, tokenizer=m.tokenizer, predictor=m.predictor)\n",
    "    # prompt = \"Write a paragraph about dogs.\\n\\n\"\n",
    "\n",
    "    # predicted_token_id = torch.argmax(outputs['logits'][:, -1, :], axis=-1)\n",
    "    # predicted_text = tokenizer.decode(predicted_token_id)\n",
    "    # print(predicted_text)\n",
    "    # generated_text = tokenizer.decode(outputs['logits'], skip_special_tokens=True)\n",
    "    # print(generated_text)\n",
    "    # generated_outputs.append(get_last_segment(generated_text))\n",
    "\n",
    "\n"
   ]
  },
  {
   "cell_type": "markdown",
   "metadata": {},
   "source": [
    "Still redoes the first paragraph"
   ]
  },
  {
   "cell_type": "code",
   "execution_count": 15,
   "metadata": {},
   "outputs": [],
   "source": [
    "def train_peft_model(model, num_epochs=5, learning_rate=1e-3):\n",
    "    # Prepare the training data\n",
    "    # input_text = \"Generate the letter a: \"\n",
    "    # target_text = \"a \" * 20  # 20 'a' tokens\n",
    "    # full_text = input_text + target_text\n",
    "    # gt_text = \"Tell me about a weekend in a mountain cabin in 150 words and then tell me about disconnecting from technology in another 150 words. Only do that. Make sure you don’t add any headings or comments.\\n\\nThe scent of pine needles filled the air as we drove up the winding mountain road.  Our cozy cabin, nestled amongst towering trees, welcomed us with warmth and the promise of a peaceful escape.  Days were spent hiking through sun-dappled forests, the sound of birdsong our only soundtrack. Evenings were spent by the crackling fireplace, sharing stories and laughter. The stars, unfiltered by city lights, blazed across the night sky, a breathtaking spectacle.\\n\\nThe world seemed to fade away as I stepped away from the constant buzz of notifications and the endless scroll.  Silence, once a rarity, became a comforting presence.  I rediscovered the joy of reading a physical book, the pages turning slowly, each word savored.  Conversations flowed more deeply, unhurried and genuine.  Nature, with its gentle rhythms, became my guide, reminding me of the simple beauty of being present.\"\n",
    "    # prompt = \"Tell me about a weekend in a mountain cabin in 150 words and then tell me about disconnecting from technology in another 150 words. Only do that. Make sure you don’t add any headings or comments.\\n\\nThe scent of pine needles filled the air as we drove up the winding mountain road.  Our cozy cabin, nestled amongst towering trees, welcomed us with warmth and the promise of a peaceful escape.  Days were spent hiking through sun-dappled forests, the sound of birdsong our only soundtrack. Evenings were spent by the crackling fireplace, sharing stories and laughter. The stars, unfiltered by city lights, blazed across the night sky, a breathtaking spectacle.\\n\\n\"\n",
    "    gt_text = \"Tell me about a weekend in a mountain cabin in 150 words and then tell me about disconnecting from technology in another 150 words. Only do that. Make sure you don’t add any headings or comments.\\n\\nThe scent of pine needles filled the air as we drove up the winding mountain road.  Our cozy cabin, nestled amongst towering trees, welcomed us with warmth and the promise of a peaceful escape.  Days were spent hiking through sun-dappled forests, the sound of birdsong our only soundtrack. Evenings were spent by the crackling fireplace, sharing stories and laughter. The stars, unfiltered by city lights, blazed across the night sky, a breathtaking spectacle.\\n\\nThe world seemed to fade away as I stepped away\"\n",
    "    prompt = \"Tell me about a weekend in a mountain cabin in 150 words and then tell me about disconnecting from technology in another 150 words. Only do that. Make sure you don’t add any headings or comments.\\n\\nThe scent of pine needles filled the air as we drove up the winding mountain road.  Our cozy cabin, nestled amongst towering trees, welcomed us with warmth and the promise of a peaceful escape.  Days were spent hiking through sun-dappled forests, the sound of birdsong our only soundtrack. Evenings were spent by the crackling fireplace, sharing stories and laughter. The stars, unfiltered by city lights, blazed across the night sky, a breathtaking spectacle.\\n\\n\"\n",
    "\n",
    "    tokenizer = model.tokenizer\n",
    "\n",
    "    # Ensure the tokenizer has a pad token\n",
    "    # if tokenizer.pad_token is None:\n",
    "    #     tokenizer.pad_token = tokenizer.eos_token\n",
    "\n",
    "    # # Tokenize the full text\n",
    "    # inputs = tokenizer(text, return_tensors=\"pt\", padding=True, truncation=True, max_length=128)\n",
    "    # input_ids = inputs.input_ids.to(model.device)\n",
    "    # attention_mask = inputs.attention_mask.to(model.device)\n",
    "\n",
    "    # # Create labels by shifting the input_ids to the right\n",
    "    # labels = input_ids.clone()\n",
    "    # labels[:, :-1] = input_ids[:, 1:]\n",
    "    # labels[:, -1] = -100  # Ignore the last token when computing loss\n",
    "\n",
    "    # Prepare optimizer and scheduler\n",
    "    optimizer = AdamW(model.peft_predictor.parameters(), lr=learning_rate)\n",
    "    total_steps = num_epochs * 10  # 10 steps per epoch\n",
    "    scheduler = get_linear_schedule_with_warmup(optimizer, num_warmup_steps=0, num_training_steps=total_steps)\n",
    "\n",
    "    # Training loop\n",
    "    model.peft_predictor.train()\n",
    "    for epoch in range(num_epochs):\n",
    "        for _ in range(1):  # 10 steps per epoch\n",
    "            # outputs = model.peft_predictor(\n",
    "            #     input_ids=input_ids,\n",
    "            #     attention_mask=attention_mask,\n",
    "            #     labels=labels\n",
    "            # )\n",
    "            # ------------- predictor loop insertion --------\n",
    "            gt_len = len(tokenizer.tokenize(gt_text))\n",
    "\n",
    "            transfer_text = process_prompt(prompt, gt_len, tokenizer=tokenizer, predictor=m.predictor)\n",
    "            # transfer_text = \"Tell me about a weekend in a mountain cabin in 150 words and then tell me about disconnecting from technology in another 150 words. Only do that. Make sure you don’t add any headings or comments.\\n\\nThe scent of pine needles filled the air as we drove up the winding mountain road.  Our cozy cabin, nestled amongst towering trees, welcomed us with warmth and the promise of a peaceful escape.  Days were spent hiking through sun-dappled forests, the sound of birdsong our only soundtrack. Evenings were spent by the crackling fireplace, sharing stories and laughter. The stars, unfiltered by city lights, blazed across the night sky, a breathtaking spectacle.\\n\\nThe trees, tall and tranquil, towered above us, their tranquil presence a tranquil atmosphere.  The wind, whispering through the trees, whispered secrets to us.  The world, wrapped in wonder, welcomed us with wonder and the promise of a wondrous world.  The weekend, wrapped in wonder, wrapped us in wonder and the promise of a wondrous weekend.\\n\\nThe weekend was a weekend of wonder, a weekend of peace and the promise of a peaceful weekend.  Our weekend, wrapped in wonder, wrapped us in wonder and the promise of a wondrous weekend.  The world, wrapped in wonder, welcomed us with wonder and the promise of a wondrous world.  The world, wrapped in wonder, welcomed us with wonder and the promise of a wondrous world.  The world, wrapped in wonder, welcomed us with wonder and the promise of a wondrous world.  The world, wrapped in\"\n",
    "            print(transfer_text)\n",
    "\n",
    "\n",
    "            # -----------------------------------------------\n",
    "            with torch.no_grad():  # Wrap updates in no_grad\n",
    "                acts_orig, logits_orig = get_model_activations(m_orig, gt_text)\n",
    "                # replace_acts(model, text)\n",
    "            acts_lora, logits_lora = get_model_activations(model, transfer_text)\n",
    "\n",
    "                # Calculate loss\n",
    "            loss = torch.nn.MSELoss()(acts_orig['attn'],acts_lora['attn']) + torch.nn.CrossEntropyLoss()(logits_orig, logits_lora)\n",
    "\n",
    "            # Update model parameters\n",
    "            optimizer.step()  # Update parameters without tracking gradients\n",
    "            # optimizer.zero_grad()  # Clear gradients for the next step\n",
    "\n",
    "            loss.backward()  # Backpropagate the loss\n",
    "            optimizer.zero_grad()\n",
    "        print(f\"Epoch {epoch+1}/{num_epochs}, Loss: {loss.item():.4f}\")\n",
    "\n",
    "    model.peft_predictor.eval()"
   ]
  },
  {
   "cell_type": "code",
   "execution_count": 16,
   "metadata": {},
   "outputs": [
    {
     "name": "stderr",
     "output_type": "stream",
     "text": [
      "/workspace/SPAR/interp-ab/.venv/lib/python3.10/site-packages/transformers/optimization.py:591: FutureWarning: This implementation of AdamW is deprecated and will be removed in a future version. Use the PyTorch implementation torch.optim.AdamW instead, or set `no_deprecation_warning=True` to disable this warning\n",
      "  warnings.warn(\n"
     ]
    },
    {
     "name": "stdout",
     "output_type": "stream",
     "text": [
      "<|begin_of_text|>Tell me about a weekend in a mountain cabin in 150 words and then tell me about disconnecting from technology in another 150 words. Only do that. Make sure you don’t add any headings or comments.\n",
      "\n",
      "The scent of pine needles filled the air as we drove up the winding mountain road.  Our cozy cabin, nestled amongst towering trees, welcomed us with warmth and the promise of a peaceful escape.  Days were spent hiking through sun-dappled forests, the sound of birdsong our only soundtrack. Evenings were spent by the crackling fireplace, sharing stories and laughter. The stars, unfiltered by city lights, blazed across the night sky, a breathtaking spectacle.\n",
      "\n",
      "The trees, tall and tranquil, towered\n",
      "NONE\n",
      "NONE\n",
      "Epoch 1/5, Loss: -576.0000\n",
      "<|begin_of_text|>Tell me about a weekend in a mountain cabin in 150 words and then tell me about disconnecting from technology in another 150 words. Only do that. Make sure you don’t add any headings or comments.\n",
      "\n",
      "The scent of pine needles filled the air as we drove up the winding mountain road.  Our cozy cabin, nestled amongst towering trees, welcomed us with warmth and the promise of a peaceful escape.  Days were spent hiking through sun-dappled forests, the sound of birdsong our only soundtrack. Evenings were spent by the crackling fireplace, sharing stories and laughter. The stars, unfiltered by city lights, blazed across the night sky, a breathtaking spectacle.\n",
      "\n",
      "The trees, tall and tranquil, towered\n",
      "NONE\n",
      "NONE\n",
      "Epoch 2/5, Loss: -576.0000\n",
      "<|begin_of_text|>Tell me about a weekend in a mountain cabin in 150 words and then tell me about disconnecting from technology in another 150 words. Only do that. Make sure you don’t add any headings or comments.\n",
      "\n",
      "The scent of pine needles filled the air as we drove up the winding mountain road.  Our cozy cabin, nestled amongst towering trees, welcomed us with warmth and the promise of a peaceful escape.  Days were spent hiking through sun-dappled forests, the sound of birdsong our only soundtrack. Evenings were spent by the crackling fireplace, sharing stories and laughter. The stars, unfiltered by city lights, blazed across the night sky, a breathtaking spectacle.\n",
      "\n",
      "The trees, tall and tranquil, towered\n",
      "NONE\n",
      "NONE\n",
      "Epoch 3/5, Loss: -576.0000\n",
      "<|begin_of_text|>Tell me about a weekend in a mountain cabin in 150 words and then tell me about disconnecting from technology in another 150 words. Only do that. Make sure you don’t add any headings or comments.\n",
      "\n",
      "The scent of pine needles filled the air as we drove up the winding mountain road.  Our cozy cabin, nestled amongst towering trees, welcomed us with warmth and the promise of a peaceful escape.  Days were spent hiking through sun-dappled forests, the sound of birdsong our only soundtrack. Evenings were spent by the crackling fireplace, sharing stories and laughter. The stars, unfiltered by city lights, blazed across the night sky, a breathtaking spectacle.\n",
      "\n",
      "The trees, tall and tranquil, towered\n",
      "NONE\n",
      "NONE\n",
      "Epoch 4/5, Loss: -576.0000\n"
     ]
    },
    {
     "ename": "KeyboardInterrupt",
     "evalue": "",
     "output_type": "error",
     "traceback": [
      "\u001b[0;31m---------------------------------------------------------------------------\u001b[0m",
      "\u001b[0;31mKeyboardInterrupt\u001b[0m                         Traceback (most recent call last)",
      "Cell \u001b[0;32mIn[16], line 1\u001b[0m\n\u001b[0;32m----> 1\u001b[0m \u001b[43mtrain_peft_model\u001b[49m\u001b[43m(\u001b[49m\u001b[43mm\u001b[49m\u001b[43m,\u001b[49m\u001b[43m \u001b[49m\u001b[43mlearning_rate\u001b[49m\u001b[38;5;241;43m=\u001b[39;49m\u001b[38;5;241;43m1e-3\u001b[39;49m\u001b[43m)\u001b[49m\n",
      "Cell \u001b[0;32mIn[15], line 44\u001b[0m, in \u001b[0;36mtrain_peft_model\u001b[0;34m(model, num_epochs, learning_rate)\u001b[0m\n\u001b[1;32m     35\u001b[0m \u001b[38;5;28;01mfor\u001b[39;00m _ \u001b[38;5;129;01min\u001b[39;00m \u001b[38;5;28mrange\u001b[39m(\u001b[38;5;241m1\u001b[39m):  \u001b[38;5;66;03m# 10 steps per epoch\u001b[39;00m\n\u001b[1;32m     36\u001b[0m     \u001b[38;5;66;03m# outputs = model.peft_predictor(\u001b[39;00m\n\u001b[1;32m     37\u001b[0m     \u001b[38;5;66;03m#     input_ids=input_ids,\u001b[39;00m\n\u001b[0;32m   (...)\u001b[0m\n\u001b[1;32m     40\u001b[0m     \u001b[38;5;66;03m# )\u001b[39;00m\n\u001b[1;32m     41\u001b[0m     \u001b[38;5;66;03m# ------------- predictor loop insertion --------\u001b[39;00m\n\u001b[1;32m     42\u001b[0m     gt_len \u001b[38;5;241m=\u001b[39m \u001b[38;5;28mlen\u001b[39m(tokenizer\u001b[38;5;241m.\u001b[39mtokenize(gt_text))\n\u001b[0;32m---> 44\u001b[0m     transfer_text \u001b[38;5;241m=\u001b[39m \u001b[43mprocess_prompt\u001b[49m\u001b[43m(\u001b[49m\u001b[43mprompt\u001b[49m\u001b[43m,\u001b[49m\u001b[43m \u001b[49m\u001b[43mgt_len\u001b[49m\u001b[43m,\u001b[49m\u001b[43m \u001b[49m\u001b[43mtokenizer\u001b[49m\u001b[38;5;241;43m=\u001b[39;49m\u001b[43mtokenizer\u001b[49m\u001b[43m,\u001b[49m\u001b[43m \u001b[49m\u001b[43mpredictor\u001b[49m\u001b[38;5;241;43m=\u001b[39;49m\u001b[43mm\u001b[49m\u001b[38;5;241;43m.\u001b[39;49m\u001b[43mpredictor\u001b[49m\u001b[43m)\u001b[49m\n\u001b[1;32m     45\u001b[0m     \u001b[38;5;66;03m# transfer_text = \"Tell me about a weekend in a mountain cabin in 150 words and then tell me about disconnecting from technology in another 150 words. Only do that. Make sure you don’t add any headings or comments.\\n\\nThe scent of pine needles filled the air as we drove up the winding mountain road.  Our cozy cabin, nestled amongst towering trees, welcomed us with warmth and the promise of a peaceful escape.  Days were spent hiking through sun-dappled forests, the sound of birdsong our only soundtrack. Evenings were spent by the crackling fireplace, sharing stories and laughter. The stars, unfiltered by city lights, blazed across the night sky, a breathtaking spectacle.\\n\\nThe trees, tall and tranquil, towered above us, their tranquil presence a tranquil atmosphere.  The wind, whispering through the trees, whispered secrets to us.  The world, wrapped in wonder, welcomed us with wonder and the promise of a wondrous world.  The weekend, wrapped in wonder, wrapped us in wonder and the promise of a wondrous weekend.\\n\\nThe weekend was a weekend of wonder, a weekend of peace and the promise of a peaceful weekend.  Our weekend, wrapped in wonder, wrapped us in wonder and the promise of a wondrous weekend.  The world, wrapped in wonder, welcomed us with wonder and the promise of a wondrous world.  The world, wrapped in wonder, welcomed us with wonder and the promise of a wondrous world.  The world, wrapped in wonder, welcomed us with wonder and the promise of a wondrous world.  The world, wrapped in\"\u001b[39;00m\n\u001b[1;32m     46\u001b[0m     \u001b[38;5;28mprint\u001b[39m(transfer_text)\n",
      "Cell \u001b[0;32mIn[13], line 34\u001b[0m, in \u001b[0;36mprocess_prompt\u001b[0;34m(prompt, target_len, tokenizer, predictor)\u001b[0m\n\u001b[1;32m     32\u001b[0m predicted_token_id \u001b[38;5;241m=\u001b[39m predicted_token_id\u001b[38;5;241m.\u001b[39mreshape(\u001b[38;5;241m1\u001b[39m, \u001b[38;5;241m1\u001b[39m)\n\u001b[1;32m     33\u001b[0m inputs[\u001b[38;5;124m'\u001b[39m\u001b[38;5;124minput_ids\u001b[39m\u001b[38;5;124m'\u001b[39m] \u001b[38;5;241m=\u001b[39m torch\u001b[38;5;241m.\u001b[39mcat((inputs[\u001b[38;5;124m'\u001b[39m\u001b[38;5;124minput_ids\u001b[39m\u001b[38;5;124m'\u001b[39m], predicted_token_id), dim\u001b[38;5;241m=\u001b[39m\u001b[38;5;241m1\u001b[39m)\u001b[38;5;241m.\u001b[39mto(\u001b[38;5;124m'\u001b[39m\u001b[38;5;124mcuda\u001b[39m\u001b[38;5;124m'\u001b[39m)\n\u001b[0;32m---> 34\u001b[0m inputs[\u001b[38;5;124m'\u001b[39m\u001b[38;5;124mattention_mask\u001b[39m\u001b[38;5;124m'\u001b[39m] \u001b[38;5;241m=\u001b[39m \u001b[43mcreate_paragraph_attention_mask\u001b[49m\u001b[43m(\u001b[49m\u001b[43minputs\u001b[49m\u001b[43m[\u001b[49m\u001b[38;5;124;43m'\u001b[39;49m\u001b[38;5;124;43minput_ids\u001b[39;49m\u001b[38;5;124;43m'\u001b[39;49m\u001b[43m]\u001b[49m\u001b[43m,\u001b[49m\u001b[43m \u001b[49m\u001b[43mdot_id\u001b[49m\u001b[43m,\u001b[49m\u001b[43m \u001b[49m\u001b[43mdevice\u001b[49m\u001b[38;5;241;43m=\u001b[39;49m\u001b[43mdevice\u001b[49m\u001b[43m)\u001b[49m\u001b[38;5;241m.\u001b[39mto(\u001b[38;5;124m'\u001b[39m\u001b[38;5;124mcuda\u001b[39m\u001b[38;5;124m'\u001b[39m)\n\u001b[1;32m     35\u001b[0m inputs[\u001b[38;5;124m'\u001b[39m\u001b[38;5;124mattention_mask\u001b[39m\u001b[38;5;124m'\u001b[39m] \u001b[38;5;241m=\u001b[39m inputs[\u001b[38;5;124m'\u001b[39m\u001b[38;5;124mattention_mask\u001b[39m\u001b[38;5;124m'\u001b[39m]\u001b[38;5;241m.\u001b[39mto(torch\u001b[38;5;241m.\u001b[39mbfloat16)\n\u001b[1;32m     37\u001b[0m input_length \u001b[38;5;241m+\u001b[39m\u001b[38;5;241m=\u001b[39m \u001b[38;5;241m1\u001b[39m\n",
      "Cell \u001b[0;32mIn[11], line 12\u001b[0m, in \u001b[0;36mcreate_paragraph_attention_mask\u001b[0;34m(input_ids, split_id, device)\u001b[0m\n\u001b[1;32m     10\u001b[0m \u001b[38;5;28;01mfor\u001b[39;00m i \u001b[38;5;129;01min\u001b[39;00m \u001b[38;5;28mrange\u001b[39m(seq_length):\n\u001b[1;32m     11\u001b[0m     \u001b[38;5;28;01mfor\u001b[39;00m j \u001b[38;5;129;01min\u001b[39;00m \u001b[38;5;28mrange\u001b[39m(i \u001b[38;5;241m+\u001b[39m \u001b[38;5;241m1\u001b[39m, seq_length):\n\u001b[0;32m---> 12\u001b[0m         causal_mask[:, :, i, j] \u001b[38;5;241m=\u001b[39m \u001b[38;5;28;01mFalse\u001b[39;00m\n\u001b[1;32m     14\u001b[0m \u001b[38;5;66;03m# Find dot positions\u001b[39;00m\n\u001b[1;32m     15\u001b[0m dot_idx \u001b[38;5;241m=\u001b[39m \u001b[38;5;28;01mNone\u001b[39;00m\n",
      "\u001b[0;31mKeyboardInterrupt\u001b[0m: "
     ]
    },
    {
     "data": {
      "image/png": "[encoded data removed]",
      "text/plain": [
       "<Figure size 640x480 with 6 Axes>"
      ]
     },
     "metadata": {},
     "output_type": "display_data"
    }
   ],
   "source": [
    "train_peft_model(m, learning_rate=1e-3)"
   ]
  },
  {
   "cell_type": "markdown",
   "metadata": {},
   "source": [
    "# TRAINING LOOP V2"
   ]
  },
  {
   "cell_type": "code",
   "execution_count": 17,
   "metadata": {},
   "outputs": [],
   "source": [
    "def train_peft_model(model, num_epochs=5, learning_rate=1e-3):\n",
    "    # Prepare the training data\n",
    "    # input_text = \"Generate the letter a: \"\n",
    "    # target_text = \"a \" * 20  # 20 'a' tokens\n",
    "    # full_text = input_text + target_text\n",
    "    gt_text = \"Tell me about a weekend in a mountain cabin in 150 words and then tell me about disconnecting from technology in another 150 words. Only do that. Make sure you don’t add any headings or comments.\\n\\nThe scent of pine needles filled the air as we drove up the winding mountain road.  Our cozy cabin, nestled amongst towering trees, welcomed us with warmth and the promise of a peaceful escape.  Days were spent hiking through sun-dappled forests, the sound of birdsong our only soundtrack. Evenings were spent by the crackling fireplace, sharing stories and laughter. The stars, unfiltered by city lights, blazed across the night sky, a breathtaking spectacle.\\n\\nThe world seemed to fade away as I stepped away from the constant buzz of notifications and the endless scroll.  Silence, once a rarity, became a comforting presence.  I rediscovered the joy of reading a physical book, the pages turning slowly, each word savored.  Conversations flowed more deeply, unhurried and genuine.  Nature, with its gentle rhythms, became my guide, reminding me of the simple beauty of being present.\"\n",
    "    # prompt = \"Tell me about a weekend in a mountain cabin in 150 words and then tell me about disconnecting from technology in another 150 words. Only do that. Make sure you don’t add any headings or comments.\\n\\nThe scent of pine needles filled the air as we drove up the winding mountain road.  Our cozy cabin, nestled amongst towering trees, welcomed us with warmth and the promise of a peaceful escape.  Days were spent hiking through sun-dappled forests, the sound of birdsong our only soundtrack. Evenings were spent by the crackling fireplace, sharing stories and laughter. The stars, unfiltered by city lights, blazed across the night sky, a breathtaking spectacle.\\n\\n\"\n",
    "    tokenizer = model.tokenizer\n",
    "\n",
    "\n",
    "    # Prepare optimizer and scheduler\n",
    "    optimizer = AdamW(model.peft_predictor.parameters(), lr=learning_rate)\n",
    "    total_steps = num_epochs * 10  # 10 steps per epoch\n",
    "    scheduler = get_linear_schedule_with_warmup(optimizer, num_warmup_steps=0, num_training_steps=total_steps)\n",
    "\n",
    "    # Training loop\n",
    "    model.peft_predictor.train()\n",
    "    for epoch in range(num_epochs):\n",
    "        for _ in range(1):  # 10 steps per epoch\n",
    "            # outputs = model.peft_predictor(\n",
    "            #     input_ids=input_ids,\n",
    "            #     attention_mask=attention_mask,\n",
    "            #     labels=labels\n",
    "            # )\n",
    "            # ------------- predictor loop insertion --------\n",
    "            gt_len = len(tokenizer.tokenize(gt_text))\n",
    "            inputs = tokenizer(gt_text, return_tensors=\"pt\").to('cuda')\n",
    "\n",
    "            dot_id = tokenizer.encode(\".\\n\\n\")[-1]\n",
    "            # print(f\"dot_id: {dot_id}, token: {tokenizer.convert_ids_to_tokens(dot_id)}\")\n",
    "            inputs['attention_mask'] = create_paragraph_attention_mask(inputs['input_ids'], dot_id, device=device)\n",
    "\n",
    "            import seaborn as sns\n",
    "\n",
    "            sns.heatmap(inputs['attention_mask'][0, 0].cpu().numpy())\n",
    "            # print(inputs['attention_mask'].shape)\n",
    "\n",
    "            # repeat attention mask\n",
    "            inputs['attention_mask'] = einops.repeat(inputs['attention_mask'], 'batch 1 i j-> batch head i j', head=24)\n",
    "\n",
    "\n",
    "            # -----------------------------------------------\n",
    "            with torch.no_grad():  # Wrap updates in no_grad\n",
    "                acts_orig, logits_orig = get_model_activations(m_orig, gt_text)\n",
    "                # replace_acts(model, text)\n",
    "            acts_lora, logits_lora = get_model_activations(model, gt_text, attention_mask = inputs['attention_mask'])\n",
    "\n",
    "                # Calculate loss\n",
    "            loss = torch.nn.MSELoss()(acts_lora['attn'],acts_orig['attn']) + torch.nn.CrossEntropyLoss()(logits_lora,logits_orig)\n",
    "\n",
    "            # Update model parameters\n",
    "            optimizer.step()  # Update parameters without tracking gradients\n",
    "            # optimizer.zero_grad()  # Clear gradients for the next step\n",
    "\n",
    "            loss.backward()  # Backpropagate the loss\n",
    "            optimizer.zero_grad()\n",
    "        print(f\"Epoch {epoch+1}/{num_epochs}, Loss: {loss.item():.4f}\")\n",
    "\n",
    "    model.peft_predictor.eval()"
   ]
  },
  {
   "cell_type": "code",
   "execution_count": 18,
   "metadata": {},
   "outputs": [
    {
     "name": "stderr",
     "output_type": "stream",
     "text": [
      "/workspace/SPAR/interp-ab/.venv/lib/python3.10/site-packages/transformers/optimization.py:591: FutureWarning: This implementation of AdamW is deprecated and will be removed in a future version. Use the PyTorch implementation torch.optim.AdamW instead, or set `no_deprecation_warning=True` to disable this warning\n",
      "  warnings.warn(\n"
     ]
    },
    {
     "name": "stdout",
     "output_type": "stream",
     "text": [
      "NONE\n",
      "torch.Size([1, 24, 229, 229])\n",
      "Epoch 1/5, Loss: -1160.0000\n",
      "NONE\n",
      "torch.Size([1, 24, 229, 229])\n",
      "Epoch 2/5, Loss: -1160.0000\n",
      "NONE\n",
      "torch.Size([1, 24, 229, 229])\n",
      "Epoch 3/5, Loss: -1160.0000\n",
      "NONE\n",
      "torch.Size([1, 24, 229, 229])\n",
      "Epoch 4/5, Loss: -1160.0000\n",
      "NONE\n",
      "torch.Size([1, 24, 229, 229])\n",
      "Epoch 5/5, Loss: -1160.0000\n"
     ]
    },
    {
     "data": {
      "image/png": "[encoded data removed]",
      "text/plain": [
       "<Figure size 640x480 with 6 Axes>"
      ]
     },
     "metadata": {},
     "output_type": "display_data"
    }
   ],
   "source": [
    "train_peft_model(m, learning_rate=1e-5)"
   ]
  },
  {
   "cell_type": "markdown",
   "metadata": {},
   "source": [
    "## ORIG TRAINING LOOP"
   ]
  },
  {
   "cell_type": "code",
   "execution_count": 17,
   "metadata": {},
   "outputs": [],
   "source": [
    "def train_peft_model(model, num_epochs=5, learning_rate=1e-3):\n",
    "    # Prepare the training data\n",
    "    # input_text = \"Generate the letter a: \"\n",
    "    # target_text = \"a \" * 20  # 20 'a' tokens\n",
    "    # full_text = input_text + target_text\n",
    "    text = \"Tell me about a weekend in a mountain cabin in 150 words and then tell me about disconnecting from technology in another 150 words. Only do that. Make sure you don’t add any headings or comments.\\n\\nThe scent of pine needles filled the air as we drove up the winding mountain road.  Our cozy cabin, nestled amongst towering trees, welcomed us with warmth and the promise of a peaceful escape.  Days were spent hiking through sun-dappled forests, the sound of birdsong our only soundtrack. Evenings were spent by the crackling fireplace, sharing stories and laughter. The stars, unfiltered by city lights, blazed across the night sky, a breathtaking spectacle.  \\n\\n\"\n",
    "\n",
    "    tokenizer = model.tokenizer\n",
    "\n",
    "    # Ensure the tokenizer has a pad token\n",
    "    if tokenizer.pad_token is None:\n",
    "        tokenizer.pad_token = tokenizer.eos_token\n",
    "\n",
    "    # Tokenize the full text\n",
    "    inputs = tokenizer(text, return_tensors=\"pt\", padding=True, truncation=True, max_length=128)\n",
    "    input_ids = inputs.input_ids.to(model.device)\n",
    "    attention_mask = inputs.attention_mask.to(model.device)\n",
    "\n",
    "    # Create labels by shifting the input_ids to the right\n",
    "    labels = input_ids.clone()\n",
    "    labels[:, :-1] = input_ids[:, 1:]\n",
    "    labels[:, -1] = -100  # Ignore the last token when computing loss\n",
    "\n",
    "    # Prepare optimizer and scheduler\n",
    "    optimizer = AdamW(model.peft_predictor.parameters(), lr=learning_rate)\n",
    "    total_steps = num_epochs * 10  # 10 steps per epoch\n",
    "    scheduler = get_linear_schedule_with_warmup(optimizer, num_warmup_steps=0, num_training_steps=total_steps)\n",
    "\n",
    "    # Training loop\n",
    "    model.peft_predictor.train()\n",
    "    for epoch in range(num_epochs):\n",
    "        for _ in range(4):  # 10 steps per epoch\n",
    "            outputs = model.peft_predictor(\n",
    "                input_ids=input_ids,\n",
    "                attention_mask=attention_mask,\n",
    "                labels=labels\n",
    "            )\n",
    "            with torch.no_grad():  # Wrap updates in no_grad\n",
    "                acts_orig, logits_orig = get_model_activations(m_orig, text)\n",
    "                # replace_acts(model, text)\n",
    "            acts_lora, logits_lora = get_model_activations(model, text)\n",
    "\n",
    "                # Calculate loss\n",
    "            loss = torch.nn.MSELoss()(acts_lora['attn'], acts_orig['attn']) + torch.nn.CrossEntropyLoss()(logits_lora, logits_orig)\n",
    "\n",
    "            # Update model parameters\n",
    "            optimizer.step()  # Update parameters without tracking gradients\n",
    "            optimizer.zero_grad()  # Clear gradients for the next step\n",
    "\n",
    "            loss.backward()  # Backpropagate the loss\n",
    "            optimizer.zero_grad()\n",
    "        print(f\"Epoch {epoch+1}/{num_epochs}, Loss: {loss.item():.4f}\")\n",
    "\n",
    "    model.peft_predictor.eval()"
   ]
  }
 ],
 "metadata": {
  "kernelspec": {
   "display_name": ".venv",
   "language": "python",
   "name": "python3"
  },
  "language_info": {
   "codemirror_mode": {
    "name": "ipython",
    "version": 3
   },
   "file_extension": ".py",
   "mimetype": "text/x-python",
   "name": "python",
   "nbconvert_exporter": "python",
   "pygments_lexer": "ipython3",
   "version": "3.10.14"
  }
 },
 "nbformat": 4,
 "nbformat_minor": 2
}
