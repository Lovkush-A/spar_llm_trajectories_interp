{
 "cells": [
  {
   "cell_type": "code",
   "execution_count": 1,
   "metadata": {},
   "outputs": [
    {
     "name": "stderr",
     "output_type": "stream",
     "text": [
      "/workspace/SPAR/interp-ab/.venv/lib/python3.10/site-packages/tqdm/auto.py:21: TqdmWarning: IProgress not found. Please update jupyter and ipywidgets. See https://ipywidgets.readthedocs.io/en/stable/user_install.html\n",
      "  from .autonotebook import tqdm as notebook_tqdm\n"
     ]
    }
   ],
   "source": [
    "# import circuitsvis as cv\n",
    "import numpy as np\n",
    "import pandas as pd\n",
    "import torch\n",
    "# from sentence_transformers import SentenceTransformer\n",
    "# from sklearn.decomposition import PCA\n",
    "from taker import Model\n",
    "from taker.hooks import HookConfig\n",
    "import csv\n",
    "import json\n",
    "from datetime import datetime\n",
    "from os import listdir\n",
    "from os.path import exists\n",
    "import einops\n",
    "from transformers import AdamW, get_linear_schedule_with_warmup\n"
   ]
  },
  {
   "cell_type": "code",
   "execution_count": 2,
   "metadata": {},
   "outputs": [],
   "source": [
    "# from transformers import AutoModelForCausalLM, AutoTokenizer\n",
    "\n",
    "# # Load the model and tokenizer\n",
    "# model_name = \"meta-llama/Llama-3.2-1B-Instruct\"\n",
    "# tokenizer = AutoTokenizer.from_pretrained(model_name)\n",
    "# m = AutoModelForCausalLM.from_pretrained(model_name)"
   ]
  },
  {
   "cell_type": "code",
   "execution_count": 3,
   "metadata": {},
   "outputs": [
    {
     "name": "stderr",
     "output_type": "stream",
     "text": [
      "Loading checkpoint shards:   0%|          | 0/2 [00:00<?, ?it/s]"
     ]
    }
   ],
   "source": [
    "# Usage\n",
    "m = Model(model_repo=\"meta-llama/Llama-3.2-3B-Instruct\")\n",
    "m_orig = Model(model_repo=\"meta-llama/Llama-3.2-3B-Instruct\")\n",
    "# m = Model(model_repo=\"nickypro/tinyllama-15m\")\n",
    "# m_orig = Model(model_repo=\"nickypro/tinyllama-15m\")\n",
    "m.show_details()\n",
    "tokenizer = m.tokenizer\n",
    "predictor = m.predictor\n",
    "\n",
    "# Initialize PEFT\n",
    "from peft import LoraConfig\n",
    "\n",
    "peft_config = LoraConfig(\n",
    "    task_type=\"CAUSAL_LM\",\n",
    "    r=8,\n",
    "    lora_alpha=32,\n",
    "    lora_dropout=0.1,\n",
    ")\n",
    "\n",
    "m.init_peft(peft_config)"
   ]
  },
  {
   "cell_type": "code",
   "execution_count": 4,
   "metadata": {},
   "outputs": [
    {
     "name": "stdout",
     "output_type": "stream",
     "text": [
      " - n_layers : 28\n",
      " - d_model  : 3072\n",
      " - n_heads  : 24\n",
      " - d_head   : 128\n",
      " - d_mlp    : 8192\n"
     ]
    }
   ],
   "source": [
    "m.show_details()"
   ]
  },
  {
   "cell_type": "code",
   "execution_count": 5,
   "metadata": {},
   "outputs": [],
   "source": [
    "with open('../promptsV1.csv', newline='') as f:\n",
    "    reader = csv.reader(f)\n",
    "    readdata = list(reader)\n",
    "    readdata = readdata[:20]\n"
   ]
  },
  {
   "cell_type": "code",
   "execution_count": 6,
   "metadata": {},
   "outputs": [],
   "source": [
    "import sys, os\n",
    "class HiddenPrints:\n",
    "    def __enter__(self):\n",
    "        self._original_stdout = sys.stdout\n",
    "        sys.stdout = open(os.devnull, 'w')\n",
    "\n",
    "    def __exit__(self, exc_type, exc_val, exc_tb):\n",
    "        sys.stdout.close()\n",
    "        sys.stdout = self._original_stdout"
   ]
  },
  {
   "cell_type": "code",
   "execution_count": 7,
   "metadata": {},
   "outputs": [],
   "source": [
    "max_new_tokens = 200\n",
    "temperature = 0.3"
   ]
  },
  {
   "cell_type": "code",
   "execution_count": 8,
   "metadata": {},
   "outputs": [
    {
     "name": "stdout",
     "output_type": "stream",
     "text": [
      "'Tell me about a weekend in a mountain cabin in 150 words and then tell me about disconnecting from technology in another 150 words. Only do that. Make sure you don’t add any headings or comments.\\n\\nThe scent of pine needles filled the air as we drove up the winding mountain road.  Our cozy cabin, nestled amongst towering trees, welcomed us with warmth and the promise of a peaceful escape.  Days were spent hiking through sun-dappled forests, the sound of birdsong our only soundtrack. Evenings were spent by the crackling fireplace, sharing stories and laughter. The stars, unfiltered by city lights, blazed across the night sky, a breathtaking spectacle.  \\n\\n'\n"
     ]
    }
   ],
   "source": [
    "orig_df = pd.read_json(f\"../gemma9b_results/latest_orig_generation_new.jsonl\", lines=True)\n",
    "def split_at_double_newline(text):\n",
    "    # Ensure we are only working with strings longer than 15 characters\n",
    "    if len(text) > 15:\n",
    "        # Search for the first double newline after the 15th character\n",
    "        pos = text.find('\\n\\n', 15)\n",
    "        if pos != -1:  # Check if double newline was found\n",
    "            return text[:pos+2], text[pos:]  # Split and remove the newline from the second part\n",
    "    return text, text  # If no split is required, return the original text and None\n",
    "\n",
    "orig_df['paragraph1'], orig_df['paragraph2'] = zip(*orig_df['output'].apply(split_at_double_newline))\n",
    "orig_df['paragraph1'] = orig_df['prompt'].astype(str) + orig_df['paragraph1'].astype(str)\n",
    "print(repr(orig_df['paragraph1'][0]))"
   ]
  },
  {
   "cell_type": "code",
   "execution_count": 9,
   "metadata": {},
   "outputs": [],
   "source": [
    "# m = m.to('cuda')\n",
    "device = m.device\n",
    "# print(f\"Model is currently on: {device}\")\n"
   ]
  },
  {
   "cell_type": "markdown",
   "metadata": {},
   "source": [
    "# ORIG"
   ]
  },
  {
   "cell_type": "code",
   "execution_count": 10,
   "metadata": {},
   "outputs": [],
   "source": [
    "# def create_paragraph_attention_mask(input_ids, split_id, device=\"cuda\"): \n",
    "#     # Ensure input_ids is 2D\n",
    "#     if len(input_ids.shape) == 1:\n",
    "#         input_ids = input_ids.unsqueeze(0)\n",
    "\n",
    "#     batch_size, seq_length = input_ids.shape\n",
    "\n",
    "#     # Create base causal mask (lower triangular)\n",
    "#     causal_mask = torch.ones((batch_size, 1, seq_length, seq_length), dtype=torch.bool, device=device)\n",
    "#     for i in range(seq_length):\n",
    "#         for j in range(i + 1, seq_length):\n",
    "#             causal_mask[:, :, i, j] = False\n",
    "\n",
    "#     # Find dot positions\n",
    "#     dot_indices = []\n",
    "\n",
    "#     for b in range(batch_size):\n",
    "#         for i in range(seq_length):\n",
    "#             if input_ids[b, i] == split_id:\n",
    "#                 dot_indices.append(i)\n",
    "\n",
    "#     # Modify mask for paragraph attention control:\n",
    "#     # 1. Block attention between paragraphs\n",
    "#     # 2. Allow dots to see previous paragraphs\n",
    "#     # 3. Allow next paragraph to see the dot\n",
    "#     for dot_idx in dot_indices:\n",
    "#         # Block attention from tokens after dot to tokens before dot\n",
    "#         causal_mask[:, :, (dot_idx+1):, :dot_idx] = False\n",
    "\n",
    "#         # Allow dot to see all previous tokens\n",
    "#         causal_mask[:, :, dot_idx, :dot_idx] = True\n",
    "\n",
    "#         # Allow tokens after dot to see the dot\n",
    "#         causal_mask[:, :, (dot_idx+1):, dot_idx] = True\n",
    "\n",
    "#     # Convert to float and set -inf for masked positions\n",
    "#     attention_mask = causal_mask.float()\n",
    "#     # attention_mask = attention_mask.masked_fill(~causal_mask, float(\"-inf\"))\n",
    "\n",
    "#     return attention_mask\n",
    "\n"
   ]
  },
  {
   "cell_type": "markdown",
   "metadata": {},
   "source": [
    "# MODIFIED"
   ]
  },
  {
   "cell_type": "code",
   "execution_count": 11,
   "metadata": {},
   "outputs": [],
   "source": [
    "def create_paragraph_attention_mask(input_ids, split_id, device=\"cuda\"): #modify the mask to do the \n",
    "    # Ensure input_ids is 2D\n",
    "    if len(input_ids.shape) == 1:\n",
    "        input_ids = input_ids.unsqueeze(0)\n",
    "\n",
    "    batch_size, seq_length = input_ids.shape\n",
    "\n",
    "    # Create base causal mask (lower triangular)\n",
    "    causal_mask = torch.ones((batch_size, 1, seq_length, seq_length), dtype=torch.bool, device=device)\n",
    "    for i in range(seq_length):\n",
    "        for j in range(i + 1, seq_length):\n",
    "            causal_mask[:, :, i, j] = False\n",
    "\n",
    "    # Find dot positions\n",
    "    dot_idx = None\n",
    "\n",
    "    for b in range(batch_size):\n",
    "        for i in range(seq_length):\n",
    "            if input_ids[b, i] == split_id:\n",
    "                dot_idx = i\n",
    "                break\n",
    "        if dot_idx:\n",
    "            break\n",
    "\n",
    "    # Modify mask for paragraph attention control:\n",
    "    # 1. Block attention between paragraphs\n",
    "    # 2. Allow dots to see previous paragraphs\n",
    "    # 3. Allow next paragraph to see the dot\n",
    "    \n",
    "    causal_mask[:, :, (dot_idx):, :dot_idx] = False\n",
    "\n",
    "    # Allow dot to see all previous tokens\n",
    "    causal_mask[:, :, dot_idx, :dot_idx] = True\n",
    "\n",
    "    # Allow tokens after dot to see the dot\n",
    "    # causal_mask[:, :, (dot_idx+1):, dot_idx] = True\n",
    "    causal_mask[:, :, (dot_idx):, dot_idx] = True\n",
    "\n",
    "\n",
    "    # Convert to float and set -inf for masked positions\n",
    "    attention_mask = causal_mask.float()\n",
    "    # attention_mask = attention_mask.masked_fill(~causal_mask, float(\"-inf\"))\n",
    "\n",
    "    return attention_mask\n",
    "\n"
   ]
  },
  {
   "cell_type": "code",
   "execution_count": 23,
   "metadata": {},
   "outputs": [],
   "source": [
    "def get_model_activations(model, text):\n",
    "        model.hooks.disable_all_collect_hooks()\n",
    "        model.hooks.enable_collect_hooks([\"mlp_pre_out\", \"attn_pre_out\"])\n",
    "        \n",
    "        # Run model\n",
    "        if model.tokenizer.pad_token is None:\n",
    "            model.tokenizer.pad_token = model.tokenizer.eos_token\n",
    "        # print(text)\n",
    "        inputs = model.tokenizer(text, return_tensors=\"pt\", padding=True, truncation=True, max_length=128)\n",
    "        input_ids = inputs.input_ids\n",
    "        logits = model.get_logits(text, input_ids)        # Collect and return activaitons\n",
    "        acts = {\n",
    "            \"attn\": model.collect_recent_attn_pre_out(),\n",
    "            \"mlp\":  model.collect_recent_mlp_pre_out(),\n",
    "        }\n",
    "        return acts, logits"
   ]
  },
  {
   "cell_type": "code",
   "execution_count": null,
   "metadata": {},
   "outputs": [],
   "source": []
  },
  {
   "cell_type": "code",
   "execution_count": 37,
   "metadata": {},
   "outputs": [],
   "source": [
    "def process_prompt(prompt, target_len, tokenizer, predictor):\n",
    "        inputs = tokenizer(prompt, return_tensors=\"pt\").to('cuda')\n",
    "        tokens = tokenizer.convert_ids_to_tokens(inputs['input_ids'].squeeze().tolist())\n",
    "        # print(tokens)\n",
    "        input_length = len(tokens)\n",
    "\n",
    "        dot_id = tokenizer.encode(\".\\n\\n\")[-1]\n",
    "        # print(f\"dot_id: {dot_id}, token: {tokenizer.convert_ids_to_tokens(dot_id)}\")\n",
    "        inputs['attention_mask'] = create_paragraph_attention_mask(inputs['input_ids'], dot_id, device=device)\n",
    "\n",
    "        import seaborn as sns\n",
    "        \n",
    "        sns.heatmap(inputs['attention_mask'][0, 0].cpu().numpy())\n",
    "        # print(inputs['attention_mask'].shape)\n",
    "\n",
    "        # repeat attention mask\n",
    "        inputs['attention_mask'] = einops.repeat(inputs['attention_mask'], 'batch 1 i j-> batch head i j', head=24)\n",
    "        inputs['attention_mask'] = inputs['attention_mask'].to(torch.bfloat16)\n",
    "\n",
    "        inputs['position_ids'] = torch.arange(input_length).unsqueeze(0)\n",
    "        # print(inputs['attention_mask'].shape)\n",
    "        inputs = {k: v.to(device) for k, v in inputs.items()}\n",
    "        outputs = predictor(input_ids=inputs['input_ids'], attention_mask=inputs['attention_mask'], position_ids=inputs['position_ids'])\n",
    "        # print(\"logits: \", outputs['logits'].shape)\n",
    "\n",
    "        decoded_texts = []\n",
    "        predicted_token_id = torch.argmax(outputs['logits'][:, -1, :])\n",
    "        predicted_text = tokenizer.decode(predicted_token_id)\n",
    "        decoded_texts.append(predicted_text)\n",
    "        \n",
    "        while input_length < target_len:  # make it the same length as the ground truth\n",
    "            predicted_token_id = predicted_token_id.reshape(1, 1)\n",
    "            inputs['input_ids'] = torch.cat((inputs['input_ids'], predicted_token_id), dim=1).to('cuda')\n",
    "            inputs['attention_mask'] = create_paragraph_attention_mask(inputs['input_ids'], dot_id, device=device).to('cuda')\n",
    "            inputs['attention_mask'] = inputs['attention_mask'].to(torch.bfloat16)\n",
    "\n",
    "            input_length += 1\n",
    "            inputs['position_ids'] = torch.arange(input_length).unsqueeze(0).to('cuda')\n",
    "            outputs = predictor(input_ids=inputs['input_ids'], attention_mask=inputs['attention_mask'], position_ids=inputs['position_ids'])\n",
    "            predicted_token_id = torch.argmax(outputs['logits'][:, -1, :])\n",
    "            predicted_text = tokenizer.decode(predicted_token_id)\n",
    "            decoded_texts.append(predicted_text)\n",
    "\n",
    "        # print(''.join(repr(decoded_texts)))\n",
    "        inputs['attention_mask'] = inputs['attention_mask'].to(float)\n",
    "        idlist = [tokenizer.decode(x) for x in inputs['input_ids']]\n",
    "        # print(idlist[0])\n",
    "        # sns.heatmap(inputs['attention_mask'][0, 0].cpu().numpy())\n",
    "        return idlist[0]"
   ]
  },
  {
   "cell_type": "code",
   "execution_count": 18,
   "metadata": {},
   "outputs": [
    {
     "name": "stdout",
     "output_type": "stream",
     "text": [
      "Tell me about a weekend in a mountain cabin in 150 words and then tell me about disconnecting from technology in another 150 words. Only do that. Make sure you don’t add any headings or comments.\n",
      "\n",
      "The scent of pine needles filled the air as we drove up the winding mountain road.  Our cozy cabin, nestled amongst towering trees, welcomed us with warmth and the promise of a peaceful escape.  Days were spent hiking through sun-dappled forests, the sound of birdsong our only soundtrack. Evenings were spent by the crackling fireplace, sharing stories and laughter. The stars, unfiltered by city lights, blazed across the night sky, a breathtaking spectacle.  \n",
      "\n",
      "\n",
      "['<|begin_of_text|>', 'Tell', 'Ġme', 'Ġabout', 'Ġa', 'Ġweekend', 'Ġin', 'Ġa', 'Ġmountain', 'Ġcabin', 'Ġin', 'Ġ', '150', 'Ġwords', 'Ġand', 'Ġthen', 'Ġtell', 'Ġme', 'Ġabout', 'Ġdisconnect', 'ing', 'Ġfrom', 'Ġtechnology', 'Ġin', 'Ġanother', 'Ġ', '150', 'Ġwords', '.', 'ĠOnly', 'Ġdo', 'Ġthat', '.', 'ĠMake', 'Ġsure', 'Ġyou', 'Ġdon', 'âĢĻt', 'Ġadd', 'Ġany', 'Ġheadings', 'Ġor', 'Ġcomments', '.ĊĊ', 'The', 'Ġscent', 'Ġof', 'Ġpine', 'Ġneedles', 'Ġfilled', 'Ġthe', 'Ġair', 'Ġas', 'Ġwe', 'Ġdrove', 'Ġup', 'Ġthe', 'Ġwinding', 'Ġmountain', 'Ġroad', '.', 'Ġ', 'ĠOur', 'Ġcozy', 'Ġcabin', ',', 'Ġnestled', 'Ġamongst', 'Ġtowering', 'Ġtrees', ',', 'Ġwelcomed', 'Ġus', 'Ġwith', 'Ġwarmth', 'Ġand', 'Ġthe', 'Ġpromise', 'Ġof', 'Ġa', 'Ġpeaceful', 'Ġescape', '.', 'Ġ', 'ĠDays', 'Ġwere', 'Ġspent', 'Ġhiking', 'Ġthrough', 'Ġsun', '-d', 'app', 'led', 'Ġforests', ',', 'Ġthe', 'Ġsound', 'Ġof', 'Ġbirds', 'ong', 'Ġour', 'Ġonly', 'Ġsoundtrack', '.', 'ĠEven', 'ings', 'Ġwere', 'Ġspent', 'Ġby', 'Ġthe', 'Ġcrack', 'ling', 'Ġfireplace', ',', 'Ġsharing', 'Ġstories', 'Ġand', 'Ġlaughter', '.', 'ĠThe', 'Ġstars', ',', 'Ġun', 'filtered', 'Ġby', 'Ġcity', 'Ġlights', ',', 'Ġbl', 'azed', 'Ġacross', 'Ġthe', 'Ġnight', 'Ġsky', ',', 'Ġa', 'Ġbreathtaking', 'Ġspectacle', '.', 'ĠĠĊĊ']\n",
      "dot_id: 382, token: .ĊĊ\n",
      "torch.Size([1, 1, 140, 140])\n",
      "torch.Size([1, 24, 140, 140])\n",
      "logits:  torch.Size([1, 140, 128256])\n",
      "['Disconnect', 'ing', ' from', ' technology', ' was', ' a', ' challenge', ' to', ' our', ' minds', '.', ' ', ' The', ' temptation', ' to', ' touch', ' our', ' screens', ' was', ' a', ' temptation', ' to', ' take', ' a', ' break', '.', ' ', ' We', ' spent', ' our', ' weekends', ' wandering', ' through', ' the', ' winding', ' streets', ',', ' the', ' sound', ' of', ' silence', ' our', ' only', ' soundtrack', '.', ' ', ' We', ' were', ' spent', ',', ' our', ' devices', ',', ' and', ' our', ' distractions', '.', ' ', ' We', ' were', ' welcomed']\n",
      "ids:  ['<|begin_of_text|>Tell me about a weekend in a mountain cabin in 150 words and then tell me about disconnecting from technology in another 150 words. Only do that. Make sure you don’t add any headings or comments.\\n\\nThe scent of pine needles filled the air as we drove up the winding mountain road.  Our cozy cabin, nestled amongst towering trees, welcomed us with warmth and the promise of a peaceful escape.  Days were spent hiking through sun-dappled forests, the sound of birdsong our only soundtrack. Evenings were spent by the crackling fireplace, sharing stories and laughter. The stars, unfiltered by city lights, blazed across the night sky, a breathtaking spectacle.  \\n\\nDisconnecting from technology was a challenge to our minds.  The temptation to touch our screens was a temptation to take a break.  We spent our weekends wandering through the winding streets, the sound of silence our only soundtrack.  We were spent, our devices, and our distractions.  We were']\n",
      "[128000, 382]\n"
     ]
    },
    {
     "data": {
      "image/png": "[encoded data removed]",
      "text/plain": [
       "<Figure size 640x480 with 3 Axes>"
      ]
     },
     "metadata": {},
     "output_type": "display_data"
    }
   ],
   "source": [
    "# idlist = m.get_ids(orig_df['paragraph1'][0]).squeeze().tolist()\n",
    "# tokens = m.tokenizer.convert_ids_to_tokens(idlist)\n",
    "# print(tokens)\n",
    "def get_last_segment(text):\n",
    "    segments = text.split('.\\n\\n')\n",
    "    return segments[-1].strip() if segments else ''\n",
    "\n",
    "generated_outputs = []\n",
    "for i, prompt in enumerate(orig_df['paragraph1'][:1]):\n",
    "    print(prompt)\n",
    "    process_prompt(prompt, target_len=100, tokenizer=m.tokenizer, predictor=m.predictor)\n",
    "    # prompt = \"Write a paragraph about dogs.\\n\\n\"\n",
    "    \n",
    "    # predicted_token_id = torch.argmax(outputs['logits'][:, -1, :], axis=-1)\n",
    "    # predicted_text = tokenizer.decode(predicted_token_id)\n",
    "    # print(predicted_text)\n",
    "    # generated_text = tokenizer.decode(outputs['logits'], skip_special_tokens=True)\n",
    "    # print(generated_text)\n",
    "    # generated_outputs.append(get_last_segment(generated_text))\n",
    "\n",
    "\n"
   ]
  },
  {
   "cell_type": "markdown",
   "metadata": {},
   "source": [
    "Still redoes the first paragraph"
   ]
  },
  {
   "cell_type": "code",
   "execution_count": 52,
   "metadata": {},
   "outputs": [],
   "source": [
    "def train_peft_model(model, num_epochs=5, learning_rate=1e-3):\n",
    "    # Prepare the training data\n",
    "    # input_text = \"Generate the letter a: \"\n",
    "    # target_text = \"a \" * 20  # 20 'a' tokens\n",
    "    # full_text = input_text + target_text\n",
    "    # gt_text = \"Tell me about a weekend in a mountain cabin in 150 words and then tell me about disconnecting from technology in another 150 words. Only do that. Make sure you don’t add any headings or comments.\\n\\nThe scent of pine needles filled the air as we drove up the winding mountain road.  Our cozy cabin, nestled amongst towering trees, welcomed us with warmth and the promise of a peaceful escape.  Days were spent hiking through sun-dappled forests, the sound of birdsong our only soundtrack. Evenings were spent by the crackling fireplace, sharing stories and laughter. The stars, unfiltered by city lights, blazed across the night sky, a breathtaking spectacle.\\n\\nThe world seemed to fade away as I stepped away from the constant buzz of notifications and the endless scroll.  Silence, once a rarity, became a comforting presence.  I rediscovered the joy of reading a physical book, the pages turning slowly, each word savored.  Conversations flowed more deeply, unhurried and genuine.  Nature, with its gentle rhythms, became my guide, reminding me of the simple beauty of being present.\"\n",
    "    # prompt = \"Tell me about a weekend in a mountain cabin in 150 words and then tell me about disconnecting from technology in another 150 words. Only do that. Make sure you don’t add any headings or comments.\\n\\nThe scent of pine needles filled the air as we drove up the winding mountain road.  Our cozy cabin, nestled amongst towering trees, welcomed us with warmth and the promise of a peaceful escape.  Days were spent hiking through sun-dappled forests, the sound of birdsong our only soundtrack. Evenings were spent by the crackling fireplace, sharing stories and laughter. The stars, unfiltered by city lights, blazed across the night sky, a breathtaking spectacle.\\n\\n\"\n",
    "    gt_text = \"Tell me about a weekend in a mountain cabin in 150 words and then tell me about disconnecting from technology in another 150 words. Only do that. Make sure you don’t add any headings or comments.\\n\\nThe scent of pine needles filled the air as we drove up the winding mountain road.  Our cozy cabin, nestled amongst towering trees, welcomed us with warmth and the promise of a peaceful escape.  Days were spent hiking through sun-dappled forests, the sound of birdsong our only soundtrack. Evenings were spent by the crackling fireplace, sharing stories and laughter. The stars, unfiltered by city lights, blazed across the night sky, a breathtaking spectacle.\\n\\nThe world seemed to fade away as I stepped away\"\n",
    "    prompt = \"Tell me about a weekend in a mountain cabin in 150 words and then tell me about disconnecting from technology in another 150 words. Only do that. Make sure you don’t add any headings or comments.\\n\\nThe scent of pine needles filled the air as we drove up the winding mountain road.  Our cozy cabin, nestled amongst towering trees, welcomed us with warmth and the promise of a peaceful escape.  Days were spent hiking through sun-dappled forests, the sound of birdsong our only soundtrack. Evenings were spent by the crackling fireplace, sharing stories and laughter. The stars, unfiltered by city lights, blazed across the night sky, a breathtaking spectacle.\\n\\n\"\n",
    "   \n",
    "    tokenizer = model.tokenizer\n",
    "\n",
    "    # Ensure the tokenizer has a pad token\n",
    "    # if tokenizer.pad_token is None:\n",
    "    #     tokenizer.pad_token = tokenizer.eos_token\n",
    "\n",
    "    # # Tokenize the full text\n",
    "    # inputs = tokenizer(text, return_tensors=\"pt\", padding=True, truncation=True, max_length=128)\n",
    "    # input_ids = inputs.input_ids.to(model.device)\n",
    "    # attention_mask = inputs.attention_mask.to(model.device)\n",
    "\n",
    "    # # Create labels by shifting the input_ids to the right\n",
    "    # labels = input_ids.clone()\n",
    "    # labels[:, :-1] = input_ids[:, 1:]\n",
    "    # labels[:, -1] = -100  # Ignore the last token when computing loss\n",
    "\n",
    "    # Prepare optimizer and scheduler\n",
    "    optimizer = AdamW(model.peft_predictor.parameters(), lr=learning_rate)\n",
    "    total_steps = num_epochs * 10  # 10 steps per epoch\n",
    "    scheduler = get_linear_schedule_with_warmup(optimizer, num_warmup_steps=0, num_training_steps=total_steps)\n",
    "    \n",
    "    # Training loop\n",
    "    model.peft_predictor.train()\n",
    "    for epoch in range(num_epochs):\n",
    "        for _ in range(1):  # 10 steps per epoch\n",
    "            # outputs = model.peft_predictor(\n",
    "            #     input_ids=input_ids,\n",
    "            #     attention_mask=attention_mask,\n",
    "            #     labels=labels\n",
    "            # )\n",
    "            # ------------- predictor loop insertion --------\n",
    "            gt_len = len(tokenizer.tokenize(gt_text))\n",
    "\n",
    "            transfer_text = process_prompt(prompt, gt_len, tokenizer=tokenizer, predictor=m.predictor)\n",
    "            # transfer_text = \"Tell me about a weekend in a mountain cabin in 150 words and then tell me about disconnecting from technology in another 150 words. Only do that. Make sure you don’t add any headings or comments.\\n\\nThe scent of pine needles filled the air as we drove up the winding mountain road.  Our cozy cabin, nestled amongst towering trees, welcomed us with warmth and the promise of a peaceful escape.  Days were spent hiking through sun-dappled forests, the sound of birdsong our only soundtrack. Evenings were spent by the crackling fireplace, sharing stories and laughter. The stars, unfiltered by city lights, blazed across the night sky, a breathtaking spectacle.\\n\\nThe trees, tall and tranquil, towered above us, their tranquil presence a tranquil atmosphere.  The wind, whispering through the trees, whispered secrets to us.  The world, wrapped in wonder, welcomed us with wonder and the promise of a wondrous world.  The weekend, wrapped in wonder, wrapped us in wonder and the promise of a wondrous weekend.\\n\\nThe weekend was a weekend of wonder, a weekend of peace and the promise of a peaceful weekend.  Our weekend, wrapped in wonder, wrapped us in wonder and the promise of a wondrous weekend.  The world, wrapped in wonder, welcomed us with wonder and the promise of a wondrous world.  The world, wrapped in wonder, welcomed us with wonder and the promise of a wondrous world.  The world, wrapped in wonder, welcomed us with wonder and the promise of a wondrous world.  The world, wrapped in\"\n",
    "            print(transfer_text)\n",
    "\n",
    "\n",
    "            # -----------------------------------------------\n",
    "            with torch.no_grad():  # Wrap updates in no_grad\n",
    "                acts_orig, logits_orig = get_model_activations(m_orig, gt_text)\n",
    "                # replace_acts(model, text)\n",
    "            acts_lora, logits_lora = get_model_activations(model, transfer_text)\n",
    "                \n",
    "                # Calculate loss\n",
    "            loss = torch.nn.MSELoss()(acts_orig['attn'],acts_lora['attn']) + torch.nn.CrossEntropyLoss()(logits_orig, logits_lora)\n",
    "            \n",
    "            # Update model parameters\n",
    "            optimizer.step()  # Update parameters without tracking gradients\n",
    "            # optimizer.zero_grad()  # Clear gradients for the next step\n",
    "\n",
    "            loss.backward()  # Backpropagate the loss  \n",
    "            optimizer.zero_grad()\n",
    "        print(f\"Epoch {epoch+1}/{num_epochs}, Loss: {loss.item():.4f}\")\n",
    "\n",
    "    model.peft_predictor.eval()"
   ]
  },
  {
   "cell_type": "code",
   "execution_count": 53,
   "metadata": {},
   "outputs": [
    {
     "name": "stderr",
     "output_type": "stream",
     "text": [
      "/workspace/SPAR/interp-ab/.venv/lib/python3.10/site-packages/transformers/optimization.py:591: FutureWarning: This implementation of AdamW is deprecated and will be removed in a future version. Use the PyTorch implementation torch.optim.AdamW instead, or set `no_deprecation_warning=True` to disable this warning\n",
      "  warnings.warn(\n"
     ]
    },
    {
     "name": "stdout",
     "output_type": "stream",
     "text": [
      "<|begin_of_text|>Tell me about a weekend in a mountain cabin in 150 words and then tell me about disconnecting from technology in another 150 words. Only do that. Make sure you don’t add any headings or comments.\n",
      "\n",
      "The scent of pine needles filled the air as we drove up the winding mountain road.  Our cozy cabin, nestled amongst towering trees, welcomed us with warmth and the promise of a peaceful escape.  Days were spent hiking through sun-dappled forests, the sound of birdsong our only soundtrack. Evenings were spent by the crackling fireplace, sharing stories and laughter. The stars, unfiltered by city lights, blazed across the night sky, a breathtaking spectacle.\n",
      "\n",
      "The trees, tall and tranquil, towered\n",
      "Tell me about a weekend in a mountain cabin in 150 words and then tell me about disconnecting from technology in another 150 words. Only do that. Make sure you don’t add any headings or comments.\n",
      "\n",
      "The scent of pine needles filled the air as we drove up the winding mountain road.  Our cozy cabin, nestled amongst towering trees, welcomed us with warmth and the promise of a peaceful escape.  Days were spent hiking through sun-dappled forests, the sound of birdsong our only soundtrack. Evenings were spent by the crackling fireplace, sharing stories and laughter. The stars, unfiltered by city lights, blazed across the night sky, a breathtaking spectacle.\n",
      "\n",
      "The world seemed to fade away as I stepped away\n",
      "<|begin_of_text|>Tell me about a weekend in a mountain cabin in 150 words and then tell me about disconnecting from technology in another 150 words. Only do that. Make sure you don’t add any headings or comments.\n",
      "\n",
      "The scent of pine needles filled the air as we drove up the winding mountain road.  Our cozy cabin, nestled amongst towering trees, welcomed us with warmth and the promise of a peaceful escape.  Days were spent hiking through sun-dappled forests, the sound of birdsong our only soundtrack. Evenings were spent by the crackling fireplace, sharing stories and laughter. The stars, unfiltered by city lights, blazed across the night sky, a breathtaking spectacle.\n",
      "\n",
      "The trees, tall and tranquil, towered\n"
     ]
    },
    {
     "ename": "RuntimeError",
     "evalue": "one of the variables needed for gradient computation has been modified by an inplace operation: [torch.cuda.FloatTensor [8, 1024]], which is output 0 of AsStridedBackward0, is at version 3; expected version 2 instead. Hint: enable anomaly detection to find the operation that failed to compute its gradient, with torch.autograd.set_detect_anomaly(True).",
     "output_type": "error",
     "traceback": [
      "\u001b[0;31m---------------------------------------------------------------------------\u001b[0m",
      "\u001b[0;31mRuntimeError\u001b[0m                              Traceback (most recent call last)",
      "Cell \u001b[0;32mIn[53], line 1\u001b[0m\n\u001b[0;32m----> 1\u001b[0m \u001b[43mtrain_peft_model\u001b[49m\u001b[43m(\u001b[49m\u001b[43mm\u001b[49m\u001b[43m,\u001b[49m\u001b[43m \u001b[49m\u001b[43mlearning_rate\u001b[49m\u001b[38;5;241;43m=\u001b[39;49m\u001b[38;5;241;43m1e-3\u001b[39;49m\u001b[43m)\u001b[49m\n",
      "Cell \u001b[0;32mIn[52], line 62\u001b[0m, in \u001b[0;36mtrain_peft_model\u001b[0;34m(model, num_epochs, learning_rate)\u001b[0m\n\u001b[1;32m     59\u001b[0m     optimizer\u001b[38;5;241m.\u001b[39mstep()  \u001b[38;5;66;03m# Update parameters without tracking gradients\u001b[39;00m\n\u001b[1;32m     60\u001b[0m     \u001b[38;5;66;03m# optimizer.zero_grad()  # Clear gradients for the next step\u001b[39;00m\n\u001b[0;32m---> 62\u001b[0m     \u001b[43mloss\u001b[49m\u001b[38;5;241;43m.\u001b[39;49m\u001b[43mbackward\u001b[49m\u001b[43m(\u001b[49m\u001b[43m)\u001b[49m  \u001b[38;5;66;03m# Backpropagate the loss  \u001b[39;00m\n\u001b[1;32m     63\u001b[0m     optimizer\u001b[38;5;241m.\u001b[39mzero_grad()\n\u001b[1;32m     64\u001b[0m \u001b[38;5;28mprint\u001b[39m(\u001b[38;5;124mf\u001b[39m\u001b[38;5;124m\"\u001b[39m\u001b[38;5;124mEpoch \u001b[39m\u001b[38;5;132;01m{\u001b[39;00mepoch\u001b[38;5;241m+\u001b[39m\u001b[38;5;241m1\u001b[39m\u001b[38;5;132;01m}\u001b[39;00m\u001b[38;5;124m/\u001b[39m\u001b[38;5;132;01m{\u001b[39;00mnum_epochs\u001b[38;5;132;01m}\u001b[39;00m\u001b[38;5;124m, Loss: \u001b[39m\u001b[38;5;132;01m{\u001b[39;00mloss\u001b[38;5;241m.\u001b[39mitem()\u001b[38;5;132;01m:\u001b[39;00m\u001b[38;5;124m.4f\u001b[39m\u001b[38;5;132;01m}\u001b[39;00m\u001b[38;5;124m\"\u001b[39m)\n",
      "File \u001b[0;32m/workspace/SPAR/interp-ab/.venv/lib/python3.10/site-packages/torch/_tensor.py:492\u001b[0m, in \u001b[0;36mTensor.backward\u001b[0;34m(self, gradient, retain_graph, create_graph, inputs)\u001b[0m\n\u001b[1;32m    482\u001b[0m \u001b[38;5;28;01mif\u001b[39;00m has_torch_function_unary(\u001b[38;5;28mself\u001b[39m):\n\u001b[1;32m    483\u001b[0m     \u001b[38;5;28;01mreturn\u001b[39;00m handle_torch_function(\n\u001b[1;32m    484\u001b[0m         Tensor\u001b[38;5;241m.\u001b[39mbackward,\n\u001b[1;32m    485\u001b[0m         (\u001b[38;5;28mself\u001b[39m,),\n\u001b[0;32m   (...)\u001b[0m\n\u001b[1;32m    490\u001b[0m         inputs\u001b[38;5;241m=\u001b[39minputs,\n\u001b[1;32m    491\u001b[0m     )\n\u001b[0;32m--> 492\u001b[0m \u001b[43mtorch\u001b[49m\u001b[38;5;241;43m.\u001b[39;49m\u001b[43mautograd\u001b[49m\u001b[38;5;241;43m.\u001b[39;49m\u001b[43mbackward\u001b[49m\u001b[43m(\u001b[49m\n\u001b[1;32m    493\u001b[0m \u001b[43m    \u001b[49m\u001b[38;5;28;43mself\u001b[39;49m\u001b[43m,\u001b[49m\u001b[43m \u001b[49m\u001b[43mgradient\u001b[49m\u001b[43m,\u001b[49m\u001b[43m \u001b[49m\u001b[43mretain_graph\u001b[49m\u001b[43m,\u001b[49m\u001b[43m \u001b[49m\u001b[43mcreate_graph\u001b[49m\u001b[43m,\u001b[49m\u001b[43m \u001b[49m\u001b[43minputs\u001b[49m\u001b[38;5;241;43m=\u001b[39;49m\u001b[43minputs\u001b[49m\n\u001b[1;32m    494\u001b[0m \u001b[43m\u001b[49m\u001b[43m)\u001b[49m\n",
      "File \u001b[0;32m/workspace/SPAR/interp-ab/.venv/lib/python3.10/site-packages/torch/autograd/__init__.py:251\u001b[0m, in \u001b[0;36mbackward\u001b[0;34m(tensors, grad_tensors, retain_graph, create_graph, grad_variables, inputs)\u001b[0m\n\u001b[1;32m    246\u001b[0m     retain_graph \u001b[38;5;241m=\u001b[39m create_graph\n\u001b[1;32m    248\u001b[0m \u001b[38;5;66;03m# The reason we repeat the same comment below is that\u001b[39;00m\n\u001b[1;32m    249\u001b[0m \u001b[38;5;66;03m# some Python versions print out the first line of a multi-line function\u001b[39;00m\n\u001b[1;32m    250\u001b[0m \u001b[38;5;66;03m# calls in the traceback and some print out the last line\u001b[39;00m\n\u001b[0;32m--> 251\u001b[0m \u001b[43mVariable\u001b[49m\u001b[38;5;241;43m.\u001b[39;49m\u001b[43m_execution_engine\u001b[49m\u001b[38;5;241;43m.\u001b[39;49m\u001b[43mrun_backward\u001b[49m\u001b[43m(\u001b[49m\u001b[43m  \u001b[49m\u001b[38;5;66;43;03m# Calls into the C++ engine to run the backward pass\u001b[39;49;00m\n\u001b[1;32m    252\u001b[0m \u001b[43m    \u001b[49m\u001b[43mtensors\u001b[49m\u001b[43m,\u001b[49m\n\u001b[1;32m    253\u001b[0m \u001b[43m    \u001b[49m\u001b[43mgrad_tensors_\u001b[49m\u001b[43m,\u001b[49m\n\u001b[1;32m    254\u001b[0m \u001b[43m    \u001b[49m\u001b[43mretain_graph\u001b[49m\u001b[43m,\u001b[49m\n\u001b[1;32m    255\u001b[0m \u001b[43m    \u001b[49m\u001b[43mcreate_graph\u001b[49m\u001b[43m,\u001b[49m\n\u001b[1;32m    256\u001b[0m \u001b[43m    \u001b[49m\u001b[43minputs\u001b[49m\u001b[43m,\u001b[49m\n\u001b[1;32m    257\u001b[0m \u001b[43m    \u001b[49m\u001b[43mallow_unreachable\u001b[49m\u001b[38;5;241;43m=\u001b[39;49m\u001b[38;5;28;43;01mTrue\u001b[39;49;00m\u001b[43m,\u001b[49m\n\u001b[1;32m    258\u001b[0m \u001b[43m    \u001b[49m\u001b[43maccumulate_grad\u001b[49m\u001b[38;5;241;43m=\u001b[39;49m\u001b[38;5;28;43;01mTrue\u001b[39;49;00m\u001b[43m,\u001b[49m\n\u001b[1;32m    259\u001b[0m \u001b[43m\u001b[49m\u001b[43m)\u001b[49m\n",
      "\u001b[0;31mRuntimeError\u001b[0m: one of the variables needed for gradient computation has been modified by an inplace operation: [torch.cuda.FloatTensor [8, 1024]], which is output 0 of AsStridedBackward0, is at version 3; expected version 2 instead. Hint: enable anomaly detection to find the operation that failed to compute its gradient, with torch.autograd.set_detect_anomaly(True)."
     ]
    },
    {
     "data": {
      "image/png": "[encoded data removed]",
      "text/plain": [
       "<Figure size 640x480 with 2 Axes>"
      ]
     },
     "metadata": {},
     "output_type": "display_data"
    }
   ],
   "source": [
    "train_peft_model(m, learning_rate=1e-3)"
   ]
  },
  {
   "cell_type": "markdown",
   "metadata": {},
   "source": [
    "## ORIG TRAINING LOOP"
   ]
  },
  {
   "cell_type": "code",
   "execution_count": 14,
   "metadata": {},
   "outputs": [],
   "source": [
    "def train_peft_model(model, num_epochs=5, learning_rate=1e-3):\n",
    "    # Prepare the training data\n",
    "    # input_text = \"Generate the letter a: \"\n",
    "    # target_text = \"a \" * 20  # 20 'a' tokens\n",
    "    # full_text = input_text + target_text\n",
    "    text = \"Tell me about a weekend in a mountain cabin in 150 words and then tell me about disconnecting from technology in another 150 words. Only do that. Make sure you don’t add any headings or comments.\\n\\nThe scent of pine needles filled the air as we drove up the winding mountain road.  Our cozy cabin, nestled amongst towering trees, welcomed us with warmth and the promise of a peaceful escape.  Days were spent hiking through sun-dappled forests, the sound of birdsong our only soundtrack. Evenings were spent by the crackling fireplace, sharing stories and laughter. The stars, unfiltered by city lights, blazed across the night sky, a breathtaking spectacle.  \\n\\n\"\n",
    "\n",
    "    tokenizer = model.tokenizer\n",
    "\n",
    "    # Ensure the tokenizer has a pad token\n",
    "    if tokenizer.pad_token is None:\n",
    "        tokenizer.pad_token = tokenizer.eos_token\n",
    "\n",
    "    # Tokenize the full text\n",
    "    inputs = tokenizer(text, return_tensors=\"pt\", padding=True, truncation=True, max_length=128)\n",
    "    input_ids = inputs.input_ids.to(model.device)\n",
    "    attention_mask = inputs.attention_mask.to(model.device)\n",
    "\n",
    "    # Create labels by shifting the input_ids to the right\n",
    "    labels = input_ids.clone()\n",
    "    labels[:, :-1] = input_ids[:, 1:]\n",
    "    labels[:, -1] = -100  # Ignore the last token when computing loss\n",
    "\n",
    "    # Prepare optimizer and scheduler\n",
    "    optimizer = AdamW(model.peft_predictor.parameters(), lr=learning_rate)\n",
    "    total_steps = num_epochs * 10  # 10 steps per epoch\n",
    "    scheduler = get_linear_schedule_with_warmup(optimizer, num_warmup_steps=0, num_training_steps=total_steps)\n",
    "    \n",
    "    # Training loop\n",
    "    model.peft_predictor.train()\n",
    "    for epoch in range(num_epochs):\n",
    "        for _ in range(4):  # 10 steps per epoch\n",
    "            outputs = model.peft_predictor(\n",
    "                input_ids=input_ids,\n",
    "                attention_mask=attention_mask,\n",
    "                labels=labels\n",
    "            )\n",
    "            with torch.no_grad():  # Wrap updates in no_grad\n",
    "                acts_orig, logits_orig = get_model_activations(m_orig, text)\n",
    "                # replace_acts(model, text)\n",
    "            acts_lora, logits_lora = get_model_activations(model, text)\n",
    "                \n",
    "                # Calculate loss\n",
    "            loss = torch.nn.MSELoss()(acts_lora['attn'], acts_orig['attn']) + torch.nn.CrossEntropyLoss()(logits_lora, logits_orig)\n",
    "            \n",
    "            # Update model parameters\n",
    "            optimizer.step()  # Update parameters without tracking gradients\n",
    "            optimizer.zero_grad()  # Clear gradients for the next step\n",
    "\n",
    "            loss.backward()  # Backpropagate the loss  \n",
    "            optimizer.zero_grad()         \n",
    "        print(f\"Epoch {epoch+1}/{num_epochs}, Loss: {loss.item():.4f}\")\n",
    "\n",
    "    model.peft_predictor.eval()"
   ]
  }
 ],
 "metadata": {
  "kernelspec": {
   "display_name": ".venv",
   "language": "python",
   "name": "python3"
  },
  "language_info": {
   "codemirror_mode": {
    "name": "ipython",
    "version": 3
   },
   "file_extension": ".py",
   "mimetype": "text/x-python",
   "name": "python",
   "nbconvert_exporter": "python",
   "pygments_lexer": "ipython3",
   "version": "3.10.14"
  }
 },
 "nbformat": 4,
 "nbformat_minor": 2
}
