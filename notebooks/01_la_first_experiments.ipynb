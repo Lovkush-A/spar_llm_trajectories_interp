{
 "cells": [
  {
   "cell_type": "code",
   "execution_count": null,
   "metadata": {},
   "outputs": [],
   "source": [
    "import transformer_lens.utils as utils\n",
    "from transformer_lens import HookedTransformer\n",
    "from transformer_lens.loading_from_pretrained import OFFICIAL_MODEL_NAMES\n",
    "\n",
    "from datetime import datetime\n",
    "import json"
   ]
  },
  {
   "cell_type": "code",
   "execution_count": null,
   "metadata": {},
   "outputs": [],
   "source": [
    "device = utils.get_device()\n",
    "print(device)"
   ]
  },
  {
   "cell_type": "code",
   "execution_count": null,
   "metadata": {},
   "outputs": [],
   "source": [
    "OFFICIAL_MODEL_NAMES"
   ]
  },
  {
   "cell_type": "code",
   "execution_count": null,
   "metadata": {},
   "outputs": [],
   "source": [
    "model_name = \"microsoft/Phi-3-mini-4k-instruct\"\n",
    "# model_name = \"meta-llama/Meta-Llama-3-8B-Instruct\"\n",
    "# model_name = \"gpt2-large\"\n",
    "\n",
    "model = HookedTransformer.from_pretrained(model_name=model_name, device=device)"
   ]
  },
  {
   "cell_type": "code",
   "execution_count": null,
   "metadata": {},
   "outputs": [],
   "source": [
    "prompt = \"\"\"\n",
    "Write a short blog post about a recipe and the inspiration behind it.\n",
    " Do not include a title.\n",
    " Only reveal the dish after the story.\n",
    " Start with a one, two or three paragraph story and then move to the recipe.\n",
    " To re-iterate, do not include a title.\n",
    "\"\"\".replace(\n",
    "    \"\\n\", \"\"\n",
    ")\n",
    "\n",
    "start = \"\"\"\n",
    "The recipe I’m sharing today is an amalgamation of my grandmother's traditional Italian pasta dish and my\n",
    "zzzrecent trip to Italy. \n",
    "\n",
    "My grandmother, Nonna Maria, always made the most delicious pasta. We would gather around the table,\n",
    "zzzeagerly awaiting the rich aroma that filled our kitchen every time she prepared her signature dish.\n",
    "zzzThe scent would always linger in the air, as if it was a promise of the warmth and love that accompanied\n",
    "zzzeach bite. \n",
    "\n",
    "When I travelled to Italy, I was determined to recreate the dish to the best of my abilities. I spent hours\n",
    "zzzexploring the bustling markets, indulging in the local cuisine, and soaking up the vibrant culture.\n",
    "zzzEvery meal was an experience, and I was eager to incorporate the flavors and techniques I learned into\n",
    "zzzmy recipe.\n",
    "\n",
    "After returning home, I sat down to deconstruct the dish and rebuild it in my kitchen. I started with\n",
    "zzzthe pasta, carefully selecting the perfect type of wheat and rolling it out to the perfect thickness.\n",
    "zzzThe sauce was a blend of traditional Italian ingredients, infused with my unique twist. The result was\n",
    "zzza dish that not only brought back cherished memories but also embodied the spirit of my journey through\n",
    "zzzItaly.\n",
    "\n",
    "\"\"\".replace(\n",
    "    \"\\nzzz\", \" \"\n",
    ")\n",
    "\n",
    "print(prompt)\n",
    "print(start)"
   ]
  },
  {
   "cell_type": "code",
   "execution_count": null,
   "metadata": {},
   "outputs": [],
   "source": [
    "temperature = 0.7\n",
    "\n",
    "for _ in range(1):\n",
    "    output = model.generate(\n",
    "        input=prompt + \"\\n\\n\" + start,\n",
    "        max_new_tokens=300,\n",
    "        temperature=temperature,\n",
    "        prepend_bos=False,\n",
    "    )\n",
    "\n",
    "    # export output to json file, also tracking choices made\n",
    "    current_time = datetime.now().strftime(\"%Y-%m-%d_%H-%M-%S\")\n",
    "\n",
    "    path_to_export = f\"../results/{current_time}.json\"\n",
    "\n",
    "    # Create a dictionary with the data to be written to the JSON file\n",
    "    data = {\n",
    "        \"model\": model_name,\n",
    "        \"temperature\": temperature,\n",
    "        \"prompt\": prompt,\n",
    "        \"start\": start,\n",
    "        \"output\": output,\n",
    "    }\n",
    "\n",
    "    # Open the file in write mode and write the data as JSON\n",
    "    with open(path_to_export, \"w\") as file:\n",
    "        json.dump(data, file, indent=4)"
   ]
  },
  {
   "cell_type": "code",
   "execution_count": null,
   "metadata": {},
   "outputs": [],
   "source": [
    "print(output)"
   ]
  }
 ],
 "metadata": {
  "kernelspec": {
   "display_name": ".venv",
   "language": "python",
   "name": "python3"
  },
  "language_info": {
   "codemirror_mode": {
    "name": "ipython",
    "version": 3
   },
   "file_extension": ".py",
   "mimetype": "text/x-python",
   "name": "python",
   "nbconvert_exporter": "python",
   "pygments_lexer": "ipython3",
   "version": "3.10.13"
  }
 },
 "nbformat": 4,
 "nbformat_minor": 2
}
