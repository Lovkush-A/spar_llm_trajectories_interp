{
 "cells": [
  {
   "cell_type": "code",
   "execution_count": 1,
   "metadata": {},
   "outputs": [],
   "source": [
    "import transformer_lens.utils as utils\n",
    "from transformer_lens.hook_points import HookPoint\n",
    "from transformer_lens import HookedTransformer"
   ]
  },
  {
   "cell_type": "code",
   "execution_count": null,
   "metadata": {},
   "outputs": [],
   "source": []
  },
  {
   "cell_type": "code",
   "execution_count": 2,
   "metadata": {},
   "outputs": [
    {
     "name": "stdout",
     "output_type": "stream",
     "text": [
      "cuda\n"
     ]
    },
    {
     "name": "stderr",
     "output_type": "stream",
     "text": [
      "/workspace/SPAR/interp/.venv/lib/python3.10/site-packages/huggingface_hub/file_download.py:1132: FutureWarning: `resume_download` is deprecated and will be removed in version 1.0.0. Downloads always resume when possible. If you want to force a new download, use `force_download=True`.\n",
      "  warnings.warn(\n"
     ]
    },
    {
     "name": "stdout",
     "output_type": "stream",
     "text": [
      "Loaded pretrained model gpt2-small into HookedTransformer\n"
     ]
    }
   ],
   "source": [
    "device = utils.get_device()\n",
    "print(device)\n",
    "model = HookedTransformer.from_pretrained(\"gpt2-small\", device=device)"
   ]
  },
  {
   "cell_type": "code",
   "execution_count": 3,
   "metadata": {},
   "outputs": [
    {
     "name": "stdout",
     "output_type": "stream",
     "text": [
      "tensor(8.1509, device='cuda:0', grad_fn=<NegBackward0>)\n"
     ]
    }
   ],
   "source": [
    "# output = model.generate()\n",
    "output = \"example text here\"\n",
    "tokens = model.to_tokens(output)\n",
    "loss = model(tokens, return_type=\"loss\")\n",
    "print(loss)"
   ]
  },
  {
   "cell_type": "code",
   "execution_count": 5,
   "metadata": {},
   "outputs": [
    {
     "name": "stdout",
     "output_type": "stream",
     "text": [
      "Tokenized prompt: ['<|endoftext|>', 'a', ' popular', ' it', 'alian', ' dish', ' is']\n",
      "Tokenized answer: [' a', ' tomato', '-', 'based', ' pasta', ' dish']\n"
     ]
    },
    {
     "data": {
      "text/html": [
       "<pre style=\"white-space:pre;overflow-x:auto;line-height:normal;font-family:Menlo,'DejaVu Sans Mono',consolas,'Courier New',monospace\">Performance on answer token:\n",
       "<span style=\"font-weight: bold\">Rank: </span><span style=\"color: #008080; text-decoration-color: #008080; font-weight: bold\">0</span><span style=\"font-weight: bold\">        Logit: </span><span style=\"color: #008080; text-decoration-color: #008080; font-weight: bold\">13.68</span><span style=\"font-weight: bold\"> Prob: </span><span style=\"color: #008080; text-decoration-color: #008080; font-weight: bold\">12.26</span><span style=\"font-weight: bold\">% Token: | a|</span>\n",
       "</pre>\n"
      ],
      "text/plain": [
       "Performance on answer token:\n",
       "\u001b[1mRank: \u001b[0m\u001b[1;36m0\u001b[0m\u001b[1m        Logit: \u001b[0m\u001b[1;36m13.68\u001b[0m\u001b[1m Prob: \u001b[0m\u001b[1;36m12.26\u001b[0m\u001b[1m% Token: | a|\u001b[0m\n"
      ]
     },
     "metadata": {},
     "output_type": "display_data"
    },
    {
     "name": "stdout",
     "output_type": "stream",
     "text": [
      "Top 0th token. Logit: 13.68 Prob: 12.26% Token: | a|\n",
      "Top 1th token. Logit: 13.09 Prob:  6.78% Token: | made|\n",
      "Top 2th token. Logit: 12.50 Prob:  3.76% Token: | the|\n",
      "Top 3th token. Logit: 12.49 Prob:  3.73% Token: | called|\n",
      "Top 4th token. Logit: 12.01 Prob:  2.30% Token: | one|\n",
      "Top 5th token. Logit: 11.88 Prob:  2.03% Token: | served|\n",
      "Top 6th token. Logit: 11.50 Prob:  1.38% Token: | an|\n",
      "Top 7th token. Logit: 11.49 Prob:  1.38% Token: | that|\n",
      "Top 8th token. Logit: 11.47 Prob:  1.34% Token: | also|\n",
      "Top 9th token. Logit: 11.43 Prob:  1.29% Token: | known|\n"
     ]
    },
    {
     "data": {
      "text/html": [
       "<pre style=\"white-space:pre;overflow-x:auto;line-height:normal;font-family:Menlo,'DejaVu Sans Mono',consolas,'Courier New',monospace\">Performance on answer token:\n",
       "<span style=\"font-weight: bold\">Rank: </span><span style=\"color: #008080; text-decoration-color: #008080; font-weight: bold\">74</span><span style=\"font-weight: bold\">       Logit:  </span><span style=\"color: #008080; text-decoration-color: #008080; font-weight: bold\">9.82</span><span style=\"font-weight: bold\"> Prob:  </span><span style=\"color: #008080; text-decoration-color: #008080; font-weight: bold\">0.22</span><span style=\"font-weight: bold\">% Token: | tomato|</span>\n",
       "</pre>\n"
      ],
      "text/plain": [
       "Performance on answer token:\n",
       "\u001b[1mRank: \u001b[0m\u001b[1;36m74\u001b[0m\u001b[1m       Logit:  \u001b[0m\u001b[1;36m9.82\u001b[0m\u001b[1m Prob:  \u001b[0m\u001b[1;36m0.22\u001b[0m\u001b[1m% Token: | tomato|\u001b[0m\n"
      ]
     },
     "metadata": {},
     "output_type": "display_data"
    },
    {
     "name": "stdout",
     "output_type": "stream",
     "text": [
      "Top 0th token. Logit: 12.21 Prob:  2.39% Token: | simple|\n",
      "Top 1th token. Logit: 12.12 Prob:  2.19% Token: | dish|\n",
      "Top 2th token. Logit: 11.92 Prob:  1.79% Token: | spicy|\n",
      "Top 3th token. Logit: 11.72 Prob:  1.46% Token: | combination|\n",
      "Top 4th token. Logit: 11.57 Prob:  1.27% Token: | traditional|\n",
      "Top 5th token. Logit: 11.46 Prob:  1.14% Token: | thick|\n",
      "Top 6th token. Logit: 11.42 Prob:  1.08% Token: | rice|\n",
      "Top 7th token. Logit: 11.40 Prob:  1.07% Token: | stew|\n",
      "Top 8th token. Logit: 11.35 Prob:  1.02% Token: | delicious|\n",
      "Top 9th token. Logit: 11.32 Prob:  0.99% Token: | large|\n"
     ]
    },
    {
     "data": {
      "text/html": [
       "<pre style=\"white-space:pre;overflow-x:auto;line-height:normal;font-family:Menlo,'DejaVu Sans Mono',consolas,'Courier New',monospace\">Performance on answer token:\n",
       "<span style=\"font-weight: bold\">Rank: </span><span style=\"color: #008080; text-decoration-color: #008080; font-weight: bold\">2</span><span style=\"font-weight: bold\">        Logit: </span><span style=\"color: #008080; text-decoration-color: #008080; font-weight: bold\">15.60</span><span style=\"font-weight: bold\"> Prob:  </span><span style=\"color: #008080; text-decoration-color: #008080; font-weight: bold\">9.88</span><span style=\"font-weight: bold\">% Token: |-|</span>\n",
       "</pre>\n"
      ],
      "text/plain": [
       "Performance on answer token:\n",
       "\u001b[1mRank: \u001b[0m\u001b[1;36m2\u001b[0m\u001b[1m        Logit: \u001b[0m\u001b[1;36m15.60\u001b[0m\u001b[1m Prob:  \u001b[0m\u001b[1;36m9.88\u001b[0m\u001b[1m% Token: |-|\u001b[0m\n"
      ]
     },
     "metadata": {},
     "output_type": "display_data"
    },
    {
     "name": "stdout",
     "output_type": "stream",
     "text": [
      "Top 0th token. Logit: 15.88 Prob: 13.02% Token: | sauce|\n",
      "Top 1th token. Logit: 15.79 Prob: 11.97% Token: | soup|\n",
      "Top 2th token. Logit: 15.60 Prob:  9.88% Token: |-|\n",
      "Top 3th token. Logit: 15.49 Prob:  8.83% Token: | salad|\n",
      "Top 4th token. Logit: 15.12 Prob:  6.13% Token: | paste|\n",
      "Top 5th token. Logit: 14.11 Prob:  2.23% Token: |,|\n",
      "Top 6th token. Logit: 14.03 Prob:  2.06% Token: | with|\n",
      "Top 7th token. Logit: 13.92 Prob:  1.84% Token: | and|\n",
      "Top 8th token. Logit: 13.87 Prob:  1.75% Token: | dish|\n",
      "Top 9th token. Logit: 13.81 Prob:  1.65% Token: | stew|\n"
     ]
    },
    {
     "data": {
      "text/html": [
       "<pre style=\"white-space:pre;overflow-x:auto;line-height:normal;font-family:Menlo,'DejaVu Sans Mono',consolas,'Courier New',monospace\">Performance on answer token:\n",
       "<span style=\"font-weight: bold\">Rank: </span><span style=\"color: #008080; text-decoration-color: #008080; font-weight: bold\">0</span><span style=\"font-weight: bold\">        Logit: </span><span style=\"color: #008080; text-decoration-color: #008080; font-weight: bold\">17.66</span><span style=\"font-weight: bold\"> Prob: </span><span style=\"color: #008080; text-decoration-color: #008080; font-weight: bold\">27.83</span><span style=\"font-weight: bold\">% Token: |based|</span>\n",
       "</pre>\n"
      ],
      "text/plain": [
       "Performance on answer token:\n",
       "\u001b[1mRank: \u001b[0m\u001b[1;36m0\u001b[0m\u001b[1m        Logit: \u001b[0m\u001b[1;36m17.66\u001b[0m\u001b[1m Prob: \u001b[0m\u001b[1;36m27.83\u001b[0m\u001b[1m% Token: |based|\u001b[0m\n"
      ]
     },
     "metadata": {},
     "output_type": "display_data"
    },
    {
     "name": "stdout",
     "output_type": "stream",
     "text": [
      "Top 0th token. Logit: 17.66 Prob: 27.83% Token: |based|\n",
      "Top 1th token. Logit: 16.31 Prob:  7.19% Token: |fl|\n",
      "Top 2th token. Logit: 16.09 Prob:  5.79% Token: |like|\n",
      "Top 3th token. Logit: 14.97 Prob:  1.89% Token: |s|\n",
      "Top 4th token. Logit: 14.93 Prob:  1.82% Token: |shaped|\n",
      "Top 5th token. Logit: 14.87 Prob:  1.72% Token: |fried|\n",
      "Top 6th token. Logit: 14.87 Prob:  1.71% Token: |inf|\n",
      "Top 7th token. Logit: 14.86 Prob:  1.70% Token: |pe|\n",
      "Top 8th token. Logit: 14.86 Prob:  1.69% Token: |y|\n",
      "Top 9th token. Logit: 14.54 Prob:  1.23% Token: |style|\n"
     ]
    },
    {
     "data": {
      "text/html": [
       "<pre style=\"white-space:pre;overflow-x:auto;line-height:normal;font-family:Menlo,'DejaVu Sans Mono',consolas,'Courier New',monospace\">Performance on answer token:\n",
       "<span style=\"font-weight: bold\">Rank: </span><span style=\"color: #008080; text-decoration-color: #008080; font-weight: bold\">5</span><span style=\"font-weight: bold\">        Logit: </span><span style=\"color: #008080; text-decoration-color: #008080; font-weight: bold\">14.29</span><span style=\"font-weight: bold\"> Prob:  </span><span style=\"color: #008080; text-decoration-color: #008080; font-weight: bold\">3.03</span><span style=\"font-weight: bold\">% Token: | pasta|</span>\n",
       "</pre>\n"
      ],
      "text/plain": [
       "Performance on answer token:\n",
       "\u001b[1mRank: \u001b[0m\u001b[1;36m5\u001b[0m\u001b[1m        Logit: \u001b[0m\u001b[1;36m14.29\u001b[0m\u001b[1m Prob:  \u001b[0m\u001b[1;36m3.03\u001b[0m\u001b[1m% Token: | pasta|\u001b[0m\n"
      ]
     },
     "metadata": {},
     "output_type": "display_data"
    },
    {
     "name": "stdout",
     "output_type": "stream",
     "text": [
      "Top 0th token. Logit: 15.22 Prob:  7.69% Token: | sauce|\n",
      "Top 1th token. Logit: 15.02 Prob:  6.33% Token: | soup|\n",
      "Top 2th token. Logit: 14.81 Prob:  5.13% Token: | salad|\n",
      "Top 3th token. Logit: 14.80 Prob:  5.09% Token: | dish|\n",
      "Top 4th token. Logit: 14.68 Prob:  4.49% Token: | stew|\n",
      "Top 5th token. Logit: 14.29 Prob:  3.03% Token: | pasta|\n",
      "Top 6th token. Logit: 13.95 Prob:  2.16% Token: |,|\n",
      "Top 7th token. Logit: 13.86 Prob:  1.98% Token: | dip|\n",
      "Top 8th token. Logit: 13.51 Prob:  1.40% Token: | rice|\n",
      "Top 9th token. Logit: 13.46 Prob:  1.32% Token: | curry|\n"
     ]
    },
    {
     "data": {
      "text/html": [
       "<pre style=\"white-space:pre;overflow-x:auto;line-height:normal;font-family:Menlo,'DejaVu Sans Mono',consolas,'Courier New',monospace\">Performance on answer token:\n",
       "<span style=\"font-weight: bold\">Rank: </span><span style=\"color: #008080; text-decoration-color: #008080; font-weight: bold\">0</span><span style=\"font-weight: bold\">        Logit: </span><span style=\"color: #008080; text-decoration-color: #008080; font-weight: bold\">18.07</span><span style=\"font-weight: bold\"> Prob: </span><span style=\"color: #008080; text-decoration-color: #008080; font-weight: bold\">20.78</span><span style=\"font-weight: bold\">% Token: | dish|</span>\n",
       "</pre>\n"
      ],
      "text/plain": [
       "Performance on answer token:\n",
       "\u001b[1mRank: \u001b[0m\u001b[1;36m0\u001b[0m\u001b[1m        Logit: \u001b[0m\u001b[1;36m18.07\u001b[0m\u001b[1m Prob: \u001b[0m\u001b[1;36m20.78\u001b[0m\u001b[1m% Token: | dish|\u001b[0m\n"
      ]
     },
     "metadata": {},
     "output_type": "display_data"
    },
    {
     "name": "stdout",
     "output_type": "stream",
     "text": [
      "Top 0th token. Logit: 18.07 Prob: 20.78% Token: | dish|\n",
      "Top 1th token. Logit: 17.66 Prob: 13.76% Token: | sauce|\n",
      "Top 2th token. Logit: 17.38 Prob: 10.38% Token: | that|\n",
      "Top 3th token. Logit: 17.32 Prob:  9.78% Token: | with|\n",
      "Top 4th token. Logit: 16.79 Prob:  5.77% Token: | made|\n",
      "Top 5th token. Logit: 16.56 Prob:  4.56% Token: | salad|\n",
      "Top 6th token. Logit: 16.26 Prob:  3.39% Token: |.|\n",
      "Top 7th token. Logit: 16.14 Prob:  3.00% Token: |,|\n",
      "Top 8th token. Logit: 15.38 Prob:  1.41% Token: | soup|\n",
      "Top 9th token. Logit: 15.29 Prob:  1.28% Token: | and|\n"
     ]
    },
    {
     "data": {
      "text/html": [
       "<pre style=\"white-space:pre;overflow-x:auto;line-height:normal;font-family:Menlo,'DejaVu Sans Mono',consolas,'Courier New',monospace\"><span style=\"font-weight: bold\">Ranks of the answer tokens:</span> <span style=\"font-weight: bold\">[(</span><span style=\"color: #008000; text-decoration-color: #008000\">' a'</span>, <span style=\"color: #008080; text-decoration-color: #008080; font-weight: bold\">0</span><span style=\"font-weight: bold\">)</span>, <span style=\"font-weight: bold\">(</span><span style=\"color: #008000; text-decoration-color: #008000\">' tomato'</span>, <span style=\"color: #008080; text-decoration-color: #008080; font-weight: bold\">74</span><span style=\"font-weight: bold\">)</span>, <span style=\"font-weight: bold\">(</span><span style=\"color: #008000; text-decoration-color: #008000\">'-'</span>, <span style=\"color: #008080; text-decoration-color: #008080; font-weight: bold\">2</span><span style=\"font-weight: bold\">)</span>, <span style=\"font-weight: bold\">(</span><span style=\"color: #008000; text-decoration-color: #008000\">'based'</span>, <span style=\"color: #008080; text-decoration-color: #008080; font-weight: bold\">0</span><span style=\"font-weight: bold\">)</span>, <span style=\"font-weight: bold\">(</span><span style=\"color: #008000; text-decoration-color: #008000\">' pasta'</span>, <span style=\"color: #008080; text-decoration-color: #008080; font-weight: bold\">5</span><span style=\"font-weight: bold\">)</span>, <span style=\"font-weight: bold\">(</span><span style=\"color: #008000; text-decoration-color: #008000\">' dish'</span>, <span style=\"color: #008080; text-decoration-color: #008080; font-weight: bold\">0</span><span style=\"font-weight: bold\">)]</span>\n",
       "</pre>\n"
      ],
      "text/plain": [
       "\u001b[1mRanks of the answer tokens:\u001b[0m \u001b[1m[\u001b[0m\u001b[1m(\u001b[0m\u001b[32m' a'\u001b[0m, \u001b[1;36m0\u001b[0m\u001b[1m)\u001b[0m, \u001b[1m(\u001b[0m\u001b[32m' tomato'\u001b[0m, \u001b[1;36m74\u001b[0m\u001b[1m)\u001b[0m, \u001b[1m(\u001b[0m\u001b[32m'-'\u001b[0m, \u001b[1;36m2\u001b[0m\u001b[1m)\u001b[0m, \u001b[1m(\u001b[0m\u001b[32m'based'\u001b[0m, \u001b[1;36m0\u001b[0m\u001b[1m)\u001b[0m, \u001b[1m(\u001b[0m\u001b[32m' pasta'\u001b[0m, \u001b[1;36m5\u001b[0m\u001b[1m)\u001b[0m, \u001b[1m(\u001b[0m\u001b[32m' dish'\u001b[0m, \u001b[1;36m0\u001b[0m\u001b[1m)\u001b[0m\u001b[1m]\u001b[0m\n"
      ]
     },
     "metadata": {},
     "output_type": "display_data"
    }
   ],
   "source": [
    "test = \"a popular italian dish is\"\n",
    "answer = \"a tomato-based pasta dish\"\n",
    "utils.test_prompt(test, answer, model)"
   ]
  }
 ],
 "metadata": {
  "kernelspec": {
   "display_name": "Python 3",
   "language": "python",
   "name": "python3"
  },
  "language_info": {
   "codemirror_mode": {
    "name": "ipython",
    "version": 3
   },
   "file_extension": ".py",
   "mimetype": "text/x-python",
   "name": "python",
   "nbconvert_exporter": "python",
   "pygments_lexer": "ipython3",
   "version": "3.10.13"
  }
 },
 "nbformat": 4,
 "nbformat_minor": 2
}
