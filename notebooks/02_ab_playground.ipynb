{
 "cells": [
  {
   "cell_type": "code",
   "execution_count": 12,
   "metadata": {},
   "outputs": [],
   "source": [
    "import transformer_lens.utils as utils\n",
    "from transformer_lens.hook_points import HookPoint\n",
    "from transformer_lens import HookedTransformer\n",
    "import circuitsvis as cv"
   ]
  },
  {
   "cell_type": "code",
   "execution_count": null,
   "metadata": {},
   "outputs": [],
   "source": []
  },
  {
   "cell_type": "code",
   "execution_count": 2,
   "metadata": {},
   "outputs": [
    {
     "name": "stdout",
     "output_type": "stream",
     "text": [
      "cuda\n",
      "Loaded pretrained model gpt2-small into HookedTransformer\n"
     ]
    }
   ],
   "source": [
    "device = utils.get_device()\n",
    "print(device)\n",
    "model = HookedTransformer.from_pretrained(\"gpt2-small\", device=device)"
   ]
  },
  {
   "cell_type": "code",
   "execution_count": null,
   "metadata": {},
   "outputs": [],
   "source": [
    "output = model.generate(\n",
    "    \"please generate an inspirational story followed by recipe instructions\",\n",
    "    200,\n",
    "    temperature=0.5,\n",
    ")"
   ]
  },
  {
   "cell_type": "code",
   "execution_count": 3,
   "metadata": {},
   "outputs": [
    {
     "name": "stdout",
     "output_type": "stream",
     "text": [
      "tensor(2.5643, device='cuda:0', grad_fn=<NegBackward0>)\n"
     ]
    }
   ],
   "source": [
    "output = \"\"\"\n",
    "In a small village, Eliza was known for her magical garden. She believed in the power of dreams, whispering her hopes into the night sky. One spring, a storm ravaged the village, destroying the crops. Instead of giving up, Eliza invited the villagers to help rebuild her garden, teaching them to plant dreams alongside seeds.\n",
    "\n",
    "The garden flourished, and the community grew closer, sharing their harvests and ensuring no one went hungry. Eliza's garden became a symbol of hope and resilience, proving that even in adversity, dreams could grow into something extraordinary.\n",
    "\n",
    "Recipe: Garden Vegetable Pasta\n",
    "Ingredients:\n",
    "\n",
    "200g pasta\n",
    "2 tbsp olive oil\n",
    "1 onion, chopped\n",
    "2 garlic cloves, minced\n",
    "1 red bell pepper, chopped\n",
    "1 yellow bell pepper, chopped\n",
    "1 zucchini, sliced\n",
    "1 cup cherry tomatoes, halved\n",
    "1 cup spinach leaves\n",
    "1/4 cup fresh basil, chopped\n",
    "1/4 cup grated Parmesan cheese\n",
    "Salt and pepper to taste\n",
    "Instructions:\n",
    "\n",
    "Cook the Pasta: Boil water, add pasta, cook until al dente. Drain and set aside.\n",
    "Sauté the Vegetables: Heat olive oil in a skillet. Add onion and garlic, sauté for 3-4 minutes. Add bell peppers, cook 5 minutes. Add zucchini, cook 3-4 minutes.\n",
    "Combine Ingredients: Add cherry tomatoes, cook 3 minutes. Stir in spinach, cook until wilted.\n",
    "Mix with Pasta: Add pasta to skillet, toss with vegetables. Season with salt and pepper.\n",
    "Serve: Stir in basil, sprinkle with Parmesan.\n",
    "\"\"\"\n",
    "\n",
    "\n",
    "tokens = model.to_tokens(output)\n",
    "loss = model(tokens, return_type=\"loss\")\n",
    "print(loss)"
   ]
  },
  {
   "cell_type": "code",
   "execution_count": 6,
   "metadata": {},
   "outputs": [
    {
     "name": "stdout",
     "output_type": "stream",
     "text": [
      "Tokenized prompt: ['<|endoftext|>', '\\n', 'In', ' a', ' small', ' village', ',', ' El', 'iza', ' was', ' known', ' for', ' her', ' magical', ' garden', '.', ' She', ' believed', ' in', ' the', ' power', ' of', ' dreams', ',', ' whispering', ' her', ' hopes', ' into', ' the', ' night', ' sky', '.', ' One', ' spring', ',', ' a', ' storm', ' ravaged', ' the', ' village', ',', ' destroying', ' the', ' crops', '.', ' Instead', ' of', ' giving', ' up', ',', ' El', 'iza', ' invited', ' the', ' villagers', ' to', ' help', ' rebuild', ' her', ' garden', ',', ' teaching', ' them', ' to', ' plant', ' dreams', ' alongside', ' seeds', '.', '\\n', '\\n', 'The', ' garden', ' flourished', ',', ' and', ' the', ' community', ' grew', ' closer', ',', ' sharing', ' their', ' har', 'v', 'ests', ' and', ' ensuring', ' no', ' one', ' went', ' hungry', '.', ' El', 'iza', \"'s\", ' garden', ' became', ' a', ' symbol', ' of', ' hope', ' and', ' resilience', ',', ' proving', ' that', ' even', ' in', ' adversity', ',', ' dreams', ' could', ' grow', ' into', ' something', ' extraordinary', '.', '\\n', '\\n', 'Recipe', ':', ' Garden', ' Veget', 'able', ' Past', 'a', '\\n', 'Ingredients', ':', '\\n', '\\n', '200', 'g', ' pasta', '\\n', '2', ' tbsp', ' olive', ' oil', '\\n', '1', ' onion', ',', ' chopped', '\\n', '2', ' garlic', ' cloves', ',', ' minced', '\\n', '1', ' red', ' bell', ' pepper', ',', ' chopped', '\\n', '1', ' yellow', ' bell', ' pepper', ',', ' chopped', '\\n', '1', ' z', 'uc', 'chini', ',', ' sliced', '\\n', '1', ' cup', ' cherry', ' tomatoes', ',', ' hal', 'ved', '\\n', '1', ' cup', ' spinach', ' leaves', '\\n', '1', '/', '4', ' cup', ' fresh', ' basil', ',', ' chopped', '\\n', '1', '/', '4', ' cup', ' gr', 'ated', ' Parm', 'esan', ' cheese', '\\n', 'Salt', ' and', ' pepper', ' to', ' taste', '\\n', 'Instruct', 'ions', ':']\n",
      "Tokenized answer: [' Cook', ' the', ' Past', 'a']\n"
     ]
    },
    {
     "data": {
      "text/html": [
       "<pre style=\"white-space:pre;overflow-x:auto;line-height:normal;font-family:Menlo,'DejaVu Sans Mono',consolas,'Courier New',monospace\">Performance on answer token:\n",
       "<span style=\"font-weight: bold\">Rank: </span><span style=\"color: #008080; text-decoration-color: #008080; font-weight: bold\">19</span><span style=\"font-weight: bold\">       Logit: </span><span style=\"color: #008080; text-decoration-color: #008080; font-weight: bold\">12.49</span><span style=\"font-weight: bold\"> Prob:  </span><span style=\"color: #008080; text-decoration-color: #008080; font-weight: bold\">0.08</span><span style=\"font-weight: bold\">% Token: | Cook|</span>\n",
       "</pre>\n"
      ],
      "text/plain": [
       "Performance on answer token:\n",
       "\u001b[1mRank: \u001b[0m\u001b[1;36m19\u001b[0m\u001b[1m       Logit: \u001b[0m\u001b[1;36m12.49\u001b[0m\u001b[1m Prob:  \u001b[0m\u001b[1;36m0.08\u001b[0m\u001b[1m% Token: | Cook|\u001b[0m\n"
      ]
     },
     "metadata": {},
     "output_type": "display_data"
    },
    {
     "name": "stdout",
     "output_type": "stream",
     "text": [
      "Top 0th token. Logit: 19.54 Prob: 87.68% Token: |\n",
      "|\n",
      "Top 1th token. Logit: 15.86 Prob:  2.20% Token: | Pre|\n",
      "Top 2th token. Logit: 15.77 Prob:  2.00% Token: |<|endoftext|>|\n",
      "Top 3th token. Logit: 14.58 Prob:  0.61% Token: | Heat|\n",
      "Top 4th token. Logit: 14.54 Prob:  0.59% Token: | Place|\n",
      "Top 5th token. Logit: 14.31 Prob:  0.47% Token: |\n",
      "\n",
      "|\n",
      "Top 6th token. Logit: 14.24 Prob:  0.44% Token: | In|\n",
      "Top 7th token. Logit: 13.95 Prob:  0.33% Token: | Cut|\n",
      "Top 8th token. Logit: 13.81 Prob:  0.28% Token: | Mix|\n",
      "Top 9th token. Logit: 13.74 Prob:  0.26% Token: | Combine|\n"
     ]
    },
    {
     "data": {
      "text/html": [
       "<pre style=\"white-space:pre;overflow-x:auto;line-height:normal;font-family:Menlo,'DejaVu Sans Mono',consolas,'Courier New',monospace\">Performance on answer token:\n",
       "<span style=\"font-weight: bold\">Rank: </span><span style=\"color: #008080; text-decoration-color: #008080; font-weight: bold\">1</span><span style=\"font-weight: bold\">        Logit: </span><span style=\"color: #008080; text-decoration-color: #008080; font-weight: bold\">17.90</span><span style=\"font-weight: bold\"> Prob: </span><span style=\"color: #008080; text-decoration-color: #008080; font-weight: bold\">22.44</span><span style=\"font-weight: bold\">% Token: | the|</span>\n",
       "</pre>\n"
      ],
      "text/plain": [
       "Performance on answer token:\n",
       "\u001b[1mRank: \u001b[0m\u001b[1;36m1\u001b[0m\u001b[1m        Logit: \u001b[0m\u001b[1;36m17.90\u001b[0m\u001b[1m Prob: \u001b[0m\u001b[1;36m22.44\u001b[0m\u001b[1m% Token: | the|\u001b[0m\n"
      ]
     },
     "metadata": {},
     "output_type": "display_data"
    },
    {
     "name": "stdout",
     "output_type": "stream",
     "text": [
      "Top 0th token. Logit: 18.82 Prob: 56.53% Token: | pasta|\n",
      "Top 1th token. Logit: 17.90 Prob: 22.44% Token: | the|\n",
      "Top 2th token. Logit: 15.28 Prob:  1.64% Token: | a|\n",
      "Top 3th token. Logit: 15.14 Prob:  1.42% Token: | your|\n",
      "Top 4th token. Logit: 14.97 Prob:  1.20% Token: | onion|\n",
      "Top 5th token. Logit: 14.80 Prob:  1.01% Token: | all|\n",
      "Top 6th token. Logit: 14.69 Prob:  0.90% Token: | spaghetti|\n",
      "Top 7th token. Logit: 14.66 Prob:  0.88% Token: | 1|\n",
      "Top 8th token. Logit: 14.19 Prob:  0.55% Token: |,|\n",
      "Top 9th token. Logit: 14.14 Prob:  0.52% Token: | for|\n"
     ]
    },
    {
     "data": {
      "text/html": [
       "<pre style=\"white-space:pre;overflow-x:auto;line-height:normal;font-family:Menlo,'DejaVu Sans Mono',consolas,'Courier New',monospace\">Performance on answer token:\n",
       "<span style=\"font-weight: bold\">Rank: </span><span style=\"color: #008080; text-decoration-color: #008080; font-weight: bold\">205</span><span style=\"font-weight: bold\">      Logit: </span><span style=\"color: #008080; text-decoration-color: #008080; font-weight: bold\">10.78</span><span style=\"font-weight: bold\"> Prob:  </span><span style=\"color: #008080; text-decoration-color: #008080; font-weight: bold\">0.01</span><span style=\"font-weight: bold\">% Token: | Past|</span>\n",
       "</pre>\n"
      ],
      "text/plain": [
       "Performance on answer token:\n",
       "\u001b[1mRank: \u001b[0m\u001b[1;36m205\u001b[0m\u001b[1m      Logit: \u001b[0m\u001b[1;36m10.78\u001b[0m\u001b[1m Prob:  \u001b[0m\u001b[1;36m0.01\u001b[0m\u001b[1m% Token: | Past|\u001b[0m\n"
      ]
     },
     "metadata": {},
     "output_type": "display_data"
    },
    {
     "name": "stdout",
     "output_type": "stream",
     "text": [
      "Top 0th token. Logit: 20.06 Prob: 83.31% Token: | pasta|\n",
      "Top 1th token. Logit: 16.29 Prob:  1.92% Token: | onion|\n",
      "Top 2th token. Logit: 15.59 Prob:  0.96% Token: | spinach|\n",
      "Top 3th token. Logit: 15.42 Prob:  0.80% Token: | vegetables|\n",
      "Top 4th token. Logit: 15.38 Prob:  0.77% Token: | spaghetti|\n",
      "Top 5th token. Logit: 15.34 Prob:  0.74% Token: | olive|\n",
      "Top 6th token. Logit: 14.90 Prob:  0.48% Token: | cooked|\n",
      "Top 7th token. Logit: 14.73 Prob:  0.40% Token: | onions|\n",
      "Top 8th token. Logit: 14.63 Prob:  0.37% Token: | noodles|\n",
      "Top 9th token. Logit: 14.56 Prob:  0.34% Token: | tomatoes|\n"
     ]
    },
    {
     "data": {
      "text/html": [
       "<pre style=\"white-space:pre;overflow-x:auto;line-height:normal;font-family:Menlo,'DejaVu Sans Mono',consolas,'Courier New',monospace\">Performance on answer token:\n",
       "<span style=\"font-weight: bold\">Rank: </span><span style=\"color: #008080; text-decoration-color: #008080; font-weight: bold\">0</span><span style=\"font-weight: bold\">        Logit: </span><span style=\"color: #008080; text-decoration-color: #008080; font-weight: bold\">25.05</span><span style=\"font-weight: bold\"> Prob: </span><span style=\"color: #008080; text-decoration-color: #008080; font-weight: bold\">96.70</span><span style=\"font-weight: bold\">% Token: |a|</span>\n",
       "</pre>\n"
      ],
      "text/plain": [
       "Performance on answer token:\n",
       "\u001b[1mRank: \u001b[0m\u001b[1;36m0\u001b[0m\u001b[1m        Logit: \u001b[0m\u001b[1;36m25.05\u001b[0m\u001b[1m Prob: \u001b[0m\u001b[1;36m96.70\u001b[0m\u001b[1m% Token: |a|\u001b[0m\n"
      ]
     },
     "metadata": {},
     "output_type": "display_data"
    },
    {
     "name": "stdout",
     "output_type": "stream",
     "text": [
      "Top 0th token. Logit: 25.05 Prob: 96.70% Token: |a|\n",
      "Top 1th token. Logit: 21.52 Prob:  2.85% Token: |as|\n",
      "Top 2th token. Logit: 17.94 Prob:  0.08% Token: |af|\n",
      "Top 3th token. Logit: 17.17 Prob:  0.04% Token: |am|\n",
      "Top 4th token. Logit: 17.03 Prob:  0.03% Token: |az|\n",
      "Top 5th token. Logit: 16.44 Prob:  0.02% Token: |ata|\n",
      "Top 6th token. Logit: 16.38 Prob:  0.02% Token: |ag|\n",
      "Top 7th token. Logit: 16.29 Prob:  0.02% Token: |ap|\n",
      "Top 8th token. Logit: 16.24 Prob:  0.01% Token: |an|\n",
      "Top 9th token. Logit: 16.17 Prob:  0.01% Token: |ad|\n"
     ]
    },
    {
     "data": {
      "text/html": [
       "<pre style=\"white-space:pre;overflow-x:auto;line-height:normal;font-family:Menlo,'DejaVu Sans Mono',consolas,'Courier New',monospace\"><span style=\"font-weight: bold\">Ranks of the answer tokens:</span> <span style=\"font-weight: bold\">[(</span><span style=\"color: #008000; text-decoration-color: #008000\">' Cook'</span>, <span style=\"color: #008080; text-decoration-color: #008080; font-weight: bold\">19</span><span style=\"font-weight: bold\">)</span>, <span style=\"font-weight: bold\">(</span><span style=\"color: #008000; text-decoration-color: #008000\">' the'</span>, <span style=\"color: #008080; text-decoration-color: #008080; font-weight: bold\">1</span><span style=\"font-weight: bold\">)</span>, <span style=\"font-weight: bold\">(</span><span style=\"color: #008000; text-decoration-color: #008000\">' Past'</span>, <span style=\"color: #008080; text-decoration-color: #008080; font-weight: bold\">205</span><span style=\"font-weight: bold\">)</span>, <span style=\"font-weight: bold\">(</span><span style=\"color: #008000; text-decoration-color: #008000\">'a'</span>, <span style=\"color: #008080; text-decoration-color: #008080; font-weight: bold\">0</span><span style=\"font-weight: bold\">)]</span>\n",
       "</pre>\n"
      ],
      "text/plain": [
       "\u001b[1mRanks of the answer tokens:\u001b[0m \u001b[1m[\u001b[0m\u001b[1m(\u001b[0m\u001b[32m' Cook'\u001b[0m, \u001b[1;36m19\u001b[0m\u001b[1m)\u001b[0m, \u001b[1m(\u001b[0m\u001b[32m' the'\u001b[0m, \u001b[1;36m1\u001b[0m\u001b[1m)\u001b[0m, \u001b[1m(\u001b[0m\u001b[32m' Past'\u001b[0m, \u001b[1;36m205\u001b[0m\u001b[1m)\u001b[0m, \u001b[1m(\u001b[0m\u001b[32m'a'\u001b[0m, \u001b[1;36m0\u001b[0m\u001b[1m)\u001b[0m\u001b[1m]\u001b[0m\n"
      ]
     },
     "metadata": {},
     "output_type": "display_data"
    }
   ],
   "source": [
    "test = \"\"\"\n",
    "In a small village, Eliza was known for her magical garden. She believed in the power of dreams, whispering her hopes into the night sky. One spring, a storm ravaged the village, destroying the crops. Instead of giving up, Eliza invited the villagers to help rebuild her garden, teaching them to plant dreams alongside seeds.\n",
    "\n",
    "The garden flourished, and the community grew closer, sharing their harvests and ensuring no one went hungry. Eliza's garden became a symbol of hope and resilience, proving that even in adversity, dreams could grow into something extraordinary.\n",
    "\n",
    "Recipe: Garden Vegetable Pasta\n",
    "Ingredients:\n",
    "\n",
    "200g pasta\n",
    "2 tbsp olive oil\n",
    "1 onion, chopped\n",
    "2 garlic cloves, minced\n",
    "1 red bell pepper, chopped\n",
    "1 yellow bell pepper, chopped\n",
    "1 zucchini, sliced\n",
    "1 cup cherry tomatoes, halved\n",
    "1 cup spinach leaves\n",
    "1/4 cup fresh basil, chopped\n",
    "1/4 cup grated Parmesan cheese\n",
    "Salt and pepper to taste\n",
    "Instructions:\"\"\"\n",
    "answer = \" Cook the Pasta\"\n",
    "utils.test_prompt(test, answer, model)"
   ]
  },
  {
   "cell_type": "code",
   "execution_count": 8,
   "metadata": {},
   "outputs": [],
   "source": [
    "model_tokens = model.to_tokens(output)\n",
    "model_logits, cache = model.run_with_cache(model_tokens, remove_batch_dim=True)"
   ]
  },
  {
   "cell_type": "code",
   "execution_count": 17,
   "metadata": {},
   "outputs": [
    {
     "name": "stdout",
     "output_type": "stream",
     "text": [
      "torch.Size([12, 363, 363])\n",
      "Layer 0 Head Attention Patterns:\n"
     ]
    }
   ],
   "source": [
    "attention_pattern = cache[\"pattern\", 0, \"attn\"]\n",
    "print(attention_pattern.shape)\n",
    "model_str_tokens = model.to_str_tokens(output)\n",
    "\n",
    "print(\"Layer 0 Head Attention Patterns:\")\n",
    "# display(\n",
    "#     cv.attention.attention_patterns(\n",
    "#         tokens=model_str_tokens, attention=attention_pattern\n",
    "#     )\n",
    "# )\n",
    "html = cv.attention.attention_heads(\n",
    "    tokens=model_str_tokens, attention=attention_pattern\n",
    ")\n",
    "with open(\"layer0_attn_patterns.html\", \"w\") as f:\n",
    "    f.write(str(html))"
   ]
  }
 ],
 "metadata": {
  "kernelspec": {
   "display_name": "Python 3",
   "language": "python",
   "name": "python3"
  },
  "language_info": {
   "codemirror_mode": {
    "name": "ipython",
    "version": 3
   },
   "file_extension": ".py",
   "mimetype": "text/x-python",
   "name": "python",
   "nbconvert_exporter": "python",
   "pygments_lexer": "ipython3",
   "version": "3.10.13"
  }
 },
 "nbformat": 4,
 "nbformat_minor": 2
}
