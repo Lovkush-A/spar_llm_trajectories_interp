{
 "cells": [
  {
   "cell_type": "code",
   "execution_count": 1,
   "metadata": {},
   "outputs": [
    {
     "name": "stdout",
     "output_type": "stream",
     "text": [
      "Requirement already satisfied: taker in /workspace/SPAR/interp-ab/.venv/lib/python3.10/site-packages (1.0.5)\n",
      "Requirement already satisfied: accelerate<0.32.0,>=0.31.0 in /workspace/SPAR/interp-ab/.venv/lib/python3.10/site-packages (from taker) (0.31.0)\n",
      "Requirement already satisfied: antlr4-python3-runtime==4.11.1 in /workspace/SPAR/interp-ab/.venv/lib/python3.10/site-packages (from taker) (4.11.1)\n",
      "Requirement already satisfied: datasets<3.0.0,>=2.9.0 in /workspace/SPAR/interp-ab/.venv/lib/python3.10/site-packages (from taker) (2.20.0)\n",
      "Requirement already satisfied: einops<0.7.0,>=0.6.0 in /workspace/SPAR/interp-ab/.venv/lib/python3.10/site-packages (from taker) (0.6.1)\n",
      "Requirement already satisfied: evaluate<0.5.0,>=0.4.0 in /workspace/SPAR/interp-ab/.venv/lib/python3.10/site-packages (from taker) (0.4.2)\n",
      "Requirement already satisfied: lm-eval<0.5.0,>=0.4.3 in /workspace/SPAR/interp-ab/.venv/lib/python3.10/site-packages (from taker) (0.4.3)\n",
      "Requirement already satisfied: numexpr<3.0.0,>=2.7.0 in /workspace/SPAR/interp-ab/.venv/lib/python3.10/site-packages (from taker) (2.10.1)\n",
      "Requirement already satisfied: numpy<2.0,>=1.23 in /workspace/SPAR/interp-ab/.venv/lib/python3.10/site-packages (from taker) (1.26.4)\n",
      "Requirement already satisfied: pandas<2.0.0,>=1.5.3 in /workspace/SPAR/interp-ab/.venv/lib/python3.10/site-packages (from taker) (1.5.3)\n",
      "Requirement already satisfied: scipy<2.0.0,>=1.11.1 in /workspace/SPAR/interp-ab/.venv/lib/python3.10/site-packages (from taker) (1.14.0)\n",
      "Requirement already satisfied: sentencepiece<0.2.0,>=0.1.99 in /workspace/SPAR/interp-ab/.venv/lib/python3.10/site-packages (from taker) (0.1.99)\n",
      "Requirement already satisfied: tokenizers<0.20.0,>=0.19.1 in /workspace/SPAR/interp-ab/.venv/lib/python3.10/site-packages (from taker) (0.19.1)\n",
      "Requirement already satisfied: torch<3.0.0,>=2.0.0 in /workspace/SPAR/interp-ab/.venv/lib/python3.10/site-packages (from taker) (2.1.2)\n",
      "Requirement already satisfied: transformers<5.0.0,>=4.41.0 in /workspace/SPAR/interp-ab/.venv/lib/python3.10/site-packages (from taker) (4.42.4)\n",
      "Requirement already satisfied: wandb<0.18.0,>=0.17.6 in /workspace/SPAR/interp-ab/.venv/lib/python3.10/site-packages (from taker) (0.17.6)\n",
      "Requirement already satisfied: welford-torch<0.3.0,>=0.2.4 in /workspace/SPAR/interp-ab/.venv/lib/python3.10/site-packages (from taker) (0.2.4)\n",
      "Requirement already satisfied: zstandard<0.20.0,>=0.19.0 in /workspace/SPAR/interp-ab/.venv/lib/python3.10/site-packages (from taker) (0.19.0)\n",
      "Requirement already satisfied: packaging>=20.0 in /workspace/SPAR/interp-ab/.venv/lib/python3.10/site-packages (from accelerate<0.32.0,>=0.31.0->taker) (24.1)\n",
      "Requirement already satisfied: psutil in /workspace/SPAR/interp-ab/.venv/lib/python3.10/site-packages (from accelerate<0.32.0,>=0.31.0->taker) (6.0.0)\n",
      "Requirement already satisfied: pyyaml in /workspace/SPAR/interp-ab/.venv/lib/python3.10/site-packages (from accelerate<0.32.0,>=0.31.0->taker) (6.0.1)\n",
      "Requirement already satisfied: huggingface-hub in /workspace/SPAR/interp-ab/.venv/lib/python3.10/site-packages (from accelerate<0.32.0,>=0.31.0->taker) (0.23.4)\n",
      "Requirement already satisfied: safetensors>=0.3.1 in /workspace/SPAR/interp-ab/.venv/lib/python3.10/site-packages (from accelerate<0.32.0,>=0.31.0->taker) (0.4.3)\n",
      "Requirement already satisfied: filelock in /workspace/SPAR/interp-ab/.venv/lib/python3.10/site-packages (from datasets<3.0.0,>=2.9.0->taker) (3.15.4)\n",
      "Requirement already satisfied: pyarrow>=15.0.0 in /workspace/SPAR/interp-ab/.venv/lib/python3.10/site-packages (from datasets<3.0.0,>=2.9.0->taker) (16.1.0)\n",
      "Requirement already satisfied: pyarrow-hotfix in /workspace/SPAR/interp-ab/.venv/lib/python3.10/site-packages (from datasets<3.0.0,>=2.9.0->taker) (0.6)\n",
      "Requirement already satisfied: dill<0.3.9,>=0.3.0 in /workspace/SPAR/interp-ab/.venv/lib/python3.10/site-packages (from datasets<3.0.0,>=2.9.0->taker) (0.3.8)\n",
      "Requirement already satisfied: requests>=2.32.2 in /workspace/SPAR/interp-ab/.venv/lib/python3.10/site-packages (from datasets<3.0.0,>=2.9.0->taker) (2.32.3)\n",
      "Requirement already satisfied: tqdm>=4.66.3 in /workspace/SPAR/interp-ab/.venv/lib/python3.10/site-packages (from datasets<3.0.0,>=2.9.0->taker) (4.66.4)\n",
      "Requirement already satisfied: xxhash in /workspace/SPAR/interp-ab/.venv/lib/python3.10/site-packages (from datasets<3.0.0,>=2.9.0->taker) (3.4.1)\n",
      "Requirement already satisfied: multiprocess in /workspace/SPAR/interp-ab/.venv/lib/python3.10/site-packages (from datasets<3.0.0,>=2.9.0->taker) (0.70.16)\n",
      "Requirement already satisfied: fsspec<=2024.5.0,>=2023.1.0 in /workspace/SPAR/interp-ab/.venv/lib/python3.10/site-packages (from fsspec[http]<=2024.5.0,>=2023.1.0->datasets<3.0.0,>=2.9.0->taker) (2024.5.0)\n",
      "Requirement already satisfied: aiohttp in /workspace/SPAR/interp-ab/.venv/lib/python3.10/site-packages (from datasets<3.0.0,>=2.9.0->taker) (3.9.5)\n",
      "Requirement already satisfied: jsonlines in /workspace/SPAR/interp-ab/.venv/lib/python3.10/site-packages (from lm-eval<0.5.0,>=0.4.3->taker) (4.0.0)\n",
      "Requirement already satisfied: peft>=0.2.0 in /workspace/SPAR/interp-ab/.venv/lib/python3.10/site-packages (from lm-eval<0.5.0,>=0.4.3->taker) (0.12.0)\n",
      "Requirement already satisfied: pybind11>=2.6.2 in /workspace/SPAR/interp-ab/.venv/lib/python3.10/site-packages (from lm-eval<0.5.0,>=0.4.3->taker) (2.13.3)\n",
      "Requirement already satisfied: pytablewriter in /workspace/SPAR/interp-ab/.venv/lib/python3.10/site-packages (from lm-eval<0.5.0,>=0.4.3->taker) (1.2.0)\n",
      "Requirement already satisfied: rouge-score>=0.0.4 in /workspace/SPAR/interp-ab/.venv/lib/python3.10/site-packages (from lm-eval<0.5.0,>=0.4.3->taker) (0.1.2)\n",
      "Requirement already satisfied: sacrebleu>=1.5.0 in /workspace/SPAR/interp-ab/.venv/lib/python3.10/site-packages (from lm-eval<0.5.0,>=0.4.3->taker) (2.4.2)\n",
      "Requirement already satisfied: scikit-learn>=0.24.1 in /workspace/SPAR/interp-ab/.venv/lib/python3.10/site-packages (from lm-eval<0.5.0,>=0.4.3->taker) (1.5.1)\n",
      "Requirement already satisfied: sqlitedict in /workspace/SPAR/interp-ab/.venv/lib/python3.10/site-packages (from lm-eval<0.5.0,>=0.4.3->taker) (2.1.0)\n",
      "Requirement already satisfied: tqdm-multiprocess in /workspace/SPAR/interp-ab/.venv/lib/python3.10/site-packages (from lm-eval<0.5.0,>=0.4.3->taker) (0.0.11)\n",
      "Requirement already satisfied: word2number in /workspace/SPAR/interp-ab/.venv/lib/python3.10/site-packages (from lm-eval<0.5.0,>=0.4.3->taker) (1.1)\n",
      "Requirement already satisfied: more-itertools in /workspace/SPAR/interp-ab/.venv/lib/python3.10/site-packages (from lm-eval<0.5.0,>=0.4.3->taker) (10.4.0)\n",
      "Requirement already satisfied: python-dateutil>=2.8.1 in /workspace/SPAR/interp-ab/.venv/lib/python3.10/site-packages (from pandas<2.0.0,>=1.5.3->taker) (2.9.0.post0)\n",
      "Requirement already satisfied: pytz>=2020.1 in /workspace/SPAR/interp-ab/.venv/lib/python3.10/site-packages (from pandas<2.0.0,>=1.5.3->taker) (2024.1)\n",
      "Requirement already satisfied: typing-extensions in /workspace/SPAR/interp-ab/.venv/lib/python3.10/site-packages (from torch<3.0.0,>=2.0.0->taker) (4.12.2)\n",
      "Requirement already satisfied: sympy in /workspace/SPAR/interp-ab/.venv/lib/python3.10/site-packages (from torch<3.0.0,>=2.0.0->taker) (1.12.1)\n",
      "Requirement already satisfied: networkx in /workspace/SPAR/interp-ab/.venv/lib/python3.10/site-packages (from torch<3.0.0,>=2.0.0->taker) (3.3)\n",
      "Requirement already satisfied: jinja2 in /workspace/SPAR/interp-ab/.venv/lib/python3.10/site-packages (from torch<3.0.0,>=2.0.0->taker) (3.1.4)\n",
      "Requirement already satisfied: nvidia-cuda-nvrtc-cu12==12.1.105 in /workspace/SPAR/interp-ab/.venv/lib/python3.10/site-packages (from torch<3.0.0,>=2.0.0->taker) (12.1.105)\n",
      "Requirement already satisfied: nvidia-cuda-runtime-cu12==12.1.105 in /workspace/SPAR/interp-ab/.venv/lib/python3.10/site-packages (from torch<3.0.0,>=2.0.0->taker) (12.1.105)\n",
      "Requirement already satisfied: nvidia-cuda-cupti-cu12==12.1.105 in /workspace/SPAR/interp-ab/.venv/lib/python3.10/site-packages (from torch<3.0.0,>=2.0.0->taker) (12.1.105)\n",
      "Requirement already satisfied: nvidia-cudnn-cu12==8.9.2.26 in /workspace/SPAR/interp-ab/.venv/lib/python3.10/site-packages (from torch<3.0.0,>=2.0.0->taker) (8.9.2.26)\n",
      "Requirement already satisfied: nvidia-cublas-cu12==12.1.3.1 in /workspace/SPAR/interp-ab/.venv/lib/python3.10/site-packages (from torch<3.0.0,>=2.0.0->taker) (12.1.3.1)\n",
      "Requirement already satisfied: nvidia-cufft-cu12==11.0.2.54 in /workspace/SPAR/interp-ab/.venv/lib/python3.10/site-packages (from torch<3.0.0,>=2.0.0->taker) (11.0.2.54)\n",
      "Requirement already satisfied: nvidia-curand-cu12==10.3.2.106 in /workspace/SPAR/interp-ab/.venv/lib/python3.10/site-packages (from torch<3.0.0,>=2.0.0->taker) (10.3.2.106)\n",
      "Requirement already satisfied: nvidia-cusolver-cu12==11.4.5.107 in /workspace/SPAR/interp-ab/.venv/lib/python3.10/site-packages (from torch<3.0.0,>=2.0.0->taker) (11.4.5.107)\n",
      "Requirement already satisfied: nvidia-cusparse-cu12==12.1.0.106 in /workspace/SPAR/interp-ab/.venv/lib/python3.10/site-packages (from torch<3.0.0,>=2.0.0->taker) (12.1.0.106)\n",
      "Requirement already satisfied: nvidia-nccl-cu12==2.18.1 in /workspace/SPAR/interp-ab/.venv/lib/python3.10/site-packages (from torch<3.0.0,>=2.0.0->taker) (2.18.1)\n",
      "Requirement already satisfied: nvidia-nvtx-cu12==12.1.105 in /workspace/SPAR/interp-ab/.venv/lib/python3.10/site-packages (from torch<3.0.0,>=2.0.0->taker) (12.1.105)\n",
      "Requirement already satisfied: triton==2.1.0 in /workspace/SPAR/interp-ab/.venv/lib/python3.10/site-packages (from torch<3.0.0,>=2.0.0->taker) (2.1.0)\n",
      "Requirement already satisfied: nvidia-nvjitlink-cu12 in /workspace/SPAR/interp-ab/.venv/lib/python3.10/site-packages (from nvidia-cusolver-cu12==11.4.5.107->torch<3.0.0,>=2.0.0->taker) (12.5.40)\n",
      "Requirement already satisfied: regex!=2019.12.17 in /workspace/SPAR/interp-ab/.venv/lib/python3.10/site-packages (from transformers<5.0.0,>=4.41.0->taker) (2024.5.15)\n",
      "Requirement already satisfied: click!=8.0.0,>=7.1 in /workspace/SPAR/interp-ab/.venv/lib/python3.10/site-packages (from wandb<0.18.0,>=0.17.6->taker) (8.1.7)\n",
      "Requirement already satisfied: docker-pycreds>=0.4.0 in /workspace/SPAR/interp-ab/.venv/lib/python3.10/site-packages (from wandb<0.18.0,>=0.17.6->taker) (0.4.0)\n",
      "Requirement already satisfied: gitpython!=3.1.29,>=1.0.0 in /workspace/SPAR/interp-ab/.venv/lib/python3.10/site-packages (from wandb<0.18.0,>=0.17.6->taker) (3.1.43)\n",
      "Requirement already satisfied: platformdirs in /workspace/SPAR/interp-ab/.venv/lib/python3.10/site-packages (from wandb<0.18.0,>=0.17.6->taker) (4.2.2)\n",
      "Requirement already satisfied: protobuf!=4.21.0,<6,>=3.19.0 in /workspace/SPAR/interp-ab/.venv/lib/python3.10/site-packages (from wandb<0.18.0,>=0.17.6->taker) (4.25.3)\n",
      "Requirement already satisfied: sentry-sdk>=1.0.0 in /workspace/SPAR/interp-ab/.venv/lib/python3.10/site-packages (from wandb<0.18.0,>=0.17.6->taker) (2.7.1)\n",
      "Requirement already satisfied: setproctitle in /workspace/SPAR/interp-ab/.venv/lib/python3.10/site-packages (from wandb<0.18.0,>=0.17.6->taker) (1.3.3)\n",
      "Requirement already satisfied: setuptools in /workspace/SPAR/interp-ab/.venv/lib/python3.10/site-packages (from wandb<0.18.0,>=0.17.6->taker) (70.1.1)\n",
      "Requirement already satisfied: six>=1.4.0 in /workspace/SPAR/interp-ab/.venv/lib/python3.10/site-packages (from docker-pycreds>=0.4.0->wandb<0.18.0,>=0.17.6->taker) (1.16.0)\n",
      "Requirement already satisfied: aiosignal>=1.1.2 in /workspace/SPAR/interp-ab/.venv/lib/python3.10/site-packages (from aiohttp->datasets<3.0.0,>=2.9.0->taker) (1.3.1)\n",
      "Requirement already satisfied: attrs>=17.3.0 in /workspace/SPAR/interp-ab/.venv/lib/python3.10/site-packages (from aiohttp->datasets<3.0.0,>=2.9.0->taker) (23.2.0)\n",
      "Requirement already satisfied: frozenlist>=1.1.1 in /workspace/SPAR/interp-ab/.venv/lib/python3.10/site-packages (from aiohttp->datasets<3.0.0,>=2.9.0->taker) (1.4.1)\n",
      "Requirement already satisfied: multidict<7.0,>=4.5 in /workspace/SPAR/interp-ab/.venv/lib/python3.10/site-packages (from aiohttp->datasets<3.0.0,>=2.9.0->taker) (6.0.5)\n",
      "Requirement already satisfied: yarl<2.0,>=1.0 in /workspace/SPAR/interp-ab/.venv/lib/python3.10/site-packages (from aiohttp->datasets<3.0.0,>=2.9.0->taker) (1.9.4)\n",
      "Requirement already satisfied: async-timeout<5.0,>=4.0 in /workspace/SPAR/interp-ab/.venv/lib/python3.10/site-packages (from aiohttp->datasets<3.0.0,>=2.9.0->taker) (4.0.3)\n",
      "Requirement already satisfied: gitdb<5,>=4.0.1 in /workspace/SPAR/interp-ab/.venv/lib/python3.10/site-packages (from gitpython!=3.1.29,>=1.0.0->wandb<0.18.0,>=0.17.6->taker) (4.0.11)\n",
      "Requirement already satisfied: charset-normalizer<4,>=2 in /workspace/SPAR/interp-ab/.venv/lib/python3.10/site-packages (from requests>=2.32.2->datasets<3.0.0,>=2.9.0->taker) (3.3.2)\n",
      "Requirement already satisfied: idna<4,>=2.5 in /workspace/SPAR/interp-ab/.venv/lib/python3.10/site-packages (from requests>=2.32.2->datasets<3.0.0,>=2.9.0->taker) (3.7)\n",
      "Requirement already satisfied: urllib3<3,>=1.21.1 in /workspace/SPAR/interp-ab/.venv/lib/python3.10/site-packages (from requests>=2.32.2->datasets<3.0.0,>=2.9.0->taker) (2.2.2)\n",
      "Requirement already satisfied: certifi>=2017.4.17 in /workspace/SPAR/interp-ab/.venv/lib/python3.10/site-packages (from requests>=2.32.2->datasets<3.0.0,>=2.9.0->taker) (2024.6.2)\n",
      "Requirement already satisfied: absl-py in /workspace/SPAR/interp-ab/.venv/lib/python3.10/site-packages (from rouge-score>=0.0.4->lm-eval<0.5.0,>=0.4.3->taker) (2.1.0)\n",
      "Requirement already satisfied: nltk in /workspace/SPAR/interp-ab/.venv/lib/python3.10/site-packages (from rouge-score>=0.0.4->lm-eval<0.5.0,>=0.4.3->taker) (3.8.2)\n",
      "Requirement already satisfied: portalocker in /workspace/SPAR/interp-ab/.venv/lib/python3.10/site-packages (from sacrebleu>=1.5.0->lm-eval<0.5.0,>=0.4.3->taker) (2.10.1)\n",
      "Requirement already satisfied: tabulate>=0.8.9 in /workspace/SPAR/interp-ab/.venv/lib/python3.10/site-packages (from sacrebleu>=1.5.0->lm-eval<0.5.0,>=0.4.3->taker) (0.9.0)\n",
      "Requirement already satisfied: colorama in /workspace/SPAR/interp-ab/.venv/lib/python3.10/site-packages (from sacrebleu>=1.5.0->lm-eval<0.5.0,>=0.4.3->taker) (0.4.6)\n",
      "Requirement already satisfied: lxml in /workspace/SPAR/interp-ab/.venv/lib/python3.10/site-packages (from sacrebleu>=1.5.0->lm-eval<0.5.0,>=0.4.3->taker) (5.3.0)\n",
      "Requirement already satisfied: joblib>=1.2.0 in /workspace/SPAR/interp-ab/.venv/lib/python3.10/site-packages (from scikit-learn>=0.24.1->lm-eval<0.5.0,>=0.4.3->taker) (1.4.2)\n",
      "Requirement already satisfied: threadpoolctl>=3.1.0 in /workspace/SPAR/interp-ab/.venv/lib/python3.10/site-packages (from scikit-learn>=0.24.1->lm-eval<0.5.0,>=0.4.3->taker) (3.5.0)\n",
      "Requirement already satisfied: MarkupSafe>=2.0 in /workspace/SPAR/interp-ab/.venv/lib/python3.10/site-packages (from jinja2->torch<3.0.0,>=2.0.0->taker) (2.1.5)\n",
      "Requirement already satisfied: DataProperty<2,>=1.0.1 in /workspace/SPAR/interp-ab/.venv/lib/python3.10/site-packages (from pytablewriter->lm-eval<0.5.0,>=0.4.3->taker) (1.0.1)\n",
      "Requirement already satisfied: mbstrdecoder<2,>=1.0.0 in /workspace/SPAR/interp-ab/.venv/lib/python3.10/site-packages (from pytablewriter->lm-eval<0.5.0,>=0.4.3->taker) (1.1.3)\n",
      "Requirement already satisfied: pathvalidate<4,>=2.3.0 in /workspace/SPAR/interp-ab/.venv/lib/python3.10/site-packages (from pytablewriter->lm-eval<0.5.0,>=0.4.3->taker) (3.2.0)\n",
      "Requirement already satisfied: tabledata<2,>=1.3.1 in /workspace/SPAR/interp-ab/.venv/lib/python3.10/site-packages (from pytablewriter->lm-eval<0.5.0,>=0.4.3->taker) (1.3.3)\n",
      "Requirement already satisfied: tcolorpy<1,>=0.0.5 in /workspace/SPAR/interp-ab/.venv/lib/python3.10/site-packages (from pytablewriter->lm-eval<0.5.0,>=0.4.3->taker) (0.1.6)\n",
      "Requirement already satisfied: typepy<2,>=1.3.2 in /workspace/SPAR/interp-ab/.venv/lib/python3.10/site-packages (from typepy[datetime]<2,>=1.3.2->pytablewriter->lm-eval<0.5.0,>=0.4.3->taker) (1.3.2)\n",
      "Requirement already satisfied: mpmath<1.4.0,>=1.1.0 in /workspace/SPAR/interp-ab/.venv/lib/python3.10/site-packages (from sympy->torch<3.0.0,>=2.0.0->taker) (1.3.0)\n",
      "Requirement already satisfied: smmap<6,>=3.0.1 in /workspace/SPAR/interp-ab/.venv/lib/python3.10/site-packages (from gitdb<5,>=4.0.1->gitpython!=3.1.29,>=1.0.0->wandb<0.18.0,>=0.17.6->taker) (5.0.1)\n",
      "Requirement already satisfied: chardet<6,>=3.0.4 in /workspace/SPAR/interp-ab/.venv/lib/python3.10/site-packages (from mbstrdecoder<2,>=1.0.0->pytablewriter->lm-eval<0.5.0,>=0.4.3->taker) (5.2.0)\n",
      "Note: you may need to restart the kernel to use updated packages.\n"
     ]
    }
   ],
   "source": [
    "%pip install taker"
   ]
  },
  {
   "cell_type": "code",
   "execution_count": 2,
   "metadata": {},
   "outputs": [
    {
     "name": "stderr",
     "output_type": "stream",
     "text": [
      "/workspace/SPAR/interp-ab/.venv/lib/python3.10/site-packages/tqdm/auto.py:21: TqdmWarning: IProgress not found. Please update jupyter and ipywidgets. See https://ipywidgets.readthedocs.io/en/stable/user_install.html\n",
      "  from .autonotebook import tqdm as notebook_tqdm\n"
     ]
    }
   ],
   "source": [
    "import transformer_lens.utils as utils\n",
    "from transformer_lens.hook_points import HookPoint\n",
    "from transformer_lens import HookedTransformer\n",
    "import circuitsvis as cv\n",
    "import numpy as np\n",
    "import torch\n",
    "from taker import Model"
   ]
  },
  {
   "cell_type": "code",
   "execution_count": 3,
   "metadata": {},
   "outputs": [
    {
     "name": "stdout",
     "output_type": "stream",
     "text": [
      "cuda\n",
      "Loaded pretrained model gpt2-large into HookedTransformer\n"
     ]
    }
   ],
   "source": [
    "device = utils.get_device()\n",
    "print(device)\n",
    "model = HookedTransformer.from_pretrained(\"gpt2-large\", device=device)"
   ]
  },
  {
   "cell_type": "code",
   "execution_count": 4,
   "metadata": {},
   "outputs": [],
   "source": [
    "# output = \"\"\"\n",
    "# Please generate an inspirational story followed by recipe instructions.\\n\n",
    "# In a small village, Eliza was known for her magical garden. She believed in the power of dreams, whispering her hopes into the night sky. One spring, a storm ravaged the village, destroying the crops. Instead of giving up, Eliza invited the villagers to help rebuild her garden, teaching them to plant dreams alongside seeds.\n",
    "\n",
    "# The garden flourished, and the community grew closer, sharing their harvests and ensuring no one went hungry. Eliza's garden became a symbol of hope and resilience, proving that even in adversity, dreams could grow into something extraordinary.\n",
    "\n",
    "# Recipe: Garden Vegetable Pasta\n",
    "# Ingredients:\n",
    "\n",
    "# 200g pasta\n",
    "# 2 tbsp olive oil\n",
    "# 1 onion, chopped\n",
    "# 2 garlic cloves, minced\n",
    "# 1 red bell pepper, chopped\n",
    "# 1 yellow bell pepper, chopped\n",
    "# 1 zucchini, sliced\n",
    "# 1 cup cherry tomatoes, halved\n",
    "# 1 cup spinach leaves\n",
    "# 1/4 cup fresh basil, chopped\n",
    "# 1/4 cup grated Parmesan cheese\n",
    "# Salt and pepper to taste\n",
    "# Instructions:\n",
    "\n",
    "# Cook the Pasta: Boil water, add pasta, cook until al dente. Drain and set aside.\n",
    "# Sauté the Vegetables: Heat olive oil in a skillet. Add onion and garlic, sauté for 3-4 minutes. Add bell peppers, cook 5 minutes. Add zucchini, cook 3-4 minutes.\n",
    "# Combine Ingredients: Add cherry tomatoes, cook 3 minutes. Stir in spinach, cook until wilted.\n",
    "# Mix with Pasta: Add pasta to skillet, toss with vegetables. Season with salt and pepper.\n",
    "# Serve: Stir in basil, sprinkle with Parmesan.\n",
    "# \"\"\"\n",
    "\n",
    "output = \"\"\"\n",
    "Please generate an inspirational story followed by recipe instructions.\\n\n",
    "A tiny seed dreamed of reaching the sky. With patience and care, it grew into a magnificent tree, providing shade and shelter, showing that even the smallest dreams can grow into something great.\n",
    "\n",
    "Recipe: Simple Avocado Toast\n",
    "Ingredients:\n",
    "\n",
    "1 ripe avocado\n",
    "2 slices of bread\n",
    "Salt and pepper\n",
    "Lemon juice\n",
    "Instructions:\n",
    "\n",
    "Toast the bread.\n",
    "Mash the avocado with salt, pepper, and a splash of lemon juice.\n",
    "Spread the mixture on the toast. Enjoy!\n",
    "\"\"\"\n"
   ]
  },
  {
   "cell_type": "code",
   "execution_count": 5,
   "metadata": {},
   "outputs": [],
   "source": [
    "model_tokens = model.to_tokens(output, prepend_bos=False)\n",
    "model_logits, cache = model.run_with_cache(model_tokens, remove_batch_dim=True)"
   ]
  },
  {
   "cell_type": "markdown",
   "metadata": {},
   "source": [
    "layer = torch.stack each layer\n"
   ]
  },
  {
   "cell_type": "code",
   "execution_count": 6,
   "metadata": {},
   "outputs": [
    {
     "name": "stdout",
     "output_type": "stream",
     "text": [
      "torch.Size([36, 20, 1280, 64])\n"
     ]
    }
   ],
   "source": [
    "print(model.W_Q.shape)\n",
    "nhead = model.W_Q.shape[1]\n",
    "nlayer = model.W_Q.shape[0]"
   ]
  },
  {
   "cell_type": "code",
   "execution_count": 7,
   "metadata": {},
   "outputs": [
    {
     "name": "stdout",
     "output_type": "stream",
     "text": [
      "torch.Size([20, 119, 119])\n",
      "torch.Size([1, 119, 119])\n"
     ]
    }
   ],
   "source": [
    "\n",
    "for i in range(nlayer): #get attention patterns over each head and over each layer \n",
    "    if i == 0:\n",
    "        head_attention_pattern = cache[\"pattern\", i, \"attn\"].clone()\n",
    "        layer_attention_pattern = torch.sum(cache[\"pattern\", i, \"attn\"].clone(),axis=0).unsqueeze(0)\n",
    "        print(head_attention_pattern.shape)\n",
    "        print(layer_attention_pattern.shape)\n",
    "    else:\n",
    "        head_attention_pattern += cache[\"pattern\", i, \"attn\"] # [nheads x src_len x dest_len]\n",
    "        layer_attention_pattern = torch.cat((layer_attention_pattern, torch.sum(cache[\"pattern\", i, \"attn\"].clone(),axis=0).unsqueeze(0)), axis=0) # [nlayers x src_len x dest_len]"
   ]
  },
  {
   "cell_type": "code",
   "execution_count": 8,
   "metadata": {},
   "outputs": [
    {
     "name": "stdout",
     "output_type": "stream",
     "text": [
      "['\\n', 'Please', ' generate', ' an', ' inspirational', ' story', ' followed', ' by', ' recipe', ' instructions', '.', '\\n', '\\n', 'A', ' tiny', ' seed', ' dreamed', ' of', ' reaching', ' the', ' sky', '.', ' With', ' patience', ' and', ' care', ',', ' it', ' grew', ' into', ' a', ' magnificent', ' tree', ',', ' providing', ' shade', ' and', ' shelter', ',', ' showing', ' that', ' even', ' the', ' smallest', ' dreams', ' can', ' grow', ' into', ' something', ' great', '.', '\\n', '\\n', 'Recipe', ':', ' Simple', ' Av', 'ocado', ' Toast', '\\n', 'Ingredients', ':', '\\n', '\\n', '1', ' ripe', ' avocado', '\\n', '2', ' slices', ' of', ' bread', '\\n', 'Salt', ' and', ' pepper', '\\n', 'L', 'emon', ' juice', '\\n', 'Instruct', 'ions', ':', '\\n', '\\n', 'To', 'ast', ' the', ' bread', '.', '\\n', 'M', 'ash', ' the', ' avocado', ' with', ' salt', ',', ' pepper', ',', ' and', ' a', ' splash', ' of', ' lemon', ' juice', '.', '\\n', 'Spread', ' the', ' mixture', ' on', ' the', ' toast', '.', ' Enjoy', '!', '\\n']\n"
     ]
    }
   ],
   "source": [
    "print(model.to_str_tokens(output, prepend_bos=False))"
   ]
  },
  {
   "cell_type": "code",
   "execution_count": null,
   "metadata": {},
   "outputs": [],
   "source": [
    "def generate_layer_attention_pattern(savefile=False):\n",
    "    print(\"HEAD = LAYER\")\n",
    "    attention_pattern = layer_attention_pattern[:, 1:, 1:] # remove first token from src and dest\n",
    "    attn_max_val = torch.max(attention_pattern)\n",
    "    attn_min_val = torch.min(attention_pattern)\n",
    "    \n",
    "    model_str_tokens = model.to_str_tokens(output, prepend_bos=False)\n",
    "    \n",
    "    model_str_tokens = model_str_tokens[1:]\n",
    "    print(attention_pattern.shape)\n",
    "    attention_pattern=attention_pattern[0:18,:,:]\n",
    "    \n",
    "    display(cv.attention.attention_heads(\n",
    "        tokens=model_str_tokens,\n",
    "        attention=attention_pattern,\n",
    "        max_value=attn_max_val,\n",
    "        min_value=attn_min_val,\n",
    "    )\n",
    "    )\n",
    "    \n",
    "    if savefile==True:\n",
    "        html =  cv.attention.attention_heads(\n",
    "        tokens=model_str_tokens,\n",
    "        attention=attention_pattern,\n",
    "        max_value=attn_max_val,\n",
    "        min_value=attn_min_val,\n",
    "        )\n",
    "        with open(\"attn_graphs/layer_attn_patterns_prompt_small_0-17.html\", \"w\") as f:\n",
    "            f.write(str(html))\n",
    "def generate_head_attention_pattern(savefile=False):\n",
    "    attention_pattern = head_attention_pattern[:, 1:, 1:] # remove first token from src and dest\n",
    "    attn_max_val = torch.max(attention_pattern)\n",
    "    attn_min_val = torch.min(attention_pattern)\n",
    "    print(attention_pattern.shape)\n",
    "\n",
    "    model_str_tokens = model.to_str_tokens(output, prepend_bos=False)\n",
    "    model_str_tokens = model_str_tokens[1:]\n",
    "    # display(cv.attention.attention_heads(\n",
    "    #     tokens=model_str_tokens,\n",
    "    #     attention=attention_pattern,\n",
    "    #     max_value=attn_max_val,\n",
    "    #     min_value=attn_min_val,\n",
    "    # )\n",
    "    # )\n",
    "    if savefile==True:\n",
    "        html =  cv.attention.attention_heads(\n",
    "        tokens=model_str_tokens,\n",
    "        attention=attention_pattern,\n",
    "        max_value=attn_max_val,\n",
    "        min_value=attn_min_val,\n",
    "        )\n",
    "        with open(\"attn_graphs/head_attn_patterns.html\", \"w\") as f:\n",
    "            f.write(str(html))\n",
    "def generate_full_attention_pattern(savefile=False):\n",
    "    attention_pattern = head_attention_pattern[:, 1:, 1:] # remove first token from src and dest\n",
    "    attention_pattern = torch.sum(attention_pattern,axis=0)\n",
    "    attn_max_val = torch.max(attention_pattern)\n",
    "    attn_min_val = torch.min(attention_pattern)\n",
    "    print(attention_pattern.shape)\n",
    "\n",
    "    model_str_tokens = model.to_str_tokens(output, prepend_bos=False)\n",
    "    model_str_tokens = model_str_tokens[1:] \n",
    "    \n",
    "    display(cv.attention.attention_pattern(\n",
    "        tokens=model_str_tokens,\n",
    "        attention=attention_pattern,\n",
    "        max_value=attn_max_val,\n",
    "        min_value=attn_min_val,\n",
    "    )\n",
    "    )\n",
    "    if savefile==True:\n",
    "        html =  cv.attention.attention_pattern(\n",
    "        tokens=model_str_tokens,\n",
    "        attention=attention_pattern,\n",
    "        max_value=attn_max_val,\n",
    "        min_value=attn_min_val,\n",
    "        )\n",
    "        with open(\"attn_graphs/all_attn_patterns_prompt.html\", \"w\") as f:\n",
    "            f.write(str(html))"
   ]
  },
  {
   "cell_type": "code",
   "execution_count": null,
   "metadata": {},
   "outputs": [],
   "source": [
    "generate_layer_attention_pattern(True)"
   ]
  }
 ],
 "metadata": {
  "kernelspec": {
   "display_name": "Python 3",
   "language": "python",
   "name": "python3"
  },
  "language_info": {
   "codemirror_mode": {
    "name": "ipython",
    "version": 3
   },
   "file_extension": ".py",
   "mimetype": "text/x-python",
   "name": "python",
   "nbconvert_exporter": "python",
   "pygments_lexer": "ipython3",
   "version": "3.10.14"
  }
 },
 "nbformat": 4,
 "nbformat_minor": 2
}
