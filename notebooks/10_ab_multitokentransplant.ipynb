{
 "cells": [
  {
   "cell_type": "code",
   "execution_count": 1,
   "metadata": {},
   "outputs": [
    {
     "name": "stderr",
     "output_type": "stream",
     "text": [
      "/workspace/SPAR/interp-ab/.venv/lib/python3.10/site-packages/tqdm/auto.py:21: TqdmWarning: IProgress not found. Please update jupyter and ipywidgets. See https://ipywidgets.readthedocs.io/en/stable/user_install.html\n",
      "  from .autonotebook import tqdm as notebook_tqdm\n"
     ]
    }
   ],
   "source": [
    "import circuitsvis as cv\n",
    "import numpy as np\n",
    "import torch\n",
    "from taker import Model\n",
    "from taker.hooks import HookConfig\n",
    "from datetime import datetime\n",
    "import json\n",
    "from os import listdir\n",
    "from os.path import exists\n",
    "\n",
    "import numpy as np\n",
    "import pandas as pd\n",
    "from sentence_transformers import SentenceTransformer\n",
    "from sklearn.decomposition import PCA\n",
    "import torch"
   ]
  },
  {
   "cell_type": "code",
   "execution_count": 8,
   "metadata": {},
   "outputs": [],
   "source": [
    "current_time = datetime.now().strftime(\"%Y-%m-%d_%H-%M-%S\")\n",
    "filename = f\"../results/{current_time}_agnes_story_singlenewline.jsonl\""
   ]
  },
  {
   "cell_type": "code",
   "execution_count": 3,
   "metadata": {},
   "outputs": [
    {
     "name": "stderr",
     "output_type": "stream",
     "text": [
      "Special tokens have been added in the vocabulary, make sure the associated word embeddings are fine-tuned or trained.\n",
      "Loading checkpoint shards: 100%|██████████| 2/2 [00:02<00:00,  1.50s/it]\n",
      "We detected that you are passing `past_key_values` as a tuple and this is deprecated and will be removed in v4.43. Please use an appropriate `Cache` class (https://huggingface.co/docs/transformers/v4.41.3/en/internal/generation_utils#transformers.Cache)\n",
      "You are not running the flash-attention implementation, expect numerical differences.\n"
     ]
    },
    {
     "name": "stdout",
     "output_type": "stream",
     "text": [
      "Loaded model 'microsoft/phi-3-mini-4k-instruct' with int4:\n",
      "- Added 512 hooks across 32 layers\n"
     ]
    },
    {
     "name": "stderr",
     "output_type": "stream",
     "text": [
      "/workspace/SPAR/interp-ab/.venv/lib/python3.10/site-packages/bitsandbytes/nn/modules.py:426: UserWarning: Input type into Linear4bit is torch.float16, but bnb_4bit_compute_dtype=torch.float32 (default). This will lead to slow inference or training speed.\n",
      "  warnings.warn(\n"
     ]
    },
    {
     "name": "stdout",
     "output_type": "stream",
     "text": [
      " - n_layers : 32\n",
      " - d_model  : 3072\n",
      " - n_heads  : 32\n",
      " - d_head   : 96\n",
      " - d_mlp    : 8192\n"
     ]
    }
   ],
   "source": [
    "m = Model(\"microsoft/phi-3-mini-4k-instruct\", dtype=\"int4\")\n",
    "m.show_details()"
   ]
  },
  {
   "cell_type": "code",
   "execution_count": 9,
   "metadata": {},
   "outputs": [],
   "source": [
    "prompt    = \"\"\"Write a short blog post about a recipe and the inspiration behind it.\n",
    " Do not include a title.\n",
    " Only reveal the dish after the story.\n",
    " Start with short story and then move to the recipe.\n",
    " To re-iterate, do not include a title.\"\"\"\n",
    "# info_gen = m.generate(info_prompt, temperature=0.3, num=300)\n",
    "\n",
    "#DOUBLE NEWLINE\n",
    "info_gen = \"\"\"\n",
    "\\n Once upon a time, in a quaint little village nestled between rolling hills and verdant fields, there lived an elderly woman named Agnes. Agnes was known for her warm smile and her legendary Sunday dinners that brought the entire neighborhood together. Her recipes were family heirlooms, passed down through generations, with each family adding their own touch to the final dish.\n",
    "\n",
    "One crisp autumn evening, Agnes was reminiscing about her childhood, and how her grandmother used to gather everyone around the dinner table, sharing stories and laughter. These were the moments that shaped her, the memories that she passed on to her own children and grandchildren.\n",
    "\n",
    "Inspired by her grandmother's legacy, Agnes decided to create a new dish that would encapsulate the essence of those cherished gatherings. She wanted something that was comforting and nourishing, a dish that could be prepared with love and shared with others. After days of experimentation, she finally created a recipe that she believed truly captured the spirit of her family's Sunday dinners.\\n\\n\"\"\"\n",
    "info_prompt = prompt+info_gen"
   ]
  },
  {
   "cell_type": "code",
   "execution_count": 10,
   "metadata": {},
   "outputs": [],
   "source": [
    "import sys, os\n",
    "class HiddenPrints:\n",
    "    def __enter__(self):\n",
    "        self._original_stdout = sys.stdout\n",
    "        sys.stdout = open(os.devnull, 'w')\n",
    "\n",
    "    def __exit__(self, exc_type, exc_val, exc_tb):\n",
    "        sys.stdout.close()\n",
    "        sys.stdout = self._original_stdout"
   ]
  },
  {
   "cell_type": "code",
   "execution_count": 11,
   "metadata": {},
   "outputs": [
    {
     "name": "stdout",
     "output_type": "stream",
     "text": [
      "['▁.', '<0x0A>', '<0x0A>']\n",
      "['▁Sunday', '▁d', 'inners', '.', '<0x0A>', '<0x0A>']\n"
     ]
    }
   ],
   "source": [
    "idlist = m.get_ids(\".\\n\\n\").squeeze().tolist()\n",
    "print(m.tokenizer.convert_ids_to_tokens(idlist))\n",
    "idlist = m.get_ids(\"Sunday dinners.\\n\\n\").squeeze().tolist()\n",
    "print(m.tokenizer.convert_ids_to_tokens(idlist))"
   ]
  },
  {
   "cell_type": "code",
   "execution_count": 12,
   "metadata": {},
   "outputs": [
    {
     "name": "stdout",
     "output_type": "stream",
     "text": [
      "303 1\n",
      "['▁Sunday', '▁d', 'inners', '.', '<0x0A>', '<0x0A>']\n",
      "['▁', '<0x0A>']\n"
     ]
    }
   ],
   "source": [
    "if not exists(filename):\n",
    "    with open(filename, \"w\") as f:\n",
    "        pass\n",
    "\n",
    "neutral_prompt = \"\\n\"\n",
    "max_new_tokens = 100\n",
    "temperature = 0.3\n",
    "tokens_transferred_num = 1\n",
    "\n",
    "acts = m.get_midlayer_activations(info_prompt)\n",
    "orig_token_index = m.get_ids(info_prompt).shape[1] - 1\n",
    "new_token_index  = m.get_ids(neutral_prompt).shape[1] - 1        \n",
    "print(orig_token_index, new_token_index)\n",
    "print(m.tokenizer.convert_ids_to_tokens(m.get_ids(info_prompt).squeeze().tolist()[298:304]))\n",
    "print(m.tokenizer.convert_ids_to_tokens(m.get_ids(neutral_prompt).squeeze().tolist()))\n",
    "\n",
    "for token_val in range(tokens_transferred_num):\n",
    "    [h.reset() for h in m.hooks.neuron_replace.values()] #RESET HOOKS BEFORE TRANSPLANTING NEXT SET OF ACTIVATIONS\n",
    "    for j in range(token_val + 1):\n",
    "        for layer_index in range(0,32):\n",
    "            m.hooks.neuron_replace[f\"layer_{layer_index}_mlp_pre_out\"].add_token(new_token_index - j, acts[\"mlp\"][0, layer_index, orig_token_index - j])\n",
    "            m.hooks.neuron_replace[f\"layer_{layer_index}_attn_pre_out\"].add_token(new_token_index - j, acts[\"attn\"][0, layer_index, orig_token_index - j])\n",
    "    with HiddenPrints():\n",
    "        for i in range(20):\n",
    "            output = m.generate(neutral_prompt, max_new_tokens, temperature=temperature)\n",
    "            \n",
    "            data = {\n",
    "                \"temperature\": temperature,\n",
    "                \"max_new_tokens\": max_new_tokens,\n",
    "                \"model\": \"microsoft/phi-3-mini-4k-instruct\",\n",
    "                \"transplant_layers\": (0,32),\n",
    "                \"transferred_token_num\": token_val+1,\n",
    "                \"orig_prompt\": info_prompt,\n",
    "                \"transplant_prompt\": neutral_prompt,\n",
    "                \"output\": output[1],\n",
    "            }\n",
    "\n",
    "            with open(filename, \"a\") as file:\n",
    "                file.write(json.dumps(data) + \"\\n\")"
   ]
  },
  {
   "cell_type": "code",
   "execution_count": 18,
   "metadata": {},
   "outputs": [
    {
     "name": "stdout",
     "output_type": "stream",
     "text": [
      "temperature                                                            0.3\n",
      "max_new_tokens                                                         100\n",
      "model                                     microsoft/phi-3-mini-4k-instruct\n",
      "transplant_layers                                                  [0, 32]\n",
      "transferred_token_num                                                    1\n",
      "orig_prompt              Write a short blog post about a recipe and the...\n",
      "transplant_prompt                                      Sunday dinners.\\n\\n\n",
      "output                   The recipe calls for 2 teasquant of olive oil,...\n",
      "Name: 0, dtype: object\n"
     ]
    },
    {
     "data": {
      "text/html": [
       "<div>\n",
       "<style scoped>\n",
       "    .dataframe tbody tr th:only-of-type {\n",
       "        vertical-align: middle;\n",
       "    }\n",
       "\n",
       "    .dataframe tbody tr th {\n",
       "        vertical-align: top;\n",
       "    }\n",
       "\n",
       "    .dataframe thead th {\n",
       "        text-align: right;\n",
       "    }\n",
       "</style>\n",
       "<table border=\"1\" class=\"dataframe\">\n",
       "  <thead>\n",
       "    <tr style=\"text-align: right;\">\n",
       "      <th></th>\n",
       "      <th>temperature</th>\n",
       "      <th>max_new_tokens</th>\n",
       "      <th>model</th>\n",
       "      <th>transplant_layers</th>\n",
       "      <th>transferred_token_num</th>\n",
       "      <th>orig_prompt</th>\n",
       "      <th>transplant_prompt</th>\n",
       "      <th>output</th>\n",
       "    </tr>\n",
       "  </thead>\n",
       "  <tbody>\n",
       "    <tr>\n",
       "      <th>0</th>\n",
       "      <td>0.3</td>\n",
       "      <td>100</td>\n",
       "      <td>microsoft/phi-3-mini-4k-instruct</td>\n",
       "      <td>[0, 32]</td>\n",
       "      <td>1</td>\n",
       "      <td>Write a short blog post about a recipe and the...</td>\n",
       "      <td>Sunday dinners.\\n\\n</td>\n",
       "      <td>The recipe calls for 2 teasquant of olive oil,...</td>\n",
       "    </tr>\n",
       "    <tr>\n",
       "      <th>1</th>\n",
       "      <td>0.3</td>\n",
       "      <td>100</td>\n",
       "      <td>microsoft/phi-3-mini-4k-instruct</td>\n",
       "      <td>[0, 32]</td>\n",
       "      <td>1</td>\n",
       "      <td>Write a short blog post about a recipe and the...</td>\n",
       "      <td>Sunday dinners.\\n\\n</td>\n",
       "      <td>The recipe for the traditional dish, which is ...</td>\n",
       "    </tr>\n",
       "    <tr>\n",
       "      <th>2</th>\n",
       "      <td>0.3</td>\n",
       "      <td>100</td>\n",
       "      <td>microsoft/phi-3-mini-4k-instruct</td>\n",
       "      <td>[0, 32]</td>\n",
       "      <td>1</td>\n",
       "      <td>Write a short blog post about a recipe and the...</td>\n",
       "      <td>Sunday dinners.\\n\\n</td>\n",
       "      <td>The recipe calls for 1/4 cup of oil and 2 cups...</td>\n",
       "    </tr>\n",
       "    <tr>\n",
       "      <th>3</th>\n",
       "      <td>0.3</td>\n",
       "      <td>100</td>\n",
       "      <td>microsoft/phi-3-mini-4k-instruct</td>\n",
       "      <td>[0, 32]</td>\n",
       "      <td>1</td>\n",
       "      <td>Write a short blog post about a recipe and the...</td>\n",
       "      <td>Sunday dinners.\\n\\n</td>\n",
       "      <td>Here's how to make it:\\n\\nIngredients:\\n\\n- 2 ...</td>\n",
       "    </tr>\n",
       "    <tr>\n",
       "      <th>4</th>\n",
       "      <td>0.3</td>\n",
       "      <td>100</td>\n",
       "      <td>microsoft/phi-3-mini-4k-instruct</td>\n",
       "      <td>[0, 32]</td>\n",
       "      <td>1</td>\n",
       "      <td>Write a short blog post about a recipe and the...</td>\n",
       "      <td>Sunday dinners.\\n\\n</td>\n",
       "      <td>Again, I'm not sure how to proceed. I'm not su...</td>\n",
       "    </tr>\n",
       "  </tbody>\n",
       "</table>\n",
       "</div>"
      ],
      "text/plain": [
       "   temperature  max_new_tokens                             model  \\\n",
       "0          0.3             100  microsoft/phi-3-mini-4k-instruct   \n",
       "1          0.3             100  microsoft/phi-3-mini-4k-instruct   \n",
       "2          0.3             100  microsoft/phi-3-mini-4k-instruct   \n",
       "3          0.3             100  microsoft/phi-3-mini-4k-instruct   \n",
       "4          0.3             100  microsoft/phi-3-mini-4k-instruct   \n",
       "\n",
       "  transplant_layers  transferred_token_num  \\\n",
       "0           [0, 32]                      1   \n",
       "1           [0, 32]                      1   \n",
       "2           [0, 32]                      1   \n",
       "3           [0, 32]                      1   \n",
       "4           [0, 32]                      1   \n",
       "\n",
       "                                         orig_prompt    transplant_prompt  \\\n",
       "0  Write a short blog post about a recipe and the...  Sunday dinners.\\n\\n   \n",
       "1  Write a short blog post about a recipe and the...  Sunday dinners.\\n\\n   \n",
       "2  Write a short blog post about a recipe and the...  Sunday dinners.\\n\\n   \n",
       "3  Write a short blog post about a recipe and the...  Sunday dinners.\\n\\n   \n",
       "4  Write a short blog post about a recipe and the...  Sunday dinners.\\n\\n   \n",
       "\n",
       "                                              output  \n",
       "0  The recipe calls for 2 teasquant of olive oil,...  \n",
       "1  The recipe for the traditional dish, which is ...  \n",
       "2  The recipe calls for 1/4 cup of oil and 2 cups...  \n",
       "3  Here's how to make it:\\n\\nIngredients:\\n\\n- 2 ...  \n",
       "4  Again, I'm not sure how to proceed. I'm not su...  "
      ]
     },
     "execution_count": 18,
     "metadata": {},
     "output_type": "execute_result"
    }
   ],
   "source": [
    "\n",
    "filepath2 = \"../results/2024-08-15_14-38-54_agnes_story_sundaydinners.jsonl\"\n",
    "df1 = pd.read_json(filepath2, lines=True)\n",
    "filepath2 = \"../results/2024-08-15_14-49-58_agnes_story_dinners.jsonl\"\n",
    "df2 = pd.read_json(filepath2, lines=True)\n",
    "filepath2 = \"../results/2024-08-15_14-59-11_agnes_story_inners.jsonl\"\n",
    "df3 = pd.read_json(filepath2, lines=True)\n",
    "filepath1 = \"../results/2024-08-08_15-27-40_agnes_story_period.jsonl\"\n",
    "df4 = pd.read_json(filepath1, lines=True)\n",
    "filepath2 = \"../results/2024-08-15_15-08-26_agnes_story_doublenewline.jsonl\"\n",
    "df5 = pd.read_json(filepath2, lines=True)\n",
    "filepath2 = \"../results/2024-08-15_15-12-10_agnes_story_singlenewline.jsonl\"\n",
    "df6 = pd.read_json(filepath2, lines=True)\n",
    "results_df = pd.concat([df1, df2, df3, df4, df5, df6],ignore_index=True)\n",
    "print(results_df.loc[0])\n",
    "baselinefile = \"../results/baseline_data_08-07.jsonl\"\n",
    "base_df = pd.read_json(baselinefile, lines=True)\n",
    "neutralfile = \"../results/neutral_baseline_data_08-14.jsonl\"\n",
    "neutral_df = pd.read_json(neutralfile, lines=True)\n",
    "results_df.head()"
   ]
  },
  {
   "cell_type": "code",
   "execution_count": 19,
   "metadata": {},
   "outputs": [
    {
     "name": "stdout",
     "output_type": "stream",
     "text": [
      "(570, 768)\n",
      "(420, 9)\n",
      "(50, 6)\n",
      "(100, 6)\n"
     ]
    }
   ],
   "source": [
    "# sentenceTransformer = SentenceTransformer(\"all-MiniLM-L6-v2\")\n",
    "sentenceTransformer = SentenceTransformer(\"all-mpnet-base-v2\")\n",
    "\n",
    "concat_embs = results_df[\"output\"].to_list() + base_df[\"output\"].to_list() + neutral_df[\"output\"].to_list()\n",
    "embeddings = sentenceTransformer.encode(concat_embs)\n",
    "print(embeddings.shape)\n",
    "neutral_start = results_df.shape[0]+base_df.shape[0]\n",
    "results_df[\"embeddings\"] = embeddings[:results_df.shape[0]].tolist()\n",
    "base_df[\"embeddings\"] = embeddings[results_df.shape[0]:neutral_start].tolist()\n",
    "neutral_df[\"embeddings\"] = embeddings[neutral_start:].tolist()\n",
    "results_df.head()\n",
    "print(results_df.shape)\n",
    "print(base_df.shape)\n",
    "print(neutral_df.shape)"
   ]
  },
  {
   "cell_type": "code",
   "execution_count": 35,
   "metadata": {},
   "outputs": [
    {
     "name": "stdout",
     "output_type": "stream",
     "text": [
      "(570, 2)\n"
     ]
    },
    {
     "data": {
      "application/vnd.plotly.v1+json": {
       "config": {
        "plotlyServerURL": "https://plot.ly"
       },
       "data": [
        {
         "marker": {
          "color": "turquoise",
          "size": 8
         },
         "mode": "markers",
         "name": "Untransferred Newline",
         "type": "scatter",
         "x": [
          -0.45435842871665955,
          -0.31572508811950684,
          -0.16599969565868378,
          -0.42596495151519775,
          -0.3939974308013916,
          -0.32150816917419434,
          -0.2264704406261444,
          -0.3074064254760742,
          -0.38274306058883667,
          -0.3756527006626129,
          -0.19641660153865814,
          -0.34672319889068604,
          -0.37262290716171265,
          -0.37414997816085815,
          -0.36234724521636963,
          -0.263702392578125,
          -0.3568342626094818,
          -0.4392012357711792,
          -0.34895259141921997,
          -0.4167645275592804,
          -0.3879941403865814,
          -0.36269181966781616,
          -0.30776384472846985,
          -0.3081227242946625,
          -0.3293497562408447,
          -0.3666885495185852,
          -0.39924076199531555,
          -0.22942428290843964,
          -0.25631198287010193,
          -0.44625410437583923,
          -0.2878662347793579,
          -0.4023837149143219,
          -0.2591138482093811,
          -0.38488295674324036,
          -0.39551421999931335,
          -0.34713566303253174,
          -0.30638015270233154,
          -0.26759475469589233,
          -0.28806230425834656,
          -0.18648214638233185,
          -0.33038458228111267,
          -0.46260547637939453,
          -0.3137821853160858,
          -0.38192614912986755,
          -0.3637429177761078,
          -0.3612414598464966,
          -0.5042315721511841,
          -0.4252215027809143,
          -0.46918749809265137,
          -0.24404919147491455,
          -0.30817529559135437,
          -0.20046256482601166,
          -0.28054118156433105,
          -0.3673226535320282,
          -0.36824309825897217,
          -0.32128652930259705,
          -0.3661225140094757,
          -0.3457450270652771,
          -0.4129762351512909,
          -0.31980451941490173,
          -0.3273826241493225,
          -0.36721011996269226,
          -0.29869580268859863,
          -0.0882348120212555,
          -0.2141207754611969,
          -0.3127538859844208,
          -0.13903586566448212,
          -0.2911640703678131,
          -0.3717595338821411,
          -0.4274284839630127,
          -0.32131996750831604,
          -0.17972831428050995,
          -0.4012220799922943,
          -0.277892529964447,
          -0.37477266788482666,
          -0.278134822845459,
          -0.3128267228603363,
          -0.4454553723335266,
          -0.2867678701877594,
          -0.2831422984600067,
          -0.14542599022388458,
          -0.38303694128990173,
          -0.23267853260040283,
          -0.3723241090774536,
          -0.4131219685077667,
          -0.3866991400718689,
          -0.23666833341121674,
          -0.47960883378982544,
          -0.40024861693382263,
          -0.3480251431465149,
          -0.40933069586753845,
          -0.33097970485687256,
          -0.3723665177822113,
          -0.16797249019145966,
          -0.37346407771110535,
          -0.3827057480812073,
          -0.34863075613975525,
          -0.1052236407995224,
          -0.42079442739486694,
          -0.3888005018234253
         ],
         "y": [
          0.13829867541790009,
          0.09310391545295715,
          0.12614838778972626,
          -0.1526036262512207,
          -0.18383869528770447,
          0.2219855785369873,
          0.17616139352321625,
          0.1338086724281311,
          0.08746302127838135,
          0.33483538031578064,
          0.2631055414676666,
          -0.08836854249238968,
          -0.060898326337337494,
          -0.06564340740442276,
          -0.14582161605358124,
          0.26406216621398926,
          0.13673774898052216,
          -0.15852776169776917,
          0.1555553376674652,
          -0.12662166357040405,
          -0.07144773751497269,
          -0.07169292867183685,
          -0.3018786609172821,
          -0.054834283888339996,
          0.3291054964065552,
          -0.07656755298376083,
          -0.13309651613235474,
          0.06448393315076828,
          0.1356780230998993,
          -0.06920857727527618,
          0.2490297108888626,
          -0.23066532611846924,
          0.057347655296325684,
          -0.13847318291664124,
          0.28901973366737366,
          -0.007376836147159338,
          0.2224920690059662,
          0.1464007943868637,
          0.10135620832443237,
          -0.09210194647312164,
          0.0865420550107956,
          0.07772468030452728,
          -0.20185735821723938,
          -0.21292755007743835,
          -0.29518964886665344,
          -0.03256431967020035,
          0.17139984667301178,
          -0.0036126894410699606,
          -0.08576971292495728,
          -0.3347295820713043,
          -0.026011178269982338,
          0.09287179261445999,
          -0.08922751992940903,
          -0.0750368982553482,
          -0.16983889043331146,
          -0.2281038612127304,
          -0.11985379457473755,
          -0.3941774070262909,
          -0.06917095184326172,
          -0.10636913031339645,
          0.12961891293525696,
          0.192673459649086,
          0.24057725071907043,
          -0.2855483293533325,
          -0.12342577427625656,
          0.11152074486017227,
          0.09732193499803543,
          0.042895641177892685,
          0.23338407278060913,
          -0.005000787321478128,
          0.11918355524539948,
          0.11194085329771042,
          -0.016746671870350838,
          0.02844584360718727,
          -0.11421181261539459,
          -0.11776819080114365,
          -0.31355592608451843,
          -0.14434640109539032,
          0.22195231914520264,
          0.29957708716392517,
          0.1296798586845398,
          0.04459935426712036,
          0.042279407382011414,
          -0.04366375133395195,
          0.22092470526695251,
          0.06860516220331192,
          0.02629614621400833,
          -0.12061898410320282,
          0.07089795172214508,
          0.10727058351039886,
          0.1439167559146881,
          -0.009807620197534561,
          0.1329415887594223,
          0.06242455542087555,
          0.14712485671043396,
          0.18637748062610626,
          -0.016840506345033646,
          0.09464431554079056,
          -0.13359218835830688,
          -0.051412831991910934
         ]
        },
        {
         "hovertemplate": "Transplanted Prompt: %{customdata[0]}<br># of Transferred Tokens: %{customdata[1]}",
         "marker": {
          "color": "green",
          "size": 10
         },
         "mode": "markers",
         "name": "Baseline Generation",
         "type": "scatter",
         "x": [
          0.48425304889678955,
          0.43786200881004333,
          0.3869372308254242,
          0.4134560227394104,
          0.4565598666667938,
          0.42337241768836975,
          0.39360401034355164,
          0.3250039219856262,
          0.3765198290348053,
          0.46992456912994385,
          0.29090601205825806,
          0.43562859296798706,
          0.4569907486438751,
          0.35977479815483093,
          0.41505810618400574,
          0.38968271017074585,
          0.38356921076774597,
          0.3619162142276764,
          0.3342975676059723,
          0.45172685384750366,
          0.4228716194629669,
          0.5161628723144531,
          0.23851773142814636,
          0.476826012134552,
          0.4740811884403229,
          0.5106515288352966,
          0.41558152437210083,
          0.29193583130836487,
          0.4466610252857208,
          0.4221336543560028,
          0.49290236830711365,
          0.4244247078895569,
          0.43731606006622314,
          0.45897814631462097,
          0.3835250735282898,
          0.443149596452713,
          0.35902953147888184,
          0.4800366461277008,
          0.3697095513343811,
          0.4430520832538605,
          0.4262571334838867,
          0.47704508900642395,
          0.47950926423072815,
          0.44622933864593506,
          0.4189242720603943,
          0.4162106215953827,
          0.4618866443634033,
          0.47705429792404175,
          0.4382495582103729,
          0.4459899961948395
         ],
         "y": [
          -0.20494933426380157,
          -0.025143856182694435,
          -0.33721989393234253,
          -0.36798399686813354,
          -0.1672024130821228,
          0.12885931134223938,
          -0.057130005210638046,
          -0.42078614234924316,
          -0.36474326252937317,
          -0.1558477133512497,
          -0.2926763594150543,
          -0.2412661761045456,
          0.07258077710866928,
          -0.2987697720527649,
          0.08088094741106033,
          0.16532130539417267,
          -0.18106944859027863,
          -0.35867664217948914,
          -0.3744334578514099,
          -0.15963438153266907,
          -0.3032281994819641,
          -0.1345282942056656,
          -0.43872982263565063,
          0.024710197001695633,
          -0.17203198373317719,
          -0.19351103901863098,
          -0.24926532804965973,
          -0.3161914050579071,
          0.007616522256284952,
          0.10374168306589127,
          -0.03660139814019203,
          -0.101730115711689,
          -0.1677846908569336,
          0.032875970005989075,
          -0.305289089679718,
          -0.2513141632080078,
          -0.3604646325111389,
          -0.008389493450522423,
          -0.27999046444892883,
          0.12045643478631973,
          -0.3014305531978607,
          0.019576046615839005,
          -0.09781210124492645,
          -0.12033690512180328,
          -0.20159974694252014,
          -0.258231520652771,
          -0.2684214413166046,
          -0.007660368923097849,
          0.07448747009038925,
          -0.20157168805599213
         ]
        },
        {
         "customdata": [
          [
           "\\n",
           1
          ],
          [
           "\\n",
           1
          ],
          [
           "\\n",
           1
          ],
          [
           "\\n",
           1
          ],
          [
           "\\n",
           1
          ],
          [
           "\\n",
           1
          ],
          [
           "\\n",
           1
          ],
          [
           "\\n",
           1
          ],
          [
           "\\n",
           1
          ],
          [
           "\\n",
           1
          ],
          [
           "\\n",
           1
          ],
          [
           "\\n",
           1
          ],
          [
           "\\n",
           1
          ],
          [
           "\\n",
           1
          ],
          [
           "\\n",
           1
          ],
          [
           "\\n",
           1
          ],
          [
           "\\n",
           1
          ],
          [
           "\\n",
           1
          ],
          [
           "\\n",
           1
          ],
          [
           "\\n",
           1
          ]
         ],
         "hovertemplate": "Transplanted Prompt: %{customdata[0]}<br># of Transferred Tokens: %{customdata[1]}",
         "legendgroup": "\\n",
         "marker": {
          "color": [
           1,
           1,
           1,
           1,
           1,
           1,
           1,
           1,
           1,
           1,
           1,
           1,
           1,
           1,
           1,
           1,
           1,
           1,
           1,
           1
          ],
          "coloraxis": "coloraxis",
          "symbol": "triangle-up"
         },
         "mode": "markers",
         "name": "\\n",
         "orientation": "v",
         "showlegend": true,
         "type": "scatter",
         "x": [
          -0.21193106472492218,
          -0.41724738478660583,
          -0.3820681869983673,
          -0.3393612205982208,
          -0.26929065585136414,
          -0.3079218864440918,
          -0.44121214747428894,
          -0.23446431756019592,
          -0.4431188702583313,
          0.4161633849143982,
          -0.2631264925003052,
          0.2320530116558075,
          -0.10999660193920135,
          -0.3402433395385742,
          -0.27419978380203247,
          -0.32202261686325073,
          -0.0686597228050232,
          -0.36044371128082275,
          -0.35165271162986755,
          0.1270100474357605
         ],
         "xaxis": "x",
         "y": [
          -0.37179601192474365,
          -0.019567908719182014,
          -0.06123073771595955,
          -0.27789822220802307,
          -0.3435194194316864,
          0.055758532136678696,
          -0.09378611296415329,
          0.11331801116466522,
          0.04949064552783966,
          0.29035356640815735,
          -0.3316623866558075,
          0.38070496916770935,
          -0.2428978532552719,
          0.07155962288379669,
          0.08374068886041641,
          -0.07468362152576447,
          0.2669333517551422,
          -0.16553491353988647,
          0.02121049351990223,
          0.4693396985530853
         ],
         "yaxis": "y"
        },
        {
         "customdata": [
          [
           "\\n\\n",
           1
          ],
          [
           "\\n\\n",
           1
          ],
          [
           "\\n\\n",
           1
          ],
          [
           "\\n\\n",
           1
          ],
          [
           "\\n\\n",
           1
          ],
          [
           "\\n\\n",
           1
          ],
          [
           "\\n\\n",
           1
          ],
          [
           "\\n\\n",
           1
          ],
          [
           "\\n\\n",
           1
          ],
          [
           "\\n\\n",
           1
          ],
          [
           "\\n\\n",
           1
          ],
          [
           "\\n\\n",
           1
          ],
          [
           "\\n\\n",
           1
          ],
          [
           "\\n\\n",
           1
          ],
          [
           "\\n\\n",
           1
          ],
          [
           "\\n\\n",
           1
          ],
          [
           "\\n\\n",
           1
          ],
          [
           "\\n\\n",
           1
          ],
          [
           "\\n\\n",
           1
          ],
          [
           "\\n\\n",
           1
          ],
          [
           "\\n\\n",
           2
          ],
          [
           "\\n\\n",
           2
          ],
          [
           "\\n\\n",
           2
          ],
          [
           "\\n\\n",
           2
          ],
          [
           "\\n\\n",
           2
          ],
          [
           "\\n\\n",
           2
          ],
          [
           "\\n\\n",
           2
          ],
          [
           "\\n\\n",
           2
          ],
          [
           "\\n\\n",
           2
          ],
          [
           "\\n\\n",
           2
          ],
          [
           "\\n\\n",
           2
          ],
          [
           "\\n\\n",
           2
          ],
          [
           "\\n\\n",
           2
          ],
          [
           "\\n\\n",
           2
          ],
          [
           "\\n\\n",
           2
          ],
          [
           "\\n\\n",
           2
          ],
          [
           "\\n\\n",
           2
          ],
          [
           "\\n\\n",
           2
          ],
          [
           "\\n\\n",
           2
          ],
          [
           "\\n\\n",
           2
          ]
         ],
         "hovertemplate": "Transplanted Prompt: %{customdata[0]}<br># of Transferred Tokens: %{customdata[1]}",
         "legendgroup": "\\n\\n",
         "marker": {
          "color": [
           1,
           1,
           1,
           1,
           1,
           1,
           1,
           1,
           1,
           1,
           1,
           1,
           1,
           1,
           1,
           1,
           1,
           1,
           1,
           1,
           2,
           2,
           2,
           2,
           2,
           2,
           2,
           2,
           2,
           2,
           2,
           2,
           2,
           2,
           2,
           2,
           2,
           2,
           2,
           2
          ],
          "coloraxis": "coloraxis",
          "symbol": "x"
         },
         "mode": "markers",
         "name": "\\n\\n",
         "orientation": "v",
         "showlegend": true,
         "type": "scatter",
         "x": [
          -0.33965668082237244,
          -0.2057422548532486,
          -0.4048295021057129,
          -0.3497079312801361,
          -0.11458335816860199,
          -0.3039272427558899,
          -0.37687888741493225,
          -0.3860047459602356,
          0.11399471014738083,
          -0.37227845191955566,
          -0.3960575461387634,
          -0.2717699408531189,
          0.4042578339576721,
          -0.2884116768836975,
          -0.26647287607192993,
          0.22510987520217896,
          -0.3238188624382019,
          -0.3642975687980652,
          -0.3854784071445465,
          -0.2685398757457733,
          -0.3548196852207184,
          -0.24757522344589233,
          0.22216515243053436,
          -0.39211323857307434,
          -0.38056644797325134,
          0.26587310433387756,
          0.30648913979530334,
          0.5655531883239746,
          -0.32092025876045227,
          0.5338146090507507,
          0.30705761909484863,
          0.20639270544052124,
          0.30850979685783386,
          -0.28568539023399353,
          0.27882254123687744,
          -0.2003364861011505,
          0.1808735728263855,
          0.2372201532125473,
          0.5652056932449341,
          -0.2656792998313904
         ],
         "xaxis": "x",
         "y": [
          0.14773817360401154,
          0.09245627373456955,
          -0.0649915263056755,
          -0.1404014527797699,
          0.5079037547111511,
          0.21281962096691132,
          0.11149946600198746,
          -0.12989263236522675,
          0.35059812664985657,
          0.19760465621948242,
          0.1320272535085678,
          0.115387462079525,
          0.20525427162647247,
          -0.26664406061172485,
          0.27317535877227783,
          0.33310776948928833,
          0.0075814989395439625,
          -0.15052016079425812,
          -0.08561529219150543,
          0.11701429635286331,
          -0.3765014410018921,
          0.24604131281375885,
          0.317749559879303,
          -0.24647577106952667,
          -0.25127553939819336,
          0.3186754882335663,
          0.3043624460697174,
          0.08575645089149475,
          0.020043689757585526,
          0.13898970186710358,
          0.2867942154407501,
          0.37820371985435486,
          0.32109174132347107,
          0.3244677186012268,
          0.38459599018096924,
          0.225259929895401,
          0.2690708637237549,
          0.25326576828956604,
          0.04530971124768257,
          -0.043590497225522995
         ],
         "yaxis": "y"
        },
        {
         "customdata": [
          [
           ".\\n\\n",
           1
          ],
          [
           ".\\n\\n",
           1
          ],
          [
           ".\\n\\n",
           1
          ],
          [
           ".\\n\\n",
           1
          ],
          [
           ".\\n\\n",
           1
          ],
          [
           ".\\n\\n",
           1
          ],
          [
           ".\\n\\n",
           1
          ],
          [
           ".\\n\\n",
           1
          ],
          [
           ".\\n\\n",
           1
          ],
          [
           ".\\n\\n",
           1
          ],
          [
           ".\\n\\n",
           1
          ],
          [
           ".\\n\\n",
           1
          ],
          [
           ".\\n\\n",
           1
          ],
          [
           ".\\n\\n",
           1
          ],
          [
           ".\\n\\n",
           1
          ],
          [
           ".\\n\\n",
           1
          ],
          [
           ".\\n\\n",
           1
          ],
          [
           ".\\n\\n",
           1
          ],
          [
           ".\\n\\n",
           1
          ],
          [
           ".\\n\\n",
           1
          ],
          [
           ".\\n\\n",
           2
          ],
          [
           ".\\n\\n",
           2
          ],
          [
           ".\\n\\n",
           2
          ],
          [
           ".\\n\\n",
           2
          ],
          [
           ".\\n\\n",
           2
          ],
          [
           ".\\n\\n",
           2
          ],
          [
           ".\\n\\n",
           2
          ],
          [
           ".\\n\\n",
           2
          ],
          [
           ".\\n\\n",
           2
          ],
          [
           ".\\n\\n",
           2
          ],
          [
           ".\\n\\n",
           2
          ],
          [
           ".\\n\\n",
           2
          ],
          [
           ".\\n\\n",
           2
          ],
          [
           ".\\n\\n",
           2
          ],
          [
           ".\\n\\n",
           2
          ],
          [
           ".\\n\\n",
           2
          ],
          [
           ".\\n\\n",
           2
          ],
          [
           ".\\n\\n",
           2
          ],
          [
           ".\\n\\n",
           2
          ],
          [
           ".\\n\\n",
           2
          ],
          [
           ".\\n\\n",
           3
          ],
          [
           ".\\n\\n",
           3
          ],
          [
           ".\\n\\n",
           3
          ],
          [
           ".\\n\\n",
           3
          ],
          [
           ".\\n\\n",
           3
          ],
          [
           ".\\n\\n",
           3
          ],
          [
           ".\\n\\n",
           3
          ],
          [
           ".\\n\\n",
           3
          ],
          [
           ".\\n\\n",
           3
          ],
          [
           ".\\n\\n",
           3
          ],
          [
           ".\\n\\n",
           3
          ],
          [
           ".\\n\\n",
           3
          ],
          [
           ".\\n\\n",
           3
          ],
          [
           ".\\n\\n",
           3
          ],
          [
           ".\\n\\n",
           3
          ],
          [
           ".\\n\\n",
           3
          ],
          [
           ".\\n\\n",
           3
          ],
          [
           ".\\n\\n",
           3
          ],
          [
           ".\\n\\n",
           3
          ],
          [
           ".\\n\\n",
           3
          ]
         ],
         "hovertemplate": "Transplanted Prompt: %{customdata[0]}<br># of Transferred Tokens: %{customdata[1]}",
         "legendgroup": ".\\n\\n",
         "marker": {
          "color": [
           1,
           1,
           1,
           1,
           1,
           1,
           1,
           1,
           1,
           1,
           1,
           1,
           1,
           1,
           1,
           1,
           1,
           1,
           1,
           1,
           2,
           2,
           2,
           2,
           2,
           2,
           2,
           2,
           2,
           2,
           2,
           2,
           2,
           2,
           2,
           2,
           2,
           2,
           2,
           2,
           3,
           3,
           3,
           3,
           3,
           3,
           3,
           3,
           3,
           3,
           3,
           3,
           3,
           3,
           3,
           3,
           3,
           3,
           3,
           3
          ],
          "coloraxis": "coloraxis",
          "symbol": "cross"
         },
         "mode": "markers",
         "name": ".\\n\\n",
         "orientation": "v",
         "showlegend": true,
         "type": "scatter",
         "x": [
          -0.28292474150657654,
          -0.30915945768356323,
          -0.29179519414901733,
          -0.3265918791294098,
          -0.3146253526210785,
          -0.3446960151195526,
          -0.23787575960159302,
          -0.32042065262794495,
          -0.34462985396385193,
          -0.3130701780319214,
          -0.30918440222740173,
          -0.3470313251018524,
          -0.29953956604003906,
          -0.30143314599990845,
          -0.31464698910713196,
          -0.32956230640411377,
          -0.3197072744369507,
          -0.2923632860183716,
          -0.32633405923843384,
          -0.28666484355926514,
          0.26106029748916626,
          0.2771255373954773,
          0.3862398564815521,
          0.2510444223880768,
          0.3497485816478729,
          0.12984320521354675,
          0.1894797533750534,
          0.3982829451560974,
          0.21252204477787018,
          -0.2421422004699707,
          0.38329851627349854,
          0.29657065868377686,
          0.25579261779785156,
          0.34648674726486206,
          0.2432951033115387,
          0.24401450157165527,
          0.1388075351715088,
          0.3914702236652374,
          0.21835651993751526,
          0.30531272292137146,
          -0.31443366408348083,
          -0.31443366408348083,
          -0.34972497820854187,
          -0.36754751205444336,
          -0.31744831800460815,
          -0.24074500799179077,
          -0.4347434639930725,
          -0.3063780963420868,
          -0.29747867584228516,
          -0.33557650446891785,
          -0.3214588165283203,
          -0.4869201183319092,
          -0.4536888003349304,
          -0.38104137778282166,
          -0.35589802265167236,
          -0.31744831800460815,
          -0.4448322653770447,
          -0.39709338545799255,
          -0.32852378487586975,
          -0.3144336938858032
         ],
         "xaxis": "x",
         "y": [
          0.0605335608124733,
          0.3608940839767456,
          0.4320105016231537,
          0.07280095666646957,
          0.43177199363708496,
          0.15734727680683136,
          -0.031461093574762344,
          0.4405829608440399,
          -0.09405253082513809,
          0.4318094849586487,
          0.30203136801719666,
          0.41725727915763855,
          0.009310089983046055,
          -0.018886668607592583,
          0.4293783903121948,
          0.03204651176929474,
          0.44854333996772766,
          0.33512985706329346,
          0.42741426825523376,
          0.40295761823654175,
          -0.041203394532203674,
          -0.02917611226439476,
          -0.1263977289199829,
          0.4357379376888275,
          -0.05517167970538139,
          -0.015081187710165977,
          -0.16829808056354523,
          -0.08625058829784393,
          0.045482244342565536,
          -0.3817484676837921,
          -0.07658276706933975,
          -0.08135385066270828,
          -0.08552815765142441,
          -0.1190887838602066,
          0.15364907681941986,
          0.0037767065223306417,
          0.45450904965400696,
          0.1933792680501938,
          -0.09575693309307098,
          -0.05177711322903633,
          -0.10863345861434937,
          -0.10863345861434937,
          -0.07887730747461319,
          -0.14033618569374084,
          -0.07712319493293762,
          0.09988059848546982,
          -0.0818106159567833,
          -0.11173783242702484,
          -0.05274961516261101,
          -0.051508914679288864,
          -0.07397216558456421,
          -0.2179517149925232,
          -0.037532925605773926,
          -0.12890145182609558,
          -0.1453724354505539,
          -0.07712319493293762,
          -0.21495792269706726,
          -0.06353167444467545,
          -0.13461701571941376,
          -0.10863346606492996
         ],
         "yaxis": "y"
        },
        {
         "customdata": [
          [
           "inners.\\n\\n",
           1
          ],
          [
           "inners.\\n\\n",
           1
          ],
          [
           "inners.\\n\\n",
           1
          ],
          [
           "inners.\\n\\n",
           1
          ],
          [
           "inners.\\n\\n",
           1
          ],
          [
           "inners.\\n\\n",
           1
          ],
          [
           "inners.\\n\\n",
           1
          ],
          [
           "inners.\\n\\n",
           1
          ],
          [
           "inners.\\n\\n",
           1
          ],
          [
           "inners.\\n\\n",
           1
          ],
          [
           "inners.\\n\\n",
           1
          ],
          [
           "inners.\\n\\n",
           1
          ],
          [
           "inners.\\n\\n",
           1
          ],
          [
           "inners.\\n\\n",
           1
          ],
          [
           "inners.\\n\\n",
           1
          ],
          [
           "inners.\\n\\n",
           1
          ],
          [
           "inners.\\n\\n",
           1
          ],
          [
           "inners.\\n\\n",
           1
          ],
          [
           "inners.\\n\\n",
           1
          ],
          [
           "inners.\\n\\n",
           1
          ],
          [
           "inners.\\n\\n",
           2
          ],
          [
           "inners.\\n\\n",
           2
          ],
          [
           "inners.\\n\\n",
           2
          ],
          [
           "inners.\\n\\n",
           2
          ],
          [
           "inners.\\n\\n",
           2
          ],
          [
           "inners.\\n\\n",
           2
          ],
          [
           "inners.\\n\\n",
           2
          ],
          [
           "inners.\\n\\n",
           2
          ],
          [
           "inners.\\n\\n",
           2
          ],
          [
           "inners.\\n\\n",
           2
          ],
          [
           "inners.\\n\\n",
           2
          ],
          [
           "inners.\\n\\n",
           2
          ],
          [
           "inners.\\n\\n",
           2
          ],
          [
           "inners.\\n\\n",
           2
          ],
          [
           "inners.\\n\\n",
           2
          ],
          [
           "inners.\\n\\n",
           2
          ],
          [
           "inners.\\n\\n",
           2
          ],
          [
           "inners.\\n\\n",
           2
          ],
          [
           "inners.\\n\\n",
           2
          ],
          [
           "inners.\\n\\n",
           2
          ],
          [
           "inners.\\n\\n",
           3
          ],
          [
           "inners.\\n\\n",
           3
          ],
          [
           "inners.\\n\\n",
           3
          ],
          [
           "inners.\\n\\n",
           3
          ],
          [
           "inners.\\n\\n",
           3
          ],
          [
           "inners.\\n\\n",
           3
          ],
          [
           "inners.\\n\\n",
           3
          ],
          [
           "inners.\\n\\n",
           3
          ],
          [
           "inners.\\n\\n",
           3
          ],
          [
           "inners.\\n\\n",
           3
          ],
          [
           "inners.\\n\\n",
           3
          ],
          [
           "inners.\\n\\n",
           3
          ],
          [
           "inners.\\n\\n",
           3
          ],
          [
           "inners.\\n\\n",
           3
          ],
          [
           "inners.\\n\\n",
           3
          ],
          [
           "inners.\\n\\n",
           3
          ],
          [
           "inners.\\n\\n",
           3
          ],
          [
           "inners.\\n\\n",
           3
          ],
          [
           "inners.\\n\\n",
           3
          ],
          [
           "inners.\\n\\n",
           3
          ],
          [
           "inners.\\n\\n",
           4
          ],
          [
           "inners.\\n\\n",
           4
          ],
          [
           "inners.\\n\\n",
           4
          ],
          [
           "inners.\\n\\n",
           4
          ],
          [
           "inners.\\n\\n",
           4
          ],
          [
           "inners.\\n\\n",
           4
          ],
          [
           "inners.\\n\\n",
           4
          ],
          [
           "inners.\\n\\n",
           4
          ],
          [
           "inners.\\n\\n",
           4
          ],
          [
           "inners.\\n\\n",
           4
          ],
          [
           "inners.\\n\\n",
           4
          ],
          [
           "inners.\\n\\n",
           4
          ],
          [
           "inners.\\n\\n",
           4
          ],
          [
           "inners.\\n\\n",
           4
          ],
          [
           "inners.\\n\\n",
           4
          ],
          [
           "inners.\\n\\n",
           4
          ],
          [
           "inners.\\n\\n",
           4
          ],
          [
           "inners.\\n\\n",
           4
          ],
          [
           "inners.\\n\\n",
           4
          ],
          [
           "inners.\\n\\n",
           4
          ]
         ],
         "hovertemplate": "Transplanted Prompt: %{customdata[0]}<br># of Transferred Tokens: %{customdata[1]}",
         "legendgroup": "inners.\\n\\n",
         "marker": {
          "color": [
           1,
           1,
           1,
           1,
           1,
           1,
           1,
           1,
           1,
           1,
           1,
           1,
           1,
           1,
           1,
           1,
           1,
           1,
           1,
           1,
           2,
           2,
           2,
           2,
           2,
           2,
           2,
           2,
           2,
           2,
           2,
           2,
           2,
           2,
           2,
           2,
           2,
           2,
           2,
           2,
           3,
           3,
           3,
           3,
           3,
           3,
           3,
           3,
           3,
           3,
           3,
           3,
           3,
           3,
           3,
           3,
           3,
           3,
           3,
           3,
           4,
           4,
           4,
           4,
           4,
           4,
           4,
           4,
           4,
           4,
           4,
           4,
           4,
           4,
           4,
           4,
           4,
           4,
           4,
           4
          ],
          "coloraxis": "coloraxis",
          "symbol": "diamond"
         },
         "mode": "markers",
         "name": "inners.\\n\\n",
         "orientation": "v",
         "showlegend": true,
         "type": "scatter",
         "x": [
          -0.4057639539241791,
          -0.330390989780426,
          -0.34588608145713806,
          -0.1055665910243988,
          0.1587991863489151,
          -0.370750367641449,
          -0.2823473811149597,
          -0.3401259481906891,
          -0.43806010484695435,
          -0.33787328004837036,
          -0.24414794147014618,
          -0.3398187458515167,
          -0.2986488938331604,
          -0.41299399733543396,
          0.28618818521499634,
          -0.3819988965988159,
          -0.26071637868881226,
          -0.42001643776893616,
          -0.15044645965099335,
          -0.23504851758480072,
          -0.24328376352787018,
          -0.2939137816429138,
          0.3789670467376709,
          -0.2312842160463333,
          -0.29356831312179565,
          -0.23874197900295258,
          0.0013052239082753658,
          -0.009221606887876987,
          -0.3044222295284271,
          -0.31079918146133423,
          -0.23694299161434174,
          -0.27290865778923035,
          0.012470759451389313,
          -0.3553919494152069,
          -0.31281885504722595,
          -0.2609499990940094,
          -0.31548091769218445,
          -0.36742833256721497,
          -0.33884650468826294,
          -0.4066440463066101,
          -0.061599984765052795,
          0.23775754868984222,
          0.5242336988449097,
          0.3904736638069153,
          0.4805706739425659,
          0.3642744719982147,
          0.5421074032783508,
          0.09112133085727692,
          -0.2723250389099121,
          0.45517247915267944,
          0.1941189169883728,
          -0.3560572564601898,
          0.32431408762931824,
          0.4799169898033142,
          -0.3025534749031067,
          -0.17342497408390045,
          0.4739353656768799,
          0.3243134617805481,
          -0.0456426665186882,
          0.11421952396631241,
          0.36864930391311646,
          0.43166109919548035,
          -0.4231778383255005,
          0.4425402879714966,
          0.3848739266395569,
          0.5127425193786621,
          -0.17069751024246216,
          0.28248006105422974,
          0.48574140667915344,
          0.3479577898979187,
          0.4020688831806183,
          0.45384708046913147,
          -0.2879759967327118,
          0.2738811671733856,
          -0.28814446926116943,
          0.4665879011154175,
          0.22120732069015503,
          0.012424635700881481,
          0.44772806763648987,
          -0.37800133228302
         ],
         "xaxis": "x",
         "y": [
          -0.05855802074074745,
          -0.29666420817375183,
          -0.23231150209903717,
          -0.015085806138813496,
          0.14017058908939362,
          -0.34782689809799194,
          -0.40275004506111145,
          -0.17138195037841797,
          -0.2732517719268799,
          -0.06382956355810165,
          0.0864224061369896,
          -0.19964668154716492,
          -0.2549971640110016,
          -0.17042337357997894,
          0.06702553480863571,
          -0.09943592548370361,
          -0.35814499855041504,
          -0.028288163244724274,
          0.10317003726959229,
          -0.27707043290138245,
          -0.14756421744823456,
          -0.2564929723739624,
          0.08248216658830643,
          -0.26768171787261963,
          -0.1579071581363678,
          -0.15835842490196228,
          -0.3023700714111328,
          -0.25967568159103394,
          0.018041115254163742,
          -0.16871869564056396,
          -0.2675640881061554,
          0.07801781594753265,
          0.1857052892446518,
          -0.06575746834278107,
          -0.27091705799102783,
          0.05343685671687126,
          -0.10509401559829712,
          -0.21414019167423248,
          0.09785167872905731,
          -0.2669151723384857,
          0.37455257773399353,
          -0.22959257662296295,
          -0.014030697755515575,
          -0.012599959038197994,
          -0.28364038467407227,
          -0.4128495752811432,
          -0.0961679071187973,
          -0.283854216337204,
          -0.40022751688957214,
          -0.24830418825149536,
          -0.29579290747642517,
          -0.053061701357364655,
          -0.18837736546993256,
          0.10271980613470078,
          -0.2776203453540802,
          -0.14302051067352295,
          -0.28104931116104126,
          0.34987160563468933,
          -0.14507916569709778,
          0.2787078320980072,
          -0.2104218602180481,
          -0.3569009006023407,
          0.007572082336992025,
          -0.35621944069862366,
          -0.363216757774353,
          0.06264012306928635,
          -0.24922840297222137,
          -0.13565032184123993,
          -0.3252337574958801,
          -0.4043659567832947,
          -0.39419206976890564,
          -0.23141342401504517,
          -0.13508222997188568,
          -0.34178394079208374,
          0.06945516914129257,
          -0.3296286165714264,
          -0.012282888405025005,
          -0.07090815156698227,
          -0.32002076506614685,
          -0.19412168860435486
         ],
         "yaxis": "y"
        },
        {
         "customdata": [
          [
           " dinners.\\n\\n",
           1
          ],
          [
           " dinners.\\n\\n",
           1
          ],
          [
           " dinners.\\n\\n",
           1
          ],
          [
           " dinners.\\n\\n",
           1
          ],
          [
           " dinners.\\n\\n",
           1
          ],
          [
           " dinners.\\n\\n",
           1
          ],
          [
           " dinners.\\n\\n",
           1
          ],
          [
           " dinners.\\n\\n",
           1
          ],
          [
           " dinners.\\n\\n",
           1
          ],
          [
           " dinners.\\n\\n",
           1
          ],
          [
           " dinners.\\n\\n",
           1
          ],
          [
           " dinners.\\n\\n",
           1
          ],
          [
           " dinners.\\n\\n",
           1
          ],
          [
           " dinners.\\n\\n",
           1
          ],
          [
           " dinners.\\n\\n",
           1
          ],
          [
           " dinners.\\n\\n",
           1
          ],
          [
           " dinners.\\n\\n",
           1
          ],
          [
           " dinners.\\n\\n",
           1
          ],
          [
           " dinners.\\n\\n",
           1
          ],
          [
           " dinners.\\n\\n",
           1
          ],
          [
           " dinners.\\n\\n",
           2
          ],
          [
           " dinners.\\n\\n",
           2
          ],
          [
           " dinners.\\n\\n",
           2
          ],
          [
           " dinners.\\n\\n",
           2
          ],
          [
           " dinners.\\n\\n",
           2
          ],
          [
           " dinners.\\n\\n",
           2
          ],
          [
           " dinners.\\n\\n",
           2
          ],
          [
           " dinners.\\n\\n",
           2
          ],
          [
           " dinners.\\n\\n",
           2
          ],
          [
           " dinners.\\n\\n",
           2
          ],
          [
           " dinners.\\n\\n",
           2
          ],
          [
           " dinners.\\n\\n",
           2
          ],
          [
           " dinners.\\n\\n",
           2
          ],
          [
           " dinners.\\n\\n",
           2
          ],
          [
           " dinners.\\n\\n",
           2
          ],
          [
           " dinners.\\n\\n",
           2
          ],
          [
           " dinners.\\n\\n",
           2
          ],
          [
           " dinners.\\n\\n",
           2
          ],
          [
           " dinners.\\n\\n",
           2
          ],
          [
           " dinners.\\n\\n",
           2
          ],
          [
           " dinners.\\n\\n",
           3
          ],
          [
           " dinners.\\n\\n",
           3
          ],
          [
           " dinners.\\n\\n",
           3
          ],
          [
           " dinners.\\n\\n",
           3
          ],
          [
           " dinners.\\n\\n",
           3
          ],
          [
           " dinners.\\n\\n",
           3
          ],
          [
           " dinners.\\n\\n",
           3
          ],
          [
           " dinners.\\n\\n",
           3
          ],
          [
           " dinners.\\n\\n",
           3
          ],
          [
           " dinners.\\n\\n",
           3
          ],
          [
           " dinners.\\n\\n",
           3
          ],
          [
           " dinners.\\n\\n",
           3
          ],
          [
           " dinners.\\n\\n",
           3
          ],
          [
           " dinners.\\n\\n",
           3
          ],
          [
           " dinners.\\n\\n",
           3
          ],
          [
           " dinners.\\n\\n",
           3
          ],
          [
           " dinners.\\n\\n",
           3
          ],
          [
           " dinners.\\n\\n",
           3
          ],
          [
           " dinners.\\n\\n",
           3
          ],
          [
           " dinners.\\n\\n",
           3
          ],
          [
           " dinners.\\n\\n",
           4
          ],
          [
           " dinners.\\n\\n",
           4
          ],
          [
           " dinners.\\n\\n",
           4
          ],
          [
           " dinners.\\n\\n",
           4
          ],
          [
           " dinners.\\n\\n",
           4
          ],
          [
           " dinners.\\n\\n",
           4
          ],
          [
           " dinners.\\n\\n",
           4
          ],
          [
           " dinners.\\n\\n",
           4
          ],
          [
           " dinners.\\n\\n",
           4
          ],
          [
           " dinners.\\n\\n",
           4
          ],
          [
           " dinners.\\n\\n",
           4
          ],
          [
           " dinners.\\n\\n",
           4
          ],
          [
           " dinners.\\n\\n",
           4
          ],
          [
           " dinners.\\n\\n",
           4
          ],
          [
           " dinners.\\n\\n",
           4
          ],
          [
           " dinners.\\n\\n",
           4
          ],
          [
           " dinners.\\n\\n",
           4
          ],
          [
           " dinners.\\n\\n",
           4
          ],
          [
           " dinners.\\n\\n",
           4
          ],
          [
           " dinners.\\n\\n",
           4
          ],
          [
           " dinners.\\n\\n",
           5
          ],
          [
           " dinners.\\n\\n",
           5
          ],
          [
           " dinners.\\n\\n",
           5
          ],
          [
           " dinners.\\n\\n",
           5
          ],
          [
           " dinners.\\n\\n",
           5
          ],
          [
           " dinners.\\n\\n",
           5
          ],
          [
           " dinners.\\n\\n",
           5
          ],
          [
           " dinners.\\n\\n",
           5
          ],
          [
           " dinners.\\n\\n",
           5
          ],
          [
           " dinners.\\n\\n",
           5
          ],
          [
           " dinners.\\n\\n",
           5
          ],
          [
           " dinners.\\n\\n",
           5
          ],
          [
           " dinners.\\n\\n",
           5
          ],
          [
           " dinners.\\n\\n",
           5
          ],
          [
           " dinners.\\n\\n",
           5
          ],
          [
           " dinners.\\n\\n",
           5
          ],
          [
           " dinners.\\n\\n",
           5
          ],
          [
           " dinners.\\n\\n",
           5
          ],
          [
           " dinners.\\n\\n",
           5
          ],
          [
           " dinners.\\n\\n",
           5
          ]
         ],
         "hovertemplate": "Transplanted Prompt: %{customdata[0]}<br># of Transferred Tokens: %{customdata[1]}",
         "legendgroup": " dinners.\\n\\n",
         "marker": {
          "color": [
           1,
           1,
           1,
           1,
           1,
           1,
           1,
           1,
           1,
           1,
           1,
           1,
           1,
           1,
           1,
           1,
           1,
           1,
           1,
           1,
           2,
           2,
           2,
           2,
           2,
           2,
           2,
           2,
           2,
           2,
           2,
           2,
           2,
           2,
           2,
           2,
           2,
           2,
           2,
           2,
           3,
           3,
           3,
           3,
           3,
           3,
           3,
           3,
           3,
           3,
           3,
           3,
           3,
           3,
           3,
           3,
           3,
           3,
           3,
           3,
           4,
           4,
           4,
           4,
           4,
           4,
           4,
           4,
           4,
           4,
           4,
           4,
           4,
           4,
           4,
           4,
           4,
           4,
           4,
           4,
           5,
           5,
           5,
           5,
           5,
           5,
           5,
           5,
           5,
           5,
           5,
           5,
           5,
           5,
           5,
           5,
           5,
           5,
           5,
           5
          ],
          "coloraxis": "coloraxis",
          "symbol": "square"
         },
         "mode": "markers",
         "name": " dinners.\\n\\n",
         "orientation": "v",
         "showlegend": true,
         "type": "scatter",
         "x": [
          -0.11060972511768341,
          -0.01052449457347393,
          -0.18127748370170593,
          0.022284356877207756,
          -0.20012272894382477,
          -0.08301656693220139,
          0.07994774729013443,
          -0.11787013709545135,
          -0.1852015107870102,
          0.25993290543556213,
          0.05544651299715042,
          -0.12079863250255585,
          -0.15303349494934082,
          -0.2616574466228485,
          -0.15872758626937866,
          -0.08022104948759079,
          -0.11528100073337555,
          -0.00035156868398189545,
          -0.15844155848026276,
          -0.14233261346817017,
          0.19941745698451996,
          -0.20074954628944397,
          -0.1483079195022583,
          -0.09441982209682465,
          -0.12081358581781387,
          -0.035021986812353134,
          -0.21399538218975067,
          -0.14306220412254333,
          -0.10275305807590485,
          0.21154002845287323,
          -0.05250167474150658,
          -0.17930744588375092,
          -0.18787209689617157,
          -0.10745877772569656,
          0.4040522575378418,
          -0.24864554405212402,
          -0.1458461582660675,
          -0.13552485406398773,
          -0.15308432281017303,
          -0.19911040365695953,
          0.13182491064071655,
          0.054973408579826355,
          0.516032874584198,
          0.01312296837568283,
          0.1958330124616623,
          0.47231513261795044,
          0.19276641309261322,
          0.45646756887435913,
          0.13520994782447815,
          0.019096342846751213,
          0.35643255710601807,
          0.26423558592796326,
          0.08185144513845444,
          -0.09771618992090225,
          0.28710225224494934,
          0.39889776706695557,
          0.3752630949020386,
          0.3901437520980835,
          -0.09938886016607285,
          0.08564358204603195,
          -0.13951054215431213,
          0.07502377033233643,
          -0.06126425415277481,
          -0.24966691434383392,
          0.45979440212249756,
          0.587863028049469,
          0.05510009825229645,
          -0.1363614797592163,
          -0.3826400339603424,
          0.09284614771604538,
          -0.38162368535995483,
          0.28331100940704346,
          0.237385556101799,
          -0.2273864597082138,
          -0.14044296741485596,
          0.15674763917922974,
          0.0018639996415004134,
          0.2704100012779236,
          0.15540747344493866,
          -0.25046446919441223,
          0.01321139931678772,
          0.14397618174552917,
          0.4317491948604584,
          0.08085799962282181,
          0.4646204113960266,
          0.42404407262802124,
          -0.2705615162849426,
          0.1298670470714569,
          0.5039579272270203,
          0.5086899995803833,
          0.3910054862499237,
          0.43341684341430664,
          0.5363455414772034,
          0.43793100118637085,
          0.4453872740268707,
          -0.10925433784723282,
          0.4557947516441345,
          0.4415869116783142,
          0.292764276266098,
          0.2782602310180664
         ],
         "xaxis": "x",
         "y": [
          0.26510125398635864,
          0.34225985407829285,
          0.29168200492858887,
          0.38046538829803467,
          0.2625666558742523,
          0.3394502103328705,
          -0.26518815755844116,
          0.22683720290660858,
          0.28279241919517517,
          0.3299580216407776,
          0.3137759864330292,
          0.3227110505104065,
          -0.14580848813056946,
          0.3068176805973053,
          0.2755172848701477,
          0.3042146861553192,
          0.1759788542985916,
          0.22629179060459137,
          0.25475993752479553,
          0.25261470675468445,
          0.3039349317550659,
          0.31487762928009033,
          0.3186676502227783,
          -0.26147034764289856,
          0.2783713936805725,
          0.32687243819236755,
          0.2534862458705902,
          0.2275095283985138,
          0.32338014245033264,
          0.2933657169342041,
          0.10490909218788147,
          -0.22983776032924652,
          0.2579718828201294,
          0.2061363309621811,
          0.24243056774139404,
          0.24729572236537933,
          0.09419266879558563,
          0.4128597378730774,
          0.25862589478492737,
          0.30083614587783813,
          0.33499643206596375,
          -0.19722341001033783,
          -0.09526766836643219,
          -0.10271113365888596,
          0.032697949558496475,
          0.1885117143392563,
          0.2711915671825409,
          0.03139806166291237,
          -0.10289263725280762,
          0.3724087178707123,
          -0.017357947304844856,
          0.039185889065265656,
          -0.12770527601242065,
          -0.09989012032747269,
          0.07180353254079819,
          0.29169803857803345,
          -0.09412884712219238,
          -0.0694955363869667,
          -0.3038274645805359,
          -0.2503846287727356,
          0.08215770125389099,
          -0.280480295419693,
          -0.119354747235775,
          -0.15368440747261047,
          0.17130260169506073,
          0.059087738394737244,
          -0.06395992636680603,
          -0.035043325275182724,
          -0.27096763253211975,
          0.03592276945710182,
          -0.18555498123168945,
          -0.2310248166322708,
          0.35935360193252563,
          0.21731166541576385,
          -0.24374963343143463,
          -0.16493268311023712,
          -0.27296316623687744,
          0.2347998470067978,
          0.224786177277565,
          -0.030644148588180542,
          -0.24083566665649414,
          -0.08020035177469254,
          0.07144876569509506,
          -0.2575470507144928,
          -0.08803538978099823,
          -0.3405722379684448,
          -0.3908741772174835,
          -0.27878648042678833,
          -0.23583148419857025,
          -0.2115897387266159,
          0.1561088114976883,
          0.18166346848011017,
          -0.1766156703233719,
          0.2104058563709259,
          -0.32765692472457886,
          -0.27047356963157654,
          -0.3523206412792206,
          0.07222454249858856,
          0.37286633253097534,
          -0.3096071183681488
         ],
         "yaxis": "y"
        },
        {
         "customdata": [
          [
           "Sunday dinners.\\n\\n",
           1
          ],
          [
           "Sunday dinners.\\n\\n",
           1
          ],
          [
           "Sunday dinners.\\n\\n",
           1
          ],
          [
           "Sunday dinners.\\n\\n",
           1
          ],
          [
           "Sunday dinners.\\n\\n",
           1
          ],
          [
           "Sunday dinners.\\n\\n",
           1
          ],
          [
           "Sunday dinners.\\n\\n",
           1
          ],
          [
           "Sunday dinners.\\n\\n",
           1
          ],
          [
           "Sunday dinners.\\n\\n",
           1
          ],
          [
           "Sunday dinners.\\n\\n",
           1
          ],
          [
           "Sunday dinners.\\n\\n",
           1
          ],
          [
           "Sunday dinners.\\n\\n",
           1
          ],
          [
           "Sunday dinners.\\n\\n",
           1
          ],
          [
           "Sunday dinners.\\n\\n",
           1
          ],
          [
           "Sunday dinners.\\n\\n",
           1
          ],
          [
           "Sunday dinners.\\n\\n",
           1
          ],
          [
           "Sunday dinners.\\n\\n",
           1
          ],
          [
           "Sunday dinners.\\n\\n",
           1
          ],
          [
           "Sunday dinners.\\n\\n",
           1
          ],
          [
           "Sunday dinners.\\n\\n",
           1
          ],
          [
           "Sunday dinners.\\n\\n",
           2
          ],
          [
           "Sunday dinners.\\n\\n",
           2
          ],
          [
           "Sunday dinners.\\n\\n",
           2
          ],
          [
           "Sunday dinners.\\n\\n",
           2
          ],
          [
           "Sunday dinners.\\n\\n",
           2
          ],
          [
           "Sunday dinners.\\n\\n",
           2
          ],
          [
           "Sunday dinners.\\n\\n",
           2
          ],
          [
           "Sunday dinners.\\n\\n",
           2
          ],
          [
           "Sunday dinners.\\n\\n",
           2
          ],
          [
           "Sunday dinners.\\n\\n",
           2
          ],
          [
           "Sunday dinners.\\n\\n",
           2
          ],
          [
           "Sunday dinners.\\n\\n",
           2
          ],
          [
           "Sunday dinners.\\n\\n",
           2
          ],
          [
           "Sunday dinners.\\n\\n",
           2
          ],
          [
           "Sunday dinners.\\n\\n",
           2
          ],
          [
           "Sunday dinners.\\n\\n",
           2
          ],
          [
           "Sunday dinners.\\n\\n",
           2
          ],
          [
           "Sunday dinners.\\n\\n",
           2
          ],
          [
           "Sunday dinners.\\n\\n",
           2
          ],
          [
           "Sunday dinners.\\n\\n",
           2
          ],
          [
           "Sunday dinners.\\n\\n",
           3
          ],
          [
           "Sunday dinners.\\n\\n",
           3
          ],
          [
           "Sunday dinners.\\n\\n",
           3
          ],
          [
           "Sunday dinners.\\n\\n",
           3
          ],
          [
           "Sunday dinners.\\n\\n",
           3
          ],
          [
           "Sunday dinners.\\n\\n",
           3
          ],
          [
           "Sunday dinners.\\n\\n",
           3
          ],
          [
           "Sunday dinners.\\n\\n",
           3
          ],
          [
           "Sunday dinners.\\n\\n",
           3
          ],
          [
           "Sunday dinners.\\n\\n",
           3
          ],
          [
           "Sunday dinners.\\n\\n",
           3
          ],
          [
           "Sunday dinners.\\n\\n",
           3
          ],
          [
           "Sunday dinners.\\n\\n",
           3
          ],
          [
           "Sunday dinners.\\n\\n",
           3
          ],
          [
           "Sunday dinners.\\n\\n",
           3
          ],
          [
           "Sunday dinners.\\n\\n",
           3
          ],
          [
           "Sunday dinners.\\n\\n",
           3
          ],
          [
           "Sunday dinners.\\n\\n",
           3
          ],
          [
           "Sunday dinners.\\n\\n",
           3
          ],
          [
           "Sunday dinners.\\n\\n",
           3
          ],
          [
           "Sunday dinners.\\n\\n",
           4
          ],
          [
           "Sunday dinners.\\n\\n",
           4
          ],
          [
           "Sunday dinners.\\n\\n",
           4
          ],
          [
           "Sunday dinners.\\n\\n",
           4
          ],
          [
           "Sunday dinners.\\n\\n",
           4
          ],
          [
           "Sunday dinners.\\n\\n",
           4
          ],
          [
           "Sunday dinners.\\n\\n",
           4
          ],
          [
           "Sunday dinners.\\n\\n",
           4
          ],
          [
           "Sunday dinners.\\n\\n",
           4
          ],
          [
           "Sunday dinners.\\n\\n",
           4
          ],
          [
           "Sunday dinners.\\n\\n",
           4
          ],
          [
           "Sunday dinners.\\n\\n",
           4
          ],
          [
           "Sunday dinners.\\n\\n",
           4
          ],
          [
           "Sunday dinners.\\n\\n",
           4
          ],
          [
           "Sunday dinners.\\n\\n",
           4
          ],
          [
           "Sunday dinners.\\n\\n",
           4
          ],
          [
           "Sunday dinners.\\n\\n",
           4
          ],
          [
           "Sunday dinners.\\n\\n",
           4
          ],
          [
           "Sunday dinners.\\n\\n",
           4
          ],
          [
           "Sunday dinners.\\n\\n",
           4
          ],
          [
           "Sunday dinners.\\n\\n",
           5
          ],
          [
           "Sunday dinners.\\n\\n",
           5
          ],
          [
           "Sunday dinners.\\n\\n",
           5
          ],
          [
           "Sunday dinners.\\n\\n",
           5
          ],
          [
           "Sunday dinners.\\n\\n",
           5
          ],
          [
           "Sunday dinners.\\n\\n",
           5
          ],
          [
           "Sunday dinners.\\n\\n",
           5
          ],
          [
           "Sunday dinners.\\n\\n",
           5
          ],
          [
           "Sunday dinners.\\n\\n",
           5
          ],
          [
           "Sunday dinners.\\n\\n",
           5
          ],
          [
           "Sunday dinners.\\n\\n",
           5
          ],
          [
           "Sunday dinners.\\n\\n",
           5
          ],
          [
           "Sunday dinners.\\n\\n",
           5
          ],
          [
           "Sunday dinners.\\n\\n",
           5
          ],
          [
           "Sunday dinners.\\n\\n",
           5
          ],
          [
           "Sunday dinners.\\n\\n",
           5
          ],
          [
           "Sunday dinners.\\n\\n",
           5
          ],
          [
           "Sunday dinners.\\n\\n",
           5
          ],
          [
           "Sunday dinners.\\n\\n",
           5
          ],
          [
           "Sunday dinners.\\n\\n",
           5
          ],
          [
           "Sunday dinners.\\n\\n",
           6
          ],
          [
           "Sunday dinners.\\n\\n",
           6
          ],
          [
           "Sunday dinners.\\n\\n",
           6
          ],
          [
           "Sunday dinners.\\n\\n",
           6
          ],
          [
           "Sunday dinners.\\n\\n",
           6
          ],
          [
           "Sunday dinners.\\n\\n",
           6
          ],
          [
           "Sunday dinners.\\n\\n",
           6
          ],
          [
           "Sunday dinners.\\n\\n",
           6
          ],
          [
           "Sunday dinners.\\n\\n",
           6
          ],
          [
           "Sunday dinners.\\n\\n",
           6
          ],
          [
           "Sunday dinners.\\n\\n",
           6
          ],
          [
           "Sunday dinners.\\n\\n",
           6
          ],
          [
           "Sunday dinners.\\n\\n",
           6
          ],
          [
           "Sunday dinners.\\n\\n",
           6
          ],
          [
           "Sunday dinners.\\n\\n",
           6
          ],
          [
           "Sunday dinners.\\n\\n",
           6
          ],
          [
           "Sunday dinners.\\n\\n",
           6
          ],
          [
           "Sunday dinners.\\n\\n",
           6
          ],
          [
           "Sunday dinners.\\n\\n",
           6
          ],
          [
           "Sunday dinners.\\n\\n",
           6
          ]
         ],
         "hovertemplate": "Transplanted Prompt: %{customdata[0]}<br># of Transferred Tokens: %{customdata[1]}",
         "legendgroup": "Sunday dinners.\\n\\n",
         "marker": {
          "color": [
           1,
           1,
           1,
           1,
           1,
           1,
           1,
           1,
           1,
           1,
           1,
           1,
           1,
           1,
           1,
           1,
           1,
           1,
           1,
           1,
           2,
           2,
           2,
           2,
           2,
           2,
           2,
           2,
           2,
           2,
           2,
           2,
           2,
           2,
           2,
           2,
           2,
           2,
           2,
           2,
           3,
           3,
           3,
           3,
           3,
           3,
           3,
           3,
           3,
           3,
           3,
           3,
           3,
           3,
           3,
           3,
           3,
           3,
           3,
           3,
           4,
           4,
           4,
           4,
           4,
           4,
           4,
           4,
           4,
           4,
           4,
           4,
           4,
           4,
           4,
           4,
           4,
           4,
           4,
           4,
           5,
           5,
           5,
           5,
           5,
           5,
           5,
           5,
           5,
           5,
           5,
           5,
           5,
           5,
           5,
           5,
           5,
           5,
           5,
           5,
           6,
           6,
           6,
           6,
           6,
           6,
           6,
           6,
           6,
           6,
           6,
           6,
           6,
           6,
           6,
           6,
           6,
           6,
           6,
           6
          ],
          "coloraxis": "coloraxis",
          "symbol": "circle"
         },
         "mode": "markers",
         "name": "Sunday dinners.\\n\\n",
         "orientation": "v",
         "showlegend": true,
         "type": "scatter",
         "x": [
          0.08858608454465866,
          0.4351407587528229,
          -0.03251387178897858,
          0.4049333333969116,
          -0.2684617042541504,
          -0.13979995250701904,
          0.046454161405563354,
          0.41772401332855225,
          0.4494095742702484,
          0.5130224823951721,
          -0.07006052881479263,
          0.39608797430992126,
          0.3385545015335083,
          0.02193971909582615,
          0.010318332351744175,
          -0.35210639238357544,
          -0.4051576852798462,
          0.02667594514787197,
          0.44897907972335815,
          0.1291261613368988,
          0.5087727904319763,
          -0.3014748692512512,
          0.4324982166290283,
          -0.12445498257875443,
          0.55379718542099,
          0.3061470687389374,
          0.4927782714366913,
          0.2980908751487732,
          0.0073091876693069935,
          0.4211750030517578,
          -0.011328840628266335,
          -0.017525233328342438,
          0.03875160962343216,
          0.2449352890253067,
          0.46760401129722595,
          0.45669057965278625,
          0.25888586044311523,
          0.1619798243045807,
          0.31557124853134155,
          0.33421599864959717,
          0.17633521556854248,
          0.07310264557600021,
          0.4994107782840729,
          0.41307345032691956,
          0.4089210033416748,
          0.3922668695449829,
          0.41364240646362305,
          0.3367818593978882,
          0.20431679487228394,
          0.46355098485946655,
          0.4467372000217438,
          0.5142145752906799,
          0.485405296087265,
          0.3172494173049927,
          0.2709586024284363,
          0.4145568907260895,
          0.5121235251426697,
          0.008101933635771275,
          0.4082210659980774,
          0.5523569583892822,
          0.4441329836845398,
          -0.13685418665409088,
          0.5689601898193359,
          0.5602470636367798,
          0.4375017285346985,
          0.0034088401589542627,
          0.3727501630783081,
          0.5087063312530518,
          0.2647895812988281,
          0.2982468605041504,
          -0.320615291595459,
          -0.2247006893157959,
          0.30679216980934143,
          0.4003322720527649,
          0.3210480809211731,
          0.4664069712162018,
          0.32995715737342834,
          0.4131110906600952,
          0.3809782862663269,
          0.4592556059360504,
          0.30013206601142883,
          0.4964464604854584,
          0.5496386289596558,
          0.4554522931575775,
          0.36362209916114807,
          0.3922150135040283,
          0.5213381052017212,
          0.08210348337888718,
          -0.3742679953575134,
          0.3783434331417084,
          0.24997666478157043,
          0.4750959873199463,
          0.47542470693588257,
          0.3099776804447174,
          0.013321525417268276,
          0.4900378882884979,
          0.4702959358692169,
          0.516132652759552,
          0.37485870718955994,
          0.5200294852256775,
          -0.2663317024707794,
          -0.26718658208847046,
          -0.27686962485313416,
          -0.3187800645828247,
          -0.25054118037223816,
          -0.3543812036514282,
          0.11721892654895782,
          -0.15989655256271362,
          -0.22439216077327728,
          -0.31922945380210876,
          -0.27277830243110657,
          -0.09251348674297333,
          -0.09251348674297333,
          -0.2809053361415863,
          -0.39290913939476013,
          -0.3449993431568146,
          -0.2937191128730774,
          -0.38629743456840515,
          -0.3202126920223236,
          -0.2715200185775757
         ],
         "xaxis": "x",
         "y": [
          0.34114059805870056,
          -0.06956331431865692,
          0.429646372795105,
          0.24320852756500244,
          0.010031637735664845,
          0.030222957953810692,
          0.3627442419528961,
          0.1902848482131958,
          0.1722809225320816,
          0.13712310791015625,
          0.28505751490592957,
          0.05818953365087509,
          0.2678963541984558,
          -0.2749403119087219,
          0.326761931180954,
          -0.18479947745800018,
          -0.14567145705223083,
          0.47992587089538574,
          0.12128382176160812,
          0.12976765632629395,
          0.044306397438049316,
          0.16022805869579315,
          0.12613815069198608,
          -0.25285014510154724,
          0.04516219720244408,
          0.17579369246959686,
          -0.053636644035577774,
          0.13097037374973297,
          -0.21164169907569885,
          -0.06041960418224335,
          -0.3649533689022064,
          -0.18872739374637604,
          -0.2026166468858719,
          0.039514731615781784,
          0.15110871195793152,
          0.19169899821281433,
          0.27075451612472534,
          0.3964459002017975,
          0.2295699268579483,
          0.1803380697965622,
          -0.21326600015163422,
          -0.24056531488895416,
          -0.028550680726766586,
          0.10400264710187912,
          0.09685976058244705,
          0.10544628649950027,
          0.0052583832293748856,
          0.043260786682367325,
          0.2509869337081909,
          0.19939061999320984,
          0.04881872981786728,
          -0.050166867673397064,
          -0.09404187649488449,
          -0.10447648167610168,
          0.20218785107135773,
          0.14832322299480438,
          0.005124090239405632,
          -0.23445424437522888,
          -0.02486252412199974,
          0.16264787316322327,
          0.09769606590270996,
          0.030811632052063942,
          0.06384644657373428,
          0.11352504789829254,
          0.130554661154747,
          -0.261850506067276,
          0.11616425216197968,
          -0.2634187340736389,
          0.16913150250911713,
          0.2016819566488266,
          -0.19515179097652435,
          -0.41221821308135986,
          0.21212632954120636,
          0.06518694758415222,
          0.16312985122203827,
          0.11685866117477417,
          0.22679489850997925,
          0.20485791563987732,
          0.04724154993891716,
          0.14613302052021027,
          0.16810904443264008,
          -0.06543010473251343,
          0.10948430001735687,
          0.08844529837369919,
          0.18187299370765686,
          0.18956421315670013,
          0.04023735225200653,
          0.12215741723775864,
          -0.27511361241340637,
          0.22124388813972473,
          0.13097068667411804,
          -0.08724784851074219,
          0.04860839620232582,
          0.18673057854175568,
          -0.135453462600708,
          -0.17855103313922882,
          -0.2419348657131195,
          0.018145611509680748,
          0.14705032110214233,
          0.07261017709970474,
          -0.08080531656742096,
          -0.0865941122174263,
          -0.12143324315547943,
          -0.25453874468803406,
          -0.02962772361934185,
          0.1794920414686203,
          -0.14369986951351166,
          -0.034837063401937485,
          -0.12989361584186554,
          -0.08761563897132874,
          -0.0823197066783905,
          -0.10665116459131241,
          -0.10665116459131241,
          0.15564651787281036,
          0.04539972171187401,
          -0.05077067390084267,
          -0.10513949394226074,
          0.03821967914700508,
          -0.0779871866106987,
          -0.09671573340892792
         ],
         "yaxis": "y"
        }
       ],
       "layout": {
        "coloraxis": {
         "colorbar": {
          "title": {
           "text": "transferred_token_num"
          },
          "x": 100,
          "xref": "container",
          "y": 1,
          "yanchor": "top"
         },
         "colorscale": [
          [
           0,
           "#0d0887"
          ],
          [
           0.1111111111111111,
           "#46039f"
          ],
          [
           0.2222222222222222,
           "#7201a8"
          ],
          [
           0.3333333333333333,
           "#9c179e"
          ],
          [
           0.4444444444444444,
           "#bd3786"
          ],
          [
           0.5555555555555556,
           "#d8576b"
          ],
          [
           0.6666666666666666,
           "#ed7953"
          ],
          [
           0.7777777777777778,
           "#fb9f3a"
          ],
          [
           0.8888888888888888,
           "#fdca26"
          ],
          [
           1,
           "#f0f921"
          ]
         ]
        },
        "legend": {
         "title": {
          "text": "transplant_prompt_str"
         },
         "tracegroupgap": 0
        },
        "template": {
         "data": {
          "bar": [
           {
            "error_x": {
             "color": "#2a3f5f"
            },
            "error_y": {
             "color": "#2a3f5f"
            },
            "marker": {
             "line": {
              "color": "#E5ECF6",
              "width": 0.5
             },
             "pattern": {
              "fillmode": "overlay",
              "size": 10,
              "solidity": 0.2
             }
            },
            "type": "bar"
           }
          ],
          "barpolar": [
           {
            "marker": {
             "line": {
              "color": "#E5ECF6",
              "width": 0.5
             },
             "pattern": {
              "fillmode": "overlay",
              "size": 10,
              "solidity": 0.2
             }
            },
            "type": "barpolar"
           }
          ],
          "carpet": [
           {
            "aaxis": {
             "endlinecolor": "#2a3f5f",
             "gridcolor": "white",
             "linecolor": "white",
             "minorgridcolor": "white",
             "startlinecolor": "#2a3f5f"
            },
            "baxis": {
             "endlinecolor": "#2a3f5f",
             "gridcolor": "white",
             "linecolor": "white",
             "minorgridcolor": "white",
             "startlinecolor": "#2a3f5f"
            },
            "type": "carpet"
           }
          ],
          "choropleth": [
           {
            "colorbar": {
             "outlinewidth": 0,
             "ticks": ""
            },
            "type": "choropleth"
           }
          ],
          "contour": [
           {
            "colorbar": {
             "outlinewidth": 0,
             "ticks": ""
            },
            "colorscale": [
             [
              0,
              "#0d0887"
             ],
             [
              0.1111111111111111,
              "#46039f"
             ],
             [
              0.2222222222222222,
              "#7201a8"
             ],
             [
              0.3333333333333333,
              "#9c179e"
             ],
             [
              0.4444444444444444,
              "#bd3786"
             ],
             [
              0.5555555555555556,
              "#d8576b"
             ],
             [
              0.6666666666666666,
              "#ed7953"
             ],
             [
              0.7777777777777778,
              "#fb9f3a"
             ],
             [
              0.8888888888888888,
              "#fdca26"
             ],
             [
              1,
              "#f0f921"
             ]
            ],
            "type": "contour"
           }
          ],
          "contourcarpet": [
           {
            "colorbar": {
             "outlinewidth": 0,
             "ticks": ""
            },
            "type": "contourcarpet"
           }
          ],
          "heatmap": [
           {
            "colorbar": {
             "outlinewidth": 0,
             "ticks": ""
            },
            "colorscale": [
             [
              0,
              "#0d0887"
             ],
             [
              0.1111111111111111,
              "#46039f"
             ],
             [
              0.2222222222222222,
              "#7201a8"
             ],
             [
              0.3333333333333333,
              "#9c179e"
             ],
             [
              0.4444444444444444,
              "#bd3786"
             ],
             [
              0.5555555555555556,
              "#d8576b"
             ],
             [
              0.6666666666666666,
              "#ed7953"
             ],
             [
              0.7777777777777778,
              "#fb9f3a"
             ],
             [
              0.8888888888888888,
              "#fdca26"
             ],
             [
              1,
              "#f0f921"
             ]
            ],
            "type": "heatmap"
           }
          ],
          "heatmapgl": [
           {
            "colorbar": {
             "outlinewidth": 0,
             "ticks": ""
            },
            "colorscale": [
             [
              0,
              "#0d0887"
             ],
             [
              0.1111111111111111,
              "#46039f"
             ],
             [
              0.2222222222222222,
              "#7201a8"
             ],
             [
              0.3333333333333333,
              "#9c179e"
             ],
             [
              0.4444444444444444,
              "#bd3786"
             ],
             [
              0.5555555555555556,
              "#d8576b"
             ],
             [
              0.6666666666666666,
              "#ed7953"
             ],
             [
              0.7777777777777778,
              "#fb9f3a"
             ],
             [
              0.8888888888888888,
              "#fdca26"
             ],
             [
              1,
              "#f0f921"
             ]
            ],
            "type": "heatmapgl"
           }
          ],
          "histogram": [
           {
            "marker": {
             "pattern": {
              "fillmode": "overlay",
              "size": 10,
              "solidity": 0.2
             }
            },
            "type": "histogram"
           }
          ],
          "histogram2d": [
           {
            "colorbar": {
             "outlinewidth": 0,
             "ticks": ""
            },
            "colorscale": [
             [
              0,
              "#0d0887"
             ],
             [
              0.1111111111111111,
              "#46039f"
             ],
             [
              0.2222222222222222,
              "#7201a8"
             ],
             [
              0.3333333333333333,
              "#9c179e"
             ],
             [
              0.4444444444444444,
              "#bd3786"
             ],
             [
              0.5555555555555556,
              "#d8576b"
             ],
             [
              0.6666666666666666,
              "#ed7953"
             ],
             [
              0.7777777777777778,
              "#fb9f3a"
             ],
             [
              0.8888888888888888,
              "#fdca26"
             ],
             [
              1,
              "#f0f921"
             ]
            ],
            "type": "histogram2d"
           }
          ],
          "histogram2dcontour": [
           {
            "colorbar": {
             "outlinewidth": 0,
             "ticks": ""
            },
            "colorscale": [
             [
              0,
              "#0d0887"
             ],
             [
              0.1111111111111111,
              "#46039f"
             ],
             [
              0.2222222222222222,
              "#7201a8"
             ],
             [
              0.3333333333333333,
              "#9c179e"
             ],
             [
              0.4444444444444444,
              "#bd3786"
             ],
             [
              0.5555555555555556,
              "#d8576b"
             ],
             [
              0.6666666666666666,
              "#ed7953"
             ],
             [
              0.7777777777777778,
              "#fb9f3a"
             ],
             [
              0.8888888888888888,
              "#fdca26"
             ],
             [
              1,
              "#f0f921"
             ]
            ],
            "type": "histogram2dcontour"
           }
          ],
          "mesh3d": [
           {
            "colorbar": {
             "outlinewidth": 0,
             "ticks": ""
            },
            "type": "mesh3d"
           }
          ],
          "parcoords": [
           {
            "line": {
             "colorbar": {
              "outlinewidth": 0,
              "ticks": ""
             }
            },
            "type": "parcoords"
           }
          ],
          "pie": [
           {
            "automargin": true,
            "type": "pie"
           }
          ],
          "scatter": [
           {
            "fillpattern": {
             "fillmode": "overlay",
             "size": 10,
             "solidity": 0.2
            },
            "type": "scatter"
           }
          ],
          "scatter3d": [
           {
            "line": {
             "colorbar": {
              "outlinewidth": 0,
              "ticks": ""
             }
            },
            "marker": {
             "colorbar": {
              "outlinewidth": 0,
              "ticks": ""
             }
            },
            "type": "scatter3d"
           }
          ],
          "scattercarpet": [
           {
            "marker": {
             "colorbar": {
              "outlinewidth": 0,
              "ticks": ""
             }
            },
            "type": "scattercarpet"
           }
          ],
          "scattergeo": [
           {
            "marker": {
             "colorbar": {
              "outlinewidth": 0,
              "ticks": ""
             }
            },
            "type": "scattergeo"
           }
          ],
          "scattergl": [
           {
            "marker": {
             "colorbar": {
              "outlinewidth": 0,
              "ticks": ""
             }
            },
            "type": "scattergl"
           }
          ],
          "scattermapbox": [
           {
            "marker": {
             "colorbar": {
              "outlinewidth": 0,
              "ticks": ""
             }
            },
            "type": "scattermapbox"
           }
          ],
          "scatterpolar": [
           {
            "marker": {
             "colorbar": {
              "outlinewidth": 0,
              "ticks": ""
             }
            },
            "type": "scatterpolar"
           }
          ],
          "scatterpolargl": [
           {
            "marker": {
             "colorbar": {
              "outlinewidth": 0,
              "ticks": ""
             }
            },
            "type": "scatterpolargl"
           }
          ],
          "scatterternary": [
           {
            "marker": {
             "colorbar": {
              "outlinewidth": 0,
              "ticks": ""
             }
            },
            "type": "scatterternary"
           }
          ],
          "surface": [
           {
            "colorbar": {
             "outlinewidth": 0,
             "ticks": ""
            },
            "colorscale": [
             [
              0,
              "#0d0887"
             ],
             [
              0.1111111111111111,
              "#46039f"
             ],
             [
              0.2222222222222222,
              "#7201a8"
             ],
             [
              0.3333333333333333,
              "#9c179e"
             ],
             [
              0.4444444444444444,
              "#bd3786"
             ],
             [
              0.5555555555555556,
              "#d8576b"
             ],
             [
              0.6666666666666666,
              "#ed7953"
             ],
             [
              0.7777777777777778,
              "#fb9f3a"
             ],
             [
              0.8888888888888888,
              "#fdca26"
             ],
             [
              1,
              "#f0f921"
             ]
            ],
            "type": "surface"
           }
          ],
          "table": [
           {
            "cells": {
             "fill": {
              "color": "#EBF0F8"
             },
             "line": {
              "color": "white"
             }
            },
            "header": {
             "fill": {
              "color": "#C8D4E3"
             },
             "line": {
              "color": "white"
             }
            },
            "type": "table"
           }
          ]
         },
         "layout": {
          "annotationdefaults": {
           "arrowcolor": "#2a3f5f",
           "arrowhead": 0,
           "arrowwidth": 1
          },
          "autotypenumbers": "strict",
          "coloraxis": {
           "colorbar": {
            "outlinewidth": 0,
            "ticks": ""
           }
          },
          "colorscale": {
           "diverging": [
            [
             0,
             "#8e0152"
            ],
            [
             0.1,
             "#c51b7d"
            ],
            [
             0.2,
             "#de77ae"
            ],
            [
             0.3,
             "#f1b6da"
            ],
            [
             0.4,
             "#fde0ef"
            ],
            [
             0.5,
             "#f7f7f7"
            ],
            [
             0.6,
             "#e6f5d0"
            ],
            [
             0.7,
             "#b8e186"
            ],
            [
             0.8,
             "#7fbc41"
            ],
            [
             0.9,
             "#4d9221"
            ],
            [
             1,
             "#276419"
            ]
           ],
           "sequential": [
            [
             0,
             "#0d0887"
            ],
            [
             0.1111111111111111,
             "#46039f"
            ],
            [
             0.2222222222222222,
             "#7201a8"
            ],
            [
             0.3333333333333333,
             "#9c179e"
            ],
            [
             0.4444444444444444,
             "#bd3786"
            ],
            [
             0.5555555555555556,
             "#d8576b"
            ],
            [
             0.6666666666666666,
             "#ed7953"
            ],
            [
             0.7777777777777778,
             "#fb9f3a"
            ],
            [
             0.8888888888888888,
             "#fdca26"
            ],
            [
             1,
             "#f0f921"
            ]
           ],
           "sequentialminus": [
            [
             0,
             "#0d0887"
            ],
            [
             0.1111111111111111,
             "#46039f"
            ],
            [
             0.2222222222222222,
             "#7201a8"
            ],
            [
             0.3333333333333333,
             "#9c179e"
            ],
            [
             0.4444444444444444,
             "#bd3786"
            ],
            [
             0.5555555555555556,
             "#d8576b"
            ],
            [
             0.6666666666666666,
             "#ed7953"
            ],
            [
             0.7777777777777778,
             "#fb9f3a"
            ],
            [
             0.8888888888888888,
             "#fdca26"
            ],
            [
             1,
             "#f0f921"
            ]
           ]
          },
          "colorway": [
           "#636efa",
           "#EF553B",
           "#00cc96",
           "#ab63fa",
           "#FFA15A",
           "#19d3f3",
           "#FF6692",
           "#B6E880",
           "#FF97FF",
           "#FECB52"
          ],
          "font": {
           "color": "#2a3f5f"
          },
          "geo": {
           "bgcolor": "white",
           "lakecolor": "white",
           "landcolor": "#E5ECF6",
           "showlakes": true,
           "showland": true,
           "subunitcolor": "white"
          },
          "hoverlabel": {
           "align": "left"
          },
          "hovermode": "closest",
          "mapbox": {
           "style": "light"
          },
          "paper_bgcolor": "white",
          "plot_bgcolor": "#E5ECF6",
          "polar": {
           "angularaxis": {
            "gridcolor": "white",
            "linecolor": "white",
            "ticks": ""
           },
           "bgcolor": "#E5ECF6",
           "radialaxis": {
            "gridcolor": "white",
            "linecolor": "white",
            "ticks": ""
           }
          },
          "scene": {
           "xaxis": {
            "backgroundcolor": "#E5ECF6",
            "gridcolor": "white",
            "gridwidth": 2,
            "linecolor": "white",
            "showbackground": true,
            "ticks": "",
            "zerolinecolor": "white"
           },
           "yaxis": {
            "backgroundcolor": "#E5ECF6",
            "gridcolor": "white",
            "gridwidth": 2,
            "linecolor": "white",
            "showbackground": true,
            "ticks": "",
            "zerolinecolor": "white"
           },
           "zaxis": {
            "backgroundcolor": "#E5ECF6",
            "gridcolor": "white",
            "gridwidth": 2,
            "linecolor": "white",
            "showbackground": true,
            "ticks": "",
            "zerolinecolor": "white"
           }
          },
          "shapedefaults": {
           "line": {
            "color": "#2a3f5f"
           }
          },
          "ternary": {
           "aaxis": {
            "gridcolor": "white",
            "linecolor": "white",
            "ticks": ""
           },
           "baxis": {
            "gridcolor": "white",
            "linecolor": "white",
            "ticks": ""
           },
           "bgcolor": "#E5ECF6",
           "caxis": {
            "gridcolor": "white",
            "linecolor": "white",
            "ticks": ""
           }
          },
          "title": {
           "x": 0.05
          },
          "xaxis": {
           "automargin": true,
           "gridcolor": "white",
           "linecolor": "white",
           "ticks": "",
           "title": {
            "standoff": 15
           },
           "zerolinecolor": "white",
           "zerolinewidth": 2
          },
          "yaxis": {
           "automargin": true,
           "gridcolor": "white",
           "linecolor": "white",
           "ticks": "",
           "title": {
            "standoff": 15
           },
           "zerolinecolor": "white",
           "zerolinewidth": 2
          }
         }
        },
        "title": {
         "text": "PCA of Agnes Story Embeddings"
        },
        "xaxis": {
         "anchor": "y",
         "domain": [
          0,
          1
         ],
         "title": {
          "text": "dim1"
         }
        },
        "yaxis": {
         "anchor": "x",
         "domain": [
          0,
          1
         ],
         "title": {
          "text": "dim2"
         }
        }
       }
      },
      "text/html": [
       "<div>                            <div id=\"c02e6287-6820-4a66-a0ec-dadc16e61fc9\" class=\"plotly-graph-div\" style=\"height:525px; width:100%;\"></div>            <script type=\"text/javascript\">                require([\"plotly\"], function(Plotly) {                    window.PLOTLYENV=window.PLOTLYENV || {};                                    if (document.getElementById(\"c02e6287-6820-4a66-a0ec-dadc16e61fc9\")) {                    Plotly.newPlot(                        \"c02e6287-6820-4a66-a0ec-dadc16e61fc9\",                        [{\"marker\":{\"color\":\"turquoise\",\"size\":8},\"mode\":\"markers\",\"name\":\"Untransferred Newline\",\"x\":[-0.45435842871665955,-0.31572508811950684,-0.16599969565868378,-0.42596495151519775,-0.3939974308013916,-0.32150816917419434,-0.2264704406261444,-0.3074064254760742,-0.38274306058883667,-0.3756527006626129,-0.19641660153865814,-0.34672319889068604,-0.37262290716171265,-0.37414997816085815,-0.36234724521636963,-0.263702392578125,-0.3568342626094818,-0.4392012357711792,-0.34895259141921997,-0.4167645275592804,-0.3879941403865814,-0.36269181966781616,-0.30776384472846985,-0.3081227242946625,-0.3293497562408447,-0.3666885495185852,-0.39924076199531555,-0.22942428290843964,-0.25631198287010193,-0.44625410437583923,-0.2878662347793579,-0.4023837149143219,-0.2591138482093811,-0.38488295674324036,-0.39551421999931335,-0.34713566303253174,-0.30638015270233154,-0.26759475469589233,-0.28806230425834656,-0.18648214638233185,-0.33038458228111267,-0.46260547637939453,-0.3137821853160858,-0.38192614912986755,-0.3637429177761078,-0.3612414598464966,-0.5042315721511841,-0.4252215027809143,-0.46918749809265137,-0.24404919147491455,-0.30817529559135437,-0.20046256482601166,-0.28054118156433105,-0.3673226535320282,-0.36824309825897217,-0.32128652930259705,-0.3661225140094757,-0.3457450270652771,-0.4129762351512909,-0.31980451941490173,-0.3273826241493225,-0.36721011996269226,-0.29869580268859863,-0.0882348120212555,-0.2141207754611969,-0.3127538859844208,-0.13903586566448212,-0.2911640703678131,-0.3717595338821411,-0.4274284839630127,-0.32131996750831604,-0.17972831428050995,-0.4012220799922943,-0.277892529964447,-0.37477266788482666,-0.278134822845459,-0.3128267228603363,-0.4454553723335266,-0.2867678701877594,-0.2831422984600067,-0.14542599022388458,-0.38303694128990173,-0.23267853260040283,-0.3723241090774536,-0.4131219685077667,-0.3866991400718689,-0.23666833341121674,-0.47960883378982544,-0.40024861693382263,-0.3480251431465149,-0.40933069586753845,-0.33097970485687256,-0.3723665177822113,-0.16797249019145966,-0.37346407771110535,-0.3827057480812073,-0.34863075613975525,-0.1052236407995224,-0.42079442739486694,-0.3888005018234253],\"y\":[0.13829867541790009,0.09310391545295715,0.12614838778972626,-0.1526036262512207,-0.18383869528770447,0.2219855785369873,0.17616139352321625,0.1338086724281311,0.08746302127838135,0.33483538031578064,0.2631055414676666,-0.08836854249238968,-0.060898326337337494,-0.06564340740442276,-0.14582161605358124,0.26406216621398926,0.13673774898052216,-0.15852776169776917,0.1555553376674652,-0.12662166357040405,-0.07144773751497269,-0.07169292867183685,-0.3018786609172821,-0.054834283888339996,0.3291054964065552,-0.07656755298376083,-0.13309651613235474,0.06448393315076828,0.1356780230998993,-0.06920857727527618,0.2490297108888626,-0.23066532611846924,0.057347655296325684,-0.13847318291664124,0.28901973366737366,-0.007376836147159338,0.2224920690059662,0.1464007943868637,0.10135620832443237,-0.09210194647312164,0.0865420550107956,0.07772468030452728,-0.20185735821723938,-0.21292755007743835,-0.29518964886665344,-0.03256431967020035,0.17139984667301178,-0.0036126894410699606,-0.08576971292495728,-0.3347295820713043,-0.026011178269982338,0.09287179261445999,-0.08922751992940903,-0.0750368982553482,-0.16983889043331146,-0.2281038612127304,-0.11985379457473755,-0.3941774070262909,-0.06917095184326172,-0.10636913031339645,0.12961891293525696,0.192673459649086,0.24057725071907043,-0.2855483293533325,-0.12342577427625656,0.11152074486017227,0.09732193499803543,0.042895641177892685,0.23338407278060913,-0.005000787321478128,0.11918355524539948,0.11194085329771042,-0.016746671870350838,0.02844584360718727,-0.11421181261539459,-0.11776819080114365,-0.31355592608451843,-0.14434640109539032,0.22195231914520264,0.29957708716392517,0.1296798586845398,0.04459935426712036,0.042279407382011414,-0.04366375133395195,0.22092470526695251,0.06860516220331192,0.02629614621400833,-0.12061898410320282,0.07089795172214508,0.10727058351039886,0.1439167559146881,-0.009807620197534561,0.1329415887594223,0.06242455542087555,0.14712485671043396,0.18637748062610626,-0.016840506345033646,0.09464431554079056,-0.13359218835830688,-0.051412831991910934],\"type\":\"scatter\"},{\"marker\":{\"color\":\"green\",\"size\":10},\"mode\":\"markers\",\"name\":\"Baseline Generation\",\"x\":[0.48425304889678955,0.43786200881004333,0.3869372308254242,0.4134560227394104,0.4565598666667938,0.42337241768836975,0.39360401034355164,0.3250039219856262,0.3765198290348053,0.46992456912994385,0.29090601205825806,0.43562859296798706,0.4569907486438751,0.35977479815483093,0.41505810618400574,0.38968271017074585,0.38356921076774597,0.3619162142276764,0.3342975676059723,0.45172685384750366,0.4228716194629669,0.5161628723144531,0.23851773142814636,0.476826012134552,0.4740811884403229,0.5106515288352966,0.41558152437210083,0.29193583130836487,0.4466610252857208,0.4221336543560028,0.49290236830711365,0.4244247078895569,0.43731606006622314,0.45897814631462097,0.3835250735282898,0.443149596452713,0.35902953147888184,0.4800366461277008,0.3697095513343811,0.4430520832538605,0.4262571334838867,0.47704508900642395,0.47950926423072815,0.44622933864593506,0.4189242720603943,0.4162106215953827,0.4618866443634033,0.47705429792404175,0.4382495582103729,0.4459899961948395],\"y\":[-0.20494933426380157,-0.025143856182694435,-0.33721989393234253,-0.36798399686813354,-0.1672024130821228,0.12885931134223938,-0.057130005210638046,-0.42078614234924316,-0.36474326252937317,-0.1558477133512497,-0.2926763594150543,-0.2412661761045456,0.07258077710866928,-0.2987697720527649,0.08088094741106033,0.16532130539417267,-0.18106944859027863,-0.35867664217948914,-0.3744334578514099,-0.15963438153266907,-0.3032281994819641,-0.1345282942056656,-0.43872982263565063,0.024710197001695633,-0.17203198373317719,-0.19351103901863098,-0.24926532804965973,-0.3161914050579071,0.007616522256284952,0.10374168306589127,-0.03660139814019203,-0.101730115711689,-0.1677846908569336,0.032875970005989075,-0.305289089679718,-0.2513141632080078,-0.3604646325111389,-0.008389493450522423,-0.27999046444892883,0.12045643478631973,-0.3014305531978607,0.019576046615839005,-0.09781210124492645,-0.12033690512180328,-0.20159974694252014,-0.258231520652771,-0.2684214413166046,-0.007660368923097849,0.07448747009038925,-0.20157168805599213],\"type\":\"scatter\",\"hovertemplate\":\"Transplanted Prompt: %{customdata[0]}\\u003cbr\\u003e# of Transferred Tokens: %{customdata[1]}\"},{\"customdata\":[[\"\\\\n\",1],[\"\\\\n\",1],[\"\\\\n\",1],[\"\\\\n\",1],[\"\\\\n\",1],[\"\\\\n\",1],[\"\\\\n\",1],[\"\\\\n\",1],[\"\\\\n\",1],[\"\\\\n\",1],[\"\\\\n\",1],[\"\\\\n\",1],[\"\\\\n\",1],[\"\\\\n\",1],[\"\\\\n\",1],[\"\\\\n\",1],[\"\\\\n\",1],[\"\\\\n\",1],[\"\\\\n\",1],[\"\\\\n\",1]],\"hovertemplate\":\"Transplanted Prompt: %{customdata[0]}\\u003cbr\\u003e# of Transferred Tokens: %{customdata[1]}\",\"legendgroup\":\"\\\\n\",\"marker\":{\"color\":[1,1,1,1,1,1,1,1,1,1,1,1,1,1,1,1,1,1,1,1],\"coloraxis\":\"coloraxis\",\"symbol\":\"triangle-up\"},\"mode\":\"markers\",\"name\":\"\\\\n\",\"orientation\":\"v\",\"showlegend\":true,\"x\":[-0.21193106472492218,-0.41724738478660583,-0.3820681869983673,-0.3393612205982208,-0.26929065585136414,-0.3079218864440918,-0.44121214747428894,-0.23446431756019592,-0.4431188702583313,0.4161633849143982,-0.2631264925003052,0.2320530116558075,-0.10999660193920135,-0.3402433395385742,-0.27419978380203247,-0.32202261686325073,-0.0686597228050232,-0.36044371128082275,-0.35165271162986755,0.1270100474357605],\"xaxis\":\"x\",\"y\":[-0.37179601192474365,-0.019567908719182014,-0.06123073771595955,-0.27789822220802307,-0.3435194194316864,0.055758532136678696,-0.09378611296415329,0.11331801116466522,0.04949064552783966,0.29035356640815735,-0.3316623866558075,0.38070496916770935,-0.2428978532552719,0.07155962288379669,0.08374068886041641,-0.07468362152576447,0.2669333517551422,-0.16553491353988647,0.02121049351990223,0.4693396985530853],\"yaxis\":\"y\",\"type\":\"scatter\"},{\"customdata\":[[\"\\\\n\\\\n\",1],[\"\\\\n\\\\n\",1],[\"\\\\n\\\\n\",1],[\"\\\\n\\\\n\",1],[\"\\\\n\\\\n\",1],[\"\\\\n\\\\n\",1],[\"\\\\n\\\\n\",1],[\"\\\\n\\\\n\",1],[\"\\\\n\\\\n\",1],[\"\\\\n\\\\n\",1],[\"\\\\n\\\\n\",1],[\"\\\\n\\\\n\",1],[\"\\\\n\\\\n\",1],[\"\\\\n\\\\n\",1],[\"\\\\n\\\\n\",1],[\"\\\\n\\\\n\",1],[\"\\\\n\\\\n\",1],[\"\\\\n\\\\n\",1],[\"\\\\n\\\\n\",1],[\"\\\\n\\\\n\",1],[\"\\\\n\\\\n\",2],[\"\\\\n\\\\n\",2],[\"\\\\n\\\\n\",2],[\"\\\\n\\\\n\",2],[\"\\\\n\\\\n\",2],[\"\\\\n\\\\n\",2],[\"\\\\n\\\\n\",2],[\"\\\\n\\\\n\",2],[\"\\\\n\\\\n\",2],[\"\\\\n\\\\n\",2],[\"\\\\n\\\\n\",2],[\"\\\\n\\\\n\",2],[\"\\\\n\\\\n\",2],[\"\\\\n\\\\n\",2],[\"\\\\n\\\\n\",2],[\"\\\\n\\\\n\",2],[\"\\\\n\\\\n\",2],[\"\\\\n\\\\n\",2],[\"\\\\n\\\\n\",2],[\"\\\\n\\\\n\",2]],\"hovertemplate\":\"Transplanted Prompt: %{customdata[0]}\\u003cbr\\u003e# of Transferred Tokens: %{customdata[1]}\",\"legendgroup\":\"\\\\n\\\\n\",\"marker\":{\"color\":[1,1,1,1,1,1,1,1,1,1,1,1,1,1,1,1,1,1,1,1,2,2,2,2,2,2,2,2,2,2,2,2,2,2,2,2,2,2,2,2],\"coloraxis\":\"coloraxis\",\"symbol\":\"x\"},\"mode\":\"markers\",\"name\":\"\\\\n\\\\n\",\"orientation\":\"v\",\"showlegend\":true,\"x\":[-0.33965668082237244,-0.2057422548532486,-0.4048295021057129,-0.3497079312801361,-0.11458335816860199,-0.3039272427558899,-0.37687888741493225,-0.3860047459602356,0.11399471014738083,-0.37227845191955566,-0.3960575461387634,-0.2717699408531189,0.4042578339576721,-0.2884116768836975,-0.26647287607192993,0.22510987520217896,-0.3238188624382019,-0.3642975687980652,-0.3854784071445465,-0.2685398757457733,-0.3548196852207184,-0.24757522344589233,0.22216515243053436,-0.39211323857307434,-0.38056644797325134,0.26587310433387756,0.30648913979530334,0.5655531883239746,-0.32092025876045227,0.5338146090507507,0.30705761909484863,0.20639270544052124,0.30850979685783386,-0.28568539023399353,0.27882254123687744,-0.2003364861011505,0.1808735728263855,0.2372201532125473,0.5652056932449341,-0.2656792998313904],\"xaxis\":\"x\",\"y\":[0.14773817360401154,0.09245627373456955,-0.0649915263056755,-0.1404014527797699,0.5079037547111511,0.21281962096691132,0.11149946600198746,-0.12989263236522675,0.35059812664985657,0.19760465621948242,0.1320272535085678,0.115387462079525,0.20525427162647247,-0.26664406061172485,0.27317535877227783,0.33310776948928833,0.0075814989395439625,-0.15052016079425812,-0.08561529219150543,0.11701429635286331,-0.3765014410018921,0.24604131281375885,0.317749559879303,-0.24647577106952667,-0.25127553939819336,0.3186754882335663,0.3043624460697174,0.08575645089149475,0.020043689757585526,0.13898970186710358,0.2867942154407501,0.37820371985435486,0.32109174132347107,0.3244677186012268,0.38459599018096924,0.225259929895401,0.2690708637237549,0.25326576828956604,0.04530971124768257,-0.043590497225522995],\"yaxis\":\"y\",\"type\":\"scatter\"},{\"customdata\":[[\".\\\\n\\\\n\",1],[\".\\\\n\\\\n\",1],[\".\\\\n\\\\n\",1],[\".\\\\n\\\\n\",1],[\".\\\\n\\\\n\",1],[\".\\\\n\\\\n\",1],[\".\\\\n\\\\n\",1],[\".\\\\n\\\\n\",1],[\".\\\\n\\\\n\",1],[\".\\\\n\\\\n\",1],[\".\\\\n\\\\n\",1],[\".\\\\n\\\\n\",1],[\".\\\\n\\\\n\",1],[\".\\\\n\\\\n\",1],[\".\\\\n\\\\n\",1],[\".\\\\n\\\\n\",1],[\".\\\\n\\\\n\",1],[\".\\\\n\\\\n\",1],[\".\\\\n\\\\n\",1],[\".\\\\n\\\\n\",1],[\".\\\\n\\\\n\",2],[\".\\\\n\\\\n\",2],[\".\\\\n\\\\n\",2],[\".\\\\n\\\\n\",2],[\".\\\\n\\\\n\",2],[\".\\\\n\\\\n\",2],[\".\\\\n\\\\n\",2],[\".\\\\n\\\\n\",2],[\".\\\\n\\\\n\",2],[\".\\\\n\\\\n\",2],[\".\\\\n\\\\n\",2],[\".\\\\n\\\\n\",2],[\".\\\\n\\\\n\",2],[\".\\\\n\\\\n\",2],[\".\\\\n\\\\n\",2],[\".\\\\n\\\\n\",2],[\".\\\\n\\\\n\",2],[\".\\\\n\\\\n\",2],[\".\\\\n\\\\n\",2],[\".\\\\n\\\\n\",2],[\".\\\\n\\\\n\",3],[\".\\\\n\\\\n\",3],[\".\\\\n\\\\n\",3],[\".\\\\n\\\\n\",3],[\".\\\\n\\\\n\",3],[\".\\\\n\\\\n\",3],[\".\\\\n\\\\n\",3],[\".\\\\n\\\\n\",3],[\".\\\\n\\\\n\",3],[\".\\\\n\\\\n\",3],[\".\\\\n\\\\n\",3],[\".\\\\n\\\\n\",3],[\".\\\\n\\\\n\",3],[\".\\\\n\\\\n\",3],[\".\\\\n\\\\n\",3],[\".\\\\n\\\\n\",3],[\".\\\\n\\\\n\",3],[\".\\\\n\\\\n\",3],[\".\\\\n\\\\n\",3],[\".\\\\n\\\\n\",3]],\"hovertemplate\":\"Transplanted Prompt: %{customdata[0]}\\u003cbr\\u003e# of Transferred Tokens: %{customdata[1]}\",\"legendgroup\":\".\\\\n\\\\n\",\"marker\":{\"color\":[1,1,1,1,1,1,1,1,1,1,1,1,1,1,1,1,1,1,1,1,2,2,2,2,2,2,2,2,2,2,2,2,2,2,2,2,2,2,2,2,3,3,3,3,3,3,3,3,3,3,3,3,3,3,3,3,3,3,3,3],\"coloraxis\":\"coloraxis\",\"symbol\":\"cross\"},\"mode\":\"markers\",\"name\":\".\\\\n\\\\n\",\"orientation\":\"v\",\"showlegend\":true,\"x\":[-0.28292474150657654,-0.30915945768356323,-0.29179519414901733,-0.3265918791294098,-0.3146253526210785,-0.3446960151195526,-0.23787575960159302,-0.32042065262794495,-0.34462985396385193,-0.3130701780319214,-0.30918440222740173,-0.3470313251018524,-0.29953956604003906,-0.30143314599990845,-0.31464698910713196,-0.32956230640411377,-0.3197072744369507,-0.2923632860183716,-0.32633405923843384,-0.28666484355926514,0.26106029748916626,0.2771255373954773,0.3862398564815521,0.2510444223880768,0.3497485816478729,0.12984320521354675,0.1894797533750534,0.3982829451560974,0.21252204477787018,-0.2421422004699707,0.38329851627349854,0.29657065868377686,0.25579261779785156,0.34648674726486206,0.2432951033115387,0.24401450157165527,0.1388075351715088,0.3914702236652374,0.21835651993751526,0.30531272292137146,-0.31443366408348083,-0.31443366408348083,-0.34972497820854187,-0.36754751205444336,-0.31744831800460815,-0.24074500799179077,-0.4347434639930725,-0.3063780963420868,-0.29747867584228516,-0.33557650446891785,-0.3214588165283203,-0.4869201183319092,-0.4536888003349304,-0.38104137778282166,-0.35589802265167236,-0.31744831800460815,-0.4448322653770447,-0.39709338545799255,-0.32852378487586975,-0.3144336938858032],\"xaxis\":\"x\",\"y\":[0.0605335608124733,0.3608940839767456,0.4320105016231537,0.07280095666646957,0.43177199363708496,0.15734727680683136,-0.031461093574762344,0.4405829608440399,-0.09405253082513809,0.4318094849586487,0.30203136801719666,0.41725727915763855,0.009310089983046055,-0.018886668607592583,0.4293783903121948,0.03204651176929474,0.44854333996772766,0.33512985706329346,0.42741426825523376,0.40295761823654175,-0.041203394532203674,-0.02917611226439476,-0.1263977289199829,0.4357379376888275,-0.05517167970538139,-0.015081187710165977,-0.16829808056354523,-0.08625058829784393,0.045482244342565536,-0.3817484676837921,-0.07658276706933975,-0.08135385066270828,-0.08552815765142441,-0.1190887838602066,0.15364907681941986,0.0037767065223306417,0.45450904965400696,0.1933792680501938,-0.09575693309307098,-0.05177711322903633,-0.10863345861434937,-0.10863345861434937,-0.07887730747461319,-0.14033618569374084,-0.07712319493293762,0.09988059848546982,-0.0818106159567833,-0.11173783242702484,-0.05274961516261101,-0.051508914679288864,-0.07397216558456421,-0.2179517149925232,-0.037532925605773926,-0.12890145182609558,-0.1453724354505539,-0.07712319493293762,-0.21495792269706726,-0.06353167444467545,-0.13461701571941376,-0.10863346606492996],\"yaxis\":\"y\",\"type\":\"scatter\"},{\"customdata\":[[\"inners.\\\\n\\\\n\",1],[\"inners.\\\\n\\\\n\",1],[\"inners.\\\\n\\\\n\",1],[\"inners.\\\\n\\\\n\",1],[\"inners.\\\\n\\\\n\",1],[\"inners.\\\\n\\\\n\",1],[\"inners.\\\\n\\\\n\",1],[\"inners.\\\\n\\\\n\",1],[\"inners.\\\\n\\\\n\",1],[\"inners.\\\\n\\\\n\",1],[\"inners.\\\\n\\\\n\",1],[\"inners.\\\\n\\\\n\",1],[\"inners.\\\\n\\\\n\",1],[\"inners.\\\\n\\\\n\",1],[\"inners.\\\\n\\\\n\",1],[\"inners.\\\\n\\\\n\",1],[\"inners.\\\\n\\\\n\",1],[\"inners.\\\\n\\\\n\",1],[\"inners.\\\\n\\\\n\",1],[\"inners.\\\\n\\\\n\",1],[\"inners.\\\\n\\\\n\",2],[\"inners.\\\\n\\\\n\",2],[\"inners.\\\\n\\\\n\",2],[\"inners.\\\\n\\\\n\",2],[\"inners.\\\\n\\\\n\",2],[\"inners.\\\\n\\\\n\",2],[\"inners.\\\\n\\\\n\",2],[\"inners.\\\\n\\\\n\",2],[\"inners.\\\\n\\\\n\",2],[\"inners.\\\\n\\\\n\",2],[\"inners.\\\\n\\\\n\",2],[\"inners.\\\\n\\\\n\",2],[\"inners.\\\\n\\\\n\",2],[\"inners.\\\\n\\\\n\",2],[\"inners.\\\\n\\\\n\",2],[\"inners.\\\\n\\\\n\",2],[\"inners.\\\\n\\\\n\",2],[\"inners.\\\\n\\\\n\",2],[\"inners.\\\\n\\\\n\",2],[\"inners.\\\\n\\\\n\",2],[\"inners.\\\\n\\\\n\",3],[\"inners.\\\\n\\\\n\",3],[\"inners.\\\\n\\\\n\",3],[\"inners.\\\\n\\\\n\",3],[\"inners.\\\\n\\\\n\",3],[\"inners.\\\\n\\\\n\",3],[\"inners.\\\\n\\\\n\",3],[\"inners.\\\\n\\\\n\",3],[\"inners.\\\\n\\\\n\",3],[\"inners.\\\\n\\\\n\",3],[\"inners.\\\\n\\\\n\",3],[\"inners.\\\\n\\\\n\",3],[\"inners.\\\\n\\\\n\",3],[\"inners.\\\\n\\\\n\",3],[\"inners.\\\\n\\\\n\",3],[\"inners.\\\\n\\\\n\",3],[\"inners.\\\\n\\\\n\",3],[\"inners.\\\\n\\\\n\",3],[\"inners.\\\\n\\\\n\",3],[\"inners.\\\\n\\\\n\",3],[\"inners.\\\\n\\\\n\",4],[\"inners.\\\\n\\\\n\",4],[\"inners.\\\\n\\\\n\",4],[\"inners.\\\\n\\\\n\",4],[\"inners.\\\\n\\\\n\",4],[\"inners.\\\\n\\\\n\",4],[\"inners.\\\\n\\\\n\",4],[\"inners.\\\\n\\\\n\",4],[\"inners.\\\\n\\\\n\",4],[\"inners.\\\\n\\\\n\",4],[\"inners.\\\\n\\\\n\",4],[\"inners.\\\\n\\\\n\",4],[\"inners.\\\\n\\\\n\",4],[\"inners.\\\\n\\\\n\",4],[\"inners.\\\\n\\\\n\",4],[\"inners.\\\\n\\\\n\",4],[\"inners.\\\\n\\\\n\",4],[\"inners.\\\\n\\\\n\",4],[\"inners.\\\\n\\\\n\",4],[\"inners.\\\\n\\\\n\",4]],\"hovertemplate\":\"Transplanted Prompt: %{customdata[0]}\\u003cbr\\u003e# of Transferred Tokens: %{customdata[1]}\",\"legendgroup\":\"inners.\\\\n\\\\n\",\"marker\":{\"color\":[1,1,1,1,1,1,1,1,1,1,1,1,1,1,1,1,1,1,1,1,2,2,2,2,2,2,2,2,2,2,2,2,2,2,2,2,2,2,2,2,3,3,3,3,3,3,3,3,3,3,3,3,3,3,3,3,3,3,3,3,4,4,4,4,4,4,4,4,4,4,4,4,4,4,4,4,4,4,4,4],\"coloraxis\":\"coloraxis\",\"symbol\":\"diamond\"},\"mode\":\"markers\",\"name\":\"inners.\\\\n\\\\n\",\"orientation\":\"v\",\"showlegend\":true,\"x\":[-0.4057639539241791,-0.330390989780426,-0.34588608145713806,-0.1055665910243988,0.1587991863489151,-0.370750367641449,-0.2823473811149597,-0.3401259481906891,-0.43806010484695435,-0.33787328004837036,-0.24414794147014618,-0.3398187458515167,-0.2986488938331604,-0.41299399733543396,0.28618818521499634,-0.3819988965988159,-0.26071637868881226,-0.42001643776893616,-0.15044645965099335,-0.23504851758480072,-0.24328376352787018,-0.2939137816429138,0.3789670467376709,-0.2312842160463333,-0.29356831312179565,-0.23874197900295258,0.0013052239082753658,-0.009221606887876987,-0.3044222295284271,-0.31079918146133423,-0.23694299161434174,-0.27290865778923035,0.012470759451389313,-0.3553919494152069,-0.31281885504722595,-0.2609499990940094,-0.31548091769218445,-0.36742833256721497,-0.33884650468826294,-0.4066440463066101,-0.061599984765052795,0.23775754868984222,0.5242336988449097,0.3904736638069153,0.4805706739425659,0.3642744719982147,0.5421074032783508,0.09112133085727692,-0.2723250389099121,0.45517247915267944,0.1941189169883728,-0.3560572564601898,0.32431408762931824,0.4799169898033142,-0.3025534749031067,-0.17342497408390045,0.4739353656768799,0.3243134617805481,-0.0456426665186882,0.11421952396631241,0.36864930391311646,0.43166109919548035,-0.4231778383255005,0.4425402879714966,0.3848739266395569,0.5127425193786621,-0.17069751024246216,0.28248006105422974,0.48574140667915344,0.3479577898979187,0.4020688831806183,0.45384708046913147,-0.2879759967327118,0.2738811671733856,-0.28814446926116943,0.4665879011154175,0.22120732069015503,0.012424635700881481,0.44772806763648987,-0.37800133228302],\"xaxis\":\"x\",\"y\":[-0.05855802074074745,-0.29666420817375183,-0.23231150209903717,-0.015085806138813496,0.14017058908939362,-0.34782689809799194,-0.40275004506111145,-0.17138195037841797,-0.2732517719268799,-0.06382956355810165,0.0864224061369896,-0.19964668154716492,-0.2549971640110016,-0.17042337357997894,0.06702553480863571,-0.09943592548370361,-0.35814499855041504,-0.028288163244724274,0.10317003726959229,-0.27707043290138245,-0.14756421744823456,-0.2564929723739624,0.08248216658830643,-0.26768171787261963,-0.1579071581363678,-0.15835842490196228,-0.3023700714111328,-0.25967568159103394,0.018041115254163742,-0.16871869564056396,-0.2675640881061554,0.07801781594753265,0.1857052892446518,-0.06575746834278107,-0.27091705799102783,0.05343685671687126,-0.10509401559829712,-0.21414019167423248,0.09785167872905731,-0.2669151723384857,0.37455257773399353,-0.22959257662296295,-0.014030697755515575,-0.012599959038197994,-0.28364038467407227,-0.4128495752811432,-0.0961679071187973,-0.283854216337204,-0.40022751688957214,-0.24830418825149536,-0.29579290747642517,-0.053061701357364655,-0.18837736546993256,0.10271980613470078,-0.2776203453540802,-0.14302051067352295,-0.28104931116104126,0.34987160563468933,-0.14507916569709778,0.2787078320980072,-0.2104218602180481,-0.3569009006023407,0.007572082336992025,-0.35621944069862366,-0.363216757774353,0.06264012306928635,-0.24922840297222137,-0.13565032184123993,-0.3252337574958801,-0.4043659567832947,-0.39419206976890564,-0.23141342401504517,-0.13508222997188568,-0.34178394079208374,0.06945516914129257,-0.3296286165714264,-0.012282888405025005,-0.07090815156698227,-0.32002076506614685,-0.19412168860435486],\"yaxis\":\"y\",\"type\":\"scatter\"},{\"customdata\":[[\" dinners.\\\\n\\\\n\",1],[\" dinners.\\\\n\\\\n\",1],[\" dinners.\\\\n\\\\n\",1],[\" dinners.\\\\n\\\\n\",1],[\" dinners.\\\\n\\\\n\",1],[\" dinners.\\\\n\\\\n\",1],[\" dinners.\\\\n\\\\n\",1],[\" dinners.\\\\n\\\\n\",1],[\" dinners.\\\\n\\\\n\",1],[\" dinners.\\\\n\\\\n\",1],[\" dinners.\\\\n\\\\n\",1],[\" dinners.\\\\n\\\\n\",1],[\" dinners.\\\\n\\\\n\",1],[\" dinners.\\\\n\\\\n\",1],[\" dinners.\\\\n\\\\n\",1],[\" dinners.\\\\n\\\\n\",1],[\" dinners.\\\\n\\\\n\",1],[\" dinners.\\\\n\\\\n\",1],[\" dinners.\\\\n\\\\n\",1],[\" dinners.\\\\n\\\\n\",1],[\" dinners.\\\\n\\\\n\",2],[\" dinners.\\\\n\\\\n\",2],[\" dinners.\\\\n\\\\n\",2],[\" dinners.\\\\n\\\\n\",2],[\" dinners.\\\\n\\\\n\",2],[\" dinners.\\\\n\\\\n\",2],[\" dinners.\\\\n\\\\n\",2],[\" dinners.\\\\n\\\\n\",2],[\" dinners.\\\\n\\\\n\",2],[\" dinners.\\\\n\\\\n\",2],[\" dinners.\\\\n\\\\n\",2],[\" dinners.\\\\n\\\\n\",2],[\" dinners.\\\\n\\\\n\",2],[\" dinners.\\\\n\\\\n\",2],[\" dinners.\\\\n\\\\n\",2],[\" dinners.\\\\n\\\\n\",2],[\" dinners.\\\\n\\\\n\",2],[\" dinners.\\\\n\\\\n\",2],[\" dinners.\\\\n\\\\n\",2],[\" dinners.\\\\n\\\\n\",2],[\" dinners.\\\\n\\\\n\",3],[\" dinners.\\\\n\\\\n\",3],[\" dinners.\\\\n\\\\n\",3],[\" dinners.\\\\n\\\\n\",3],[\" dinners.\\\\n\\\\n\",3],[\" dinners.\\\\n\\\\n\",3],[\" dinners.\\\\n\\\\n\",3],[\" dinners.\\\\n\\\\n\",3],[\" dinners.\\\\n\\\\n\",3],[\" dinners.\\\\n\\\\n\",3],[\" dinners.\\\\n\\\\n\",3],[\" dinners.\\\\n\\\\n\",3],[\" dinners.\\\\n\\\\n\",3],[\" dinners.\\\\n\\\\n\",3],[\" dinners.\\\\n\\\\n\",3],[\" dinners.\\\\n\\\\n\",3],[\" dinners.\\\\n\\\\n\",3],[\" dinners.\\\\n\\\\n\",3],[\" dinners.\\\\n\\\\n\",3],[\" dinners.\\\\n\\\\n\",3],[\" dinners.\\\\n\\\\n\",4],[\" dinners.\\\\n\\\\n\",4],[\" dinners.\\\\n\\\\n\",4],[\" dinners.\\\\n\\\\n\",4],[\" dinners.\\\\n\\\\n\",4],[\" dinners.\\\\n\\\\n\",4],[\" dinners.\\\\n\\\\n\",4],[\" dinners.\\\\n\\\\n\",4],[\" dinners.\\\\n\\\\n\",4],[\" dinners.\\\\n\\\\n\",4],[\" dinners.\\\\n\\\\n\",4],[\" dinners.\\\\n\\\\n\",4],[\" dinners.\\\\n\\\\n\",4],[\" dinners.\\\\n\\\\n\",4],[\" dinners.\\\\n\\\\n\",4],[\" dinners.\\\\n\\\\n\",4],[\" dinners.\\\\n\\\\n\",4],[\" dinners.\\\\n\\\\n\",4],[\" dinners.\\\\n\\\\n\",4],[\" dinners.\\\\n\\\\n\",4],[\" dinners.\\\\n\\\\n\",5],[\" dinners.\\\\n\\\\n\",5],[\" dinners.\\\\n\\\\n\",5],[\" dinners.\\\\n\\\\n\",5],[\" dinners.\\\\n\\\\n\",5],[\" dinners.\\\\n\\\\n\",5],[\" dinners.\\\\n\\\\n\",5],[\" dinners.\\\\n\\\\n\",5],[\" dinners.\\\\n\\\\n\",5],[\" dinners.\\\\n\\\\n\",5],[\" dinners.\\\\n\\\\n\",5],[\" dinners.\\\\n\\\\n\",5],[\" dinners.\\\\n\\\\n\",5],[\" dinners.\\\\n\\\\n\",5],[\" dinners.\\\\n\\\\n\",5],[\" dinners.\\\\n\\\\n\",5],[\" dinners.\\\\n\\\\n\",5],[\" dinners.\\\\n\\\\n\",5],[\" dinners.\\\\n\\\\n\",5],[\" dinners.\\\\n\\\\n\",5]],\"hovertemplate\":\"Transplanted Prompt: %{customdata[0]}\\u003cbr\\u003e# of Transferred Tokens: %{customdata[1]}\",\"legendgroup\":\" dinners.\\\\n\\\\n\",\"marker\":{\"color\":[1,1,1,1,1,1,1,1,1,1,1,1,1,1,1,1,1,1,1,1,2,2,2,2,2,2,2,2,2,2,2,2,2,2,2,2,2,2,2,2,3,3,3,3,3,3,3,3,3,3,3,3,3,3,3,3,3,3,3,3,4,4,4,4,4,4,4,4,4,4,4,4,4,4,4,4,4,4,4,4,5,5,5,5,5,5,5,5,5,5,5,5,5,5,5,5,5,5,5,5],\"coloraxis\":\"coloraxis\",\"symbol\":\"square\"},\"mode\":\"markers\",\"name\":\" dinners.\\\\n\\\\n\",\"orientation\":\"v\",\"showlegend\":true,\"x\":[-0.11060972511768341,-0.01052449457347393,-0.18127748370170593,0.022284356877207756,-0.20012272894382477,-0.08301656693220139,0.07994774729013443,-0.11787013709545135,-0.1852015107870102,0.25993290543556213,0.05544651299715042,-0.12079863250255585,-0.15303349494934082,-0.2616574466228485,-0.15872758626937866,-0.08022104948759079,-0.11528100073337555,-0.00035156868398189545,-0.15844155848026276,-0.14233261346817017,0.19941745698451996,-0.20074954628944397,-0.1483079195022583,-0.09441982209682465,-0.12081358581781387,-0.035021986812353134,-0.21399538218975067,-0.14306220412254333,-0.10275305807590485,0.21154002845287323,-0.05250167474150658,-0.17930744588375092,-0.18787209689617157,-0.10745877772569656,0.4040522575378418,-0.24864554405212402,-0.1458461582660675,-0.13552485406398773,-0.15308432281017303,-0.19911040365695953,0.13182491064071655,0.054973408579826355,0.516032874584198,0.01312296837568283,0.1958330124616623,0.47231513261795044,0.19276641309261322,0.45646756887435913,0.13520994782447815,0.019096342846751213,0.35643255710601807,0.26423558592796326,0.08185144513845444,-0.09771618992090225,0.28710225224494934,0.39889776706695557,0.3752630949020386,0.3901437520980835,-0.09938886016607285,0.08564358204603195,-0.13951054215431213,0.07502377033233643,-0.06126425415277481,-0.24966691434383392,0.45979440212249756,0.587863028049469,0.05510009825229645,-0.1363614797592163,-0.3826400339603424,0.09284614771604538,-0.38162368535995483,0.28331100940704346,0.237385556101799,-0.2273864597082138,-0.14044296741485596,0.15674763917922974,0.0018639996415004134,0.2704100012779236,0.15540747344493866,-0.25046446919441223,0.01321139931678772,0.14397618174552917,0.4317491948604584,0.08085799962282181,0.4646204113960266,0.42404407262802124,-0.2705615162849426,0.1298670470714569,0.5039579272270203,0.5086899995803833,0.3910054862499237,0.43341684341430664,0.5363455414772034,0.43793100118637085,0.4453872740268707,-0.10925433784723282,0.4557947516441345,0.4415869116783142,0.292764276266098,0.2782602310180664],\"xaxis\":\"x\",\"y\":[0.26510125398635864,0.34225985407829285,0.29168200492858887,0.38046538829803467,0.2625666558742523,0.3394502103328705,-0.26518815755844116,0.22683720290660858,0.28279241919517517,0.3299580216407776,0.3137759864330292,0.3227110505104065,-0.14580848813056946,0.3068176805973053,0.2755172848701477,0.3042146861553192,0.1759788542985916,0.22629179060459137,0.25475993752479553,0.25261470675468445,0.3039349317550659,0.31487762928009033,0.3186676502227783,-0.26147034764289856,0.2783713936805725,0.32687243819236755,0.2534862458705902,0.2275095283985138,0.32338014245033264,0.2933657169342041,0.10490909218788147,-0.22983776032924652,0.2579718828201294,0.2061363309621811,0.24243056774139404,0.24729572236537933,0.09419266879558563,0.4128597378730774,0.25862589478492737,0.30083614587783813,0.33499643206596375,-0.19722341001033783,-0.09526766836643219,-0.10271113365888596,0.032697949558496475,0.1885117143392563,0.2711915671825409,0.03139806166291237,-0.10289263725280762,0.3724087178707123,-0.017357947304844856,0.039185889065265656,-0.12770527601242065,-0.09989012032747269,0.07180353254079819,0.29169803857803345,-0.09412884712219238,-0.0694955363869667,-0.3038274645805359,-0.2503846287727356,0.08215770125389099,-0.280480295419693,-0.119354747235775,-0.15368440747261047,0.17130260169506073,0.059087738394737244,-0.06395992636680603,-0.035043325275182724,-0.27096763253211975,0.03592276945710182,-0.18555498123168945,-0.2310248166322708,0.35935360193252563,0.21731166541576385,-0.24374963343143463,-0.16493268311023712,-0.27296316623687744,0.2347998470067978,0.224786177277565,-0.030644148588180542,-0.24083566665649414,-0.08020035177469254,0.07144876569509506,-0.2575470507144928,-0.08803538978099823,-0.3405722379684448,-0.3908741772174835,-0.27878648042678833,-0.23583148419857025,-0.2115897387266159,0.1561088114976883,0.18166346848011017,-0.1766156703233719,0.2104058563709259,-0.32765692472457886,-0.27047356963157654,-0.3523206412792206,0.07222454249858856,0.37286633253097534,-0.3096071183681488],\"yaxis\":\"y\",\"type\":\"scatter\"},{\"customdata\":[[\"Sunday dinners.\\\\n\\\\n\",1],[\"Sunday dinners.\\\\n\\\\n\",1],[\"Sunday dinners.\\\\n\\\\n\",1],[\"Sunday dinners.\\\\n\\\\n\",1],[\"Sunday dinners.\\\\n\\\\n\",1],[\"Sunday dinners.\\\\n\\\\n\",1],[\"Sunday dinners.\\\\n\\\\n\",1],[\"Sunday dinners.\\\\n\\\\n\",1],[\"Sunday dinners.\\\\n\\\\n\",1],[\"Sunday dinners.\\\\n\\\\n\",1],[\"Sunday dinners.\\\\n\\\\n\",1],[\"Sunday dinners.\\\\n\\\\n\",1],[\"Sunday dinners.\\\\n\\\\n\",1],[\"Sunday dinners.\\\\n\\\\n\",1],[\"Sunday dinners.\\\\n\\\\n\",1],[\"Sunday dinners.\\\\n\\\\n\",1],[\"Sunday dinners.\\\\n\\\\n\",1],[\"Sunday dinners.\\\\n\\\\n\",1],[\"Sunday dinners.\\\\n\\\\n\",1],[\"Sunday dinners.\\\\n\\\\n\",1],[\"Sunday dinners.\\\\n\\\\n\",2],[\"Sunday dinners.\\\\n\\\\n\",2],[\"Sunday dinners.\\\\n\\\\n\",2],[\"Sunday dinners.\\\\n\\\\n\",2],[\"Sunday dinners.\\\\n\\\\n\",2],[\"Sunday dinners.\\\\n\\\\n\",2],[\"Sunday dinners.\\\\n\\\\n\",2],[\"Sunday dinners.\\\\n\\\\n\",2],[\"Sunday dinners.\\\\n\\\\n\",2],[\"Sunday dinners.\\\\n\\\\n\",2],[\"Sunday dinners.\\\\n\\\\n\",2],[\"Sunday dinners.\\\\n\\\\n\",2],[\"Sunday dinners.\\\\n\\\\n\",2],[\"Sunday dinners.\\\\n\\\\n\",2],[\"Sunday dinners.\\\\n\\\\n\",2],[\"Sunday dinners.\\\\n\\\\n\",2],[\"Sunday dinners.\\\\n\\\\n\",2],[\"Sunday dinners.\\\\n\\\\n\",2],[\"Sunday dinners.\\\\n\\\\n\",2],[\"Sunday dinners.\\\\n\\\\n\",2],[\"Sunday dinners.\\\\n\\\\n\",3],[\"Sunday dinners.\\\\n\\\\n\",3],[\"Sunday dinners.\\\\n\\\\n\",3],[\"Sunday dinners.\\\\n\\\\n\",3],[\"Sunday dinners.\\\\n\\\\n\",3],[\"Sunday dinners.\\\\n\\\\n\",3],[\"Sunday dinners.\\\\n\\\\n\",3],[\"Sunday dinners.\\\\n\\\\n\",3],[\"Sunday dinners.\\\\n\\\\n\",3],[\"Sunday dinners.\\\\n\\\\n\",3],[\"Sunday dinners.\\\\n\\\\n\",3],[\"Sunday dinners.\\\\n\\\\n\",3],[\"Sunday dinners.\\\\n\\\\n\",3],[\"Sunday dinners.\\\\n\\\\n\",3],[\"Sunday dinners.\\\\n\\\\n\",3],[\"Sunday dinners.\\\\n\\\\n\",3],[\"Sunday dinners.\\\\n\\\\n\",3],[\"Sunday dinners.\\\\n\\\\n\",3],[\"Sunday dinners.\\\\n\\\\n\",3],[\"Sunday dinners.\\\\n\\\\n\",3],[\"Sunday dinners.\\\\n\\\\n\",4],[\"Sunday dinners.\\\\n\\\\n\",4],[\"Sunday dinners.\\\\n\\\\n\",4],[\"Sunday dinners.\\\\n\\\\n\",4],[\"Sunday dinners.\\\\n\\\\n\",4],[\"Sunday dinners.\\\\n\\\\n\",4],[\"Sunday dinners.\\\\n\\\\n\",4],[\"Sunday dinners.\\\\n\\\\n\",4],[\"Sunday dinners.\\\\n\\\\n\",4],[\"Sunday dinners.\\\\n\\\\n\",4],[\"Sunday dinners.\\\\n\\\\n\",4],[\"Sunday dinners.\\\\n\\\\n\",4],[\"Sunday dinners.\\\\n\\\\n\",4],[\"Sunday dinners.\\\\n\\\\n\",4],[\"Sunday dinners.\\\\n\\\\n\",4],[\"Sunday dinners.\\\\n\\\\n\",4],[\"Sunday dinners.\\\\n\\\\n\",4],[\"Sunday dinners.\\\\n\\\\n\",4],[\"Sunday dinners.\\\\n\\\\n\",4],[\"Sunday dinners.\\\\n\\\\n\",4],[\"Sunday dinners.\\\\n\\\\n\",5],[\"Sunday dinners.\\\\n\\\\n\",5],[\"Sunday dinners.\\\\n\\\\n\",5],[\"Sunday dinners.\\\\n\\\\n\",5],[\"Sunday dinners.\\\\n\\\\n\",5],[\"Sunday dinners.\\\\n\\\\n\",5],[\"Sunday dinners.\\\\n\\\\n\",5],[\"Sunday dinners.\\\\n\\\\n\",5],[\"Sunday dinners.\\\\n\\\\n\",5],[\"Sunday dinners.\\\\n\\\\n\",5],[\"Sunday dinners.\\\\n\\\\n\",5],[\"Sunday dinners.\\\\n\\\\n\",5],[\"Sunday dinners.\\\\n\\\\n\",5],[\"Sunday dinners.\\\\n\\\\n\",5],[\"Sunday dinners.\\\\n\\\\n\",5],[\"Sunday dinners.\\\\n\\\\n\",5],[\"Sunday dinners.\\\\n\\\\n\",5],[\"Sunday dinners.\\\\n\\\\n\",5],[\"Sunday dinners.\\\\n\\\\n\",5],[\"Sunday dinners.\\\\n\\\\n\",5],[\"Sunday dinners.\\\\n\\\\n\",6],[\"Sunday dinners.\\\\n\\\\n\",6],[\"Sunday dinners.\\\\n\\\\n\",6],[\"Sunday dinners.\\\\n\\\\n\",6],[\"Sunday dinners.\\\\n\\\\n\",6],[\"Sunday dinners.\\\\n\\\\n\",6],[\"Sunday dinners.\\\\n\\\\n\",6],[\"Sunday dinners.\\\\n\\\\n\",6],[\"Sunday dinners.\\\\n\\\\n\",6],[\"Sunday dinners.\\\\n\\\\n\",6],[\"Sunday dinners.\\\\n\\\\n\",6],[\"Sunday dinners.\\\\n\\\\n\",6],[\"Sunday dinners.\\\\n\\\\n\",6],[\"Sunday dinners.\\\\n\\\\n\",6],[\"Sunday dinners.\\\\n\\\\n\",6],[\"Sunday dinners.\\\\n\\\\n\",6],[\"Sunday dinners.\\\\n\\\\n\",6],[\"Sunday dinners.\\\\n\\\\n\",6],[\"Sunday dinners.\\\\n\\\\n\",6],[\"Sunday dinners.\\\\n\\\\n\",6]],\"hovertemplate\":\"Transplanted Prompt: %{customdata[0]}\\u003cbr\\u003e# of Transferred Tokens: %{customdata[1]}\",\"legendgroup\":\"Sunday dinners.\\\\n\\\\n\",\"marker\":{\"color\":[1,1,1,1,1,1,1,1,1,1,1,1,1,1,1,1,1,1,1,1,2,2,2,2,2,2,2,2,2,2,2,2,2,2,2,2,2,2,2,2,3,3,3,3,3,3,3,3,3,3,3,3,3,3,3,3,3,3,3,3,4,4,4,4,4,4,4,4,4,4,4,4,4,4,4,4,4,4,4,4,5,5,5,5,5,5,5,5,5,5,5,5,5,5,5,5,5,5,5,5,6,6,6,6,6,6,6,6,6,6,6,6,6,6,6,6,6,6,6,6],\"coloraxis\":\"coloraxis\",\"symbol\":\"circle\"},\"mode\":\"markers\",\"name\":\"Sunday dinners.\\\\n\\\\n\",\"orientation\":\"v\",\"showlegend\":true,\"x\":[0.08858608454465866,0.4351407587528229,-0.03251387178897858,0.4049333333969116,-0.2684617042541504,-0.13979995250701904,0.046454161405563354,0.41772401332855225,0.4494095742702484,0.5130224823951721,-0.07006052881479263,0.39608797430992126,0.3385545015335083,0.02193971909582615,0.010318332351744175,-0.35210639238357544,-0.4051576852798462,0.02667594514787197,0.44897907972335815,0.1291261613368988,0.5087727904319763,-0.3014748692512512,0.4324982166290283,-0.12445498257875443,0.55379718542099,0.3061470687389374,0.4927782714366913,0.2980908751487732,0.0073091876693069935,0.4211750030517578,-0.011328840628266335,-0.017525233328342438,0.03875160962343216,0.2449352890253067,0.46760401129722595,0.45669057965278625,0.25888586044311523,0.1619798243045807,0.31557124853134155,0.33421599864959717,0.17633521556854248,0.07310264557600021,0.4994107782840729,0.41307345032691956,0.4089210033416748,0.3922668695449829,0.41364240646362305,0.3367818593978882,0.20431679487228394,0.46355098485946655,0.4467372000217438,0.5142145752906799,0.485405296087265,0.3172494173049927,0.2709586024284363,0.4145568907260895,0.5121235251426697,0.008101933635771275,0.4082210659980774,0.5523569583892822,0.4441329836845398,-0.13685418665409088,0.5689601898193359,0.5602470636367798,0.4375017285346985,0.0034088401589542627,0.3727501630783081,0.5087063312530518,0.2647895812988281,0.2982468605041504,-0.320615291595459,-0.2247006893157959,0.30679216980934143,0.4003322720527649,0.3210480809211731,0.4664069712162018,0.32995715737342834,0.4131110906600952,0.3809782862663269,0.4592556059360504,0.30013206601142883,0.4964464604854584,0.5496386289596558,0.4554522931575775,0.36362209916114807,0.3922150135040283,0.5213381052017212,0.08210348337888718,-0.3742679953575134,0.3783434331417084,0.24997666478157043,0.4750959873199463,0.47542470693588257,0.3099776804447174,0.013321525417268276,0.4900378882884979,0.4702959358692169,0.516132652759552,0.37485870718955994,0.5200294852256775,-0.2663317024707794,-0.26718658208847046,-0.27686962485313416,-0.3187800645828247,-0.25054118037223816,-0.3543812036514282,0.11721892654895782,-0.15989655256271362,-0.22439216077327728,-0.31922945380210876,-0.27277830243110657,-0.09251348674297333,-0.09251348674297333,-0.2809053361415863,-0.39290913939476013,-0.3449993431568146,-0.2937191128730774,-0.38629743456840515,-0.3202126920223236,-0.2715200185775757],\"xaxis\":\"x\",\"y\":[0.34114059805870056,-0.06956331431865692,0.429646372795105,0.24320852756500244,0.010031637735664845,0.030222957953810692,0.3627442419528961,0.1902848482131958,0.1722809225320816,0.13712310791015625,0.28505751490592957,0.05818953365087509,0.2678963541984558,-0.2749403119087219,0.326761931180954,-0.18479947745800018,-0.14567145705223083,0.47992587089538574,0.12128382176160812,0.12976765632629395,0.044306397438049316,0.16022805869579315,0.12613815069198608,-0.25285014510154724,0.04516219720244408,0.17579369246959686,-0.053636644035577774,0.13097037374973297,-0.21164169907569885,-0.06041960418224335,-0.3649533689022064,-0.18872739374637604,-0.2026166468858719,0.039514731615781784,0.15110871195793152,0.19169899821281433,0.27075451612472534,0.3964459002017975,0.2295699268579483,0.1803380697965622,-0.21326600015163422,-0.24056531488895416,-0.028550680726766586,0.10400264710187912,0.09685976058244705,0.10544628649950027,0.0052583832293748856,0.043260786682367325,0.2509869337081909,0.19939061999320984,0.04881872981786728,-0.050166867673397064,-0.09404187649488449,-0.10447648167610168,0.20218785107135773,0.14832322299480438,0.005124090239405632,-0.23445424437522888,-0.02486252412199974,0.16264787316322327,0.09769606590270996,0.030811632052063942,0.06384644657373428,0.11352504789829254,0.130554661154747,-0.261850506067276,0.11616425216197968,-0.2634187340736389,0.16913150250911713,0.2016819566488266,-0.19515179097652435,-0.41221821308135986,0.21212632954120636,0.06518694758415222,0.16312985122203827,0.11685866117477417,0.22679489850997925,0.20485791563987732,0.04724154993891716,0.14613302052021027,0.16810904443264008,-0.06543010473251343,0.10948430001735687,0.08844529837369919,0.18187299370765686,0.18956421315670013,0.04023735225200653,0.12215741723775864,-0.27511361241340637,0.22124388813972473,0.13097068667411804,-0.08724784851074219,0.04860839620232582,0.18673057854175568,-0.135453462600708,-0.17855103313922882,-0.2419348657131195,0.018145611509680748,0.14705032110214233,0.07261017709970474,-0.08080531656742096,-0.0865941122174263,-0.12143324315547943,-0.25453874468803406,-0.02962772361934185,0.1794920414686203,-0.14369986951351166,-0.034837063401937485,-0.12989361584186554,-0.08761563897132874,-0.0823197066783905,-0.10665116459131241,-0.10665116459131241,0.15564651787281036,0.04539972171187401,-0.05077067390084267,-0.10513949394226074,0.03821967914700508,-0.0779871866106987,-0.09671573340892792],\"yaxis\":\"y\",\"type\":\"scatter\"}],                        {\"template\":{\"data\":{\"histogram2dcontour\":[{\"type\":\"histogram2dcontour\",\"colorbar\":{\"outlinewidth\":0,\"ticks\":\"\"},\"colorscale\":[[0.0,\"#0d0887\"],[0.1111111111111111,\"#46039f\"],[0.2222222222222222,\"#7201a8\"],[0.3333333333333333,\"#9c179e\"],[0.4444444444444444,\"#bd3786\"],[0.5555555555555556,\"#d8576b\"],[0.6666666666666666,\"#ed7953\"],[0.7777777777777778,\"#fb9f3a\"],[0.8888888888888888,\"#fdca26\"],[1.0,\"#f0f921\"]]}],\"choropleth\":[{\"type\":\"choropleth\",\"colorbar\":{\"outlinewidth\":0,\"ticks\":\"\"}}],\"histogram2d\":[{\"type\":\"histogram2d\",\"colorbar\":{\"outlinewidth\":0,\"ticks\":\"\"},\"colorscale\":[[0.0,\"#0d0887\"],[0.1111111111111111,\"#46039f\"],[0.2222222222222222,\"#7201a8\"],[0.3333333333333333,\"#9c179e\"],[0.4444444444444444,\"#bd3786\"],[0.5555555555555556,\"#d8576b\"],[0.6666666666666666,\"#ed7953\"],[0.7777777777777778,\"#fb9f3a\"],[0.8888888888888888,\"#fdca26\"],[1.0,\"#f0f921\"]]}],\"heatmap\":[{\"type\":\"heatmap\",\"colorbar\":{\"outlinewidth\":0,\"ticks\":\"\"},\"colorscale\":[[0.0,\"#0d0887\"],[0.1111111111111111,\"#46039f\"],[0.2222222222222222,\"#7201a8\"],[0.3333333333333333,\"#9c179e\"],[0.4444444444444444,\"#bd3786\"],[0.5555555555555556,\"#d8576b\"],[0.6666666666666666,\"#ed7953\"],[0.7777777777777778,\"#fb9f3a\"],[0.8888888888888888,\"#fdca26\"],[1.0,\"#f0f921\"]]}],\"heatmapgl\":[{\"type\":\"heatmapgl\",\"colorbar\":{\"outlinewidth\":0,\"ticks\":\"\"},\"colorscale\":[[0.0,\"#0d0887\"],[0.1111111111111111,\"#46039f\"],[0.2222222222222222,\"#7201a8\"],[0.3333333333333333,\"#9c179e\"],[0.4444444444444444,\"#bd3786\"],[0.5555555555555556,\"#d8576b\"],[0.6666666666666666,\"#ed7953\"],[0.7777777777777778,\"#fb9f3a\"],[0.8888888888888888,\"#fdca26\"],[1.0,\"#f0f921\"]]}],\"contourcarpet\":[{\"type\":\"contourcarpet\",\"colorbar\":{\"outlinewidth\":0,\"ticks\":\"\"}}],\"contour\":[{\"type\":\"contour\",\"colorbar\":{\"outlinewidth\":0,\"ticks\":\"\"},\"colorscale\":[[0.0,\"#0d0887\"],[0.1111111111111111,\"#46039f\"],[0.2222222222222222,\"#7201a8\"],[0.3333333333333333,\"#9c179e\"],[0.4444444444444444,\"#bd3786\"],[0.5555555555555556,\"#d8576b\"],[0.6666666666666666,\"#ed7953\"],[0.7777777777777778,\"#fb9f3a\"],[0.8888888888888888,\"#fdca26\"],[1.0,\"#f0f921\"]]}],\"surface\":[{\"type\":\"surface\",\"colorbar\":{\"outlinewidth\":0,\"ticks\":\"\"},\"colorscale\":[[0.0,\"#0d0887\"],[0.1111111111111111,\"#46039f\"],[0.2222222222222222,\"#7201a8\"],[0.3333333333333333,\"#9c179e\"],[0.4444444444444444,\"#bd3786\"],[0.5555555555555556,\"#d8576b\"],[0.6666666666666666,\"#ed7953\"],[0.7777777777777778,\"#fb9f3a\"],[0.8888888888888888,\"#fdca26\"],[1.0,\"#f0f921\"]]}],\"mesh3d\":[{\"type\":\"mesh3d\",\"colorbar\":{\"outlinewidth\":0,\"ticks\":\"\"}}],\"scatter\":[{\"fillpattern\":{\"fillmode\":\"overlay\",\"size\":10,\"solidity\":0.2},\"type\":\"scatter\"}],\"parcoords\":[{\"type\":\"parcoords\",\"line\":{\"colorbar\":{\"outlinewidth\":0,\"ticks\":\"\"}}}],\"scatterpolargl\":[{\"type\":\"scatterpolargl\",\"marker\":{\"colorbar\":{\"outlinewidth\":0,\"ticks\":\"\"}}}],\"bar\":[{\"error_x\":{\"color\":\"#2a3f5f\"},\"error_y\":{\"color\":\"#2a3f5f\"},\"marker\":{\"line\":{\"color\":\"#E5ECF6\",\"width\":0.5},\"pattern\":{\"fillmode\":\"overlay\",\"size\":10,\"solidity\":0.2}},\"type\":\"bar\"}],\"scattergeo\":[{\"type\":\"scattergeo\",\"marker\":{\"colorbar\":{\"outlinewidth\":0,\"ticks\":\"\"}}}],\"scatterpolar\":[{\"type\":\"scatterpolar\",\"marker\":{\"colorbar\":{\"outlinewidth\":0,\"ticks\":\"\"}}}],\"histogram\":[{\"marker\":{\"pattern\":{\"fillmode\":\"overlay\",\"size\":10,\"solidity\":0.2}},\"type\":\"histogram\"}],\"scattergl\":[{\"type\":\"scattergl\",\"marker\":{\"colorbar\":{\"outlinewidth\":0,\"ticks\":\"\"}}}],\"scatter3d\":[{\"type\":\"scatter3d\",\"line\":{\"colorbar\":{\"outlinewidth\":0,\"ticks\":\"\"}},\"marker\":{\"colorbar\":{\"outlinewidth\":0,\"ticks\":\"\"}}}],\"scattermapbox\":[{\"type\":\"scattermapbox\",\"marker\":{\"colorbar\":{\"outlinewidth\":0,\"ticks\":\"\"}}}],\"scatterternary\":[{\"type\":\"scatterternary\",\"marker\":{\"colorbar\":{\"outlinewidth\":0,\"ticks\":\"\"}}}],\"scattercarpet\":[{\"type\":\"scattercarpet\",\"marker\":{\"colorbar\":{\"outlinewidth\":0,\"ticks\":\"\"}}}],\"carpet\":[{\"aaxis\":{\"endlinecolor\":\"#2a3f5f\",\"gridcolor\":\"white\",\"linecolor\":\"white\",\"minorgridcolor\":\"white\",\"startlinecolor\":\"#2a3f5f\"},\"baxis\":{\"endlinecolor\":\"#2a3f5f\",\"gridcolor\":\"white\",\"linecolor\":\"white\",\"minorgridcolor\":\"white\",\"startlinecolor\":\"#2a3f5f\"},\"type\":\"carpet\"}],\"table\":[{\"cells\":{\"fill\":{\"color\":\"#EBF0F8\"},\"line\":{\"color\":\"white\"}},\"header\":{\"fill\":{\"color\":\"#C8D4E3\"},\"line\":{\"color\":\"white\"}},\"type\":\"table\"}],\"barpolar\":[{\"marker\":{\"line\":{\"color\":\"#E5ECF6\",\"width\":0.5},\"pattern\":{\"fillmode\":\"overlay\",\"size\":10,\"solidity\":0.2}},\"type\":\"barpolar\"}],\"pie\":[{\"automargin\":true,\"type\":\"pie\"}]},\"layout\":{\"autotypenumbers\":\"strict\",\"colorway\":[\"#636efa\",\"#EF553B\",\"#00cc96\",\"#ab63fa\",\"#FFA15A\",\"#19d3f3\",\"#FF6692\",\"#B6E880\",\"#FF97FF\",\"#FECB52\"],\"font\":{\"color\":\"#2a3f5f\"},\"hovermode\":\"closest\",\"hoverlabel\":{\"align\":\"left\"},\"paper_bgcolor\":\"white\",\"plot_bgcolor\":\"#E5ECF6\",\"polar\":{\"bgcolor\":\"#E5ECF6\",\"angularaxis\":{\"gridcolor\":\"white\",\"linecolor\":\"white\",\"ticks\":\"\"},\"radialaxis\":{\"gridcolor\":\"white\",\"linecolor\":\"white\",\"ticks\":\"\"}},\"ternary\":{\"bgcolor\":\"#E5ECF6\",\"aaxis\":{\"gridcolor\":\"white\",\"linecolor\":\"white\",\"ticks\":\"\"},\"baxis\":{\"gridcolor\":\"white\",\"linecolor\":\"white\",\"ticks\":\"\"},\"caxis\":{\"gridcolor\":\"white\",\"linecolor\":\"white\",\"ticks\":\"\"}},\"coloraxis\":{\"colorbar\":{\"outlinewidth\":0,\"ticks\":\"\"}},\"colorscale\":{\"sequential\":[[0.0,\"#0d0887\"],[0.1111111111111111,\"#46039f\"],[0.2222222222222222,\"#7201a8\"],[0.3333333333333333,\"#9c179e\"],[0.4444444444444444,\"#bd3786\"],[0.5555555555555556,\"#d8576b\"],[0.6666666666666666,\"#ed7953\"],[0.7777777777777778,\"#fb9f3a\"],[0.8888888888888888,\"#fdca26\"],[1.0,\"#f0f921\"]],\"sequentialminus\":[[0.0,\"#0d0887\"],[0.1111111111111111,\"#46039f\"],[0.2222222222222222,\"#7201a8\"],[0.3333333333333333,\"#9c179e\"],[0.4444444444444444,\"#bd3786\"],[0.5555555555555556,\"#d8576b\"],[0.6666666666666666,\"#ed7953\"],[0.7777777777777778,\"#fb9f3a\"],[0.8888888888888888,\"#fdca26\"],[1.0,\"#f0f921\"]],\"diverging\":[[0,\"#8e0152\"],[0.1,\"#c51b7d\"],[0.2,\"#de77ae\"],[0.3,\"#f1b6da\"],[0.4,\"#fde0ef\"],[0.5,\"#f7f7f7\"],[0.6,\"#e6f5d0\"],[0.7,\"#b8e186\"],[0.8,\"#7fbc41\"],[0.9,\"#4d9221\"],[1,\"#276419\"]]},\"xaxis\":{\"gridcolor\":\"white\",\"linecolor\":\"white\",\"ticks\":\"\",\"title\":{\"standoff\":15},\"zerolinecolor\":\"white\",\"automargin\":true,\"zerolinewidth\":2},\"yaxis\":{\"gridcolor\":\"white\",\"linecolor\":\"white\",\"ticks\":\"\",\"title\":{\"standoff\":15},\"zerolinecolor\":\"white\",\"automargin\":true,\"zerolinewidth\":2},\"scene\":{\"xaxis\":{\"backgroundcolor\":\"#E5ECF6\",\"gridcolor\":\"white\",\"linecolor\":\"white\",\"showbackground\":true,\"ticks\":\"\",\"zerolinecolor\":\"white\",\"gridwidth\":2},\"yaxis\":{\"backgroundcolor\":\"#E5ECF6\",\"gridcolor\":\"white\",\"linecolor\":\"white\",\"showbackground\":true,\"ticks\":\"\",\"zerolinecolor\":\"white\",\"gridwidth\":2},\"zaxis\":{\"backgroundcolor\":\"#E5ECF6\",\"gridcolor\":\"white\",\"linecolor\":\"white\",\"showbackground\":true,\"ticks\":\"\",\"zerolinecolor\":\"white\",\"gridwidth\":2}},\"shapedefaults\":{\"line\":{\"color\":\"#2a3f5f\"}},\"annotationdefaults\":{\"arrowcolor\":\"#2a3f5f\",\"arrowhead\":0,\"arrowwidth\":1},\"geo\":{\"bgcolor\":\"white\",\"landcolor\":\"#E5ECF6\",\"subunitcolor\":\"white\",\"showland\":true,\"showlakes\":true,\"lakecolor\":\"white\"},\"title\":{\"x\":0.05},\"mapbox\":{\"style\":\"light\"}}},\"xaxis\":{\"anchor\":\"y\",\"domain\":[0.0,1.0],\"title\":{\"text\":\"dim1\"}},\"yaxis\":{\"anchor\":\"x\",\"domain\":[0.0,1.0],\"title\":{\"text\":\"dim2\"}},\"coloraxis\":{\"colorbar\":{\"title\":{\"text\":\"transferred_token_num\"},\"yanchor\":\"top\",\"y\":1,\"x\":100,\"xref\":\"container\"},\"colorscale\":[[0.0,\"#0d0887\"],[0.1111111111111111,\"#46039f\"],[0.2222222222222222,\"#7201a8\"],[0.3333333333333333,\"#9c179e\"],[0.4444444444444444,\"#bd3786\"],[0.5555555555555556,\"#d8576b\"],[0.6666666666666666,\"#ed7953\"],[0.7777777777777778,\"#fb9f3a\"],[0.8888888888888888,\"#fdca26\"],[1.0,\"#f0f921\"]]},\"legend\":{\"title\":{\"text\":\"transplant_prompt_str\"},\"tracegroupgap\":0},\"title\":{\"text\":\"PCA of Agnes Story Embeddings\"}},                        {\"responsive\": true}                    ).then(function(){\n",
       "                            \n",
       "var gd = document.getElementById('c02e6287-6820-4a66-a0ec-dadc16e61fc9');\n",
       "var x = new MutationObserver(function (mutations, observer) {{\n",
       "        var display = window.getComputedStyle(gd).display;\n",
       "        if (!display || display === 'none') {{\n",
       "            console.log([gd, 'removed!']);\n",
       "            Plotly.purge(gd);\n",
       "            observer.disconnect();\n",
       "        }}\n",
       "}});\n",
       "\n",
       "// Listen for the removal of the full notebook cells\n",
       "var notebookContainer = gd.closest('#notebook-container');\n",
       "if (notebookContainer) {{\n",
       "    x.observe(notebookContainer, {childList: true});\n",
       "}}\n",
       "\n",
       "// Listen for the clearing of the current output cell\n",
       "var outputEl = gd.closest('.output');\n",
       "if (outputEl) {{\n",
       "    x.observe(outputEl, {childList: true});\n",
       "}}\n",
       "\n",
       "                        })                };                });            </script>        </div>"
      ]
     },
     "metadata": {},
     "output_type": "display_data"
    }
   ],
   "source": [
    "# carry out pca on embeddings using sklearn\n",
    "reducer = PCA(n_components=2)\n",
    "embeddings_reduced = reducer.fit_transform(embeddings)\n",
    "print(embeddings_reduced.shape)\n",
    "\n",
    "# visualize the embeddings using plotly\n",
    "import plotly.express as px\n",
    "import plotly.graph_objects as go\n",
    "\n",
    "results_df[\"dim1\"] = embeddings_reduced[:results_df.shape[0], 0]\n",
    "results_df[\"dim2\"] = embeddings_reduced[:results_df.shape[0], 1]\n",
    "base_df[\"dim1\"] = embeddings_reduced[results_df.shape[0]:neutral_start, 0]\n",
    "base_df[\"dim2\"] = embeddings_reduced[results_df.shape[0]:neutral_start, 1]\n",
    "baseline_mean_x = base_df[\"dim1\"].mean(axis=0)\n",
    "baseline_mean_y = base_df[\"dim2\"].mean(axis=0)\n",
    "neutral_df[\"dim1\"] = embeddings_reduced[neutral_start:, 0]\n",
    "neutral_df[\"dim2\"] = embeddings_reduced[neutral_start:, 1]\n",
    "neutral_mean_x = neutral_df[\"dim1\"].mean(axis=0)\n",
    "neutral_mean_y = neutral_df[\"dim2\"].mean(axis=0)\n",
    "\n",
    "results_df[\"truncated_output\"] = results_df[\"output\"].str.slice(0,100)\n",
    "results_df[\"transplant_prompt_str\"] = results_df[\"transplant_prompt\"].str.replace(\"\\n\", \"\\\\n\")\n",
    "\n",
    "fig = px.scatter(\n",
    "    results_df,\n",
    "    x=\"dim1\",\n",
    "    y=\"dim2\",\n",
    "    hover_data=[\"transplant_prompt_str\", \"transferred_token_num\"],\n",
    "    title=\"PCA of Agnes Story Embeddings\",\n",
    "    color=\"transferred_token_num\",\n",
    "    symbol=\"transplant_prompt_str\",\n",
    "    symbol_sequence = ['circle', 'square', 'diamond', 'cross', 'x', 'triangle-up', 'pentagon', 'hexagon', 'octagon', 'star'],\n",
    "\n",
    ")\n",
    "\n",
    "\n",
    "fig.add_trace(go.Scatter(x=base_df[\"dim1\"].to_list(), y=base_df[\"dim2\"].to_list(), mode='markers', marker=dict(color='green', size=10), name='Baseline Generation'))\n",
    "\n",
    "\n",
    "fig.update_layout(coloraxis_colorbar=dict(yanchor=\"top\", y=1, x=100, xref=\"container\"))\n",
    "\n",
    "fig.update_traces(\n",
    "    hovertemplate=\"<br>\".join(\n",
    "        [\"Transplanted Prompt: %{customdata[0]}\", \"# of Transferred Tokens: %{customdata[1]}\"]\n",
    "    )\n",
    ")\n",
    "\n",
    "fig.add_trace(go.Scatter(x=neutral_df[\"dim1\"].to_list(), y=neutral_df[\"dim2\"].to_list(), mode='markers', marker=dict(color='turquoise', size=8), name='Untransferred Newline'))\n",
    "\n",
    "fig.data = [fig.data[7],fig.data[6],fig.data[5],fig.data[4], fig.data[3],fig.data[2],fig.data[1],fig.data[0]]\n",
    "\n",
    "\n",
    "fig.show()"
   ]
  },
  {
   "cell_type": "code",
   "execution_count": 34,
   "metadata": {},
   "outputs": [
    {
     "name": "stdout",
     "output_type": "stream",
     "text": [
      "        PC1       PC2\n",
      "0  0.088585  0.341144\n",
      "1  0.435141 -0.069570\n",
      "2 -0.032514  0.429647\n",
      "3  0.404933  0.243209\n",
      "4 -0.268462  0.010027\n",
      "Sunday dinners.\\n\\n\n",
      "  transplant_prompt_str  transferred_token_num       PC1       PC2\n",
      "0          dinners.\\n\\n                    1.0 -0.083093  0.237141\n",
      "1          dinners.\\n\\n                    2.0 -0.082674  0.213721\n",
      "2          dinners.\\n\\n                    3.0  0.211505  0.008649\n",
      "3          dinners.\\n\\n                    4.0  0.020320 -0.033381\n",
      "4          dinners.\\n\\n                    5.0  0.301683 -0.124812\n"
     ]
    },
    {
     "data": {
      "application/vnd.plotly.v1+json": {
       "config": {
        "plotlyServerURL": "https://plot.ly"
       },
       "data": [
        {
         "hovertemplate": "transplant_prompt_str= dinners.\\n\\n<br>PC1=%{x}<br>PC2=%{y}<br>transferred_token_num=%{marker.color}<extra></extra>",
         "legendgroup": " dinners.\\n\\n",
         "marker": {
          "color": [
           1,
           2,
           3,
           4,
           5
          ],
          "coloraxis": "coloraxis",
          "symbol": "pentagon"
         },
         "mode": "markers",
         "name": " dinners.\\n\\n",
         "orientation": "v",
         "showlegend": true,
         "type": "scatter",
         "x": [
          -0.08309313654899597,
          -0.08267352730035782,
          0.21150529384613037,
          0.020319603383541107,
          0.3016825318336487
         ],
         "xaxis": "x",
         "y": [
          0.2371414601802826,
          0.2137208729982376,
          0.008648996241390705,
          -0.03338075429201126,
          -0.12481187283992767
         ],
         "yaxis": "y"
        },
        {
         "hovertemplate": "transplant_prompt_str=.\\n\\n<br>PC1=%{x}<br>PC2=%{y}<br>transferred_token_num=%{marker.color}<extra></extra>",
         "legendgroup": ".\\n\\n",
         "marker": {
          "color": [
           1,
           2,
           3
          ],
          "coloraxis": "coloraxis",
          "symbol": "hexagon"
         },
         "mode": "markers",
         "name": ".\\n\\n",
         "orientation": "v",
         "showlegend": true,
         "type": "scatter",
         "x": [
          -0.3106129765510559,
          0.2518305480480194,
          -0.35399219393730164
         ],
         "xaxis": "x",
         "y": [
          0.2523675262928009,
          -0.006346262991428375,
          -0.09570906311273575
         ],
         "yaxis": "y"
        },
        {
         "hovertemplate": "transplant_prompt_str=Sunday dinners.\\n\\n<br>PC1=%{x}<br>PC2=%{y}<br>transferred_token_num=%{marker.color}<extra></extra>",
         "legendgroup": "Sunday dinners.\\n\\n",
         "marker": {
          "color": [
           1,
           2,
           3,
           4,
           5,
           6
          ],
          "coloraxis": "coloraxis",
          "symbol": "octagon"
         },
         "mode": "markers",
         "name": "Sunday dinners.\\n\\n",
         "orientation": "v",
         "showlegend": true,
         "type": "scatter",
         "x": [
          0.1229424700140953,
          0.2422209233045578,
          0.36556631326675415,
          0.29272279143333435,
          0.3530087172985077,
          -0.25343769788742065
         ],
         "xaxis": "x",
         "y": [
          0.14552965760231018,
          0.040358640253543854,
          0.019092857837677002,
          0.04865424707531929,
          0.037075601518154144,
          -0.058825064450502396
         ],
         "yaxis": "y"
        },
        {
         "hovertemplate": "transplant_prompt_str=\\n<br>PC1=%{x}<br>PC2=%{y}<br>transferred_token_num=%{marker.color}<extra></extra>",
         "legendgroup": "\\n",
         "marker": {
          "color": [
           1
          ],
          "coloraxis": "coloraxis",
          "symbol": "star"
         },
         "mode": "markers",
         "name": "\\n",
         "orientation": "v",
         "showlegend": true,
         "type": "scatter",
         "x": [
          -0.21808664500713348
         ],
         "xaxis": "x",
         "y": [
          -0.009010073728859425
         ],
         "yaxis": "y"
        },
        {
         "hovertemplate": "transplant_prompt_str=\\n\\n<br>PC1=%{x}<br>PC2=%{y}<br>transferred_token_num=%{marker.color}<extra></extra>",
         "legendgroup": "\\n\\n",
         "marker": {
          "color": [
           1,
           2
          ],
          "coloraxis": "coloraxis",
          "symbol": "circle"
         },
         "mode": "markers",
         "name": "\\n\\n",
         "orientation": "v",
         "showlegend": true,
         "type": "scatter",
         "x": [
          -0.23375466465950012,
          0.0765141025185585
         ],
         "xaxis": "x",
         "y": [
          0.09830544888973236,
          0.15009209513664246
         ],
         "yaxis": "y"
        },
        {
         "hovertemplate": "transplant_prompt_str=inners.\\n\\n<br>PC1=%{x}<br>PC2=%{y}<br>transferred_token_num=%{marker.color}<extra></extra>",
         "legendgroup": "inners.\\n\\n",
         "marker": {
          "color": [
           1,
           2,
           3,
           4
          ],
          "coloraxis": "coloraxis",
          "symbol": "square"
         },
         "mode": "markers",
         "name": "inners.\\n\\n",
         "orientation": "v",
         "showlegend": true,
         "type": "scatter",
         "x": [
          -0.26278048753738403,
          -0.21999509632587433,
          0.18924634158611298,
          0.1993197351694107
         ],
         "xaxis": "x",
         "y": [
          -0.14264434576034546,
          -0.11967813968658447,
          -0.11297054588794708,
          -0.21455018222332
         ],
         "yaxis": "y"
        },
        {
         "marker": {
          "color": "green",
          "size": 10
         },
         "mode": "markers",
         "name": "Baseline Generation Mean",
         "type": "scatter",
         "x": [
          0.42083877325057983
         ],
         "y": [
          -0.15904787182807922
         ]
        },
        {
         "marker": {
          "color": "turquoise",
          "size": 8
         },
         "mode": "markers",
         "name": "Untransferred Newline Mean",
         "type": "scatter",
         "x": [
          -0.3321100175380707
         ],
         "y": [
          0.012911723926663399
         ]
        }
       ],
       "layout": {
        "coloraxis": {
         "colorbar": {
          "title": {
           "text": "transferred_token_num"
          },
          "x": 100,
          "xref": "container",
          "y": 1,
          "yanchor": "top"
         },
         "colorscale": [
          [
           0,
           "#0d0887"
          ],
          [
           0.1111111111111111,
           "#46039f"
          ],
          [
           0.2222222222222222,
           "#7201a8"
          ],
          [
           0.3333333333333333,
           "#9c179e"
          ],
          [
           0.4444444444444444,
           "#bd3786"
          ],
          [
           0.5555555555555556,
           "#d8576b"
          ],
          [
           0.6666666666666666,
           "#ed7953"
          ],
          [
           0.7777777777777778,
           "#fb9f3a"
          ],
          [
           0.8888888888888888,
           "#fdca26"
          ],
          [
           1,
           "#f0f921"
          ]
         ]
        },
        "legend": {
         "title": {
          "text": "transplant_prompt_str"
         },
         "tracegroupgap": 0
        },
        "template": {
         "data": {
          "bar": [
           {
            "error_x": {
             "color": "#2a3f5f"
            },
            "error_y": {
             "color": "#2a3f5f"
            },
            "marker": {
             "line": {
              "color": "#E5ECF6",
              "width": 0.5
             },
             "pattern": {
              "fillmode": "overlay",
              "size": 10,
              "solidity": 0.2
             }
            },
            "type": "bar"
           }
          ],
          "barpolar": [
           {
            "marker": {
             "line": {
              "color": "#E5ECF6",
              "width": 0.5
             },
             "pattern": {
              "fillmode": "overlay",
              "size": 10,
              "solidity": 0.2
             }
            },
            "type": "barpolar"
           }
          ],
          "carpet": [
           {
            "aaxis": {
             "endlinecolor": "#2a3f5f",
             "gridcolor": "white",
             "linecolor": "white",
             "minorgridcolor": "white",
             "startlinecolor": "#2a3f5f"
            },
            "baxis": {
             "endlinecolor": "#2a3f5f",
             "gridcolor": "white",
             "linecolor": "white",
             "minorgridcolor": "white",
             "startlinecolor": "#2a3f5f"
            },
            "type": "carpet"
           }
          ],
          "choropleth": [
           {
            "colorbar": {
             "outlinewidth": 0,
             "ticks": ""
            },
            "type": "choropleth"
           }
          ],
          "contour": [
           {
            "colorbar": {
             "outlinewidth": 0,
             "ticks": ""
            },
            "colorscale": [
             [
              0,
              "#0d0887"
             ],
             [
              0.1111111111111111,
              "#46039f"
             ],
             [
              0.2222222222222222,
              "#7201a8"
             ],
             [
              0.3333333333333333,
              "#9c179e"
             ],
             [
              0.4444444444444444,
              "#bd3786"
             ],
             [
              0.5555555555555556,
              "#d8576b"
             ],
             [
              0.6666666666666666,
              "#ed7953"
             ],
             [
              0.7777777777777778,
              "#fb9f3a"
             ],
             [
              0.8888888888888888,
              "#fdca26"
             ],
             [
              1,
              "#f0f921"
             ]
            ],
            "type": "contour"
           }
          ],
          "contourcarpet": [
           {
            "colorbar": {
             "outlinewidth": 0,
             "ticks": ""
            },
            "type": "contourcarpet"
           }
          ],
          "heatmap": [
           {
            "colorbar": {
             "outlinewidth": 0,
             "ticks": ""
            },
            "colorscale": [
             [
              0,
              "#0d0887"
             ],
             [
              0.1111111111111111,
              "#46039f"
             ],
             [
              0.2222222222222222,
              "#7201a8"
             ],
             [
              0.3333333333333333,
              "#9c179e"
             ],
             [
              0.4444444444444444,
              "#bd3786"
             ],
             [
              0.5555555555555556,
              "#d8576b"
             ],
             [
              0.6666666666666666,
              "#ed7953"
             ],
             [
              0.7777777777777778,
              "#fb9f3a"
             ],
             [
              0.8888888888888888,
              "#fdca26"
             ],
             [
              1,
              "#f0f921"
             ]
            ],
            "type": "heatmap"
           }
          ],
          "heatmapgl": [
           {
            "colorbar": {
             "outlinewidth": 0,
             "ticks": ""
            },
            "colorscale": [
             [
              0,
              "#0d0887"
             ],
             [
              0.1111111111111111,
              "#46039f"
             ],
             [
              0.2222222222222222,
              "#7201a8"
             ],
             [
              0.3333333333333333,
              "#9c179e"
             ],
             [
              0.4444444444444444,
              "#bd3786"
             ],
             [
              0.5555555555555556,
              "#d8576b"
             ],
             [
              0.6666666666666666,
              "#ed7953"
             ],
             [
              0.7777777777777778,
              "#fb9f3a"
             ],
             [
              0.8888888888888888,
              "#fdca26"
             ],
             [
              1,
              "#f0f921"
             ]
            ],
            "type": "heatmapgl"
           }
          ],
          "histogram": [
           {
            "marker": {
             "pattern": {
              "fillmode": "overlay",
              "size": 10,
              "solidity": 0.2
             }
            },
            "type": "histogram"
           }
          ],
          "histogram2d": [
           {
            "colorbar": {
             "outlinewidth": 0,
             "ticks": ""
            },
            "colorscale": [
             [
              0,
              "#0d0887"
             ],
             [
              0.1111111111111111,
              "#46039f"
             ],
             [
              0.2222222222222222,
              "#7201a8"
             ],
             [
              0.3333333333333333,
              "#9c179e"
             ],
             [
              0.4444444444444444,
              "#bd3786"
             ],
             [
              0.5555555555555556,
              "#d8576b"
             ],
             [
              0.6666666666666666,
              "#ed7953"
             ],
             [
              0.7777777777777778,
              "#fb9f3a"
             ],
             [
              0.8888888888888888,
              "#fdca26"
             ],
             [
              1,
              "#f0f921"
             ]
            ],
            "type": "histogram2d"
           }
          ],
          "histogram2dcontour": [
           {
            "colorbar": {
             "outlinewidth": 0,
             "ticks": ""
            },
            "colorscale": [
             [
              0,
              "#0d0887"
             ],
             [
              0.1111111111111111,
              "#46039f"
             ],
             [
              0.2222222222222222,
              "#7201a8"
             ],
             [
              0.3333333333333333,
              "#9c179e"
             ],
             [
              0.4444444444444444,
              "#bd3786"
             ],
             [
              0.5555555555555556,
              "#d8576b"
             ],
             [
              0.6666666666666666,
              "#ed7953"
             ],
             [
              0.7777777777777778,
              "#fb9f3a"
             ],
             [
              0.8888888888888888,
              "#fdca26"
             ],
             [
              1,
              "#f0f921"
             ]
            ],
            "type": "histogram2dcontour"
           }
          ],
          "mesh3d": [
           {
            "colorbar": {
             "outlinewidth": 0,
             "ticks": ""
            },
            "type": "mesh3d"
           }
          ],
          "parcoords": [
           {
            "line": {
             "colorbar": {
              "outlinewidth": 0,
              "ticks": ""
             }
            },
            "type": "parcoords"
           }
          ],
          "pie": [
           {
            "automargin": true,
            "type": "pie"
           }
          ],
          "scatter": [
           {
            "fillpattern": {
             "fillmode": "overlay",
             "size": 10,
             "solidity": 0.2
            },
            "type": "scatter"
           }
          ],
          "scatter3d": [
           {
            "line": {
             "colorbar": {
              "outlinewidth": 0,
              "ticks": ""
             }
            },
            "marker": {
             "colorbar": {
              "outlinewidth": 0,
              "ticks": ""
             }
            },
            "type": "scatter3d"
           }
          ],
          "scattercarpet": [
           {
            "marker": {
             "colorbar": {
              "outlinewidth": 0,
              "ticks": ""
             }
            },
            "type": "scattercarpet"
           }
          ],
          "scattergeo": [
           {
            "marker": {
             "colorbar": {
              "outlinewidth": 0,
              "ticks": ""
             }
            },
            "type": "scattergeo"
           }
          ],
          "scattergl": [
           {
            "marker": {
             "colorbar": {
              "outlinewidth": 0,
              "ticks": ""
             }
            },
            "type": "scattergl"
           }
          ],
          "scattermapbox": [
           {
            "marker": {
             "colorbar": {
              "outlinewidth": 0,
              "ticks": ""
             }
            },
            "type": "scattermapbox"
           }
          ],
          "scatterpolar": [
           {
            "marker": {
             "colorbar": {
              "outlinewidth": 0,
              "ticks": ""
             }
            },
            "type": "scatterpolar"
           }
          ],
          "scatterpolargl": [
           {
            "marker": {
             "colorbar": {
              "outlinewidth": 0,
              "ticks": ""
             }
            },
            "type": "scatterpolargl"
           }
          ],
          "scatterternary": [
           {
            "marker": {
             "colorbar": {
              "outlinewidth": 0,
              "ticks": ""
             }
            },
            "type": "scatterternary"
           }
          ],
          "surface": [
           {
            "colorbar": {
             "outlinewidth": 0,
             "ticks": ""
            },
            "colorscale": [
             [
              0,
              "#0d0887"
             ],
             [
              0.1111111111111111,
              "#46039f"
             ],
             [
              0.2222222222222222,
              "#7201a8"
             ],
             [
              0.3333333333333333,
              "#9c179e"
             ],
             [
              0.4444444444444444,
              "#bd3786"
             ],
             [
              0.5555555555555556,
              "#d8576b"
             ],
             [
              0.6666666666666666,
              "#ed7953"
             ],
             [
              0.7777777777777778,
              "#fb9f3a"
             ],
             [
              0.8888888888888888,
              "#fdca26"
             ],
             [
              1,
              "#f0f921"
             ]
            ],
            "type": "surface"
           }
          ],
          "table": [
           {
            "cells": {
             "fill": {
              "color": "#EBF0F8"
             },
             "line": {
              "color": "white"
             }
            },
            "header": {
             "fill": {
              "color": "#C8D4E3"
             },
             "line": {
              "color": "white"
             }
            },
            "type": "table"
           }
          ]
         },
         "layout": {
          "annotationdefaults": {
           "arrowcolor": "#2a3f5f",
           "arrowhead": 0,
           "arrowwidth": 1
          },
          "autotypenumbers": "strict",
          "coloraxis": {
           "colorbar": {
            "outlinewidth": 0,
            "ticks": ""
           }
          },
          "colorscale": {
           "diverging": [
            [
             0,
             "#8e0152"
            ],
            [
             0.1,
             "#c51b7d"
            ],
            [
             0.2,
             "#de77ae"
            ],
            [
             0.3,
             "#f1b6da"
            ],
            [
             0.4,
             "#fde0ef"
            ],
            [
             0.5,
             "#f7f7f7"
            ],
            [
             0.6,
             "#e6f5d0"
            ],
            [
             0.7,
             "#b8e186"
            ],
            [
             0.8,
             "#7fbc41"
            ],
            [
             0.9,
             "#4d9221"
            ],
            [
             1,
             "#276419"
            ]
           ],
           "sequential": [
            [
             0,
             "#0d0887"
            ],
            [
             0.1111111111111111,
             "#46039f"
            ],
            [
             0.2222222222222222,
             "#7201a8"
            ],
            [
             0.3333333333333333,
             "#9c179e"
            ],
            [
             0.4444444444444444,
             "#bd3786"
            ],
            [
             0.5555555555555556,
             "#d8576b"
            ],
            [
             0.6666666666666666,
             "#ed7953"
            ],
            [
             0.7777777777777778,
             "#fb9f3a"
            ],
            [
             0.8888888888888888,
             "#fdca26"
            ],
            [
             1,
             "#f0f921"
            ]
           ],
           "sequentialminus": [
            [
             0,
             "#0d0887"
            ],
            [
             0.1111111111111111,
             "#46039f"
            ],
            [
             0.2222222222222222,
             "#7201a8"
            ],
            [
             0.3333333333333333,
             "#9c179e"
            ],
            [
             0.4444444444444444,
             "#bd3786"
            ],
            [
             0.5555555555555556,
             "#d8576b"
            ],
            [
             0.6666666666666666,
             "#ed7953"
            ],
            [
             0.7777777777777778,
             "#fb9f3a"
            ],
            [
             0.8888888888888888,
             "#fdca26"
            ],
            [
             1,
             "#f0f921"
            ]
           ]
          },
          "colorway": [
           "#636efa",
           "#EF553B",
           "#00cc96",
           "#ab63fa",
           "#FFA15A",
           "#19d3f3",
           "#FF6692",
           "#B6E880",
           "#FF97FF",
           "#FECB52"
          ],
          "font": {
           "color": "#2a3f5f"
          },
          "geo": {
           "bgcolor": "white",
           "lakecolor": "white",
           "landcolor": "#E5ECF6",
           "showlakes": true,
           "showland": true,
           "subunitcolor": "white"
          },
          "hoverlabel": {
           "align": "left"
          },
          "hovermode": "closest",
          "mapbox": {
           "style": "light"
          },
          "paper_bgcolor": "white",
          "plot_bgcolor": "#E5ECF6",
          "polar": {
           "angularaxis": {
            "gridcolor": "white",
            "linecolor": "white",
            "ticks": ""
           },
           "bgcolor": "#E5ECF6",
           "radialaxis": {
            "gridcolor": "white",
            "linecolor": "white",
            "ticks": ""
           }
          },
          "scene": {
           "xaxis": {
            "backgroundcolor": "#E5ECF6",
            "gridcolor": "white",
            "gridwidth": 2,
            "linecolor": "white",
            "showbackground": true,
            "ticks": "",
            "zerolinecolor": "white"
           },
           "yaxis": {
            "backgroundcolor": "#E5ECF6",
            "gridcolor": "white",
            "gridwidth": 2,
            "linecolor": "white",
            "showbackground": true,
            "ticks": "",
            "zerolinecolor": "white"
           },
           "zaxis": {
            "backgroundcolor": "#E5ECF6",
            "gridcolor": "white",
            "gridwidth": 2,
            "linecolor": "white",
            "showbackground": true,
            "ticks": "",
            "zerolinecolor": "white"
           }
          },
          "shapedefaults": {
           "line": {
            "color": "#2a3f5f"
           }
          },
          "ternary": {
           "aaxis": {
            "gridcolor": "white",
            "linecolor": "white",
            "ticks": ""
           },
           "baxis": {
            "gridcolor": "white",
            "linecolor": "white",
            "ticks": ""
           },
           "bgcolor": "#E5ECF6",
           "caxis": {
            "gridcolor": "white",
            "linecolor": "white",
            "ticks": ""
           }
          },
          "title": {
           "x": 0.05
          },
          "xaxis": {
           "automargin": true,
           "gridcolor": "white",
           "linecolor": "white",
           "ticks": "",
           "title": {
            "standoff": 15
           },
           "zerolinecolor": "white",
           "zerolinewidth": 2
          },
          "yaxis": {
           "automargin": true,
           "gridcolor": "white",
           "linecolor": "white",
           "ticks": "",
           "title": {
            "standoff": 15
           },
           "zerolinecolor": "white",
           "zerolinewidth": 2
          }
         }
        },
        "title": {
         "text": "Means of PCA Groups"
        },
        "xaxis": {
         "anchor": "y",
         "domain": [
          0,
          1
         ],
         "title": {
          "text": "PC1"
         }
        },
        "yaxis": {
         "anchor": "x",
         "domain": [
          0,
          1
         ],
         "title": {
          "text": "PC2"
         }
        }
       }
      },
      "text/html": [
       "<div>                            <div id=\"e436694f-9daf-4897-9303-75f1748c1b46\" class=\"plotly-graph-div\" style=\"height:525px; width:100%;\"></div>            <script type=\"text/javascript\">                require([\"plotly\"], function(Plotly) {                    window.PLOTLYENV=window.PLOTLYENV || {};                                    if (document.getElementById(\"e436694f-9daf-4897-9303-75f1748c1b46\")) {                    Plotly.newPlot(                        \"e436694f-9daf-4897-9303-75f1748c1b46\",                        [{\"hovertemplate\":\"transplant_prompt_str= dinners.\\\\n\\\\n\\u003cbr\\u003ePC1=%{x}\\u003cbr\\u003ePC2=%{y}\\u003cbr\\u003etransferred_token_num=%{marker.color}\\u003cextra\\u003e\\u003c\\u002fextra\\u003e\",\"legendgroup\":\" dinners.\\\\n\\\\n\",\"marker\":{\"color\":[1.0,2.0,3.0,4.0,5.0],\"coloraxis\":\"coloraxis\",\"symbol\":\"pentagon\"},\"mode\":\"markers\",\"name\":\" dinners.\\\\n\\\\n\",\"orientation\":\"v\",\"showlegend\":true,\"x\":[-0.08309313654899597,-0.08267352730035782,0.21150529384613037,0.020319603383541107,0.3016825318336487],\"xaxis\":\"x\",\"y\":[0.2371414601802826,0.2137208729982376,0.008648996241390705,-0.03338075429201126,-0.12481187283992767],\"yaxis\":\"y\",\"type\":\"scatter\"},{\"hovertemplate\":\"transplant_prompt_str=.\\\\n\\\\n\\u003cbr\\u003ePC1=%{x}\\u003cbr\\u003ePC2=%{y}\\u003cbr\\u003etransferred_token_num=%{marker.color}\\u003cextra\\u003e\\u003c\\u002fextra\\u003e\",\"legendgroup\":\".\\\\n\\\\n\",\"marker\":{\"color\":[1.0,2.0,3.0],\"coloraxis\":\"coloraxis\",\"symbol\":\"hexagon\"},\"mode\":\"markers\",\"name\":\".\\\\n\\\\n\",\"orientation\":\"v\",\"showlegend\":true,\"x\":[-0.3106129765510559,0.2518305480480194,-0.35399219393730164],\"xaxis\":\"x\",\"y\":[0.2523675262928009,-0.006346262991428375,-0.09570906311273575],\"yaxis\":\"y\",\"type\":\"scatter\"},{\"hovertemplate\":\"transplant_prompt_str=Sunday dinners.\\\\n\\\\n\\u003cbr\\u003ePC1=%{x}\\u003cbr\\u003ePC2=%{y}\\u003cbr\\u003etransferred_token_num=%{marker.color}\\u003cextra\\u003e\\u003c\\u002fextra\\u003e\",\"legendgroup\":\"Sunday dinners.\\\\n\\\\n\",\"marker\":{\"color\":[1.0,2.0,3.0,4.0,5.0,6.0],\"coloraxis\":\"coloraxis\",\"symbol\":\"octagon\"},\"mode\":\"markers\",\"name\":\"Sunday dinners.\\\\n\\\\n\",\"orientation\":\"v\",\"showlegend\":true,\"x\":[0.1229424700140953,0.2422209233045578,0.36556631326675415,0.29272279143333435,0.3530087172985077,-0.25343769788742065],\"xaxis\":\"x\",\"y\":[0.14552965760231018,0.040358640253543854,0.019092857837677002,0.04865424707531929,0.037075601518154144,-0.058825064450502396],\"yaxis\":\"y\",\"type\":\"scatter\"},{\"hovertemplate\":\"transplant_prompt_str=\\\\n\\u003cbr\\u003ePC1=%{x}\\u003cbr\\u003ePC2=%{y}\\u003cbr\\u003etransferred_token_num=%{marker.color}\\u003cextra\\u003e\\u003c\\u002fextra\\u003e\",\"legendgroup\":\"\\\\n\",\"marker\":{\"color\":[1.0],\"coloraxis\":\"coloraxis\",\"symbol\":\"star\"},\"mode\":\"markers\",\"name\":\"\\\\n\",\"orientation\":\"v\",\"showlegend\":true,\"x\":[-0.21808664500713348],\"xaxis\":\"x\",\"y\":[-0.009010073728859425],\"yaxis\":\"y\",\"type\":\"scatter\"},{\"hovertemplate\":\"transplant_prompt_str=\\\\n\\\\n\\u003cbr\\u003ePC1=%{x}\\u003cbr\\u003ePC2=%{y}\\u003cbr\\u003etransferred_token_num=%{marker.color}\\u003cextra\\u003e\\u003c\\u002fextra\\u003e\",\"legendgroup\":\"\\\\n\\\\n\",\"marker\":{\"color\":[1.0,2.0],\"coloraxis\":\"coloraxis\",\"symbol\":\"circle\"},\"mode\":\"markers\",\"name\":\"\\\\n\\\\n\",\"orientation\":\"v\",\"showlegend\":true,\"x\":[-0.23375466465950012,0.0765141025185585],\"xaxis\":\"x\",\"y\":[0.09830544888973236,0.15009209513664246],\"yaxis\":\"y\",\"type\":\"scatter\"},{\"hovertemplate\":\"transplant_prompt_str=inners.\\\\n\\\\n\\u003cbr\\u003ePC1=%{x}\\u003cbr\\u003ePC2=%{y}\\u003cbr\\u003etransferred_token_num=%{marker.color}\\u003cextra\\u003e\\u003c\\u002fextra\\u003e\",\"legendgroup\":\"inners.\\\\n\\\\n\",\"marker\":{\"color\":[1.0,2.0,3.0,4.0],\"coloraxis\":\"coloraxis\",\"symbol\":\"square\"},\"mode\":\"markers\",\"name\":\"inners.\\\\n\\\\n\",\"orientation\":\"v\",\"showlegend\":true,\"x\":[-0.26278048753738403,-0.21999509632587433,0.18924634158611298,0.1993197351694107],\"xaxis\":\"x\",\"y\":[-0.14264434576034546,-0.11967813968658447,-0.11297054588794708,-0.21455018222332],\"yaxis\":\"y\",\"type\":\"scatter\"},{\"marker\":{\"color\":\"green\",\"size\":10},\"mode\":\"markers\",\"name\":\"Baseline Generation Mean\",\"x\":[0.42083877325057983],\"y\":[-0.15904787182807922],\"type\":\"scatter\"},{\"marker\":{\"color\":\"turquoise\",\"size\":8},\"mode\":\"markers\",\"name\":\"Untransferred Newline Mean\",\"x\":[-0.3321100175380707],\"y\":[0.012911723926663399],\"type\":\"scatter\"}],                        {\"template\":{\"data\":{\"histogram2dcontour\":[{\"type\":\"histogram2dcontour\",\"colorbar\":{\"outlinewidth\":0,\"ticks\":\"\"},\"colorscale\":[[0.0,\"#0d0887\"],[0.1111111111111111,\"#46039f\"],[0.2222222222222222,\"#7201a8\"],[0.3333333333333333,\"#9c179e\"],[0.4444444444444444,\"#bd3786\"],[0.5555555555555556,\"#d8576b\"],[0.6666666666666666,\"#ed7953\"],[0.7777777777777778,\"#fb9f3a\"],[0.8888888888888888,\"#fdca26\"],[1.0,\"#f0f921\"]]}],\"choropleth\":[{\"type\":\"choropleth\",\"colorbar\":{\"outlinewidth\":0,\"ticks\":\"\"}}],\"histogram2d\":[{\"type\":\"histogram2d\",\"colorbar\":{\"outlinewidth\":0,\"ticks\":\"\"},\"colorscale\":[[0.0,\"#0d0887\"],[0.1111111111111111,\"#46039f\"],[0.2222222222222222,\"#7201a8\"],[0.3333333333333333,\"#9c179e\"],[0.4444444444444444,\"#bd3786\"],[0.5555555555555556,\"#d8576b\"],[0.6666666666666666,\"#ed7953\"],[0.7777777777777778,\"#fb9f3a\"],[0.8888888888888888,\"#fdca26\"],[1.0,\"#f0f921\"]]}],\"heatmap\":[{\"type\":\"heatmap\",\"colorbar\":{\"outlinewidth\":0,\"ticks\":\"\"},\"colorscale\":[[0.0,\"#0d0887\"],[0.1111111111111111,\"#46039f\"],[0.2222222222222222,\"#7201a8\"],[0.3333333333333333,\"#9c179e\"],[0.4444444444444444,\"#bd3786\"],[0.5555555555555556,\"#d8576b\"],[0.6666666666666666,\"#ed7953\"],[0.7777777777777778,\"#fb9f3a\"],[0.8888888888888888,\"#fdca26\"],[1.0,\"#f0f921\"]]}],\"heatmapgl\":[{\"type\":\"heatmapgl\",\"colorbar\":{\"outlinewidth\":0,\"ticks\":\"\"},\"colorscale\":[[0.0,\"#0d0887\"],[0.1111111111111111,\"#46039f\"],[0.2222222222222222,\"#7201a8\"],[0.3333333333333333,\"#9c179e\"],[0.4444444444444444,\"#bd3786\"],[0.5555555555555556,\"#d8576b\"],[0.6666666666666666,\"#ed7953\"],[0.7777777777777778,\"#fb9f3a\"],[0.8888888888888888,\"#fdca26\"],[1.0,\"#f0f921\"]]}],\"contourcarpet\":[{\"type\":\"contourcarpet\",\"colorbar\":{\"outlinewidth\":0,\"ticks\":\"\"}}],\"contour\":[{\"type\":\"contour\",\"colorbar\":{\"outlinewidth\":0,\"ticks\":\"\"},\"colorscale\":[[0.0,\"#0d0887\"],[0.1111111111111111,\"#46039f\"],[0.2222222222222222,\"#7201a8\"],[0.3333333333333333,\"#9c179e\"],[0.4444444444444444,\"#bd3786\"],[0.5555555555555556,\"#d8576b\"],[0.6666666666666666,\"#ed7953\"],[0.7777777777777778,\"#fb9f3a\"],[0.8888888888888888,\"#fdca26\"],[1.0,\"#f0f921\"]]}],\"surface\":[{\"type\":\"surface\",\"colorbar\":{\"outlinewidth\":0,\"ticks\":\"\"},\"colorscale\":[[0.0,\"#0d0887\"],[0.1111111111111111,\"#46039f\"],[0.2222222222222222,\"#7201a8\"],[0.3333333333333333,\"#9c179e\"],[0.4444444444444444,\"#bd3786\"],[0.5555555555555556,\"#d8576b\"],[0.6666666666666666,\"#ed7953\"],[0.7777777777777778,\"#fb9f3a\"],[0.8888888888888888,\"#fdca26\"],[1.0,\"#f0f921\"]]}],\"mesh3d\":[{\"type\":\"mesh3d\",\"colorbar\":{\"outlinewidth\":0,\"ticks\":\"\"}}],\"scatter\":[{\"fillpattern\":{\"fillmode\":\"overlay\",\"size\":10,\"solidity\":0.2},\"type\":\"scatter\"}],\"parcoords\":[{\"type\":\"parcoords\",\"line\":{\"colorbar\":{\"outlinewidth\":0,\"ticks\":\"\"}}}],\"scatterpolargl\":[{\"type\":\"scatterpolargl\",\"marker\":{\"colorbar\":{\"outlinewidth\":0,\"ticks\":\"\"}}}],\"bar\":[{\"error_x\":{\"color\":\"#2a3f5f\"},\"error_y\":{\"color\":\"#2a3f5f\"},\"marker\":{\"line\":{\"color\":\"#E5ECF6\",\"width\":0.5},\"pattern\":{\"fillmode\":\"overlay\",\"size\":10,\"solidity\":0.2}},\"type\":\"bar\"}],\"scattergeo\":[{\"type\":\"scattergeo\",\"marker\":{\"colorbar\":{\"outlinewidth\":0,\"ticks\":\"\"}}}],\"scatterpolar\":[{\"type\":\"scatterpolar\",\"marker\":{\"colorbar\":{\"outlinewidth\":0,\"ticks\":\"\"}}}],\"histogram\":[{\"marker\":{\"pattern\":{\"fillmode\":\"overlay\",\"size\":10,\"solidity\":0.2}},\"type\":\"histogram\"}],\"scattergl\":[{\"type\":\"scattergl\",\"marker\":{\"colorbar\":{\"outlinewidth\":0,\"ticks\":\"\"}}}],\"scatter3d\":[{\"type\":\"scatter3d\",\"line\":{\"colorbar\":{\"outlinewidth\":0,\"ticks\":\"\"}},\"marker\":{\"colorbar\":{\"outlinewidth\":0,\"ticks\":\"\"}}}],\"scattermapbox\":[{\"type\":\"scattermapbox\",\"marker\":{\"colorbar\":{\"outlinewidth\":0,\"ticks\":\"\"}}}],\"scatterternary\":[{\"type\":\"scatterternary\",\"marker\":{\"colorbar\":{\"outlinewidth\":0,\"ticks\":\"\"}}}],\"scattercarpet\":[{\"type\":\"scattercarpet\",\"marker\":{\"colorbar\":{\"outlinewidth\":0,\"ticks\":\"\"}}}],\"carpet\":[{\"aaxis\":{\"endlinecolor\":\"#2a3f5f\",\"gridcolor\":\"white\",\"linecolor\":\"white\",\"minorgridcolor\":\"white\",\"startlinecolor\":\"#2a3f5f\"},\"baxis\":{\"endlinecolor\":\"#2a3f5f\",\"gridcolor\":\"white\",\"linecolor\":\"white\",\"minorgridcolor\":\"white\",\"startlinecolor\":\"#2a3f5f\"},\"type\":\"carpet\"}],\"table\":[{\"cells\":{\"fill\":{\"color\":\"#EBF0F8\"},\"line\":{\"color\":\"white\"}},\"header\":{\"fill\":{\"color\":\"#C8D4E3\"},\"line\":{\"color\":\"white\"}},\"type\":\"table\"}],\"barpolar\":[{\"marker\":{\"line\":{\"color\":\"#E5ECF6\",\"width\":0.5},\"pattern\":{\"fillmode\":\"overlay\",\"size\":10,\"solidity\":0.2}},\"type\":\"barpolar\"}],\"pie\":[{\"automargin\":true,\"type\":\"pie\"}]},\"layout\":{\"autotypenumbers\":\"strict\",\"colorway\":[\"#636efa\",\"#EF553B\",\"#00cc96\",\"#ab63fa\",\"#FFA15A\",\"#19d3f3\",\"#FF6692\",\"#B6E880\",\"#FF97FF\",\"#FECB52\"],\"font\":{\"color\":\"#2a3f5f\"},\"hovermode\":\"closest\",\"hoverlabel\":{\"align\":\"left\"},\"paper_bgcolor\":\"white\",\"plot_bgcolor\":\"#E5ECF6\",\"polar\":{\"bgcolor\":\"#E5ECF6\",\"angularaxis\":{\"gridcolor\":\"white\",\"linecolor\":\"white\",\"ticks\":\"\"},\"radialaxis\":{\"gridcolor\":\"white\",\"linecolor\":\"white\",\"ticks\":\"\"}},\"ternary\":{\"bgcolor\":\"#E5ECF6\",\"aaxis\":{\"gridcolor\":\"white\",\"linecolor\":\"white\",\"ticks\":\"\"},\"baxis\":{\"gridcolor\":\"white\",\"linecolor\":\"white\",\"ticks\":\"\"},\"caxis\":{\"gridcolor\":\"white\",\"linecolor\":\"white\",\"ticks\":\"\"}},\"coloraxis\":{\"colorbar\":{\"outlinewidth\":0,\"ticks\":\"\"}},\"colorscale\":{\"sequential\":[[0.0,\"#0d0887\"],[0.1111111111111111,\"#46039f\"],[0.2222222222222222,\"#7201a8\"],[0.3333333333333333,\"#9c179e\"],[0.4444444444444444,\"#bd3786\"],[0.5555555555555556,\"#d8576b\"],[0.6666666666666666,\"#ed7953\"],[0.7777777777777778,\"#fb9f3a\"],[0.8888888888888888,\"#fdca26\"],[1.0,\"#f0f921\"]],\"sequentialminus\":[[0.0,\"#0d0887\"],[0.1111111111111111,\"#46039f\"],[0.2222222222222222,\"#7201a8\"],[0.3333333333333333,\"#9c179e\"],[0.4444444444444444,\"#bd3786\"],[0.5555555555555556,\"#d8576b\"],[0.6666666666666666,\"#ed7953\"],[0.7777777777777778,\"#fb9f3a\"],[0.8888888888888888,\"#fdca26\"],[1.0,\"#f0f921\"]],\"diverging\":[[0,\"#8e0152\"],[0.1,\"#c51b7d\"],[0.2,\"#de77ae\"],[0.3,\"#f1b6da\"],[0.4,\"#fde0ef\"],[0.5,\"#f7f7f7\"],[0.6,\"#e6f5d0\"],[0.7,\"#b8e186\"],[0.8,\"#7fbc41\"],[0.9,\"#4d9221\"],[1,\"#276419\"]]},\"xaxis\":{\"gridcolor\":\"white\",\"linecolor\":\"white\",\"ticks\":\"\",\"title\":{\"standoff\":15},\"zerolinecolor\":\"white\",\"automargin\":true,\"zerolinewidth\":2},\"yaxis\":{\"gridcolor\":\"white\",\"linecolor\":\"white\",\"ticks\":\"\",\"title\":{\"standoff\":15},\"zerolinecolor\":\"white\",\"automargin\":true,\"zerolinewidth\":2},\"scene\":{\"xaxis\":{\"backgroundcolor\":\"#E5ECF6\",\"gridcolor\":\"white\",\"linecolor\":\"white\",\"showbackground\":true,\"ticks\":\"\",\"zerolinecolor\":\"white\",\"gridwidth\":2},\"yaxis\":{\"backgroundcolor\":\"#E5ECF6\",\"gridcolor\":\"white\",\"linecolor\":\"white\",\"showbackground\":true,\"ticks\":\"\",\"zerolinecolor\":\"white\",\"gridwidth\":2},\"zaxis\":{\"backgroundcolor\":\"#E5ECF6\",\"gridcolor\":\"white\",\"linecolor\":\"white\",\"showbackground\":true,\"ticks\":\"\",\"zerolinecolor\":\"white\",\"gridwidth\":2}},\"shapedefaults\":{\"line\":{\"color\":\"#2a3f5f\"}},\"annotationdefaults\":{\"arrowcolor\":\"#2a3f5f\",\"arrowhead\":0,\"arrowwidth\":1},\"geo\":{\"bgcolor\":\"white\",\"landcolor\":\"#E5ECF6\",\"subunitcolor\":\"white\",\"showland\":true,\"showlakes\":true,\"lakecolor\":\"white\"},\"title\":{\"x\":0.05},\"mapbox\":{\"style\":\"light\"}}},\"xaxis\":{\"anchor\":\"y\",\"domain\":[0.0,1.0],\"title\":{\"text\":\"PC1\"}},\"yaxis\":{\"anchor\":\"x\",\"domain\":[0.0,1.0],\"title\":{\"text\":\"PC2\"}},\"coloraxis\":{\"colorbar\":{\"title\":{\"text\":\"transferred_token_num\"},\"yanchor\":\"top\",\"y\":1,\"x\":100,\"xref\":\"container\"},\"colorscale\":[[0.0,\"#0d0887\"],[0.1111111111111111,\"#46039f\"],[0.2222222222222222,\"#7201a8\"],[0.3333333333333333,\"#9c179e\"],[0.4444444444444444,\"#bd3786\"],[0.5555555555555556,\"#d8576b\"],[0.6666666666666666,\"#ed7953\"],[0.7777777777777778,\"#fb9f3a\"],[0.8888888888888888,\"#fdca26\"],[1.0,\"#f0f921\"]]},\"legend\":{\"title\":{\"text\":\"transplant_prompt_str\"},\"tracegroupgap\":0},\"title\":{\"text\":\"Means of PCA Groups\"}},                        {\"responsive\": true}                    ).then(function(){\n",
       "                            \n",
       "var gd = document.getElementById('e436694f-9daf-4897-9303-75f1748c1b46');\n",
       "var x = new MutationObserver(function (mutations, observer) {{\n",
       "        var display = window.getComputedStyle(gd).display;\n",
       "        if (!display || display === 'none') {{\n",
       "            console.log([gd, 'removed!']);\n",
       "            Plotly.purge(gd);\n",
       "            observer.disconnect();\n",
       "        }}\n",
       "}});\n",
       "\n",
       "// Listen for the removal of the full notebook cells\n",
       "var notebookContainer = gd.closest('#notebook-container');\n",
       "if (notebookContainer) {{\n",
       "    x.observe(notebookContainer, {childList: true});\n",
       "}}\n",
       "\n",
       "// Listen for the clearing of the current output cell\n",
       "var outputEl = gd.closest('.output');\n",
       "if (outputEl) {{\n",
       "    x.observe(outputEl, {childList: true});\n",
       "}}\n",
       "\n",
       "                        })                };                });            </script>        </div>"
      ]
     },
     "metadata": {},
     "output_type": "display_data"
    }
   ],
   "source": [
    "pca_df = pd.DataFrame(embeddings_reduced, columns=['PC1', 'PC2'])\n",
    "print(pca_df.head())\n",
    "print(results_df['transplant_prompt_str'][0])\n",
    "pca_df['transplant_prompt_str'] = results_df['transplant_prompt_str']\n",
    "pca_df['transferred_token_num'] = results_df['transferred_token_num']\n",
    "\n",
    "mean_pca_df = pca_df.groupby(['transplant_prompt_str', 'transferred_token_num']).mean().reset_index()\n",
    "print(mean_pca_df.head())\n",
    "\n",
    "# fig.add_trace(px.scatter(mean_pca_df, x='PC1', y='PC2', color='temperature', symbol='layers_string', \n",
    "#                          title='Means of PCA Groups').data[0]):\n",
    "mean_pca_df['type'] = 'Mean'\n",
    "pca_df['type'] = 'Original'\n",
    "combined_df = pd.concat([pca_df, mean_pca_df], ignore_index=True)\n",
    "# fig = px.scatter(combined_df, x='PC1', y='PC2', color='temperature', symbol='layers_string', title='PCA of Sentence Embeddings')\n",
    "\n",
    "# Plot mean points\n",
    "mean_fig = px.scatter(mean_pca_df, x='PC1', y='PC2', color='transferred_token_num', symbol='transplant_prompt_str', title='Means of PCA Groups', category_orders={\"transplant_prompt_str\":[\"\\n\",\"\\n\\n\",\".\\n\\n\",\"inners.\\n\\n\",\" dinners.\\n\\n\",\"Sunday dinners.\\n\\n\"]}, symbol_sequence = ['circle', 'square', 'diamond', 'cross', 'x', 'triangle-up', 'pentagon', 'hexagon', 'octagon', 'star'])\n",
    "    \n",
    "mean_fig.add_trace(go.Scatter(x=[baseline_mean_x], y=[baseline_mean_y], mode='markers', marker=dict(color='green', size=10), name='Baseline Generation Mean'))\n",
    "\n",
    "mean_fig.add_trace(go.Scatter(x=[neutral_mean_x], y=[neutral_mean_y], mode='markers', marker=dict(color='turquoise', size=8), name='Untransferred Newline Mean'))\n",
    "fig.data=[fig.data[3], fig.data[2], fig.data[1], fig.data[0]]\n",
    "\n",
    "mean_fig.update_layout(coloraxis_colorbar=dict(yanchor=\"top\", y=1, x=100, xref=\"container\"))\n",
    "\n",
    "\n",
    "mean_fig.show()"
   ]
  }
 ],
 "metadata": {
  "kernelspec": {
   "display_name": ".venv",
   "language": "python",
   "name": "python3"
  },
  "language_info": {
   "codemirror_mode": {
    "name": "ipython",
    "version": 3
   },
   "file_extension": ".py",
   "mimetype": "text/x-python",
   "name": "python",
   "nbconvert_exporter": "python",
   "pygments_lexer": "ipython3",
   "version": "3.10.14"
  }
 },
 "nbformat": 4,
 "nbformat_minor": 2
}
