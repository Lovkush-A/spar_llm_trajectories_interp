{
 "cells": [
  {
   "cell_type": "code",
   "execution_count": 1,
   "metadata": {},
   "outputs": [
    {
     "name": "stderr",
     "output_type": "stream",
     "text": [
      "/workspace/SPAR/interp-ab/.venv/lib/python3.10/site-packages/tqdm/auto.py:21: TqdmWarning: IProgress not found. Please update jupyter and ipywidgets. See https://ipywidgets.readthedocs.io/en/stable/user_install.html\n",
      "  from .autonotebook import tqdm as notebook_tqdm\n"
     ]
    }
   ],
   "source": [
    "import circuitsvis as cv\n",
    "import numpy as np\n",
    "import torch\n",
    "from taker import Model\n",
    "from taker.hooks import HookConfig\n",
    "from datetime import datetime\n",
    "import json\n",
    "from os import listdir\n",
    "from os.path import exists\n",
    "\n",
    "import numpy as np\n",
    "import pandas as pd\n",
    "from sentence_transformers import SentenceTransformer\n",
    "from sklearn.decomposition import PCA\n",
    "import torch"
   ]
  },
  {
   "cell_type": "code",
   "execution_count": 2,
   "metadata": {},
   "outputs": [],
   "source": [
    "current_time = datetime.now().strftime(\"%Y-%m-%d_%H-%M-%S\")\n",
    "filename = f\"../results/{current_time}_agnes_story.jsonl\""
   ]
  },
  {
   "cell_type": "code",
   "execution_count": 3,
   "metadata": {},
   "outputs": [
    {
     "name": "stderr",
     "output_type": "stream",
     "text": [
      "Special tokens have been added in the vocabulary, make sure the associated word embeddings are fine-tuned or trained.\n",
      "Loading checkpoint shards: 100%|██████████| 2/2 [00:01<00:00,  1.12it/s]\n",
      "We detected that you are passing `past_key_values` as a tuple and this is deprecated and will be removed in v4.43. Please use an appropriate `Cache` class (https://huggingface.co/docs/transformers/v4.41.3/en/internal/generation_utils#transformers.Cache)\n",
      "You are not running the flash-attention implementation, expect numerical differences.\n"
     ]
    },
    {
     "name": "stdout",
     "output_type": "stream",
     "text": [
      "Loaded model 'microsoft/phi-3-mini-4k-instruct' with bfp16:\n",
      "- Added 512 hooks across 32 layers\n",
      "Loaded model 'openai-community/gpt2-large' with bfp16:\n",
      "- Added 576 hooks across 36 layers\n"
     ]
    }
   ],
   "source": [
    "m1 = Model(\"microsoft/phi-3-mini-4k-instruct\")\n",
    "m2 = Model(\"openai-community/gpt2-large\")"
   ]
  },
  {
   "cell_type": "code",
   "execution_count": 4,
   "metadata": {},
   "outputs": [],
   "source": [
    "prompt    = \"\"\"Write a short blog post about a recipe and the inspiration behind it.\n",
    " Do not include a title.\n",
    " Only reveal the dish after the story.\n",
    " Start with short story and then move to the recipe.\n",
    " To re-iterate, do not include a title.\"\"\"\n",
    "# info_gen = m.generate(info_prompt, temperature=0.3, num=300)\n",
    "\n",
    "#DOUBLE NEWLINE\n",
    "info_gen1 = \"\"\"\n",
    "\\n Once upon a time, in a quaint little village nestled between rolling hills and verdant fields, there lived an elderly woman named Agnes. Agnes was known for her warm smile and her legendary Sunday dinners that brought the entire neighborhood together. Her recipes were family heirlooms, passed down through generations, with each family adding their own touch to the final dish.\n",
    "\n",
    "One crisp autumn evening, Agnes was reminiscing about her childhood, and how her grandmother used to gather everyone around the dinner table, sharing stories and laughter. These were the moments that shaped her, the memories that she passed on to her own children and grandchildren.\n",
    "\n",
    "Inspired by her grandmother's legacy, Agnes decided to create a new dish that would encapsulate the essence of those cherished gatherings. She wanted something that was comforting and nourishing, a dish that could be prepared with love and shared with others. After days of experimentation, she finally created a recipe that she believed truly captured the spirit of her family's Sunday dinners.\\n\\n\"\"\"\n",
    "\n",
    "\n",
    "#SINGLE NEWLINE\n",
    "info_gen2 = \"\"\"\n",
    "\\n Once upon a time, in a quaint little village nestled between rolling hills and verdant fields, there lived an elderly woman named Agnes. Agnes was known for her warm smile and her legendary Sunday dinners that brought the entire neighborhood together. Her recipes were family heirlooms, passed down through generations, with each family adding their own touch to the final dish.\n",
    "\n",
    "One crisp autumn evening, Agnes was reminiscing about her childhood, and how her grandmother used to gather everyone around the dinner table, sharing stories and laughter. These were the moments that shaped her, the memories that she passed on to her own children and grandchildren.\n",
    "\n",
    "Inspired by her grandmother's legacy, Agnes decided to create a new dish that would encapsulate the essence of those cherished gatherings. She wanted something that was comforting and nourishing, a dish that could be prepared with love and shared with others. After days of experimentation, she finally created a recipe that she believed truly captured the spirit of her family's Sunday dinners.\\n\"\"\"\n",
    "\n",
    "info_prompt_doublenew = prompt+info_gen1\n",
    "info_prompt_singlenew = prompt+info_gen2"
   ]
  },
  {
   "cell_type": "code",
   "execution_count": 5,
   "metadata": {},
   "outputs": [],
   "source": [
    "import sys, os\n",
    "class HiddenPrints:\n",
    "    def __enter__(self):\n",
    "        self._original_stdout = sys.stdout\n",
    "        sys.stdout = open(os.devnull, 'w')\n",
    "\n",
    "    def __exit__(self, exc_type, exc_val, exc_tb):\n",
    "        sys.stdout.close()\n",
    "        sys.stdout = self._original_stdout"
   ]
  },
  {
   "cell_type": "code",
   "execution_count": 6,
   "metadata": {},
   "outputs": [],
   "source": [
    "# if not exists(filename):\n",
    "#     with open(filename, \"w\") as f:\n",
    "#         pass\n",
    "\n",
    "# neutral_prompt = \"\\n\"\n",
    "# max_new_tokens = 100\n",
    "# temperature = 0.3\n",
    "# models = [m1, m2]\n",
    "# prompts = [info_prompt_doublenew, info_prompt_singlenew]\n",
    "\n",
    "# for m in models:\n",
    "#     for info_prompt in prompts:\n",
    "#         acts = m.get_midlayer_activations(info_prompt)\n",
    "#         orig_token_index = m.get_ids(info_prompt).shape[1] - 1\n",
    "#         new_token_index  = m.get_ids(neutral_prompt).shape[1] - 1        \n",
    "\n",
    "\n",
    "#         [h.reset() for h in m.hooks.neuron_replace.values()] #RESET HOOKS BEFORE TRANSPLANTING NEXT SET OF ACTIVATIONS\n",
    "#         for layer_index in range(0,32):\n",
    "#             m.hooks.neuron_replace[f\"layer_{layer_index}_mlp_pre_out\"].add_token(new_token_index, acts[\"mlp\"][0, layer_index, orig_token_index])\n",
    "#             m.hooks.neuron_replace[f\"layer_{layer_index}_attn_pre_out\"].add_token(new_token_index, acts[\"attn\"][0, layer_index, orig_token_index])\n",
    "#         with HiddenPrints():\n",
    "#             for i in range(30):\n",
    "#                 output = m.generate(neutral_prompt, max_new_tokens, temperature=temperature)\n",
    "                \n",
    "#                 data = {\n",
    "#                     \"temperature\": temperature,\n",
    "#                     \"max_new_tokens\": max_new_tokens,\n",
    "#                     \"model\": \"phi-3-mini-4k-instruct\" if m == m1 else \"gpt2-large\",\n",
    "#                     \"transplant_layers\": (0,32),\n",
    "#                     \"newline_num\": 2 if info_prompt == info_prompt_doublenew else 1,\n",
    "#                     \"orig_prompt\": info_prompt,\n",
    "#                     \"transplant_prompt\": neutral_prompt,\n",
    "#                     \"output\": output[1],\n",
    "#                 }\n",
    "\n",
    "#                 with open(filename, \"a\") as file:\n",
    "#                     file.write(json.dumps(data) + \"\\n\")"
   ]
  },
  {
   "cell_type": "code",
   "execution_count": 12,
   "metadata": {},
   "outputs": [
    {
     "name": "stdout",
     "output_type": "stream",
     "text": [
      "(120, 8)\n",
      "(60, 8)\n"
     ]
    },
    {
     "data": {
      "text/html": [
       "<div>\n",
       "<style scoped>\n",
       "    .dataframe tbody tr th:only-of-type {\n",
       "        vertical-align: middle;\n",
       "    }\n",
       "\n",
       "    .dataframe tbody tr th {\n",
       "        vertical-align: top;\n",
       "    }\n",
       "\n",
       "    .dataframe thead th {\n",
       "        text-align: right;\n",
       "    }\n",
       "</style>\n",
       "<table border=\"1\" class=\"dataframe\">\n",
       "  <thead>\n",
       "    <tr style=\"text-align: right;\">\n",
       "      <th></th>\n",
       "      <th>temperature</th>\n",
       "      <th>max_new_tokens</th>\n",
       "      <th>model</th>\n",
       "      <th>transplant_layers</th>\n",
       "      <th>newline_num</th>\n",
       "      <th>orig_prompt</th>\n",
       "      <th>transplant_prompt</th>\n",
       "      <th>output</th>\n",
       "    </tr>\n",
       "  </thead>\n",
       "  <tbody>\n",
       "    <tr>\n",
       "      <th>0</th>\n",
       "      <td>0.3</td>\n",
       "      <td>100</td>\n",
       "      <td>phi-3-mini-4k-instruct</td>\n",
       "      <td>[0, 32]</td>\n",
       "      <td>2</td>\n",
       "      <td>Write a short blog post about a recipe and the...</td>\n",
       "      <td>\\n</td>\n",
       "      <td>**The Art of Crafting a Compelling Narrative**...</td>\n",
       "    </tr>\n",
       "    <tr>\n",
       "      <th>1</th>\n",
       "      <td>0.3</td>\n",
       "      <td>100</td>\n",
       "      <td>phi-3-mini-4k-instruct</td>\n",
       "      <td>[0, 32]</td>\n",
       "      <td>2</td>\n",
       "      <td>Write a short blog post about a recipe and the...</td>\n",
       "      <td>\\n</td>\n",
       "      <td>Now, let's dive into the world of Mathematics,...</td>\n",
       "    </tr>\n",
       "    <tr>\n",
       "      <th>2</th>\n",
       "      <td>0.3</td>\n",
       "      <td>100</td>\n",
       "      <td>phi-3-mini-4k-instruct</td>\n",
       "      <td>[0, 32]</td>\n",
       "      <td>2</td>\n",
       "      <td>Write a short blog post about a recipe and the...</td>\n",
       "      <td>\\n</td>\n",
       "      <td>The key to this recipe is the balance of flavo...</td>\n",
       "    </tr>\n",
       "    <tr>\n",
       "      <th>3</th>\n",
       "      <td>0.3</td>\n",
       "      <td>100</td>\n",
       "      <td>phi-3-mini-4k-instruct</td>\n",
       "      <td>[0, 32]</td>\n",
       "      <td>2</td>\n",
       "      <td>Write a short blog post about a recipe and the...</td>\n",
       "      <td>\\n</td>\n",
       "      <td>**Ingredients:**\\n\\n* 1 large egg\\n* 3/4 cup (...</td>\n",
       "    </tr>\n",
       "    <tr>\n",
       "      <th>4</th>\n",
       "      <td>0.3</td>\n",
       "      <td>100</td>\n",
       "      <td>phi-3-mini-4k-instruct</td>\n",
       "      <td>[0, 32]</td>\n",
       "      <td>2</td>\n",
       "      <td>Write a short blog post about a recipe and the...</td>\n",
       "      <td>\\n</td>\n",
       "      <td>This story, while fictional, draws inspiration...</td>\n",
       "    </tr>\n",
       "  </tbody>\n",
       "</table>\n",
       "</div>"
      ],
      "text/plain": [
       "   temperature  max_new_tokens                   model transplant_layers  \\\n",
       "0          0.3             100  phi-3-mini-4k-instruct           [0, 32]   \n",
       "1          0.3             100  phi-3-mini-4k-instruct           [0, 32]   \n",
       "2          0.3             100  phi-3-mini-4k-instruct           [0, 32]   \n",
       "3          0.3             100  phi-3-mini-4k-instruct           [0, 32]   \n",
       "4          0.3             100  phi-3-mini-4k-instruct           [0, 32]   \n",
       "\n",
       "   newline_num                                        orig_prompt  \\\n",
       "0            2  Write a short blog post about a recipe and the...   \n",
       "1            2  Write a short blog post about a recipe and the...   \n",
       "2            2  Write a short blog post about a recipe and the...   \n",
       "3            2  Write a short blog post about a recipe and the...   \n",
       "4            2  Write a short blog post about a recipe and the...   \n",
       "\n",
       "  transplant_prompt                                             output  \n",
       "0                \\n  **The Art of Crafting a Compelling Narrative**...  \n",
       "1                \\n  Now, let's dive into the world of Mathematics,...  \n",
       "2                \\n  The key to this recipe is the balance of flavo...  \n",
       "3                \\n  **Ingredients:**\\n\\n* 1 large egg\\n* 3/4 cup (...  \n",
       "4                \\n  This story, while fictional, draws inspiration...  "
      ]
     },
     "execution_count": 12,
     "metadata": {},
     "output_type": "execute_result"
    }
   ],
   "source": [
    "filepath = \"../results/2024-08-07_20-30-51_agnes_story.jsonl\"\n",
    "results_df = pd.read_json(filepath, lines=True)\n",
    "print(results_df.shape)\n",
    "results_df = results_df[results_df.model != \"gpt2-large\"]\n",
    "print(results_df.shape)\n",
    "baselinefile = \"../results/baseline_data_08-07.jsonl\"\n",
    "base_df = pd.read_json(baselinefile, lines=True)\n",
    "neutralfile = \"../results/neutral_baseline_data_08-14.jsonl\"\n",
    "neutral_df = pd.read_json(neutralfile, lines=True)\n",
    "results_df.head()"
   ]
  },
  {
   "cell_type": "code",
   "execution_count": 13,
   "metadata": {},
   "outputs": [
    {
     "name": "stdout",
     "output_type": "stream",
     "text": [
      "(210, 768)\n",
      "(60, 9)\n",
      "(50, 6)\n",
      "(100, 6)\n"
     ]
    }
   ],
   "source": [
    "# sentenceTransformer = SentenceTransformer(\"all-MiniLM-L6-v2\")\n",
    "sentenceTransformer = SentenceTransformer(\"all-mpnet-base-v2\")\n",
    "\n",
    "concat_embs = results_df[\"output\"].to_list() + base_df[\"output\"].to_list() + neutral_df[\"output\"].to_list()\n",
    "embeddings = sentenceTransformer.encode(concat_embs)\n",
    "print(embeddings.shape)\n",
    "neutral_start = results_df.shape[0]+base_df.shape[0]\n",
    "results_df[\"embeddings\"] = embeddings[:results_df.shape[0]].tolist()\n",
    "base_df[\"embeddings\"] = embeddings[results_df.shape[0]:neutral_start].tolist()\n",
    "neutral_df[\"embeddings\"] = embeddings[neutral_start:].tolist()\n",
    "results_df.head()\n",
    "print(results_df.shape)\n",
    "print(base_df.shape)\n",
    "print(neutral_df.shape)"
   ]
  },
  {
   "cell_type": "code",
   "execution_count": 15,
   "metadata": {},
   "outputs": [
    {
     "name": "stdout",
     "output_type": "stream",
     "text": [
      "(210, 2)\n"
     ]
    },
    {
     "data": {
      "application/vnd.plotly.v1+json": {
       "config": {
        "plotlyServerURL": "https://plot.ly"
       },
       "data": [
        {
         "marker": {
          "color": "yellow",
          "size": 8
         },
         "mode": "markers",
         "name": "Untransferred Newline Prompt Generation",
         "type": "scatter",
         "x": [
          -0.3431592881679535,
          -0.285635381937027,
          -0.13269706070423126,
          -0.2927030622959137,
          -0.28810247778892517,
          -0.2956421971321106,
          -0.2015174776315689,
          -0.27749955654144287,
          -0.3102703392505646,
          -0.28992196917533875,
          -0.14398714900016785,
          -0.26198089122772217,
          -0.24032144248485565,
          -0.2779213786125183,
          -0.21763192117214203,
          -0.21035489439964294,
          -0.3216625452041626,
          -0.32646068930625916,
          -0.2924876809120178,
          -0.3249514400959015,
          -0.3338060975074768,
          -0.2317710816860199,
          -0.0772664025425911,
          -0.18597933650016785,
          -0.2668110430240631,
          -0.2663145363330841,
          -0.25941598415374756,
          -0.19788512587547302,
          -0.1978118121623993,
          -0.3198557496070862,
          -0.26770031452178955,
          -0.24553385376930237,
          -0.18420542776584625,
          -0.24806901812553406,
          -0.38219884037971497,
          -0.25472378730773926,
          -0.20709306001663208,
          -0.18222737312316895,
          -0.23626872897148132,
          -0.05912702903151512,
          -0.2878355383872986,
          -0.35924869775772095,
          -0.11962635815143585,
          -0.22895105183124542,
          -0.17123326659202576,
          -0.2832699418067932,
          -0.4553728699684143,
          -0.3479553461074829,
          -0.3723767399787903,
          -0.04146060720086098,
          -0.21941529214382172,
          -0.17639194428920746,
          -0.20276133716106415,
          -0.2735291123390198,
          -0.19709831476211548,
          -0.22255735099315643,
          -0.2688737213611603,
          -0.09861032664775848,
          -0.3123340904712677,
          -0.2194444239139557,
          -0.22331427037715912,
          -0.3357146680355072,
          -0.21510130167007446,
          0.11179418861865997,
          -0.07278557121753693,
          -0.1927967667579651,
          -0.09889485687017441,
          -0.22931337356567383,
          -0.3174138069152832,
          -0.35276591777801514,
          -0.3038947284221649,
          -0.15881478786468506,
          -0.3181985318660736,
          -0.22299858927726746,
          -0.23136065900325775,
          -0.13908183574676514,
          -0.07554742693901062,
          -0.316196471452713,
          -0.1884123682975769,
          -0.1890968233346939,
          -0.1473611742258072,
          -0.30615612864494324,
          -0.15917529165744781,
          -0.2704990804195404,
          -0.3461439609527588,
          -0.34878990054130554,
          -0.14182595908641815,
          -0.30056992173194885,
          -0.305339515209198,
          -0.25536593794822693,
          -0.32447701692581177,
          -0.19057433307170868,
          -0.31160950660705566,
          -0.05875770002603531,
          -0.31804659962654114,
          -0.3414601683616638,
          -0.28611066937446594,
          0.022331038489937782,
          -0.3279259502887726,
          -0.2591061592102051
         ],
         "y": [
          -0.08820521086454391,
          0.0006562053458765149,
          -0.019947191700339317,
          0.23201879858970642,
          0.3522087633609772,
          -0.19363434612751007,
          -0.17458544671535492,
          -0.059796180576086044,
          -0.01997627504169941,
          -0.22569724917411804,
          -0.1874299794435501,
          0.257700115442276,
          0.22017157077789307,
          0.17101991176605225,
          0.2569581866264343,
          -0.2455393671989441,
          -0.006345218978822231,
          0.3511558473110199,
          -0.09461787343025208,
          0.3148861527442932,
          0.2139114886522293,
          0.09057261049747467,
          0.2759040892124176,
          0.2065124660730362,
          -0.2317388951778412,
          0.2427070587873459,
          0.22893324494361877,
          -0.08595374971628189,
          0.02020418643951416,
          0.19443920254707336,
          -0.22952981293201447,
          0.33121997117996216,
          -0.04719841480255127,
          0.21159978210926056,
          -0.14926539361476898,
          0.056706447154283524,
          -0.18578362464904785,
          -0.13761131465435028,
          -0.06943196058273315,
          0.088374562561512,
          0.04755675047636032,
          0.05098007619380951,
          0.21682342886924744,
          0.33648037910461426,
          0.344116747379303,
          0.07206616550683975,
          0.00025141166406683624,
          0.20970575511455536,
          0.24878711998462677,
          0.32958897948265076,
          0.024957697838544846,
          0.011690652929246426,
          0.24212408065795898,
          0.16947706043720245,
          0.31100237369537354,
          0.3184089660644531,
          0.29143282771110535,
          0.33466291427612305,
          0.16069264709949493,
          0.2034546285867691,
          -0.02503877505660057,
          -0.13568581640720367,
          -0.18032152950763702,
          0.2977127730846405,
          0.3106820583343506,
          -0.11223412305116653,
          -0.01323461439460516,
          0.05479999631643295,
          -0.12900479137897491,
          0.14263352751731873,
          -0.02896917425096035,
          -0.013659891672432423,
          0.10124237835407257,
          -0.006300024222582579,
          0.13599593937397003,
          0.321434885263443,
          0.29117491841316223,
          0.2890215516090393,
          -0.09469597041606903,
          -0.28839391469955444,
          -0.05365493893623352,
          0.09059818834066391,
          0.10578271001577377,
          0.1391407996416092,
          -0.12329687923192978,
          0.01274489238858223,
          0.03122049570083618,
          0.25650763511657715,
          0.018167611211538315,
          -0.17422688007354736,
          -0.04246491566300392,
          0.08600623160600662,
          0.0421067476272583,
          -0.03758365660905838,
          0.008912787772715092,
          -0.044166628271341324,
          0.1569114625453949,
          -0.06249251216650009,
          0.2613542079925537,
          0.1574108749628067
         ]
        },
        {
         "marker": {
          "color": "green",
          "size": 10
         },
         "mode": "markers",
         "name": "Baseline Generation",
         "type": "scatter",
         "x": [
          0.6165732145309448,
          0.5793538093566895,
          0.6229785680770874,
          0.6191174983978271,
          0.6703830361366272,
          0.5020285844802856,
          0.6100662350654602,
          0.5509634613990784,
          0.5842018127441406,
          0.6720575094223022,
          0.46998727321624756,
          0.6511778235435486,
          0.5361725687980652,
          0.5708906650543213,
          0.5231313109397888,
          0.3452911674976349,
          0.5786760449409485,
          0.597151517868042,
          0.5852717161178589,
          0.661385178565979,
          0.6335779428482056,
          0.6766067743301392,
          0.4985821545124054,
          0.57380211353302,
          0.6543578505516052,
          0.6751673221588135,
          0.5945361256599426,
          0.47699031233787537,
          0.6211856007575989,
          0.4047911763191223,
          0.6308990716934204,
          0.6291803121566772,
          0.653595507144928,
          0.6009498238563538,
          0.5854760408401489,
          0.6854453682899475,
          0.592324435710907,
          0.6141096353530884,
          0.6093056797981262,
          0.42522862553596497,
          0.641329824924469,
          0.6191853880882263,
          0.6025089621543884,
          0.6320275068283081,
          0.6671562194824219,
          0.6143788695335388,
          0.6656632423400879,
          0.6322243809700012,
          0.519709050655365,
          0.6543254256248474
         ],
         "y": [
          0.06250565499067307,
          -0.1136137843132019,
          0.1794072985649109,
          0.18771913647651672,
          0.015316587872803211,
          -0.26516762375831604,
          -0.06826013326644897,
          0.24362795054912567,
          0.19472554326057434,
          -0.0021482326555997133,
          0.16611960530281067,
          0.08676876127719879,
          -0.18889762461185455,
          0.15806786715984344,
          -0.2261054515838623,
          -0.2562958300113678,
          0.04239005595445633,
          0.21990007162094116,
          0.24017751216888428,
          0.0053265332244336605,
          0.13601946830749512,
          -0.028923748061060905,
          0.31354379653930664,
          -0.16894805431365967,
          0.04923158138990402,
          0.039178427308797836,
          0.07908697426319122,
          0.21323606371879578,
          -0.1313641369342804,
          -0.20357480645179749,
          -0.10655058175325394,
          -0.021417608484625816,
          0.033909715712070465,
          -0.15503254532814026,
          0.14559927582740784,
          0.07302583009004593,
          0.2252447009086609,
          -0.13929453492164612,
          0.14985643327236176,
          -0.23508240282535553,
          0.13061930239200592,
          -0.127128466963768,
          -0.031120404601097107,
          0.005915866233408451,
          0.0546296201646328,
          0.11010444909334183,
          0.10168993473052979,
          -0.11548679322004318,
          -0.1931968331336975,
          0.04284080117940903
         ]
        },
        {
         "customdata": [
          [
           "phi-3-mini-4k-instruct",
           1
          ],
          [
           "phi-3-mini-4k-instruct",
           1
          ],
          [
           "phi-3-mini-4k-instruct",
           1
          ],
          [
           "phi-3-mini-4k-instruct",
           1
          ],
          [
           "phi-3-mini-4k-instruct",
           1
          ],
          [
           "phi-3-mini-4k-instruct",
           1
          ],
          [
           "phi-3-mini-4k-instruct",
           1
          ],
          [
           "phi-3-mini-4k-instruct",
           1
          ],
          [
           "phi-3-mini-4k-instruct",
           1
          ],
          [
           "phi-3-mini-4k-instruct",
           1
          ],
          [
           "phi-3-mini-4k-instruct",
           1
          ],
          [
           "phi-3-mini-4k-instruct",
           1
          ],
          [
           "phi-3-mini-4k-instruct",
           1
          ],
          [
           "phi-3-mini-4k-instruct",
           1
          ],
          [
           "phi-3-mini-4k-instruct",
           1
          ],
          [
           "phi-3-mini-4k-instruct",
           1
          ],
          [
           "phi-3-mini-4k-instruct",
           1
          ],
          [
           "phi-3-mini-4k-instruct",
           1
          ],
          [
           "phi-3-mini-4k-instruct",
           1
          ],
          [
           "phi-3-mini-4k-instruct",
           1
          ],
          [
           "phi-3-mini-4k-instruct",
           1
          ],
          [
           "phi-3-mini-4k-instruct",
           1
          ],
          [
           "phi-3-mini-4k-instruct",
           1
          ],
          [
           "phi-3-mini-4k-instruct",
           1
          ],
          [
           "phi-3-mini-4k-instruct",
           1
          ],
          [
           "phi-3-mini-4k-instruct",
           1
          ],
          [
           "phi-3-mini-4k-instruct",
           1
          ],
          [
           "phi-3-mini-4k-instruct",
           1
          ],
          [
           "phi-3-mini-4k-instruct",
           1
          ],
          [
           "phi-3-mini-4k-instruct",
           1
          ]
         ],
         "hovertemplate": "Model: %{customdata[0]}<br>Newline Count: %{customdata[1]}",
         "legendgroup": "phi-3-mini-4k-instruct, 1",
         "marker": {
          "color": "#636efa",
          "symbol": "square"
         },
         "mode": "markers",
         "name": "phi-3-mini-4k-instruct, 1",
         "orientation": "v",
         "showlegend": true,
         "type": "scatter",
         "x": [
          -0.22507022321224213,
          -0.3226395547389984,
          -0.15383873879909515,
          -0.19526496529579163,
          -0.222917839884758,
          -0.22535058856010437,
          -0.20818547904491425,
          -0.24692896008491516,
          -0.3174103796482086,
          -0.27583569288253784,
          -0.19537954032421112,
          -0.2759314477443695,
          -0.2753252387046814,
          -0.31814542412757874,
          -0.29202428460121155,
          -0.26242595911026,
          -0.1730499416589737,
          -0.22390764951705933,
          -0.3093622922897339,
          -0.15062643587589264,
          -0.3174103796482086,
          -0.27452099323272705,
          -0.2658821642398834,
          -0.3146601915359497,
          -0.28623825311660767,
          -0.21461862325668335,
          -0.2796327471733093,
          -0.3322810232639313,
          -0.2797791361808777,
          -0.28780367970466614
         ],
         "xaxis": "x",
         "y": [
          -0.27744653820991516,
          0.026522843167185783,
          -0.3435382544994354,
          -0.1615021526813507,
          -0.32010433077812195,
          -0.24132972955703735,
          -0.37763291597366333,
          -0.30576446652412415,
          -0.4643620550632477,
          0.10332860052585602,
          -0.009288707748055458,
          -0.27271080017089844,
          0.17019446194171906,
          -0.4166094958782196,
          0.07519879192113876,
          -0.27474120259284973,
          -0.023276282474398613,
          -0.2869552671909332,
          -0.4876376986503601,
          0.0034994480665773153,
          -0.4643620550632477,
          -0.448975145816803,
          -0.32316482067108154,
          -0.18268516659736633,
          0.13911212980747223,
          -0.29473355412483215,
          0.10107705742120743,
          -0.4430820643901825,
          -0.24390974640846252,
          0.12296637892723083
         ],
         "yaxis": "y"
        },
        {
         "customdata": [
          [
           "phi-3-mini-4k-instruct",
           2
          ],
          [
           "phi-3-mini-4k-instruct",
           2
          ],
          [
           "phi-3-mini-4k-instruct",
           2
          ],
          [
           "phi-3-mini-4k-instruct",
           2
          ],
          [
           "phi-3-mini-4k-instruct",
           2
          ],
          [
           "phi-3-mini-4k-instruct",
           2
          ],
          [
           "phi-3-mini-4k-instruct",
           2
          ],
          [
           "phi-3-mini-4k-instruct",
           2
          ],
          [
           "phi-3-mini-4k-instruct",
           2
          ],
          [
           "phi-3-mini-4k-instruct",
           2
          ],
          [
           "phi-3-mini-4k-instruct",
           2
          ],
          [
           "phi-3-mini-4k-instruct",
           2
          ],
          [
           "phi-3-mini-4k-instruct",
           2
          ],
          [
           "phi-3-mini-4k-instruct",
           2
          ],
          [
           "phi-3-mini-4k-instruct",
           2
          ],
          [
           "phi-3-mini-4k-instruct",
           2
          ],
          [
           "phi-3-mini-4k-instruct",
           2
          ],
          [
           "phi-3-mini-4k-instruct",
           2
          ],
          [
           "phi-3-mini-4k-instruct",
           2
          ],
          [
           "phi-3-mini-4k-instruct",
           2
          ],
          [
           "phi-3-mini-4k-instruct",
           2
          ],
          [
           "phi-3-mini-4k-instruct",
           2
          ],
          [
           "phi-3-mini-4k-instruct",
           2
          ],
          [
           "phi-3-mini-4k-instruct",
           2
          ],
          [
           "phi-3-mini-4k-instruct",
           2
          ],
          [
           "phi-3-mini-4k-instruct",
           2
          ],
          [
           "phi-3-mini-4k-instruct",
           2
          ],
          [
           "phi-3-mini-4k-instruct",
           2
          ],
          [
           "phi-3-mini-4k-instruct",
           2
          ],
          [
           "phi-3-mini-4k-instruct",
           2
          ]
         ],
         "hovertemplate": "Model: %{customdata[0]}<br>Newline Count: %{customdata[1]}",
         "legendgroup": "phi-3-mini-4k-instruct, 2",
         "marker": {
          "color": "#636efa",
          "symbol": "circle"
         },
         "mode": "markers",
         "name": "phi-3-mini-4k-instruct, 2",
         "orientation": "v",
         "showlegend": true,
         "type": "scatter",
         "x": [
          -0.21258248388767242,
          -0.31422024965286255,
          0.1166929081082344,
          0.1931896060705185,
          -0.16267196834087372,
          0.09356749057769775,
          0.16644452512264252,
          0.1458773910999298,
          0.24447713792324066,
          -0.18243254721164703,
          0.227991983294487,
          0.3940190374851227,
          -0.2496594935655594,
          -0.020039023831486702,
          0.34039968252182007,
          0.250357449054718,
          -0.2513754367828369,
          0.3074558973312378,
          0.1491725593805313,
          0.09905888140201569,
          0.35867947340011597,
          0.24498459696769714,
          -0.20139388740062714,
          0.07368569821119308,
          0.3866651952266693,
          -0.22363513708114624,
          0.2588009536266327,
          -0.3170589506626129,
          0.18201473355293274,
          -0.16330434381961823
         ],
         "xaxis": "x",
         "y": [
          0.27352195978164673,
          -0.09483831375837326,
          -0.11815182864665985,
          -0.3448280096054077,
          0.34084925055503845,
          -0.47820523381233215,
          -0.3681505024433136,
          0.25108304619789124,
          -0.3208176791667938,
          -0.01034458726644516,
          -0.36746150255203247,
          0.11806616932153702,
          0.19917556643486023,
          -0.3997175693511963,
          0.06936288625001907,
          -0.03809065371751785,
          0.17400826513767242,
          0.006594034843146801,
          -0.4035336673259735,
          -0.48331335186958313,
          0.17320388555526733,
          -0.24373693764209747,
          0.3317655324935913,
          -0.48750969767570496,
          -0.02924185059964657,
          0.11330676823854446,
          0.2346283495426178,
          -0.027095912024378777,
          -0.44016724824905396,
          -0.1725957691669464
         ],
         "yaxis": "y"
        }
       ],
       "layout": {
        "coloraxis": {
         "colorbar": {
          "x": 100,
          "xref": "container",
          "y": 1,
          "yanchor": "top"
         }
        },
        "legend": {
         "title": {
          "text": "model, newline_num"
         },
         "tracegroupgap": 0
        },
        "template": {
         "data": {
          "bar": [
           {
            "error_x": {
             "color": "#2a3f5f"
            },
            "error_y": {
             "color": "#2a3f5f"
            },
            "marker": {
             "line": {
              "color": "#E5ECF6",
              "width": 0.5
             },
             "pattern": {
              "fillmode": "overlay",
              "size": 10,
              "solidity": 0.2
             }
            },
            "type": "bar"
           }
          ],
          "barpolar": [
           {
            "marker": {
             "line": {
              "color": "#E5ECF6",
              "width": 0.5
             },
             "pattern": {
              "fillmode": "overlay",
              "size": 10,
              "solidity": 0.2
             }
            },
            "type": "barpolar"
           }
          ],
          "carpet": [
           {
            "aaxis": {
             "endlinecolor": "#2a3f5f",
             "gridcolor": "white",
             "linecolor": "white",
             "minorgridcolor": "white",
             "startlinecolor": "#2a3f5f"
            },
            "baxis": {
             "endlinecolor": "#2a3f5f",
             "gridcolor": "white",
             "linecolor": "white",
             "minorgridcolor": "white",
             "startlinecolor": "#2a3f5f"
            },
            "type": "carpet"
           }
          ],
          "choropleth": [
           {
            "colorbar": {
             "outlinewidth": 0,
             "ticks": ""
            },
            "type": "choropleth"
           }
          ],
          "contour": [
           {
            "colorbar": {
             "outlinewidth": 0,
             "ticks": ""
            },
            "colorscale": [
             [
              0,
              "#0d0887"
             ],
             [
              0.1111111111111111,
              "#46039f"
             ],
             [
              0.2222222222222222,
              "#7201a8"
             ],
             [
              0.3333333333333333,
              "#9c179e"
             ],
             [
              0.4444444444444444,
              "#bd3786"
             ],
             [
              0.5555555555555556,
              "#d8576b"
             ],
             [
              0.6666666666666666,
              "#ed7953"
             ],
             [
              0.7777777777777778,
              "#fb9f3a"
             ],
             [
              0.8888888888888888,
              "#fdca26"
             ],
             [
              1,
              "#f0f921"
             ]
            ],
            "type": "contour"
           }
          ],
          "contourcarpet": [
           {
            "colorbar": {
             "outlinewidth": 0,
             "ticks": ""
            },
            "type": "contourcarpet"
           }
          ],
          "heatmap": [
           {
            "colorbar": {
             "outlinewidth": 0,
             "ticks": ""
            },
            "colorscale": [
             [
              0,
              "#0d0887"
             ],
             [
              0.1111111111111111,
              "#46039f"
             ],
             [
              0.2222222222222222,
              "#7201a8"
             ],
             [
              0.3333333333333333,
              "#9c179e"
             ],
             [
              0.4444444444444444,
              "#bd3786"
             ],
             [
              0.5555555555555556,
              "#d8576b"
             ],
             [
              0.6666666666666666,
              "#ed7953"
             ],
             [
              0.7777777777777778,
              "#fb9f3a"
             ],
             [
              0.8888888888888888,
              "#fdca26"
             ],
             [
              1,
              "#f0f921"
             ]
            ],
            "type": "heatmap"
           }
          ],
          "heatmapgl": [
           {
            "colorbar": {
             "outlinewidth": 0,
             "ticks": ""
            },
            "colorscale": [
             [
              0,
              "#0d0887"
             ],
             [
              0.1111111111111111,
              "#46039f"
             ],
             [
              0.2222222222222222,
              "#7201a8"
             ],
             [
              0.3333333333333333,
              "#9c179e"
             ],
             [
              0.4444444444444444,
              "#bd3786"
             ],
             [
              0.5555555555555556,
              "#d8576b"
             ],
             [
              0.6666666666666666,
              "#ed7953"
             ],
             [
              0.7777777777777778,
              "#fb9f3a"
             ],
             [
              0.8888888888888888,
              "#fdca26"
             ],
             [
              1,
              "#f0f921"
             ]
            ],
            "type": "heatmapgl"
           }
          ],
          "histogram": [
           {
            "marker": {
             "pattern": {
              "fillmode": "overlay",
              "size": 10,
              "solidity": 0.2
             }
            },
            "type": "histogram"
           }
          ],
          "histogram2d": [
           {
            "colorbar": {
             "outlinewidth": 0,
             "ticks": ""
            },
            "colorscale": [
             [
              0,
              "#0d0887"
             ],
             [
              0.1111111111111111,
              "#46039f"
             ],
             [
              0.2222222222222222,
              "#7201a8"
             ],
             [
              0.3333333333333333,
              "#9c179e"
             ],
             [
              0.4444444444444444,
              "#bd3786"
             ],
             [
              0.5555555555555556,
              "#d8576b"
             ],
             [
              0.6666666666666666,
              "#ed7953"
             ],
             [
              0.7777777777777778,
              "#fb9f3a"
             ],
             [
              0.8888888888888888,
              "#fdca26"
             ],
             [
              1,
              "#f0f921"
             ]
            ],
            "type": "histogram2d"
           }
          ],
          "histogram2dcontour": [
           {
            "colorbar": {
             "outlinewidth": 0,
             "ticks": ""
            },
            "colorscale": [
             [
              0,
              "#0d0887"
             ],
             [
              0.1111111111111111,
              "#46039f"
             ],
             [
              0.2222222222222222,
              "#7201a8"
             ],
             [
              0.3333333333333333,
              "#9c179e"
             ],
             [
              0.4444444444444444,
              "#bd3786"
             ],
             [
              0.5555555555555556,
              "#d8576b"
             ],
             [
              0.6666666666666666,
              "#ed7953"
             ],
             [
              0.7777777777777778,
              "#fb9f3a"
             ],
             [
              0.8888888888888888,
              "#fdca26"
             ],
             [
              1,
              "#f0f921"
             ]
            ],
            "type": "histogram2dcontour"
           }
          ],
          "mesh3d": [
           {
            "colorbar": {
             "outlinewidth": 0,
             "ticks": ""
            },
            "type": "mesh3d"
           }
          ],
          "parcoords": [
           {
            "line": {
             "colorbar": {
              "outlinewidth": 0,
              "ticks": ""
             }
            },
            "type": "parcoords"
           }
          ],
          "pie": [
           {
            "automargin": true,
            "type": "pie"
           }
          ],
          "scatter": [
           {
            "fillpattern": {
             "fillmode": "overlay",
             "size": 10,
             "solidity": 0.2
            },
            "type": "scatter"
           }
          ],
          "scatter3d": [
           {
            "line": {
             "colorbar": {
              "outlinewidth": 0,
              "ticks": ""
             }
            },
            "marker": {
             "colorbar": {
              "outlinewidth": 0,
              "ticks": ""
             }
            },
            "type": "scatter3d"
           }
          ],
          "scattercarpet": [
           {
            "marker": {
             "colorbar": {
              "outlinewidth": 0,
              "ticks": ""
             }
            },
            "type": "scattercarpet"
           }
          ],
          "scattergeo": [
           {
            "marker": {
             "colorbar": {
              "outlinewidth": 0,
              "ticks": ""
             }
            },
            "type": "scattergeo"
           }
          ],
          "scattergl": [
           {
            "marker": {
             "colorbar": {
              "outlinewidth": 0,
              "ticks": ""
             }
            },
            "type": "scattergl"
           }
          ],
          "scattermapbox": [
           {
            "marker": {
             "colorbar": {
              "outlinewidth": 0,
              "ticks": ""
             }
            },
            "type": "scattermapbox"
           }
          ],
          "scatterpolar": [
           {
            "marker": {
             "colorbar": {
              "outlinewidth": 0,
              "ticks": ""
             }
            },
            "type": "scatterpolar"
           }
          ],
          "scatterpolargl": [
           {
            "marker": {
             "colorbar": {
              "outlinewidth": 0,
              "ticks": ""
             }
            },
            "type": "scatterpolargl"
           }
          ],
          "scatterternary": [
           {
            "marker": {
             "colorbar": {
              "outlinewidth": 0,
              "ticks": ""
             }
            },
            "type": "scatterternary"
           }
          ],
          "surface": [
           {
            "colorbar": {
             "outlinewidth": 0,
             "ticks": ""
            },
            "colorscale": [
             [
              0,
              "#0d0887"
             ],
             [
              0.1111111111111111,
              "#46039f"
             ],
             [
              0.2222222222222222,
              "#7201a8"
             ],
             [
              0.3333333333333333,
              "#9c179e"
             ],
             [
              0.4444444444444444,
              "#bd3786"
             ],
             [
              0.5555555555555556,
              "#d8576b"
             ],
             [
              0.6666666666666666,
              "#ed7953"
             ],
             [
              0.7777777777777778,
              "#fb9f3a"
             ],
             [
              0.8888888888888888,
              "#fdca26"
             ],
             [
              1,
              "#f0f921"
             ]
            ],
            "type": "surface"
           }
          ],
          "table": [
           {
            "cells": {
             "fill": {
              "color": "#EBF0F8"
             },
             "line": {
              "color": "white"
             }
            },
            "header": {
             "fill": {
              "color": "#C8D4E3"
             },
             "line": {
              "color": "white"
             }
            },
            "type": "table"
           }
          ]
         },
         "layout": {
          "annotationdefaults": {
           "arrowcolor": "#2a3f5f",
           "arrowhead": 0,
           "arrowwidth": 1
          },
          "autotypenumbers": "strict",
          "coloraxis": {
           "colorbar": {
            "outlinewidth": 0,
            "ticks": ""
           }
          },
          "colorscale": {
           "diverging": [
            [
             0,
             "#8e0152"
            ],
            [
             0.1,
             "#c51b7d"
            ],
            [
             0.2,
             "#de77ae"
            ],
            [
             0.3,
             "#f1b6da"
            ],
            [
             0.4,
             "#fde0ef"
            ],
            [
             0.5,
             "#f7f7f7"
            ],
            [
             0.6,
             "#e6f5d0"
            ],
            [
             0.7,
             "#b8e186"
            ],
            [
             0.8,
             "#7fbc41"
            ],
            [
             0.9,
             "#4d9221"
            ],
            [
             1,
             "#276419"
            ]
           ],
           "sequential": [
            [
             0,
             "#0d0887"
            ],
            [
             0.1111111111111111,
             "#46039f"
            ],
            [
             0.2222222222222222,
             "#7201a8"
            ],
            [
             0.3333333333333333,
             "#9c179e"
            ],
            [
             0.4444444444444444,
             "#bd3786"
            ],
            [
             0.5555555555555556,
             "#d8576b"
            ],
            [
             0.6666666666666666,
             "#ed7953"
            ],
            [
             0.7777777777777778,
             "#fb9f3a"
            ],
            [
             0.8888888888888888,
             "#fdca26"
            ],
            [
             1,
             "#f0f921"
            ]
           ],
           "sequentialminus": [
            [
             0,
             "#0d0887"
            ],
            [
             0.1111111111111111,
             "#46039f"
            ],
            [
             0.2222222222222222,
             "#7201a8"
            ],
            [
             0.3333333333333333,
             "#9c179e"
            ],
            [
             0.4444444444444444,
             "#bd3786"
            ],
            [
             0.5555555555555556,
             "#d8576b"
            ],
            [
             0.6666666666666666,
             "#ed7953"
            ],
            [
             0.7777777777777778,
             "#fb9f3a"
            ],
            [
             0.8888888888888888,
             "#fdca26"
            ],
            [
             1,
             "#f0f921"
            ]
           ]
          },
          "colorway": [
           "#636efa",
           "#EF553B",
           "#00cc96",
           "#ab63fa",
           "#FFA15A",
           "#19d3f3",
           "#FF6692",
           "#B6E880",
           "#FF97FF",
           "#FECB52"
          ],
          "font": {
           "color": "#2a3f5f"
          },
          "geo": {
           "bgcolor": "white",
           "lakecolor": "white",
           "landcolor": "#E5ECF6",
           "showlakes": true,
           "showland": true,
           "subunitcolor": "white"
          },
          "hoverlabel": {
           "align": "left"
          },
          "hovermode": "closest",
          "mapbox": {
           "style": "light"
          },
          "paper_bgcolor": "white",
          "plot_bgcolor": "#E5ECF6",
          "polar": {
           "angularaxis": {
            "gridcolor": "white",
            "linecolor": "white",
            "ticks": ""
           },
           "bgcolor": "#E5ECF6",
           "radialaxis": {
            "gridcolor": "white",
            "linecolor": "white",
            "ticks": ""
           }
          },
          "scene": {
           "xaxis": {
            "backgroundcolor": "#E5ECF6",
            "gridcolor": "white",
            "gridwidth": 2,
            "linecolor": "white",
            "showbackground": true,
            "ticks": "",
            "zerolinecolor": "white"
           },
           "yaxis": {
            "backgroundcolor": "#E5ECF6",
            "gridcolor": "white",
            "gridwidth": 2,
            "linecolor": "white",
            "showbackground": true,
            "ticks": "",
            "zerolinecolor": "white"
           },
           "zaxis": {
            "backgroundcolor": "#E5ECF6",
            "gridcolor": "white",
            "gridwidth": 2,
            "linecolor": "white",
            "showbackground": true,
            "ticks": "",
            "zerolinecolor": "white"
           }
          },
          "shapedefaults": {
           "line": {
            "color": "#2a3f5f"
           }
          },
          "ternary": {
           "aaxis": {
            "gridcolor": "white",
            "linecolor": "white",
            "ticks": ""
           },
           "baxis": {
            "gridcolor": "white",
            "linecolor": "white",
            "ticks": ""
           },
           "bgcolor": "#E5ECF6",
           "caxis": {
            "gridcolor": "white",
            "linecolor": "white",
            "ticks": ""
           }
          },
          "title": {
           "x": 0.05
          },
          "xaxis": {
           "automargin": true,
           "gridcolor": "white",
           "linecolor": "white",
           "ticks": "",
           "title": {
            "standoff": 15
           },
           "zerolinecolor": "white",
           "zerolinewidth": 2
          },
          "yaxis": {
           "automargin": true,
           "gridcolor": "white",
           "linecolor": "white",
           "ticks": "",
           "title": {
            "standoff": 15
           },
           "zerolinecolor": "white",
           "zerolinewidth": 2
          }
         }
        },
        "title": {
         "text": "PCA of Agnes Story Embeddings"
        },
        "xaxis": {
         "anchor": "y",
         "domain": [
          0,
          1
         ],
         "title": {
          "text": "dim1"
         }
        },
        "yaxis": {
         "anchor": "x",
         "domain": [
          0,
          1
         ],
         "title": {
          "text": "dim2"
         }
        }
       }
      },
      "text/html": [
       "<div>                            <div id=\"649d8829-8459-428b-af74-730c7da674b1\" class=\"plotly-graph-div\" style=\"height:525px; width:100%;\"></div>            <script type=\"text/javascript\">                require([\"plotly\"], function(Plotly) {                    window.PLOTLYENV=window.PLOTLYENV || {};                                    if (document.getElementById(\"649d8829-8459-428b-af74-730c7da674b1\")) {                    Plotly.newPlot(                        \"649d8829-8459-428b-af74-730c7da674b1\",                        [{\"marker\":{\"color\":\"yellow\",\"size\":8},\"mode\":\"markers\",\"name\":\"Untransferred Newline Prompt Generation\",\"x\":[-0.3431592881679535,-0.285635381937027,-0.13269706070423126,-0.2927030622959137,-0.28810247778892517,-0.2956421971321106,-0.2015174776315689,-0.27749955654144287,-0.3102703392505646,-0.28992196917533875,-0.14398714900016785,-0.26198089122772217,-0.24032144248485565,-0.2779213786125183,-0.21763192117214203,-0.21035489439964294,-0.3216625452041626,-0.32646068930625916,-0.2924876809120178,-0.3249514400959015,-0.3338060975074768,-0.2317710816860199,-0.0772664025425911,-0.18597933650016785,-0.2668110430240631,-0.2663145363330841,-0.25941598415374756,-0.19788512587547302,-0.1978118121623993,-0.3198557496070862,-0.26770031452178955,-0.24553385376930237,-0.18420542776584625,-0.24806901812553406,-0.38219884037971497,-0.25472378730773926,-0.20709306001663208,-0.18222737312316895,-0.23626872897148132,-0.05912702903151512,-0.2878355383872986,-0.35924869775772095,-0.11962635815143585,-0.22895105183124542,-0.17123326659202576,-0.2832699418067932,-0.4553728699684143,-0.3479553461074829,-0.3723767399787903,-0.04146060720086098,-0.21941529214382172,-0.17639194428920746,-0.20276133716106415,-0.2735291123390198,-0.19709831476211548,-0.22255735099315643,-0.2688737213611603,-0.09861032664775848,-0.3123340904712677,-0.2194444239139557,-0.22331427037715912,-0.3357146680355072,-0.21510130167007446,0.11179418861865997,-0.07278557121753693,-0.1927967667579651,-0.09889485687017441,-0.22931337356567383,-0.3174138069152832,-0.35276591777801514,-0.3038947284221649,-0.15881478786468506,-0.3181985318660736,-0.22299858927726746,-0.23136065900325775,-0.13908183574676514,-0.07554742693901062,-0.316196471452713,-0.1884123682975769,-0.1890968233346939,-0.1473611742258072,-0.30615612864494324,-0.15917529165744781,-0.2704990804195404,-0.3461439609527588,-0.34878990054130554,-0.14182595908641815,-0.30056992173194885,-0.305339515209198,-0.25536593794822693,-0.32447701692581177,-0.19057433307170868,-0.31160950660705566,-0.05875770002603531,-0.31804659962654114,-0.3414601683616638,-0.28611066937446594,0.022331038489937782,-0.3279259502887726,-0.2591061592102051],\"y\":[-0.08820521086454391,0.0006562053458765149,-0.019947191700339317,0.23201879858970642,0.3522087633609772,-0.19363434612751007,-0.17458544671535492,-0.059796180576086044,-0.01997627504169941,-0.22569724917411804,-0.1874299794435501,0.257700115442276,0.22017157077789307,0.17101991176605225,0.2569581866264343,-0.2455393671989441,-0.006345218978822231,0.3511558473110199,-0.09461787343025208,0.3148861527442932,0.2139114886522293,0.09057261049747467,0.2759040892124176,0.2065124660730362,-0.2317388951778412,0.2427070587873459,0.22893324494361877,-0.08595374971628189,0.02020418643951416,0.19443920254707336,-0.22952981293201447,0.33121997117996216,-0.04719841480255127,0.21159978210926056,-0.14926539361476898,0.056706447154283524,-0.18578362464904785,-0.13761131465435028,-0.06943196058273315,0.088374562561512,0.04755675047636032,0.05098007619380951,0.21682342886924744,0.33648037910461426,0.344116747379303,0.07206616550683975,0.00025141166406683624,0.20970575511455536,0.24878711998462677,0.32958897948265076,0.024957697838544846,0.011690652929246426,0.24212408065795898,0.16947706043720245,0.31100237369537354,0.3184089660644531,0.29143282771110535,0.33466291427612305,0.16069264709949493,0.2034546285867691,-0.02503877505660057,-0.13568581640720367,-0.18032152950763702,0.2977127730846405,0.3106820583343506,-0.11223412305116653,-0.01323461439460516,0.05479999631643295,-0.12900479137897491,0.14263352751731873,-0.02896917425096035,-0.013659891672432423,0.10124237835407257,-0.006300024222582579,0.13599593937397003,0.321434885263443,0.29117491841316223,0.2890215516090393,-0.09469597041606903,-0.28839391469955444,-0.05365493893623352,0.09059818834066391,0.10578271001577377,0.1391407996416092,-0.12329687923192978,0.01274489238858223,0.03122049570083618,0.25650763511657715,0.018167611211538315,-0.17422688007354736,-0.04246491566300392,0.08600623160600662,0.0421067476272583,-0.03758365660905838,0.008912787772715092,-0.044166628271341324,0.1569114625453949,-0.06249251216650009,0.2613542079925537,0.1574108749628067],\"type\":\"scatter\"},{\"marker\":{\"color\":\"green\",\"size\":10},\"mode\":\"markers\",\"name\":\"Baseline Generation\",\"x\":[0.6165732145309448,0.5793538093566895,0.6229785680770874,0.6191174983978271,0.6703830361366272,0.5020285844802856,0.6100662350654602,0.5509634613990784,0.5842018127441406,0.6720575094223022,0.46998727321624756,0.6511778235435486,0.5361725687980652,0.5708906650543213,0.5231313109397888,0.3452911674976349,0.5786760449409485,0.597151517868042,0.5852717161178589,0.661385178565979,0.6335779428482056,0.6766067743301392,0.4985821545124054,0.57380211353302,0.6543578505516052,0.6751673221588135,0.5945361256599426,0.47699031233787537,0.6211856007575989,0.4047911763191223,0.6308990716934204,0.6291803121566772,0.653595507144928,0.6009498238563538,0.5854760408401489,0.6854453682899475,0.592324435710907,0.6141096353530884,0.6093056797981262,0.42522862553596497,0.641329824924469,0.6191853880882263,0.6025089621543884,0.6320275068283081,0.6671562194824219,0.6143788695335388,0.6656632423400879,0.6322243809700012,0.519709050655365,0.6543254256248474],\"y\":[0.06250565499067307,-0.1136137843132019,0.1794072985649109,0.18771913647651672,0.015316587872803211,-0.26516762375831604,-0.06826013326644897,0.24362795054912567,0.19472554326057434,-0.0021482326555997133,0.16611960530281067,0.08676876127719879,-0.18889762461185455,0.15806786715984344,-0.2261054515838623,-0.2562958300113678,0.04239005595445633,0.21990007162094116,0.24017751216888428,0.0053265332244336605,0.13601946830749512,-0.028923748061060905,0.31354379653930664,-0.16894805431365967,0.04923158138990402,0.039178427308797836,0.07908697426319122,0.21323606371879578,-0.1313641369342804,-0.20357480645179749,-0.10655058175325394,-0.021417608484625816,0.033909715712070465,-0.15503254532814026,0.14559927582740784,0.07302583009004593,0.2252447009086609,-0.13929453492164612,0.14985643327236176,-0.23508240282535553,0.13061930239200592,-0.127128466963768,-0.031120404601097107,0.005915866233408451,0.0546296201646328,0.11010444909334183,0.10168993473052979,-0.11548679322004318,-0.1931968331336975,0.04284080117940903],\"type\":\"scatter\"},{\"customdata\":[[\"phi-3-mini-4k-instruct\",1],[\"phi-3-mini-4k-instruct\",1],[\"phi-3-mini-4k-instruct\",1],[\"phi-3-mini-4k-instruct\",1],[\"phi-3-mini-4k-instruct\",1],[\"phi-3-mini-4k-instruct\",1],[\"phi-3-mini-4k-instruct\",1],[\"phi-3-mini-4k-instruct\",1],[\"phi-3-mini-4k-instruct\",1],[\"phi-3-mini-4k-instruct\",1],[\"phi-3-mini-4k-instruct\",1],[\"phi-3-mini-4k-instruct\",1],[\"phi-3-mini-4k-instruct\",1],[\"phi-3-mini-4k-instruct\",1],[\"phi-3-mini-4k-instruct\",1],[\"phi-3-mini-4k-instruct\",1],[\"phi-3-mini-4k-instruct\",1],[\"phi-3-mini-4k-instruct\",1],[\"phi-3-mini-4k-instruct\",1],[\"phi-3-mini-4k-instruct\",1],[\"phi-3-mini-4k-instruct\",1],[\"phi-3-mini-4k-instruct\",1],[\"phi-3-mini-4k-instruct\",1],[\"phi-3-mini-4k-instruct\",1],[\"phi-3-mini-4k-instruct\",1],[\"phi-3-mini-4k-instruct\",1],[\"phi-3-mini-4k-instruct\",1],[\"phi-3-mini-4k-instruct\",1],[\"phi-3-mini-4k-instruct\",1],[\"phi-3-mini-4k-instruct\",1]],\"hovertemplate\":\"Model: %{customdata[0]}\\u003cbr\\u003eNewline Count: %{customdata[1]}\",\"legendgroup\":\"phi-3-mini-4k-instruct, 1\",\"marker\":{\"color\":\"#636efa\",\"symbol\":\"square\"},\"mode\":\"markers\",\"name\":\"phi-3-mini-4k-instruct, 1\",\"orientation\":\"v\",\"showlegend\":true,\"x\":[-0.22507022321224213,-0.3226395547389984,-0.15383873879909515,-0.19526496529579163,-0.222917839884758,-0.22535058856010437,-0.20818547904491425,-0.24692896008491516,-0.3174103796482086,-0.27583569288253784,-0.19537954032421112,-0.2759314477443695,-0.2753252387046814,-0.31814542412757874,-0.29202428460121155,-0.26242595911026,-0.1730499416589737,-0.22390764951705933,-0.3093622922897339,-0.15062643587589264,-0.3174103796482086,-0.27452099323272705,-0.2658821642398834,-0.3146601915359497,-0.28623825311660767,-0.21461862325668335,-0.2796327471733093,-0.3322810232639313,-0.2797791361808777,-0.28780367970466614],\"xaxis\":\"x\",\"y\":[-0.27744653820991516,0.026522843167185783,-0.3435382544994354,-0.1615021526813507,-0.32010433077812195,-0.24132972955703735,-0.37763291597366333,-0.30576446652412415,-0.4643620550632477,0.10332860052585602,-0.009288707748055458,-0.27271080017089844,0.17019446194171906,-0.4166094958782196,0.07519879192113876,-0.27474120259284973,-0.023276282474398613,-0.2869552671909332,-0.4876376986503601,0.0034994480665773153,-0.4643620550632477,-0.448975145816803,-0.32316482067108154,-0.18268516659736633,0.13911212980747223,-0.29473355412483215,0.10107705742120743,-0.4430820643901825,-0.24390974640846252,0.12296637892723083],\"yaxis\":\"y\",\"type\":\"scatter\"},{\"customdata\":[[\"phi-3-mini-4k-instruct\",2],[\"phi-3-mini-4k-instruct\",2],[\"phi-3-mini-4k-instruct\",2],[\"phi-3-mini-4k-instruct\",2],[\"phi-3-mini-4k-instruct\",2],[\"phi-3-mini-4k-instruct\",2],[\"phi-3-mini-4k-instruct\",2],[\"phi-3-mini-4k-instruct\",2],[\"phi-3-mini-4k-instruct\",2],[\"phi-3-mini-4k-instruct\",2],[\"phi-3-mini-4k-instruct\",2],[\"phi-3-mini-4k-instruct\",2],[\"phi-3-mini-4k-instruct\",2],[\"phi-3-mini-4k-instruct\",2],[\"phi-3-mini-4k-instruct\",2],[\"phi-3-mini-4k-instruct\",2],[\"phi-3-mini-4k-instruct\",2],[\"phi-3-mini-4k-instruct\",2],[\"phi-3-mini-4k-instruct\",2],[\"phi-3-mini-4k-instruct\",2],[\"phi-3-mini-4k-instruct\",2],[\"phi-3-mini-4k-instruct\",2],[\"phi-3-mini-4k-instruct\",2],[\"phi-3-mini-4k-instruct\",2],[\"phi-3-mini-4k-instruct\",2],[\"phi-3-mini-4k-instruct\",2],[\"phi-3-mini-4k-instruct\",2],[\"phi-3-mini-4k-instruct\",2],[\"phi-3-mini-4k-instruct\",2],[\"phi-3-mini-4k-instruct\",2]],\"hovertemplate\":\"Model: %{customdata[0]}\\u003cbr\\u003eNewline Count: %{customdata[1]}\",\"legendgroup\":\"phi-3-mini-4k-instruct, 2\",\"marker\":{\"color\":\"#636efa\",\"symbol\":\"circle\"},\"mode\":\"markers\",\"name\":\"phi-3-mini-4k-instruct, 2\",\"orientation\":\"v\",\"showlegend\":true,\"x\":[-0.21258248388767242,-0.31422024965286255,0.1166929081082344,0.1931896060705185,-0.16267196834087372,0.09356749057769775,0.16644452512264252,0.1458773910999298,0.24447713792324066,-0.18243254721164703,0.227991983294487,0.3940190374851227,-0.2496594935655594,-0.020039023831486702,0.34039968252182007,0.250357449054718,-0.2513754367828369,0.3074558973312378,0.1491725593805313,0.09905888140201569,0.35867947340011597,0.24498459696769714,-0.20139388740062714,0.07368569821119308,0.3866651952266693,-0.22363513708114624,0.2588009536266327,-0.3170589506626129,0.18201473355293274,-0.16330434381961823],\"xaxis\":\"x\",\"y\":[0.27352195978164673,-0.09483831375837326,-0.11815182864665985,-0.3448280096054077,0.34084925055503845,-0.47820523381233215,-0.3681505024433136,0.25108304619789124,-0.3208176791667938,-0.01034458726644516,-0.36746150255203247,0.11806616932153702,0.19917556643486023,-0.3997175693511963,0.06936288625001907,-0.03809065371751785,0.17400826513767242,0.006594034843146801,-0.4035336673259735,-0.48331335186958313,0.17320388555526733,-0.24373693764209747,0.3317655324935913,-0.48750969767570496,-0.02924185059964657,0.11330676823854446,0.2346283495426178,-0.027095912024378777,-0.44016724824905396,-0.1725957691669464],\"yaxis\":\"y\",\"type\":\"scatter\"}],                        {\"template\":{\"data\":{\"histogram2dcontour\":[{\"type\":\"histogram2dcontour\",\"colorbar\":{\"outlinewidth\":0,\"ticks\":\"\"},\"colorscale\":[[0.0,\"#0d0887\"],[0.1111111111111111,\"#46039f\"],[0.2222222222222222,\"#7201a8\"],[0.3333333333333333,\"#9c179e\"],[0.4444444444444444,\"#bd3786\"],[0.5555555555555556,\"#d8576b\"],[0.6666666666666666,\"#ed7953\"],[0.7777777777777778,\"#fb9f3a\"],[0.8888888888888888,\"#fdca26\"],[1.0,\"#f0f921\"]]}],\"choropleth\":[{\"type\":\"choropleth\",\"colorbar\":{\"outlinewidth\":0,\"ticks\":\"\"}}],\"histogram2d\":[{\"type\":\"histogram2d\",\"colorbar\":{\"outlinewidth\":0,\"ticks\":\"\"},\"colorscale\":[[0.0,\"#0d0887\"],[0.1111111111111111,\"#46039f\"],[0.2222222222222222,\"#7201a8\"],[0.3333333333333333,\"#9c179e\"],[0.4444444444444444,\"#bd3786\"],[0.5555555555555556,\"#d8576b\"],[0.6666666666666666,\"#ed7953\"],[0.7777777777777778,\"#fb9f3a\"],[0.8888888888888888,\"#fdca26\"],[1.0,\"#f0f921\"]]}],\"heatmap\":[{\"type\":\"heatmap\",\"colorbar\":{\"outlinewidth\":0,\"ticks\":\"\"},\"colorscale\":[[0.0,\"#0d0887\"],[0.1111111111111111,\"#46039f\"],[0.2222222222222222,\"#7201a8\"],[0.3333333333333333,\"#9c179e\"],[0.4444444444444444,\"#bd3786\"],[0.5555555555555556,\"#d8576b\"],[0.6666666666666666,\"#ed7953\"],[0.7777777777777778,\"#fb9f3a\"],[0.8888888888888888,\"#fdca26\"],[1.0,\"#f0f921\"]]}],\"heatmapgl\":[{\"type\":\"heatmapgl\",\"colorbar\":{\"outlinewidth\":0,\"ticks\":\"\"},\"colorscale\":[[0.0,\"#0d0887\"],[0.1111111111111111,\"#46039f\"],[0.2222222222222222,\"#7201a8\"],[0.3333333333333333,\"#9c179e\"],[0.4444444444444444,\"#bd3786\"],[0.5555555555555556,\"#d8576b\"],[0.6666666666666666,\"#ed7953\"],[0.7777777777777778,\"#fb9f3a\"],[0.8888888888888888,\"#fdca26\"],[1.0,\"#f0f921\"]]}],\"contourcarpet\":[{\"type\":\"contourcarpet\",\"colorbar\":{\"outlinewidth\":0,\"ticks\":\"\"}}],\"contour\":[{\"type\":\"contour\",\"colorbar\":{\"outlinewidth\":0,\"ticks\":\"\"},\"colorscale\":[[0.0,\"#0d0887\"],[0.1111111111111111,\"#46039f\"],[0.2222222222222222,\"#7201a8\"],[0.3333333333333333,\"#9c179e\"],[0.4444444444444444,\"#bd3786\"],[0.5555555555555556,\"#d8576b\"],[0.6666666666666666,\"#ed7953\"],[0.7777777777777778,\"#fb9f3a\"],[0.8888888888888888,\"#fdca26\"],[1.0,\"#f0f921\"]]}],\"surface\":[{\"type\":\"surface\",\"colorbar\":{\"outlinewidth\":0,\"ticks\":\"\"},\"colorscale\":[[0.0,\"#0d0887\"],[0.1111111111111111,\"#46039f\"],[0.2222222222222222,\"#7201a8\"],[0.3333333333333333,\"#9c179e\"],[0.4444444444444444,\"#bd3786\"],[0.5555555555555556,\"#d8576b\"],[0.6666666666666666,\"#ed7953\"],[0.7777777777777778,\"#fb9f3a\"],[0.8888888888888888,\"#fdca26\"],[1.0,\"#f0f921\"]]}],\"mesh3d\":[{\"type\":\"mesh3d\",\"colorbar\":{\"outlinewidth\":0,\"ticks\":\"\"}}],\"scatter\":[{\"fillpattern\":{\"fillmode\":\"overlay\",\"size\":10,\"solidity\":0.2},\"type\":\"scatter\"}],\"parcoords\":[{\"type\":\"parcoords\",\"line\":{\"colorbar\":{\"outlinewidth\":0,\"ticks\":\"\"}}}],\"scatterpolargl\":[{\"type\":\"scatterpolargl\",\"marker\":{\"colorbar\":{\"outlinewidth\":0,\"ticks\":\"\"}}}],\"bar\":[{\"error_x\":{\"color\":\"#2a3f5f\"},\"error_y\":{\"color\":\"#2a3f5f\"},\"marker\":{\"line\":{\"color\":\"#E5ECF6\",\"width\":0.5},\"pattern\":{\"fillmode\":\"overlay\",\"size\":10,\"solidity\":0.2}},\"type\":\"bar\"}],\"scattergeo\":[{\"type\":\"scattergeo\",\"marker\":{\"colorbar\":{\"outlinewidth\":0,\"ticks\":\"\"}}}],\"scatterpolar\":[{\"type\":\"scatterpolar\",\"marker\":{\"colorbar\":{\"outlinewidth\":0,\"ticks\":\"\"}}}],\"histogram\":[{\"marker\":{\"pattern\":{\"fillmode\":\"overlay\",\"size\":10,\"solidity\":0.2}},\"type\":\"histogram\"}],\"scattergl\":[{\"type\":\"scattergl\",\"marker\":{\"colorbar\":{\"outlinewidth\":0,\"ticks\":\"\"}}}],\"scatter3d\":[{\"type\":\"scatter3d\",\"line\":{\"colorbar\":{\"outlinewidth\":0,\"ticks\":\"\"}},\"marker\":{\"colorbar\":{\"outlinewidth\":0,\"ticks\":\"\"}}}],\"scattermapbox\":[{\"type\":\"scattermapbox\",\"marker\":{\"colorbar\":{\"outlinewidth\":0,\"ticks\":\"\"}}}],\"scatterternary\":[{\"type\":\"scatterternary\",\"marker\":{\"colorbar\":{\"outlinewidth\":0,\"ticks\":\"\"}}}],\"scattercarpet\":[{\"type\":\"scattercarpet\",\"marker\":{\"colorbar\":{\"outlinewidth\":0,\"ticks\":\"\"}}}],\"carpet\":[{\"aaxis\":{\"endlinecolor\":\"#2a3f5f\",\"gridcolor\":\"white\",\"linecolor\":\"white\",\"minorgridcolor\":\"white\",\"startlinecolor\":\"#2a3f5f\"},\"baxis\":{\"endlinecolor\":\"#2a3f5f\",\"gridcolor\":\"white\",\"linecolor\":\"white\",\"minorgridcolor\":\"white\",\"startlinecolor\":\"#2a3f5f\"},\"type\":\"carpet\"}],\"table\":[{\"cells\":{\"fill\":{\"color\":\"#EBF0F8\"},\"line\":{\"color\":\"white\"}},\"header\":{\"fill\":{\"color\":\"#C8D4E3\"},\"line\":{\"color\":\"white\"}},\"type\":\"table\"}],\"barpolar\":[{\"marker\":{\"line\":{\"color\":\"#E5ECF6\",\"width\":0.5},\"pattern\":{\"fillmode\":\"overlay\",\"size\":10,\"solidity\":0.2}},\"type\":\"barpolar\"}],\"pie\":[{\"automargin\":true,\"type\":\"pie\"}]},\"layout\":{\"autotypenumbers\":\"strict\",\"colorway\":[\"#636efa\",\"#EF553B\",\"#00cc96\",\"#ab63fa\",\"#FFA15A\",\"#19d3f3\",\"#FF6692\",\"#B6E880\",\"#FF97FF\",\"#FECB52\"],\"font\":{\"color\":\"#2a3f5f\"},\"hovermode\":\"closest\",\"hoverlabel\":{\"align\":\"left\"},\"paper_bgcolor\":\"white\",\"plot_bgcolor\":\"#E5ECF6\",\"polar\":{\"bgcolor\":\"#E5ECF6\",\"angularaxis\":{\"gridcolor\":\"white\",\"linecolor\":\"white\",\"ticks\":\"\"},\"radialaxis\":{\"gridcolor\":\"white\",\"linecolor\":\"white\",\"ticks\":\"\"}},\"ternary\":{\"bgcolor\":\"#E5ECF6\",\"aaxis\":{\"gridcolor\":\"white\",\"linecolor\":\"white\",\"ticks\":\"\"},\"baxis\":{\"gridcolor\":\"white\",\"linecolor\":\"white\",\"ticks\":\"\"},\"caxis\":{\"gridcolor\":\"white\",\"linecolor\":\"white\",\"ticks\":\"\"}},\"coloraxis\":{\"colorbar\":{\"outlinewidth\":0,\"ticks\":\"\"}},\"colorscale\":{\"sequential\":[[0.0,\"#0d0887\"],[0.1111111111111111,\"#46039f\"],[0.2222222222222222,\"#7201a8\"],[0.3333333333333333,\"#9c179e\"],[0.4444444444444444,\"#bd3786\"],[0.5555555555555556,\"#d8576b\"],[0.6666666666666666,\"#ed7953\"],[0.7777777777777778,\"#fb9f3a\"],[0.8888888888888888,\"#fdca26\"],[1.0,\"#f0f921\"]],\"sequentialminus\":[[0.0,\"#0d0887\"],[0.1111111111111111,\"#46039f\"],[0.2222222222222222,\"#7201a8\"],[0.3333333333333333,\"#9c179e\"],[0.4444444444444444,\"#bd3786\"],[0.5555555555555556,\"#d8576b\"],[0.6666666666666666,\"#ed7953\"],[0.7777777777777778,\"#fb9f3a\"],[0.8888888888888888,\"#fdca26\"],[1.0,\"#f0f921\"]],\"diverging\":[[0,\"#8e0152\"],[0.1,\"#c51b7d\"],[0.2,\"#de77ae\"],[0.3,\"#f1b6da\"],[0.4,\"#fde0ef\"],[0.5,\"#f7f7f7\"],[0.6,\"#e6f5d0\"],[0.7,\"#b8e186\"],[0.8,\"#7fbc41\"],[0.9,\"#4d9221\"],[1,\"#276419\"]]},\"xaxis\":{\"gridcolor\":\"white\",\"linecolor\":\"white\",\"ticks\":\"\",\"title\":{\"standoff\":15},\"zerolinecolor\":\"white\",\"automargin\":true,\"zerolinewidth\":2},\"yaxis\":{\"gridcolor\":\"white\",\"linecolor\":\"white\",\"ticks\":\"\",\"title\":{\"standoff\":15},\"zerolinecolor\":\"white\",\"automargin\":true,\"zerolinewidth\":2},\"scene\":{\"xaxis\":{\"backgroundcolor\":\"#E5ECF6\",\"gridcolor\":\"white\",\"linecolor\":\"white\",\"showbackground\":true,\"ticks\":\"\",\"zerolinecolor\":\"white\",\"gridwidth\":2},\"yaxis\":{\"backgroundcolor\":\"#E5ECF6\",\"gridcolor\":\"white\",\"linecolor\":\"white\",\"showbackground\":true,\"ticks\":\"\",\"zerolinecolor\":\"white\",\"gridwidth\":2},\"zaxis\":{\"backgroundcolor\":\"#E5ECF6\",\"gridcolor\":\"white\",\"linecolor\":\"white\",\"showbackground\":true,\"ticks\":\"\",\"zerolinecolor\":\"white\",\"gridwidth\":2}},\"shapedefaults\":{\"line\":{\"color\":\"#2a3f5f\"}},\"annotationdefaults\":{\"arrowcolor\":\"#2a3f5f\",\"arrowhead\":0,\"arrowwidth\":1},\"geo\":{\"bgcolor\":\"white\",\"landcolor\":\"#E5ECF6\",\"subunitcolor\":\"white\",\"showland\":true,\"showlakes\":true,\"lakecolor\":\"white\"},\"title\":{\"x\":0.05},\"mapbox\":{\"style\":\"light\"}}},\"xaxis\":{\"anchor\":\"y\",\"domain\":[0.0,1.0],\"title\":{\"text\":\"dim1\"}},\"yaxis\":{\"anchor\":\"x\",\"domain\":[0.0,1.0],\"title\":{\"text\":\"dim2\"}},\"legend\":{\"title\":{\"text\":\"model, newline_num\"},\"tracegroupgap\":0},\"title\":{\"text\":\"PCA of Agnes Story Embeddings\"},\"coloraxis\":{\"colorbar\":{\"yanchor\":\"top\",\"y\":1,\"x\":100,\"xref\":\"container\"}}},                        {\"responsive\": true}                    ).then(function(){\n",
       "                            \n",
       "var gd = document.getElementById('649d8829-8459-428b-af74-730c7da674b1');\n",
       "var x = new MutationObserver(function (mutations, observer) {{\n",
       "        var display = window.getComputedStyle(gd).display;\n",
       "        if (!display || display === 'none') {{\n",
       "            console.log([gd, 'removed!']);\n",
       "            Plotly.purge(gd);\n",
       "            observer.disconnect();\n",
       "        }}\n",
       "}});\n",
       "\n",
       "// Listen for the removal of the full notebook cells\n",
       "var notebookContainer = gd.closest('#notebook-container');\n",
       "if (notebookContainer) {{\n",
       "    x.observe(notebookContainer, {childList: true});\n",
       "}}\n",
       "\n",
       "// Listen for the clearing of the current output cell\n",
       "var outputEl = gd.closest('.output');\n",
       "if (outputEl) {{\n",
       "    x.observe(outputEl, {childList: true});\n",
       "}}\n",
       "\n",
       "                        })                };                });            </script>        </div>"
      ]
     },
     "metadata": {},
     "output_type": "display_data"
    }
   ],
   "source": [
    "# carry out pca on embeddings using sklearn\n",
    "reducer = PCA(n_components=2)\n",
    "embeddings_reduced = reducer.fit_transform(embeddings)\n",
    "print(embeddings_reduced.shape)\n",
    "\n",
    "# visualize the embeddings using plotly\n",
    "import plotly.express as px\n",
    "import plotly.graph_objects as go\n",
    "\n",
    "results_df[\"dim1\"] = embeddings_reduced[:results_df.shape[0], 0]\n",
    "results_df[\"dim2\"] = embeddings_reduced[:results_df.shape[0], 1]\n",
    "base_df[\"dim1\"] = embeddings_reduced[results_df.shape[0]:neutral_start, 0]\n",
    "base_df[\"dim2\"] = embeddings_reduced[results_df.shape[0]:neutral_start, 1]\n",
    "baseline_mean_x = base_df[\"dim1\"].mean(axis=0)\n",
    "baseline_mean_y = base_df[\"dim2\"].mean(axis=0)\n",
    "neutral_df[\"dim1\"] = embeddings_reduced[neutral_start:, 0]\n",
    "neutral_df[\"dim2\"] = embeddings_reduced[neutral_start:, 1]\n",
    "neutral_mean_x = neutral_df[\"dim1\"].mean(axis=0)\n",
    "neutral_mean_y = neutral_df[\"dim2\"].mean(axis=0)\n",
    "\n",
    "results_df[\"truncated_output\"] = results_df[\"output\"].str.slice(0,100)\n",
    "\n",
    "fig = px.scatter(\n",
    "    results_df,\n",
    "    x=\"dim1\",\n",
    "    y=\"dim2\",\n",
    "    hover_data=[\"model\", \"newline_num\"],\n",
    "    title=\"PCA of Agnes Story Embeddings\",\n",
    "    color=\"model\",\n",
    "    symbol=\"newline_num\",\n",
    "    symbol_sequence = ['circle', 'square', 'diamond', 'cross', 'x', 'triangle-up', 'pentagon', 'hexagon', 'octagon', 'star'],\n",
    "\n",
    ")\n",
    "\n",
    "\n",
    "\n",
    "\n",
    "fig.update_layout(coloraxis_colorbar=dict(yanchor=\"top\", y=1, x=100, xref=\"container\"))\n",
    "\n",
    "fig.update_traces(\n",
    "    hovertemplate=\"<br>\".join(\n",
    "        [\"Model: %{customdata[0]}\", \"Newline Count: %{customdata[1]}\"]\n",
    "    )\n",
    ")\n",
    "\n",
    "fig.add_trace(go.Scatter(x=base_df[\"dim1\"].to_list(), y=base_df[\"dim2\"].to_list(), mode='markers', marker=dict(color='green', size=10), name='Baseline Generation'))\n",
    "\n",
    "fig.add_trace(go.Scatter(x=neutral_df[\"dim1\"].to_list(), y=neutral_df[\"dim2\"].to_list(), mode='markers', marker=dict(color='yellow', size=8), name='Untransferred Newline Prompt Generation'))\n",
    "\n",
    "fig.data = [fig.data[3],fig.data[2],fig.data[1],fig.data[0]]\n",
    "\n",
    "\n",
    "fig.show()"
   ]
  },
  {
   "cell_type": "code",
   "execution_count": 17,
   "metadata": {},
   "outputs": [
    {
     "name": "stdout",
     "output_type": "stream",
     "text": [
      "                    model  newline_num       PC1       PC2\n",
      "0  phi-3-mini-4k-instruct          1.0 -0.257415 -0.197397\n",
      "1  phi-3-mini-4k-instruct          2.0  0.064505 -0.084741\n"
     ]
    },
    {
     "data": {
      "application/vnd.plotly.v1+json": {
       "config": {
        "plotlyServerURL": "https://plot.ly"
       },
       "data": [
        {
         "hovertemplate": "model=phi-3-mini-4k-instruct<br>newline_num=1.0<br>PC1=%{x}<br>PC2=%{y}<extra></extra>",
         "legendgroup": "phi-3-mini-4k-instruct, 1.0",
         "marker": {
          "color": "#636efa",
          "symbol": "circle"
         },
         "mode": "markers",
         "name": "phi-3-mini-4k-instruct, 1.0",
         "orientation": "v",
         "showlegend": true,
         "type": "scatter",
         "x": [
          -0.25741493701934814
         ],
         "xaxis": "x",
         "y": [
          -0.19739708304405212
         ],
         "yaxis": "y"
        },
        {
         "hovertemplate": "model=phi-3-mini-4k-instruct<br>newline_num=2.0<br>PC1=%{x}<br>PC2=%{y}<extra></extra>",
         "legendgroup": "phi-3-mini-4k-instruct, 2.0",
         "marker": {
          "color": "#636efa",
          "symbol": "square"
         },
         "mode": "markers",
         "name": "phi-3-mini-4k-instruct, 2.0",
         "orientation": "v",
         "showlegend": true,
         "type": "scatter",
         "x": [
          0.06450539082288742
         ],
         "xaxis": "x",
         "y": [
          -0.08474115282297134
         ],
         "yaxis": "y"
        },
        {
         "marker": {
          "color": "green",
          "size": 10
         },
         "mode": "markers",
         "name": "Baseline Generation Mean",
         "type": "scatter",
         "x": [
          0.592629611492157
         ],
         "y": [
          0.01856350339949131
         ]
        },
        {
         "marker": {
          "color": "yellow",
          "size": 8
         },
         "mode": "markers",
         "name": "Untransferred Newline Prompt Generation Mean",
         "type": "scatter",
         "x": [
          -0.23844192922115326
         ],
         "y": [
          0.07535970956087112
         ]
        }
       ],
       "layout": {
        "coloraxis": {
         "colorbar": {
          "x": 100,
          "xref": "container",
          "y": 1,
          "yanchor": "top"
         }
        },
        "legend": {
         "title": {
          "text": "model, newline_num"
         },
         "tracegroupgap": 0
        },
        "template": {
         "data": {
          "bar": [
           {
            "error_x": {
             "color": "#2a3f5f"
            },
            "error_y": {
             "color": "#2a3f5f"
            },
            "marker": {
             "line": {
              "color": "#E5ECF6",
              "width": 0.5
             },
             "pattern": {
              "fillmode": "overlay",
              "size": 10,
              "solidity": 0.2
             }
            },
            "type": "bar"
           }
          ],
          "barpolar": [
           {
            "marker": {
             "line": {
              "color": "#E5ECF6",
              "width": 0.5
             },
             "pattern": {
              "fillmode": "overlay",
              "size": 10,
              "solidity": 0.2
             }
            },
            "type": "barpolar"
           }
          ],
          "carpet": [
           {
            "aaxis": {
             "endlinecolor": "#2a3f5f",
             "gridcolor": "white",
             "linecolor": "white",
             "minorgridcolor": "white",
             "startlinecolor": "#2a3f5f"
            },
            "baxis": {
             "endlinecolor": "#2a3f5f",
             "gridcolor": "white",
             "linecolor": "white",
             "minorgridcolor": "white",
             "startlinecolor": "#2a3f5f"
            },
            "type": "carpet"
           }
          ],
          "choropleth": [
           {
            "colorbar": {
             "outlinewidth": 0,
             "ticks": ""
            },
            "type": "choropleth"
           }
          ],
          "contour": [
           {
            "colorbar": {
             "outlinewidth": 0,
             "ticks": ""
            },
            "colorscale": [
             [
              0,
              "#0d0887"
             ],
             [
              0.1111111111111111,
              "#46039f"
             ],
             [
              0.2222222222222222,
              "#7201a8"
             ],
             [
              0.3333333333333333,
              "#9c179e"
             ],
             [
              0.4444444444444444,
              "#bd3786"
             ],
             [
              0.5555555555555556,
              "#d8576b"
             ],
             [
              0.6666666666666666,
              "#ed7953"
             ],
             [
              0.7777777777777778,
              "#fb9f3a"
             ],
             [
              0.8888888888888888,
              "#fdca26"
             ],
             [
              1,
              "#f0f921"
             ]
            ],
            "type": "contour"
           }
          ],
          "contourcarpet": [
           {
            "colorbar": {
             "outlinewidth": 0,
             "ticks": ""
            },
            "type": "contourcarpet"
           }
          ],
          "heatmap": [
           {
            "colorbar": {
             "outlinewidth": 0,
             "ticks": ""
            },
            "colorscale": [
             [
              0,
              "#0d0887"
             ],
             [
              0.1111111111111111,
              "#46039f"
             ],
             [
              0.2222222222222222,
              "#7201a8"
             ],
             [
              0.3333333333333333,
              "#9c179e"
             ],
             [
              0.4444444444444444,
              "#bd3786"
             ],
             [
              0.5555555555555556,
              "#d8576b"
             ],
             [
              0.6666666666666666,
              "#ed7953"
             ],
             [
              0.7777777777777778,
              "#fb9f3a"
             ],
             [
              0.8888888888888888,
              "#fdca26"
             ],
             [
              1,
              "#f0f921"
             ]
            ],
            "type": "heatmap"
           }
          ],
          "heatmapgl": [
           {
            "colorbar": {
             "outlinewidth": 0,
             "ticks": ""
            },
            "colorscale": [
             [
              0,
              "#0d0887"
             ],
             [
              0.1111111111111111,
              "#46039f"
             ],
             [
              0.2222222222222222,
              "#7201a8"
             ],
             [
              0.3333333333333333,
              "#9c179e"
             ],
             [
              0.4444444444444444,
              "#bd3786"
             ],
             [
              0.5555555555555556,
              "#d8576b"
             ],
             [
              0.6666666666666666,
              "#ed7953"
             ],
             [
              0.7777777777777778,
              "#fb9f3a"
             ],
             [
              0.8888888888888888,
              "#fdca26"
             ],
             [
              1,
              "#f0f921"
             ]
            ],
            "type": "heatmapgl"
           }
          ],
          "histogram": [
           {
            "marker": {
             "pattern": {
              "fillmode": "overlay",
              "size": 10,
              "solidity": 0.2
             }
            },
            "type": "histogram"
           }
          ],
          "histogram2d": [
           {
            "colorbar": {
             "outlinewidth": 0,
             "ticks": ""
            },
            "colorscale": [
             [
              0,
              "#0d0887"
             ],
             [
              0.1111111111111111,
              "#46039f"
             ],
             [
              0.2222222222222222,
              "#7201a8"
             ],
             [
              0.3333333333333333,
              "#9c179e"
             ],
             [
              0.4444444444444444,
              "#bd3786"
             ],
             [
              0.5555555555555556,
              "#d8576b"
             ],
             [
              0.6666666666666666,
              "#ed7953"
             ],
             [
              0.7777777777777778,
              "#fb9f3a"
             ],
             [
              0.8888888888888888,
              "#fdca26"
             ],
             [
              1,
              "#f0f921"
             ]
            ],
            "type": "histogram2d"
           }
          ],
          "histogram2dcontour": [
           {
            "colorbar": {
             "outlinewidth": 0,
             "ticks": ""
            },
            "colorscale": [
             [
              0,
              "#0d0887"
             ],
             [
              0.1111111111111111,
              "#46039f"
             ],
             [
              0.2222222222222222,
              "#7201a8"
             ],
             [
              0.3333333333333333,
              "#9c179e"
             ],
             [
              0.4444444444444444,
              "#bd3786"
             ],
             [
              0.5555555555555556,
              "#d8576b"
             ],
             [
              0.6666666666666666,
              "#ed7953"
             ],
             [
              0.7777777777777778,
              "#fb9f3a"
             ],
             [
              0.8888888888888888,
              "#fdca26"
             ],
             [
              1,
              "#f0f921"
             ]
            ],
            "type": "histogram2dcontour"
           }
          ],
          "mesh3d": [
           {
            "colorbar": {
             "outlinewidth": 0,
             "ticks": ""
            },
            "type": "mesh3d"
           }
          ],
          "parcoords": [
           {
            "line": {
             "colorbar": {
              "outlinewidth": 0,
              "ticks": ""
             }
            },
            "type": "parcoords"
           }
          ],
          "pie": [
           {
            "automargin": true,
            "type": "pie"
           }
          ],
          "scatter": [
           {
            "fillpattern": {
             "fillmode": "overlay",
             "size": 10,
             "solidity": 0.2
            },
            "type": "scatter"
           }
          ],
          "scatter3d": [
           {
            "line": {
             "colorbar": {
              "outlinewidth": 0,
              "ticks": ""
             }
            },
            "marker": {
             "colorbar": {
              "outlinewidth": 0,
              "ticks": ""
             }
            },
            "type": "scatter3d"
           }
          ],
          "scattercarpet": [
           {
            "marker": {
             "colorbar": {
              "outlinewidth": 0,
              "ticks": ""
             }
            },
            "type": "scattercarpet"
           }
          ],
          "scattergeo": [
           {
            "marker": {
             "colorbar": {
              "outlinewidth": 0,
              "ticks": ""
             }
            },
            "type": "scattergeo"
           }
          ],
          "scattergl": [
           {
            "marker": {
             "colorbar": {
              "outlinewidth": 0,
              "ticks": ""
             }
            },
            "type": "scattergl"
           }
          ],
          "scattermapbox": [
           {
            "marker": {
             "colorbar": {
              "outlinewidth": 0,
              "ticks": ""
             }
            },
            "type": "scattermapbox"
           }
          ],
          "scatterpolar": [
           {
            "marker": {
             "colorbar": {
              "outlinewidth": 0,
              "ticks": ""
             }
            },
            "type": "scatterpolar"
           }
          ],
          "scatterpolargl": [
           {
            "marker": {
             "colorbar": {
              "outlinewidth": 0,
              "ticks": ""
             }
            },
            "type": "scatterpolargl"
           }
          ],
          "scatterternary": [
           {
            "marker": {
             "colorbar": {
              "outlinewidth": 0,
              "ticks": ""
             }
            },
            "type": "scatterternary"
           }
          ],
          "surface": [
           {
            "colorbar": {
             "outlinewidth": 0,
             "ticks": ""
            },
            "colorscale": [
             [
              0,
              "#0d0887"
             ],
             [
              0.1111111111111111,
              "#46039f"
             ],
             [
              0.2222222222222222,
              "#7201a8"
             ],
             [
              0.3333333333333333,
              "#9c179e"
             ],
             [
              0.4444444444444444,
              "#bd3786"
             ],
             [
              0.5555555555555556,
              "#d8576b"
             ],
             [
              0.6666666666666666,
              "#ed7953"
             ],
             [
              0.7777777777777778,
              "#fb9f3a"
             ],
             [
              0.8888888888888888,
              "#fdca26"
             ],
             [
              1,
              "#f0f921"
             ]
            ],
            "type": "surface"
           }
          ],
          "table": [
           {
            "cells": {
             "fill": {
              "color": "#EBF0F8"
             },
             "line": {
              "color": "white"
             }
            },
            "header": {
             "fill": {
              "color": "#C8D4E3"
             },
             "line": {
              "color": "white"
             }
            },
            "type": "table"
           }
          ]
         },
         "layout": {
          "annotationdefaults": {
           "arrowcolor": "#2a3f5f",
           "arrowhead": 0,
           "arrowwidth": 1
          },
          "autotypenumbers": "strict",
          "coloraxis": {
           "colorbar": {
            "outlinewidth": 0,
            "ticks": ""
           }
          },
          "colorscale": {
           "diverging": [
            [
             0,
             "#8e0152"
            ],
            [
             0.1,
             "#c51b7d"
            ],
            [
             0.2,
             "#de77ae"
            ],
            [
             0.3,
             "#f1b6da"
            ],
            [
             0.4,
             "#fde0ef"
            ],
            [
             0.5,
             "#f7f7f7"
            ],
            [
             0.6,
             "#e6f5d0"
            ],
            [
             0.7,
             "#b8e186"
            ],
            [
             0.8,
             "#7fbc41"
            ],
            [
             0.9,
             "#4d9221"
            ],
            [
             1,
             "#276419"
            ]
           ],
           "sequential": [
            [
             0,
             "#0d0887"
            ],
            [
             0.1111111111111111,
             "#46039f"
            ],
            [
             0.2222222222222222,
             "#7201a8"
            ],
            [
             0.3333333333333333,
             "#9c179e"
            ],
            [
             0.4444444444444444,
             "#bd3786"
            ],
            [
             0.5555555555555556,
             "#d8576b"
            ],
            [
             0.6666666666666666,
             "#ed7953"
            ],
            [
             0.7777777777777778,
             "#fb9f3a"
            ],
            [
             0.8888888888888888,
             "#fdca26"
            ],
            [
             1,
             "#f0f921"
            ]
           ],
           "sequentialminus": [
            [
             0,
             "#0d0887"
            ],
            [
             0.1111111111111111,
             "#46039f"
            ],
            [
             0.2222222222222222,
             "#7201a8"
            ],
            [
             0.3333333333333333,
             "#9c179e"
            ],
            [
             0.4444444444444444,
             "#bd3786"
            ],
            [
             0.5555555555555556,
             "#d8576b"
            ],
            [
             0.6666666666666666,
             "#ed7953"
            ],
            [
             0.7777777777777778,
             "#fb9f3a"
            ],
            [
             0.8888888888888888,
             "#fdca26"
            ],
            [
             1,
             "#f0f921"
            ]
           ]
          },
          "colorway": [
           "#636efa",
           "#EF553B",
           "#00cc96",
           "#ab63fa",
           "#FFA15A",
           "#19d3f3",
           "#FF6692",
           "#B6E880",
           "#FF97FF",
           "#FECB52"
          ],
          "font": {
           "color": "#2a3f5f"
          },
          "geo": {
           "bgcolor": "white",
           "lakecolor": "white",
           "landcolor": "#E5ECF6",
           "showlakes": true,
           "showland": true,
           "subunitcolor": "white"
          },
          "hoverlabel": {
           "align": "left"
          },
          "hovermode": "closest",
          "mapbox": {
           "style": "light"
          },
          "paper_bgcolor": "white",
          "plot_bgcolor": "#E5ECF6",
          "polar": {
           "angularaxis": {
            "gridcolor": "white",
            "linecolor": "white",
            "ticks": ""
           },
           "bgcolor": "#E5ECF6",
           "radialaxis": {
            "gridcolor": "white",
            "linecolor": "white",
            "ticks": ""
           }
          },
          "scene": {
           "xaxis": {
            "backgroundcolor": "#E5ECF6",
            "gridcolor": "white",
            "gridwidth": 2,
            "linecolor": "white",
            "showbackground": true,
            "ticks": "",
            "zerolinecolor": "white"
           },
           "yaxis": {
            "backgroundcolor": "#E5ECF6",
            "gridcolor": "white",
            "gridwidth": 2,
            "linecolor": "white",
            "showbackground": true,
            "ticks": "",
            "zerolinecolor": "white"
           },
           "zaxis": {
            "backgroundcolor": "#E5ECF6",
            "gridcolor": "white",
            "gridwidth": 2,
            "linecolor": "white",
            "showbackground": true,
            "ticks": "",
            "zerolinecolor": "white"
           }
          },
          "shapedefaults": {
           "line": {
            "color": "#2a3f5f"
           }
          },
          "ternary": {
           "aaxis": {
            "gridcolor": "white",
            "linecolor": "white",
            "ticks": ""
           },
           "baxis": {
            "gridcolor": "white",
            "linecolor": "white",
            "ticks": ""
           },
           "bgcolor": "#E5ECF6",
           "caxis": {
            "gridcolor": "white",
            "linecolor": "white",
            "ticks": ""
           }
          },
          "title": {
           "x": 0.05
          },
          "xaxis": {
           "automargin": true,
           "gridcolor": "white",
           "linecolor": "white",
           "ticks": "",
           "title": {
            "standoff": 15
           },
           "zerolinecolor": "white",
           "zerolinewidth": 2
          },
          "yaxis": {
           "automargin": true,
           "gridcolor": "white",
           "linecolor": "white",
           "ticks": "",
           "title": {
            "standoff": 15
           },
           "zerolinecolor": "white",
           "zerolinewidth": 2
          }
         }
        },
        "title": {
         "text": "Means of PCA Groups"
        },
        "xaxis": {
         "anchor": "y",
         "domain": [
          0,
          1
         ],
         "title": {
          "text": "PC1"
         }
        },
        "yaxis": {
         "anchor": "x",
         "domain": [
          0,
          1
         ],
         "title": {
          "text": "PC2"
         }
        }
       }
      },
      "text/html": [
       "<div>                            <div id=\"c35a061b-aa40-4048-ac6a-5c1c62db2ea8\" class=\"plotly-graph-div\" style=\"height:525px; width:100%;\"></div>            <script type=\"text/javascript\">                require([\"plotly\"], function(Plotly) {                    window.PLOTLYENV=window.PLOTLYENV || {};                                    if (document.getElementById(\"c35a061b-aa40-4048-ac6a-5c1c62db2ea8\")) {                    Plotly.newPlot(                        \"c35a061b-aa40-4048-ac6a-5c1c62db2ea8\",                        [{\"hovertemplate\":\"model=phi-3-mini-4k-instruct\\u003cbr\\u003enewline_num=1.0\\u003cbr\\u003ePC1=%{x}\\u003cbr\\u003ePC2=%{y}\\u003cextra\\u003e\\u003c\\u002fextra\\u003e\",\"legendgroup\":\"phi-3-mini-4k-instruct, 1.0\",\"marker\":{\"color\":\"#636efa\",\"symbol\":\"circle\"},\"mode\":\"markers\",\"name\":\"phi-3-mini-4k-instruct, 1.0\",\"orientation\":\"v\",\"showlegend\":true,\"x\":[-0.25741493701934814],\"xaxis\":\"x\",\"y\":[-0.19739708304405212],\"yaxis\":\"y\",\"type\":\"scatter\"},{\"hovertemplate\":\"model=phi-3-mini-4k-instruct\\u003cbr\\u003enewline_num=2.0\\u003cbr\\u003ePC1=%{x}\\u003cbr\\u003ePC2=%{y}\\u003cextra\\u003e\\u003c\\u002fextra\\u003e\",\"legendgroup\":\"phi-3-mini-4k-instruct, 2.0\",\"marker\":{\"color\":\"#636efa\",\"symbol\":\"square\"},\"mode\":\"markers\",\"name\":\"phi-3-mini-4k-instruct, 2.0\",\"orientation\":\"v\",\"showlegend\":true,\"x\":[0.06450539082288742],\"xaxis\":\"x\",\"y\":[-0.08474115282297134],\"yaxis\":\"y\",\"type\":\"scatter\"},{\"marker\":{\"color\":\"green\",\"size\":10},\"mode\":\"markers\",\"name\":\"Baseline Generation Mean\",\"x\":[0.592629611492157],\"y\":[0.01856350339949131],\"type\":\"scatter\"},{\"marker\":{\"color\":\"yellow\",\"size\":8},\"mode\":\"markers\",\"name\":\"Untransferred Newline Prompt Generation Mean\",\"x\":[-0.23844192922115326],\"y\":[0.07535970956087112],\"type\":\"scatter\"}],                        {\"template\":{\"data\":{\"histogram2dcontour\":[{\"type\":\"histogram2dcontour\",\"colorbar\":{\"outlinewidth\":0,\"ticks\":\"\"},\"colorscale\":[[0.0,\"#0d0887\"],[0.1111111111111111,\"#46039f\"],[0.2222222222222222,\"#7201a8\"],[0.3333333333333333,\"#9c179e\"],[0.4444444444444444,\"#bd3786\"],[0.5555555555555556,\"#d8576b\"],[0.6666666666666666,\"#ed7953\"],[0.7777777777777778,\"#fb9f3a\"],[0.8888888888888888,\"#fdca26\"],[1.0,\"#f0f921\"]]}],\"choropleth\":[{\"type\":\"choropleth\",\"colorbar\":{\"outlinewidth\":0,\"ticks\":\"\"}}],\"histogram2d\":[{\"type\":\"histogram2d\",\"colorbar\":{\"outlinewidth\":0,\"ticks\":\"\"},\"colorscale\":[[0.0,\"#0d0887\"],[0.1111111111111111,\"#46039f\"],[0.2222222222222222,\"#7201a8\"],[0.3333333333333333,\"#9c179e\"],[0.4444444444444444,\"#bd3786\"],[0.5555555555555556,\"#d8576b\"],[0.6666666666666666,\"#ed7953\"],[0.7777777777777778,\"#fb9f3a\"],[0.8888888888888888,\"#fdca26\"],[1.0,\"#f0f921\"]]}],\"heatmap\":[{\"type\":\"heatmap\",\"colorbar\":{\"outlinewidth\":0,\"ticks\":\"\"},\"colorscale\":[[0.0,\"#0d0887\"],[0.1111111111111111,\"#46039f\"],[0.2222222222222222,\"#7201a8\"],[0.3333333333333333,\"#9c179e\"],[0.4444444444444444,\"#bd3786\"],[0.5555555555555556,\"#d8576b\"],[0.6666666666666666,\"#ed7953\"],[0.7777777777777778,\"#fb9f3a\"],[0.8888888888888888,\"#fdca26\"],[1.0,\"#f0f921\"]]}],\"heatmapgl\":[{\"type\":\"heatmapgl\",\"colorbar\":{\"outlinewidth\":0,\"ticks\":\"\"},\"colorscale\":[[0.0,\"#0d0887\"],[0.1111111111111111,\"#46039f\"],[0.2222222222222222,\"#7201a8\"],[0.3333333333333333,\"#9c179e\"],[0.4444444444444444,\"#bd3786\"],[0.5555555555555556,\"#d8576b\"],[0.6666666666666666,\"#ed7953\"],[0.7777777777777778,\"#fb9f3a\"],[0.8888888888888888,\"#fdca26\"],[1.0,\"#f0f921\"]]}],\"contourcarpet\":[{\"type\":\"contourcarpet\",\"colorbar\":{\"outlinewidth\":0,\"ticks\":\"\"}}],\"contour\":[{\"type\":\"contour\",\"colorbar\":{\"outlinewidth\":0,\"ticks\":\"\"},\"colorscale\":[[0.0,\"#0d0887\"],[0.1111111111111111,\"#46039f\"],[0.2222222222222222,\"#7201a8\"],[0.3333333333333333,\"#9c179e\"],[0.4444444444444444,\"#bd3786\"],[0.5555555555555556,\"#d8576b\"],[0.6666666666666666,\"#ed7953\"],[0.7777777777777778,\"#fb9f3a\"],[0.8888888888888888,\"#fdca26\"],[1.0,\"#f0f921\"]]}],\"surface\":[{\"type\":\"surface\",\"colorbar\":{\"outlinewidth\":0,\"ticks\":\"\"},\"colorscale\":[[0.0,\"#0d0887\"],[0.1111111111111111,\"#46039f\"],[0.2222222222222222,\"#7201a8\"],[0.3333333333333333,\"#9c179e\"],[0.4444444444444444,\"#bd3786\"],[0.5555555555555556,\"#d8576b\"],[0.6666666666666666,\"#ed7953\"],[0.7777777777777778,\"#fb9f3a\"],[0.8888888888888888,\"#fdca26\"],[1.0,\"#f0f921\"]]}],\"mesh3d\":[{\"type\":\"mesh3d\",\"colorbar\":{\"outlinewidth\":0,\"ticks\":\"\"}}],\"scatter\":[{\"fillpattern\":{\"fillmode\":\"overlay\",\"size\":10,\"solidity\":0.2},\"type\":\"scatter\"}],\"parcoords\":[{\"type\":\"parcoords\",\"line\":{\"colorbar\":{\"outlinewidth\":0,\"ticks\":\"\"}}}],\"scatterpolargl\":[{\"type\":\"scatterpolargl\",\"marker\":{\"colorbar\":{\"outlinewidth\":0,\"ticks\":\"\"}}}],\"bar\":[{\"error_x\":{\"color\":\"#2a3f5f\"},\"error_y\":{\"color\":\"#2a3f5f\"},\"marker\":{\"line\":{\"color\":\"#E5ECF6\",\"width\":0.5},\"pattern\":{\"fillmode\":\"overlay\",\"size\":10,\"solidity\":0.2}},\"type\":\"bar\"}],\"scattergeo\":[{\"type\":\"scattergeo\",\"marker\":{\"colorbar\":{\"outlinewidth\":0,\"ticks\":\"\"}}}],\"scatterpolar\":[{\"type\":\"scatterpolar\",\"marker\":{\"colorbar\":{\"outlinewidth\":0,\"ticks\":\"\"}}}],\"histogram\":[{\"marker\":{\"pattern\":{\"fillmode\":\"overlay\",\"size\":10,\"solidity\":0.2}},\"type\":\"histogram\"}],\"scattergl\":[{\"type\":\"scattergl\",\"marker\":{\"colorbar\":{\"outlinewidth\":0,\"ticks\":\"\"}}}],\"scatter3d\":[{\"type\":\"scatter3d\",\"line\":{\"colorbar\":{\"outlinewidth\":0,\"ticks\":\"\"}},\"marker\":{\"colorbar\":{\"outlinewidth\":0,\"ticks\":\"\"}}}],\"scattermapbox\":[{\"type\":\"scattermapbox\",\"marker\":{\"colorbar\":{\"outlinewidth\":0,\"ticks\":\"\"}}}],\"scatterternary\":[{\"type\":\"scatterternary\",\"marker\":{\"colorbar\":{\"outlinewidth\":0,\"ticks\":\"\"}}}],\"scattercarpet\":[{\"type\":\"scattercarpet\",\"marker\":{\"colorbar\":{\"outlinewidth\":0,\"ticks\":\"\"}}}],\"carpet\":[{\"aaxis\":{\"endlinecolor\":\"#2a3f5f\",\"gridcolor\":\"white\",\"linecolor\":\"white\",\"minorgridcolor\":\"white\",\"startlinecolor\":\"#2a3f5f\"},\"baxis\":{\"endlinecolor\":\"#2a3f5f\",\"gridcolor\":\"white\",\"linecolor\":\"white\",\"minorgridcolor\":\"white\",\"startlinecolor\":\"#2a3f5f\"},\"type\":\"carpet\"}],\"table\":[{\"cells\":{\"fill\":{\"color\":\"#EBF0F8\"},\"line\":{\"color\":\"white\"}},\"header\":{\"fill\":{\"color\":\"#C8D4E3\"},\"line\":{\"color\":\"white\"}},\"type\":\"table\"}],\"barpolar\":[{\"marker\":{\"line\":{\"color\":\"#E5ECF6\",\"width\":0.5},\"pattern\":{\"fillmode\":\"overlay\",\"size\":10,\"solidity\":0.2}},\"type\":\"barpolar\"}],\"pie\":[{\"automargin\":true,\"type\":\"pie\"}]},\"layout\":{\"autotypenumbers\":\"strict\",\"colorway\":[\"#636efa\",\"#EF553B\",\"#00cc96\",\"#ab63fa\",\"#FFA15A\",\"#19d3f3\",\"#FF6692\",\"#B6E880\",\"#FF97FF\",\"#FECB52\"],\"font\":{\"color\":\"#2a3f5f\"},\"hovermode\":\"closest\",\"hoverlabel\":{\"align\":\"left\"},\"paper_bgcolor\":\"white\",\"plot_bgcolor\":\"#E5ECF6\",\"polar\":{\"bgcolor\":\"#E5ECF6\",\"angularaxis\":{\"gridcolor\":\"white\",\"linecolor\":\"white\",\"ticks\":\"\"},\"radialaxis\":{\"gridcolor\":\"white\",\"linecolor\":\"white\",\"ticks\":\"\"}},\"ternary\":{\"bgcolor\":\"#E5ECF6\",\"aaxis\":{\"gridcolor\":\"white\",\"linecolor\":\"white\",\"ticks\":\"\"},\"baxis\":{\"gridcolor\":\"white\",\"linecolor\":\"white\",\"ticks\":\"\"},\"caxis\":{\"gridcolor\":\"white\",\"linecolor\":\"white\",\"ticks\":\"\"}},\"coloraxis\":{\"colorbar\":{\"outlinewidth\":0,\"ticks\":\"\"}},\"colorscale\":{\"sequential\":[[0.0,\"#0d0887\"],[0.1111111111111111,\"#46039f\"],[0.2222222222222222,\"#7201a8\"],[0.3333333333333333,\"#9c179e\"],[0.4444444444444444,\"#bd3786\"],[0.5555555555555556,\"#d8576b\"],[0.6666666666666666,\"#ed7953\"],[0.7777777777777778,\"#fb9f3a\"],[0.8888888888888888,\"#fdca26\"],[1.0,\"#f0f921\"]],\"sequentialminus\":[[0.0,\"#0d0887\"],[0.1111111111111111,\"#46039f\"],[0.2222222222222222,\"#7201a8\"],[0.3333333333333333,\"#9c179e\"],[0.4444444444444444,\"#bd3786\"],[0.5555555555555556,\"#d8576b\"],[0.6666666666666666,\"#ed7953\"],[0.7777777777777778,\"#fb9f3a\"],[0.8888888888888888,\"#fdca26\"],[1.0,\"#f0f921\"]],\"diverging\":[[0,\"#8e0152\"],[0.1,\"#c51b7d\"],[0.2,\"#de77ae\"],[0.3,\"#f1b6da\"],[0.4,\"#fde0ef\"],[0.5,\"#f7f7f7\"],[0.6,\"#e6f5d0\"],[0.7,\"#b8e186\"],[0.8,\"#7fbc41\"],[0.9,\"#4d9221\"],[1,\"#276419\"]]},\"xaxis\":{\"gridcolor\":\"white\",\"linecolor\":\"white\",\"ticks\":\"\",\"title\":{\"standoff\":15},\"zerolinecolor\":\"white\",\"automargin\":true,\"zerolinewidth\":2},\"yaxis\":{\"gridcolor\":\"white\",\"linecolor\":\"white\",\"ticks\":\"\",\"title\":{\"standoff\":15},\"zerolinecolor\":\"white\",\"automargin\":true,\"zerolinewidth\":2},\"scene\":{\"xaxis\":{\"backgroundcolor\":\"#E5ECF6\",\"gridcolor\":\"white\",\"linecolor\":\"white\",\"showbackground\":true,\"ticks\":\"\",\"zerolinecolor\":\"white\",\"gridwidth\":2},\"yaxis\":{\"backgroundcolor\":\"#E5ECF6\",\"gridcolor\":\"white\",\"linecolor\":\"white\",\"showbackground\":true,\"ticks\":\"\",\"zerolinecolor\":\"white\",\"gridwidth\":2},\"zaxis\":{\"backgroundcolor\":\"#E5ECF6\",\"gridcolor\":\"white\",\"linecolor\":\"white\",\"showbackground\":true,\"ticks\":\"\",\"zerolinecolor\":\"white\",\"gridwidth\":2}},\"shapedefaults\":{\"line\":{\"color\":\"#2a3f5f\"}},\"annotationdefaults\":{\"arrowcolor\":\"#2a3f5f\",\"arrowhead\":0,\"arrowwidth\":1},\"geo\":{\"bgcolor\":\"white\",\"landcolor\":\"#E5ECF6\",\"subunitcolor\":\"white\",\"showland\":true,\"showlakes\":true,\"lakecolor\":\"white\"},\"title\":{\"x\":0.05},\"mapbox\":{\"style\":\"light\"}}},\"xaxis\":{\"anchor\":\"y\",\"domain\":[0.0,1.0],\"title\":{\"text\":\"PC1\"}},\"yaxis\":{\"anchor\":\"x\",\"domain\":[0.0,1.0],\"title\":{\"text\":\"PC2\"}},\"legend\":{\"title\":{\"text\":\"model, newline_num\"},\"tracegroupgap\":0},\"title\":{\"text\":\"Means of PCA Groups\"},\"coloraxis\":{\"colorbar\":{\"yanchor\":\"top\",\"y\":1,\"x\":100,\"xref\":\"container\"}}},                        {\"responsive\": true}                    ).then(function(){\n",
       "                            \n",
       "var gd = document.getElementById('c35a061b-aa40-4048-ac6a-5c1c62db2ea8');\n",
       "var x = new MutationObserver(function (mutations, observer) {{\n",
       "        var display = window.getComputedStyle(gd).display;\n",
       "        if (!display || display === 'none') {{\n",
       "            console.log([gd, 'removed!']);\n",
       "            Plotly.purge(gd);\n",
       "            observer.disconnect();\n",
       "        }}\n",
       "}});\n",
       "\n",
       "// Listen for the removal of the full notebook cells\n",
       "var notebookContainer = gd.closest('#notebook-container');\n",
       "if (notebookContainer) {{\n",
       "    x.observe(notebookContainer, {childList: true});\n",
       "}}\n",
       "\n",
       "// Listen for the clearing of the current output cell\n",
       "var outputEl = gd.closest('.output');\n",
       "if (outputEl) {{\n",
       "    x.observe(outputEl, {childList: true});\n",
       "}}\n",
       "\n",
       "                        })                };                });            </script>        </div>"
      ]
     },
     "metadata": {},
     "output_type": "display_data"
    }
   ],
   "source": [
    "pca_df = pd.DataFrame(embeddings_reduced, columns=['PC1', 'PC2'])\n",
    "pca_df['model'] = results_df['model']\n",
    "pca_df['newline_num'] = results_df['newline_num']\n",
    "\n",
    "mean_pca_df = pca_df.groupby(['model', 'newline_num']).mean().reset_index()\n",
    "print(mean_pca_df.head())\n",
    "\n",
    "# fig.add_trace(px.scatter(mean_pca_df, x='PC1', y='PC2', color='temperature', symbol='layers_string', \n",
    "#                          title='Means of PCA Groups').data[0]):\n",
    "mean_pca_df['type'] = 'Mean'\n",
    "pca_df['type'] = 'Original'\n",
    "combined_df = pd.concat([pca_df, mean_pca_df], ignore_index=True)\n",
    "# fig = px.scatter(combined_df, x='PC1', y='PC2', color='temperature', symbol='layers_string', title='PCA of Sentence Embeddings')\n",
    "\n",
    "# Plot mean points\n",
    "mean_fig = px.scatter(mean_pca_df, x='PC1', y='PC2', color='model', symbol='newline_num', title='Means of PCA Groups', symbol_sequence = ['circle', 'square', 'diamond', 'cross', 'x', 'triangle-up', 'pentagon', 'hexagon', 'octagon', 'star'])\n",
    "    \n",
    "mean_fig.add_trace(go.Scatter(x=[baseline_mean_x], y=[baseline_mean_y], mode='markers', marker=dict(color='green', size=10), name='Baseline Generation Mean'))\n",
    "\n",
    "mean_fig.add_trace(go.Scatter(x=[neutral_mean_x], y=[neutral_mean_y], mode='markers', marker=dict(color='yellow', size=8), name='Untransferred Newline Prompt Generation Mean'))\n",
    "fig.data=[fig.data[3], fig.data[2], fig.data[1], fig.data[0]]\n",
    "\n",
    "mean_fig.update_layout(coloraxis_colorbar=dict(yanchor=\"top\", y=1, x=100, xref=\"container\"))\n",
    "\n",
    "\n",
    "mean_fig.show()"
   ]
  }
 ],
 "metadata": {
  "kernelspec": {
   "display_name": ".venv",
   "language": "python",
   "name": "python3"
  },
  "language_info": {
   "codemirror_mode": {
    "name": "ipython",
    "version": 3
   },
   "file_extension": ".py",
   "mimetype": "text/x-python",
   "name": "python",
   "nbconvert_exporter": "python",
   "pygments_lexer": "ipython3",
   "version": "3.10.14"
  }
 },
 "nbformat": 4,
 "nbformat_minor": 2
}
