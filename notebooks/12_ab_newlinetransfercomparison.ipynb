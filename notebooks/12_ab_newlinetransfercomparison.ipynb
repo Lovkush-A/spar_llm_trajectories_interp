{
 "cells": [
  {
   "cell_type": "code",
   "execution_count": 2,
   "metadata": {},
   "outputs": [
    {
     "name": "stderr",
     "output_type": "stream",
     "text": [
      "/workspace/SPAR/interp-ab/.venv/lib/python3.10/site-packages/tqdm/auto.py:21: TqdmWarning: IProgress not found. Please update jupyter and ipywidgets. See https://ipywidgets.readthedocs.io/en/stable/user_install.html\n",
      "  from .autonotebook import tqdm as notebook_tqdm\n"
     ]
    }
   ],
   "source": [
    "import circuitsvis as cv\n",
    "import numpy as np\n",
    "import torch\n",
    "from taker import Model\n",
    "from taker.hooks import HookConfig\n",
    "from datetime import datetime\n",
    "import json\n",
    "from os import listdir\n",
    "from os.path import exists\n",
    "\n",
    "import numpy as np\n",
    "import pandas as pd\n",
    "from sentence_transformers import SentenceTransformer\n",
    "from sklearn.decomposition import PCA\n",
    "import torch"
   ]
  },
  {
   "cell_type": "code",
   "execution_count": 3,
   "metadata": {},
   "outputs": [],
   "source": [
    "current_time = datetime.now().strftime(\"%Y-%m-%d_%H-%M-%S\")\n",
    "filename = f\"../results/{current_time}_agnes_story_newlinecomparison.jsonl\""
   ]
  },
  {
   "cell_type": "code",
   "execution_count": 4,
   "metadata": {},
   "outputs": [
    {
     "name": "stderr",
     "output_type": "stream",
     "text": [
      "Special tokens have been added in the vocabulary, make sure the associated word embeddings are fine-tuned or trained.\n",
      "Loading checkpoint shards: 100%|██████████| 2/2 [00:03<00:00,  1.51s/it]\n",
      "We detected that you are passing `past_key_values` as a tuple and this is deprecated and will be removed in v4.43. Please use an appropriate `Cache` class (https://huggingface.co/docs/transformers/v4.41.3/en/internal/generation_utils#transformers.Cache)\n",
      "You are not running the flash-attention implementation, expect numerical differences.\n"
     ]
    },
    {
     "name": "stdout",
     "output_type": "stream",
     "text": [
      "Loaded model 'microsoft/phi-3-mini-4k-instruct' with int4:\n",
      "- Added 512 hooks across 32 layers\n"
     ]
    },
    {
     "name": "stderr",
     "output_type": "stream",
     "text": [
      "/workspace/SPAR/interp-ab/.venv/lib/python3.10/site-packages/bitsandbytes/nn/modules.py:426: UserWarning: Input type into Linear4bit is torch.float16, but bnb_4bit_compute_dtype=torch.float32 (default). This will lead to slow inference or training speed.\n",
      "  warnings.warn(\n"
     ]
    },
    {
     "name": "stdout",
     "output_type": "stream",
     "text": [
      " - n_layers : 32\n",
      " - d_model  : 3072\n",
      " - n_heads  : 32\n",
      " - d_head   : 96\n",
      " - d_mlp    : 8192\n"
     ]
    }
   ],
   "source": [
    "m = Model(\"microsoft/phi-3-mini-4k-instruct\", dtype=\"int4\")\n",
    "m.show_details()"
   ]
  },
  {
   "cell_type": "code",
   "execution_count": 5,
   "metadata": {},
   "outputs": [],
   "source": [
    "prompt    = \"\"\"Write a short blog post about a recipe and the inspiration behind it.\n",
    " Do not include a title.\n",
    " Only reveal the dish after the story.\n",
    " Start with short story and then move to the recipe.\n",
    " To re-iterate, do not include a title.\"\"\"\n",
    "# info_gen = m.generate(info_prompt, temperature=0.3, num=300)\n",
    "\n",
    "#DOUBLE NEWLINE\n",
    "info_gen = \"\"\"\n",
    "\\n Once upon a time, in a quaint little village nestled between rolling hills and verdant fields, there lived an elderly woman named Agnes. Agnes was known for her warm smile and her legendary Sunday dinners that brought the entire neighborhood together. Her recipes were family heirlooms, passed down through generations, with each family adding their own touch to the final dish.\n",
    "\n",
    "One crisp autumn evening, Agnes was reminiscing about her childhood, and how her grandmother used to gather everyone around the dinner table, sharing stories and laughter. These were the moments that shaped her, the memories that she passed on to her own children and grandchildren.\n",
    "\n",
    "Inspired by her grandmother's legacy, Agnes decided to create a new dish that would encapsulate the essence of those cherished gatherings. She wanted something that was comforting and nourishing, a dish that could be prepared with love and shared with others. After days of experimentation, she finally created a recipe that she believed truly captured the spirit of her family's Sunday dinners.\\n\\n\"\"\"\n",
    "info_prompt = prompt+info_gen"
   ]
  },
  {
   "cell_type": "code",
   "execution_count": 6,
   "metadata": {},
   "outputs": [],
   "source": [
    "import sys, os\n",
    "class HiddenPrints:\n",
    "    def __enter__(self):\n",
    "        self._original_stdout = sys.stdout\n",
    "        sys.stdout = open(os.devnull, 'w')\n",
    "\n",
    "    def __exit__(self, exc_type, exc_val, exc_tb):\n",
    "        sys.stdout.close()\n",
    "        sys.stdout = self._original_stdout"
   ]
  },
  {
   "cell_type": "code",
   "execution_count": 7,
   "metadata": {},
   "outputs": [],
   "source": [
    "# if not exists(filename):\n",
    "#     with open(filename, \"w\") as f:\n",
    "#         pass\n",
    "\n",
    "# neutral_prompt = \"\\n\"\n",
    "# max_new_tokens = 100\n",
    "# temperature = 0.3\n",
    "\n",
    "# acts = m.get_midlayer_activations(info_prompt)\n",
    "# orig_token_index = m.get_ids(info_prompt).shape[1] - 1\n",
    "# new_token_index  = m.get_ids(neutral_prompt).shape[1] - 1        \n",
    "\n",
    "# [h.reset() for h in m.hooks.neuron_replace.values()] #RESET HOOKS BEFORE TRANSPLANTING NEXT SET OF ACTIVATIONS\n",
    "# for layer_index in range(0,32):\n",
    "#     m.hooks.neuron_replace[f\"layer_{layer_index}_mlp_pre_out\"].add_token(new_token_index, acts[\"mlp\"][0, layer_index, orig_token_index])\n",
    "#     m.hooks.neuron_replace[f\"layer_{layer_index}_attn_pre_out\"].add_token(new_token_index, acts[\"attn\"][0, layer_index, orig_token_index])\n",
    "# with HiddenPrints():\n",
    "#     for i in range(20):\n",
    "#         output = m.generate(neutral_prompt, max_new_tokens, temperature=temperature)\n",
    "        \n",
    "#         data = {\n",
    "#             \"temperature\": temperature,\n",
    "#             \"max_new_tokens\": max_new_tokens,\n",
    "#             \"model\": \"microsoft/phi-3-mini-4k-instruct\",\n",
    "#             \"transplant_layers\": (0,32),\n",
    "#             \"transferred_newline\": \"first\",\n",
    "#             \"orig_prompt\": info_prompt,\n",
    "#             \"transplant_prompt\": neutral_prompt,\n",
    "#             \"output\": output[1],\n",
    "#         }\n",
    "\n",
    "#         with open(filename, \"a\") as file:\n",
    "#             file.write(json.dumps(data) + \"\\n\")\n",
    "\n",
    "# [h.reset() for h in m.hooks.neuron_replace.values()] #RESET HOOKS BEFORE TRANSPLANTING NEXT SET OF ACTIVATIONS\n",
    "# for layer_index in range(0,32):\n",
    "#     m.hooks.neuron_replace[f\"layer_{layer_index}_mlp_pre_out\"].add_token(new_token_index, acts[\"mlp\"][0, layer_index, orig_token_index - 1])\n",
    "#     m.hooks.neuron_replace[f\"layer_{layer_index}_attn_pre_out\"].add_token(new_token_index, acts[\"attn\"][0, layer_index, orig_token_index - 1])\n",
    "# with HiddenPrints():\n",
    "#     for i in range(20):\n",
    "#         output = m.generate(neutral_prompt, max_new_tokens, temperature=temperature)\n",
    "        \n",
    "#         data = {\n",
    "#             \"temperature\": temperature,\n",
    "#             \"max_new_tokens\": max_new_tokens,\n",
    "#             \"model\": \"microsoft/phi-3-mini-4k-instruct\",\n",
    "#             \"transplant_layers\": (0,32),\n",
    "#             \"transferred_newline\": \"second\",\n",
    "#             \"orig_prompt\": info_prompt,\n",
    "#             \"transplant_prompt\": neutral_prompt,\n",
    "#             \"output\": output[1],\n",
    "#         }\n",
    "\n",
    "#         with open(filename, \"a\") as file:\n",
    "#             file.write(json.dumps(data) + \"\\n\")"
   ]
  },
  {
   "cell_type": "code",
   "execution_count": 18,
   "metadata": {},
   "outputs": [
    {
     "data": {
      "text/html": [
       "<div>\n",
       "<style scoped>\n",
       "    .dataframe tbody tr th:only-of-type {\n",
       "        vertical-align: middle;\n",
       "    }\n",
       "\n",
       "    .dataframe tbody tr th {\n",
       "        vertical-align: top;\n",
       "    }\n",
       "\n",
       "    .dataframe thead th {\n",
       "        text-align: right;\n",
       "    }\n",
       "</style>\n",
       "<table border=\"1\" class=\"dataframe\">\n",
       "  <thead>\n",
       "    <tr style=\"text-align: right;\">\n",
       "      <th></th>\n",
       "      <th>temperature</th>\n",
       "      <th>max_new_tokens</th>\n",
       "      <th>model</th>\n",
       "      <th>transplant_layers</th>\n",
       "      <th>transferred_newline</th>\n",
       "      <th>orig_prompt</th>\n",
       "      <th>transplant_prompt</th>\n",
       "      <th>output</th>\n",
       "    </tr>\n",
       "  </thead>\n",
       "  <tbody>\n",
       "    <tr>\n",
       "      <th>0</th>\n",
       "      <td>0.3</td>\n",
       "      <td>100</td>\n",
       "      <td>microsoft/phi-3-mini-4k-instruct</td>\n",
       "      <td>[0, 32]</td>\n",
       "      <td>last</td>\n",
       "      <td>Write a short blog post about a recipe and the...</td>\n",
       "      <td>\\n</td>\n",
       "      <td>Here's how you can write the code in Python:\\n...</td>\n",
       "    </tr>\n",
       "    <tr>\n",
       "      <th>1</th>\n",
       "      <td>0.3</td>\n",
       "      <td>100</td>\n",
       "      <td>microsoft/phi-3-mini-4k-instruct</td>\n",
       "      <td>[0, 32]</td>\n",
       "      <td>last</td>\n",
       "      <td>Write a short blog post about a recipe and the...</td>\n",
       "      <td>\\n</td>\n",
       "      <td>Ingredients:\\n- 1 cup of fresh spinach, washed...</td>\n",
       "    </tr>\n",
       "    <tr>\n",
       "      <th>2</th>\n",
       "      <td>0.3</td>\n",
       "      <td>100</td>\n",
       "      <td>microsoft/phi-3-mini-4k-instruct</td>\n",
       "      <td>[0, 32]</td>\n",
       "      <td>last</td>\n",
       "      <td>Write a short blog post about a recipe and the...</td>\n",
       "      <td>\\n</td>\n",
       "      <td>Now, let's move on to the solution.\\n\\n**Solut...</td>\n",
       "    </tr>\n",
       "    <tr>\n",
       "      <th>3</th>\n",
       "      <td>0.3</td>\n",
       "      <td>100</td>\n",
       "      <td>microsoft/phi-3-mini-4k-instruct</td>\n",
       "      <td>[0, 32]</td>\n",
       "      <td>last</td>\n",
       "      <td>Write a short blog post about a recipe and the...</td>\n",
       "      <td>\\n</td>\n",
       "      <td>Now, let's dive into the fascinating world of ...</td>\n",
       "    </tr>\n",
       "    <tr>\n",
       "      <th>4</th>\n",
       "      <td>0.3</td>\n",
       "      <td>100</td>\n",
       "      <td>microsoft/phi-3-mini-4k-instruct</td>\n",
       "      <td>[0, 32]</td>\n",
       "      <td>last</td>\n",
       "      <td>Write a short blog post about a recipe and the...</td>\n",
       "      <td>\\n</td>\n",
       "      <td>The recipe called for 2 cups of flour, 1 cup o...</td>\n",
       "    </tr>\n",
       "  </tbody>\n",
       "</table>\n",
       "</div>"
      ],
      "text/plain": [
       "   temperature  max_new_tokens                             model  \\\n",
       "0          0.3             100  microsoft/phi-3-mini-4k-instruct   \n",
       "1          0.3             100  microsoft/phi-3-mini-4k-instruct   \n",
       "2          0.3             100  microsoft/phi-3-mini-4k-instruct   \n",
       "3          0.3             100  microsoft/phi-3-mini-4k-instruct   \n",
       "4          0.3             100  microsoft/phi-3-mini-4k-instruct   \n",
       "\n",
       "  transplant_layers transferred_newline  \\\n",
       "0           [0, 32]                last   \n",
       "1           [0, 32]                last   \n",
       "2           [0, 32]                last   \n",
       "3           [0, 32]                last   \n",
       "4           [0, 32]                last   \n",
       "\n",
       "                                         orig_prompt transplant_prompt  \\\n",
       "0  Write a short blog post about a recipe and the...                \\n   \n",
       "1  Write a short blog post about a recipe and the...                \\n   \n",
       "2  Write a short blog post about a recipe and the...                \\n   \n",
       "3  Write a short blog post about a recipe and the...                \\n   \n",
       "4  Write a short blog post about a recipe and the...                \\n   \n",
       "\n",
       "                                              output  \n",
       "0  Here's how you can write the code in Python:\\n...  \n",
       "1  Ingredients:\\n- 1 cup of fresh spinach, washed...  \n",
       "2  Now, let's move on to the solution.\\n\\n**Solut...  \n",
       "3  Now, let's dive into the fascinating world of ...  \n",
       "4  The recipe called for 2 cups of flour, 1 cup o...  "
      ]
     },
     "execution_count": 18,
     "metadata": {},
     "output_type": "execute_result"
    }
   ],
   "source": [
    "\n",
    "filepath = \"../results/2024-08-15_15-39-11_agnes_story_newlinecomparison.jsonl\"\n",
    "results_df = pd.read_json(filepath, lines=True)\n",
    "baselinefile = \"../results/baseline_data_08-07.jsonl\"\n",
    "base_df = pd.read_json(baselinefile, lines=True)\n",
    "neutralfile = \"../results/neutral_baseline_data_08-14.jsonl\"\n",
    "neutral_df = pd.read_json(neutralfile, lines=True)\n",
    "results_df.head()"
   ]
  },
  {
   "cell_type": "code",
   "execution_count": 19,
   "metadata": {},
   "outputs": [
    {
     "name": "stdout",
     "output_type": "stream",
     "text": [
      "(190, 768)\n",
      "(40, 9)\n",
      "(50, 6)\n",
      "(100, 6)\n"
     ]
    }
   ],
   "source": [
    "# sentenceTransformer = SentenceTransformer(\"all-MiniLM-L6-v2\")\n",
    "sentenceTransformer = SentenceTransformer(\"all-mpnet-base-v2\")\n",
    "\n",
    "concat_embs = results_df[\"output\"].to_list() + base_df[\"output\"].to_list() + neutral_df[\"output\"].to_list()\n",
    "embeddings = sentenceTransformer.encode(concat_embs)\n",
    "print(embeddings.shape)\n",
    "neutral_start = results_df.shape[0]+base_df.shape[0]\n",
    "results_df[\"embeddings\"] = embeddings[:results_df.shape[0]].tolist()\n",
    "base_df[\"embeddings\"] = embeddings[results_df.shape[0]:neutral_start].tolist()\n",
    "neutral_df[\"embeddings\"] = embeddings[neutral_start:].tolist()\n",
    "results_df.head()\n",
    "print(results_df.shape)\n",
    "print(base_df.shape)\n",
    "print(neutral_df.shape)"
   ]
  },
  {
   "cell_type": "code",
   "execution_count": 20,
   "metadata": {},
   "outputs": [
    {
     "name": "stdout",
     "output_type": "stream",
     "text": [
      "(190, 2)\n"
     ]
    },
    {
     "data": {
      "application/vnd.plotly.v1+json": {
       "config": {
        "plotlyServerURL": "https://plot.ly"
       },
       "data": [
        {
         "marker": {
          "color": "turquoise",
          "size": 8
         },
         "mode": "markers",
         "name": "Untransferred Newline",
         "type": "scatter",
         "x": [
          -0.34592336416244507,
          -0.31094545125961304,
          -0.14889679849147797,
          -0.31652259826660156,
          -0.3220645785331726,
          -0.30397409200668335,
          -0.20193399488925934,
          -0.2820831537246704,
          -0.32718098163604736,
          -0.28718286752700806,
          -0.15715838968753815,
          -0.29501065611839294,
          -0.26838168501853943,
          -0.2871042490005493,
          -0.2506745457649231,
          -0.20725546777248383,
          -0.33321714401245117,
          -0.3627171218395233,
          -0.30615493655204773,
          -0.3574634790420532,
          -0.3675278127193451,
          -0.2623119354248047,
          -0.1014646366238594,
          -0.22439929842948914,
          -0.2751525342464447,
          -0.28411707282066345,
          -0.294317364692688,
          -0.22105099260807037,
          -0.22218339145183563,
          -0.3316310942173004,
          -0.27927491068840027,
          -0.2921191453933716,
          -0.19851703941822052,
          -0.2926829755306244,
          -0.38954421877861023,
          -0.2833128273487091,
          -0.19470398128032684,
          -0.1792306900024414,
          -0.24191445112228394,
          -0.09440147131681442,
          -0.3109947741031647,
          -0.3797820806503296,
          -0.15591683983802795,
          -0.2781625986099243,
          -0.18640576303005219,
          -0.30270886421203613,
          -0.471329003572464,
          -0.3839348256587982,
          -0.41944581270217896,
          -0.07324746251106262,
          -0.2364405393600464,
          -0.19881604611873627,
          -0.2288069725036621,
          -0.28130093216896057,
          -0.23394009470939636,
          -0.23588857054710388,
          -0.29691335558891296,
          -0.12342648953199387,
          -0.32751062512397766,
          -0.23016926646232605,
          -0.2470434159040451,
          -0.3456418812274933,
          -0.20752909779548645,
          0.06539953500032425,
          -0.10700071603059769,
          -0.20673641562461853,
          -0.12314514070749283,
          -0.25589022040367126,
          -0.32417425513267517,
          -0.3665306568145752,
          -0.32925400137901306,
          -0.17731796205043793,
          -0.3389790952205658,
          -0.23819617927074432,
          -0.25560006499290466,
          -0.18611058592796326,
          -0.1044779121875763,
          -0.3514970541000366,
          -0.1942654848098755,
          -0.1828167736530304,
          -0.1697058081626892,
          -0.3288715183734894,
          -0.17576679587364197,
          -0.2970048189163208,
          -0.3642341196537018,
          -0.3622327148914337,
          -0.15967093408107758,
          -0.32552915811538696,
          -0.3130298852920532,
          -0.2474198341369629,
          -0.34315282106399536,
          -0.20571477711200714,
          -0.346078097820282,
          -0.07742573320865631,
          -0.3478430509567261,
          -0.35856354236602783,
          -0.3057376444339752,
          0.001171291689388454,
          -0.3766419589519501,
          -0.26846787333488464
         ],
         "y": [
          -0.07500693202018738,
          -0.10769680142402649,
          -0.19624023139476776,
          0.22240382432937622,
          0.32162103056907654,
          -0.1844957023859024,
          -0.14165809750556946,
          -0.088495634496212,
          -0.04173014685511589,
          -0.21308478713035583,
          -0.2214047908782959,
          0.12111978977918625,
          0.17568153142929077,
          0.11038384586572647,
          0.19908267259597778,
          -0.21428395807743073,
          -0.021423881873488426,
          0.22146612405776978,
          -0.11337339133024216,
          0.2623327076435089,
          0.14864373207092285,
          0.09336907416582108,
          0.2678236663341522,
          0.18584291636943817,
          -0.20597442984580994,
          0.1845792979001999,
          0.17419864237308502,
          -0.08084537088871002,
          -0.02660023421049118,
          0.18376941978931427,
          -0.2461484670639038,
          0.3231150805950165,
          -0.01452161930501461,
          0.20298099517822266,
          -0.1609460711479187,
          0.048870597034692764,
          -0.12452895939350128,
          -0.11929870396852493,
          -0.0945480540394783,
          0.07506713271141052,
          0.046757105737924576,
          0.02852587029337883,
          0.16956813633441925,
          0.3120562732219696,
          0.3081333339214325,
          0.07892913371324539,
          -0.0244449395686388,
          0.19729770720005035,
          0.23053018748760223,
          0.2866417467594147,
          0.052714791148900986,
          -0.16384778916835785,
          0.23648998141288757,
          0.13636423647403717,
          0.24349096417427063,
          0.29967236518859863,
          0.21515990793704987,
          0.3478666841983795,
          0.12839087843894958,
          0.174167200922966,
          -0.06922964006662369,
          -0.12197379022836685,
          -0.15746495127677917,
          0.25020086765289307,
          0.23721280694007874,
          -0.10188847780227661,
          -0.17973485589027405,
          0.037407226860523224,
          -0.19647616147994995,
          0.13912445306777954,
          -0.136273592710495,
          -0.1937275528907776,
          0.08913002908229828,
          0.006810756865888834,
          0.11030569672584534,
          0.2469073385000229,
          0.25154581665992737,
          0.2417183667421341,
          -0.0952955037355423,
          -0.22415854036808014,
          -0.24674755334854126,
          0.08751450479030609,
          0.051082875579595566,
          0.11069049686193466,
          -0.07968596369028091,
          -0.0218727495521307,
          -0.039002347737550735,
          0.22453758120536804,
          0.024686822667717934,
          -0.09064050763845444,
          -0.02657318487763405,
          0.1097516417503357,
          0.02417292632162571,
          -0.01849551685154438,
          -0.0222501028329134,
          -0.07431324571371078,
          0.09176556766033173,
          -0.07173851877450943,
          0.24876023828983307,
          0.1766776293516159
         ]
        },
        {
         "hovertemplate": "Transferred Newline: %{customdata[0]}",
         "marker": {
          "color": "green",
          "size": 10
         },
         "mode": "markers",
         "name": "Baseline Generation",
         "type": "scatter",
         "x": [
          0.6015481352806091,
          0.5574989914894104,
          0.6085798740386963,
          0.6037136316299438,
          0.6593652963638306,
          0.4953656494617462,
          0.601047158241272,
          0.5304287672042847,
          0.5592586398124695,
          0.6630192399024963,
          0.43078768253326416,
          0.6335593461990356,
          0.5254428386688232,
          0.5448940992355347,
          0.5087723731994629,
          0.3313711881637573,
          0.5734114050865173,
          0.5885477662086487,
          0.5710381865501404,
          0.6506216526031494,
          0.6219694018363953,
          0.6645946502685547,
          0.4799678921699524,
          0.5595373511314392,
          0.6460449695587158,
          0.6728804111480713,
          0.5906382203102112,
          0.4615987539291382,
          0.6115238070487976,
          0.3795567452907562,
          0.6089258790016174,
          0.6119498610496521,
          0.6389954686164856,
          0.5856276154518127,
          0.5625070929527283,
          0.6754550337791443,
          0.5785537362098694,
          0.5993586182594299,
          0.5953094959259033,
          0.4107010066509247,
          0.6310398578643799,
          0.610007643699646,
          0.5921149849891663,
          0.6170675158500671,
          0.6524536609649658,
          0.6010115742683411,
          0.6600760221481323,
          0.6260290741920471,
          0.505709707736969,
          0.6441645622253418
         ],
         "y": [
          0.07523424923419952,
          -0.10445468872785568,
          0.25009578466415405,
          0.27064627408981323,
          0.07701244950294495,
          -0.25418323278427124,
          -0.019370129331946373,
          0.3160404562950134,
          0.2343841940164566,
          0.06393878906965256,
          0.18972547352313995,
          0.13599030673503876,
          -0.2263515442609787,
          0.19847750663757324,
          -0.2217649668455124,
          -0.3563399016857147,
          0.10720270127058029,
          0.31044450402259827,
          0.31698694825172424,
          0.07365123927593231,
          0.2206750512123108,
          0.013423291966319084,
          0.38461244106292725,
          -0.17905645072460175,
          0.10066477954387665,
          0.09363732486963272,
          0.1627698540687561,
          0.2694602608680725,
          -0.08306389302015305,
          -0.2957923114299774,
          -0.10597052425146103,
          0.02005544863641262,
          0.07942201942205429,
          -0.14953666925430298,
          0.20554359257221222,
          0.17025695741176605,
          0.29695966839790344,
          -0.1324150562286377,
          0.22386397421360016,
          -0.30518412590026855,
          0.20134694874286652,
          -0.1122850850224495,
          -0.0028733524959534407,
          0.03693407028913498,
          0.1288975030183792,
          0.16343823075294495,
          0.17995010316371918,
          -0.07638659328222275,
          -0.22765830159187317,
          0.11002954095602036
         ]
        },
        {
         "customdata": [
          [
           "first"
          ],
          [
           "first"
          ],
          [
           "first"
          ],
          [
           "first"
          ],
          [
           "first"
          ],
          [
           "first"
          ],
          [
           "first"
          ],
          [
           "first"
          ],
          [
           "first"
          ],
          [
           "first"
          ],
          [
           "first"
          ],
          [
           "first"
          ],
          [
           "first"
          ],
          [
           "first"
          ],
          [
           "first"
          ],
          [
           "first"
          ],
          [
           "first"
          ],
          [
           "first"
          ],
          [
           "first"
          ],
          [
           "first"
          ]
         ],
         "hovertemplate": "Transferred Newline: %{customdata[0]}",
         "legendgroup": "first",
         "marker": {
          "color": "#636efa",
          "symbol": "square"
         },
         "mode": "markers",
         "name": "first",
         "orientation": "v",
         "showlegend": true,
         "type": "scatter",
         "x": [
          -0.28292277455329895,
          -0.23405438661575317,
          -0.165583997964859,
          -0.22586482763290405,
          -0.29027533531188965,
          -0.19037605822086334,
          -0.24501121044158936,
          -0.20558209717273712,
          -0.09440147131681442,
          -0.32460153102874756,
          -0.3702824115753174,
          -0.15439264476299286,
          -0.2049637883901596,
          -0.3954632878303528,
          -0.18267500400543213,
          -0.20253480970859528,
          -0.09440147131681442,
          -0.18902453780174255,
          -0.17990754544734955,
          -0.20058900117874146
         ],
         "xaxis": "x",
         "y": [
          0.0696968361735344,
          0.21354641020298004,
          0.10866260528564453,
          -0.15573638677597046,
          0.07630251348018646,
          -0.164913609623909,
          -0.1623738408088684,
          -0.17191889882087708,
          0.07506713271141052,
          -0.18838390707969666,
          0.10675285756587982,
          -0.026048889383673668,
          -0.2088986188173294,
          0.04371960833668709,
          -0.18760596215724945,
          0.11707980930805206,
          0.07506713271141052,
          -0.015350289642810822,
          0.05249963328242302,
          -0.2405691146850586
         ],
         "yaxis": "y"
        },
        {
         "customdata": [
          [
           "last"
          ],
          [
           "last"
          ],
          [
           "last"
          ],
          [
           "last"
          ],
          [
           "last"
          ],
          [
           "last"
          ],
          [
           "last"
          ],
          [
           "last"
          ],
          [
           "last"
          ],
          [
           "last"
          ],
          [
           "last"
          ],
          [
           "last"
          ],
          [
           "last"
          ],
          [
           "last"
          ],
          [
           "last"
          ],
          [
           "last"
          ],
          [
           "last"
          ],
          [
           "last"
          ],
          [
           "last"
          ],
          [
           "last"
          ]
         ],
         "hovertemplate": "Transferred Newline: %{customdata[0]}",
         "legendgroup": "last",
         "marker": {
          "color": "#636efa",
          "symbol": "circle"
         },
         "mode": "markers",
         "name": "last",
         "orientation": "v",
         "showlegend": true,
         "type": "scatter",
         "x": [
          -0.21038414537906647,
          0.2640068829059601,
          -0.2732851207256317,
          -0.290438175201416,
          0.022257495671510696,
          0.17490598559379578,
          0.3213931620121002,
          0.3412987291812897,
          0.08995045721530914,
          0.325554758310318,
          0.03224168345332146,
          0.35569724440574646,
          -0.13819193840026855,
          0.19840627908706665,
          0.162896066904068,
          -0.17993374168872833,
          -0.02165869064629078,
          -0.013058430515229702,
          -0.012374109588563442,
          0.25555557012557983
         ],
         "xaxis": "x",
         "y": [
          -0.2803572714328766,
          -0.3242254853248596,
          -0.13783521950244904,
          0.09801054745912552,
          -0.49255913496017456,
          -0.15957795083522797,
          -0.46123164892196655,
          -0.35090503096580505,
          -0.5380116701126099,
          -0.25603994727134705,
          -0.5812375545501709,
          -0.303844690322876,
          -0.3339541554450989,
          -0.32269614934921265,
          -0.5257722735404968,
          0.049361202865839005,
          -0.5863028764724731,
          -0.5689571499824524,
          -0.529906153678894,
          -0.36660879850387573
         ],
         "yaxis": "y"
        }
       ],
       "layout": {
        "coloraxis": {
         "colorbar": {
          "x": 100,
          "xref": "container",
          "y": 1,
          "yanchor": "top"
         }
        },
        "legend": {
         "title": {
          "text": "transferred_newline"
         },
         "tracegroupgap": 0
        },
        "template": {
         "data": {
          "bar": [
           {
            "error_x": {
             "color": "#2a3f5f"
            },
            "error_y": {
             "color": "#2a3f5f"
            },
            "marker": {
             "line": {
              "color": "#E5ECF6",
              "width": 0.5
             },
             "pattern": {
              "fillmode": "overlay",
              "size": 10,
              "solidity": 0.2
             }
            },
            "type": "bar"
           }
          ],
          "barpolar": [
           {
            "marker": {
             "line": {
              "color": "#E5ECF6",
              "width": 0.5
             },
             "pattern": {
              "fillmode": "overlay",
              "size": 10,
              "solidity": 0.2
             }
            },
            "type": "barpolar"
           }
          ],
          "carpet": [
           {
            "aaxis": {
             "endlinecolor": "#2a3f5f",
             "gridcolor": "white",
             "linecolor": "white",
             "minorgridcolor": "white",
             "startlinecolor": "#2a3f5f"
            },
            "baxis": {
             "endlinecolor": "#2a3f5f",
             "gridcolor": "white",
             "linecolor": "white",
             "minorgridcolor": "white",
             "startlinecolor": "#2a3f5f"
            },
            "type": "carpet"
           }
          ],
          "choropleth": [
           {
            "colorbar": {
             "outlinewidth": 0,
             "ticks": ""
            },
            "type": "choropleth"
           }
          ],
          "contour": [
           {
            "colorbar": {
             "outlinewidth": 0,
             "ticks": ""
            },
            "colorscale": [
             [
              0,
              "#0d0887"
             ],
             [
              0.1111111111111111,
              "#46039f"
             ],
             [
              0.2222222222222222,
              "#7201a8"
             ],
             [
              0.3333333333333333,
              "#9c179e"
             ],
             [
              0.4444444444444444,
              "#bd3786"
             ],
             [
              0.5555555555555556,
              "#d8576b"
             ],
             [
              0.6666666666666666,
              "#ed7953"
             ],
             [
              0.7777777777777778,
              "#fb9f3a"
             ],
             [
              0.8888888888888888,
              "#fdca26"
             ],
             [
              1,
              "#f0f921"
             ]
            ],
            "type": "contour"
           }
          ],
          "contourcarpet": [
           {
            "colorbar": {
             "outlinewidth": 0,
             "ticks": ""
            },
            "type": "contourcarpet"
           }
          ],
          "heatmap": [
           {
            "colorbar": {
             "outlinewidth": 0,
             "ticks": ""
            },
            "colorscale": [
             [
              0,
              "#0d0887"
             ],
             [
              0.1111111111111111,
              "#46039f"
             ],
             [
              0.2222222222222222,
              "#7201a8"
             ],
             [
              0.3333333333333333,
              "#9c179e"
             ],
             [
              0.4444444444444444,
              "#bd3786"
             ],
             [
              0.5555555555555556,
              "#d8576b"
             ],
             [
              0.6666666666666666,
              "#ed7953"
             ],
             [
              0.7777777777777778,
              "#fb9f3a"
             ],
             [
              0.8888888888888888,
              "#fdca26"
             ],
             [
              1,
              "#f0f921"
             ]
            ],
            "type": "heatmap"
           }
          ],
          "heatmapgl": [
           {
            "colorbar": {
             "outlinewidth": 0,
             "ticks": ""
            },
            "colorscale": [
             [
              0,
              "#0d0887"
             ],
             [
              0.1111111111111111,
              "#46039f"
             ],
             [
              0.2222222222222222,
              "#7201a8"
             ],
             [
              0.3333333333333333,
              "#9c179e"
             ],
             [
              0.4444444444444444,
              "#bd3786"
             ],
             [
              0.5555555555555556,
              "#d8576b"
             ],
             [
              0.6666666666666666,
              "#ed7953"
             ],
             [
              0.7777777777777778,
              "#fb9f3a"
             ],
             [
              0.8888888888888888,
              "#fdca26"
             ],
             [
              1,
              "#f0f921"
             ]
            ],
            "type": "heatmapgl"
           }
          ],
          "histogram": [
           {
            "marker": {
             "pattern": {
              "fillmode": "overlay",
              "size": 10,
              "solidity": 0.2
             }
            },
            "type": "histogram"
           }
          ],
          "histogram2d": [
           {
            "colorbar": {
             "outlinewidth": 0,
             "ticks": ""
            },
            "colorscale": [
             [
              0,
              "#0d0887"
             ],
             [
              0.1111111111111111,
              "#46039f"
             ],
             [
              0.2222222222222222,
              "#7201a8"
             ],
             [
              0.3333333333333333,
              "#9c179e"
             ],
             [
              0.4444444444444444,
              "#bd3786"
             ],
             [
              0.5555555555555556,
              "#d8576b"
             ],
             [
              0.6666666666666666,
              "#ed7953"
             ],
             [
              0.7777777777777778,
              "#fb9f3a"
             ],
             [
              0.8888888888888888,
              "#fdca26"
             ],
             [
              1,
              "#f0f921"
             ]
            ],
            "type": "histogram2d"
           }
          ],
          "histogram2dcontour": [
           {
            "colorbar": {
             "outlinewidth": 0,
             "ticks": ""
            },
            "colorscale": [
             [
              0,
              "#0d0887"
             ],
             [
              0.1111111111111111,
              "#46039f"
             ],
             [
              0.2222222222222222,
              "#7201a8"
             ],
             [
              0.3333333333333333,
              "#9c179e"
             ],
             [
              0.4444444444444444,
              "#bd3786"
             ],
             [
              0.5555555555555556,
              "#d8576b"
             ],
             [
              0.6666666666666666,
              "#ed7953"
             ],
             [
              0.7777777777777778,
              "#fb9f3a"
             ],
             [
              0.8888888888888888,
              "#fdca26"
             ],
             [
              1,
              "#f0f921"
             ]
            ],
            "type": "histogram2dcontour"
           }
          ],
          "mesh3d": [
           {
            "colorbar": {
             "outlinewidth": 0,
             "ticks": ""
            },
            "type": "mesh3d"
           }
          ],
          "parcoords": [
           {
            "line": {
             "colorbar": {
              "outlinewidth": 0,
              "ticks": ""
             }
            },
            "type": "parcoords"
           }
          ],
          "pie": [
           {
            "automargin": true,
            "type": "pie"
           }
          ],
          "scatter": [
           {
            "fillpattern": {
             "fillmode": "overlay",
             "size": 10,
             "solidity": 0.2
            },
            "type": "scatter"
           }
          ],
          "scatter3d": [
           {
            "line": {
             "colorbar": {
              "outlinewidth": 0,
              "ticks": ""
             }
            },
            "marker": {
             "colorbar": {
              "outlinewidth": 0,
              "ticks": ""
             }
            },
            "type": "scatter3d"
           }
          ],
          "scattercarpet": [
           {
            "marker": {
             "colorbar": {
              "outlinewidth": 0,
              "ticks": ""
             }
            },
            "type": "scattercarpet"
           }
          ],
          "scattergeo": [
           {
            "marker": {
             "colorbar": {
              "outlinewidth": 0,
              "ticks": ""
             }
            },
            "type": "scattergeo"
           }
          ],
          "scattergl": [
           {
            "marker": {
             "colorbar": {
              "outlinewidth": 0,
              "ticks": ""
             }
            },
            "type": "scattergl"
           }
          ],
          "scattermapbox": [
           {
            "marker": {
             "colorbar": {
              "outlinewidth": 0,
              "ticks": ""
             }
            },
            "type": "scattermapbox"
           }
          ],
          "scatterpolar": [
           {
            "marker": {
             "colorbar": {
              "outlinewidth": 0,
              "ticks": ""
             }
            },
            "type": "scatterpolar"
           }
          ],
          "scatterpolargl": [
           {
            "marker": {
             "colorbar": {
              "outlinewidth": 0,
              "ticks": ""
             }
            },
            "type": "scatterpolargl"
           }
          ],
          "scatterternary": [
           {
            "marker": {
             "colorbar": {
              "outlinewidth": 0,
              "ticks": ""
             }
            },
            "type": "scatterternary"
           }
          ],
          "surface": [
           {
            "colorbar": {
             "outlinewidth": 0,
             "ticks": ""
            },
            "colorscale": [
             [
              0,
              "#0d0887"
             ],
             [
              0.1111111111111111,
              "#46039f"
             ],
             [
              0.2222222222222222,
              "#7201a8"
             ],
             [
              0.3333333333333333,
              "#9c179e"
             ],
             [
              0.4444444444444444,
              "#bd3786"
             ],
             [
              0.5555555555555556,
              "#d8576b"
             ],
             [
              0.6666666666666666,
              "#ed7953"
             ],
             [
              0.7777777777777778,
              "#fb9f3a"
             ],
             [
              0.8888888888888888,
              "#fdca26"
             ],
             [
              1,
              "#f0f921"
             ]
            ],
            "type": "surface"
           }
          ],
          "table": [
           {
            "cells": {
             "fill": {
              "color": "#EBF0F8"
             },
             "line": {
              "color": "white"
             }
            },
            "header": {
             "fill": {
              "color": "#C8D4E3"
             },
             "line": {
              "color": "white"
             }
            },
            "type": "table"
           }
          ]
         },
         "layout": {
          "annotationdefaults": {
           "arrowcolor": "#2a3f5f",
           "arrowhead": 0,
           "arrowwidth": 1
          },
          "autotypenumbers": "strict",
          "coloraxis": {
           "colorbar": {
            "outlinewidth": 0,
            "ticks": ""
           }
          },
          "colorscale": {
           "diverging": [
            [
             0,
             "#8e0152"
            ],
            [
             0.1,
             "#c51b7d"
            ],
            [
             0.2,
             "#de77ae"
            ],
            [
             0.3,
             "#f1b6da"
            ],
            [
             0.4,
             "#fde0ef"
            ],
            [
             0.5,
             "#f7f7f7"
            ],
            [
             0.6,
             "#e6f5d0"
            ],
            [
             0.7,
             "#b8e186"
            ],
            [
             0.8,
             "#7fbc41"
            ],
            [
             0.9,
             "#4d9221"
            ],
            [
             1,
             "#276419"
            ]
           ],
           "sequential": [
            [
             0,
             "#0d0887"
            ],
            [
             0.1111111111111111,
             "#46039f"
            ],
            [
             0.2222222222222222,
             "#7201a8"
            ],
            [
             0.3333333333333333,
             "#9c179e"
            ],
            [
             0.4444444444444444,
             "#bd3786"
            ],
            [
             0.5555555555555556,
             "#d8576b"
            ],
            [
             0.6666666666666666,
             "#ed7953"
            ],
            [
             0.7777777777777778,
             "#fb9f3a"
            ],
            [
             0.8888888888888888,
             "#fdca26"
            ],
            [
             1,
             "#f0f921"
            ]
           ],
           "sequentialminus": [
            [
             0,
             "#0d0887"
            ],
            [
             0.1111111111111111,
             "#46039f"
            ],
            [
             0.2222222222222222,
             "#7201a8"
            ],
            [
             0.3333333333333333,
             "#9c179e"
            ],
            [
             0.4444444444444444,
             "#bd3786"
            ],
            [
             0.5555555555555556,
             "#d8576b"
            ],
            [
             0.6666666666666666,
             "#ed7953"
            ],
            [
             0.7777777777777778,
             "#fb9f3a"
            ],
            [
             0.8888888888888888,
             "#fdca26"
            ],
            [
             1,
             "#f0f921"
            ]
           ]
          },
          "colorway": [
           "#636efa",
           "#EF553B",
           "#00cc96",
           "#ab63fa",
           "#FFA15A",
           "#19d3f3",
           "#FF6692",
           "#B6E880",
           "#FF97FF",
           "#FECB52"
          ],
          "font": {
           "color": "#2a3f5f"
          },
          "geo": {
           "bgcolor": "white",
           "lakecolor": "white",
           "landcolor": "#E5ECF6",
           "showlakes": true,
           "showland": true,
           "subunitcolor": "white"
          },
          "hoverlabel": {
           "align": "left"
          },
          "hovermode": "closest",
          "mapbox": {
           "style": "light"
          },
          "paper_bgcolor": "white",
          "plot_bgcolor": "#E5ECF6",
          "polar": {
           "angularaxis": {
            "gridcolor": "white",
            "linecolor": "white",
            "ticks": ""
           },
           "bgcolor": "#E5ECF6",
           "radialaxis": {
            "gridcolor": "white",
            "linecolor": "white",
            "ticks": ""
           }
          },
          "scene": {
           "xaxis": {
            "backgroundcolor": "#E5ECF6",
            "gridcolor": "white",
            "gridwidth": 2,
            "linecolor": "white",
            "showbackground": true,
            "ticks": "",
            "zerolinecolor": "white"
           },
           "yaxis": {
            "backgroundcolor": "#E5ECF6",
            "gridcolor": "white",
            "gridwidth": 2,
            "linecolor": "white",
            "showbackground": true,
            "ticks": "",
            "zerolinecolor": "white"
           },
           "zaxis": {
            "backgroundcolor": "#E5ECF6",
            "gridcolor": "white",
            "gridwidth": 2,
            "linecolor": "white",
            "showbackground": true,
            "ticks": "",
            "zerolinecolor": "white"
           }
          },
          "shapedefaults": {
           "line": {
            "color": "#2a3f5f"
           }
          },
          "ternary": {
           "aaxis": {
            "gridcolor": "white",
            "linecolor": "white",
            "ticks": ""
           },
           "baxis": {
            "gridcolor": "white",
            "linecolor": "white",
            "ticks": ""
           },
           "bgcolor": "#E5ECF6",
           "caxis": {
            "gridcolor": "white",
            "linecolor": "white",
            "ticks": ""
           }
          },
          "title": {
           "x": 0.05
          },
          "xaxis": {
           "automargin": true,
           "gridcolor": "white",
           "linecolor": "white",
           "ticks": "",
           "title": {
            "standoff": 15
           },
           "zerolinecolor": "white",
           "zerolinewidth": 2
          },
          "yaxis": {
           "automargin": true,
           "gridcolor": "white",
           "linecolor": "white",
           "ticks": "",
           "title": {
            "standoff": 15
           },
           "zerolinecolor": "white",
           "zerolinewidth": 2
          }
         }
        },
        "title": {
         "text": "PCA of Agnes Story Embeddings"
        },
        "xaxis": {
         "anchor": "y",
         "domain": [
          0,
          1
         ],
         "title": {
          "text": "dim1"
         }
        },
        "yaxis": {
         "anchor": "x",
         "domain": [
          0,
          1
         ],
         "title": {
          "text": "dim2"
         }
        }
       }
      },
      "text/html": [
       "<div>                            <div id=\"e229a5aa-3837-44b3-bb14-ba73273fa39f\" class=\"plotly-graph-div\" style=\"height:525px; width:100%;\"></div>            <script type=\"text/javascript\">                require([\"plotly\"], function(Plotly) {                    window.PLOTLYENV=window.PLOTLYENV || {};                                    if (document.getElementById(\"e229a5aa-3837-44b3-bb14-ba73273fa39f\")) {                    Plotly.newPlot(                        \"e229a5aa-3837-44b3-bb14-ba73273fa39f\",                        [{\"marker\":{\"color\":\"turquoise\",\"size\":8},\"mode\":\"markers\",\"name\":\"Untransferred Newline\",\"x\":[-0.34592336416244507,-0.31094545125961304,-0.14889679849147797,-0.31652259826660156,-0.3220645785331726,-0.30397409200668335,-0.20193399488925934,-0.2820831537246704,-0.32718098163604736,-0.28718286752700806,-0.15715838968753815,-0.29501065611839294,-0.26838168501853943,-0.2871042490005493,-0.2506745457649231,-0.20725546777248383,-0.33321714401245117,-0.3627171218395233,-0.30615493655204773,-0.3574634790420532,-0.3675278127193451,-0.2623119354248047,-0.1014646366238594,-0.22439929842948914,-0.2751525342464447,-0.28411707282066345,-0.294317364692688,-0.22105099260807037,-0.22218339145183563,-0.3316310942173004,-0.27927491068840027,-0.2921191453933716,-0.19851703941822052,-0.2926829755306244,-0.38954421877861023,-0.2833128273487091,-0.19470398128032684,-0.1792306900024414,-0.24191445112228394,-0.09440147131681442,-0.3109947741031647,-0.3797820806503296,-0.15591683983802795,-0.2781625986099243,-0.18640576303005219,-0.30270886421203613,-0.471329003572464,-0.3839348256587982,-0.41944581270217896,-0.07324746251106262,-0.2364405393600464,-0.19881604611873627,-0.2288069725036621,-0.28130093216896057,-0.23394009470939636,-0.23588857054710388,-0.29691335558891296,-0.12342648953199387,-0.32751062512397766,-0.23016926646232605,-0.2470434159040451,-0.3456418812274933,-0.20752909779548645,0.06539953500032425,-0.10700071603059769,-0.20673641562461853,-0.12314514070749283,-0.25589022040367126,-0.32417425513267517,-0.3665306568145752,-0.32925400137901306,-0.17731796205043793,-0.3389790952205658,-0.23819617927074432,-0.25560006499290466,-0.18611058592796326,-0.1044779121875763,-0.3514970541000366,-0.1942654848098755,-0.1828167736530304,-0.1697058081626892,-0.3288715183734894,-0.17576679587364197,-0.2970048189163208,-0.3642341196537018,-0.3622327148914337,-0.15967093408107758,-0.32552915811538696,-0.3130298852920532,-0.2474198341369629,-0.34315282106399536,-0.20571477711200714,-0.346078097820282,-0.07742573320865631,-0.3478430509567261,-0.35856354236602783,-0.3057376444339752,0.001171291689388454,-0.3766419589519501,-0.26846787333488464],\"y\":[-0.07500693202018738,-0.10769680142402649,-0.19624023139476776,0.22240382432937622,0.32162103056907654,-0.1844957023859024,-0.14165809750556946,-0.088495634496212,-0.04173014685511589,-0.21308478713035583,-0.2214047908782959,0.12111978977918625,0.17568153142929077,0.11038384586572647,0.19908267259597778,-0.21428395807743073,-0.021423881873488426,0.22146612405776978,-0.11337339133024216,0.2623327076435089,0.14864373207092285,0.09336907416582108,0.2678236663341522,0.18584291636943817,-0.20597442984580994,0.1845792979001999,0.17419864237308502,-0.08084537088871002,-0.02660023421049118,0.18376941978931427,-0.2461484670639038,0.3231150805950165,-0.01452161930501461,0.20298099517822266,-0.1609460711479187,0.048870597034692764,-0.12452895939350128,-0.11929870396852493,-0.0945480540394783,0.07506713271141052,0.046757105737924576,0.02852587029337883,0.16956813633441925,0.3120562732219696,0.3081333339214325,0.07892913371324539,-0.0244449395686388,0.19729770720005035,0.23053018748760223,0.2866417467594147,0.052714791148900986,-0.16384778916835785,0.23648998141288757,0.13636423647403717,0.24349096417427063,0.29967236518859863,0.21515990793704987,0.3478666841983795,0.12839087843894958,0.174167200922966,-0.06922964006662369,-0.12197379022836685,-0.15746495127677917,0.25020086765289307,0.23721280694007874,-0.10188847780227661,-0.17973485589027405,0.037407226860523224,-0.19647616147994995,0.13912445306777954,-0.136273592710495,-0.1937275528907776,0.08913002908229828,0.006810756865888834,0.11030569672584534,0.2469073385000229,0.25154581665992737,0.2417183667421341,-0.0952955037355423,-0.22415854036808014,-0.24674755334854126,0.08751450479030609,0.051082875579595566,0.11069049686193466,-0.07968596369028091,-0.0218727495521307,-0.039002347737550735,0.22453758120536804,0.024686822667717934,-0.09064050763845444,-0.02657318487763405,0.1097516417503357,0.02417292632162571,-0.01849551685154438,-0.0222501028329134,-0.07431324571371078,0.09176556766033173,-0.07173851877450943,0.24876023828983307,0.1766776293516159],\"type\":\"scatter\"},{\"marker\":{\"color\":\"green\",\"size\":10},\"mode\":\"markers\",\"name\":\"Baseline Generation\",\"x\":[0.6015481352806091,0.5574989914894104,0.6085798740386963,0.6037136316299438,0.6593652963638306,0.4953656494617462,0.601047158241272,0.5304287672042847,0.5592586398124695,0.6630192399024963,0.43078768253326416,0.6335593461990356,0.5254428386688232,0.5448940992355347,0.5087723731994629,0.3313711881637573,0.5734114050865173,0.5885477662086487,0.5710381865501404,0.6506216526031494,0.6219694018363953,0.6645946502685547,0.4799678921699524,0.5595373511314392,0.6460449695587158,0.6728804111480713,0.5906382203102112,0.4615987539291382,0.6115238070487976,0.3795567452907562,0.6089258790016174,0.6119498610496521,0.6389954686164856,0.5856276154518127,0.5625070929527283,0.6754550337791443,0.5785537362098694,0.5993586182594299,0.5953094959259033,0.4107010066509247,0.6310398578643799,0.610007643699646,0.5921149849891663,0.6170675158500671,0.6524536609649658,0.6010115742683411,0.6600760221481323,0.6260290741920471,0.505709707736969,0.6441645622253418],\"y\":[0.07523424923419952,-0.10445468872785568,0.25009578466415405,0.27064627408981323,0.07701244950294495,-0.25418323278427124,-0.019370129331946373,0.3160404562950134,0.2343841940164566,0.06393878906965256,0.18972547352313995,0.13599030673503876,-0.2263515442609787,0.19847750663757324,-0.2217649668455124,-0.3563399016857147,0.10720270127058029,0.31044450402259827,0.31698694825172424,0.07365123927593231,0.2206750512123108,0.013423291966319084,0.38461244106292725,-0.17905645072460175,0.10066477954387665,0.09363732486963272,0.1627698540687561,0.2694602608680725,-0.08306389302015305,-0.2957923114299774,-0.10597052425146103,0.02005544863641262,0.07942201942205429,-0.14953666925430298,0.20554359257221222,0.17025695741176605,0.29695966839790344,-0.1324150562286377,0.22386397421360016,-0.30518412590026855,0.20134694874286652,-0.1122850850224495,-0.0028733524959534407,0.03693407028913498,0.1288975030183792,0.16343823075294495,0.17995010316371918,-0.07638659328222275,-0.22765830159187317,0.11002954095602036],\"type\":\"scatter\",\"hovertemplate\":\"Transferred Newline: %{customdata[0]}\"},{\"customdata\":[[\"first\"],[\"first\"],[\"first\"],[\"first\"],[\"first\"],[\"first\"],[\"first\"],[\"first\"],[\"first\"],[\"first\"],[\"first\"],[\"first\"],[\"first\"],[\"first\"],[\"first\"],[\"first\"],[\"first\"],[\"first\"],[\"first\"],[\"first\"]],\"hovertemplate\":\"Transferred Newline: %{customdata[0]}\",\"legendgroup\":\"first\",\"marker\":{\"color\":\"#636efa\",\"symbol\":\"square\"},\"mode\":\"markers\",\"name\":\"first\",\"orientation\":\"v\",\"showlegend\":true,\"x\":[-0.28292277455329895,-0.23405438661575317,-0.165583997964859,-0.22586482763290405,-0.29027533531188965,-0.19037605822086334,-0.24501121044158936,-0.20558209717273712,-0.09440147131681442,-0.32460153102874756,-0.3702824115753174,-0.15439264476299286,-0.2049637883901596,-0.3954632878303528,-0.18267500400543213,-0.20253480970859528,-0.09440147131681442,-0.18902453780174255,-0.17990754544734955,-0.20058900117874146],\"xaxis\":\"x\",\"y\":[0.0696968361735344,0.21354641020298004,0.10866260528564453,-0.15573638677597046,0.07630251348018646,-0.164913609623909,-0.1623738408088684,-0.17191889882087708,0.07506713271141052,-0.18838390707969666,0.10675285756587982,-0.026048889383673668,-0.2088986188173294,0.04371960833668709,-0.18760596215724945,0.11707980930805206,0.07506713271141052,-0.015350289642810822,0.05249963328242302,-0.2405691146850586],\"yaxis\":\"y\",\"type\":\"scatter\"},{\"customdata\":[[\"last\"],[\"last\"],[\"last\"],[\"last\"],[\"last\"],[\"last\"],[\"last\"],[\"last\"],[\"last\"],[\"last\"],[\"last\"],[\"last\"],[\"last\"],[\"last\"],[\"last\"],[\"last\"],[\"last\"],[\"last\"],[\"last\"],[\"last\"]],\"hovertemplate\":\"Transferred Newline: %{customdata[0]}\",\"legendgroup\":\"last\",\"marker\":{\"color\":\"#636efa\",\"symbol\":\"circle\"},\"mode\":\"markers\",\"name\":\"last\",\"orientation\":\"v\",\"showlegend\":true,\"x\":[-0.21038414537906647,0.2640068829059601,-0.2732851207256317,-0.290438175201416,0.022257495671510696,0.17490598559379578,0.3213931620121002,0.3412987291812897,0.08995045721530914,0.325554758310318,0.03224168345332146,0.35569724440574646,-0.13819193840026855,0.19840627908706665,0.162896066904068,-0.17993374168872833,-0.02165869064629078,-0.013058430515229702,-0.012374109588563442,0.25555557012557983],\"xaxis\":\"x\",\"y\":[-0.2803572714328766,-0.3242254853248596,-0.13783521950244904,0.09801054745912552,-0.49255913496017456,-0.15957795083522797,-0.46123164892196655,-0.35090503096580505,-0.5380116701126099,-0.25603994727134705,-0.5812375545501709,-0.303844690322876,-0.3339541554450989,-0.32269614934921265,-0.5257722735404968,0.049361202865839005,-0.5863028764724731,-0.5689571499824524,-0.529906153678894,-0.36660879850387573],\"yaxis\":\"y\",\"type\":\"scatter\"}],                        {\"template\":{\"data\":{\"histogram2dcontour\":[{\"type\":\"histogram2dcontour\",\"colorbar\":{\"outlinewidth\":0,\"ticks\":\"\"},\"colorscale\":[[0.0,\"#0d0887\"],[0.1111111111111111,\"#46039f\"],[0.2222222222222222,\"#7201a8\"],[0.3333333333333333,\"#9c179e\"],[0.4444444444444444,\"#bd3786\"],[0.5555555555555556,\"#d8576b\"],[0.6666666666666666,\"#ed7953\"],[0.7777777777777778,\"#fb9f3a\"],[0.8888888888888888,\"#fdca26\"],[1.0,\"#f0f921\"]]}],\"choropleth\":[{\"type\":\"choropleth\",\"colorbar\":{\"outlinewidth\":0,\"ticks\":\"\"}}],\"histogram2d\":[{\"type\":\"histogram2d\",\"colorbar\":{\"outlinewidth\":0,\"ticks\":\"\"},\"colorscale\":[[0.0,\"#0d0887\"],[0.1111111111111111,\"#46039f\"],[0.2222222222222222,\"#7201a8\"],[0.3333333333333333,\"#9c179e\"],[0.4444444444444444,\"#bd3786\"],[0.5555555555555556,\"#d8576b\"],[0.6666666666666666,\"#ed7953\"],[0.7777777777777778,\"#fb9f3a\"],[0.8888888888888888,\"#fdca26\"],[1.0,\"#f0f921\"]]}],\"heatmap\":[{\"type\":\"heatmap\",\"colorbar\":{\"outlinewidth\":0,\"ticks\":\"\"},\"colorscale\":[[0.0,\"#0d0887\"],[0.1111111111111111,\"#46039f\"],[0.2222222222222222,\"#7201a8\"],[0.3333333333333333,\"#9c179e\"],[0.4444444444444444,\"#bd3786\"],[0.5555555555555556,\"#d8576b\"],[0.6666666666666666,\"#ed7953\"],[0.7777777777777778,\"#fb9f3a\"],[0.8888888888888888,\"#fdca26\"],[1.0,\"#f0f921\"]]}],\"heatmapgl\":[{\"type\":\"heatmapgl\",\"colorbar\":{\"outlinewidth\":0,\"ticks\":\"\"},\"colorscale\":[[0.0,\"#0d0887\"],[0.1111111111111111,\"#46039f\"],[0.2222222222222222,\"#7201a8\"],[0.3333333333333333,\"#9c179e\"],[0.4444444444444444,\"#bd3786\"],[0.5555555555555556,\"#d8576b\"],[0.6666666666666666,\"#ed7953\"],[0.7777777777777778,\"#fb9f3a\"],[0.8888888888888888,\"#fdca26\"],[1.0,\"#f0f921\"]]}],\"contourcarpet\":[{\"type\":\"contourcarpet\",\"colorbar\":{\"outlinewidth\":0,\"ticks\":\"\"}}],\"contour\":[{\"type\":\"contour\",\"colorbar\":{\"outlinewidth\":0,\"ticks\":\"\"},\"colorscale\":[[0.0,\"#0d0887\"],[0.1111111111111111,\"#46039f\"],[0.2222222222222222,\"#7201a8\"],[0.3333333333333333,\"#9c179e\"],[0.4444444444444444,\"#bd3786\"],[0.5555555555555556,\"#d8576b\"],[0.6666666666666666,\"#ed7953\"],[0.7777777777777778,\"#fb9f3a\"],[0.8888888888888888,\"#fdca26\"],[1.0,\"#f0f921\"]]}],\"surface\":[{\"type\":\"surface\",\"colorbar\":{\"outlinewidth\":0,\"ticks\":\"\"},\"colorscale\":[[0.0,\"#0d0887\"],[0.1111111111111111,\"#46039f\"],[0.2222222222222222,\"#7201a8\"],[0.3333333333333333,\"#9c179e\"],[0.4444444444444444,\"#bd3786\"],[0.5555555555555556,\"#d8576b\"],[0.6666666666666666,\"#ed7953\"],[0.7777777777777778,\"#fb9f3a\"],[0.8888888888888888,\"#fdca26\"],[1.0,\"#f0f921\"]]}],\"mesh3d\":[{\"type\":\"mesh3d\",\"colorbar\":{\"outlinewidth\":0,\"ticks\":\"\"}}],\"scatter\":[{\"fillpattern\":{\"fillmode\":\"overlay\",\"size\":10,\"solidity\":0.2},\"type\":\"scatter\"}],\"parcoords\":[{\"type\":\"parcoords\",\"line\":{\"colorbar\":{\"outlinewidth\":0,\"ticks\":\"\"}}}],\"scatterpolargl\":[{\"type\":\"scatterpolargl\",\"marker\":{\"colorbar\":{\"outlinewidth\":0,\"ticks\":\"\"}}}],\"bar\":[{\"error_x\":{\"color\":\"#2a3f5f\"},\"error_y\":{\"color\":\"#2a3f5f\"},\"marker\":{\"line\":{\"color\":\"#E5ECF6\",\"width\":0.5},\"pattern\":{\"fillmode\":\"overlay\",\"size\":10,\"solidity\":0.2}},\"type\":\"bar\"}],\"scattergeo\":[{\"type\":\"scattergeo\",\"marker\":{\"colorbar\":{\"outlinewidth\":0,\"ticks\":\"\"}}}],\"scatterpolar\":[{\"type\":\"scatterpolar\",\"marker\":{\"colorbar\":{\"outlinewidth\":0,\"ticks\":\"\"}}}],\"histogram\":[{\"marker\":{\"pattern\":{\"fillmode\":\"overlay\",\"size\":10,\"solidity\":0.2}},\"type\":\"histogram\"}],\"scattergl\":[{\"type\":\"scattergl\",\"marker\":{\"colorbar\":{\"outlinewidth\":0,\"ticks\":\"\"}}}],\"scatter3d\":[{\"type\":\"scatter3d\",\"line\":{\"colorbar\":{\"outlinewidth\":0,\"ticks\":\"\"}},\"marker\":{\"colorbar\":{\"outlinewidth\":0,\"ticks\":\"\"}}}],\"scattermapbox\":[{\"type\":\"scattermapbox\",\"marker\":{\"colorbar\":{\"outlinewidth\":0,\"ticks\":\"\"}}}],\"scatterternary\":[{\"type\":\"scatterternary\",\"marker\":{\"colorbar\":{\"outlinewidth\":0,\"ticks\":\"\"}}}],\"scattercarpet\":[{\"type\":\"scattercarpet\",\"marker\":{\"colorbar\":{\"outlinewidth\":0,\"ticks\":\"\"}}}],\"carpet\":[{\"aaxis\":{\"endlinecolor\":\"#2a3f5f\",\"gridcolor\":\"white\",\"linecolor\":\"white\",\"minorgridcolor\":\"white\",\"startlinecolor\":\"#2a3f5f\"},\"baxis\":{\"endlinecolor\":\"#2a3f5f\",\"gridcolor\":\"white\",\"linecolor\":\"white\",\"minorgridcolor\":\"white\",\"startlinecolor\":\"#2a3f5f\"},\"type\":\"carpet\"}],\"table\":[{\"cells\":{\"fill\":{\"color\":\"#EBF0F8\"},\"line\":{\"color\":\"white\"}},\"header\":{\"fill\":{\"color\":\"#C8D4E3\"},\"line\":{\"color\":\"white\"}},\"type\":\"table\"}],\"barpolar\":[{\"marker\":{\"line\":{\"color\":\"#E5ECF6\",\"width\":0.5},\"pattern\":{\"fillmode\":\"overlay\",\"size\":10,\"solidity\":0.2}},\"type\":\"barpolar\"}],\"pie\":[{\"automargin\":true,\"type\":\"pie\"}]},\"layout\":{\"autotypenumbers\":\"strict\",\"colorway\":[\"#636efa\",\"#EF553B\",\"#00cc96\",\"#ab63fa\",\"#FFA15A\",\"#19d3f3\",\"#FF6692\",\"#B6E880\",\"#FF97FF\",\"#FECB52\"],\"font\":{\"color\":\"#2a3f5f\"},\"hovermode\":\"closest\",\"hoverlabel\":{\"align\":\"left\"},\"paper_bgcolor\":\"white\",\"plot_bgcolor\":\"#E5ECF6\",\"polar\":{\"bgcolor\":\"#E5ECF6\",\"angularaxis\":{\"gridcolor\":\"white\",\"linecolor\":\"white\",\"ticks\":\"\"},\"radialaxis\":{\"gridcolor\":\"white\",\"linecolor\":\"white\",\"ticks\":\"\"}},\"ternary\":{\"bgcolor\":\"#E5ECF6\",\"aaxis\":{\"gridcolor\":\"white\",\"linecolor\":\"white\",\"ticks\":\"\"},\"baxis\":{\"gridcolor\":\"white\",\"linecolor\":\"white\",\"ticks\":\"\"},\"caxis\":{\"gridcolor\":\"white\",\"linecolor\":\"white\",\"ticks\":\"\"}},\"coloraxis\":{\"colorbar\":{\"outlinewidth\":0,\"ticks\":\"\"}},\"colorscale\":{\"sequential\":[[0.0,\"#0d0887\"],[0.1111111111111111,\"#46039f\"],[0.2222222222222222,\"#7201a8\"],[0.3333333333333333,\"#9c179e\"],[0.4444444444444444,\"#bd3786\"],[0.5555555555555556,\"#d8576b\"],[0.6666666666666666,\"#ed7953\"],[0.7777777777777778,\"#fb9f3a\"],[0.8888888888888888,\"#fdca26\"],[1.0,\"#f0f921\"]],\"sequentialminus\":[[0.0,\"#0d0887\"],[0.1111111111111111,\"#46039f\"],[0.2222222222222222,\"#7201a8\"],[0.3333333333333333,\"#9c179e\"],[0.4444444444444444,\"#bd3786\"],[0.5555555555555556,\"#d8576b\"],[0.6666666666666666,\"#ed7953\"],[0.7777777777777778,\"#fb9f3a\"],[0.8888888888888888,\"#fdca26\"],[1.0,\"#f0f921\"]],\"diverging\":[[0,\"#8e0152\"],[0.1,\"#c51b7d\"],[0.2,\"#de77ae\"],[0.3,\"#f1b6da\"],[0.4,\"#fde0ef\"],[0.5,\"#f7f7f7\"],[0.6,\"#e6f5d0\"],[0.7,\"#b8e186\"],[0.8,\"#7fbc41\"],[0.9,\"#4d9221\"],[1,\"#276419\"]]},\"xaxis\":{\"gridcolor\":\"white\",\"linecolor\":\"white\",\"ticks\":\"\",\"title\":{\"standoff\":15},\"zerolinecolor\":\"white\",\"automargin\":true,\"zerolinewidth\":2},\"yaxis\":{\"gridcolor\":\"white\",\"linecolor\":\"white\",\"ticks\":\"\",\"title\":{\"standoff\":15},\"zerolinecolor\":\"white\",\"automargin\":true,\"zerolinewidth\":2},\"scene\":{\"xaxis\":{\"backgroundcolor\":\"#E5ECF6\",\"gridcolor\":\"white\",\"linecolor\":\"white\",\"showbackground\":true,\"ticks\":\"\",\"zerolinecolor\":\"white\",\"gridwidth\":2},\"yaxis\":{\"backgroundcolor\":\"#E5ECF6\",\"gridcolor\":\"white\",\"linecolor\":\"white\",\"showbackground\":true,\"ticks\":\"\",\"zerolinecolor\":\"white\",\"gridwidth\":2},\"zaxis\":{\"backgroundcolor\":\"#E5ECF6\",\"gridcolor\":\"white\",\"linecolor\":\"white\",\"showbackground\":true,\"ticks\":\"\",\"zerolinecolor\":\"white\",\"gridwidth\":2}},\"shapedefaults\":{\"line\":{\"color\":\"#2a3f5f\"}},\"annotationdefaults\":{\"arrowcolor\":\"#2a3f5f\",\"arrowhead\":0,\"arrowwidth\":1},\"geo\":{\"bgcolor\":\"white\",\"landcolor\":\"#E5ECF6\",\"subunitcolor\":\"white\",\"showland\":true,\"showlakes\":true,\"lakecolor\":\"white\"},\"title\":{\"x\":0.05},\"mapbox\":{\"style\":\"light\"}}},\"xaxis\":{\"anchor\":\"y\",\"domain\":[0.0,1.0],\"title\":{\"text\":\"dim1\"}},\"yaxis\":{\"anchor\":\"x\",\"domain\":[0.0,1.0],\"title\":{\"text\":\"dim2\"}},\"legend\":{\"title\":{\"text\":\"transferred_newline\"},\"tracegroupgap\":0},\"title\":{\"text\":\"PCA of Agnes Story Embeddings\"},\"coloraxis\":{\"colorbar\":{\"yanchor\":\"top\",\"y\":1,\"x\":100,\"xref\":\"container\"}}},                        {\"responsive\": true}                    ).then(function(){\n",
       "                            \n",
       "var gd = document.getElementById('e229a5aa-3837-44b3-bb14-ba73273fa39f');\n",
       "var x = new MutationObserver(function (mutations, observer) {{\n",
       "        var display = window.getComputedStyle(gd).display;\n",
       "        if (!display || display === 'none') {{\n",
       "            console.log([gd, 'removed!']);\n",
       "            Plotly.purge(gd);\n",
       "            observer.disconnect();\n",
       "        }}\n",
       "}});\n",
       "\n",
       "// Listen for the removal of the full notebook cells\n",
       "var notebookContainer = gd.closest('#notebook-container');\n",
       "if (notebookContainer) {{\n",
       "    x.observe(notebookContainer, {childList: true});\n",
       "}}\n",
       "\n",
       "// Listen for the clearing of the current output cell\n",
       "var outputEl = gd.closest('.output');\n",
       "if (outputEl) {{\n",
       "    x.observe(outputEl, {childList: true});\n",
       "}}\n",
       "\n",
       "                        })                };                });            </script>        </div>"
      ]
     },
     "metadata": {},
     "output_type": "display_data"
    }
   ],
   "source": [
    "# carry out pca on embeddings using sklearn\n",
    "reducer = PCA(n_components=2)\n",
    "embeddings_reduced = reducer.fit_transform(embeddings)\n",
    "print(embeddings_reduced.shape)\n",
    "\n",
    "# visualize the embeddings using plotly\n",
    "import plotly.express as px\n",
    "import plotly.graph_objects as go\n",
    "\n",
    "results_df[\"dim1\"] = embeddings_reduced[:results_df.shape[0], 0]\n",
    "results_df[\"dim2\"] = embeddings_reduced[:results_df.shape[0], 1]\n",
    "base_df[\"dim1\"] = embeddings_reduced[results_df.shape[0]:neutral_start, 0]\n",
    "base_df[\"dim2\"] = embeddings_reduced[results_df.shape[0]:neutral_start, 1]\n",
    "baseline_mean_x = base_df[\"dim1\"].mean(axis=0)\n",
    "baseline_mean_y = base_df[\"dim2\"].mean(axis=0)\n",
    "neutral_df[\"dim1\"] = embeddings_reduced[neutral_start:, 0]\n",
    "neutral_df[\"dim2\"] = embeddings_reduced[neutral_start:, 1]\n",
    "neutral_mean_x = neutral_df[\"dim1\"].mean(axis=0)\n",
    "neutral_mean_y = neutral_df[\"dim2\"].mean(axis=0)\n",
    "\n",
    "results_df[\"truncated_output\"] = results_df[\"output\"].str.slice(0,100)\n",
    "\n",
    "fig = px.scatter(\n",
    "    results_df,\n",
    "    x=\"dim1\",\n",
    "    y=\"dim2\",\n",
    "    hover_data=[\"transferred_newline\"],\n",
    "    title=\"PCA of Agnes Story Embeddings\",\n",
    "    symbol=\"transferred_newline\",\n",
    "    symbol_sequence = ['circle', 'square', 'diamond', 'cross', 'x', 'triangle-up', 'pentagon', 'hexagon', 'octagon', 'star'],\n",
    "\n",
    ")\n",
    "\n",
    "\n",
    "fig.add_trace(go.Scatter(x=base_df[\"dim1\"].to_list(), y=base_df[\"dim2\"].to_list(), mode='markers', marker=dict(color='green', size=10), name='Baseline Generation'))\n",
    "\n",
    "\n",
    "fig.update_layout(coloraxis_colorbar=dict(yanchor=\"top\", y=1, x=100, xref=\"container\"))\n",
    "\n",
    "fig.update_traces(\n",
    "    hovertemplate=\"<br>\".join(\n",
    "        [\"Transferred Newline: %{customdata[0]}\"]\n",
    "    )\n",
    ")\n",
    "\n",
    "fig.add_trace(go.Scatter(x=neutral_df[\"dim1\"].to_list(), y=neutral_df[\"dim2\"].to_list(), mode='markers', marker=dict(color='turquoise', size=8), name='Untransferred Newline'))\n",
    "\n",
    "fig.data = [fig.data[3],fig.data[2],fig.data[1],fig.data[0]]\n",
    "\n",
    "\n",
    "fig.show()"
   ]
  },
  {
   "cell_type": "code",
   "execution_count": 21,
   "metadata": {},
   "outputs": [
    {
     "name": "stdout",
     "output_type": "stream",
     "text": [
      "        PC1       PC2\n",
      "0 -0.210384 -0.280357\n",
      "1  0.264007 -0.324225\n",
      "2 -0.273285 -0.137835\n",
      "3 -0.290438  0.098011\n",
      "4  0.022257 -0.492559\n",
      "  transferred_newline       PC1       PC2\n",
      "0               first -0.221645 -0.029170\n",
      "1                last  0.070242 -0.348633\n"
     ]
    },
    {
     "data": {
      "application/vnd.plotly.v1+json": {
       "config": {
        "plotlyServerURL": "https://plot.ly"
       },
       "data": [
        {
         "hovertemplate": "transferred_newline=first<br>PC1=%{x}<br>PC2=%{y}<extra></extra>",
         "legendgroup": "first",
         "marker": {
          "color": "#636efa",
          "symbol": "circle"
         },
         "mode": "markers",
         "name": "first",
         "orientation": "v",
         "showlegend": true,
         "type": "scatter",
         "x": [
          -0.22164539992809296
         ],
         "xaxis": "x",
         "y": [
          -0.02917024865746498
         ],
         "yaxis": "y"
        },
        {
         "hovertemplate": "transferred_newline=last<br>PC1=%{x}<br>PC2=%{y}<extra></extra>",
         "legendgroup": "last",
         "marker": {
          "color": "#636efa",
          "symbol": "square"
         },
         "mode": "markers",
         "name": "last",
         "orientation": "v",
         "showlegend": true,
         "type": "scatter",
         "x": [
          0.0702420026063919
         ],
         "xaxis": "x",
         "y": [
          -0.3486325740814209
         ],
         "yaxis": "y"
        },
        {
         "marker": {
          "color": "green",
          "size": 10
         },
         "mode": "markers",
         "name": "Baseline Generation Mean",
         "type": "scatter",
         "x": [
          0.5786728858947754
         ],
         "y": [
          0.05658170208334923
         ]
        },
        {
         "marker": {
          "color": "turquoise",
          "size": 8
         },
         "mode": "markers",
         "name": "Untransferred Newline Mean",
         "type": "scatter",
         "x": [
          -0.2590557038784027
         ],
         "y": [
          0.04726970195770264
         ]
        }
       ],
       "layout": {
        "coloraxis": {
         "colorbar": {
          "x": 100,
          "xref": "container",
          "y": 1,
          "yanchor": "top"
         }
        },
        "legend": {
         "title": {
          "text": "transferred_newline"
         },
         "tracegroupgap": 0
        },
        "template": {
         "data": {
          "bar": [
           {
            "error_x": {
             "color": "#2a3f5f"
            },
            "error_y": {
             "color": "#2a3f5f"
            },
            "marker": {
             "line": {
              "color": "#E5ECF6",
              "width": 0.5
             },
             "pattern": {
              "fillmode": "overlay",
              "size": 10,
              "solidity": 0.2
             }
            },
            "type": "bar"
           }
          ],
          "barpolar": [
           {
            "marker": {
             "line": {
              "color": "#E5ECF6",
              "width": 0.5
             },
             "pattern": {
              "fillmode": "overlay",
              "size": 10,
              "solidity": 0.2
             }
            },
            "type": "barpolar"
           }
          ],
          "carpet": [
           {
            "aaxis": {
             "endlinecolor": "#2a3f5f",
             "gridcolor": "white",
             "linecolor": "white",
             "minorgridcolor": "white",
             "startlinecolor": "#2a3f5f"
            },
            "baxis": {
             "endlinecolor": "#2a3f5f",
             "gridcolor": "white",
             "linecolor": "white",
             "minorgridcolor": "white",
             "startlinecolor": "#2a3f5f"
            },
            "type": "carpet"
           }
          ],
          "choropleth": [
           {
            "colorbar": {
             "outlinewidth": 0,
             "ticks": ""
            },
            "type": "choropleth"
           }
          ],
          "contour": [
           {
            "colorbar": {
             "outlinewidth": 0,
             "ticks": ""
            },
            "colorscale": [
             [
              0,
              "#0d0887"
             ],
             [
              0.1111111111111111,
              "#46039f"
             ],
             [
              0.2222222222222222,
              "#7201a8"
             ],
             [
              0.3333333333333333,
              "#9c179e"
             ],
             [
              0.4444444444444444,
              "#bd3786"
             ],
             [
              0.5555555555555556,
              "#d8576b"
             ],
             [
              0.6666666666666666,
              "#ed7953"
             ],
             [
              0.7777777777777778,
              "#fb9f3a"
             ],
             [
              0.8888888888888888,
              "#fdca26"
             ],
             [
              1,
              "#f0f921"
             ]
            ],
            "type": "contour"
           }
          ],
          "contourcarpet": [
           {
            "colorbar": {
             "outlinewidth": 0,
             "ticks": ""
            },
            "type": "contourcarpet"
           }
          ],
          "heatmap": [
           {
            "colorbar": {
             "outlinewidth": 0,
             "ticks": ""
            },
            "colorscale": [
             [
              0,
              "#0d0887"
             ],
             [
              0.1111111111111111,
              "#46039f"
             ],
             [
              0.2222222222222222,
              "#7201a8"
             ],
             [
              0.3333333333333333,
              "#9c179e"
             ],
             [
              0.4444444444444444,
              "#bd3786"
             ],
             [
              0.5555555555555556,
              "#d8576b"
             ],
             [
              0.6666666666666666,
              "#ed7953"
             ],
             [
              0.7777777777777778,
              "#fb9f3a"
             ],
             [
              0.8888888888888888,
              "#fdca26"
             ],
             [
              1,
              "#f0f921"
             ]
            ],
            "type": "heatmap"
           }
          ],
          "heatmapgl": [
           {
            "colorbar": {
             "outlinewidth": 0,
             "ticks": ""
            },
            "colorscale": [
             [
              0,
              "#0d0887"
             ],
             [
              0.1111111111111111,
              "#46039f"
             ],
             [
              0.2222222222222222,
              "#7201a8"
             ],
             [
              0.3333333333333333,
              "#9c179e"
             ],
             [
              0.4444444444444444,
              "#bd3786"
             ],
             [
              0.5555555555555556,
              "#d8576b"
             ],
             [
              0.6666666666666666,
              "#ed7953"
             ],
             [
              0.7777777777777778,
              "#fb9f3a"
             ],
             [
              0.8888888888888888,
              "#fdca26"
             ],
             [
              1,
              "#f0f921"
             ]
            ],
            "type": "heatmapgl"
           }
          ],
          "histogram": [
           {
            "marker": {
             "pattern": {
              "fillmode": "overlay",
              "size": 10,
              "solidity": 0.2
             }
            },
            "type": "histogram"
           }
          ],
          "histogram2d": [
           {
            "colorbar": {
             "outlinewidth": 0,
             "ticks": ""
            },
            "colorscale": [
             [
              0,
              "#0d0887"
             ],
             [
              0.1111111111111111,
              "#46039f"
             ],
             [
              0.2222222222222222,
              "#7201a8"
             ],
             [
              0.3333333333333333,
              "#9c179e"
             ],
             [
              0.4444444444444444,
              "#bd3786"
             ],
             [
              0.5555555555555556,
              "#d8576b"
             ],
             [
              0.6666666666666666,
              "#ed7953"
             ],
             [
              0.7777777777777778,
              "#fb9f3a"
             ],
             [
              0.8888888888888888,
              "#fdca26"
             ],
             [
              1,
              "#f0f921"
             ]
            ],
            "type": "histogram2d"
           }
          ],
          "histogram2dcontour": [
           {
            "colorbar": {
             "outlinewidth": 0,
             "ticks": ""
            },
            "colorscale": [
             [
              0,
              "#0d0887"
             ],
             [
              0.1111111111111111,
              "#46039f"
             ],
             [
              0.2222222222222222,
              "#7201a8"
             ],
             [
              0.3333333333333333,
              "#9c179e"
             ],
             [
              0.4444444444444444,
              "#bd3786"
             ],
             [
              0.5555555555555556,
              "#d8576b"
             ],
             [
              0.6666666666666666,
              "#ed7953"
             ],
             [
              0.7777777777777778,
              "#fb9f3a"
             ],
             [
              0.8888888888888888,
              "#fdca26"
             ],
             [
              1,
              "#f0f921"
             ]
            ],
            "type": "histogram2dcontour"
           }
          ],
          "mesh3d": [
           {
            "colorbar": {
             "outlinewidth": 0,
             "ticks": ""
            },
            "type": "mesh3d"
           }
          ],
          "parcoords": [
           {
            "line": {
             "colorbar": {
              "outlinewidth": 0,
              "ticks": ""
             }
            },
            "type": "parcoords"
           }
          ],
          "pie": [
           {
            "automargin": true,
            "type": "pie"
           }
          ],
          "scatter": [
           {
            "fillpattern": {
             "fillmode": "overlay",
             "size": 10,
             "solidity": 0.2
            },
            "type": "scatter"
           }
          ],
          "scatter3d": [
           {
            "line": {
             "colorbar": {
              "outlinewidth": 0,
              "ticks": ""
             }
            },
            "marker": {
             "colorbar": {
              "outlinewidth": 0,
              "ticks": ""
             }
            },
            "type": "scatter3d"
           }
          ],
          "scattercarpet": [
           {
            "marker": {
             "colorbar": {
              "outlinewidth": 0,
              "ticks": ""
             }
            },
            "type": "scattercarpet"
           }
          ],
          "scattergeo": [
           {
            "marker": {
             "colorbar": {
              "outlinewidth": 0,
              "ticks": ""
             }
            },
            "type": "scattergeo"
           }
          ],
          "scattergl": [
           {
            "marker": {
             "colorbar": {
              "outlinewidth": 0,
              "ticks": ""
             }
            },
            "type": "scattergl"
           }
          ],
          "scattermapbox": [
           {
            "marker": {
             "colorbar": {
              "outlinewidth": 0,
              "ticks": ""
             }
            },
            "type": "scattermapbox"
           }
          ],
          "scatterpolar": [
           {
            "marker": {
             "colorbar": {
              "outlinewidth": 0,
              "ticks": ""
             }
            },
            "type": "scatterpolar"
           }
          ],
          "scatterpolargl": [
           {
            "marker": {
             "colorbar": {
              "outlinewidth": 0,
              "ticks": ""
             }
            },
            "type": "scatterpolargl"
           }
          ],
          "scatterternary": [
           {
            "marker": {
             "colorbar": {
              "outlinewidth": 0,
              "ticks": ""
             }
            },
            "type": "scatterternary"
           }
          ],
          "surface": [
           {
            "colorbar": {
             "outlinewidth": 0,
             "ticks": ""
            },
            "colorscale": [
             [
              0,
              "#0d0887"
             ],
             [
              0.1111111111111111,
              "#46039f"
             ],
             [
              0.2222222222222222,
              "#7201a8"
             ],
             [
              0.3333333333333333,
              "#9c179e"
             ],
             [
              0.4444444444444444,
              "#bd3786"
             ],
             [
              0.5555555555555556,
              "#d8576b"
             ],
             [
              0.6666666666666666,
              "#ed7953"
             ],
             [
              0.7777777777777778,
              "#fb9f3a"
             ],
             [
              0.8888888888888888,
              "#fdca26"
             ],
             [
              1,
              "#f0f921"
             ]
            ],
            "type": "surface"
           }
          ],
          "table": [
           {
            "cells": {
             "fill": {
              "color": "#EBF0F8"
             },
             "line": {
              "color": "white"
             }
            },
            "header": {
             "fill": {
              "color": "#C8D4E3"
             },
             "line": {
              "color": "white"
             }
            },
            "type": "table"
           }
          ]
         },
         "layout": {
          "annotationdefaults": {
           "arrowcolor": "#2a3f5f",
           "arrowhead": 0,
           "arrowwidth": 1
          },
          "autotypenumbers": "strict",
          "coloraxis": {
           "colorbar": {
            "outlinewidth": 0,
            "ticks": ""
           }
          },
          "colorscale": {
           "diverging": [
            [
             0,
             "#8e0152"
            ],
            [
             0.1,
             "#c51b7d"
            ],
            [
             0.2,
             "#de77ae"
            ],
            [
             0.3,
             "#f1b6da"
            ],
            [
             0.4,
             "#fde0ef"
            ],
            [
             0.5,
             "#f7f7f7"
            ],
            [
             0.6,
             "#e6f5d0"
            ],
            [
             0.7,
             "#b8e186"
            ],
            [
             0.8,
             "#7fbc41"
            ],
            [
             0.9,
             "#4d9221"
            ],
            [
             1,
             "#276419"
            ]
           ],
           "sequential": [
            [
             0,
             "#0d0887"
            ],
            [
             0.1111111111111111,
             "#46039f"
            ],
            [
             0.2222222222222222,
             "#7201a8"
            ],
            [
             0.3333333333333333,
             "#9c179e"
            ],
            [
             0.4444444444444444,
             "#bd3786"
            ],
            [
             0.5555555555555556,
             "#d8576b"
            ],
            [
             0.6666666666666666,
             "#ed7953"
            ],
            [
             0.7777777777777778,
             "#fb9f3a"
            ],
            [
             0.8888888888888888,
             "#fdca26"
            ],
            [
             1,
             "#f0f921"
            ]
           ],
           "sequentialminus": [
            [
             0,
             "#0d0887"
            ],
            [
             0.1111111111111111,
             "#46039f"
            ],
            [
             0.2222222222222222,
             "#7201a8"
            ],
            [
             0.3333333333333333,
             "#9c179e"
            ],
            [
             0.4444444444444444,
             "#bd3786"
            ],
            [
             0.5555555555555556,
             "#d8576b"
            ],
            [
             0.6666666666666666,
             "#ed7953"
            ],
            [
             0.7777777777777778,
             "#fb9f3a"
            ],
            [
             0.8888888888888888,
             "#fdca26"
            ],
            [
             1,
             "#f0f921"
            ]
           ]
          },
          "colorway": [
           "#636efa",
           "#EF553B",
           "#00cc96",
           "#ab63fa",
           "#FFA15A",
           "#19d3f3",
           "#FF6692",
           "#B6E880",
           "#FF97FF",
           "#FECB52"
          ],
          "font": {
           "color": "#2a3f5f"
          },
          "geo": {
           "bgcolor": "white",
           "lakecolor": "white",
           "landcolor": "#E5ECF6",
           "showlakes": true,
           "showland": true,
           "subunitcolor": "white"
          },
          "hoverlabel": {
           "align": "left"
          },
          "hovermode": "closest",
          "mapbox": {
           "style": "light"
          },
          "paper_bgcolor": "white",
          "plot_bgcolor": "#E5ECF6",
          "polar": {
           "angularaxis": {
            "gridcolor": "white",
            "linecolor": "white",
            "ticks": ""
           },
           "bgcolor": "#E5ECF6",
           "radialaxis": {
            "gridcolor": "white",
            "linecolor": "white",
            "ticks": ""
           }
          },
          "scene": {
           "xaxis": {
            "backgroundcolor": "#E5ECF6",
            "gridcolor": "white",
            "gridwidth": 2,
            "linecolor": "white",
            "showbackground": true,
            "ticks": "",
            "zerolinecolor": "white"
           },
           "yaxis": {
            "backgroundcolor": "#E5ECF6",
            "gridcolor": "white",
            "gridwidth": 2,
            "linecolor": "white",
            "showbackground": true,
            "ticks": "",
            "zerolinecolor": "white"
           },
           "zaxis": {
            "backgroundcolor": "#E5ECF6",
            "gridcolor": "white",
            "gridwidth": 2,
            "linecolor": "white",
            "showbackground": true,
            "ticks": "",
            "zerolinecolor": "white"
           }
          },
          "shapedefaults": {
           "line": {
            "color": "#2a3f5f"
           }
          },
          "ternary": {
           "aaxis": {
            "gridcolor": "white",
            "linecolor": "white",
            "ticks": ""
           },
           "baxis": {
            "gridcolor": "white",
            "linecolor": "white",
            "ticks": ""
           },
           "bgcolor": "#E5ECF6",
           "caxis": {
            "gridcolor": "white",
            "linecolor": "white",
            "ticks": ""
           }
          },
          "title": {
           "x": 0.05
          },
          "xaxis": {
           "automargin": true,
           "gridcolor": "white",
           "linecolor": "white",
           "ticks": "",
           "title": {
            "standoff": 15
           },
           "zerolinecolor": "white",
           "zerolinewidth": 2
          },
          "yaxis": {
           "automargin": true,
           "gridcolor": "white",
           "linecolor": "white",
           "ticks": "",
           "title": {
            "standoff": 15
           },
           "zerolinecolor": "white",
           "zerolinewidth": 2
          }
         }
        },
        "title": {
         "text": "Means of PCA Groups"
        },
        "xaxis": {
         "anchor": "y",
         "domain": [
          0,
          1
         ],
         "title": {
          "text": "PC1"
         }
        },
        "yaxis": {
         "anchor": "x",
         "domain": [
          0,
          1
         ],
         "title": {
          "text": "PC2"
         }
        }
       }
      },
      "text/html": [
       "<div>                            <div id=\"96cb21da-24ea-4e57-9e72-7a2d73986b4a\" class=\"plotly-graph-div\" style=\"height:525px; width:100%;\"></div>            <script type=\"text/javascript\">                require([\"plotly\"], function(Plotly) {                    window.PLOTLYENV=window.PLOTLYENV || {};                                    if (document.getElementById(\"96cb21da-24ea-4e57-9e72-7a2d73986b4a\")) {                    Plotly.newPlot(                        \"96cb21da-24ea-4e57-9e72-7a2d73986b4a\",                        [{\"hovertemplate\":\"transferred_newline=first\\u003cbr\\u003ePC1=%{x}\\u003cbr\\u003ePC2=%{y}\\u003cextra\\u003e\\u003c\\u002fextra\\u003e\",\"legendgroup\":\"first\",\"marker\":{\"color\":\"#636efa\",\"symbol\":\"circle\"},\"mode\":\"markers\",\"name\":\"first\",\"orientation\":\"v\",\"showlegend\":true,\"x\":[-0.22164539992809296],\"xaxis\":\"x\",\"y\":[-0.02917024865746498],\"yaxis\":\"y\",\"type\":\"scatter\"},{\"hovertemplate\":\"transferred_newline=last\\u003cbr\\u003ePC1=%{x}\\u003cbr\\u003ePC2=%{y}\\u003cextra\\u003e\\u003c\\u002fextra\\u003e\",\"legendgroup\":\"last\",\"marker\":{\"color\":\"#636efa\",\"symbol\":\"square\"},\"mode\":\"markers\",\"name\":\"last\",\"orientation\":\"v\",\"showlegend\":true,\"x\":[0.0702420026063919],\"xaxis\":\"x\",\"y\":[-0.3486325740814209],\"yaxis\":\"y\",\"type\":\"scatter\"},{\"marker\":{\"color\":\"green\",\"size\":10},\"mode\":\"markers\",\"name\":\"Baseline Generation Mean\",\"x\":[0.5786728858947754],\"y\":[0.05658170208334923],\"type\":\"scatter\"},{\"marker\":{\"color\":\"turquoise\",\"size\":8},\"mode\":\"markers\",\"name\":\"Untransferred Newline Mean\",\"x\":[-0.2590557038784027],\"y\":[0.04726970195770264],\"type\":\"scatter\"}],                        {\"template\":{\"data\":{\"histogram2dcontour\":[{\"type\":\"histogram2dcontour\",\"colorbar\":{\"outlinewidth\":0,\"ticks\":\"\"},\"colorscale\":[[0.0,\"#0d0887\"],[0.1111111111111111,\"#46039f\"],[0.2222222222222222,\"#7201a8\"],[0.3333333333333333,\"#9c179e\"],[0.4444444444444444,\"#bd3786\"],[0.5555555555555556,\"#d8576b\"],[0.6666666666666666,\"#ed7953\"],[0.7777777777777778,\"#fb9f3a\"],[0.8888888888888888,\"#fdca26\"],[1.0,\"#f0f921\"]]}],\"choropleth\":[{\"type\":\"choropleth\",\"colorbar\":{\"outlinewidth\":0,\"ticks\":\"\"}}],\"histogram2d\":[{\"type\":\"histogram2d\",\"colorbar\":{\"outlinewidth\":0,\"ticks\":\"\"},\"colorscale\":[[0.0,\"#0d0887\"],[0.1111111111111111,\"#46039f\"],[0.2222222222222222,\"#7201a8\"],[0.3333333333333333,\"#9c179e\"],[0.4444444444444444,\"#bd3786\"],[0.5555555555555556,\"#d8576b\"],[0.6666666666666666,\"#ed7953\"],[0.7777777777777778,\"#fb9f3a\"],[0.8888888888888888,\"#fdca26\"],[1.0,\"#f0f921\"]]}],\"heatmap\":[{\"type\":\"heatmap\",\"colorbar\":{\"outlinewidth\":0,\"ticks\":\"\"},\"colorscale\":[[0.0,\"#0d0887\"],[0.1111111111111111,\"#46039f\"],[0.2222222222222222,\"#7201a8\"],[0.3333333333333333,\"#9c179e\"],[0.4444444444444444,\"#bd3786\"],[0.5555555555555556,\"#d8576b\"],[0.6666666666666666,\"#ed7953\"],[0.7777777777777778,\"#fb9f3a\"],[0.8888888888888888,\"#fdca26\"],[1.0,\"#f0f921\"]]}],\"heatmapgl\":[{\"type\":\"heatmapgl\",\"colorbar\":{\"outlinewidth\":0,\"ticks\":\"\"},\"colorscale\":[[0.0,\"#0d0887\"],[0.1111111111111111,\"#46039f\"],[0.2222222222222222,\"#7201a8\"],[0.3333333333333333,\"#9c179e\"],[0.4444444444444444,\"#bd3786\"],[0.5555555555555556,\"#d8576b\"],[0.6666666666666666,\"#ed7953\"],[0.7777777777777778,\"#fb9f3a\"],[0.8888888888888888,\"#fdca26\"],[1.0,\"#f0f921\"]]}],\"contourcarpet\":[{\"type\":\"contourcarpet\",\"colorbar\":{\"outlinewidth\":0,\"ticks\":\"\"}}],\"contour\":[{\"type\":\"contour\",\"colorbar\":{\"outlinewidth\":0,\"ticks\":\"\"},\"colorscale\":[[0.0,\"#0d0887\"],[0.1111111111111111,\"#46039f\"],[0.2222222222222222,\"#7201a8\"],[0.3333333333333333,\"#9c179e\"],[0.4444444444444444,\"#bd3786\"],[0.5555555555555556,\"#d8576b\"],[0.6666666666666666,\"#ed7953\"],[0.7777777777777778,\"#fb9f3a\"],[0.8888888888888888,\"#fdca26\"],[1.0,\"#f0f921\"]]}],\"surface\":[{\"type\":\"surface\",\"colorbar\":{\"outlinewidth\":0,\"ticks\":\"\"},\"colorscale\":[[0.0,\"#0d0887\"],[0.1111111111111111,\"#46039f\"],[0.2222222222222222,\"#7201a8\"],[0.3333333333333333,\"#9c179e\"],[0.4444444444444444,\"#bd3786\"],[0.5555555555555556,\"#d8576b\"],[0.6666666666666666,\"#ed7953\"],[0.7777777777777778,\"#fb9f3a\"],[0.8888888888888888,\"#fdca26\"],[1.0,\"#f0f921\"]]}],\"mesh3d\":[{\"type\":\"mesh3d\",\"colorbar\":{\"outlinewidth\":0,\"ticks\":\"\"}}],\"scatter\":[{\"fillpattern\":{\"fillmode\":\"overlay\",\"size\":10,\"solidity\":0.2},\"type\":\"scatter\"}],\"parcoords\":[{\"type\":\"parcoords\",\"line\":{\"colorbar\":{\"outlinewidth\":0,\"ticks\":\"\"}}}],\"scatterpolargl\":[{\"type\":\"scatterpolargl\",\"marker\":{\"colorbar\":{\"outlinewidth\":0,\"ticks\":\"\"}}}],\"bar\":[{\"error_x\":{\"color\":\"#2a3f5f\"},\"error_y\":{\"color\":\"#2a3f5f\"},\"marker\":{\"line\":{\"color\":\"#E5ECF6\",\"width\":0.5},\"pattern\":{\"fillmode\":\"overlay\",\"size\":10,\"solidity\":0.2}},\"type\":\"bar\"}],\"scattergeo\":[{\"type\":\"scattergeo\",\"marker\":{\"colorbar\":{\"outlinewidth\":0,\"ticks\":\"\"}}}],\"scatterpolar\":[{\"type\":\"scatterpolar\",\"marker\":{\"colorbar\":{\"outlinewidth\":0,\"ticks\":\"\"}}}],\"histogram\":[{\"marker\":{\"pattern\":{\"fillmode\":\"overlay\",\"size\":10,\"solidity\":0.2}},\"type\":\"histogram\"}],\"scattergl\":[{\"type\":\"scattergl\",\"marker\":{\"colorbar\":{\"outlinewidth\":0,\"ticks\":\"\"}}}],\"scatter3d\":[{\"type\":\"scatter3d\",\"line\":{\"colorbar\":{\"outlinewidth\":0,\"ticks\":\"\"}},\"marker\":{\"colorbar\":{\"outlinewidth\":0,\"ticks\":\"\"}}}],\"scattermapbox\":[{\"type\":\"scattermapbox\",\"marker\":{\"colorbar\":{\"outlinewidth\":0,\"ticks\":\"\"}}}],\"scatterternary\":[{\"type\":\"scatterternary\",\"marker\":{\"colorbar\":{\"outlinewidth\":0,\"ticks\":\"\"}}}],\"scattercarpet\":[{\"type\":\"scattercarpet\",\"marker\":{\"colorbar\":{\"outlinewidth\":0,\"ticks\":\"\"}}}],\"carpet\":[{\"aaxis\":{\"endlinecolor\":\"#2a3f5f\",\"gridcolor\":\"white\",\"linecolor\":\"white\",\"minorgridcolor\":\"white\",\"startlinecolor\":\"#2a3f5f\"},\"baxis\":{\"endlinecolor\":\"#2a3f5f\",\"gridcolor\":\"white\",\"linecolor\":\"white\",\"minorgridcolor\":\"white\",\"startlinecolor\":\"#2a3f5f\"},\"type\":\"carpet\"}],\"table\":[{\"cells\":{\"fill\":{\"color\":\"#EBF0F8\"},\"line\":{\"color\":\"white\"}},\"header\":{\"fill\":{\"color\":\"#C8D4E3\"},\"line\":{\"color\":\"white\"}},\"type\":\"table\"}],\"barpolar\":[{\"marker\":{\"line\":{\"color\":\"#E5ECF6\",\"width\":0.5},\"pattern\":{\"fillmode\":\"overlay\",\"size\":10,\"solidity\":0.2}},\"type\":\"barpolar\"}],\"pie\":[{\"automargin\":true,\"type\":\"pie\"}]},\"layout\":{\"autotypenumbers\":\"strict\",\"colorway\":[\"#636efa\",\"#EF553B\",\"#00cc96\",\"#ab63fa\",\"#FFA15A\",\"#19d3f3\",\"#FF6692\",\"#B6E880\",\"#FF97FF\",\"#FECB52\"],\"font\":{\"color\":\"#2a3f5f\"},\"hovermode\":\"closest\",\"hoverlabel\":{\"align\":\"left\"},\"paper_bgcolor\":\"white\",\"plot_bgcolor\":\"#E5ECF6\",\"polar\":{\"bgcolor\":\"#E5ECF6\",\"angularaxis\":{\"gridcolor\":\"white\",\"linecolor\":\"white\",\"ticks\":\"\"},\"radialaxis\":{\"gridcolor\":\"white\",\"linecolor\":\"white\",\"ticks\":\"\"}},\"ternary\":{\"bgcolor\":\"#E5ECF6\",\"aaxis\":{\"gridcolor\":\"white\",\"linecolor\":\"white\",\"ticks\":\"\"},\"baxis\":{\"gridcolor\":\"white\",\"linecolor\":\"white\",\"ticks\":\"\"},\"caxis\":{\"gridcolor\":\"white\",\"linecolor\":\"white\",\"ticks\":\"\"}},\"coloraxis\":{\"colorbar\":{\"outlinewidth\":0,\"ticks\":\"\"}},\"colorscale\":{\"sequential\":[[0.0,\"#0d0887\"],[0.1111111111111111,\"#46039f\"],[0.2222222222222222,\"#7201a8\"],[0.3333333333333333,\"#9c179e\"],[0.4444444444444444,\"#bd3786\"],[0.5555555555555556,\"#d8576b\"],[0.6666666666666666,\"#ed7953\"],[0.7777777777777778,\"#fb9f3a\"],[0.8888888888888888,\"#fdca26\"],[1.0,\"#f0f921\"]],\"sequentialminus\":[[0.0,\"#0d0887\"],[0.1111111111111111,\"#46039f\"],[0.2222222222222222,\"#7201a8\"],[0.3333333333333333,\"#9c179e\"],[0.4444444444444444,\"#bd3786\"],[0.5555555555555556,\"#d8576b\"],[0.6666666666666666,\"#ed7953\"],[0.7777777777777778,\"#fb9f3a\"],[0.8888888888888888,\"#fdca26\"],[1.0,\"#f0f921\"]],\"diverging\":[[0,\"#8e0152\"],[0.1,\"#c51b7d\"],[0.2,\"#de77ae\"],[0.3,\"#f1b6da\"],[0.4,\"#fde0ef\"],[0.5,\"#f7f7f7\"],[0.6,\"#e6f5d0\"],[0.7,\"#b8e186\"],[0.8,\"#7fbc41\"],[0.9,\"#4d9221\"],[1,\"#276419\"]]},\"xaxis\":{\"gridcolor\":\"white\",\"linecolor\":\"white\",\"ticks\":\"\",\"title\":{\"standoff\":15},\"zerolinecolor\":\"white\",\"automargin\":true,\"zerolinewidth\":2},\"yaxis\":{\"gridcolor\":\"white\",\"linecolor\":\"white\",\"ticks\":\"\",\"title\":{\"standoff\":15},\"zerolinecolor\":\"white\",\"automargin\":true,\"zerolinewidth\":2},\"scene\":{\"xaxis\":{\"backgroundcolor\":\"#E5ECF6\",\"gridcolor\":\"white\",\"linecolor\":\"white\",\"showbackground\":true,\"ticks\":\"\",\"zerolinecolor\":\"white\",\"gridwidth\":2},\"yaxis\":{\"backgroundcolor\":\"#E5ECF6\",\"gridcolor\":\"white\",\"linecolor\":\"white\",\"showbackground\":true,\"ticks\":\"\",\"zerolinecolor\":\"white\",\"gridwidth\":2},\"zaxis\":{\"backgroundcolor\":\"#E5ECF6\",\"gridcolor\":\"white\",\"linecolor\":\"white\",\"showbackground\":true,\"ticks\":\"\",\"zerolinecolor\":\"white\",\"gridwidth\":2}},\"shapedefaults\":{\"line\":{\"color\":\"#2a3f5f\"}},\"annotationdefaults\":{\"arrowcolor\":\"#2a3f5f\",\"arrowhead\":0,\"arrowwidth\":1},\"geo\":{\"bgcolor\":\"white\",\"landcolor\":\"#E5ECF6\",\"subunitcolor\":\"white\",\"showland\":true,\"showlakes\":true,\"lakecolor\":\"white\"},\"title\":{\"x\":0.05},\"mapbox\":{\"style\":\"light\"}}},\"xaxis\":{\"anchor\":\"y\",\"domain\":[0.0,1.0],\"title\":{\"text\":\"PC1\"}},\"yaxis\":{\"anchor\":\"x\",\"domain\":[0.0,1.0],\"title\":{\"text\":\"PC2\"}},\"legend\":{\"title\":{\"text\":\"transferred_newline\"},\"tracegroupgap\":0},\"title\":{\"text\":\"Means of PCA Groups\"},\"coloraxis\":{\"colorbar\":{\"yanchor\":\"top\",\"y\":1,\"x\":100,\"xref\":\"container\"}}},                        {\"responsive\": true}                    ).then(function(){\n",
       "                            \n",
       "var gd = document.getElementById('96cb21da-24ea-4e57-9e72-7a2d73986b4a');\n",
       "var x = new MutationObserver(function (mutations, observer) {{\n",
       "        var display = window.getComputedStyle(gd).display;\n",
       "        if (!display || display === 'none') {{\n",
       "            console.log([gd, 'removed!']);\n",
       "            Plotly.purge(gd);\n",
       "            observer.disconnect();\n",
       "        }}\n",
       "}});\n",
       "\n",
       "// Listen for the removal of the full notebook cells\n",
       "var notebookContainer = gd.closest('#notebook-container');\n",
       "if (notebookContainer) {{\n",
       "    x.observe(notebookContainer, {childList: true});\n",
       "}}\n",
       "\n",
       "// Listen for the clearing of the current output cell\n",
       "var outputEl = gd.closest('.output');\n",
       "if (outputEl) {{\n",
       "    x.observe(outputEl, {childList: true});\n",
       "}}\n",
       "\n",
       "                        })                };                });            </script>        </div>"
      ]
     },
     "metadata": {},
     "output_type": "display_data"
    }
   ],
   "source": [
    "pca_df = pd.DataFrame(embeddings_reduced, columns=['PC1', 'PC2'])\n",
    "print(pca_df.head())\n",
    "pca_df['transferred_newline'] = results_df['transferred_newline']\n",
    "\n",
    "mean_pca_df = pca_df.groupby([\"transferred_newline\"]).mean().reset_index()\n",
    "print(mean_pca_df.head())\n",
    "\n",
    "# fig.add_trace(px.scatter(mean_pca_df, x='PC1', y='PC2', color='temperature', symbol='layers_string', \n",
    "#                          title='Means of PCA Groups').data[0]):\n",
    "mean_pca_df['type'] = 'Mean'\n",
    "pca_df['type'] = 'Original'\n",
    "combined_df = pd.concat([pca_df, mean_pca_df], ignore_index=True)\n",
    "# fig = px.scatter(combined_df, x='PC1', y='PC2', color='temperature', symbol='layers_string', title='PCA of Sentence Embeddings')\n",
    "\n",
    "# Plot mean points\n",
    "mean_fig = px.scatter(mean_pca_df, x='PC1', y='PC2', symbol='transferred_newline', title='Means of PCA Groups', symbol_sequence = ['circle', 'square', 'diamond', 'cross', 'x', 'triangle-up', 'pentagon', 'hexagon', 'octagon', 'star'])\n",
    "    \n",
    "mean_fig.add_trace(go.Scatter(x=[baseline_mean_x], y=[baseline_mean_y], mode='markers', marker=dict(color='green', size=10), name='Baseline Generation Mean'))\n",
    "\n",
    "mean_fig.add_trace(go.Scatter(x=[neutral_mean_x], y=[neutral_mean_y], mode='markers', marker=dict(color='turquoise', size=8), name='Untransferred Newline Mean'))\n",
    "fig.data=[fig.data[3], fig.data[2], fig.data[1], fig.data[0]]\n",
    "\n",
    "mean_fig.update_layout(coloraxis_colorbar=dict(yanchor=\"top\", y=1, x=100, xref=\"container\"))\n",
    "\n",
    "\n",
    "mean_fig.show()"
   ]
  }
 ],
 "metadata": {
  "kernelspec": {
   "display_name": ".venv",
   "language": "python",
   "name": "python3"
  },
  "language_info": {
   "codemirror_mode": {
    "name": "ipython",
    "version": 3
   },
   "file_extension": ".py",
   "mimetype": "text/x-python",
   "name": "python",
   "nbconvert_exporter": "python",
   "pygments_lexer": "ipython3",
   "version": "3.10.14"
  }
 },
 "nbformat": 4,
 "nbformat_minor": 2
}
